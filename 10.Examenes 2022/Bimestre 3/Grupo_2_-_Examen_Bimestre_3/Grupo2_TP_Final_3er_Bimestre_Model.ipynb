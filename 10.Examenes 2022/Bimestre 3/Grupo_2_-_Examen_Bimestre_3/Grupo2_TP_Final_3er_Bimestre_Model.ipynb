{
  "cells": [
    {
      "cell_type": "markdown",
      "metadata": {
        "id": "aef9f3aa"
      },
      "source": [
        "# Exámen Diplomatura Ciencia de Datos 3º Bimestre\n",
        "\n",
        "Este tercer notebook contiene el código usando el df_final usado para el preprocesamiento y modelado de los datos, y entrega un CSV con la predicción del mes 04."
      ],
      "id": "aef9f3aa"
    },
    {
      "cell_type": "markdown",
      "metadata": {
        "id": "00a5072d"
      },
      "source": [
        "## Datos del Grupo (Ingrese los datos de los miembros del grupo)\n",
        "\n",
        "Nombre y Apellido | LU\n",
        "------------------|---\n",
        "CROMBERG JAVIER EUGENIO | 1153099\n",
        "CRUZ PINEDA FABIAN | 1099002\n",
        "GARCIA CAROLINA | 1157796\n",
        "GIULIANO AUGUSTO | 1157378\n",
        "INZA ROBERTO | 1151488\n",
        "URRACO EZEQUIEL| 1159531\n",
        "\n",
        "---\n",
        "\n"
      ],
      "id": "00a5072d"
    },
    {
      "cell_type": "markdown",
      "metadata": {
        "id": "deec8a40"
      },
      "source": [
        "# 3. Preparación de los Datos para su uso\n",
        "\n",
        "\n",
        "## 3.1 Librerias"
      ],
      "id": "deec8a40"
    },
    {
      "cell_type": "code",
      "execution_count": 1,
      "metadata": {
        "colab": {
          "base_uri": "https://localhost:8080/"
        },
        "id": "xxbaGSmXbCs9",
        "outputId": "36a898a4-c32a-4418-f7dc-f486dc2bd7b0"
      },
      "outputs": [
        {
          "output_type": "stream",
          "name": "stdout",
          "text": [
            "Looking in indexes: https://pypi.org/simple, https://us-python.pkg.dev/colab-wheels/public/simple/\n",
            "Collecting category_encoders\n",
            "  Downloading category_encoders-2.5.0-py2.py3-none-any.whl (69 kB)\n",
            "\u001b[K     |████████████████████████████████| 69 kB 4.6 MB/s \n",
            "\u001b[?25hRequirement already satisfied: numpy>=1.14.0 in /usr/local/lib/python3.7/dist-packages (from category_encoders) (1.21.6)\n",
            "Requirement already satisfied: scikit-learn>=0.20.0 in /usr/local/lib/python3.7/dist-packages (from category_encoders) (1.0.2)\n",
            "Requirement already satisfied: statsmodels>=0.9.0 in /usr/local/lib/python3.7/dist-packages (from category_encoders) (0.12.2)\n",
            "Requirement already satisfied: patsy>=0.5.1 in /usr/local/lib/python3.7/dist-packages (from category_encoders) (0.5.2)\n",
            "Requirement already satisfied: pandas>=1.0.5 in /usr/local/lib/python3.7/dist-packages (from category_encoders) (1.3.5)\n",
            "Requirement already satisfied: scipy>=1.0.0 in /usr/local/lib/python3.7/dist-packages (from category_encoders) (1.7.3)\n",
            "Requirement already satisfied: pytz>=2017.3 in /usr/local/lib/python3.7/dist-packages (from pandas>=1.0.5->category_encoders) (2022.2.1)\n",
            "Requirement already satisfied: python-dateutil>=2.7.3 in /usr/local/lib/python3.7/dist-packages (from pandas>=1.0.5->category_encoders) (2.8.2)\n",
            "Requirement already satisfied: six in /usr/local/lib/python3.7/dist-packages (from patsy>=0.5.1->category_encoders) (1.15.0)\n",
            "Requirement already satisfied: joblib>=0.11 in /usr/local/lib/python3.7/dist-packages (from scikit-learn>=0.20.0->category_encoders) (1.1.0)\n",
            "Requirement already satisfied: threadpoolctl>=2.0.0 in /usr/local/lib/python3.7/dist-packages (from scikit-learn>=0.20.0->category_encoders) (3.1.0)\n",
            "Installing collected packages: category-encoders\n",
            "Successfully installed category-encoders-2.5.0\n"
          ]
        }
      ],
      "source": [
        "!pip3 install category_encoders"
      ],
      "id": "xxbaGSmXbCs9"
    },
    {
      "cell_type": "code",
      "execution_count": 2,
      "metadata": {
        "id": "dde6160c"
      },
      "outputs": [],
      "source": [
        "from datetime import datetime\n",
        "inicial_date = datetime.now()\n",
        "\n",
        "# Librerias básicas\n",
        "import pandas as pd\n",
        "import numpy as np\n",
        "from scipy.stats import iqr\n",
        "from collections import Counter\n",
        "\n",
        "# Libreria de visiaulización\n",
        "import matplotlib.pyplot as plt\n",
        "import seaborn as sns\n",
        "import plotly.express as px\n",
        "import seaborn as sns\n",
        "from matplotlib.colors import ListedColormap\n",
        "\n",
        "# Asociadas con la creacion del modelo\n",
        "from sklearn import preprocessing\n",
        "from sklearn.preprocessing import MinMaxScaler,StandardScaler, LabelEncoder, OneHotEncoder\n",
        "from sklearn.model_selection import cross_val_predict, cross_val_score, train_test_split, KFold,GridSearchCV\n",
        "from sklearn.metrics import precision_recall_curve, accuracy_score,roc_auc_score, auc, roc_curve, confusion_matrix, ConfusionMatrixDisplay, classification_report,precision_score,recall_score,RocCurveDisplay, log_loss #get_scorer_names\n",
        "from sklearn.model_selection import RepeatedStratifiedKFold\n",
        "from sklearn.feature_selection import SelectKBest, SelectPercentile, RFE, chi2, f_classif, f_regression\n",
        "import category_encoders as ce\n",
        "\n",
        "# Modelos / Algoritmos\n",
        "from sklearn.linear_model import LogisticRegression\n",
        "from sklearn.neighbors import KNeighborsClassifier\n",
        "from sklearn.ensemble import RandomForestClassifier,AdaBoostClassifier,StackingClassifier,VotingClassifier,BaggingClassifier\n",
        "from sklearn.naive_bayes import GaussianNB, BernoulliNB\n",
        "from xgboost import XGBClassifier\n",
        "from sklearn.tree import DecisionTreeClassifier\n",
        "from sklearn.svm import SVC\n",
        "\n",
        "# Librerías para Análisis Estadístico\n",
        "from scipy import stats\n",
        "import statsmodels.stats as sm\n",
        "import statsmodels.api as sma\n",
        "from statsmodels.graphics.gofplots import qqplot\n",
        "from scipy.stats import fisher_exact, chi2_contingency\n"
      ],
      "id": "dde6160c"
    },
    {
      "cell_type": "code",
      "execution_count": 3,
      "metadata": {
        "colab": {
          "base_uri": "https://localhost:8080/"
        },
        "id": "t97wJ9TfbSp6",
        "outputId": "252fb209-0e86-4a73-ef1e-ba06725ab066"
      },
      "outputs": [
        {
          "output_type": "stream",
          "name": "stdout",
          "text": [
            "Mounted at /content/drive\n"
          ]
        }
      ],
      "source": [
        "# Para ingresar a traves de colab\n",
        "\n",
        "from google.colab import drive\n",
        "drive.mount('/content/drive')\n",
        "\n",
        "url = \"/content/drive/My Drive/DataScience/Banco/banco_to_model.csv\"\n",
        "df_final = pd.read_csv(url, low_memory = False, index_col = 0)"
      ],
      "id": "t97wJ9TfbSp6"
    },
    {
      "cell_type": "code",
      "execution_count": 4,
      "metadata": {
        "id": "71758f3d"
      },
      "outputs": [],
      "source": [
        "#df_final = pd.read_csv('banco_to_model.csv', index_col = 0)#, low_memory = False)"
      ],
      "id": "71758f3d"
    },
    {
      "cell_type": "code",
      "execution_count": 5,
      "metadata": {
        "colab": {
          "base_uri": "https://localhost:8080/"
        },
        "id": "a53d73f2",
        "outputId": "4e97ee39-6891-4055-876e-b110d2f60687"
      },
      "outputs": [
        {
          "output_type": "execute_result",
          "data": {
            "text/plain": [
              "(549859, 88)"
            ]
          },
          "metadata": {},
          "execution_count": 5
        }
      ],
      "source": [
        "df_final.shape"
      ],
      "id": "a53d73f2"
    },
    {
      "cell_type": "code",
      "execution_count": 6,
      "metadata": {
        "colab": {
          "base_uri": "https://localhost:8080/",
          "height": 300
        },
        "id": "7a917c07",
        "outputId": "59e7e88e-eb4b-4d4d-8445-61a5d9b84717"
      },
      "outputs": [
        {
          "output_type": "execute_result",
          "data": {
            "text/plain": [
              "   mrentabilidad  mrentabilidad_annual  mcomisiones  mactivos_margen  \\\n",
              "0           0.00               9669.42         0.00             0.00   \n",
              "1         229.62               9681.11       761.61          -519.61   \n",
              "2         -83.11               8931.04       395.03          -482.88   \n",
              "3           0.00               4107.16         0.00             0.00   \n",
              "4         316.04               4515.55       231.05            52.40   \n",
              "\n",
              "   mpasivos_margen  mcaja_ahorro_dolares  mcuentas_saldo  mautoservicio  \\\n",
              "0             0.00                   0.0         1214.93            0.0   \n",
              "1            64.92                   0.0          965.42            0.0   \n",
              "2            74.20                   0.0          800.80            0.0   \n",
              "3             0.00                   0.0         1061.04            0.0   \n",
              "4            20.24                   0.0           30.33            0.0   \n",
              "\n",
              "   mplan_sueldo  mextraccion_autoservicio  ...  tcuenta  trenta  tseguro  \\\n",
              "0           0.0                       0.0  ...        1       0        0   \n",
              "1           0.0                       0.0  ...        1       0        0   \n",
              "2           0.0                       0.0  ...        1       0        0   \n",
              "3           0.0                       0.0  ...        1       0        0   \n",
              "4           0.0                       0.0  ...        1       0        0   \n",
              "\n",
              "   tdebitos_automaticos  tdescuento  ttransacciones  tcajas_total  \\\n",
              "0                     1           1               0             1   \n",
              "1                     1           0               1             1   \n",
              "2                     1           1               1             1   \n",
              "3                     1           0               0             0   \n",
              "4                     1           0               0             0   \n",
              "\n",
              "   tcajero_transaccion  ttarjeta_visa_master  target_bin  \n",
              "0                    0                     1           0  \n",
              "1                    0                     1           0  \n",
              "2                    0                     1           0  \n",
              "3                    0                     1           0  \n",
              "4                    0                     1           0  \n",
              "\n",
              "[5 rows x 88 columns]"
            ],
            "text/html": [
              "\n",
              "  <div id=\"df-b408a1d8-25c4-49d9-9985-3c2bdb8d395d\">\n",
              "    <div class=\"colab-df-container\">\n",
              "      <div>\n",
              "<style scoped>\n",
              "    .dataframe tbody tr th:only-of-type {\n",
              "        vertical-align: middle;\n",
              "    }\n",
              "\n",
              "    .dataframe tbody tr th {\n",
              "        vertical-align: top;\n",
              "    }\n",
              "\n",
              "    .dataframe thead th {\n",
              "        text-align: right;\n",
              "    }\n",
              "</style>\n",
              "<table border=\"1\" class=\"dataframe\">\n",
              "  <thead>\n",
              "    <tr style=\"text-align: right;\">\n",
              "      <th></th>\n",
              "      <th>mrentabilidad</th>\n",
              "      <th>mrentabilidad_annual</th>\n",
              "      <th>mcomisiones</th>\n",
              "      <th>mactivos_margen</th>\n",
              "      <th>mpasivos_margen</th>\n",
              "      <th>mcaja_ahorro_dolares</th>\n",
              "      <th>mcuentas_saldo</th>\n",
              "      <th>mautoservicio</th>\n",
              "      <th>mplan_sueldo</th>\n",
              "      <th>mextraccion_autoservicio</th>\n",
              "      <th>...</th>\n",
              "      <th>tcuenta</th>\n",
              "      <th>trenta</th>\n",
              "      <th>tseguro</th>\n",
              "      <th>tdebitos_automaticos</th>\n",
              "      <th>tdescuento</th>\n",
              "      <th>ttransacciones</th>\n",
              "      <th>tcajas_total</th>\n",
              "      <th>tcajero_transaccion</th>\n",
              "      <th>ttarjeta_visa_master</th>\n",
              "      <th>target_bin</th>\n",
              "    </tr>\n",
              "  </thead>\n",
              "  <tbody>\n",
              "    <tr>\n",
              "      <th>0</th>\n",
              "      <td>0.00</td>\n",
              "      <td>9669.42</td>\n",
              "      <td>0.00</td>\n",
              "      <td>0.00</td>\n",
              "      <td>0.00</td>\n",
              "      <td>0.0</td>\n",
              "      <td>1214.93</td>\n",
              "      <td>0.0</td>\n",
              "      <td>0.0</td>\n",
              "      <td>0.0</td>\n",
              "      <td>...</td>\n",
              "      <td>1</td>\n",
              "      <td>0</td>\n",
              "      <td>0</td>\n",
              "      <td>1</td>\n",
              "      <td>1</td>\n",
              "      <td>0</td>\n",
              "      <td>1</td>\n",
              "      <td>0</td>\n",
              "      <td>1</td>\n",
              "      <td>0</td>\n",
              "    </tr>\n",
              "    <tr>\n",
              "      <th>1</th>\n",
              "      <td>229.62</td>\n",
              "      <td>9681.11</td>\n",
              "      <td>761.61</td>\n",
              "      <td>-519.61</td>\n",
              "      <td>64.92</td>\n",
              "      <td>0.0</td>\n",
              "      <td>965.42</td>\n",
              "      <td>0.0</td>\n",
              "      <td>0.0</td>\n",
              "      <td>0.0</td>\n",
              "      <td>...</td>\n",
              "      <td>1</td>\n",
              "      <td>0</td>\n",
              "      <td>0</td>\n",
              "      <td>1</td>\n",
              "      <td>0</td>\n",
              "      <td>1</td>\n",
              "      <td>1</td>\n",
              "      <td>0</td>\n",
              "      <td>1</td>\n",
              "      <td>0</td>\n",
              "    </tr>\n",
              "    <tr>\n",
              "      <th>2</th>\n",
              "      <td>-83.11</td>\n",
              "      <td>8931.04</td>\n",
              "      <td>395.03</td>\n",
              "      <td>-482.88</td>\n",
              "      <td>74.20</td>\n",
              "      <td>0.0</td>\n",
              "      <td>800.80</td>\n",
              "      <td>0.0</td>\n",
              "      <td>0.0</td>\n",
              "      <td>0.0</td>\n",
              "      <td>...</td>\n",
              "      <td>1</td>\n",
              "      <td>0</td>\n",
              "      <td>0</td>\n",
              "      <td>1</td>\n",
              "      <td>1</td>\n",
              "      <td>1</td>\n",
              "      <td>1</td>\n",
              "      <td>0</td>\n",
              "      <td>1</td>\n",
              "      <td>0</td>\n",
              "    </tr>\n",
              "    <tr>\n",
              "      <th>3</th>\n",
              "      <td>0.00</td>\n",
              "      <td>4107.16</td>\n",
              "      <td>0.00</td>\n",
              "      <td>0.00</td>\n",
              "      <td>0.00</td>\n",
              "      <td>0.0</td>\n",
              "      <td>1061.04</td>\n",
              "      <td>0.0</td>\n",
              "      <td>0.0</td>\n",
              "      <td>0.0</td>\n",
              "      <td>...</td>\n",
              "      <td>1</td>\n",
              "      <td>0</td>\n",
              "      <td>0</td>\n",
              "      <td>1</td>\n",
              "      <td>0</td>\n",
              "      <td>0</td>\n",
              "      <td>0</td>\n",
              "      <td>0</td>\n",
              "      <td>1</td>\n",
              "      <td>0</td>\n",
              "    </tr>\n",
              "    <tr>\n",
              "      <th>4</th>\n",
              "      <td>316.04</td>\n",
              "      <td>4515.55</td>\n",
              "      <td>231.05</td>\n",
              "      <td>52.40</td>\n",
              "      <td>20.24</td>\n",
              "      <td>0.0</td>\n",
              "      <td>30.33</td>\n",
              "      <td>0.0</td>\n",
              "      <td>0.0</td>\n",
              "      <td>0.0</td>\n",
              "      <td>...</td>\n",
              "      <td>1</td>\n",
              "      <td>0</td>\n",
              "      <td>0</td>\n",
              "      <td>1</td>\n",
              "      <td>0</td>\n",
              "      <td>0</td>\n",
              "      <td>0</td>\n",
              "      <td>0</td>\n",
              "      <td>1</td>\n",
              "      <td>0</td>\n",
              "    </tr>\n",
              "  </tbody>\n",
              "</table>\n",
              "<p>5 rows × 88 columns</p>\n",
              "</div>\n",
              "      <button class=\"colab-df-convert\" onclick=\"convertToInteractive('df-b408a1d8-25c4-49d9-9985-3c2bdb8d395d')\"\n",
              "              title=\"Convert this dataframe to an interactive table.\"\n",
              "              style=\"display:none;\">\n",
              "        \n",
              "  <svg xmlns=\"http://www.w3.org/2000/svg\" height=\"24px\"viewBox=\"0 0 24 24\"\n",
              "       width=\"24px\">\n",
              "    <path d=\"M0 0h24v24H0V0z\" fill=\"none\"/>\n",
              "    <path d=\"M18.56 5.44l.94 2.06.94-2.06 2.06-.94-2.06-.94-.94-2.06-.94 2.06-2.06.94zm-11 1L8.5 8.5l.94-2.06 2.06-.94-2.06-.94L8.5 2.5l-.94 2.06-2.06.94zm10 10l.94 2.06.94-2.06 2.06-.94-2.06-.94-.94-2.06-.94 2.06-2.06.94z\"/><path d=\"M17.41 7.96l-1.37-1.37c-.4-.4-.92-.59-1.43-.59-.52 0-1.04.2-1.43.59L10.3 9.45l-7.72 7.72c-.78.78-.78 2.05 0 2.83L4 21.41c.39.39.9.59 1.41.59.51 0 1.02-.2 1.41-.59l7.78-7.78 2.81-2.81c.8-.78.8-2.07 0-2.86zM5.41 20L4 18.59l7.72-7.72 1.47 1.35L5.41 20z\"/>\n",
              "  </svg>\n",
              "      </button>\n",
              "      \n",
              "  <style>\n",
              "    .colab-df-container {\n",
              "      display:flex;\n",
              "      flex-wrap:wrap;\n",
              "      gap: 12px;\n",
              "    }\n",
              "\n",
              "    .colab-df-convert {\n",
              "      background-color: #E8F0FE;\n",
              "      border: none;\n",
              "      border-radius: 50%;\n",
              "      cursor: pointer;\n",
              "      display: none;\n",
              "      fill: #1967D2;\n",
              "      height: 32px;\n",
              "      padding: 0 0 0 0;\n",
              "      width: 32px;\n",
              "    }\n",
              "\n",
              "    .colab-df-convert:hover {\n",
              "      background-color: #E2EBFA;\n",
              "      box-shadow: 0px 1px 2px rgba(60, 64, 67, 0.3), 0px 1px 3px 1px rgba(60, 64, 67, 0.15);\n",
              "      fill: #174EA6;\n",
              "    }\n",
              "\n",
              "    [theme=dark] .colab-df-convert {\n",
              "      background-color: #3B4455;\n",
              "      fill: #D2E3FC;\n",
              "    }\n",
              "\n",
              "    [theme=dark] .colab-df-convert:hover {\n",
              "      background-color: #434B5C;\n",
              "      box-shadow: 0px 1px 3px 1px rgba(0, 0, 0, 0.15);\n",
              "      filter: drop-shadow(0px 1px 2px rgba(0, 0, 0, 0.3));\n",
              "      fill: #FFFFFF;\n",
              "    }\n",
              "  </style>\n",
              "\n",
              "      <script>\n",
              "        const buttonEl =\n",
              "          document.querySelector('#df-b408a1d8-25c4-49d9-9985-3c2bdb8d395d button.colab-df-convert');\n",
              "        buttonEl.style.display =\n",
              "          google.colab.kernel.accessAllowed ? 'block' : 'none';\n",
              "\n",
              "        async function convertToInteractive(key) {\n",
              "          const element = document.querySelector('#df-b408a1d8-25c4-49d9-9985-3c2bdb8d395d');\n",
              "          const dataTable =\n",
              "            await google.colab.kernel.invokeFunction('convertToInteractive',\n",
              "                                                     [key], {});\n",
              "          if (!dataTable) return;\n",
              "\n",
              "          const docLinkHtml = 'Like what you see? Visit the ' +\n",
              "            '<a target=\"_blank\" href=https://colab.research.google.com/notebooks/data_table.ipynb>data table notebook</a>'\n",
              "            + ' to learn more about interactive tables.';\n",
              "          element.innerHTML = '';\n",
              "          dataTable['output_type'] = 'display_data';\n",
              "          await google.colab.output.renderOutput(dataTable, element);\n",
              "          const docLink = document.createElement('div');\n",
              "          docLink.innerHTML = docLinkHtml;\n",
              "          element.appendChild(docLink);\n",
              "        }\n",
              "      </script>\n",
              "    </div>\n",
              "  </div>\n",
              "  "
            ]
          },
          "metadata": {},
          "execution_count": 6
        }
      ],
      "source": [
        "df_final.head()"
      ],
      "id": "7a917c07"
    },
    {
      "cell_type": "markdown",
      "metadata": {
        "id": "b3d1701f"
      },
      "source": [
        "# 4. Definimos los datos de la matriz X y del vector y\n",
        "## a. Creamos X e y"
      ],
      "id": "b3d1701f"
    },
    {
      "cell_type": "code",
      "execution_count": 7,
      "metadata": {
        "id": "6e2202de"
      },
      "outputs": [],
      "source": [
        "X = df_final.drop([\"target_bin\"], axis = 1)\n",
        "\n",
        "y = df_final[\"target_bin\"]"
      ],
      "id": "6e2202de"
    },
    {
      "cell_type": "code",
      "execution_count": 8,
      "metadata": {
        "colab": {
          "base_uri": "https://localhost:8080/",
          "height": 300
        },
        "id": "b459e2e4",
        "outputId": "8520ad92-a408-4662-cc06-2b72790e4e49"
      },
      "outputs": [
        {
          "output_type": "execute_result",
          "data": {
            "text/plain": [
              "   mrentabilidad  mrentabilidad_annual  mcomisiones  mactivos_margen  \\\n",
              "0           0.00               9669.42         0.00             0.00   \n",
              "1         229.62               9681.11       761.61          -519.61   \n",
              "2         -83.11               8931.04       395.03          -482.88   \n",
              "3           0.00               4107.16         0.00             0.00   \n",
              "4         316.04               4515.55       231.05            52.40   \n",
              "\n",
              "   mpasivos_margen  mcaja_ahorro_dolares  mcuentas_saldo  mautoservicio  \\\n",
              "0             0.00                   0.0         1214.93            0.0   \n",
              "1            64.92                   0.0          965.42            0.0   \n",
              "2            74.20                   0.0          800.80            0.0   \n",
              "3             0.00                   0.0         1061.04            0.0   \n",
              "4            20.24                   0.0           30.33            0.0   \n",
              "\n",
              "   mplan_sueldo  mextraccion_autoservicio  ...  tpaquete  tcuenta  trenta  \\\n",
              "0           0.0                       0.0  ...         0        1       0   \n",
              "1           0.0                       0.0  ...         0        1       0   \n",
              "2           0.0                       0.0  ...         0        1       0   \n",
              "3           0.0                       0.0  ...         0        1       0   \n",
              "4           0.0                       0.0  ...         0        1       0   \n",
              "\n",
              "   tseguro  tdebitos_automaticos  tdescuento  ttransacciones  tcajas_total  \\\n",
              "0        0                     1           1               0             1   \n",
              "1        0                     1           0               1             1   \n",
              "2        0                     1           1               1             1   \n",
              "3        0                     1           0               0             0   \n",
              "4        0                     1           0               0             0   \n",
              "\n",
              "   tcajero_transaccion  ttarjeta_visa_master  \n",
              "0                    0                     1  \n",
              "1                    0                     1  \n",
              "2                    0                     1  \n",
              "3                    0                     1  \n",
              "4                    0                     1  \n",
              "\n",
              "[5 rows x 87 columns]"
            ],
            "text/html": [
              "\n",
              "  <div id=\"df-c549f351-74c4-4513-a159-a60bc52f274f\">\n",
              "    <div class=\"colab-df-container\">\n",
              "      <div>\n",
              "<style scoped>\n",
              "    .dataframe tbody tr th:only-of-type {\n",
              "        vertical-align: middle;\n",
              "    }\n",
              "\n",
              "    .dataframe tbody tr th {\n",
              "        vertical-align: top;\n",
              "    }\n",
              "\n",
              "    .dataframe thead th {\n",
              "        text-align: right;\n",
              "    }\n",
              "</style>\n",
              "<table border=\"1\" class=\"dataframe\">\n",
              "  <thead>\n",
              "    <tr style=\"text-align: right;\">\n",
              "      <th></th>\n",
              "      <th>mrentabilidad</th>\n",
              "      <th>mrentabilidad_annual</th>\n",
              "      <th>mcomisiones</th>\n",
              "      <th>mactivos_margen</th>\n",
              "      <th>mpasivos_margen</th>\n",
              "      <th>mcaja_ahorro_dolares</th>\n",
              "      <th>mcuentas_saldo</th>\n",
              "      <th>mautoservicio</th>\n",
              "      <th>mplan_sueldo</th>\n",
              "      <th>mextraccion_autoservicio</th>\n",
              "      <th>...</th>\n",
              "      <th>tpaquete</th>\n",
              "      <th>tcuenta</th>\n",
              "      <th>trenta</th>\n",
              "      <th>tseguro</th>\n",
              "      <th>tdebitos_automaticos</th>\n",
              "      <th>tdescuento</th>\n",
              "      <th>ttransacciones</th>\n",
              "      <th>tcajas_total</th>\n",
              "      <th>tcajero_transaccion</th>\n",
              "      <th>ttarjeta_visa_master</th>\n",
              "    </tr>\n",
              "  </thead>\n",
              "  <tbody>\n",
              "    <tr>\n",
              "      <th>0</th>\n",
              "      <td>0.00</td>\n",
              "      <td>9669.42</td>\n",
              "      <td>0.00</td>\n",
              "      <td>0.00</td>\n",
              "      <td>0.00</td>\n",
              "      <td>0.0</td>\n",
              "      <td>1214.93</td>\n",
              "      <td>0.0</td>\n",
              "      <td>0.0</td>\n",
              "      <td>0.0</td>\n",
              "      <td>...</td>\n",
              "      <td>0</td>\n",
              "      <td>1</td>\n",
              "      <td>0</td>\n",
              "      <td>0</td>\n",
              "      <td>1</td>\n",
              "      <td>1</td>\n",
              "      <td>0</td>\n",
              "      <td>1</td>\n",
              "      <td>0</td>\n",
              "      <td>1</td>\n",
              "    </tr>\n",
              "    <tr>\n",
              "      <th>1</th>\n",
              "      <td>229.62</td>\n",
              "      <td>9681.11</td>\n",
              "      <td>761.61</td>\n",
              "      <td>-519.61</td>\n",
              "      <td>64.92</td>\n",
              "      <td>0.0</td>\n",
              "      <td>965.42</td>\n",
              "      <td>0.0</td>\n",
              "      <td>0.0</td>\n",
              "      <td>0.0</td>\n",
              "      <td>...</td>\n",
              "      <td>0</td>\n",
              "      <td>1</td>\n",
              "      <td>0</td>\n",
              "      <td>0</td>\n",
              "      <td>1</td>\n",
              "      <td>0</td>\n",
              "      <td>1</td>\n",
              "      <td>1</td>\n",
              "      <td>0</td>\n",
              "      <td>1</td>\n",
              "    </tr>\n",
              "    <tr>\n",
              "      <th>2</th>\n",
              "      <td>-83.11</td>\n",
              "      <td>8931.04</td>\n",
              "      <td>395.03</td>\n",
              "      <td>-482.88</td>\n",
              "      <td>74.20</td>\n",
              "      <td>0.0</td>\n",
              "      <td>800.80</td>\n",
              "      <td>0.0</td>\n",
              "      <td>0.0</td>\n",
              "      <td>0.0</td>\n",
              "      <td>...</td>\n",
              "      <td>0</td>\n",
              "      <td>1</td>\n",
              "      <td>0</td>\n",
              "      <td>0</td>\n",
              "      <td>1</td>\n",
              "      <td>1</td>\n",
              "      <td>1</td>\n",
              "      <td>1</td>\n",
              "      <td>0</td>\n",
              "      <td>1</td>\n",
              "    </tr>\n",
              "    <tr>\n",
              "      <th>3</th>\n",
              "      <td>0.00</td>\n",
              "      <td>4107.16</td>\n",
              "      <td>0.00</td>\n",
              "      <td>0.00</td>\n",
              "      <td>0.00</td>\n",
              "      <td>0.0</td>\n",
              "      <td>1061.04</td>\n",
              "      <td>0.0</td>\n",
              "      <td>0.0</td>\n",
              "      <td>0.0</td>\n",
              "      <td>...</td>\n",
              "      <td>0</td>\n",
              "      <td>1</td>\n",
              "      <td>0</td>\n",
              "      <td>0</td>\n",
              "      <td>1</td>\n",
              "      <td>0</td>\n",
              "      <td>0</td>\n",
              "      <td>0</td>\n",
              "      <td>0</td>\n",
              "      <td>1</td>\n",
              "    </tr>\n",
              "    <tr>\n",
              "      <th>4</th>\n",
              "      <td>316.04</td>\n",
              "      <td>4515.55</td>\n",
              "      <td>231.05</td>\n",
              "      <td>52.40</td>\n",
              "      <td>20.24</td>\n",
              "      <td>0.0</td>\n",
              "      <td>30.33</td>\n",
              "      <td>0.0</td>\n",
              "      <td>0.0</td>\n",
              "      <td>0.0</td>\n",
              "      <td>...</td>\n",
              "      <td>0</td>\n",
              "      <td>1</td>\n",
              "      <td>0</td>\n",
              "      <td>0</td>\n",
              "      <td>1</td>\n",
              "      <td>0</td>\n",
              "      <td>0</td>\n",
              "      <td>0</td>\n",
              "      <td>0</td>\n",
              "      <td>1</td>\n",
              "    </tr>\n",
              "  </tbody>\n",
              "</table>\n",
              "<p>5 rows × 87 columns</p>\n",
              "</div>\n",
              "      <button class=\"colab-df-convert\" onclick=\"convertToInteractive('df-c549f351-74c4-4513-a159-a60bc52f274f')\"\n",
              "              title=\"Convert this dataframe to an interactive table.\"\n",
              "              style=\"display:none;\">\n",
              "        \n",
              "  <svg xmlns=\"http://www.w3.org/2000/svg\" height=\"24px\"viewBox=\"0 0 24 24\"\n",
              "       width=\"24px\">\n",
              "    <path d=\"M0 0h24v24H0V0z\" fill=\"none\"/>\n",
              "    <path d=\"M18.56 5.44l.94 2.06.94-2.06 2.06-.94-2.06-.94-.94-2.06-.94 2.06-2.06.94zm-11 1L8.5 8.5l.94-2.06 2.06-.94-2.06-.94L8.5 2.5l-.94 2.06-2.06.94zm10 10l.94 2.06.94-2.06 2.06-.94-2.06-.94-.94-2.06-.94 2.06-2.06.94z\"/><path d=\"M17.41 7.96l-1.37-1.37c-.4-.4-.92-.59-1.43-.59-.52 0-1.04.2-1.43.59L10.3 9.45l-7.72 7.72c-.78.78-.78 2.05 0 2.83L4 21.41c.39.39.9.59 1.41.59.51 0 1.02-.2 1.41-.59l7.78-7.78 2.81-2.81c.8-.78.8-2.07 0-2.86zM5.41 20L4 18.59l7.72-7.72 1.47 1.35L5.41 20z\"/>\n",
              "  </svg>\n",
              "      </button>\n",
              "      \n",
              "  <style>\n",
              "    .colab-df-container {\n",
              "      display:flex;\n",
              "      flex-wrap:wrap;\n",
              "      gap: 12px;\n",
              "    }\n",
              "\n",
              "    .colab-df-convert {\n",
              "      background-color: #E8F0FE;\n",
              "      border: none;\n",
              "      border-radius: 50%;\n",
              "      cursor: pointer;\n",
              "      display: none;\n",
              "      fill: #1967D2;\n",
              "      height: 32px;\n",
              "      padding: 0 0 0 0;\n",
              "      width: 32px;\n",
              "    }\n",
              "\n",
              "    .colab-df-convert:hover {\n",
              "      background-color: #E2EBFA;\n",
              "      box-shadow: 0px 1px 2px rgba(60, 64, 67, 0.3), 0px 1px 3px 1px rgba(60, 64, 67, 0.15);\n",
              "      fill: #174EA6;\n",
              "    }\n",
              "\n",
              "    [theme=dark] .colab-df-convert {\n",
              "      background-color: #3B4455;\n",
              "      fill: #D2E3FC;\n",
              "    }\n",
              "\n",
              "    [theme=dark] .colab-df-convert:hover {\n",
              "      background-color: #434B5C;\n",
              "      box-shadow: 0px 1px 3px 1px rgba(0, 0, 0, 0.15);\n",
              "      filter: drop-shadow(0px 1px 2px rgba(0, 0, 0, 0.3));\n",
              "      fill: #FFFFFF;\n",
              "    }\n",
              "  </style>\n",
              "\n",
              "      <script>\n",
              "        const buttonEl =\n",
              "          document.querySelector('#df-c549f351-74c4-4513-a159-a60bc52f274f button.colab-df-convert');\n",
              "        buttonEl.style.display =\n",
              "          google.colab.kernel.accessAllowed ? 'block' : 'none';\n",
              "\n",
              "        async function convertToInteractive(key) {\n",
              "          const element = document.querySelector('#df-c549f351-74c4-4513-a159-a60bc52f274f');\n",
              "          const dataTable =\n",
              "            await google.colab.kernel.invokeFunction('convertToInteractive',\n",
              "                                                     [key], {});\n",
              "          if (!dataTable) return;\n",
              "\n",
              "          const docLinkHtml = 'Like what you see? Visit the ' +\n",
              "            '<a target=\"_blank\" href=https://colab.research.google.com/notebooks/data_table.ipynb>data table notebook</a>'\n",
              "            + ' to learn more about interactive tables.';\n",
              "          element.innerHTML = '';\n",
              "          dataTable['output_type'] = 'display_data';\n",
              "          await google.colab.output.renderOutput(dataTable, element);\n",
              "          const docLink = document.createElement('div');\n",
              "          docLink.innerHTML = docLinkHtml;\n",
              "          element.appendChild(docLink);\n",
              "        }\n",
              "      </script>\n",
              "    </div>\n",
              "  </div>\n",
              "  "
            ]
          },
          "metadata": {},
          "execution_count": 8
        }
      ],
      "source": [
        "X.head()"
      ],
      "id": "b459e2e4"
    },
    {
      "cell_type": "code",
      "execution_count": 9,
      "metadata": {
        "colab": {
          "base_uri": "https://localhost:8080/"
        },
        "id": "77b763aa",
        "outputId": "ac129f01-ec11-4398-cca4-18752ef1cd46"
      },
      "outputs": [
        {
          "output_type": "execute_result",
          "data": {
            "text/plain": [
              "<bound method NDFrame.head of 0         0\n",
              "1         0\n",
              "2         0\n",
              "3         0\n",
              "4         0\n",
              "         ..\n",
              "549854    0\n",
              "549855    0\n",
              "549856    0\n",
              "549857    0\n",
              "549858    0\n",
              "Name: target_bin, Length: 549859, dtype: int64>"
            ]
          },
          "metadata": {},
          "execution_count": 9
        }
      ],
      "source": [
        "y.head"
      ],
      "id": "77b763aa"
    },
    {
      "cell_type": "markdown",
      "metadata": {
        "id": "b93c3f67"
      },
      "source": [
        "### b. Evaluamos la Variable Target "
      ],
      "id": "b93c3f67"
    },
    {
      "cell_type": "code",
      "execution_count": 10,
      "metadata": {
        "id": "4ec433cb"
      },
      "outputs": [],
      "source": [
        "from collections import Counter"
      ],
      "id": "4ec433cb"
    },
    {
      "cell_type": "code",
      "execution_count": 11,
      "metadata": {
        "colab": {
          "base_uri": "https://localhost:8080/"
        },
        "id": "f5ac4db8",
        "outputId": "ba59d19a-c4f2-4bd5-8863-9f2557983aa9"
      },
      "outputs": [
        {
          "output_type": "stream",
          "name": "stdout",
          "text": [
            "[(0, 549086), (1, 773)]\n"
          ]
        }
      ],
      "source": [
        "print(sorted(Counter(y).items()))"
      ],
      "id": "f5ac4db8"
    },
    {
      "cell_type": "code",
      "execution_count": 12,
      "metadata": {
        "colab": {
          "base_uri": "https://localhost:8080/",
          "height": 335
        },
        "id": "6408569a",
        "outputId": "551d02db-1e82-47b6-ae8c-8846c2255fe5"
      },
      "outputs": [
        {
          "output_type": "execute_result",
          "data": {
            "text/plain": [
              "([<matplotlib.axis.XTick at 0x7f89d51c3490>,\n",
              "  <matplotlib.axis.XTick at 0x7f89bd1e7110>],\n",
              " <a list of 2 Text major ticklabel objects>)"
            ]
          },
          "metadata": {},
          "execution_count": 12
        },
        {
          "output_type": "display_data",
          "data": {
            "text/plain": [
              "<Figure size 432x288 with 1 Axes>"
            ],
            "image/png": "[encoded data removed]"
          },
          "metadata": {
            "needs_background": "light"
          }
        }
      ],
      "source": [
        "# Graficamos el vector y \n",
        "counting = sorted(Counter(y).items())\n",
        "plt.bar ((counting[0][0], counting[1][0]), (counting[0][1], counting[1][1]*100))\n",
        "plt.title('Variable y')\n",
        "plt.xticks([0, 1])"
      ],
      "id": "6408569a"
    },
    {
      "cell_type": "markdown",
      "metadata": {
        "id": "71ab521c"
      },
      "source": [
        "# 5. Model Data"
      ],
      "id": "71ab521c"
    },
    {
      "cell_type": "markdown",
      "metadata": {
        "id": "d26465ec"
      },
      "source": [
        "## Funciones útiles para el modelaje"
      ],
      "id": "d26465ec"
    },
    {
      "cell_type": "code",
      "execution_count": 13,
      "metadata": {
        "id": "32c25b03"
      },
      "outputs": [],
      "source": [
        "def conf_matrix(Y_train, Y_train_pred, Y_test, Y_test_pred):\n",
        "    # Train Confusion Matrix \n",
        "    cf_matrix_train = confusion_matrix(Y_train, Y_train_pred)\n",
        "    group_names_train = [\"True Neg\", \"False Pos\", \"False Neg\", \"True Pos\"]\n",
        "    group_counts_train = [\"{0:0.0f}\".format(value) for value in cf_matrix_train.flatten()]\n",
        "    labels_train = [f\"{v1}\\n{v2}\" for v1, v2 in zip(group_names_train, group_counts_train)]\n",
        "    labels_train = np.asarray(labels_train).reshape(2,2)\n",
        "    \n",
        "    # Test Confusion Matrix     \n",
        "    cf_matrix_test = confusion_matrix(Y_test, Y_test_pred)\n",
        "    group_names_test = [\"True Neg\", \"False Pos\", \"False Neg\", \"True Pos\"]\n",
        "    group_counts_test = [\"{0:0.0f}\".format(value) for value in cf_matrix_test.flatten()]\n",
        "    labels_test = [f\"{v1}\\n{v2}\" for v1, v2 in zip(group_names_test, group_counts_test)]\n",
        "    labels_test = np.asarray(labels_test).reshape(2,2)\n",
        "    \n",
        "    # Graphics\n",
        "    fig, ax = plt.subplots(nrows = 1, ncols = 2, figsize = (12, 4))\n",
        "    sns.heatmap(cf_matrix_train, annot = labels_train, annot_kws = {'size': 14}, fmt = \"\", cmap = ListedColormap([\"white\"]), cbar = False, linewidths = 4, linecolor = 'black', ax = ax[0])\n",
        "    sns.heatmap(cf_matrix_test, annot = labels_test, annot_kws = {'size': 14}, fmt = \"\", cmap = ListedColormap([\"white\"]), cbar = False, linewidths = 4, linecolor = 'black', ax = ax[1])\n",
        "    \n",
        "    # Titles, labels, ticks, etc\n",
        "    ax[0].set_title(\"Train Confusion Matrix\", fontsize = 20)\n",
        "    ax[1].set_title(\"Test Confusion Matrix\", fontsize = 20)\n",
        "    ax[0].set_xticks([])\n",
        "    ax[0].set_yticks([])\n",
        "    ax[1].set_xticks([])\n",
        "    ax[1].set_yticks([])\n",
        "    plt.show()\n",
        "    \n",
        "    print(\"---\" * 34)"
      ],
      "id": "32c25b03"
    },
    {
      "cell_type": "code",
      "execution_count": 14,
      "metadata": {
        "id": "d1363118"
      },
      "outputs": [],
      "source": [
        "def roc_curve_graph(y_test, y_test_pred_proba):\n",
        "    fpr, tpr, thr = roc_curve(y_test, y_test_pred_proba) \n",
        "\n",
        "    plt.figure(figsize = (8,8))\n",
        "\n",
        "    plt.plot(fpr, tpr, color = \"black\")\n",
        "    plt.plot(np.arange(0,1, step =0.01), np.arange(0,1, step =0.01), color = \"darkgreen\", linestyle = \"--\")\n",
        "\n",
        "    plt.title(\"Test ROC Curve\", fontsize = 18) \n",
        "    plt.xlabel(\"1 - Specificty\", fontsize = 16)\n",
        "    plt.ylabel(\"Sensitivity\", fontsize = 16)\n",
        "\n",
        "    plt.ylim(0,1)\n",
        "    plt.xlim(0,1)\n",
        "    plt.yticks(ticks = [0,0.2,0.4,0.6,0.8,1], labels = [\"\",0.2,0.4,0.6,0.8,1], fontsize = 14)\n",
        "    plt.xticks(fontsize = 14)\n",
        "\n",
        "    style = dict(size = 14, color = \"black\", fontstyle = \"oblique\")\n",
        "    props = dict(boxstyle = \"round\", facecolor = \"grey\", alpha=0.5)\n",
        "\n",
        "    auc_score = round(auc(fpr, tpr), 2)\n",
        "\n",
        "    plt.text(0.85, 0.1, f\"AUC = {auc_score}\", ha = \"center\", va = \"bottom\", **style, bbox = props)\n",
        "\n",
        "    plt.show()\n",
        "    \n",
        "    print(\"---\" * 34)"
      ],
      "id": "d1363118"
    },
    {
      "cell_type": "code",
      "execution_count": 15,
      "metadata": {
        "id": "a9284df2"
      },
      "outputs": [],
      "source": [
        "def metrics(Y_train, Y_test, Y_train_pred, Y_test_pred, Y_train_pred_proba, Y_test_pred_proba):\n",
        "    print(f\"\\tTrain Precision Score:{precision_score(Y_train, Y_train_pred):.3f}\")\n",
        "    print(f\"\\tTest Precision Score:{precision_score(Y_test, Y_test_pred):.3f}\")\n",
        "    print(\"\\t---\" * 4)\n",
        "    print(f\"\\tTrain Recall Score:{recall_score(Y_train, Y_train_pred):.3f}\")\n",
        "    print(f\"\\tTest Recall Score:{recall_score(Y_test, Y_test_pred):.3f}\")\n",
        "    print(\"\\t---\" * 4)\n",
        "    print(f\"\\tTrain ROC AUC Score:{roc_auc_score(Y_train, Y_train_pred_proba):.3f}\")\n",
        "    print(f\"\\tTest ROC AUC Score:{roc_auc_score(Y_test, Y_test_pred_proba):.3f}\")\n",
        "    print(\"---\" * 34)"
      ],
      "id": "a9284df2"
    },
    {
      "cell_type": "code",
      "execution_count": 16,
      "metadata": {
        "id": "d9bf40ef"
      },
      "outputs": [],
      "source": [
        "def fit_train(model):\n",
        "    print(\"For\", str(model).split(\"(\")[0],\":\")\n",
        "    global fit\n",
        "    fit = model.fit(X_train_t, y_train_t.values.reshape(-1,))\n",
        "    \n",
        "    y_train_pred = model.predict(X_train_t)> 0.02\n",
        "    y_test_pred = model.predict(X_val)> 0.02\n",
        "    \n",
        "    y_train_pred_proba = model.predict_proba(X_train_t)[:, 1]\n",
        "    y_test_pred_proba = model.predict_proba(X_val)[:, 1]\n",
        "\n",
        "    metrics(y_train_t, y_val, y_train_pred, y_test_pred, y_train_pred_proba, y_test_pred_proba)\n",
        "    \n",
        "    conf_matrix(y_train_t, y_train_pred, y_val, y_test_pred)\n",
        "    roc_curve_graph(y_val, y_test_pred_proba)\n",
        "    print(classification_report(y_val, y_test_pred))"
      ],
      "id": "d9bf40ef"
    },
    {
      "cell_type": "code",
      "execution_count": 17,
      "metadata": {
        "id": "14b2d61d"
      },
      "outputs": [],
      "source": [
        "def fit_final(model):\n",
        "    print(\"For\", str(model).split(\"(\")[0],\":\")\n",
        "    global fit\n",
        "    fit = model.fit(X_train_std_sel, y_train.values.reshape(-1,))\n",
        "    \n",
        "    y_train_pred = model.predict(X_train_std_sel)\n",
        "    y_test_pred = model.predict(X_test_std_sel)\n",
        "    \n",
        "    y_train_pred_proba = model.predict_proba(X_train_std_sel)[:, 1]\n",
        "    y_test_pred_proba = model.predict_proba(X_test_std_sel)[:, 1]\n",
        "\n",
        "    metrics(y_train, y_test, y_train_pred, y_test_pred, y_train_pred_proba, y_test_pred_proba)\n",
        "    \n",
        "    conf_matrix(y_train, y_train_pred, y_test, y_test_pred)\n",
        "    roc_curve_graph(y_test, y_test_pred_proba)\n",
        "    print(classification_report(y_test, y_test_pred))"
      ],
      "id": "14b2d61d"
    },
    {
      "cell_type": "markdown",
      "metadata": {
        "id": "6420677f"
      },
      "source": [
        "## 5.1. División Train / Test"
      ],
      "id": "6420677f"
    },
    {
      "cell_type": "code",
      "execution_count": 18,
      "metadata": {
        "id": "f868334d"
      },
      "outputs": [],
      "source": [
        "# Hacemos la división sobre TODO el dataset que incluye el Id_Cliente\n",
        "X_train, X_test, y_train, y_test = train_test_split(X, y, test_size=0.2, stratify = y, random_state = 42)\n",
        "\n",
        "# Para el Train / Test real NO tomamos en cuenta el Id_cliente (columna [0])\n",
        "X_train_data = X_train.drop([\"numero_de_cliente\"], axis = 1)\n",
        "X_test_data = X_test.drop([\"numero_de_cliente\"], axis = 1)\n"
      ],
      "id": "f868334d"
    },
    {
      "cell_type": "code",
      "execution_count": 19,
      "metadata": {
        "colab": {
          "base_uri": "https://localhost:8080/"
        },
        "id": "6468ce3b",
        "outputId": "c6ca9918-4ab8-422f-fe6c-3beff0786f5c",
        "scrolled": true
      },
      "outputs": [
        {
          "output_type": "stream",
          "name": "stdout",
          "text": [
            "Data1 Shape: (549859, 87)\n",
            "Train1 Shape: (439887, 86)\n",
            "Test1 Shape: (109972, 86)\n"
          ]
        }
      ],
      "source": [
        "print(\"Data1 Shape: {}\".format(X.shape))\n",
        "print(\"Train1 Shape: {}\".format(X_train_data.shape))\n",
        "print(\"Test1 Shape: {}\".format(X_test_data.shape))"
      ],
      "id": "6468ce3b"
    },
    {
      "cell_type": "markdown",
      "metadata": {
        "id": "b39017cd"
      },
      "source": [
        "# <center> Training </center>\n",
        "## 5.2. Extracción de Características\n",
        "En este caso los métodos de extracción de variables a partir de textos o imágenes no son necesarias de implementar"
      ],
      "id": "b39017cd"
    },
    {
      "cell_type": "markdown",
      "metadata": {
        "id": "3d3b8b44"
      },
      "source": [
        "## 5.3. Escalado de variables"
      ],
      "id": "3d3b8b44"
    },
    {
      "cell_type": "code",
      "execution_count": 20,
      "metadata": {
        "id": "7121b9f5"
      },
      "outputs": [],
      "source": [
        "# Escalamos la variable X_train con Standar Scaler de sklearn\n",
        "scaler = MinMaxScaler()\n",
        "X_train_std = scaler.fit_transform(X_train_data)"
      ],
      "id": "7121b9f5"
    },
    {
      "cell_type": "code",
      "execution_count": 21,
      "metadata": {
        "id": "85ed9d9d"
      },
      "outputs": [],
      "source": [
        "X_train_std = pd.DataFrame(X_train_std, columns = X_train_data.columns)"
      ],
      "id": "85ed9d9d"
    },
    {
      "cell_type": "code",
      "execution_count": 22,
      "metadata": {
        "colab": {
          "base_uri": "https://localhost:8080/"
        },
        "id": "72d5466f",
        "outputId": "09c089f1-01b8-4830-ee9b-4b98daac42dd"
      },
      "outputs": [
        {
          "output_type": "execute_result",
          "data": {
            "text/plain": [
              "Index(['mrentabilidad', 'mrentabilidad_annual', 'mcomisiones',\n",
              "       'mactivos_margen', 'mpasivos_margen', 'mcaja_ahorro_dolares',\n",
              "       'mcuentas_saldo', 'mautoservicio', 'mplan_sueldo',\n",
              "       'mextraccion_autoservicio', 'Master_mfinanciacion_limite',\n",
              "       'Master_msaldodolares', 'Master_mpagado', 'Visa_mfinanciacion_limite',\n",
              "       'Visa_msaldototal', 'Visa_msaldodolares', 'Visa_madelantopesos',\n",
              "       'Visa_madelantodolares', 'Visa_mpagado', 'Visa_mpagosdolares',\n",
              "       'Visa_mconsumototal', 'mcaja_ahorro_CC', 'mtarjeta_all_consumo',\n",
              "       'mprestamos_all', 'renta_dolar', 'mdebitos_automaticos', 'mdescuentos',\n",
              "       'mcomision', 'mcambio_venta_compra', 'mtransferencia_emitida_recibida',\n",
              "       'mcheques_emitido_depositado', 'mcheques_emitido_depositado_r',\n",
              "       'mcajero_transaccion', 'marketing_activo_ultimos90dias',\n",
              "       'mdescubierto_preacordado', 'Master_marca_atraso', 'Visa_marca_atraso',\n",
              "       'edad_bin_>80', 'antiq_bin_<20', 'antiq_bin_nan',\n",
              "       'cliente_sucursal_1436', 'cliente_sucursal_209', 'cliente_sucursal_422',\n",
              "       'cliente_sucursal_545', 'cliente_sucursal_941',\n",
              "       'cliente_sucursal_otros', 'marketing_coss_selling_6',\n",
              "       'marketing_coss_selling_7', 'marketing_coss_selling_8',\n",
              "       'marketing_coss_selling_9', 'marketing_coss_selling_otros',\n",
              "       'Master_cuenta_estado_11.0', 'Master_cuenta_estado_12.0',\n",
              "       'Master_cuenta_estado_19.0', 'Visa_cuenta_estado_11.0',\n",
              "       'Visa_cuenta_estado_12.0', 'Visa_cuenta_estado_19.0',\n",
              "       'cliente_antiguedad', 'ctarjeta_debito_transacciones',\n",
              "       'cextraccion_autoservicio', 'cprestamos_all', 'ccomision',\n",
              "       'ccambio_venta_compra', 'ctransferencia_emitida_recibida',\n",
              "       'ccheques_emitido_depositado', 'ccheques_emitido_depositado_r',\n",
              "       'ctransacciones', 'ctarjeta_all_transacciones', 'ttarjeta_debito',\n",
              "       'tcaja_seguridad', 'tplan_sueldo', 'tmovimientos_ultimos90dias',\n",
              "       'Master_tadelantosefectivo', 'Visa_tconsumos',\n",
              "       'Visa_tadelantosefectivo', 'tdescubierto_preacordado', 'tpaquete',\n",
              "       'tcuenta', 'trenta', 'tseguro', 'tdebitos_automaticos', 'tdescuento',\n",
              "       'ttransacciones', 'tcajas_total', 'tcajero_transaccion',\n",
              "       'ttarjeta_visa_master'],\n",
              "      dtype='object')"
            ]
          },
          "metadata": {},
          "execution_count": 22
        }
      ],
      "source": [
        "X_train_std.columns"
      ],
      "id": "72d5466f"
    },
    {
      "cell_type": "markdown",
      "metadata": {
        "id": "822da8e2"
      },
      "source": [
        "## 5.4. Selección de Variables (features  selection)"
      ],
      "id": "822da8e2"
    },
    {
      "cell_type": "code",
      "execution_count": 23,
      "metadata": {
        "colab": {
          "base_uri": "https://localhost:8080/"
        },
        "id": "9d67e071",
        "outputId": "89fb6e7c-4224-4cb8-bd89-89734e1e805a"
      },
      "outputs": [
        {
          "output_type": "execute_result",
          "data": {
            "text/plain": [
              "(439887, 86)"
            ]
          },
          "metadata": {},
          "execution_count": 23
        }
      ],
      "source": [
        "# Visualizamos la forma de X_train estandarizado antes de aplicar la selección de variables\n",
        "X_train_std.shape"
      ],
      "id": "9d67e071"
    },
    {
      "cell_type": "markdown",
      "metadata": {
        "id": "3137d8fe"
      },
      "source": [
        "La selección univariada de variables ('Univariate feature selection') funciona seleccionando las mejores características basándose en pruebas estadísticas univariadas, en este caso el `chi2`."
      ],
      "id": "3137d8fe"
    },
    {
      "cell_type": "code",
      "execution_count": 24,
      "metadata": {
        "id": "bdc98fb5"
      },
      "outputs": [],
      "source": [
        "feature_sel = SelectPercentile(chi2, percentile=15)\n",
        "X_train_std_sel = feature_sel.fit_transform(X_train_std, y_train)"
      ],
      "id": "bdc98fb5"
    },
    {
      "cell_type": "code",
      "execution_count": 25,
      "metadata": {
        "colab": {
          "base_uri": "https://localhost:8080/"
        },
        "id": "8d390b3f",
        "outputId": "a61712a0-a705-440e-a7de-497ac451a64d"
      },
      "outputs": [
        {
          "output_type": "execute_result",
          "data": {
            "text/plain": [
              "array([[1., 0., 0., ..., 1., 1., 1.],\n",
              "       [0., 0., 0., ..., 1., 0., 1.],\n",
              "       [1., 0., 0., ..., 0., 1., 1.],\n",
              "       ...,\n",
              "       [1., 0., 0., ..., 1., 1., 1.],\n",
              "       [1., 0., 0., ..., 1., 1., 1.],\n",
              "       [1., 0., 0., ..., 1., 1., 1.]])"
            ]
          },
          "metadata": {},
          "execution_count": 25
        }
      ],
      "source": [
        "# Nos quedamos con el percentil 5% de la totalidad de variables \n",
        "X_train_std_sel"
      ],
      "id": "8d390b3f"
    },
    {
      "cell_type": "code",
      "execution_count": 26,
      "metadata": {
        "colab": {
          "base_uri": "https://localhost:8080/"
        },
        "id": "934cbdce",
        "outputId": "873f2f9c-8056-4359-b38f-7a99d0a11421"
      },
      "outputs": [
        {
          "output_type": "execute_result",
          "data": {
            "text/plain": [
              "Index(['marketing_activo_ultimos90dias', 'Master_marca_atraso',\n",
              "       'Visa_marca_atraso', 'marketing_coss_selling_6',\n",
              "       'Master_cuenta_estado_11.0', 'Master_cuenta_estado_12.0',\n",
              "       'Visa_cuenta_estado_11.0', 'Visa_cuenta_estado_12.0',\n",
              "       'Visa_cuenta_estado_19.0', 'Visa_tadelantosefectivo', 'tdescuento',\n",
              "       'ttransacciones', 'tcajero_transaccion'],\n",
              "      dtype='object')"
            ]
          },
          "metadata": {},
          "execution_count": 26
        }
      ],
      "source": [
        "cols = feature_sel.get_support(indices = True)\n",
        "\n",
        "X_train_std_sel = pd.DataFrame(X_train_std_sel, columns = X_train_std.columns[cols])\n",
        "\n",
        "X_train_std_sel.columns"
      ],
      "id": "934cbdce"
    },
    {
      "cell_type": "markdown",
      "metadata": {
        "id": "e79f3fc8"
      },
      "source": [
        "## 5.5 Modelado "
      ],
      "id": "e79f3fc8"
    },
    {
      "cell_type": "markdown",
      "metadata": {
        "id": "55d23d4c"
      },
      "source": [
        "### Entrenamiento\n",
        "#### 5.5.a. Validación cruzada con subtrain / val\n",
        "\n",
        "#### 5.5.b. Optimización de hiperparámetros\n",
        "Se entrena con un modelo de $subtrain$ y se evalúan los resultados extrayendo diferentes métricas sobre $val$, lo que lleva a buscar los `Hiperparámetros óptimos`\n",
        "\n",
        "#### 5.5.c. Modelo Definitivo\n",
        "Se entrena el modelo definitivo con X_train (subtrain + val), y_train con mdeol.fit() \n",
        "\n",
        "Esta etapa se realizará con cada modelo usando el X_train para hacer cross_val_score y GridSearchCV para finalmente comparar resultados y decidir acerca del mejor modelo\n",
        "\n",
        "`5.5.a. Validación cruzada con subtrain / val`, `5.5.b. Optimización de hiperparámetros` y ` 5.5.c. Modelo Definitivo` se incluyen a continuación en cada a testear "
      ],
      "id": "55d23d4c"
    },
    {
      "cell_type": "markdown",
      "metadata": {
        "id": "922ff0b4"
      },
      "source": [
        "## Buscando el mejor Modelo"
      ],
      "id": "922ff0b4"
    },
    {
      "cell_type": "markdown",
      "metadata": {
        "id": "3ad1d41f"
      },
      "source": [
        "### Definimos los grupos subtrain y val a partir de X_train e y_train"
      ],
      "id": "3ad1d41f"
    },
    {
      "cell_type": "code",
      "execution_count": 27,
      "metadata": {
        "id": "58c0ed88"
      },
      "outputs": [],
      "source": [
        "# Hacemos la división sobre X_trai e y_train el dataset que incluye el Id_Cliente\n",
        "X_train_t, X_val, y_train_t, y_val = train_test_split(X_train_std_sel, y_train, test_size=0.2, stratify = y_train, random_state = 42)\n"
      ],
      "id": "58c0ed88"
    },
    {
      "cell_type": "markdown",
      "metadata": {
        "id": "ae5ce180"
      },
      "source": [
        "Se intentó hacer una transformación de los valores positivos de y pero si bien dicha transformación generó un aumento significativo de los TP se incrementó desproporcionadamente los FP con lo cual el modelo da pérdida. Se adjunta el `df_final_smote.csv` que contiene la matriz de datos para eventualmente evaluar los modelos con la variable y transformada. "
      ],
      "id": "ae5ce180"
    },
    {
      "cell_type": "code",
      "execution_count": 28,
      "metadata": {
        "colab": {
          "base_uri": "https://localhost:8080/"
        },
        "id": "4c58b2fb",
        "outputId": "b11ad8bc-bed2-4b56-ceda-5bfd4c48b813"
      },
      "outputs": [
        {
          "output_type": "stream",
          "name": "stdout",
          "text": [
            "X_train_t Shape: (351909, 13)\n",
            "X_val Shape: (87978, 13)\n",
            "y_train_t Shape: (351909,)\n",
            "y_val Shape: (87978,)\n"
          ]
        }
      ],
      "source": [
        "print(\"X_train_t Shape: {}\".format(X_train_t.shape))\n",
        "print(\"X_val Shape: {}\".format(X_val.shape))\n",
        "print(\"y_train_t Shape: {}\".format(y_train_t.shape))\n",
        "print(\"y_val Shape: {}\".format(y_val.shape))"
      ],
      "id": "4c58b2fb"
    },
    {
      "cell_type": "code",
      "execution_count": 29,
      "metadata": {
        "colab": {
          "base_uri": "https://localhost:8080/",
          "height": 335
        },
        "id": "935cec12",
        "outputId": "6c8be257-d032-466a-ead7-52c779780984"
      },
      "outputs": [
        {
          "output_type": "execute_result",
          "data": {
            "text/plain": [
              "([<matplotlib.axis.XTick at 0x7f89bcca1b90>,\n",
              "  <matplotlib.axis.XTick at 0x7f89bcca1b50>],\n",
              " <a list of 2 Text major ticklabel objects>)"
            ]
          },
          "metadata": {},
          "execution_count": 29
        },
        {
          "output_type": "display_data",
          "data": {
            "text/plain": [
              "<Figure size 432x288 with 1 Axes>"
            ],
            "image/png": "[encoded data removed]"
          },
          "metadata": {
            "needs_background": "light"
          }
        }
      ],
      "source": [
        "# Graficamos el vector y \n",
        "counting = sorted(Counter(y_train_t).items())\n",
        "plt.bar ((counting[0][0], counting[1][0]), (counting[0][1], counting[1][1]*100))\n",
        "plt.title('Variable')\n",
        "plt.xticks([0, 1])"
      ],
      "id": "935cec12"
    },
    {
      "cell_type": "markdown",
      "metadata": {
        "id": "7df30404"
      },
      "source": [
        "## 1. Regresión Logística"
      ],
      "id": "7df30404"
    },
    {
      "cell_type": "code",
      "execution_count": 30,
      "metadata": {
        "id": "56ec41ad"
      },
      "outputs": [],
      "source": [
        "lreg = LogisticRegression(max_iter = 3000, class_weight = {0: 0.5, 1: 0.5})"
      ],
      "id": "56ec41ad"
    },
    {
      "cell_type": "code",
      "execution_count": 31,
      "metadata": {
        "colab": {
          "base_uri": "https://localhost:8080/"
        },
        "id": "4b5c4e7e",
        "outputId": "f2a326d4-7c38-4ef7-c08d-252a49615736",
        "scrolled": true
      },
      "outputs": [
        {
          "output_type": "execute_result",
          "data": {
            "text/plain": [
              "LogisticRegression(class_weight={0: 0.5, 1: 0.5}, max_iter=3000)"
            ]
          },
          "metadata": {},
          "execution_count": 31
        }
      ],
      "source": [
        "lreg.fit(X_train_t, y_train_t)"
      ],
      "id": "4b5c4e7e"
    },
    {
      "cell_type": "code",
      "execution_count": 32,
      "metadata": {
        "id": "2f8da04f"
      },
      "outputs": [],
      "source": [
        "y_train_pred = lreg.predict(X_train_t)"
      ],
      "id": "2f8da04f"
    },
    {
      "cell_type": "code",
      "execution_count": 33,
      "metadata": {
        "id": "a74fae69"
      },
      "outputs": [],
      "source": [
        "y_train_pred_proba = lreg.predict_proba(X_train_t)"
      ],
      "id": "a74fae69"
    },
    {
      "cell_type": "code",
      "execution_count": 34,
      "metadata": {
        "id": "8a5e27ca"
      },
      "outputs": [],
      "source": [
        "y_test_pred = lreg.predict(X_val)"
      ],
      "id": "8a5e27ca"
    },
    {
      "cell_type": "code",
      "execution_count": 35,
      "metadata": {
        "id": "56a84914"
      },
      "outputs": [],
      "source": [
        "y_test_pred_proba = lreg.predict_proba(X_val)"
      ],
      "id": "56a84914"
    },
    {
      "cell_type": "code",
      "execution_count": 36,
      "metadata": {
        "id": "19cac9a7"
      },
      "outputs": [],
      "source": [
        "# Cross Val Score\n",
        "cvs_train = cross_val_score(lreg, X_train_t, y_train_t, cv=5, scoring = 'recall')"
      ],
      "id": "19cac9a7"
    },
    {
      "cell_type": "code",
      "execution_count": 37,
      "metadata": {
        "colab": {
          "base_uri": "https://localhost:8080/"
        },
        "id": "e6f65721",
        "outputId": "892bbb5e-6f5a-4e71-9f4f-782b8908957d"
      },
      "outputs": [
        {
          "output_type": "stream",
          "name": "stdout",
          "text": [
            "El promedio de recall es: 0.008101422387136672\n"
          ]
        },
        {
          "output_type": "execute_result",
          "data": {
            "text/plain": [
              "array([0.        , 0.        , 0.        , 0.03030303, 0.01020408])"
            ]
          },
          "metadata": {},
          "execution_count": 37
        }
      ],
      "source": [
        "print(f'El promedio de recall es: {cvs_train.mean()}')\n",
        "cvs_train"
      ],
      "id": "e6f65721"
    },
    {
      "cell_type": "code",
      "execution_count": 38,
      "metadata": {
        "id": "LUf-ExKVrlE2"
      },
      "outputs": [],
      "source": [
        "import sklearn.metrics"
      ],
      "id": "LUf-ExKVrlE2"
    },
    {
      "cell_type": "code",
      "execution_count": 39,
      "metadata": {
        "colab": {
          "base_uri": "https://localhost:8080/",
          "height": 1000
        },
        "id": "0655ff1b",
        "outputId": "e3aa0c96-c46b-4d7e-ee53-daec377f124e"
      },
      "outputs": [
        {
          "output_type": "stream",
          "name": "stdout",
          "text": [
            "For LogisticRegression :\n",
            "\tTrain Precision Score:0.389\n",
            "\tTest Precision Score:0.000\n",
            "\t---\t---\t---\t---\n",
            "\tTrain Recall Score:0.014\n",
            "\tTest Recall Score:0.000\n",
            "\t---\t---\t---\t---\n",
            "\tTrain ROC AUC Score:0.946\n",
            "\tTest ROC AUC Score:0.951\n",
            "------------------------------------------------------------------------------------------------------\n"
          ]
        },
        {
          "output_type": "display_data",
          "data": {
            "text/plain": [
              "<Figure size 864x288 with 2 Axes>"
            ],
            "image/png": "[encoded data removed]"
          },
          "metadata": {}
        },
        {
          "output_type": "stream",
          "name": "stdout",
          "text": [
            "------------------------------------------------------------------------------------------------------\n"
          ]
        },
        {
          "output_type": "display_data",
          "data": {
            "text/plain": [
              "<Figure size 576x576 with 1 Axes>"
            ],
            "image/png": "[encoded data removed]"
          },
          "metadata": {
            "needs_background": "light"
          }
        },
        {
          "output_type": "stream",
          "name": "stdout",
          "text": [
            "------------------------------------------------------------------------------------------------------\n",
            "              precision    recall  f1-score   support\n",
            "\n",
            "           0       1.00      1.00      1.00     87854\n",
            "           1       0.00      0.00      0.00       124\n",
            "\n",
            "    accuracy                           1.00     87978\n",
            "   macro avg       0.50      0.50      0.50     87978\n",
            "weighted avg       1.00      1.00      1.00     87978\n",
            "\n"
          ]
        }
      ],
      "source": [
        "fit_train(lreg)"
      ],
      "id": "0655ff1b"
    },
    {
      "cell_type": "markdown",
      "metadata": {
        "id": "d73d15b2"
      },
      "source": [
        "### Regresión Logística: Definiendo las predicción según el límite calculado por la matriz de costos "
      ],
      "id": "d73d15b2"
    },
    {
      "cell_type": "code",
      "execution_count": 40,
      "metadata": {
        "id": "c184e62b"
      },
      "outputs": [],
      "source": [
        "threshold = 0.02"
      ],
      "id": "c184e62b"
    },
    {
      "cell_type": "code",
      "execution_count": 41,
      "metadata": {
        "id": "7c5c22e3"
      },
      "outputs": [],
      "source": [
        "y_train_pred_h = y_train_pred_proba[:, 1] > threshold\n",
        "y_test_pred_h = y_test_pred_proba[:, 1] > threshold"
      ],
      "id": "7c5c22e3"
    },
    {
      "cell_type": "code",
      "execution_count": 42,
      "metadata": {
        "colab": {
          "base_uri": "https://localhost:8080/"
        },
        "id": "5adcca94",
        "outputId": "7ccdbcd0-08c6-4464-e36c-6772384d961f"
      },
      "outputs": [
        {
          "output_type": "execute_result",
          "data": {
            "text/plain": [
              "(351909,)"
            ]
          },
          "metadata": {},
          "execution_count": 42
        }
      ],
      "source": [
        "y_train_pred_h.shape"
      ],
      "id": "5adcca94"
    },
    {
      "cell_type": "code",
      "execution_count": 43,
      "metadata": {
        "colab": {
          "base_uri": "https://localhost:8080/"
        },
        "id": "5b515ad3",
        "outputId": "565be21a-2fd9-42b5-a911-561fd27703a6"
      },
      "outputs": [
        {
          "output_type": "execute_result",
          "data": {
            "text/plain": [
              "636"
            ]
          },
          "metadata": {},
          "execution_count": 43
        }
      ],
      "source": [
        "y_test_pred_h.sum()"
      ],
      "id": "5b515ad3"
    },
    {
      "cell_type": "code",
      "execution_count": 44,
      "metadata": {
        "colab": {
          "base_uri": "https://localhost:8080/",
          "height": 573
        },
        "id": "5abb72f2",
        "outputId": "e7ec5a0d-7970-4612-e6c7-0b9ce815a7a9"
      },
      "outputs": [
        {
          "output_type": "display_data",
          "data": {
            "text/plain": [
              "<Figure size 432x288 with 2 Axes>"
            ],
            "image/png": "[encoded data removed]"
          },
          "metadata": {
            "needs_background": "light"
          }
        },
        {
          "output_type": "display_data",
          "data": {
            "text/plain": [
              "<Figure size 432x288 with 2 Axes>"
            ],
            "image/png": "[encoded data removed]"
          },
          "metadata": {
            "needs_background": "light"
          }
        }
      ],
      "source": [
        "# HeatMap de Matriz de Confusión\n",
        "\n",
        "cm_train = confusion_matrix(y_train_t, y_train_pred_h, labels=lreg.classes_)\n",
        "cm_test = confusion_matrix(y_val, y_test_pred_h, labels=lreg.classes_)\n",
        "\n",
        "disp_train = ConfusionMatrixDisplay(confusion_matrix=cm_train,\n",
        "                               display_labels=lreg.classes_)\n",
        "\n",
        "disp_test = ConfusionMatrixDisplay(confusion_matrix=cm_test,\n",
        "                               display_labels=lreg.classes_)\n",
        "\n",
        "disp_train.plot()\n",
        "disp_train.ax_.set_title('Train')\n",
        "\n",
        "disp_test.plot()\n",
        "disp_test.ax_.set_title('Test')\n",
        "\n",
        "\n",
        "plt.show()"
      ],
      "id": "5abb72f2"
    },
    {
      "cell_type": "code",
      "execution_count": 45,
      "metadata": {
        "colab": {
          "base_uri": "https://localhost:8080/",
          "height": 297
        },
        "id": "5ab6f599",
        "outputId": "f9d0954a-b148-425c-b2a5-8cd9a74a8d76"
      },
      "outputs": [
        {
          "output_type": "execute_result",
          "data": {
            "text/plain": [
              "<matplotlib.legend.Legend at 0x7f89ba386ed0>"
            ]
          },
          "metadata": {},
          "execution_count": 45
        },
        {
          "output_type": "display_data",
          "data": {
            "text/plain": [
              "<Figure size 432x288 with 1 Axes>"
            ],
            "image/png": "[encoded data removed]"
          },
          "metadata": {
            "needs_background": "light"
          }
        }
      ],
      "source": [
        "precision, recall, thresholds = precision_recall_curve(y_val, lreg.predict_proba(X_val)[:, 1])\n",
        "\n",
        "# find threshold closest to zero\n",
        "close_zero = np.argmin(np.abs(thresholds))\n",
        "plt.plot(precision[close_zero], recall[close_zero], 'o', markersize=10,\n",
        "label=\"threshold zero\", fillstyle=\"none\", c='k', mew=2)\n",
        "plt.plot(precision, recall, label=\"precision recall curve\")\n",
        "plt.xlabel(\"Precision\")\n",
        "plt.ylabel(\"Recall\")\n",
        "plt.legend(loc=\"best\")"
      ],
      "id": "5ab6f599"
    },
    {
      "cell_type": "code",
      "execution_count": 46,
      "metadata": {
        "colab": {
          "base_uri": "https://localhost:8080/"
        },
        "id": "d4fbc10b",
        "outputId": "fd3f64dd-b5a4-4831-faab-100109dc5553"
      },
      "outputs": [
        {
          "output_type": "stream",
          "name": "stdout",
          "text": [
            "              precision    recall  f1-score   support\n",
            "\n",
            "     class 0       1.00      0.99      1.00     87854\n",
            "     class 1       0.06      0.33      0.11       124\n",
            "\n",
            "    accuracy                           0.99     87978\n",
            "   macro avg       0.53      0.66      0.55     87978\n",
            "weighted avg       1.00      0.99      0.99     87978\n",
            "\n"
          ]
        }
      ],
      "source": [
        "# Tabla de métricas de Clasificación\n",
        "target_names = ['class 0', 'class 1']\n",
        "clf_report = classification_report(y_val, y_test_pred_h, target_names=target_names)\n",
        "print(clf_report)"
      ],
      "id": "d4fbc10b"
    },
    {
      "cell_type": "markdown",
      "metadata": {
        "id": "2b71ac1f"
      },
      "source": [
        "## 2. Árboles de Decisión "
      ],
      "id": "2b71ac1f"
    },
    {
      "cell_type": "code",
      "execution_count": 47,
      "metadata": {
        "id": "0289d235"
      },
      "outputs": [],
      "source": [
        "dtree = DecisionTreeClassifier(random_state = 42)"
      ],
      "id": "0289d235"
    },
    {
      "cell_type": "code",
      "execution_count": 48,
      "metadata": {
        "colab": {
          "base_uri": "https://localhost:8080/"
        },
        "id": "9bd227c0",
        "outputId": "61e214d3-e71b-48d0-aec8-331d51aaa1f8",
        "scrolled": true
      },
      "outputs": [
        {
          "output_type": "execute_result",
          "data": {
            "text/plain": [
              "DecisionTreeClassifier(random_state=42)"
            ]
          },
          "metadata": {},
          "execution_count": 48
        }
      ],
      "source": [
        "dtree.fit(X_train_t, y_train_t)"
      ],
      "id": "9bd227c0"
    },
    {
      "cell_type": "code",
      "execution_count": 49,
      "metadata": {
        "id": "9f0af0fc"
      },
      "outputs": [],
      "source": [
        "y_train_pred = dtree.predict(X_train_t)"
      ],
      "id": "9f0af0fc"
    },
    {
      "cell_type": "code",
      "execution_count": 50,
      "metadata": {
        "id": "289c20ba"
      },
      "outputs": [],
      "source": [
        "y_train_pred_proba = dtree.predict_proba(X_train_t)"
      ],
      "id": "289c20ba"
    },
    {
      "cell_type": "code",
      "execution_count": 51,
      "metadata": {
        "id": "d7540e90"
      },
      "outputs": [],
      "source": [
        "y_test_pred = dtree.predict(X_val)"
      ],
      "id": "d7540e90"
    },
    {
      "cell_type": "code",
      "execution_count": 52,
      "metadata": {
        "id": "196d3aee"
      },
      "outputs": [],
      "source": [
        "y_test_pred_proba = dtree.predict_proba(X_val)"
      ],
      "id": "196d3aee"
    },
    {
      "cell_type": "code",
      "execution_count": 53,
      "metadata": {
        "colab": {
          "base_uri": "https://localhost:8080/",
          "height": 1000
        },
        "id": "71a94e6a",
        "outputId": "0e30c8ca-8f0a-44ba-fd99-383abedb4149"
      },
      "outputs": [
        {
          "output_type": "stream",
          "name": "stdout",
          "text": [
            "For DecisionTreeClassifier :\n",
            "\tTrain Precision Score:0.929\n",
            "\tTest Precision Score:0.000\n",
            "\t---\t---\t---\t---\n",
            "\tTrain Recall Score:0.026\n",
            "\tTest Recall Score:0.000\n",
            "\t---\t---\t---\t---\n",
            "\tTrain ROC AUC Score:0.951\n",
            "\tTest ROC AUC Score:0.911\n",
            "------------------------------------------------------------------------------------------------------\n"
          ]
        },
        {
          "output_type": "display_data",
          "data": {
            "text/plain": [
              "<Figure size 864x288 with 2 Axes>"
            ],
            "image/png": "[encoded data removed]"
          },
          "metadata": {}
        },
        {
          "output_type": "stream",
          "name": "stdout",
          "text": [
            "------------------------------------------------------------------------------------------------------\n"
          ]
        },
        {
          "output_type": "display_data",
          "data": {
            "text/plain": [
              "<Figure size 576x576 with 1 Axes>"
            ],
            "image/png": "[encoded data removed]"
          },
          "metadata": {
            "needs_background": "light"
          }
        },
        {
          "output_type": "stream",
          "name": "stdout",
          "text": [
            "------------------------------------------------------------------------------------------------------\n",
            "              precision    recall  f1-score   support\n",
            "\n",
            "           0       1.00      1.00      1.00     87854\n",
            "           1       0.00      0.00      0.00       124\n",
            "\n",
            "    accuracy                           1.00     87978\n",
            "   macro avg       0.50      0.50      0.50     87978\n",
            "weighted avg       1.00      1.00      1.00     87978\n",
            "\n"
          ]
        }
      ],
      "source": [
        "fit_train(dtree)"
      ],
      "id": "71a94e6a"
    },
    {
      "cell_type": "markdown",
      "metadata": {
        "id": "f1803ac0"
      },
      "source": [
        "### Aplicando Cross_Val_Score y GridSearchCV a Decision Tree"
      ],
      "id": "f1803ac0"
    },
    {
      "cell_type": "code",
      "execution_count": 54,
      "metadata": {
        "id": "23de7dc2"
      },
      "outputs": [],
      "source": [
        "# Cross Val Score\n",
        "cvs_train = cross_val_score(dtree, X_train_t, y_train_t, cv=5, scoring = 'recall')"
      ],
      "id": "23de7dc2"
    },
    {
      "cell_type": "code",
      "execution_count": 55,
      "metadata": {
        "colab": {
          "base_uri": "https://localhost:8080/"
        },
        "id": "9f5ff879",
        "outputId": "e62127a5-3c40-4e26-d77a-ef12923edd16"
      },
      "outputs": [
        {
          "output_type": "stream",
          "name": "stdout",
          "text": [
            "El pormedio de recall es: 0.008101422387136672\n"
          ]
        },
        {
          "output_type": "execute_result",
          "data": {
            "text/plain": [
              "array([0.01010101, 0.        , 0.01010101, 0.01010101, 0.01020408])"
            ]
          },
          "metadata": {},
          "execution_count": 55
        }
      ],
      "source": [
        "print(f'El pormedio de recall es: {cvs_train.mean()}')\n",
        "cvs_train"
      ],
      "id": "9f5ff879"
    },
    {
      "cell_type": "code",
      "execution_count": 56,
      "metadata": {
        "id": "885ac1e2"
      },
      "outputs": [],
      "source": [
        "# Gris Search CV\n",
        "param_grid = { \n",
        "    'max_features': ['sqrt', 'log2'],\n",
        "    'max_depth' : [4,8,12,16, 20, 24, 28, 32],\n",
        "    'criterion' :['gini', 'entropy']\n",
        "}"
      ],
      "id": "885ac1e2"
    },
    {
      "cell_type": "code",
      "execution_count": 57,
      "metadata": {
        "colab": {
          "base_uri": "https://localhost:8080/"
        },
        "id": "27c79d1f",
        "outputId": "7ba774db-343d-45d6-be86-1d58ad7ec717",
        "scrolled": true
      },
      "outputs": [
        {
          "output_type": "execute_result",
          "data": {
            "text/plain": [
              "GridSearchCV(cv=5, estimator=DecisionTreeClassifier(random_state=42),\n",
              "             param_grid={'criterion': ['gini', 'entropy'],\n",
              "                         'max_depth': [4, 8, 12, 16, 20, 24, 28, 32],\n",
              "                         'max_features': ['sqrt', 'log2']},\n",
              "             scoring='recall')"
            ]
          },
          "metadata": {},
          "execution_count": 57
        }
      ],
      "source": [
        "CV_dtree = GridSearchCV(estimator=dtree, param_grid=param_grid, cv= 5, scoring = 'recall')\n",
        "CV_dtree.fit(X_train_t, y_train_t)"
      ],
      "id": "27c79d1f"
    },
    {
      "cell_type": "code",
      "execution_count": 58,
      "metadata": {
        "colab": {
          "base_uri": "https://localhost:8080/"
        },
        "id": "a370b576",
        "outputId": "58ade76a-d9ad-47d7-c2bf-232b119e09b8"
      },
      "outputs": [
        {
          "output_type": "execute_result",
          "data": {
            "text/plain": [
              "{'criterion': 'gini', 'max_depth': 8, 'max_features': 'sqrt'}"
            ]
          },
          "metadata": {},
          "execution_count": 58
        }
      ],
      "source": [
        "CV_dtree.best_params_"
      ],
      "id": "a370b576"
    },
    {
      "cell_type": "code",
      "execution_count": 59,
      "metadata": {
        "id": "37f8201f",
        "scrolled": true
      },
      "outputs": [],
      "source": [
        "# Implementamos el rf final con los mejores parámetros de GridSearchCV\n",
        "dtree_final = DecisionTreeClassifier(criterion= 'gini', max_depth= 32,max_features= 'sqrt', random_state = 42)"
      ],
      "id": "37f8201f"
    },
    {
      "cell_type": "code",
      "execution_count": 60,
      "metadata": {
        "colab": {
          "base_uri": "https://localhost:8080/"
        },
        "id": "774a0551",
        "outputId": "304c8485-40b2-41a3-8fc6-2d1dba6dc089"
      },
      "outputs": [
        {
          "output_type": "execute_result",
          "data": {
            "text/plain": [
              "DecisionTreeClassifier(max_depth=32, max_features='sqrt', random_state=42)"
            ]
          },
          "metadata": {},
          "execution_count": 60
        }
      ],
      "source": [
        "dtree_final.fit(X_train_t, y_train_t)"
      ],
      "id": "774a0551"
    },
    {
      "cell_type": "code",
      "execution_count": 61,
      "metadata": {
        "id": "ec5b2bfe"
      },
      "outputs": [],
      "source": [
        "y_train_pred = dtree_final.predict(X_train_t)"
      ],
      "id": "ec5b2bfe"
    },
    {
      "cell_type": "code",
      "execution_count": 62,
      "metadata": {
        "id": "65774b8f",
        "scrolled": true
      },
      "outputs": [],
      "source": [
        "y_train_pred_proba = dtree_final.predict_proba(X_train_t)"
      ],
      "id": "65774b8f"
    },
    {
      "cell_type": "code",
      "execution_count": 63,
      "metadata": {
        "id": "6fcf0ba5"
      },
      "outputs": [],
      "source": [
        "y_test_pred = dtree_final.predict(X_val)"
      ],
      "id": "6fcf0ba5"
    },
    {
      "cell_type": "code",
      "execution_count": 64,
      "metadata": {
        "id": "1c7d0034"
      },
      "outputs": [],
      "source": [
        "y_test_pred_proba = dtree_final.predict_proba(X_val)"
      ],
      "id": "1c7d0034"
    },
    {
      "cell_type": "code",
      "execution_count": 65,
      "metadata": {
        "colab": {
          "base_uri": "https://localhost:8080/",
          "height": 1000
        },
        "id": "b95c2e44",
        "outputId": "de7383bf-57b6-471c-a2ca-871c364f0576"
      },
      "outputs": [
        {
          "output_type": "stream",
          "name": "stdout",
          "text": [
            "For DecisionTreeClassifier :\n",
            "\tTrain Precision Score:0.929\n",
            "\tTest Precision Score:0.083\n",
            "\t---\t---\t---\t---\n",
            "\tTrain Recall Score:0.026\n",
            "\tTest Recall Score:0.008\n",
            "\t---\t---\t---\t---\n",
            "\tTrain ROC AUC Score:0.951\n",
            "\tTest ROC AUC Score:0.911\n",
            "------------------------------------------------------------------------------------------------------\n"
          ]
        },
        {
          "output_type": "display_data",
          "data": {
            "text/plain": [
              "<Figure size 864x288 with 2 Axes>"
            ],
            "image/png": "[encoded data removed]"
          },
          "metadata": {}
        },
        {
          "output_type": "stream",
          "name": "stdout",
          "text": [
            "------------------------------------------------------------------------------------------------------\n"
          ]
        },
        {
          "output_type": "display_data",
          "data": {
            "text/plain": [
              "<Figure size 576x576 with 1 Axes>"
            ],
            "image/png": "[encoded data removed]"
          },
          "metadata": {
            "needs_background": "light"
          }
        },
        {
          "output_type": "stream",
          "name": "stdout",
          "text": [
            "------------------------------------------------------------------------------------------------------\n",
            "              precision    recall  f1-score   support\n",
            "\n",
            "           0       1.00      1.00      1.00     87854\n",
            "           1       0.08      0.01      0.01       124\n",
            "\n",
            "    accuracy                           1.00     87978\n",
            "   macro avg       0.54      0.50      0.51     87978\n",
            "weighted avg       1.00      1.00      1.00     87978\n",
            "\n"
          ]
        }
      ],
      "source": [
        "# Utilizamos las función de resumen de métricas de predicción\n",
        "fit_train(dtree_final)"
      ],
      "id": "b95c2e44"
    },
    {
      "cell_type": "markdown",
      "metadata": {
        "id": "4d24715a"
      },
      "source": [
        "### Árbol de Decisión: Definiendo las predicción según el límite calculado por la matriz de costos "
      ],
      "id": "4d24715a"
    },
    {
      "cell_type": "code",
      "execution_count": 66,
      "metadata": {
        "id": "5b382896"
      },
      "outputs": [],
      "source": [
        "threshold = 0.02"
      ],
      "id": "5b382896"
    },
    {
      "cell_type": "code",
      "execution_count": 67,
      "metadata": {
        "id": "ddbd3a90"
      },
      "outputs": [],
      "source": [
        "y_train_pred_h = y_train_pred_proba[:, 1] > threshold\n",
        "y_test_pred_h = y_test_pred_proba[:, 1] > threshold"
      ],
      "id": "ddbd3a90"
    },
    {
      "cell_type": "code",
      "execution_count": 68,
      "metadata": {
        "colab": {
          "base_uri": "https://localhost:8080/"
        },
        "id": "39524dee",
        "outputId": "d126b656-0012-466a-973e-6ceb0da25c42"
      },
      "outputs": [
        {
          "output_type": "execute_result",
          "data": {
            "text/plain": [
              "(351909,)"
            ]
          },
          "metadata": {},
          "execution_count": 68
        }
      ],
      "source": [
        "y_train_pred_h.shape"
      ],
      "id": "39524dee"
    },
    {
      "cell_type": "code",
      "execution_count": 69,
      "metadata": {
        "colab": {
          "base_uri": "https://localhost:8080/"
        },
        "id": "324ebd76",
        "outputId": "87f0913b-2373-46ef-f351-70e560e91a2b"
      },
      "outputs": [
        {
          "output_type": "execute_result",
          "data": {
            "text/plain": [
              "707"
            ]
          },
          "metadata": {},
          "execution_count": 69
        }
      ],
      "source": [
        "y_test_pred_h.sum()"
      ],
      "id": "324ebd76"
    },
    {
      "cell_type": "code",
      "execution_count": 70,
      "metadata": {
        "colab": {
          "base_uri": "https://localhost:8080/",
          "height": 573
        },
        "id": "f9eb678f",
        "outputId": "62098d7b-c0e7-4dc3-e6e3-5c632fe1f5fe"
      },
      "outputs": [
        {
          "output_type": "display_data",
          "data": {
            "text/plain": [
              "<Figure size 432x288 with 2 Axes>"
            ],
            "image/png": "[encoded data removed]"
          },
          "metadata": {
            "needs_background": "light"
          }
        },
        {
          "output_type": "display_data",
          "data": {
            "text/plain": [
              "<Figure size 432x288 with 2 Axes>"
            ],
            "image/png": "[encoded data removed]"
          },
          "metadata": {
            "needs_background": "light"
          }
        }
      ],
      "source": [
        "# HeatMap de Matriz de Confusión\n",
        "\n",
        "cm_train = confusion_matrix(y_train_t, y_train_pred_h, labels=dtree_final.classes_)\n",
        "cm_test = confusion_matrix(y_val, y_test_pred_h, labels=dtree_final.classes_)\n",
        "\n",
        "disp_train = ConfusionMatrixDisplay(confusion_matrix=cm_train,\n",
        "                               display_labels=dtree_final.classes_)\n",
        "\n",
        "disp_test = ConfusionMatrixDisplay(confusion_matrix=cm_test,\n",
        "                               display_labels=dtree_final.classes_)\n",
        "\n",
        "disp_train.plot()\n",
        "disp_train.ax_.set_title('Train')\n",
        "\n",
        "disp_test.plot()\n",
        "disp_test.ax_.set_title('Test')\n",
        "\n",
        "\n",
        "plt.show()"
      ],
      "id": "f9eb678f"
    },
    {
      "cell_type": "code",
      "execution_count": 71,
      "metadata": {
        "colab": {
          "base_uri": "https://localhost:8080/",
          "height": 297
        },
        "id": "7d636dc6",
        "outputId": "1a094c52-54d7-40bb-9893-464f6c32b450"
      },
      "outputs": [
        {
          "output_type": "execute_result",
          "data": {
            "text/plain": [
              "<matplotlib.legend.Legend at 0x7f89b9fb1f10>"
            ]
          },
          "metadata": {},
          "execution_count": 71
        },
        {
          "output_type": "display_data",
          "data": {
            "text/plain": [
              "<Figure size 432x288 with 1 Axes>"
            ],
            "image/png": "[encoded data removed]"
          },
          "metadata": {
            "needs_background": "light"
          }
        }
      ],
      "source": [
        "precision, recall, thresholds = precision_recall_curve(y_val, dtree_final.predict_proba(X_val)[:, 1])\n",
        "\n",
        "# find threshold closest to zero\n",
        "close_zero = np.argmin(np.abs(thresholds))\n",
        "plt.plot(precision[close_zero], recall[close_zero], 'o', markersize=10,\n",
        "label=\"threshold zero\", fillstyle=\"none\", c='k', mew=2)\n",
        "plt.plot(precision, recall, label=\"precision recall curve\")\n",
        "plt.xlabel(\"Precision\")\n",
        "plt.ylabel(\"Recall\")\n",
        "plt.legend(loc=\"best\")"
      ],
      "id": "7d636dc6"
    },
    {
      "cell_type": "code",
      "execution_count": 72,
      "metadata": {
        "colab": {
          "base_uri": "https://localhost:8080/"
        },
        "id": "03b98be3",
        "outputId": "15516978-b3ff-437c-9893-92a1d1f29cce"
      },
      "outputs": [
        {
          "output_type": "stream",
          "name": "stdout",
          "text": [
            "              precision    recall  f1-score   support\n",
            "\n",
            "     class 0       1.00      0.99      1.00     87854\n",
            "     class 1       0.06      0.32      0.10       124\n",
            "\n",
            "    accuracy                           0.99     87978\n",
            "   macro avg       0.53      0.66      0.55     87978\n",
            "weighted avg       1.00      0.99      0.99     87978\n",
            "\n"
          ]
        }
      ],
      "source": [
        "# Tabla de métricas de Clasificación\n",
        "target_names = ['class 0', 'class 1']\n",
        "clf_report = classification_report(y_val, y_test_pred_h, target_names=target_names)\n",
        "print(clf_report)"
      ],
      "id": "03b98be3"
    },
    {
      "cell_type": "markdown",
      "metadata": {
        "id": "51a7b382"
      },
      "source": [
        "## 3. Random Forest"
      ],
      "id": "51a7b382"
    },
    {
      "cell_type": "code",
      "execution_count": 73,
      "metadata": {
        "id": "0787e07d"
      },
      "outputs": [],
      "source": [
        "rf = RandomForestClassifier()"
      ],
      "id": "0787e07d"
    },
    {
      "cell_type": "code",
      "execution_count": 74,
      "metadata": {
        "colab": {
          "base_uri": "https://localhost:8080/"
        },
        "id": "3fd32ccd",
        "outputId": "64fead61-23f8-453b-e152-403d55bf1873"
      },
      "outputs": [
        {
          "output_type": "execute_result",
          "data": {
            "text/plain": [
              "RandomForestClassifier()"
            ]
          },
          "metadata": {},
          "execution_count": 74
        }
      ],
      "source": [
        "rf.fit(X_train_t, y_train_t)"
      ],
      "id": "3fd32ccd"
    },
    {
      "cell_type": "code",
      "execution_count": 75,
      "metadata": {
        "id": "9903758d"
      },
      "outputs": [],
      "source": [
        "y_train_pred = rf.predict(X_train_t)"
      ],
      "id": "9903758d"
    },
    {
      "cell_type": "code",
      "execution_count": 76,
      "metadata": {
        "id": "de4f8e0d"
      },
      "outputs": [],
      "source": [
        "y_train_pred_proba = rf.predict_proba(X_train_t)"
      ],
      "id": "de4f8e0d"
    },
    {
      "cell_type": "code",
      "execution_count": 77,
      "metadata": {
        "id": "2dc4c0a0"
      },
      "outputs": [],
      "source": [
        "y_test_pred = rf.predict(X_val)"
      ],
      "id": "2dc4c0a0"
    },
    {
      "cell_type": "code",
      "execution_count": 78,
      "metadata": {
        "id": "f85d70be"
      },
      "outputs": [],
      "source": [
        "y_test_pred_proba = rf.predict_proba(X_val)"
      ],
      "id": "f85d70be"
    },
    {
      "cell_type": "code",
      "execution_count": 79,
      "metadata": {
        "colab": {
          "base_uri": "https://localhost:8080/",
          "height": 1000
        },
        "id": "40e16abc",
        "outputId": "9bf86db0-50e9-4922-d3a8-094ac4bd9b2c"
      },
      "outputs": [
        {
          "output_type": "stream",
          "name": "stdout",
          "text": [
            "For RandomForestClassifier :\n",
            "\tTrain Precision Score:0.929\n",
            "\tTest Precision Score:0.000\n",
            "\t---\t---\t---\t---\n",
            "\tTrain Recall Score:0.026\n",
            "\tTest Recall Score:0.000\n",
            "\t---\t---\t---\t---\n",
            "\tTrain ROC AUC Score:0.950\n",
            "\tTest ROC AUC Score:0.926\n",
            "------------------------------------------------------------------------------------------------------\n"
          ]
        },
        {
          "output_type": "display_data",
          "data": {
            "text/plain": [
              "<Figure size 864x288 with 2 Axes>"
            ],
            "image/png": "[encoded data removed]"
          },
          "metadata": {}
        },
        {
          "output_type": "stream",
          "name": "stdout",
          "text": [
            "------------------------------------------------------------------------------------------------------\n"
          ]
        },
        {
          "output_type": "display_data",
          "data": {
            "text/plain": [
              "<Figure size 576x576 with 1 Axes>"
            ],
            "image/png": "[encoded data removed]"
          },
          "metadata": {
            "needs_background": "light"
          }
        },
        {
          "output_type": "stream",
          "name": "stdout",
          "text": [
            "------------------------------------------------------------------------------------------------------\n",
            "              precision    recall  f1-score   support\n",
            "\n",
            "           0       1.00      1.00      1.00     87854\n",
            "           1       0.00      0.00      0.00       124\n",
            "\n",
            "    accuracy                           1.00     87978\n",
            "   macro avg       0.50      0.50      0.50     87978\n",
            "weighted avg       1.00      1.00      1.00     87978\n",
            "\n"
          ]
        }
      ],
      "source": [
        "# Utilizamos las función de resumen de métricas de predicción\n",
        "fit_train(rf)"
      ],
      "id": "40e16abc"
    },
    {
      "cell_type": "markdown",
      "metadata": {
        "id": "45f62fd9"
      },
      "source": [
        "### Aplicando Cross_Val_Score y GridSearchCV a Random Forest"
      ],
      "id": "45f62fd9"
    },
    {
      "cell_type": "code",
      "execution_count": 80,
      "metadata": {
        "id": "77b9deb4"
      },
      "outputs": [],
      "source": [
        "# Cross Val Score\n",
        "cvs_train = cross_val_score(rf, X_train_t, y_train_t, cv=5, scoring = 'recall') #, random_state = 42)"
      ],
      "id": "77b9deb4"
    },
    {
      "cell_type": "code",
      "execution_count": 81,
      "metadata": {
        "colab": {
          "base_uri": "https://localhost:8080/"
        },
        "id": "a45dbbee",
        "outputId": "b4ea7782-0912-4aa5-c643-acd99c3760cb"
      },
      "outputs": [
        {
          "output_type": "stream",
          "name": "stdout",
          "text": [
            "El pormedio de recall es: 0.010121624407338693\n"
          ]
        },
        {
          "output_type": "execute_result",
          "data": {
            "text/plain": [
              "array([0.01010101, 0.01010101, 0.01010101, 0.01010101, 0.01020408])"
            ]
          },
          "metadata": {},
          "execution_count": 81
        }
      ],
      "source": [
        "print(f'El pormedio de recall es: {cvs_train.mean()}')\n",
        "cvs_train"
      ],
      "id": "a45dbbee"
    },
    {
      "cell_type": "code",
      "execution_count": 82,
      "metadata": {
        "id": "08822af3"
      },
      "outputs": [],
      "source": [
        "# Gris Search CV\n",
        "param_grid = { \n",
        "    'n_estimators': [5, 10, 20],\n",
        "    'max_features': ['sqrt', 'log2'],\n",
        "    'max_depth' : [4,8,12,16, 20, 24, 28, 32],\n",
        "    'criterion' :['gini', 'entropy']\n",
        "}"
      ],
      "id": "08822af3"
    },
    {
      "cell_type": "code",
      "execution_count": 83,
      "metadata": {
        "colab": {
          "base_uri": "https://localhost:8080/"
        },
        "id": "17723358",
        "outputId": "a9427e3f-4dd0-44d4-f62c-efd28d312e58"
      },
      "outputs": [
        {
          "output_type": "execute_result",
          "data": {
            "text/plain": [
              "GridSearchCV(cv=5, estimator=RandomForestClassifier(),\n",
              "             param_grid={'criterion': ['gini', 'entropy'],\n",
              "                         'max_depth': [4, 8, 12, 16, 20, 24, 28, 32],\n",
              "                         'max_features': ['sqrt', 'log2'],\n",
              "                         'n_estimators': [5, 10, 20]},\n",
              "             scoring='recall')"
            ]
          },
          "metadata": {},
          "execution_count": 83
        }
      ],
      "source": [
        "CV_rfc = GridSearchCV(estimator=rf, param_grid=param_grid, cv= 5, scoring = 'recall') #, random_state = 42)\n",
        "CV_rfc.fit(X_train_t, y_train_t)"
      ],
      "id": "17723358"
    },
    {
      "cell_type": "code",
      "execution_count": 84,
      "metadata": {
        "colab": {
          "base_uri": "https://localhost:8080/"
        },
        "id": "cc14a67b",
        "outputId": "9f98f938-86b0-4826-d387-8de988f5b7d2"
      },
      "outputs": [
        {
          "output_type": "execute_result",
          "data": {
            "text/plain": [
              "{'criterion': 'entropy',\n",
              " 'max_depth': 24,\n",
              " 'max_features': 'sqrt',\n",
              " 'n_estimators': 10}"
            ]
          },
          "metadata": {},
          "execution_count": 84
        }
      ],
      "source": [
        "CV_rfc.best_params_"
      ],
      "id": "cc14a67b"
    },
    {
      "cell_type": "code",
      "execution_count": 85,
      "metadata": {
        "id": "170a31cc",
        "scrolled": true
      },
      "outputs": [],
      "source": [
        "# Implementamos el rf final con los mejores parámetros de GridSearchCV\n",
        "rf_final = RandomForestClassifier(criterion= 'gini', max_depth= 14,max_features= 'sqrt',n_estimators= 5)"
      ],
      "id": "170a31cc"
    },
    {
      "cell_type": "code",
      "execution_count": 86,
      "metadata": {
        "colab": {
          "base_uri": "https://localhost:8080/"
        },
        "id": "9ed58171",
        "outputId": "f7e96b1c-0fbe-4ce9-a785-e4c43c4d874d"
      },
      "outputs": [
        {
          "output_type": "execute_result",
          "data": {
            "text/plain": [
              "RandomForestClassifier(max_depth=14, max_features='sqrt', n_estimators=5)"
            ]
          },
          "metadata": {},
          "execution_count": 86
        }
      ],
      "source": [
        "rf_final.fit(X_train_t, y_train_t)"
      ],
      "id": "9ed58171"
    },
    {
      "cell_type": "code",
      "execution_count": 87,
      "metadata": {
        "id": "b8b74993"
      },
      "outputs": [],
      "source": [
        "y_train_pred = rf_final.predict(X_train_t)"
      ],
      "id": "b8b74993"
    },
    {
      "cell_type": "code",
      "execution_count": 88,
      "metadata": {
        "id": "d8a55cf5"
      },
      "outputs": [],
      "source": [
        "y_train_pred_proba = rf_final.predict_proba(X_train_t)"
      ],
      "id": "d8a55cf5"
    },
    {
      "cell_type": "code",
      "execution_count": 89,
      "metadata": {
        "id": "e8009430"
      },
      "outputs": [],
      "source": [
        "y_test_pred = rf_final.predict(X_val)"
      ],
      "id": "e8009430"
    },
    {
      "cell_type": "code",
      "execution_count": 90,
      "metadata": {
        "id": "571baf65"
      },
      "outputs": [],
      "source": [
        "y_test_pred_proba = rf_final.predict_proba(X_val)"
      ],
      "id": "571baf65"
    },
    {
      "cell_type": "code",
      "execution_count": 91,
      "metadata": {
        "colab": {
          "base_uri": "https://localhost:8080/",
          "height": 1000
        },
        "id": "296e6cec",
        "outputId": "76f62844-2d75-42c2-b1e4-501c85de863f"
      },
      "outputs": [
        {
          "output_type": "stream",
          "name": "stdout",
          "text": [
            "For RandomForestClassifier :\n",
            "\tTrain Precision Score:0.727\n",
            "\tTest Precision Score:0.200\n",
            "\t---\t---\t---\t---\n",
            "\tTrain Recall Score:0.032\n",
            "\tTest Recall Score:0.008\n",
            "\t---\t---\t---\t---\n",
            "\tTrain ROC AUC Score:0.951\n",
            "\tTest ROC AUC Score:0.916\n",
            "------------------------------------------------------------------------------------------------------\n"
          ]
        },
        {
          "output_type": "display_data",
          "data": {
            "text/plain": [
              "<Figure size 864x288 with 2 Axes>"
            ],
            "image/png": "[encoded data removed]"
          },
          "metadata": {}
        },
        {
          "output_type": "stream",
          "name": "stdout",
          "text": [
            "------------------------------------------------------------------------------------------------------\n"
          ]
        },
        {
          "output_type": "display_data",
          "data": {
            "text/plain": [
              "<Figure size 576x576 with 1 Axes>"
            ],
            "image/png": "[encoded data removed]"
          },
          "metadata": {
            "needs_background": "light"
          }
        },
        {
          "output_type": "stream",
          "name": "stdout",
          "text": [
            "------------------------------------------------------------------------------------------------------\n",
            "              precision    recall  f1-score   support\n",
            "\n",
            "           0       1.00      1.00      1.00     87854\n",
            "           1       0.20      0.01      0.02       124\n",
            "\n",
            "    accuracy                           1.00     87978\n",
            "   macro avg       0.60      0.50      0.51     87978\n",
            "weighted avg       1.00      1.00      1.00     87978\n",
            "\n"
          ]
        }
      ],
      "source": [
        "# Utilizamos las función de resumen de métricas de predicción\n",
        "fit_train(rf_final)"
      ],
      "id": "296e6cec"
    },
    {
      "cell_type": "markdown",
      "metadata": {
        "id": "2792e03b"
      },
      "source": [
        "### Random Forest: Definiendo las predicción según el límite calculado por la matriz de costos "
      ],
      "id": "2792e03b"
    },
    {
      "cell_type": "code",
      "execution_count": 92,
      "metadata": {
        "id": "09a106a9"
      },
      "outputs": [],
      "source": [
        "threshold = 0.02"
      ],
      "id": "09a106a9"
    },
    {
      "cell_type": "code",
      "execution_count": 93,
      "metadata": {
        "id": "d4e5929f"
      },
      "outputs": [],
      "source": [
        "y_train_pred_h = y_train_pred_proba[:, 1] > threshold\n",
        "y_test_pred_h = y_test_pred_proba[:, 1] > threshold"
      ],
      "id": "d4e5929f"
    },
    {
      "cell_type": "code",
      "execution_count": 94,
      "metadata": {
        "colab": {
          "base_uri": "https://localhost:8080/"
        },
        "id": "f928d6b6",
        "outputId": "bc082148-cbbc-4d6a-8b7a-e706317eea39"
      },
      "outputs": [
        {
          "output_type": "execute_result",
          "data": {
            "text/plain": [
              "(351909,)"
            ]
          },
          "metadata": {},
          "execution_count": 94
        }
      ],
      "source": [
        "y_train_pred_h.shape"
      ],
      "id": "f928d6b6"
    },
    {
      "cell_type": "code",
      "execution_count": 95,
      "metadata": {
        "colab": {
          "base_uri": "https://localhost:8080/"
        },
        "id": "389e7cfd",
        "outputId": "977af9a8-6625-49c3-e7b6-db63a489a496"
      },
      "outputs": [
        {
          "output_type": "execute_result",
          "data": {
            "text/plain": [
              "709"
            ]
          },
          "metadata": {},
          "execution_count": 95
        }
      ],
      "source": [
        "y_test_pred_h.sum()"
      ],
      "id": "389e7cfd"
    },
    {
      "cell_type": "code",
      "execution_count": 96,
      "metadata": {
        "colab": {
          "base_uri": "https://localhost:8080/",
          "height": 573
        },
        "id": "c6007d01",
        "outputId": "c4e23bb6-eafa-4a11-81f8-cfee1f2365bc"
      },
      "outputs": [
        {
          "output_type": "display_data",
          "data": {
            "text/plain": [
              "<Figure size 432x288 with 2 Axes>"
            ],
            "image/png": "[encoded data removed]"
          },
          "metadata": {
            "needs_background": "light"
          }
        },
        {
          "output_type": "display_data",
          "data": {
            "text/plain": [
              "<Figure size 432x288 with 2 Axes>"
            ],
            "image/png": "[encoded data removed]"
          },
          "metadata": {
            "needs_background": "light"
          }
        }
      ],
      "source": [
        "# HeatMap de Matriz de Confusión\n",
        "\n",
        "cm_train = confusion_matrix(y_train_t, y_train_pred_h, labels=rf_final.classes_)\n",
        "cm_test = confusion_matrix(y_val, y_test_pred_h, labels=rf_final.classes_)\n",
        "\n",
        "disp_train = ConfusionMatrixDisplay(confusion_matrix=cm_train,\n",
        "                               display_labels=rf_final.classes_)\n",
        "\n",
        "disp_test = ConfusionMatrixDisplay(confusion_matrix=cm_test,\n",
        "                               display_labels=rf_final.classes_)\n",
        "\n",
        "disp_train.plot()\n",
        "disp_train.ax_.set_title('Train')\n",
        "\n",
        "disp_test.plot()\n",
        "disp_test.ax_.set_title('Test')\n",
        "\n",
        "\n",
        "plt.show()"
      ],
      "id": "c6007d01"
    },
    {
      "cell_type": "code",
      "execution_count": 97,
      "metadata": {
        "colab": {
          "base_uri": "https://localhost:8080/"
        },
        "id": "14af9d6b",
        "outputId": "ba6bc429-ad6a-4244-fee8-aa5ef552c4ae"
      },
      "outputs": [
        {
          "output_type": "stream",
          "name": "stdout",
          "text": [
            "0:00:10.298526\n"
          ]
        }
      ],
      "source": [
        "final_date = datetime.now()\n",
        "print((final_date-inicial_date)/60)"
      ],
      "id": "14af9d6b"
    },
    {
      "cell_type": "code",
      "execution_count": 98,
      "metadata": {
        "colab": {
          "base_uri": "https://localhost:8080/",
          "height": 297
        },
        "id": "1dbb20b6",
        "outputId": "0ec5e22f-3ee7-47ab-8789-c10041eb51d3"
      },
      "outputs": [
        {
          "output_type": "execute_result",
          "data": {
            "text/plain": [
              "<matplotlib.legend.Legend at 0x7f89b9b95f90>"
            ]
          },
          "metadata": {},
          "execution_count": 98
        },
        {
          "output_type": "display_data",
          "data": {
            "text/plain": [
              "<Figure size 432x288 with 1 Axes>"
            ],
            "image/png": "[encoded data removed]"
          },
          "metadata": {
            "needs_background": "light"
          }
        }
      ],
      "source": [
        "precision, recall, thresholds = precision_recall_curve(y_val, rf_final.predict_proba(X_val)[:, 1])\n",
        "\n",
        "# find threshold closest to zero\n",
        "close_zero = np.argmin(np.abs(thresholds))\n",
        "plt.plot(precision[close_zero], recall[close_zero], 'o', markersize=10,\n",
        "label=\"threshold zero\", fillstyle=\"none\", c='k', mew=2)\n",
        "plt.plot(precision, recall, label=\"precision recall curve\")\n",
        "plt.xlabel(\"Precision\")\n",
        "plt.ylabel(\"Recall\")\n",
        "plt.legend(loc=\"best\")"
      ],
      "id": "1dbb20b6"
    },
    {
      "cell_type": "code",
      "execution_count": 99,
      "metadata": {
        "colab": {
          "base_uri": "https://localhost:8080/"
        },
        "id": "07aec1f8",
        "outputId": "269614bb-9b8b-4512-f2a9-06b4a97ebd67"
      },
      "outputs": [
        {
          "output_type": "stream",
          "name": "stdout",
          "text": [
            "              precision    recall  f1-score   support\n",
            "\n",
            "     class 0       1.00      0.99      1.00     87854\n",
            "     class 1       0.06      0.32      0.10       124\n",
            "\n",
            "    accuracy                           0.99     87978\n",
            "   macro avg       0.53      0.66      0.55     87978\n",
            "weighted avg       1.00      0.99      0.99     87978\n",
            "\n"
          ]
        }
      ],
      "source": [
        "# Tabla de métricas de Clasificación\n",
        "target_names = ['class 0', 'class 1']\n",
        "clf_report = classification_report(y_val, y_test_pred_h, target_names=target_names)\n",
        "print(clf_report)"
      ],
      "id": "07aec1f8"
    },
    {
      "cell_type": "markdown",
      "metadata": {
        "id": "0f6274bd"
      },
      "source": [
        "## 4. SVC"
      ],
      "id": "0f6274bd"
    },
    {
      "cell_type": "code",
      "execution_count": null,
      "metadata": {
        "id": "7c414026"
      },
      "outputs": [],
      "source": [
        "svc = SVC(probability = True)"
      ],
      "id": "7c414026"
    },
    {
      "cell_type": "code",
      "execution_count": null,
      "metadata": {
        "id": "7c368eaa",
        "scrolled": true
      },
      "outputs": [],
      "source": [
        "svc.fit(X_train_t, y_train_t)"
      ],
      "id": "7c368eaa"
    },
    {
      "cell_type": "code",
      "execution_count": null,
      "metadata": {
        "id": "6dbe8cee"
      },
      "outputs": [],
      "source": [
        "y_train_pred = svc.predict(X_train_t)"
      ],
      "id": "6dbe8cee"
    },
    {
      "cell_type": "code",
      "execution_count": null,
      "metadata": {
        "id": "75cde0ec"
      },
      "outputs": [],
      "source": [
        "y_train_pred_proba = svc.predict_proba(X_train_t)"
      ],
      "id": "75cde0ec"
    },
    {
      "cell_type": "code",
      "execution_count": null,
      "metadata": {
        "id": "d4839ee0"
      },
      "outputs": [],
      "source": [
        "y_test_pred = svc.predict(X_val)"
      ],
      "id": "d4839ee0"
    },
    {
      "cell_type": "code",
      "execution_count": null,
      "metadata": {
        "id": "0d861224"
      },
      "outputs": [],
      "source": [
        "y_test_pred_proba = svc.predict_proba(X_val)"
      ],
      "id": "0d861224"
    },
    {
      "cell_type": "code",
      "execution_count": null,
      "metadata": {
        "id": "bde183bd"
      },
      "outputs": [],
      "source": [
        "# Utilizamos las función de resumen de métricas de predicción\n",
        "fit_train(svc)"
      ],
      "id": "bde183bd"
    },
    {
      "cell_type": "markdown",
      "metadata": {
        "id": "4a53b2e6"
      },
      "source": [
        "### Aplicando Cross_Val_Score y GridSearchCV a SVC"
      ],
      "id": "4a53b2e6"
    },
    {
      "cell_type": "code",
      "execution_count": null,
      "metadata": {
        "id": "12586830"
      },
      "outputs": [],
      "source": [
        "# Cross Val Score\n",
        "cvs_train = cross_val_score(svc, X_train_t, y_train_t, cv=5, scoring = 'recall')#, random_state = 42)"
      ],
      "id": "12586830"
    },
    {
      "cell_type": "code",
      "execution_count": null,
      "metadata": {
        "id": "f8b5a263"
      },
      "outputs": [],
      "source": [
        "print(f'El promedio de recall es: {cvs_auc_train.mean()}')\n",
        "cvs_train"
      ],
      "id": "f8b5a263"
    },
    {
      "cell_type": "code",
      "execution_count": null,
      "metadata": {
        "id": "91759805"
      },
      "outputs": [],
      "source": [
        "# Grid Search CV\n",
        "param_grid = {'C':[1,10,100,1000],\n",
        "              'gamma':[1,0.1,0.001,0.0001], \n",
        "              'kernel':['linear','rbf']}"
      ],
      "id": "91759805"
    },
    {
      "cell_type": "code",
      "execution_count": null,
      "metadata": {
        "id": "2dc1ef19"
      },
      "outputs": [],
      "source": [
        "CV_svc = GridSearchCV(estimator=svc, param_grid=param_grid, cv= 5, scoring = 'recall', random_state = 42)\n",
        "CV_svc.fit(X_train_t, y_train_t)"
      ],
      "id": "2dc1ef19"
    },
    {
      "cell_type": "code",
      "execution_count": null,
      "metadata": {
        "id": "df1e8fb6"
      },
      "outputs": [],
      "source": [
        "CV_svc.best_params_"
      ],
      "id": "df1e8fb6"
    },
    {
      "cell_type": "code",
      "execution_count": null,
      "metadata": {
        "id": "5c6ab184"
      },
      "outputs": [],
      "source": [
        "# Implementamos el rf final con los mejores parámetros de GridSearchCV\n",
        "svc_final = SVC(C = 10, gamma = 0.1, kernel = 'linear', probability = True)"
      ],
      "id": "5c6ab184"
    },
    {
      "cell_type": "code",
      "execution_count": null,
      "metadata": {
        "id": "ca8623c7"
      },
      "outputs": [],
      "source": [
        "svc_final.fit(X_train_t, y_train_t)"
      ],
      "id": "ca8623c7"
    },
    {
      "cell_type": "code",
      "execution_count": null,
      "metadata": {
        "id": "6cfcccde"
      },
      "outputs": [],
      "source": [
        "y_train_pred = svc_final.predict(X_train_t)"
      ],
      "id": "6cfcccde"
    },
    {
      "cell_type": "code",
      "execution_count": null,
      "metadata": {
        "id": "f34861e7"
      },
      "outputs": [],
      "source": [
        "y_train_pred_proba = svc_final.predict_proba(X_train_t)"
      ],
      "id": "f34861e7"
    },
    {
      "cell_type": "code",
      "execution_count": null,
      "metadata": {
        "id": "bb89d321"
      },
      "outputs": [],
      "source": [
        "y_test_pred = svc_final.predict(X_val)"
      ],
      "id": "bb89d321"
    },
    {
      "cell_type": "code",
      "execution_count": null,
      "metadata": {
        "id": "07adf00c"
      },
      "outputs": [],
      "source": [
        "y_test_pred_proba = svc_final.predict_proba(X_val)"
      ],
      "id": "07adf00c"
    },
    {
      "cell_type": "code",
      "execution_count": null,
      "metadata": {
        "id": "9d1e2c2a",
        "scrolled": true
      },
      "outputs": [],
      "source": [
        "# Utilizamos las función de resumen de métricas de predicción\n",
        "fit_train(svc_final)"
      ],
      "id": "9d1e2c2a"
    },
    {
      "cell_type": "markdown",
      "metadata": {
        "id": "2b66b3fc"
      },
      "source": [
        "### SVC: Definiendo las predicción según el límite calculado por la matriz de costos "
      ],
      "id": "2b66b3fc"
    },
    {
      "cell_type": "code",
      "execution_count": null,
      "metadata": {
        "id": "cfcb69bf"
      },
      "outputs": [],
      "source": [
        "threshold = 0.02"
      ],
      "id": "cfcb69bf"
    },
    {
      "cell_type": "code",
      "execution_count": null,
      "metadata": {
        "id": "2196db2e"
      },
      "outputs": [],
      "source": [
        "y_train_pred_h = y_train_pred_proba[:, 1] > threshold\n",
        "y_test_pred_h = y_test_pred_proba[:, 1] > threshold"
      ],
      "id": "2196db2e"
    },
    {
      "cell_type": "code",
      "execution_count": null,
      "metadata": {
        "id": "2aea9e91"
      },
      "outputs": [],
      "source": [
        "y_train_pred_h.shape"
      ],
      "id": "2aea9e91"
    },
    {
      "cell_type": "code",
      "execution_count": null,
      "metadata": {
        "id": "47c96131"
      },
      "outputs": [],
      "source": [
        "y_test_pred_h.sum()"
      ],
      "id": "47c96131"
    },
    {
      "cell_type": "code",
      "execution_count": null,
      "metadata": {
        "id": "8b709ea9"
      },
      "outputs": [],
      "source": [
        "# HeatMap de Matriz de Confusión\n",
        "\n",
        "cm_train = confusion_matrix(y_train_t, y_train_pred_h, labels=svc_final.classes_)\n",
        "cm_test = confusion_matrix(y_val, y_test_pred_h, labels=svc_final.classes_)\n",
        "\n",
        "disp_train = ConfusionMatrixDisplay(confusion_matrix=cm_train,\n",
        "                               display_labels=svc_final.classes_)\n",
        "\n",
        "disp_test = ConfusionMatrixDisplay(confusion_matrix=cm_test,\n",
        "                               display_labels=svc_final.classes_)\n",
        "\n",
        "disp_train.plot()\n",
        "disp_train.ax_.set_title('Train')\n",
        "\n",
        "disp_test.plot()\n",
        "disp_test.ax_.set_title('Test')\n",
        "\n",
        "\n",
        "plt.show()"
      ],
      "id": "8b709ea9"
    },
    {
      "cell_type": "code",
      "execution_count": null,
      "metadata": {
        "id": "74743f1e"
      },
      "outputs": [],
      "source": [
        "precision, recall, thresholds = precision_recall_curve(y_val, svc_final.decision_function(X_val))\n",
        "\n",
        "# find threshold closest to zero\n",
        "close_zero = np.argmin(np.abs(thresholds))\n",
        "plt.plot(precision[close_zero], recall[close_zero], 'o', markersize=10,\n",
        "label=\"threshold zero\", fillstyle=\"none\", c='k', mew=2)\n",
        "plt.plot(precision, recall, label=\"precision recall curve\")\n",
        "plt.xlabel(\"Precision\")\n",
        "plt.ylabel(\"Recall\")\n",
        "plt.legend(loc=\"best\")"
      ],
      "id": "74743f1e"
    },
    {
      "cell_type": "code",
      "execution_count": null,
      "metadata": {
        "id": "b39c4191"
      },
      "outputs": [],
      "source": [
        "# Tabla de métricas de Clasificación\n",
        "target_names = ['class 0', 'class 1']\n",
        "clf_report = classification_report(y_val, y_test_pred_h, target_names=target_names)\n",
        "print(clf_report)"
      ],
      "id": "b39c4191"
    },
    {
      "cell_type": "markdown",
      "metadata": {
        "id": "38eed708"
      },
      "source": [
        "## 5. Naive Bayes - Bernoulli"
      ],
      "id": "38eed708"
    },
    {
      "cell_type": "code",
      "execution_count": null,
      "metadata": {
        "id": "f95821af"
      },
      "outputs": [],
      "source": [
        "nbb = BernoulliNB()"
      ],
      "id": "f95821af"
    },
    {
      "cell_type": "code",
      "execution_count": null,
      "metadata": {
        "id": "b6ab9f5d",
        "scrolled": true
      },
      "outputs": [],
      "source": [
        "nbb.fit(X_train_t, y_train_t)"
      ],
      "id": "b6ab9f5d"
    },
    {
      "cell_type": "code",
      "execution_count": null,
      "metadata": {
        "id": "92332265"
      },
      "outputs": [],
      "source": [
        "y_train_pred = nbb.predict(X_train_t)"
      ],
      "id": "92332265"
    },
    {
      "cell_type": "code",
      "execution_count": null,
      "metadata": {
        "id": "4ed7ec8b"
      },
      "outputs": [],
      "source": [
        "y_train_pred_proba = nbb.predict_proba(X_train_t)"
      ],
      "id": "4ed7ec8b"
    },
    {
      "cell_type": "code",
      "execution_count": null,
      "metadata": {
        "id": "d7c382f8"
      },
      "outputs": [],
      "source": [
        "y_test_pred = nbb.predict(X_val)"
      ],
      "id": "d7c382f8"
    },
    {
      "cell_type": "code",
      "execution_count": null,
      "metadata": {
        "id": "cd2836e9"
      },
      "outputs": [],
      "source": [
        "y_test_pred_proba = nbb.predict_proba(X_val)"
      ],
      "id": "cd2836e9"
    },
    {
      "cell_type": "code",
      "execution_count": null,
      "metadata": {
        "id": "72312690"
      },
      "outputs": [],
      "source": [
        "# Utilizamos las función de resumen de métricas de predicción\n",
        "fit_train(nbb)"
      ],
      "id": "72312690"
    },
    {
      "cell_type": "markdown",
      "metadata": {
        "id": "a09eeae7"
      },
      "source": [
        "### Aplicando Cross_Val_Score y GridSearchCV a Naive Bayes"
      ],
      "id": "a09eeae7"
    },
    {
      "cell_type": "code",
      "execution_count": null,
      "metadata": {
        "id": "cbafb35b"
      },
      "outputs": [],
      "source": [
        "# Cross Val Score\n",
        "cvs_train = cross_val_score(nbb, X_train_t, y_train_t, cv=5, scoring = 'recall', random_state = 42)"
      ],
      "id": "cbafb35b"
    },
    {
      "cell_type": "code",
      "execution_count": null,
      "metadata": {
        "id": "0a2cc62a"
      },
      "outputs": [],
      "source": [
        "print(f'El promedio de recall es: {cvs_train.mean()}')\n",
        "cvs_train"
      ],
      "id": "0a2cc62a"
    },
    {
      "cell_type": "code",
      "execution_count": null,
      "metadata": {
        "id": "de715585"
      },
      "outputs": [],
      "source": [
        "# Grid Search CV\n",
        "param_grid = {'alpha':[0, 0.01, 0.1, 0.5, 0.8, 1]}"
      ],
      "id": "de715585"
    },
    {
      "cell_type": "code",
      "execution_count": null,
      "metadata": {
        "id": "a9ddc713"
      },
      "outputs": [],
      "source": [
        "CV_nbb = GridSearchCV(estimator=nbb, param_grid=param_grid, cv= 5, scoring = 'recall', random_state = 42)\n",
        "CV_nbb.fit(X_train_t, y_train_t)"
      ],
      "id": "a9ddc713"
    },
    {
      "cell_type": "code",
      "execution_count": null,
      "metadata": {
        "id": "933d5f93"
      },
      "outputs": [],
      "source": [
        "CV_nbb.best_params_"
      ],
      "id": "933d5f93"
    },
    {
      "cell_type": "code",
      "execution_count": null,
      "metadata": {
        "id": "38b962c0"
      },
      "outputs": [],
      "source": [
        "# Implementamos el rf final con los mejores parámetros de GridSearchCV\n",
        "nbb_final = BernoulliNB(alpha = 0.01)"
      ],
      "id": "38b962c0"
    },
    {
      "cell_type": "code",
      "execution_count": null,
      "metadata": {
        "id": "df982e60"
      },
      "outputs": [],
      "source": [
        "nbb_final.fit(X_train_t, y_train_t)"
      ],
      "id": "df982e60"
    },
    {
      "cell_type": "code",
      "execution_count": null,
      "metadata": {
        "id": "7e77475c"
      },
      "outputs": [],
      "source": [
        "y_train_pred = nbb_final.predict(X_train_t)"
      ],
      "id": "7e77475c"
    },
    {
      "cell_type": "code",
      "execution_count": null,
      "metadata": {
        "id": "a065e1ab"
      },
      "outputs": [],
      "source": [
        "y_train_pred_proba = nbb_final.predict_proba(X_train_t)"
      ],
      "id": "a065e1ab"
    },
    {
      "cell_type": "code",
      "execution_count": null,
      "metadata": {
        "id": "ed8d11a1"
      },
      "outputs": [],
      "source": [
        "y_test_pred = nbb_final.predict(X_val)"
      ],
      "id": "ed8d11a1"
    },
    {
      "cell_type": "code",
      "execution_count": null,
      "metadata": {
        "id": "05b44440"
      },
      "outputs": [],
      "source": [
        "y_test_pred_proba = nbb_final.predict_proba(X_val)"
      ],
      "id": "05b44440"
    },
    {
      "cell_type": "code",
      "execution_count": null,
      "metadata": {
        "id": "8ab7446e",
        "scrolled": false
      },
      "outputs": [],
      "source": [
        "# Utilizamos las función de resumen de métricas de predicción\n",
        "fit_train(nbb_final)"
      ],
      "id": "8ab7446e"
    },
    {
      "cell_type": "markdown",
      "metadata": {
        "id": "42870055"
      },
      "source": [
        "### Naive Bayes: Definiendo las predicción según el límite calculado por la matriz de costos "
      ],
      "id": "42870055"
    },
    {
      "cell_type": "code",
      "execution_count": null,
      "metadata": {
        "id": "281a54ef"
      },
      "outputs": [],
      "source": [
        "threshold = 0.02"
      ],
      "id": "281a54ef"
    },
    {
      "cell_type": "code",
      "execution_count": null,
      "metadata": {
        "id": "51b5e7d3"
      },
      "outputs": [],
      "source": [
        "y_train_pred_h = y_train_pred_proba[:, 1] > threshold\n",
        "y_test_pred_h = y_test_pred_proba[:, 1] > threshold"
      ],
      "id": "51b5e7d3"
    },
    {
      "cell_type": "code",
      "execution_count": null,
      "metadata": {
        "id": "51764b35"
      },
      "outputs": [],
      "source": [
        "y_train_pred_h.shape"
      ],
      "id": "51764b35"
    },
    {
      "cell_type": "code",
      "execution_count": null,
      "metadata": {
        "id": "9e9705b5"
      },
      "outputs": [],
      "source": [
        "y_test_pred_h.sum()"
      ],
      "id": "9e9705b5"
    },
    {
      "cell_type": "code",
      "execution_count": null,
      "metadata": {
        "id": "e7870ca6"
      },
      "outputs": [],
      "source": [
        "# HeatMap de Matriz de Confusión\n",
        "\n",
        "cm_train = confusion_matrix(y_train_t, y_train_pred_h, labels=nbb_final.classes_)\n",
        "cm_test = confusion_matrix(y_val, y_test_pred_h, labels=nbb_final.classes_)\n",
        "\n",
        "disp_train = ConfusionMatrixDisplay(confusion_matrix=cm_train,\n",
        "                               display_labels=nbb_final.classes_)\n",
        "\n",
        "disp_test = ConfusionMatrixDisplay(confusion_matrix=cm_test,\n",
        "                               display_labels=nbb_final.classes_)\n",
        "\n",
        "disp_train.plot()\n",
        "disp_train.ax_.set_title('Train')\n",
        "\n",
        "disp_test.plot()\n",
        "disp_test.ax_.set_title('Test')\n",
        "\n",
        "\n",
        "plt.show()"
      ],
      "id": "e7870ca6"
    },
    {
      "cell_type": "code",
      "execution_count": null,
      "metadata": {
        "id": "cd2ff758"
      },
      "outputs": [],
      "source": [
        "precision, recall, thresholds = precision_recall_curve(y_val, nbb_final.predict_proba(X_val)[:, 1])\n",
        "\n",
        "# find threshold closest to zero\n",
        "close_zero = np.argmin(np.abs(thresholds))\n",
        "plt.plot(precision[close_zero], recall[close_zero], 'o', markersize=10,\n",
        "label=\"threshold zero\", fillstyle=\"none\", c='k', mew=2)\n",
        "plt.plot(precision, recall, label=\"precision recall curve\")\n",
        "plt.xlabel(\"Precision\")\n",
        "plt.ylabel(\"Recall\")\n",
        "plt.legend(loc=\"best\")"
      ],
      "id": "cd2ff758"
    },
    {
      "cell_type": "code",
      "execution_count": null,
      "metadata": {
        "id": "c5953a95"
      },
      "outputs": [],
      "source": [
        "# Tabla de métricas de Clasificación\n",
        "target_names = ['class 0', 'class 1']\n",
        "clf_report = classification_report(y_val, y_test_pred_h, target_names=target_names)\n",
        "print(clf_report)"
      ],
      "id": "c5953a95"
    },
    {
      "cell_type": "markdown",
      "metadata": {
        "id": "001d6473"
      },
      "source": [
        "## 6. KNeighbors"
      ],
      "id": "001d6473"
    },
    {
      "cell_type": "code",
      "execution_count": null,
      "metadata": {
        "id": "37808dcf"
      },
      "outputs": [],
      "source": [
        "knn = KNeighborsClassifier(n_neighbors = 10)"
      ],
      "id": "37808dcf"
    },
    {
      "cell_type": "code",
      "execution_count": null,
      "metadata": {
        "colab": {
          "base_uri": "https://localhost:8080/"
        },
        "id": "21f7b17e",
        "outputId": "5cd631c5-e5d8-425d-8201-261accbaa093"
      },
      "outputs": [
        {
          "output_type": "execute_result",
          "data": {
            "text/plain": [
              "KNeighborsClassifier(n_neighbors=10)"
            ]
          },
          "metadata": {},
          "execution_count": 101
        }
      ],
      "source": [
        "knn.fit(X_train_t, y_train_t)"
      ],
      "id": "21f7b17e"
    },
    {
      "cell_type": "code",
      "execution_count": null,
      "metadata": {
        "id": "14802d6e"
      },
      "outputs": [],
      "source": [
        "y_train_pred = knn.predict(X_train_t)"
      ],
      "id": "14802d6e"
    },
    {
      "cell_type": "code",
      "execution_count": null,
      "metadata": {
        "id": "78368d72"
      },
      "outputs": [],
      "source": [
        "y_train_pred_proba = knn.predict_proba(X_train_t)"
      ],
      "id": "78368d72"
    },
    {
      "cell_type": "code",
      "execution_count": null,
      "metadata": {
        "id": "3f663f18"
      },
      "outputs": [],
      "source": [
        "y_test_pred = knn.predict(X_val)"
      ],
      "id": "3f663f18"
    },
    {
      "cell_type": "code",
      "execution_count": null,
      "metadata": {
        "id": "b9cee7fe"
      },
      "outputs": [],
      "source": [
        "y_test_pred_proba = knn.predict_proba(X_val)"
      ],
      "id": "b9cee7fe"
    },
    {
      "cell_type": "code",
      "execution_count": null,
      "metadata": {
        "id": "250fe540"
      },
      "outputs": [],
      "source": [
        "# HeatMap de Matriz de Confusión\n",
        "\n",
        "cm_train = confusion_matrix(y_train_t, y_train_pred, labels=knn.classes_)\n",
        "cm_test = confusion_matrix(y_val, y_test_pred, labels=knn.classes_)\n",
        "\n",
        "disp_train = ConfusionMatrixDisplay(confusion_matrix=cm_train,\n",
        "                               display_labels=knn.classes_)\n",
        "\n",
        "disp_test = ConfusionMatrixDisplay(confusion_matrix=cm_test,\n",
        "                               display_labels=knn.classes_)\n",
        "\n",
        "disp_train.plot()\n",
        "disp_train.ax_.set_title('Train')\n",
        "\n",
        "disp_test.plot()\n",
        "disp_test.ax_.set_title('Test')\n",
        "\n",
        "\n",
        "plt.show()"
      ],
      "id": "250fe540"
    },
    {
      "cell_type": "code",
      "execution_count": null,
      "metadata": {
        "id": "52be6f4f"
      },
      "outputs": [],
      "source": [
        "print(classification_report(y_val, y_test_pred, target_names = ['Cliente Out', 'Cliente In']))"
      ],
      "id": "52be6f4f"
    },
    {
      "cell_type": "code",
      "execution_count": null,
      "metadata": {
        "id": "31dc2e0c"
      },
      "outputs": [],
      "source": [
        "# Utilizamos las función de resumen de métricas de predicción\n",
        "fit_train(knn)"
      ],
      "id": "31dc2e0c"
    },
    {
      "cell_type": "markdown",
      "metadata": {
        "id": "a9f00424"
      },
      "source": [
        "### Aplicando Cross_Val_Score y GridSearchCV a KNeighborClassifier"
      ],
      "id": "a9f00424"
    },
    {
      "cell_type": "code",
      "execution_count": null,
      "metadata": {
        "id": "b0913b53"
      },
      "outputs": [],
      "source": [
        "# Cross Val Score\n",
        "cvs_train = cross_val_score(knn, X_train_t, y_train_t, cv=5, scoring = 'recall')"
      ],
      "id": "b0913b53"
    },
    {
      "cell_type": "code",
      "execution_count": null,
      "metadata": {
        "id": "8e7cdef7"
      },
      "outputs": [],
      "source": [
        "print(f'El pormedio de recall es: {cvs_train.mean()}')\n",
        "cvs_train"
      ],
      "id": "8e7cdef7"
    },
    {
      "cell_type": "code",
      "execution_count": null,
      "metadata": {
        "id": "a15dd1ec"
      },
      "outputs": [],
      "source": [
        "# Gris Search CV\n",
        "k_range = list(range(1, 50))\n",
        "param_grid = dict(n_neighbors=k_range, scoring = 'recall')\n"
      ],
      "id": "a15dd1ec"
    },
    {
      "cell_type": "code",
      "execution_count": null,
      "metadata": {
        "id": "16ae94d1"
      },
      "outputs": [],
      "source": [
        "CV_knn = GridSearchCV(estimator=knn, param_grid=param_grid, cv= 5)\n",
        "CV_knn.fit(X_train_t, y_train_t)"
      ],
      "id": "16ae94d1"
    },
    {
      "cell_type": "code",
      "execution_count": null,
      "metadata": {
        "id": "7cf42039"
      },
      "outputs": [],
      "source": [
        "CV_knn.best_params_"
      ],
      "id": "7cf42039"
    },
    {
      "cell_type": "code",
      "execution_count": null,
      "metadata": {
        "id": "dcd27fda"
      },
      "outputs": [],
      "source": [
        "# Implementamos el rf final con los mejores parámetros de GridSearchCV\n",
        "knn_final = KNeighborsClassifier(n_neighbors = 10)"
      ],
      "id": "dcd27fda"
    },
    {
      "cell_type": "code",
      "execution_count": null,
      "metadata": {
        "id": "06d5abe0"
      },
      "outputs": [],
      "source": [
        "knn_final.fit(X_train_t, y_train_t)"
      ],
      "id": "06d5abe0"
    },
    {
      "cell_type": "code",
      "execution_count": null,
      "metadata": {
        "id": "e902013d"
      },
      "outputs": [],
      "source": [
        "y_train_pred = knn_final.predict(X_train_t)"
      ],
      "id": "e902013d"
    },
    {
      "cell_type": "code",
      "execution_count": null,
      "metadata": {
        "id": "c5f3d994"
      },
      "outputs": [],
      "source": [
        "y_train_pred_proba = knn_final.predict_proba(X_train_t)"
      ],
      "id": "c5f3d994"
    },
    {
      "cell_type": "code",
      "execution_count": null,
      "metadata": {
        "id": "d86b9534"
      },
      "outputs": [],
      "source": [
        "y_test_pred = knn_final.predict(X_val)"
      ],
      "id": "d86b9534"
    },
    {
      "cell_type": "code",
      "execution_count": null,
      "metadata": {
        "id": "a3c66be2"
      },
      "outputs": [],
      "source": [
        "y_test_pred_proba = knn_final.predict_proba(X_val)"
      ],
      "id": "a3c66be2"
    },
    {
      "cell_type": "code",
      "execution_count": null,
      "metadata": {
        "id": "7d0b6ecc"
      },
      "outputs": [],
      "source": [
        "# HeatMap de Matriz de Confusión\n",
        "\n",
        "cm_train = confusion_matrix(y_train_t, y_train_pred, labels=knn.classes_)\n",
        "cm_test = confusion_matrix(y_val, y_test_pred, labels=knn.classes_)\n",
        "\n",
        "disp_train = ConfusionMatrixDisplay(confusion_matrix=cm_train,\n",
        "                               display_labels=knn.classes_)\n",
        "\n",
        "disp_test = ConfusionMatrixDisplay(confusion_matrix=cm_test,\n",
        "                               display_labels=knn.classes_)\n",
        "\n",
        "disp_train.plot()\n",
        "disp_train.ax_.set_title('Train')\n",
        "\n",
        "disp_test.plot()\n",
        "disp_test.ax_.set_title('Test')\n",
        "\n",
        "\n",
        "plt.show()"
      ],
      "id": "7d0b6ecc"
    },
    {
      "cell_type": "code",
      "execution_count": null,
      "metadata": {
        "id": "aff58f4d"
      },
      "outputs": [],
      "source": [
        "print(classification_report(y_val, y_test_pred, target_names = ['Cliente Out', 'Cliente In']))"
      ],
      "id": "aff58f4d"
    },
    {
      "cell_type": "code",
      "execution_count": null,
      "metadata": {
        "id": "4e515d85",
        "scrolled": true
      },
      "outputs": [],
      "source": [
        "# Utilizamos las función de resumen de métricas de predicción\n",
        "fit_train(knn_final)"
      ],
      "id": "4e515d85"
    },
    {
      "cell_type": "markdown",
      "metadata": {
        "id": "3db810bc"
      },
      "source": [
        "### KNN: Definiendo las predicción según el límite calculado por la matriz de costos "
      ],
      "id": "3db810bc"
    },
    {
      "cell_type": "code",
      "execution_count": null,
      "metadata": {
        "id": "5b1d05ab"
      },
      "outputs": [],
      "source": [
        "threshold = 0.02"
      ],
      "id": "5b1d05ab"
    },
    {
      "cell_type": "code",
      "execution_count": null,
      "metadata": {
        "id": "011b219f"
      },
      "outputs": [],
      "source": [
        "y_train_pred_h = y_train_pred_proba[:, 1] > threshold\n",
        "y_test_pred_h = y_test_pred_proba[:, 1] > threshold"
      ],
      "id": "011b219f"
    },
    {
      "cell_type": "code",
      "execution_count": null,
      "metadata": {
        "id": "d8bd9876"
      },
      "outputs": [],
      "source": [
        "y_train_pred_h.shape"
      ],
      "id": "d8bd9876"
    },
    {
      "cell_type": "code",
      "execution_count": null,
      "metadata": {
        "id": "261b3545"
      },
      "outputs": [],
      "source": [
        "y_test_pred_h.sum()"
      ],
      "id": "261b3545"
    },
    {
      "cell_type": "code",
      "execution_count": null,
      "metadata": {
        "id": "98b29080"
      },
      "outputs": [],
      "source": [
        "# HeatMap de Matriz de Confusión\n",
        "\n",
        "cm_train = confusion_matrix(y_train_t, y_train_pred_h, labels=knn_final.classes_)\n",
        "cm_test = confusion_matrix(y_val, y_test_pred_h, labels=knn_final.classes_)\n",
        "\n",
        "disp_train = ConfusionMatrixDisplay(confusion_matrix=cm_train,\n",
        "                               display_labels=knn_final.classes_)\n",
        "\n",
        "disp_test = ConfusionMatrixDisplay(confusion_matrix=cm_test,\n",
        "                               display_labels=knn_final.classes_)\n",
        "\n",
        "disp_train.plot()\n",
        "disp_train.ax_.set_title('Train')\n",
        "\n",
        "disp_test.plot()\n",
        "disp_test.ax_.set_title('Test')\n",
        "\n",
        "\n",
        "plt.show()"
      ],
      "id": "98b29080"
    },
    {
      "cell_type": "code",
      "execution_count": null,
      "metadata": {
        "id": "5b59a5c2"
      },
      "outputs": [],
      "source": [
        "# Tabla de métricas de Clasificación\n",
        "target_names = ['class 0', 'class 1']\n",
        "clf_report = classification_report(y_val, y_test_pred_h, target_names=target_names)\n",
        "print(clf_report)"
      ],
      "id": "5b59a5c2"
    },
    {
      "cell_type": "markdown",
      "metadata": {
        "id": "7c085167"
      },
      "source": [
        "## 7. AdaBoostClassifier"
      ],
      "id": "7c085167"
    },
    {
      "cell_type": "code",
      "execution_count": null,
      "metadata": {
        "id": "5261ef21"
      },
      "outputs": [],
      "source": [
        "ada = AdaBoostClassifier()"
      ],
      "id": "5261ef21"
    },
    {
      "cell_type": "code",
      "execution_count": null,
      "metadata": {
        "id": "26fe2adc"
      },
      "outputs": [],
      "source": [
        "ada.fit(X_train_t, y_train_t)"
      ],
      "id": "26fe2adc"
    },
    {
      "cell_type": "code",
      "execution_count": null,
      "metadata": {
        "id": "c2bda804"
      },
      "outputs": [],
      "source": [
        "y_train_pred = ada.predict(X_train_t)"
      ],
      "id": "c2bda804"
    },
    {
      "cell_type": "code",
      "execution_count": null,
      "metadata": {
        "id": "dc8c0bad"
      },
      "outputs": [],
      "source": [
        "y_train_pred_proba = ada.predict_proba(X_train_t)"
      ],
      "id": "dc8c0bad"
    },
    {
      "cell_type": "code",
      "execution_count": null,
      "metadata": {
        "id": "8c166ef0"
      },
      "outputs": [],
      "source": [
        "y_test_pred = ada.predict(X_val)"
      ],
      "id": "8c166ef0"
    },
    {
      "cell_type": "code",
      "execution_count": null,
      "metadata": {
        "id": "0419bd4f"
      },
      "outputs": [],
      "source": [
        "y_test_pred_proba = ada.predict_proba(X_val)"
      ],
      "id": "0419bd4f"
    },
    {
      "cell_type": "code",
      "execution_count": null,
      "metadata": {
        "id": "b89940be"
      },
      "outputs": [],
      "source": [
        "# HeatMap de Matriz de Confusión\n",
        "\n",
        "cm_train = confusion_matrix(y_train_t, y_train_pred, labels=ada.classes_)\n",
        "cm_test = confusion_matrix(y_val, y_test_pred, labels=ada.classes_)\n",
        "\n",
        "disp_train = ConfusionMatrixDisplay(confusion_matrix=cm_train,\n",
        "                               display_labels=ada.classes_)\n",
        "\n",
        "disp_test = ConfusionMatrixDisplay(confusion_matrix=cm_test,\n",
        "                               display_labels=ada.classes_)\n",
        "\n",
        "disp_train.plot()\n",
        "disp_train.ax_.set_title('Train')\n",
        "\n",
        "disp_test.plot()\n",
        "disp_test.ax_.set_title('Test')\n",
        "\n",
        "\n",
        "plt.show()"
      ],
      "id": "b89940be"
    },
    {
      "cell_type": "code",
      "execution_count": null,
      "metadata": {
        "id": "9ad72f47"
      },
      "outputs": [],
      "source": [
        "print(classification_report(y_val, y_test_pred, target_names = ['Cliente Out', 'Cliente In']))"
      ],
      "id": "9ad72f47"
    },
    {
      "cell_type": "code",
      "execution_count": null,
      "metadata": {
        "id": "8d51ba2e"
      },
      "outputs": [],
      "source": [
        "# Utilizamos las función de resumen de métricas de predicción\n",
        "fit_train(ada)"
      ],
      "id": "8d51ba2e"
    },
    {
      "cell_type": "markdown",
      "metadata": {
        "id": "435a7ad4"
      },
      "source": [
        "### Aplicando Cross_Val_Score y GridSearchCV a AdaBoostClassifier"
      ],
      "id": "435a7ad4"
    },
    {
      "cell_type": "code",
      "execution_count": null,
      "metadata": {
        "id": "16662750"
      },
      "outputs": [],
      "source": [
        "# Cross Val Score\n",
        "cvs_train = cross_val_score(ada, X_train_t, y_train_t, cv=5, scoring = 'recall', random_state = 42)"
      ],
      "id": "16662750"
    },
    {
      "cell_type": "code",
      "execution_count": null,
      "metadata": {
        "id": "1316aa5b"
      },
      "outputs": [],
      "source": [
        "print(f'El pormedio de recall es: {cvs_auc_train.mean()}')\n",
        "cvs_train"
      ],
      "id": "1316aa5b"
    },
    {
      "cell_type": "code",
      "execution_count": null,
      "metadata": {
        "id": "3fbb48aa"
      },
      "outputs": [],
      "source": [
        "# Gris Search CV\n",
        "param_grid = {'n_estimators': [1, 2, 3, 4, 5, 6, 7, 8, 9, 10, 11, 12, 20, 30],\n",
        "              'learning_rate': [(0.97 + x / 100) for x in range(0, 8)],\n",
        "              'algorithm': ['SAMME', 'SAMME.R']\n",
        "             }\n",
        "\n"
      ],
      "id": "3fbb48aa"
    },
    {
      "cell_type": "code",
      "execution_count": null,
      "metadata": {
        "id": "efd82bf9"
      },
      "outputs": [],
      "source": [
        "CV_ada = GridSearchCV(estimator = ada_boost, param_grid = grid_params, scoring = 'recall', cv = 3, n_jobs = -1)\n",
        "CV_ada.fit(X_train_t, y_train_t)"
      ],
      "id": "efd82bf9"
    },
    {
      "cell_type": "code",
      "execution_count": null,
      "metadata": {
        "id": "b2d9c026"
      },
      "outputs": [],
      "source": [
        "CV_ada.best_params_"
      ],
      "id": "b2d9c026"
    },
    {
      "cell_type": "code",
      "execution_count": null,
      "metadata": {
        "id": "78ea8ac2"
      },
      "outputs": [],
      "source": [
        "# Implementamos el rf final con los mejores parámetros de GridSearchCV\n",
        "ada_final = AdaBoostClassifier(n_estimators = 5, learning_rate = 3, algorithm = 'SAMME.R')"
      ],
      "id": "78ea8ac2"
    },
    {
      "cell_type": "code",
      "execution_count": null,
      "metadata": {
        "id": "ab4a96c8"
      },
      "outputs": [],
      "source": [
        "ada_final.fit(X_train_t, y_train_t)"
      ],
      "id": "ab4a96c8"
    },
    {
      "cell_type": "code",
      "execution_count": null,
      "metadata": {
        "id": "ca6d3f77"
      },
      "outputs": [],
      "source": [
        "y_train_pred = ada_final.predict(X_train_t)"
      ],
      "id": "ca6d3f77"
    },
    {
      "cell_type": "code",
      "execution_count": null,
      "metadata": {
        "id": "4ab2884d"
      },
      "outputs": [],
      "source": [
        "y_train_pred_proba = ada_final.predict_proba(X_train_t)"
      ],
      "id": "4ab2884d"
    },
    {
      "cell_type": "code",
      "execution_count": null,
      "metadata": {
        "id": "ad2e5088"
      },
      "outputs": [],
      "source": [
        "y_test_pred = ada_final.predict(X_val)"
      ],
      "id": "ad2e5088"
    },
    {
      "cell_type": "code",
      "execution_count": null,
      "metadata": {
        "id": "048339dd"
      },
      "outputs": [],
      "source": [
        "y_test_pred_proba = ada_final.predict_proba(X_val)"
      ],
      "id": "048339dd"
    },
    {
      "cell_type": "code",
      "execution_count": null,
      "metadata": {
        "id": "410d65de",
        "scrolled": true
      },
      "outputs": [],
      "source": [
        "# Utilizamos las función de resumen de métricas de predicción\n",
        "fit_train(ada_final)"
      ],
      "id": "410d65de"
    },
    {
      "cell_type": "markdown",
      "metadata": {
        "id": "b9ef3b62"
      },
      "source": [
        "### AdaBoost: Definiendo las predicción según el límite calculado por la matriz de costos "
      ],
      "id": "b9ef3b62"
    },
    {
      "cell_type": "code",
      "execution_count": null,
      "metadata": {
        "id": "03ab4fd1"
      },
      "outputs": [],
      "source": [
        "threshold = 0.02"
      ],
      "id": "03ab4fd1"
    },
    {
      "cell_type": "code",
      "execution_count": null,
      "metadata": {
        "id": "8ebc2e7f"
      },
      "outputs": [],
      "source": [
        "y_train_pred_h = y_train_pred_proba[:, 1] > threshold\n",
        "y_test_pred_h = y_test_pred_proba[:, 1] > threshold"
      ],
      "id": "8ebc2e7f"
    },
    {
      "cell_type": "code",
      "execution_count": null,
      "metadata": {
        "id": "034454ad"
      },
      "outputs": [],
      "source": [
        "y_train_pred_h.shape"
      ],
      "id": "034454ad"
    },
    {
      "cell_type": "code",
      "execution_count": null,
      "metadata": {
        "id": "97c703fd"
      },
      "outputs": [],
      "source": [
        "y_test_pred_h.sum()"
      ],
      "id": "97c703fd"
    },
    {
      "cell_type": "code",
      "execution_count": null,
      "metadata": {
        "id": "595a6955"
      },
      "outputs": [],
      "source": [
        "# HeatMap de Matriz de Confusión\n",
        "\n",
        "cm_train = confusion_matrix(y_train_t, y_train_pred_h, labels=ada_final.classes_)\n",
        "cm_test = confusion_matrix(y_val, y_test_pred_h, labels=ada_final.classes_)\n",
        "\n",
        "disp_train = ConfusionMatrixDisplay(confusion_matrix=cm_train,\n",
        "                               display_labels=ada_final.classes_)\n",
        "\n",
        "disp_test = ConfusionMatrixDisplay(confusion_matrix=cm_test,\n",
        "                               display_labels=ada_final.classes_)\n",
        "\n",
        "disp_train.plot()\n",
        "disp_train.ax_.set_title('Train')\n",
        "\n",
        "disp_test.plot()\n",
        "disp_test.ax_.set_title('Test')\n",
        "\n",
        "\n",
        "plt.show()"
      ],
      "id": "595a6955"
    },
    {
      "cell_type": "code",
      "execution_count": null,
      "metadata": {
        "id": "c41c497e"
      },
      "outputs": [],
      "source": [
        "# Tabla de métricas de Clasificación\n",
        "target_names = ['class 0', 'class 1']\n",
        "clf_report = classification_report(y_val, y_test_pred_h, target_names=target_names)\n",
        "print(clf_report)"
      ],
      "id": "c41c497e"
    },
    {
      "cell_type": "markdown",
      "metadata": {
        "id": "1bd5581c"
      },
      "source": [
        "## 8. XG Boost"
      ],
      "id": "1bd5581c"
    },
    {
      "cell_type": "code",
      "execution_count": null,
      "metadata": {
        "id": "8b444919"
      },
      "outputs": [],
      "source": [
        "xgb = XGBClassifier()"
      ],
      "id": "8b444919"
    },
    {
      "cell_type": "code",
      "execution_count": null,
      "metadata": {
        "id": "e844b918",
        "scrolled": true
      },
      "outputs": [],
      "source": [
        "xgb.fit(X_train_t, y_train_t)"
      ],
      "id": "e844b918"
    },
    {
      "cell_type": "code",
      "execution_count": null,
      "metadata": {
        "id": "f68c077d"
      },
      "outputs": [],
      "source": [
        "y_train_pred = xgb.predict(X_train_t)"
      ],
      "id": "f68c077d"
    },
    {
      "cell_type": "code",
      "execution_count": null,
      "metadata": {
        "id": "64f9d272"
      },
      "outputs": [],
      "source": [
        "y_train_pred_proba = xgb.predict_proba(X_train_t)"
      ],
      "id": "64f9d272"
    },
    {
      "cell_type": "code",
      "execution_count": null,
      "metadata": {
        "id": "b7a85ede"
      },
      "outputs": [],
      "source": [
        "y_test_pred = xgb.predict(X_val)"
      ],
      "id": "b7a85ede"
    },
    {
      "cell_type": "code",
      "execution_count": null,
      "metadata": {
        "id": "dc42516e"
      },
      "outputs": [],
      "source": [
        "y_test_pred_proba = xgb.predict_proba(X_val)"
      ],
      "id": "dc42516e"
    },
    {
      "cell_type": "code",
      "execution_count": null,
      "metadata": {
        "id": "804b700d"
      },
      "outputs": [],
      "source": [
        "# Utilizamos las función de resumen de métricas de predicción\n",
        "fit_train(xgb)"
      ],
      "id": "804b700d"
    },
    {
      "cell_type": "markdown",
      "metadata": {
        "id": "4aeb2057"
      },
      "source": [
        "### Aplicando Cross_Val_Score y GridSearchCV a XG Boost"
      ],
      "id": "4aeb2057"
    },
    {
      "cell_type": "code",
      "execution_count": null,
      "metadata": {
        "id": "72e941c1"
      },
      "outputs": [],
      "source": [
        "# Cross Val Score\n",
        "cvs_train = cross_val_score(xgb, X_train_t, y_train_t, cv=5, scoring = 'recall', random_state = 42)"
      ],
      "id": "72e941c1"
    },
    {
      "cell_type": "code",
      "execution_count": null,
      "metadata": {
        "id": "63fe1326"
      },
      "outputs": [],
      "source": [
        "print(f'El pormedio de recall es: {cvs_train.mean()}')\n",
        "cvs_train"
      ],
      "id": "63fe1326"
    },
    {
      "cell_type": "code",
      "execution_count": null,
      "metadata": {
        "id": "79d6b289"
      },
      "outputs": [],
      "source": [
        "# Gris Search CV\n",
        "param_grid = {'alpha':[0, 0.01, 0.1, 0.5, 0.8, 1]}"
      ],
      "id": "79d6b289"
    },
    {
      "cell_type": "code",
      "execution_count": null,
      "metadata": {
        "id": "3d4d5962"
      },
      "outputs": [],
      "source": [
        "CV_xgb = GridSearchCV(estimator=nbb, param_grid=param_grid, cv= 5, scoring = 'recall', random_state = 42)\n",
        "CV_xgb.fit(X_train_t, y_train_t)"
      ],
      "id": "3d4d5962"
    },
    {
      "cell_type": "code",
      "execution_count": null,
      "metadata": {
        "id": "106d4afc"
      },
      "outputs": [],
      "source": [
        "CV_xgb.best_params_"
      ],
      "id": "106d4afc"
    },
    {
      "cell_type": "code",
      "execution_count": null,
      "metadata": {
        "id": "1c7b179b"
      },
      "outputs": [],
      "source": [
        "# Implementamos el rf final con los mejores parámetros de GridSearchCV\n",
        "xgb_final = XGBClassifier(n_estimators=1000, learning_rate=0.05)"
      ],
      "id": "1c7b179b"
    },
    {
      "cell_type": "code",
      "execution_count": null,
      "metadata": {
        "id": "28f86402"
      },
      "outputs": [],
      "source": [
        "xgb_final.fit(X_train_t, y_train_t)"
      ],
      "id": "28f86402"
    },
    {
      "cell_type": "code",
      "execution_count": null,
      "metadata": {
        "id": "2c0b2ce1"
      },
      "outputs": [],
      "source": [
        "y_train_pred = xgb_final.predict(X_train_t)"
      ],
      "id": "2c0b2ce1"
    },
    {
      "cell_type": "code",
      "execution_count": null,
      "metadata": {
        "id": "1a7351f7"
      },
      "outputs": [],
      "source": [
        "y_train_pred_proba = xgb_final.predict_proba(X_train_t)"
      ],
      "id": "1a7351f7"
    },
    {
      "cell_type": "code",
      "execution_count": null,
      "metadata": {
        "id": "528d073a"
      },
      "outputs": [],
      "source": [
        "y_test_pred = xgb_final.predict(X_val)"
      ],
      "id": "528d073a"
    },
    {
      "cell_type": "code",
      "execution_count": null,
      "metadata": {
        "id": "a19b7e26"
      },
      "outputs": [],
      "source": [
        "y_test_pred_proba = xgb_final.predict_proba(X_val)"
      ],
      "id": "a19b7e26"
    },
    {
      "cell_type": "code",
      "execution_count": null,
      "metadata": {
        "id": "e516bf4b",
        "scrolled": false
      },
      "outputs": [],
      "source": [
        "# Utilizamos las función de resumen de métricas de predicción\n",
        "fit_train(xgb_final)"
      ],
      "id": "e516bf4b"
    },
    {
      "cell_type": "markdown",
      "metadata": {
        "id": "84f0e5bc"
      },
      "source": [
        "### XG Boost: Definiendo las predicción según el límite calculado por la matriz de costos "
      ],
      "id": "84f0e5bc"
    },
    {
      "cell_type": "code",
      "execution_count": null,
      "metadata": {
        "id": "2d42273d"
      },
      "outputs": [],
      "source": [
        "threshold = 0.02"
      ],
      "id": "2d42273d"
    },
    {
      "cell_type": "code",
      "execution_count": null,
      "metadata": {
        "id": "32520f1e"
      },
      "outputs": [],
      "source": [
        "y_train_pred_h = y_train_pred_proba[:, 1] > threshold\n",
        "y_test_pred_h = y_test_pred_proba[:, 1] > threshold"
      ],
      "id": "32520f1e"
    },
    {
      "cell_type": "code",
      "execution_count": null,
      "metadata": {
        "id": "ff7ec5eb"
      },
      "outputs": [],
      "source": [
        "y_train_pred_h.shape"
      ],
      "id": "ff7ec5eb"
    },
    {
      "cell_type": "code",
      "execution_count": null,
      "metadata": {
        "id": "bf6b6dab"
      },
      "outputs": [],
      "source": [
        "y_test_pred_h.sum()"
      ],
      "id": "bf6b6dab"
    },
    {
      "cell_type": "code",
      "execution_count": null,
      "metadata": {
        "id": "26f79173"
      },
      "outputs": [],
      "source": [
        "# HeatMap de Matriz de Confusión\n",
        "\n",
        "cm_train = confusion_matrix(y_train_t, y_train_pred_h, labels=xgb_final.classes_)\n",
        "cm_test = confusion_matrix(y_val, y_test_pred_h, labels=xgb_final.classes_)\n",
        "\n",
        "disp_train = ConfusionMatrixDisplay(confusion_matrix=cm_train,\n",
        "                               display_labels=xgb_final.classes_)\n",
        "\n",
        "disp_test = ConfusionMatrixDisplay(confusion_matrix=cm_test,\n",
        "                               display_labels=xgb_final.classes_)\n",
        "\n",
        "disp_train.plot()\n",
        "disp_train.ax_.set_title('Train')\n",
        "\n",
        "disp_test.plot()\n",
        "disp_test.ax_.set_title('Test')\n",
        "\n",
        "\n",
        "plt.show()"
      ],
      "id": "26f79173"
    },
    {
      "cell_type": "code",
      "execution_count": null,
      "metadata": {
        "id": "a236a075"
      },
      "outputs": [],
      "source": [
        "precision, recall, thresholds = precision_recall_curve(y_val, xgb_final.predict_proba(X_val)[:, 1])\n",
        "\n",
        "# find threshold closest to zero\n",
        "close_zero = np.argmin(np.abs(thresholds))\n",
        "plt.plot(precision[close_zero], recall[close_zero], 'o', markersize=10,\n",
        "label=\"threshold zero\", fillstyle=\"none\", c='k', mew=2)\n",
        "plt.plot(precision, recall, label=\"precision recall curve\")\n",
        "plt.xlabel(\"Precision\")\n",
        "plt.ylabel(\"Recall\")\n",
        "plt.legend(loc=\"best\")"
      ],
      "id": "a236a075"
    },
    {
      "cell_type": "code",
      "execution_count": null,
      "metadata": {
        "id": "1d4e44a8"
      },
      "outputs": [],
      "source": [
        "# Tabla de métricas de Clasificación\n",
        "target_names = ['class 0', 'class 1']\n",
        "clf_report = classification_report(y_val, y_test_pred_h, target_names=target_names)\n",
        "print(clf_report)"
      ],
      "id": "1d4e44a8"
    },
    {
      "cell_type": "markdown",
      "metadata": {
        "id": "6a901c7b"
      },
      "source": [
        "# <center>Predicción\n",
        "## 5.6. Extracción de Características en el test\n",
        "En este caso los métodos de extracción de variables a partir de textos o imágenes no son necesarias de implementar"
      ],
      "id": "6a901c7b"
    },
    {
      "cell_type": "markdown",
      "metadata": {
        "id": "3fd79a42"
      },
      "source": [
        "## 5.7. Escalado de variables"
      ],
      "id": "3fd79a42"
    },
    {
      "cell_type": "code",
      "execution_count": 100,
      "metadata": {
        "id": "f48284e2"
      },
      "outputs": [],
      "source": [
        "# Escalamos la variable X_test con el transform del scaler realizado previamente\n",
        "X_test_std = scaler.transform(X_test_data)"
      ],
      "id": "f48284e2"
    },
    {
      "cell_type": "markdown",
      "metadata": {
        "id": "33674b3c"
      },
      "source": [
        "## 5.8. Selección de Variables en el test (features  selection)"
      ],
      "id": "33674b3c"
    },
    {
      "cell_type": "code",
      "execution_count": 101,
      "metadata": {
        "colab": {
          "base_uri": "https://localhost:8080/"
        },
        "id": "8cd9dacb",
        "outputId": "a470c24d-978d-4e7f-ec33-79583dbb4786"
      },
      "outputs": [
        {
          "output_type": "execute_result",
          "data": {
            "text/plain": [
              "(109972, 86)"
            ]
          },
          "metadata": {},
          "execution_count": 101
        }
      ],
      "source": [
        "# Visualizamos la forma de X_test estandarizado antes de aplicar la selección de variables\n",
        "X_test_std.shape"
      ],
      "id": "8cd9dacb"
    },
    {
      "cell_type": "code",
      "execution_count": 102,
      "metadata": {
        "colab": {
          "base_uri": "https://localhost:8080/"
        },
        "id": "eb3f6de2",
        "outputId": "14501247-16da-4fbe-9f3e-9c4c2f5f369b"
      },
      "outputs": [
        {
          "output_type": "stream",
          "name": "stderr",
          "text": [
            "/usr/local/lib/python3.7/dist-packages/sklearn/base.py:451: UserWarning: X does not have valid feature names, but SelectPercentile was fitted with feature names\n",
            "  \"X does not have valid feature names, but\"\n"
          ]
        }
      ],
      "source": [
        "X_test_std_sel = feature_sel.transform(X_test_std)"
      ],
      "id": "eb3f6de2"
    },
    {
      "cell_type": "code",
      "execution_count": 103,
      "metadata": {
        "colab": {
          "base_uri": "https://localhost:8080/"
        },
        "id": "741e6c9a",
        "outputId": "a1c567c8-5fc9-45e6-fcd4-3553fcf6ae9d"
      },
      "outputs": [
        {
          "output_type": "execute_result",
          "data": {
            "text/plain": [
              "(109972, 13)"
            ]
          },
          "metadata": {},
          "execution_count": 103
        }
      ],
      "source": [
        "# Nos quedamos con el percentil 15% de la totalidad de variables \n",
        "X_test_std_sel.shape"
      ],
      "id": "741e6c9a"
    },
    {
      "cell_type": "markdown",
      "metadata": {
        "id": "52cea781"
      },
      "source": [
        "## 5.9 Predicción del conjunto del test\n",
        "model.predict"
      ],
      "id": "52cea781"
    },
    {
      "cell_type": "code",
      "execution_count": 104,
      "metadata": {
        "id": "9d684f8a"
      },
      "outputs": [],
      "source": [
        "lreg_final = LogisticRegression(max_iter=500)\n",
        "# rf_final = GaussianNB()"
      ],
      "id": "9d684f8a"
    },
    {
      "cell_type": "code",
      "execution_count": 105,
      "metadata": {
        "colab": {
          "base_uri": "https://localhost:8080/"
        },
        "id": "49543d2e",
        "scrolled": true,
        "outputId": "9eb3e1e9-c4d6-44cd-ac56-4d7cac473306"
      },
      "outputs": [
        {
          "output_type": "execute_result",
          "data": {
            "text/plain": [
              "LogisticRegression(max_iter=500)"
            ]
          },
          "metadata": {},
          "execution_count": 105
        }
      ],
      "source": [
        "lreg_final.fit(X_train_std_sel, y_train)"
      ],
      "id": "49543d2e"
    },
    {
      "cell_type": "code",
      "execution_count": 106,
      "metadata": {
        "id": "17197e02"
      },
      "outputs": [],
      "source": [
        "y_train_pred = dtree_final.predict(X_train_std_sel)"
      ],
      "id": "17197e02"
    },
    {
      "cell_type": "code",
      "execution_count": 107,
      "metadata": {
        "id": "4ebbf1e9"
      },
      "outputs": [],
      "source": [
        "y_train_pred_proba = dtree_final.predict_proba(X_train_std_sel)"
      ],
      "id": "4ebbf1e9"
    },
    {
      "cell_type": "code",
      "execution_count": 108,
      "metadata": {
        "colab": {
          "base_uri": "https://localhost:8080/"
        },
        "id": "7ed90c30",
        "outputId": "76446f29-3b4f-4825-9660-52d9780a643b"
      },
      "outputs": [
        {
          "output_type": "stream",
          "name": "stderr",
          "text": [
            "/usr/local/lib/python3.7/dist-packages/sklearn/base.py:451: UserWarning: X does not have valid feature names, but DecisionTreeClassifier was fitted with feature names\n",
            "  \"X does not have valid feature names, but\"\n"
          ]
        }
      ],
      "source": [
        "y_test_pred = dtree_final.predict(X_test_std_sel)"
      ],
      "id": "7ed90c30"
    },
    {
      "cell_type": "code",
      "execution_count": 109,
      "metadata": {
        "colab": {
          "base_uri": "https://localhost:8080/"
        },
        "id": "138d9fa6",
        "outputId": "612bb9ad-316d-45aa-8891-aebd2bfccbc5"
      },
      "outputs": [
        {
          "output_type": "stream",
          "name": "stderr",
          "text": [
            "/usr/local/lib/python3.7/dist-packages/sklearn/base.py:451: UserWarning: X does not have valid feature names, but DecisionTreeClassifier was fitted with feature names\n",
            "  \"X does not have valid feature names, but\"\n"
          ]
        }
      ],
      "source": [
        "y_test_pred_proba = dtree_final.predict_proba(X_test_std_sel)"
      ],
      "id": "138d9fa6"
    },
    {
      "cell_type": "code",
      "execution_count": 110,
      "metadata": {
        "colab": {
          "base_uri": "https://localhost:8080/",
          "height": 1000
        },
        "id": "183e24c4",
        "outputId": "212f5471-c192-442a-9b47-80fb1c51f5f9"
      },
      "outputs": [
        {
          "output_type": "stream",
          "name": "stdout",
          "text": [
            "For DecisionTreeClassifier :\n"
          ]
        },
        {
          "output_type": "stream",
          "name": "stderr",
          "text": [
            "/usr/local/lib/python3.7/dist-packages/sklearn/base.py:451: UserWarning: X does not have valid feature names, but DecisionTreeClassifier was fitted with feature names\n",
            "  \"X does not have valid feature names, but\"\n",
            "/usr/local/lib/python3.7/dist-packages/sklearn/base.py:451: UserWarning: X does not have valid feature names, but DecisionTreeClassifier was fitted with feature names\n",
            "  \"X does not have valid feature names, but\"\n"
          ]
        },
        {
          "output_type": "stream",
          "name": "stdout",
          "text": [
            "\tTrain Precision Score:0.800\n",
            "\tTest Precision Score:0.286\n",
            "\t---\t---\t---\t---\n",
            "\tTrain Recall Score:0.019\n",
            "\tTest Recall Score:0.013\n",
            "\t---\t---\t---\t---\n",
            "\tTrain ROC AUC Score:0.951\n",
            "\tTest ROC AUC Score:0.928\n",
            "------------------------------------------------------------------------------------------------------\n"
          ]
        },
        {
          "output_type": "display_data",
          "data": {
            "text/plain": [
              "<Figure size 864x288 with 2 Axes>"
            ],
            "image/png": "[encoded data removed]"
          },
          "metadata": {}
        },
        {
          "output_type": "stream",
          "name": "stdout",
          "text": [
            "------------------------------------------------------------------------------------------------------\n"
          ]
        },
        {
          "output_type": "display_data",
          "data": {
            "text/plain": [
              "<Figure size 576x576 with 1 Axes>"
            ],
            "image/png": "[encoded data removed]"
          },
          "metadata": {
            "needs_background": "light"
          }
        },
        {
          "output_type": "stream",
          "name": "stdout",
          "text": [
            "------------------------------------------------------------------------------------------------------\n",
            "              precision    recall  f1-score   support\n",
            "\n",
            "           0       1.00      1.00      1.00    109817\n",
            "           1       0.29      0.01      0.02       155\n",
            "\n",
            "    accuracy                           1.00    109972\n",
            "   macro avg       0.64      0.51      0.51    109972\n",
            "weighted avg       1.00      1.00      1.00    109972\n",
            "\n"
          ]
        }
      ],
      "source": [
        "fit_final(dtree_final)"
      ],
      "id": "183e24c4"
    },
    {
      "cell_type": "markdown",
      "metadata": {
        "id": "f0ceb455"
      },
      "source": [
        "## 5.10. Evaluación del modelo comparando $y$ vs $\\hat{y}$\n",
        "### Definiendo las predicción según el límite calculado por la matriz de costos \n",
        "Usando las métricas apropiadas en este caso para clasificación\n",
        "Incluye modelo y predicciones finales junto con la matriz de costos y id de Clientes"
      ],
      "id": "f0ceb455"
    },
    {
      "cell_type": "code",
      "execution_count": 111,
      "metadata": {
        "id": "a839644f"
      },
      "outputs": [],
      "source": [
        "y_train_pred_h = y_train_pred_proba[:, 1] > threshold\n",
        "y_test_pred_h = y_test_pred_proba[:, 1] > threshold"
      ],
      "id": "a839644f"
    },
    {
      "cell_type": "code",
      "execution_count": 112,
      "metadata": {
        "colab": {
          "base_uri": "https://localhost:8080/"
        },
        "id": "c2411245",
        "outputId": "5c548359-fd08-47d9-d323-067543806d45"
      },
      "outputs": [
        {
          "output_type": "execute_result",
          "data": {
            "text/plain": [
              "(439887,)"
            ]
          },
          "metadata": {},
          "execution_count": 112
        }
      ],
      "source": [
        "y_train_pred_h.shape"
      ],
      "id": "c2411245"
    },
    {
      "cell_type": "code",
      "execution_count": 113,
      "metadata": {
        "colab": {
          "base_uri": "https://localhost:8080/"
        },
        "id": "429645a0",
        "outputId": "9a968603-8779-4858-eb5b-b2113354f260"
      },
      "outputs": [
        {
          "output_type": "execute_result",
          "data": {
            "text/plain": [
              "857"
            ]
          },
          "metadata": {},
          "execution_count": 113
        }
      ],
      "source": [
        "y_test_pred_h.sum()"
      ],
      "id": "429645a0"
    },
    {
      "cell_type": "code",
      "execution_count": 114,
      "metadata": {
        "colab": {
          "base_uri": "https://localhost:8080/",
          "height": 573
        },
        "id": "917c66c5",
        "outputId": "e95dd543-c5aa-4ca5-ba7b-0012d520c9af"
      },
      "outputs": [
        {
          "output_type": "display_data",
          "data": {
            "text/plain": [
              "<Figure size 432x288 with 2 Axes>"
            ],
            "image/png": "[encoded data removed]"
          },
          "metadata": {
            "needs_background": "light"
          }
        },
        {
          "output_type": "display_data",
          "data": {
            "text/plain": [
              "<Figure size 432x288 with 2 Axes>"
            ],
            "image/png": "[encoded data removed]"
          },
          "metadata": {
            "needs_background": "light"
          }
        }
      ],
      "source": [
        "# HeatMap de Matriz de Confusión\n",
        "\n",
        "cm_train = confusion_matrix(y_train, y_train_pred_h, labels=dtree_final.classes_)\n",
        "cm_test = confusion_matrix(y_test, y_test_pred_h, labels=dtree_final.classes_)\n",
        "\n",
        "disp_train = ConfusionMatrixDisplay(confusion_matrix=cm_train,\n",
        "                               display_labels=dtree_final.classes_)\n",
        "\n",
        "disp_test = ConfusionMatrixDisplay(confusion_matrix=cm_test,\n",
        "                               display_labels=dtree_final.classes_)\n",
        "\n",
        "disp_train.plot()\n",
        "disp_train.ax_.set_title('Train')\n",
        "\n",
        "disp_test.plot()\n",
        "disp_test.ax_.set_title('Test')\n",
        "\n",
        "\n",
        "plt.show()"
      ],
      "id": "917c66c5"
    },
    {
      "cell_type": "code",
      "execution_count": 115,
      "metadata": {
        "colab": {
          "base_uri": "https://localhost:8080/"
        },
        "id": "1898556a",
        "outputId": "5c0db08b-f987-40ae-af01-fcbe4786580d"
      },
      "outputs": [
        {
          "output_type": "stream",
          "name": "stdout",
          "text": [
            "              precision    recall  f1-score   support\n",
            "\n",
            "     class 0       1.00      0.99      1.00    109817\n",
            "     class 1       0.05      0.30      0.09       155\n",
            "\n",
            "    accuracy                           0.99    109972\n",
            "   macro avg       0.53      0.64      0.54    109972\n",
            "weighted avg       1.00      0.99      0.99    109972\n",
            "\n"
          ]
        }
      ],
      "source": [
        "# Tabla de métricas de Clasificación\n",
        "target_names = ['class 0', 'class 1']\n",
        "clf_report = classification_report(y_test, y_test_pred_h, target_names=target_names)\n",
        "print(clf_report)"
      ],
      "id": "1898556a"
    },
    {
      "cell_type": "markdown",
      "metadata": {
        "id": "24908c12"
      },
      "source": [
        "### Armado del df con las probablilidades y recuperación de los Id de los clientes "
      ],
      "id": "24908c12"
    },
    {
      "cell_type": "code",
      "execution_count": 116,
      "metadata": {
        "id": "7df748f2"
      },
      "outputs": [],
      "source": [
        "df_proba = pd.DataFrame()"
      ],
      "id": "7df748f2"
    },
    {
      "cell_type": "code",
      "execution_count": 117,
      "metadata": {
        "id": "70ace8e3"
      },
      "outputs": [],
      "source": [
        "df_proba['y_test'] = pd.Series(y_test)"
      ],
      "id": "70ace8e3"
    },
    {
      "cell_type": "code",
      "execution_count": 118,
      "metadata": {
        "id": "095fde57"
      },
      "outputs": [],
      "source": [
        "df_proba['y_pred'] = y_test_pred_h"
      ],
      "id": "095fde57"
    },
    {
      "cell_type": "code",
      "execution_count": 119,
      "metadata": {
        "colab": {
          "base_uri": "https://localhost:8080/",
          "height": 424
        },
        "id": "1f463187",
        "outputId": "d721fc98-af3c-4fa0-d7e8-c5cae17f6b91"
      },
      "outputs": [
        {
          "output_type": "execute_result",
          "data": {
            "text/plain": [
              "        y_test  y_pred\n",
              "43834        0   False\n",
              "453438       0   False\n",
              "385187       0   False\n",
              "361367       0   False\n",
              "424281       0   False\n",
              "...        ...     ...\n",
              "119561       0   False\n",
              "360948       0   False\n",
              "190871       0   False\n",
              "29375        0   False\n",
              "465990       0   False\n",
              "\n",
              "[109972 rows x 2 columns]"
            ],
            "text/html": [
              "\n",
              "  <div id=\"df-0a820cb0-bf82-4d50-9c5c-56b58ec07553\">\n",
              "    <div class=\"colab-df-container\">\n",
              "      <div>\n",
              "<style scoped>\n",
              "    .dataframe tbody tr th:only-of-type {\n",
              "        vertical-align: middle;\n",
              "    }\n",
              "\n",
              "    .dataframe tbody tr th {\n",
              "        vertical-align: top;\n",
              "    }\n",
              "\n",
              "    .dataframe thead th {\n",
              "        text-align: right;\n",
              "    }\n",
              "</style>\n",
              "<table border=\"1\" class=\"dataframe\">\n",
              "  <thead>\n",
              "    <tr style=\"text-align: right;\">\n",
              "      <th></th>\n",
              "      <th>y_test</th>\n",
              "      <th>y_pred</th>\n",
              "    </tr>\n",
              "  </thead>\n",
              "  <tbody>\n",
              "    <tr>\n",
              "      <th>43834</th>\n",
              "      <td>0</td>\n",
              "      <td>False</td>\n",
              "    </tr>\n",
              "    <tr>\n",
              "      <th>453438</th>\n",
              "      <td>0</td>\n",
              "      <td>False</td>\n",
              "    </tr>\n",
              "    <tr>\n",
              "      <th>385187</th>\n",
              "      <td>0</td>\n",
              "      <td>False</td>\n",
              "    </tr>\n",
              "    <tr>\n",
              "      <th>361367</th>\n",
              "      <td>0</td>\n",
              "      <td>False</td>\n",
              "    </tr>\n",
              "    <tr>\n",
              "      <th>424281</th>\n",
              "      <td>0</td>\n",
              "      <td>False</td>\n",
              "    </tr>\n",
              "    <tr>\n",
              "      <th>...</th>\n",
              "      <td>...</td>\n",
              "      <td>...</td>\n",
              "    </tr>\n",
              "    <tr>\n",
              "      <th>119561</th>\n",
              "      <td>0</td>\n",
              "      <td>False</td>\n",
              "    </tr>\n",
              "    <tr>\n",
              "      <th>360948</th>\n",
              "      <td>0</td>\n",
              "      <td>False</td>\n",
              "    </tr>\n",
              "    <tr>\n",
              "      <th>190871</th>\n",
              "      <td>0</td>\n",
              "      <td>False</td>\n",
              "    </tr>\n",
              "    <tr>\n",
              "      <th>29375</th>\n",
              "      <td>0</td>\n",
              "      <td>False</td>\n",
              "    </tr>\n",
              "    <tr>\n",
              "      <th>465990</th>\n",
              "      <td>0</td>\n",
              "      <td>False</td>\n",
              "    </tr>\n",
              "  </tbody>\n",
              "</table>\n",
              "<p>109972 rows × 2 columns</p>\n",
              "</div>\n",
              "      <button class=\"colab-df-convert\" onclick=\"convertToInteractive('df-0a820cb0-bf82-4d50-9c5c-56b58ec07553')\"\n",
              "              title=\"Convert this dataframe to an interactive table.\"\n",
              "              style=\"display:none;\">\n",
              "        \n",
              "  <svg xmlns=\"http://www.w3.org/2000/svg\" height=\"24px\"viewBox=\"0 0 24 24\"\n",
              "       width=\"24px\">\n",
              "    <path d=\"M0 0h24v24H0V0z\" fill=\"none\"/>\n",
              "    <path d=\"M18.56 5.44l.94 2.06.94-2.06 2.06-.94-2.06-.94-.94-2.06-.94 2.06-2.06.94zm-11 1L8.5 8.5l.94-2.06 2.06-.94-2.06-.94L8.5 2.5l-.94 2.06-2.06.94zm10 10l.94 2.06.94-2.06 2.06-.94-2.06-.94-.94-2.06-.94 2.06-2.06.94z\"/><path d=\"M17.41 7.96l-1.37-1.37c-.4-.4-.92-.59-1.43-.59-.52 0-1.04.2-1.43.59L10.3 9.45l-7.72 7.72c-.78.78-.78 2.05 0 2.83L4 21.41c.39.39.9.59 1.41.59.51 0 1.02-.2 1.41-.59l7.78-7.78 2.81-2.81c.8-.78.8-2.07 0-2.86zM5.41 20L4 18.59l7.72-7.72 1.47 1.35L5.41 20z\"/>\n",
              "  </svg>\n",
              "      </button>\n",
              "      \n",
              "  <style>\n",
              "    .colab-df-container {\n",
              "      display:flex;\n",
              "      flex-wrap:wrap;\n",
              "      gap: 12px;\n",
              "    }\n",
              "\n",
              "    .colab-df-convert {\n",
              "      background-color: #E8F0FE;\n",
              "      border: none;\n",
              "      border-radius: 50%;\n",
              "      cursor: pointer;\n",
              "      display: none;\n",
              "      fill: #1967D2;\n",
              "      height: 32px;\n",
              "      padding: 0 0 0 0;\n",
              "      width: 32px;\n",
              "    }\n",
              "\n",
              "    .colab-df-convert:hover {\n",
              "      background-color: #E2EBFA;\n",
              "      box-shadow: 0px 1px 2px rgba(60, 64, 67, 0.3), 0px 1px 3px 1px rgba(60, 64, 67, 0.15);\n",
              "      fill: #174EA6;\n",
              "    }\n",
              "\n",
              "    [theme=dark] .colab-df-convert {\n",
              "      background-color: #3B4455;\n",
              "      fill: #D2E3FC;\n",
              "    }\n",
              "\n",
              "    [theme=dark] .colab-df-convert:hover {\n",
              "      background-color: #434B5C;\n",
              "      box-shadow: 0px 1px 3px 1px rgba(0, 0, 0, 0.15);\n",
              "      filter: drop-shadow(0px 1px 2px rgba(0, 0, 0, 0.3));\n",
              "      fill: #FFFFFF;\n",
              "    }\n",
              "  </style>\n",
              "\n",
              "      <script>\n",
              "        const buttonEl =\n",
              "          document.querySelector('#df-0a820cb0-bf82-4d50-9c5c-56b58ec07553 button.colab-df-convert');\n",
              "        buttonEl.style.display =\n",
              "          google.colab.kernel.accessAllowed ? 'block' : 'none';\n",
              "\n",
              "        async function convertToInteractive(key) {\n",
              "          const element = document.querySelector('#df-0a820cb0-bf82-4d50-9c5c-56b58ec07553');\n",
              "          const dataTable =\n",
              "            await google.colab.kernel.invokeFunction('convertToInteractive',\n",
              "                                                     [key], {});\n",
              "          if (!dataTable) return;\n",
              "\n",
              "          const docLinkHtml = 'Like what you see? Visit the ' +\n",
              "            '<a target=\"_blank\" href=https://colab.research.google.com/notebooks/data_table.ipynb>data table notebook</a>'\n",
              "            + ' to learn more about interactive tables.';\n",
              "          element.innerHTML = '';\n",
              "          dataTable['output_type'] = 'display_data';\n",
              "          await google.colab.output.renderOutput(dataTable, element);\n",
              "          const docLink = document.createElement('div');\n",
              "          docLink.innerHTML = docLinkHtml;\n",
              "          element.appendChild(docLink);\n",
              "        }\n",
              "      </script>\n",
              "    </div>\n",
              "  </div>\n",
              "  "
            ]
          },
          "metadata": {},
          "execution_count": 119
        }
      ],
      "source": [
        "df_proba"
      ],
      "id": "1f463187"
    },
    {
      "cell_type": "code",
      "execution_count": 120,
      "metadata": {
        "id": "79e9a2b4"
      },
      "outputs": [],
      "source": [
        "df_proba['y_proba'] = y_test_pred_proba[:,1]"
      ],
      "id": "79e9a2b4"
    },
    {
      "cell_type": "code",
      "execution_count": 121,
      "metadata": {
        "colab": {
          "base_uri": "https://localhost:8080/",
          "height": 206
        },
        "id": "0948e1a6",
        "outputId": "ce11c0af-9757-49d0-d596-7c4e2210654b"
      },
      "outputs": [
        {
          "output_type": "execute_result",
          "data": {
            "text/plain": [
              "        y_test  y_pred   y_proba\n",
              "43834        0   False  0.000000\n",
              "453438       0   False  0.000000\n",
              "385187       0   False  0.000000\n",
              "361367       0   False  0.000000\n",
              "424281       0   False  0.000747"
            ],
            "text/html": [
              "\n",
              "  <div id=\"df-ff594463-bd16-4d14-b04e-c87c757ea8b8\">\n",
              "    <div class=\"colab-df-container\">\n",
              "      <div>\n",
              "<style scoped>\n",
              "    .dataframe tbody tr th:only-of-type {\n",
              "        vertical-align: middle;\n",
              "    }\n",
              "\n",
              "    .dataframe tbody tr th {\n",
              "        vertical-align: top;\n",
              "    }\n",
              "\n",
              "    .dataframe thead th {\n",
              "        text-align: right;\n",
              "    }\n",
              "</style>\n",
              "<table border=\"1\" class=\"dataframe\">\n",
              "  <thead>\n",
              "    <tr style=\"text-align: right;\">\n",
              "      <th></th>\n",
              "      <th>y_test</th>\n",
              "      <th>y_pred</th>\n",
              "      <th>y_proba</th>\n",
              "    </tr>\n",
              "  </thead>\n",
              "  <tbody>\n",
              "    <tr>\n",
              "      <th>43834</th>\n",
              "      <td>0</td>\n",
              "      <td>False</td>\n",
              "      <td>0.000000</td>\n",
              "    </tr>\n",
              "    <tr>\n",
              "      <th>453438</th>\n",
              "      <td>0</td>\n",
              "      <td>False</td>\n",
              "      <td>0.000000</td>\n",
              "    </tr>\n",
              "    <tr>\n",
              "      <th>385187</th>\n",
              "      <td>0</td>\n",
              "      <td>False</td>\n",
              "      <td>0.000000</td>\n",
              "    </tr>\n",
              "    <tr>\n",
              "      <th>361367</th>\n",
              "      <td>0</td>\n",
              "      <td>False</td>\n",
              "      <td>0.000000</td>\n",
              "    </tr>\n",
              "    <tr>\n",
              "      <th>424281</th>\n",
              "      <td>0</td>\n",
              "      <td>False</td>\n",
              "      <td>0.000747</td>\n",
              "    </tr>\n",
              "  </tbody>\n",
              "</table>\n",
              "</div>\n",
              "      <button class=\"colab-df-convert\" onclick=\"convertToInteractive('df-ff594463-bd16-4d14-b04e-c87c757ea8b8')\"\n",
              "              title=\"Convert this dataframe to an interactive table.\"\n",
              "              style=\"display:none;\">\n",
              "        \n",
              "  <svg xmlns=\"http://www.w3.org/2000/svg\" height=\"24px\"viewBox=\"0 0 24 24\"\n",
              "       width=\"24px\">\n",
              "    <path d=\"M0 0h24v24H0V0z\" fill=\"none\"/>\n",
              "    <path d=\"M18.56 5.44l.94 2.06.94-2.06 2.06-.94-2.06-.94-.94-2.06-.94 2.06-2.06.94zm-11 1L8.5 8.5l.94-2.06 2.06-.94-2.06-.94L8.5 2.5l-.94 2.06-2.06.94zm10 10l.94 2.06.94-2.06 2.06-.94-2.06-.94-.94-2.06-.94 2.06-2.06.94z\"/><path d=\"M17.41 7.96l-1.37-1.37c-.4-.4-.92-.59-1.43-.59-.52 0-1.04.2-1.43.59L10.3 9.45l-7.72 7.72c-.78.78-.78 2.05 0 2.83L4 21.41c.39.39.9.59 1.41.59.51 0 1.02-.2 1.41-.59l7.78-7.78 2.81-2.81c.8-.78.8-2.07 0-2.86zM5.41 20L4 18.59l7.72-7.72 1.47 1.35L5.41 20z\"/>\n",
              "  </svg>\n",
              "      </button>\n",
              "      \n",
              "  <style>\n",
              "    .colab-df-container {\n",
              "      display:flex;\n",
              "      flex-wrap:wrap;\n",
              "      gap: 12px;\n",
              "    }\n",
              "\n",
              "    .colab-df-convert {\n",
              "      background-color: #E8F0FE;\n",
              "      border: none;\n",
              "      border-radius: 50%;\n",
              "      cursor: pointer;\n",
              "      display: none;\n",
              "      fill: #1967D2;\n",
              "      height: 32px;\n",
              "      padding: 0 0 0 0;\n",
              "      width: 32px;\n",
              "    }\n",
              "\n",
              "    .colab-df-convert:hover {\n",
              "      background-color: #E2EBFA;\n",
              "      box-shadow: 0px 1px 2px rgba(60, 64, 67, 0.3), 0px 1px 3px 1px rgba(60, 64, 67, 0.15);\n",
              "      fill: #174EA6;\n",
              "    }\n",
              "\n",
              "    [theme=dark] .colab-df-convert {\n",
              "      background-color: #3B4455;\n",
              "      fill: #D2E3FC;\n",
              "    }\n",
              "\n",
              "    [theme=dark] .colab-df-convert:hover {\n",
              "      background-color: #434B5C;\n",
              "      box-shadow: 0px 1px 3px 1px rgba(0, 0, 0, 0.15);\n",
              "      filter: drop-shadow(0px 1px 2px rgba(0, 0, 0, 0.3));\n",
              "      fill: #FFFFFF;\n",
              "    }\n",
              "  </style>\n",
              "\n",
              "      <script>\n",
              "        const buttonEl =\n",
              "          document.querySelector('#df-ff594463-bd16-4d14-b04e-c87c757ea8b8 button.colab-df-convert');\n",
              "        buttonEl.style.display =\n",
              "          google.colab.kernel.accessAllowed ? 'block' : 'none';\n",
              "\n",
              "        async function convertToInteractive(key) {\n",
              "          const element = document.querySelector('#df-ff594463-bd16-4d14-b04e-c87c757ea8b8');\n",
              "          const dataTable =\n",
              "            await google.colab.kernel.invokeFunction('convertToInteractive',\n",
              "                                                     [key], {});\n",
              "          if (!dataTable) return;\n",
              "\n",
              "          const docLinkHtml = 'Like what you see? Visit the ' +\n",
              "            '<a target=\"_blank\" href=https://colab.research.google.com/notebooks/data_table.ipynb>data table notebook</a>'\n",
              "            + ' to learn more about interactive tables.';\n",
              "          element.innerHTML = '';\n",
              "          dataTable['output_type'] = 'display_data';\n",
              "          await google.colab.output.renderOutput(dataTable, element);\n",
              "          const docLink = document.createElement('div');\n",
              "          docLink.innerHTML = docLinkHtml;\n",
              "          element.appendChild(docLink);\n",
              "        }\n",
              "      </script>\n",
              "    </div>\n",
              "  </div>\n",
              "  "
            ]
          },
          "metadata": {},
          "execution_count": 121
        }
      ],
      "source": [
        "df_proba.head()"
      ],
      "id": "0948e1a6"
    },
    {
      "cell_type": "code",
      "execution_count": 122,
      "metadata": {
        "id": "faf03a38"
      },
      "outputs": [],
      "source": [
        "df_proba['costos'] = 0"
      ],
      "id": "faf03a38"
    },
    {
      "cell_type": "code",
      "execution_count": 123,
      "metadata": {
        "id": "0c034467"
      },
      "outputs": [],
      "source": [
        "df_proba['costos'] = np.where(((df_proba['y_test']== 1) & (df_proba['y_pred'] == 1)), 5000, df_proba['costos'])"
      ],
      "id": "0c034467"
    },
    {
      "cell_type": "code",
      "execution_count": 124,
      "metadata": {
        "id": "1df1904a"
      },
      "outputs": [],
      "source": [
        "df_proba['costos'] = np.where(((df_proba['y_test']== 0) & (df_proba['y_pred'] == 1)), -100, df_proba['costos'])"
      ],
      "id": "1df1904a"
    },
    {
      "cell_type": "code",
      "execution_count": 125,
      "metadata": {
        "colab": {
          "base_uri": "https://localhost:8080/",
          "height": 424
        },
        "id": "42960b64",
        "outputId": "70745780-3ab6-4c35-f444-49bb8f1d21f7"
      },
      "outputs": [
        {
          "output_type": "execute_result",
          "data": {
            "text/plain": [
              "        y_test  y_pred   y_proba  costos\n",
              "527146       1   False  0.016468       0\n",
              "445718       1   False  0.004785       0\n",
              "427370       1    True  0.416667    5000\n",
              "537634       1   False  0.016468       0\n",
              "219793       1   False  0.016468       0\n",
              "...        ...     ...       ...     ...\n",
              "483612       1   False  0.001704       0\n",
              "256921       1    True  0.051873    5000\n",
              "219033       1   False  0.016468       0\n",
              "3228         1   False  0.016468       0\n",
              "516049       1    True  0.026588    5000\n",
              "\n",
              "[155 rows x 4 columns]"
            ],
            "text/html": [
              "\n",
              "  <div id=\"df-b70832bf-07f7-4a28-8ff3-7a50f3c1d790\">\n",
              "    <div class=\"colab-df-container\">\n",
              "      <div>\n",
              "<style scoped>\n",
              "    .dataframe tbody tr th:only-of-type {\n",
              "        vertical-align: middle;\n",
              "    }\n",
              "\n",
              "    .dataframe tbody tr th {\n",
              "        vertical-align: top;\n",
              "    }\n",
              "\n",
              "    .dataframe thead th {\n",
              "        text-align: right;\n",
              "    }\n",
              "</style>\n",
              "<table border=\"1\" class=\"dataframe\">\n",
              "  <thead>\n",
              "    <tr style=\"text-align: right;\">\n",
              "      <th></th>\n",
              "      <th>y_test</th>\n",
              "      <th>y_pred</th>\n",
              "      <th>y_proba</th>\n",
              "      <th>costos</th>\n",
              "    </tr>\n",
              "  </thead>\n",
              "  <tbody>\n",
              "    <tr>\n",
              "      <th>527146</th>\n",
              "      <td>1</td>\n",
              "      <td>False</td>\n",
              "      <td>0.016468</td>\n",
              "      <td>0</td>\n",
              "    </tr>\n",
              "    <tr>\n",
              "      <th>445718</th>\n",
              "      <td>1</td>\n",
              "      <td>False</td>\n",
              "      <td>0.004785</td>\n",
              "      <td>0</td>\n",
              "    </tr>\n",
              "    <tr>\n",
              "      <th>427370</th>\n",
              "      <td>1</td>\n",
              "      <td>True</td>\n",
              "      <td>0.416667</td>\n",
              "      <td>5000</td>\n",
              "    </tr>\n",
              "    <tr>\n",
              "      <th>537634</th>\n",
              "      <td>1</td>\n",
              "      <td>False</td>\n",
              "      <td>0.016468</td>\n",
              "      <td>0</td>\n",
              "    </tr>\n",
              "    <tr>\n",
              "      <th>219793</th>\n",
              "      <td>1</td>\n",
              "      <td>False</td>\n",
              "      <td>0.016468</td>\n",
              "      <td>0</td>\n",
              "    </tr>\n",
              "    <tr>\n",
              "      <th>...</th>\n",
              "      <td>...</td>\n",
              "      <td>...</td>\n",
              "      <td>...</td>\n",
              "      <td>...</td>\n",
              "    </tr>\n",
              "    <tr>\n",
              "      <th>483612</th>\n",
              "      <td>1</td>\n",
              "      <td>False</td>\n",
              "      <td>0.001704</td>\n",
              "      <td>0</td>\n",
              "    </tr>\n",
              "    <tr>\n",
              "      <th>256921</th>\n",
              "      <td>1</td>\n",
              "      <td>True</td>\n",
              "      <td>0.051873</td>\n",
              "      <td>5000</td>\n",
              "    </tr>\n",
              "    <tr>\n",
              "      <th>219033</th>\n",
              "      <td>1</td>\n",
              "      <td>False</td>\n",
              "      <td>0.016468</td>\n",
              "      <td>0</td>\n",
              "    </tr>\n",
              "    <tr>\n",
              "      <th>3228</th>\n",
              "      <td>1</td>\n",
              "      <td>False</td>\n",
              "      <td>0.016468</td>\n",
              "      <td>0</td>\n",
              "    </tr>\n",
              "    <tr>\n",
              "      <th>516049</th>\n",
              "      <td>1</td>\n",
              "      <td>True</td>\n",
              "      <td>0.026588</td>\n",
              "      <td>5000</td>\n",
              "    </tr>\n",
              "  </tbody>\n",
              "</table>\n",
              "<p>155 rows × 4 columns</p>\n",
              "</div>\n",
              "      <button class=\"colab-df-convert\" onclick=\"convertToInteractive('df-b70832bf-07f7-4a28-8ff3-7a50f3c1d790')\"\n",
              "              title=\"Convert this dataframe to an interactive table.\"\n",
              "              style=\"display:none;\">\n",
              "        \n",
              "  <svg xmlns=\"http://www.w3.org/2000/svg\" height=\"24px\"viewBox=\"0 0 24 24\"\n",
              "       width=\"24px\">\n",
              "    <path d=\"M0 0h24v24H0V0z\" fill=\"none\"/>\n",
              "    <path d=\"M18.56 5.44l.94 2.06.94-2.06 2.06-.94-2.06-.94-.94-2.06-.94 2.06-2.06.94zm-11 1L8.5 8.5l.94-2.06 2.06-.94-2.06-.94L8.5 2.5l-.94 2.06-2.06.94zm10 10l.94 2.06.94-2.06 2.06-.94-2.06-.94-.94-2.06-.94 2.06-2.06.94z\"/><path d=\"M17.41 7.96l-1.37-1.37c-.4-.4-.92-.59-1.43-.59-.52 0-1.04.2-1.43.59L10.3 9.45l-7.72 7.72c-.78.78-.78 2.05 0 2.83L4 21.41c.39.39.9.59 1.41.59.51 0 1.02-.2 1.41-.59l7.78-7.78 2.81-2.81c.8-.78.8-2.07 0-2.86zM5.41 20L4 18.59l7.72-7.72 1.47 1.35L5.41 20z\"/>\n",
              "  </svg>\n",
              "      </button>\n",
              "      \n",
              "  <style>\n",
              "    .colab-df-container {\n",
              "      display:flex;\n",
              "      flex-wrap:wrap;\n",
              "      gap: 12px;\n",
              "    }\n",
              "\n",
              "    .colab-df-convert {\n",
              "      background-color: #E8F0FE;\n",
              "      border: none;\n",
              "      border-radius: 50%;\n",
              "      cursor: pointer;\n",
              "      display: none;\n",
              "      fill: #1967D2;\n",
              "      height: 32px;\n",
              "      padding: 0 0 0 0;\n",
              "      width: 32px;\n",
              "    }\n",
              "\n",
              "    .colab-df-convert:hover {\n",
              "      background-color: #E2EBFA;\n",
              "      box-shadow: 0px 1px 2px rgba(60, 64, 67, 0.3), 0px 1px 3px 1px rgba(60, 64, 67, 0.15);\n",
              "      fill: #174EA6;\n",
              "    }\n",
              "\n",
              "    [theme=dark] .colab-df-convert {\n",
              "      background-color: #3B4455;\n",
              "      fill: #D2E3FC;\n",
              "    }\n",
              "\n",
              "    [theme=dark] .colab-df-convert:hover {\n",
              "      background-color: #434B5C;\n",
              "      box-shadow: 0px 1px 3px 1px rgba(0, 0, 0, 0.15);\n",
              "      filter: drop-shadow(0px 1px 2px rgba(0, 0, 0, 0.3));\n",
              "      fill: #FFFFFF;\n",
              "    }\n",
              "  </style>\n",
              "\n",
              "      <script>\n",
              "        const buttonEl =\n",
              "          document.querySelector('#df-b70832bf-07f7-4a28-8ff3-7a50f3c1d790 button.colab-df-convert');\n",
              "        buttonEl.style.display =\n",
              "          google.colab.kernel.accessAllowed ? 'block' : 'none';\n",
              "\n",
              "        async function convertToInteractive(key) {\n",
              "          const element = document.querySelector('#df-b70832bf-07f7-4a28-8ff3-7a50f3c1d790');\n",
              "          const dataTable =\n",
              "            await google.colab.kernel.invokeFunction('convertToInteractive',\n",
              "                                                     [key], {});\n",
              "          if (!dataTable) return;\n",
              "\n",
              "          const docLinkHtml = 'Like what you see? Visit the ' +\n",
              "            '<a target=\"_blank\" href=https://colab.research.google.com/notebooks/data_table.ipynb>data table notebook</a>'\n",
              "            + ' to learn more about interactive tables.';\n",
              "          element.innerHTML = '';\n",
              "          dataTable['output_type'] = 'display_data';\n",
              "          await google.colab.output.renderOutput(dataTable, element);\n",
              "          const docLink = document.createElement('div');\n",
              "          docLink.innerHTML = docLinkHtml;\n",
              "          element.appendChild(docLink);\n",
              "        }\n",
              "      </script>\n",
              "    </div>\n",
              "  </div>\n",
              "  "
            ]
          },
          "metadata": {},
          "execution_count": 125
        }
      ],
      "source": [
        "df_proba[(df_proba['y_test'] == 1) & (df_proba['y_test'] == 1)]"
      ],
      "id": "42960b64"
    },
    {
      "cell_type": "code",
      "execution_count": 126,
      "metadata": {
        "id": "a92359ce"
      },
      "outputs": [],
      "source": [
        "df_proba = df_proba.sort_values(by = 'y_proba')"
      ],
      "id": "a92359ce"
    },
    {
      "cell_type": "code",
      "execution_count": 127,
      "metadata": {
        "id": "c2116a05"
      },
      "outputs": [],
      "source": [
        "df_proba['costo_cumsum'] = df_proba['costos'].cumsum()"
      ],
      "id": "c2116a05"
    },
    {
      "cell_type": "code",
      "execution_count": 128,
      "metadata": {
        "colab": {
          "base_uri": "https://localhost:8080/",
          "height": 206
        },
        "id": "f83d612d",
        "outputId": "1b2bf325-391c-4633-f90e-808c09a16e3b"
      },
      "outputs": [
        {
          "output_type": "execute_result",
          "data": {
            "text/plain": [
              "        y_test  y_pred  y_proba  costos  costo_cumsum\n",
              "437975       0    True      1.0    -100        139100\n",
              "548043       1    True      1.0    5000        144100\n",
              "548893       0    True      1.0    -100        144000\n",
              "510215       1    True      1.0    5000        149000\n",
              "364561       0    True      1.0    -100        148900"
            ],
            "text/html": [
              "\n",
              "  <div id=\"df-669dd19c-8386-4912-94cc-5cb7d13c6d36\">\n",
              "    <div class=\"colab-df-container\">\n",
              "      <div>\n",
              "<style scoped>\n",
              "    .dataframe tbody tr th:only-of-type {\n",
              "        vertical-align: middle;\n",
              "    }\n",
              "\n",
              "    .dataframe tbody tr th {\n",
              "        vertical-align: top;\n",
              "    }\n",
              "\n",
              "    .dataframe thead th {\n",
              "        text-align: right;\n",
              "    }\n",
              "</style>\n",
              "<table border=\"1\" class=\"dataframe\">\n",
              "  <thead>\n",
              "    <tr style=\"text-align: right;\">\n",
              "      <th></th>\n",
              "      <th>y_test</th>\n",
              "      <th>y_pred</th>\n",
              "      <th>y_proba</th>\n",
              "      <th>costos</th>\n",
              "      <th>costo_cumsum</th>\n",
              "    </tr>\n",
              "  </thead>\n",
              "  <tbody>\n",
              "    <tr>\n",
              "      <th>437975</th>\n",
              "      <td>0</td>\n",
              "      <td>True</td>\n",
              "      <td>1.0</td>\n",
              "      <td>-100</td>\n",
              "      <td>139100</td>\n",
              "    </tr>\n",
              "    <tr>\n",
              "      <th>548043</th>\n",
              "      <td>1</td>\n",
              "      <td>True</td>\n",
              "      <td>1.0</td>\n",
              "      <td>5000</td>\n",
              "      <td>144100</td>\n",
              "    </tr>\n",
              "    <tr>\n",
              "      <th>548893</th>\n",
              "      <td>0</td>\n",
              "      <td>True</td>\n",
              "      <td>1.0</td>\n",
              "      <td>-100</td>\n",
              "      <td>144000</td>\n",
              "    </tr>\n",
              "    <tr>\n",
              "      <th>510215</th>\n",
              "      <td>1</td>\n",
              "      <td>True</td>\n",
              "      <td>1.0</td>\n",
              "      <td>5000</td>\n",
              "      <td>149000</td>\n",
              "    </tr>\n",
              "    <tr>\n",
              "      <th>364561</th>\n",
              "      <td>0</td>\n",
              "      <td>True</td>\n",
              "      <td>1.0</td>\n",
              "      <td>-100</td>\n",
              "      <td>148900</td>\n",
              "    </tr>\n",
              "  </tbody>\n",
              "</table>\n",
              "</div>\n",
              "      <button class=\"colab-df-convert\" onclick=\"convertToInteractive('df-669dd19c-8386-4912-94cc-5cb7d13c6d36')\"\n",
              "              title=\"Convert this dataframe to an interactive table.\"\n",
              "              style=\"display:none;\">\n",
              "        \n",
              "  <svg xmlns=\"http://www.w3.org/2000/svg\" height=\"24px\"viewBox=\"0 0 24 24\"\n",
              "       width=\"24px\">\n",
              "    <path d=\"M0 0h24v24H0V0z\" fill=\"none\"/>\n",
              "    <path d=\"M18.56 5.44l.94 2.06.94-2.06 2.06-.94-2.06-.94-.94-2.06-.94 2.06-2.06.94zm-11 1L8.5 8.5l.94-2.06 2.06-.94-2.06-.94L8.5 2.5l-.94 2.06-2.06.94zm10 10l.94 2.06.94-2.06 2.06-.94-2.06-.94-.94-2.06-.94 2.06-2.06.94z\"/><path d=\"M17.41 7.96l-1.37-1.37c-.4-.4-.92-.59-1.43-.59-.52 0-1.04.2-1.43.59L10.3 9.45l-7.72 7.72c-.78.78-.78 2.05 0 2.83L4 21.41c.39.39.9.59 1.41.59.51 0 1.02-.2 1.41-.59l7.78-7.78 2.81-2.81c.8-.78.8-2.07 0-2.86zM5.41 20L4 18.59l7.72-7.72 1.47 1.35L5.41 20z\"/>\n",
              "  </svg>\n",
              "      </button>\n",
              "      \n",
              "  <style>\n",
              "    .colab-df-container {\n",
              "      display:flex;\n",
              "      flex-wrap:wrap;\n",
              "      gap: 12px;\n",
              "    }\n",
              "\n",
              "    .colab-df-convert {\n",
              "      background-color: #E8F0FE;\n",
              "      border: none;\n",
              "      border-radius: 50%;\n",
              "      cursor: pointer;\n",
              "      display: none;\n",
              "      fill: #1967D2;\n",
              "      height: 32px;\n",
              "      padding: 0 0 0 0;\n",
              "      width: 32px;\n",
              "    }\n",
              "\n",
              "    .colab-df-convert:hover {\n",
              "      background-color: #E2EBFA;\n",
              "      box-shadow: 0px 1px 2px rgba(60, 64, 67, 0.3), 0px 1px 3px 1px rgba(60, 64, 67, 0.15);\n",
              "      fill: #174EA6;\n",
              "    }\n",
              "\n",
              "    [theme=dark] .colab-df-convert {\n",
              "      background-color: #3B4455;\n",
              "      fill: #D2E3FC;\n",
              "    }\n",
              "\n",
              "    [theme=dark] .colab-df-convert:hover {\n",
              "      background-color: #434B5C;\n",
              "      box-shadow: 0px 1px 3px 1px rgba(0, 0, 0, 0.15);\n",
              "      filter: drop-shadow(0px 1px 2px rgba(0, 0, 0, 0.3));\n",
              "      fill: #FFFFFF;\n",
              "    }\n",
              "  </style>\n",
              "\n",
              "      <script>\n",
              "        const buttonEl =\n",
              "          document.querySelector('#df-669dd19c-8386-4912-94cc-5cb7d13c6d36 button.colab-df-convert');\n",
              "        buttonEl.style.display =\n",
              "          google.colab.kernel.accessAllowed ? 'block' : 'none';\n",
              "\n",
              "        async function convertToInteractive(key) {\n",
              "          const element = document.querySelector('#df-669dd19c-8386-4912-94cc-5cb7d13c6d36');\n",
              "          const dataTable =\n",
              "            await google.colab.kernel.invokeFunction('convertToInteractive',\n",
              "                                                     [key], {});\n",
              "          if (!dataTable) return;\n",
              "\n",
              "          const docLinkHtml = 'Like what you see? Visit the ' +\n",
              "            '<a target=\"_blank\" href=https://colab.research.google.com/notebooks/data_table.ipynb>data table notebook</a>'\n",
              "            + ' to learn more about interactive tables.';\n",
              "          element.innerHTML = '';\n",
              "          dataTable['output_type'] = 'display_data';\n",
              "          await google.colab.output.renderOutput(dataTable, element);\n",
              "          const docLink = document.createElement('div');\n",
              "          docLink.innerHTML = docLinkHtml;\n",
              "          element.appendChild(docLink);\n",
              "        }\n",
              "      </script>\n",
              "    </div>\n",
              "  </div>\n",
              "  "
            ]
          },
          "metadata": {},
          "execution_count": 128
        }
      ],
      "source": [
        "df_proba.tail()"
      ],
      "id": "f83d612d"
    },
    {
      "cell_type": "code",
      "execution_count": 129,
      "metadata": {
        "colab": {
          "base_uri": "https://localhost:8080/"
        },
        "id": "ac9f796c",
        "outputId": "ef703204-6fe0-49d9-d79d-e038ea329487"
      },
      "outputs": [
        {
          "output_type": "execute_result",
          "data": {
            "text/plain": [
              "count    109972.000000\n",
              "mean        259.336922\n",
              "std        4131.565594\n",
              "min      -12800.000000\n",
              "25%           0.000000\n",
              "50%           0.000000\n",
              "75%           0.000000\n",
              "max      149000.000000\n",
              "Name: costo_cumsum, dtype: float64"
            ]
          },
          "metadata": {},
          "execution_count": 129
        }
      ],
      "source": [
        "df_proba['costo_cumsum'].describe()"
      ],
      "id": "ac9f796c"
    },
    {
      "cell_type": "markdown",
      "metadata": {
        "id": "93cffc79"
      },
      "source": [
        "### Recuperando los Id Clientes \n",
        "Haciendo la predicción de los Id de los clientes"
      ],
      "id": "93cffc79"
    },
    {
      "cell_type": "code",
      "execution_count": 130,
      "metadata": {
        "colab": {
          "base_uri": "https://localhost:8080/",
          "height": 300
        },
        "id": "b7ccdb1d",
        "outputId": "b99af46c-67c8-4b29-ee77-b70e7127ef1c"
      },
      "outputs": [
        {
          "output_type": "execute_result",
          "data": {
            "text/plain": [
              "        mrentabilidad  mrentabilidad_annual  mcomisiones  mactivos_margen  \\\n",
              "43834         1427.14              13830.95       945.93           -93.99   \n",
              "453438         760.95              12761.81       196.47           -95.87   \n",
              "385187        1031.42               9642.12       337.86           396.36   \n",
              "361367        1052.00              13657.09       346.51           596.09   \n",
              "424281           0.00               6964.69         0.00             0.00   \n",
              "\n",
              "        mpasivos_margen  mcaja_ahorro_dolares  mcuentas_saldo  mautoservicio  \\\n",
              "43834            505.28                159.81        29472.42        2359.21   \n",
              "453438           578.33                 88.93       232564.86        5347.66   \n",
              "385187           196.43                  0.00         9137.94        1296.88   \n",
              "361367             6.89                  0.00        -4094.66           0.00   \n",
              "424281             0.00                  0.00            0.00           0.00   \n",
              "\n",
              "        mplan_sueldo  mextraccion_autoservicio  ...  trenta  tseguro  \\\n",
              "43834       17974.71                   13104.0  ...       0        0   \n",
              "453438     219366.81                   29250.0  ...       0        0   \n",
              "385187      10797.93                   11466.0  ...       0        1   \n",
              "361367          0.00                     468.0  ...       0        1   \n",
              "424281          0.00                       0.0  ...       0        1   \n",
              "\n",
              "        tdebitos_automaticos  tdescuento  ttransacciones  tcajas_total  \\\n",
              "43834                      1           1               1             0   \n",
              "453438                     1           1               1             0   \n",
              "385187                     1           0               1             0   \n",
              "361367                     1           1               1             0   \n",
              "424281                     1           1               0             0   \n",
              "\n",
              "        tcajero_transaccion  ttarjeta_visa_master   pred  target  \n",
              "43834                     1                     1  False       0  \n",
              "453438                    1                     1  False       0  \n",
              "385187                    1                     1  False       0  \n",
              "361367                    1                     1  False       0  \n",
              "424281                    0                     1  False       0  \n",
              "\n",
              "[5 rows x 89 columns]"
            ],
            "text/html": [
              "\n",
              "  <div id=\"df-4565da98-7192-4123-a90a-bbc0ea99d5af\">\n",
              "    <div class=\"colab-df-container\">\n",
              "      <div>\n",
              "<style scoped>\n",
              "    .dataframe tbody tr th:only-of-type {\n",
              "        vertical-align: middle;\n",
              "    }\n",
              "\n",
              "    .dataframe tbody tr th {\n",
              "        vertical-align: top;\n",
              "    }\n",
              "\n",
              "    .dataframe thead th {\n",
              "        text-align: right;\n",
              "    }\n",
              "</style>\n",
              "<table border=\"1\" class=\"dataframe\">\n",
              "  <thead>\n",
              "    <tr style=\"text-align: right;\">\n",
              "      <th></th>\n",
              "      <th>mrentabilidad</th>\n",
              "      <th>mrentabilidad_annual</th>\n",
              "      <th>mcomisiones</th>\n",
              "      <th>mactivos_margen</th>\n",
              "      <th>mpasivos_margen</th>\n",
              "      <th>mcaja_ahorro_dolares</th>\n",
              "      <th>mcuentas_saldo</th>\n",
              "      <th>mautoservicio</th>\n",
              "      <th>mplan_sueldo</th>\n",
              "      <th>mextraccion_autoservicio</th>\n",
              "      <th>...</th>\n",
              "      <th>trenta</th>\n",
              "      <th>tseguro</th>\n",
              "      <th>tdebitos_automaticos</th>\n",
              "      <th>tdescuento</th>\n",
              "      <th>ttransacciones</th>\n",
              "      <th>tcajas_total</th>\n",
              "      <th>tcajero_transaccion</th>\n",
              "      <th>ttarjeta_visa_master</th>\n",
              "      <th>pred</th>\n",
              "      <th>target</th>\n",
              "    </tr>\n",
              "  </thead>\n",
              "  <tbody>\n",
              "    <tr>\n",
              "      <th>43834</th>\n",
              "      <td>1427.14</td>\n",
              "      <td>13830.95</td>\n",
              "      <td>945.93</td>\n",
              "      <td>-93.99</td>\n",
              "      <td>505.28</td>\n",
              "      <td>159.81</td>\n",
              "      <td>29472.42</td>\n",
              "      <td>2359.21</td>\n",
              "      <td>17974.71</td>\n",
              "      <td>13104.0</td>\n",
              "      <td>...</td>\n",
              "      <td>0</td>\n",
              "      <td>0</td>\n",
              "      <td>1</td>\n",
              "      <td>1</td>\n",
              "      <td>1</td>\n",
              "      <td>0</td>\n",
              "      <td>1</td>\n",
              "      <td>1</td>\n",
              "      <td>False</td>\n",
              "      <td>0</td>\n",
              "    </tr>\n",
              "    <tr>\n",
              "      <th>453438</th>\n",
              "      <td>760.95</td>\n",
              "      <td>12761.81</td>\n",
              "      <td>196.47</td>\n",
              "      <td>-95.87</td>\n",
              "      <td>578.33</td>\n",
              "      <td>88.93</td>\n",
              "      <td>232564.86</td>\n",
              "      <td>5347.66</td>\n",
              "      <td>219366.81</td>\n",
              "      <td>29250.0</td>\n",
              "      <td>...</td>\n",
              "      <td>0</td>\n",
              "      <td>0</td>\n",
              "      <td>1</td>\n",
              "      <td>1</td>\n",
              "      <td>1</td>\n",
              "      <td>0</td>\n",
              "      <td>1</td>\n",
              "      <td>1</td>\n",
              "      <td>False</td>\n",
              "      <td>0</td>\n",
              "    </tr>\n",
              "    <tr>\n",
              "      <th>385187</th>\n",
              "      <td>1031.42</td>\n",
              "      <td>9642.12</td>\n",
              "      <td>337.86</td>\n",
              "      <td>396.36</td>\n",
              "      <td>196.43</td>\n",
              "      <td>0.00</td>\n",
              "      <td>9137.94</td>\n",
              "      <td>1296.88</td>\n",
              "      <td>10797.93</td>\n",
              "      <td>11466.0</td>\n",
              "      <td>...</td>\n",
              "      <td>0</td>\n",
              "      <td>1</td>\n",
              "      <td>1</td>\n",
              "      <td>0</td>\n",
              "      <td>1</td>\n",
              "      <td>0</td>\n",
              "      <td>1</td>\n",
              "      <td>1</td>\n",
              "      <td>False</td>\n",
              "      <td>0</td>\n",
              "    </tr>\n",
              "    <tr>\n",
              "      <th>361367</th>\n",
              "      <td>1052.00</td>\n",
              "      <td>13657.09</td>\n",
              "      <td>346.51</td>\n",
              "      <td>596.09</td>\n",
              "      <td>6.89</td>\n",
              "      <td>0.00</td>\n",
              "      <td>-4094.66</td>\n",
              "      <td>0.00</td>\n",
              "      <td>0.00</td>\n",
              "      <td>468.0</td>\n",
              "      <td>...</td>\n",
              "      <td>0</td>\n",
              "      <td>1</td>\n",
              "      <td>1</td>\n",
              "      <td>1</td>\n",
              "      <td>1</td>\n",
              "      <td>0</td>\n",
              "      <td>1</td>\n",
              "      <td>1</td>\n",
              "      <td>False</td>\n",
              "      <td>0</td>\n",
              "    </tr>\n",
              "    <tr>\n",
              "      <th>424281</th>\n",
              "      <td>0.00</td>\n",
              "      <td>6964.69</td>\n",
              "      <td>0.00</td>\n",
              "      <td>0.00</td>\n",
              "      <td>0.00</td>\n",
              "      <td>0.00</td>\n",
              "      <td>0.00</td>\n",
              "      <td>0.00</td>\n",
              "      <td>0.00</td>\n",
              "      <td>0.0</td>\n",
              "      <td>...</td>\n",
              "      <td>0</td>\n",
              "      <td>1</td>\n",
              "      <td>1</td>\n",
              "      <td>1</td>\n",
              "      <td>0</td>\n",
              "      <td>0</td>\n",
              "      <td>0</td>\n",
              "      <td>1</td>\n",
              "      <td>False</td>\n",
              "      <td>0</td>\n",
              "    </tr>\n",
              "  </tbody>\n",
              "</table>\n",
              "<p>5 rows × 89 columns</p>\n",
              "</div>\n",
              "      <button class=\"colab-df-convert\" onclick=\"convertToInteractive('df-4565da98-7192-4123-a90a-bbc0ea99d5af')\"\n",
              "              title=\"Convert this dataframe to an interactive table.\"\n",
              "              style=\"display:none;\">\n",
              "        \n",
              "  <svg xmlns=\"http://www.w3.org/2000/svg\" height=\"24px\"viewBox=\"0 0 24 24\"\n",
              "       width=\"24px\">\n",
              "    <path d=\"M0 0h24v24H0V0z\" fill=\"none\"/>\n",
              "    <path d=\"M18.56 5.44l.94 2.06.94-2.06 2.06-.94-2.06-.94-.94-2.06-.94 2.06-2.06.94zm-11 1L8.5 8.5l.94-2.06 2.06-.94-2.06-.94L8.5 2.5l-.94 2.06-2.06.94zm10 10l.94 2.06.94-2.06 2.06-.94-2.06-.94-.94-2.06-.94 2.06-2.06.94z\"/><path d=\"M17.41 7.96l-1.37-1.37c-.4-.4-.92-.59-1.43-.59-.52 0-1.04.2-1.43.59L10.3 9.45l-7.72 7.72c-.78.78-.78 2.05 0 2.83L4 21.41c.39.39.9.59 1.41.59.51 0 1.02-.2 1.41-.59l7.78-7.78 2.81-2.81c.8-.78.8-2.07 0-2.86zM5.41 20L4 18.59l7.72-7.72 1.47 1.35L5.41 20z\"/>\n",
              "  </svg>\n",
              "      </button>\n",
              "      \n",
              "  <style>\n",
              "    .colab-df-container {\n",
              "      display:flex;\n",
              "      flex-wrap:wrap;\n",
              "      gap: 12px;\n",
              "    }\n",
              "\n",
              "    .colab-df-convert {\n",
              "      background-color: #E8F0FE;\n",
              "      border: none;\n",
              "      border-radius: 50%;\n",
              "      cursor: pointer;\n",
              "      display: none;\n",
              "      fill: #1967D2;\n",
              "      height: 32px;\n",
              "      padding: 0 0 0 0;\n",
              "      width: 32px;\n",
              "    }\n",
              "\n",
              "    .colab-df-convert:hover {\n",
              "      background-color: #E2EBFA;\n",
              "      box-shadow: 0px 1px 2px rgba(60, 64, 67, 0.3), 0px 1px 3px 1px rgba(60, 64, 67, 0.15);\n",
              "      fill: #174EA6;\n",
              "    }\n",
              "\n",
              "    [theme=dark] .colab-df-convert {\n",
              "      background-color: #3B4455;\n",
              "      fill: #D2E3FC;\n",
              "    }\n",
              "\n",
              "    [theme=dark] .colab-df-convert:hover {\n",
              "      background-color: #434B5C;\n",
              "      box-shadow: 0px 1px 3px 1px rgba(0, 0, 0, 0.15);\n",
              "      filter: drop-shadow(0px 1px 2px rgba(0, 0, 0, 0.3));\n",
              "      fill: #FFFFFF;\n",
              "    }\n",
              "  </style>\n",
              "\n",
              "      <script>\n",
              "        const buttonEl =\n",
              "          document.querySelector('#df-4565da98-7192-4123-a90a-bbc0ea99d5af button.colab-df-convert');\n",
              "        buttonEl.style.display =\n",
              "          google.colab.kernel.accessAllowed ? 'block' : 'none';\n",
              "\n",
              "        async function convertToInteractive(key) {\n",
              "          const element = document.querySelector('#df-4565da98-7192-4123-a90a-bbc0ea99d5af');\n",
              "          const dataTable =\n",
              "            await google.colab.kernel.invokeFunction('convertToInteractive',\n",
              "                                                     [key], {});\n",
              "          if (!dataTable) return;\n",
              "\n",
              "          const docLinkHtml = 'Like what you see? Visit the ' +\n",
              "            '<a target=\"_blank\" href=https://colab.research.google.com/notebooks/data_table.ipynb>data table notebook</a>'\n",
              "            + ' to learn more about interactive tables.';\n",
              "          element.innerHTML = '';\n",
              "          dataTable['output_type'] = 'display_data';\n",
              "          await google.colab.output.renderOutput(dataTable, element);\n",
              "          const docLink = document.createElement('div');\n",
              "          docLink.innerHTML = docLinkHtml;\n",
              "          element.appendChild(docLink);\n",
              "        }\n",
              "      </script>\n",
              "    </div>\n",
              "  </div>\n",
              "  "
            ]
          },
          "metadata": {},
          "execution_count": 130
        }
      ],
      "source": [
        "# Creamos un df con el set de datos de predicción\n",
        "df_pred = pd.DataFrame(data=X_test)\n",
        "\n",
        "# Le sumamos la columna pred y target\n",
        "df_pred['pred'] = y_test_pred_h\n",
        "df_pred['target'] = y_test\n",
        "df_pred.head() "
      ],
      "id": "b7ccdb1d"
    },
    {
      "cell_type": "code",
      "execution_count": 131,
      "metadata": {
        "colab": {
          "base_uri": "https://localhost:8080/"
        },
        "id": "3c1e2820",
        "scrolled": true,
        "outputId": "d4c68055-4dc2-4026-d0fa-1cc765bad934"
      },
      "outputs": [
        {
          "output_type": "execute_result",
          "data": {
            "text/plain": [
              "857"
            ]
          },
          "metadata": {},
          "execution_count": 131
        }
      ],
      "source": [
        "id_clientes = list(df_pred['numero_de_cliente'][df_pred['pred']==1])\n",
        "id_clientes.sort()\n",
        "len(id_clientes)"
      ],
      "id": "3c1e2820"
    },
    {
      "cell_type": "markdown",
      "metadata": {
        "id": "201dc44b"
      },
      "source": [
        "### Analizamos la Importancia de las variables"
      ],
      "id": "201dc44b"
    },
    {
      "cell_type": "code",
      "execution_count": 132,
      "metadata": {
        "id": "d4c3d478"
      },
      "outputs": [],
      "source": [
        "feature_names = dtree_final.feature_names_in_"
      ],
      "id": "d4c3d478"
    },
    {
      "cell_type": "code",
      "execution_count": 133,
      "metadata": {
        "colab": {
          "base_uri": "https://localhost:8080/"
        },
        "id": "adc3a932",
        "outputId": "ef9863e4-5618-40e6-f47f-99efeee2d007"
      },
      "outputs": [
        {
          "output_type": "execute_result",
          "data": {
            "text/plain": [
              "array(['marketing_activo_ultimos90dias', 'Master_marca_atraso',\n",
              "       'Visa_marca_atraso', 'marketing_coss_selling_6',\n",
              "       'Master_cuenta_estado_11.0', 'Master_cuenta_estado_12.0',\n",
              "       'Visa_cuenta_estado_11.0', 'Visa_cuenta_estado_12.0',\n",
              "       'Visa_cuenta_estado_19.0', 'Visa_tadelantosefectivo', 'tdescuento',\n",
              "       'ttransacciones', 'tcajero_transaccion'], dtype=object)"
            ]
          },
          "metadata": {},
          "execution_count": 133
        }
      ],
      "source": [
        "feature_names"
      ],
      "id": "adc3a932"
    },
    {
      "cell_type": "code",
      "execution_count": 134,
      "metadata": {
        "id": "557c7ebe"
      },
      "outputs": [],
      "source": [
        "feature_imp = dtree_final.feature_importances_"
      ],
      "id": "557c7ebe"
    },
    {
      "cell_type": "code",
      "execution_count": 135,
      "metadata": {
        "colab": {
          "base_uri": "https://localhost:8080/"
        },
        "id": "0bd4d601",
        "outputId": "4c5f31a3-897b-4d13-efbf-b4a239edcfd4"
      },
      "outputs": [
        {
          "output_type": "execute_result",
          "data": {
            "text/plain": [
              "array([0.30612464, 0.05170208, 0.07159979, 0.07110718, 0.07893525,\n",
              "       0.03819648, 0.07751385, 0.03019858, 0.01494953, 0.08612196,\n",
              "       0.04196115, 0.10052767, 0.03106185])"
            ]
          },
          "metadata": {},
          "execution_count": 135
        }
      ],
      "source": [
        "feature_imp"
      ],
      "id": "0bd4d601"
    },
    {
      "cell_type": "code",
      "execution_count": 136,
      "metadata": {
        "id": "ffd86a3c"
      },
      "outputs": [],
      "source": [
        "features = pd.DataFrame"
      ],
      "id": "ffd86a3c"
    },
    {
      "cell_type": "code",
      "execution_count": 137,
      "metadata": {
        "id": "7e963c35"
      },
      "outputs": [],
      "source": [
        "features = pd.DataFrame([feature_names, feature_imp]).T\n",
        "features.rename(columns={0: 'feature_names', 1: 'feature_imp'}, inplace=True)\n",
        "features.sort_values(by = 'feature_imp', ascending = False)\n",
        "features['feature_pct'] = (features['feature_imp'] / features['feature_imp'].sum()) * 100"
      ],
      "id": "7e963c35"
    },
    {
      "cell_type": "code",
      "execution_count": 138,
      "metadata": {
        "colab": {
          "base_uri": "https://localhost:8080/",
          "height": 313
        },
        "id": "12a4451c",
        "outputId": "5d8ee72a-b942-4e2a-f6cf-e24d992bec1a"
      },
      "outputs": [
        {
          "output_type": "execute_result",
          "data": {
            "text/plain": [
              "Text(0.5, 1.0, 'Impacto de las Variables incluidas en el modelo')"
            ]
          },
          "metadata": {},
          "execution_count": 138
        },
        {
          "output_type": "display_data",
          "data": {
            "text/plain": [
              "<Figure size 432x288 with 1 Axes>"
            ],
            "image/png": "[encoded data removed]"
          },
          "metadata": {
            "needs_background": "light"
          }
        }
      ],
      "source": [
        "# Grafico de las variables analizadas y su importancia\n",
        "plt.barh(features.feature_names, features.feature_pct.sort_values())\n",
        "plt.xlabel(\"Features Importance (%)\")\n",
        "plt.title('Impacto de las Variables incluidas en el modelo')"
      ],
      "id": "12a4451c"
    },
    {
      "cell_type": "markdown",
      "metadata": {
        "id": "bcd0f3e3"
      },
      "source": [
        "# 6. Conclusiones"
      ],
      "id": "bcd0f3e3"
    },
    {
      "cell_type": "markdown",
      "source": [
        "Se utilizó Árbol de decisión con mejoras en los hiperparámetros, ya que fue el modelo que mejor se aproximó al score pretendido. Para el score, decidimos usar recall como parámetro de medición, por la forma de la matriz de condición para el problema planteado, ya que consideramos que se adecuaba mejor a la condición. La suma determinada por el modelo y la matriz, arrojó un positivo de $149k.\n"
      ],
      "metadata": {
        "id": "6l2RL-_tTSm3"
      },
      "id": "6l2RL-_tTSm3"
    },
    {
      "cell_type": "markdown",
      "metadata": {
        "id": "wb_cLI3NZFUb"
      },
      "source": [
        "Predicción del mes de Abril"
      ],
      "id": "wb_cLI3NZFUb"
    },
    {
      "cell_type": "code",
      "execution_count": 139,
      "metadata": {
        "id": "eBNapJHNZIuy"
      },
      "outputs": [],
      "source": [
        "#Dataset de 201404\n",
        "X_04 = pd.read_csv('/content/drive/My Drive/DataScience/Banco/banco_to_model_201404.csv', index_col = 0)#, low_memory = False)"
      ],
      "id": "eBNapJHNZIuy"
    },
    {
      "cell_type": "code",
      "execution_count": 140,
      "metadata": {
        "id": "_xLUeDWMZI-T"
      },
      "outputs": [],
      "source": [
        "#NO tomamos en cuenta el Id_cliente (columna [0])\n",
        "X_04_data = X_04.drop([\"numero_de_cliente\"], axis = 1)"
      ],
      "id": "_xLUeDWMZI-T"
    },
    {
      "cell_type": "code",
      "execution_count": 141,
      "metadata": {
        "colab": {
          "base_uri": "https://localhost:8080/"
        },
        "id": "yhQpeMh0aUvj",
        "outputId": "124a5852-977b-4ae3-c4fb-f4d47bf23fa7"
      },
      "outputs": [
        {
          "output_type": "stream",
          "name": "stderr",
          "text": [
            "/usr/local/lib/python3.7/dist-packages/sklearn/base.py:493: FutureWarning: The feature names should match those that were passed during fit. Starting version 1.2, an error will be raised.\n",
            "Feature names must be in the same order as they were in fit.\n",
            "\n",
            "  warnings.warn(message, FutureWarning)\n"
          ]
        }
      ],
      "source": [
        "#Escalado de X\n",
        "  \n",
        "X_04_data_std = scaler.transform(X_04_data)"
      ],
      "id": "yhQpeMh0aUvj"
    },
    {
      "cell_type": "code",
      "source": [
        "X_04_data_std = pd.DataFrame(X_04_data_std, columns = X_04_data.columns)"
      ],
      "metadata": {
        "id": "uko2dKxjcbzg"
      },
      "id": "uko2dKxjcbzg",
      "execution_count": 142,
      "outputs": []
    },
    {
      "cell_type": "code",
      "execution_count": 143,
      "metadata": {
        "colab": {
          "base_uri": "https://localhost:8080/"
        },
        "id": "xESguZosasDw",
        "outputId": "0ca44aa0-52a8-4fe6-d523-b8bf964a75b6"
      },
      "outputs": [
        {
          "output_type": "stream",
          "name": "stderr",
          "text": [
            "/usr/local/lib/python3.7/dist-packages/sklearn/base.py:493: FutureWarning: The feature names should match those that were passed during fit. Starting version 1.2, an error will be raised.\n",
            "Feature names must be in the same order as they were in fit.\n",
            "\n",
            "  warnings.warn(message, FutureWarning)\n"
          ]
        }
      ],
      "source": [
        "#Transformación de X\n",
        "X_04_data_std_sel = feature_sel.transform(X_04_data_std)"
      ],
      "id": "xESguZosasDw"
    },
    {
      "cell_type": "code",
      "execution_count": 144,
      "metadata": {
        "colab": {
          "base_uri": "https://localhost:8080/"
        },
        "id": "cG-GQAYmo1RN",
        "outputId": "5a641abb-b69b-4139-eecc-35f01cdb82e6"
      },
      "outputs": [
        {
          "output_type": "stream",
          "name": "stderr",
          "text": [
            "/usr/local/lib/python3.7/dist-packages/sklearn/base.py:451: UserWarning: X does not have valid feature names, but DecisionTreeClassifier was fitted with feature names\n",
            "  \"X does not have valid feature names, but\"\n"
          ]
        }
      ],
      "source": [
        "#Predicción de datos\n",
        "y_04_pred = dtree_final.predict(X_04_data_std_sel)"
      ],
      "id": "cG-GQAYmo1RN"
    },
    {
      "cell_type": "code",
      "source": [
        "#X_04_data_std_sel[\"Predict\"] = y_04_pred #Tira Error\n",
        "X_04[\"Predict\"] = y_04_pred"
      ],
      "metadata": {
        "id": "0PrtdWpMddmA"
      },
      "id": "0PrtdWpMddmA",
      "execution_count": 145,
      "outputs": []
    },
    {
      "cell_type": "code",
      "source": [
        "X_04.head()"
      ],
      "metadata": {
        "id": "1Sl79_EjiBS1",
        "colab": {
          "base_uri": "https://localhost:8080/",
          "height": 300
        },
        "outputId": "ceb7ceab-d246-4a7c-8845-7440eaf6cca3"
      },
      "id": "1Sl79_EjiBS1",
      "execution_count": 148,
      "outputs": [
        {
          "output_type": "execute_result",
          "data": {
            "text/plain": [
              "   numero_de_cliente  cliente_antiguedad  mrentabilidad  mrentabilidad_annual  \\\n",
              "0            5609788                 239         -83.11               8931.04   \n",
              "1            5609981                 198         379.81               4411.55   \n",
              "2            5610023                  93         491.06               6913.57   \n",
              "3            5610089                 239         498.52                  0.00   \n",
              "4            5610101                  47        3333.87              57336.04   \n",
              "\n",
              "   mcomisiones  mactivos_margen  mpasivos_margen  mcaja_ahorro_dolares  \\\n",
              "0       395.03          -482.88            74.20                  0.00   \n",
              "1       144.07           172.59            28.90                  0.00   \n",
              "2       843.05          -513.40           212.55                  0.00   \n",
              "3       578.10          -242.99           174.97                  0.00   \n",
              "4      1075.12            72.65          1857.91                116.55   \n",
              "\n",
              "   mcuentas_saldo  ctarjeta_debito_transacciones  ...  \\\n",
              "0          800.80                              0  ...   \n",
              "1          286.27                              0  ...   \n",
              "2         2275.61                              2  ...   \n",
              "3         1372.90                              0  ...   \n",
              "4       149834.76                             12  ...   \n",
              "\n",
              "   marketing_coss_selling_8  marketing_coss_selling_9  \\\n",
              "0                       0.0                       1.0   \n",
              "1                       0.0                       1.0   \n",
              "2                       0.0                       1.0   \n",
              "3                       0.0                       0.0   \n",
              "4                       0.0                       0.0   \n",
              "\n",
              "   marketing_coss_selling_otros  Master_cuenta_estado_11.0  \\\n",
              "0                           0.0                        0.0   \n",
              "1                           0.0                        0.0   \n",
              "2                           0.0                        0.0   \n",
              "3                           1.0                        0.0   \n",
              "4                           1.0                        0.0   \n",
              "\n",
              "   Master_cuenta_estado_12.0  Master_cuenta_estado_19.0  \\\n",
              "0                        0.0                        0.0   \n",
              "1                        0.0                        0.0   \n",
              "2                        0.0                        0.0   \n",
              "3                        0.0                        0.0   \n",
              "4                        0.0                        0.0   \n",
              "\n",
              "   Visa_cuenta_estado_11.0  Visa_cuenta_estado_12.0  Visa_cuenta_estado_19.0  \\\n",
              "0                      0.0                      0.0                      0.0   \n",
              "1                      0.0                      0.0                      0.0   \n",
              "2                      0.0                      0.0                      0.0   \n",
              "3                      0.0                      0.0                      0.0   \n",
              "4                      0.0                      0.0                      0.0   \n",
              "\n",
              "   Predict  \n",
              "0        0  \n",
              "1        0  \n",
              "2        0  \n",
              "3        0  \n",
              "4        0  \n",
              "\n",
              "[5 rows x 88 columns]"
            ],
            "text/html": [
              "\n",
              "  <div id=\"df-1858551d-fd62-47a9-b0db-f90260f49854\">\n",
              "    <div class=\"colab-df-container\">\n",
              "      <div>\n",
              "<style scoped>\n",
              "    .dataframe tbody tr th:only-of-type {\n",
              "        vertical-align: middle;\n",
              "    }\n",
              "\n",
              "    .dataframe tbody tr th {\n",
              "        vertical-align: top;\n",
              "    }\n",
              "\n",
              "    .dataframe thead th {\n",
              "        text-align: right;\n",
              "    }\n",
              "</style>\n",
              "<table border=\"1\" class=\"dataframe\">\n",
              "  <thead>\n",
              "    <tr style=\"text-align: right;\">\n",
              "      <th></th>\n",
              "      <th>numero_de_cliente</th>\n",
              "      <th>cliente_antiguedad</th>\n",
              "      <th>mrentabilidad</th>\n",
              "      <th>mrentabilidad_annual</th>\n",
              "      <th>mcomisiones</th>\n",
              "      <th>mactivos_margen</th>\n",
              "      <th>mpasivos_margen</th>\n",
              "      <th>mcaja_ahorro_dolares</th>\n",
              "      <th>mcuentas_saldo</th>\n",
              "      <th>ctarjeta_debito_transacciones</th>\n",
              "      <th>...</th>\n",
              "      <th>marketing_coss_selling_8</th>\n",
              "      <th>marketing_coss_selling_9</th>\n",
              "      <th>marketing_coss_selling_otros</th>\n",
              "      <th>Master_cuenta_estado_11.0</th>\n",
              "      <th>Master_cuenta_estado_12.0</th>\n",
              "      <th>Master_cuenta_estado_19.0</th>\n",
              "      <th>Visa_cuenta_estado_11.0</th>\n",
              "      <th>Visa_cuenta_estado_12.0</th>\n",
              "      <th>Visa_cuenta_estado_19.0</th>\n",
              "      <th>Predict</th>\n",
              "    </tr>\n",
              "  </thead>\n",
              "  <tbody>\n",
              "    <tr>\n",
              "      <th>0</th>\n",
              "      <td>5609788</td>\n",
              "      <td>239</td>\n",
              "      <td>-83.11</td>\n",
              "      <td>8931.04</td>\n",
              "      <td>395.03</td>\n",
              "      <td>-482.88</td>\n",
              "      <td>74.20</td>\n",
              "      <td>0.00</td>\n",
              "      <td>800.80</td>\n",
              "      <td>0</td>\n",
              "      <td>...</td>\n",
              "      <td>0.0</td>\n",
              "      <td>1.0</td>\n",
              "      <td>0.0</td>\n",
              "      <td>0.0</td>\n",
              "      <td>0.0</td>\n",
              "      <td>0.0</td>\n",
              "      <td>0.0</td>\n",
              "      <td>0.0</td>\n",
              "      <td>0.0</td>\n",
              "      <td>0</td>\n",
              "    </tr>\n",
              "    <tr>\n",
              "      <th>1</th>\n",
              "      <td>5609981</td>\n",
              "      <td>198</td>\n",
              "      <td>379.81</td>\n",
              "      <td>4411.55</td>\n",
              "      <td>144.07</td>\n",
              "      <td>172.59</td>\n",
              "      <td>28.90</td>\n",
              "      <td>0.00</td>\n",
              "      <td>286.27</td>\n",
              "      <td>0</td>\n",
              "      <td>...</td>\n",
              "      <td>0.0</td>\n",
              "      <td>1.0</td>\n",
              "      <td>0.0</td>\n",
              "      <td>0.0</td>\n",
              "      <td>0.0</td>\n",
              "      <td>0.0</td>\n",
              "      <td>0.0</td>\n",
              "      <td>0.0</td>\n",
              "      <td>0.0</td>\n",
              "      <td>0</td>\n",
              "    </tr>\n",
              "    <tr>\n",
              "      <th>2</th>\n",
              "      <td>5610023</td>\n",
              "      <td>93</td>\n",
              "      <td>491.06</td>\n",
              "      <td>6913.57</td>\n",
              "      <td>843.05</td>\n",
              "      <td>-513.40</td>\n",
              "      <td>212.55</td>\n",
              "      <td>0.00</td>\n",
              "      <td>2275.61</td>\n",
              "      <td>2</td>\n",
              "      <td>...</td>\n",
              "      <td>0.0</td>\n",
              "      <td>1.0</td>\n",
              "      <td>0.0</td>\n",
              "      <td>0.0</td>\n",
              "      <td>0.0</td>\n",
              "      <td>0.0</td>\n",
              "      <td>0.0</td>\n",
              "      <td>0.0</td>\n",
              "      <td>0.0</td>\n",
              "      <td>0</td>\n",
              "    </tr>\n",
              "    <tr>\n",
              "      <th>3</th>\n",
              "      <td>5610089</td>\n",
              "      <td>239</td>\n",
              "      <td>498.52</td>\n",
              "      <td>0.00</td>\n",
              "      <td>578.10</td>\n",
              "      <td>-242.99</td>\n",
              "      <td>174.97</td>\n",
              "      <td>0.00</td>\n",
              "      <td>1372.90</td>\n",
              "      <td>0</td>\n",
              "      <td>...</td>\n",
              "      <td>0.0</td>\n",
              "      <td>0.0</td>\n",
              "      <td>1.0</td>\n",
              "      <td>0.0</td>\n",
              "      <td>0.0</td>\n",
              "      <td>0.0</td>\n",
              "      <td>0.0</td>\n",
              "      <td>0.0</td>\n",
              "      <td>0.0</td>\n",
              "      <td>0</td>\n",
              "    </tr>\n",
              "    <tr>\n",
              "      <th>4</th>\n",
              "      <td>5610101</td>\n",
              "      <td>47</td>\n",
              "      <td>3333.87</td>\n",
              "      <td>57336.04</td>\n",
              "      <td>1075.12</td>\n",
              "      <td>72.65</td>\n",
              "      <td>1857.91</td>\n",
              "      <td>116.55</td>\n",
              "      <td>149834.76</td>\n",
              "      <td>12</td>\n",
              "      <td>...</td>\n",
              "      <td>0.0</td>\n",
              "      <td>0.0</td>\n",
              "      <td>1.0</td>\n",
              "      <td>0.0</td>\n",
              "      <td>0.0</td>\n",
              "      <td>0.0</td>\n",
              "      <td>0.0</td>\n",
              "      <td>0.0</td>\n",
              "      <td>0.0</td>\n",
              "      <td>0</td>\n",
              "    </tr>\n",
              "  </tbody>\n",
              "</table>\n",
              "<p>5 rows × 88 columns</p>\n",
              "</div>\n",
              "      <button class=\"colab-df-convert\" onclick=\"convertToInteractive('df-1858551d-fd62-47a9-b0db-f90260f49854')\"\n",
              "              title=\"Convert this dataframe to an interactive table.\"\n",
              "              style=\"display:none;\">\n",
              "        \n",
              "  <svg xmlns=\"http://www.w3.org/2000/svg\" height=\"24px\"viewBox=\"0 0 24 24\"\n",
              "       width=\"24px\">\n",
              "    <path d=\"M0 0h24v24H0V0z\" fill=\"none\"/>\n",
              "    <path d=\"M18.56 5.44l.94 2.06.94-2.06 2.06-.94-2.06-.94-.94-2.06-.94 2.06-2.06.94zm-11 1L8.5 8.5l.94-2.06 2.06-.94-2.06-.94L8.5 2.5l-.94 2.06-2.06.94zm10 10l.94 2.06.94-2.06 2.06-.94-2.06-.94-.94-2.06-.94 2.06-2.06.94z\"/><path d=\"M17.41 7.96l-1.37-1.37c-.4-.4-.92-.59-1.43-.59-.52 0-1.04.2-1.43.59L10.3 9.45l-7.72 7.72c-.78.78-.78 2.05 0 2.83L4 21.41c.39.39.9.59 1.41.59.51 0 1.02-.2 1.41-.59l7.78-7.78 2.81-2.81c.8-.78.8-2.07 0-2.86zM5.41 20L4 18.59l7.72-7.72 1.47 1.35L5.41 20z\"/>\n",
              "  </svg>\n",
              "      </button>\n",
              "      \n",
              "  <style>\n",
              "    .colab-df-container {\n",
              "      display:flex;\n",
              "      flex-wrap:wrap;\n",
              "      gap: 12px;\n",
              "    }\n",
              "\n",
              "    .colab-df-convert {\n",
              "      background-color: #E8F0FE;\n",
              "      border: none;\n",
              "      border-radius: 50%;\n",
              "      cursor: pointer;\n",
              "      display: none;\n",
              "      fill: #1967D2;\n",
              "      height: 32px;\n",
              "      padding: 0 0 0 0;\n",
              "      width: 32px;\n",
              "    }\n",
              "\n",
              "    .colab-df-convert:hover {\n",
              "      background-color: #E2EBFA;\n",
              "      box-shadow: 0px 1px 2px rgba(60, 64, 67, 0.3), 0px 1px 3px 1px rgba(60, 64, 67, 0.15);\n",
              "      fill: #174EA6;\n",
              "    }\n",
              "\n",
              "    [theme=dark] .colab-df-convert {\n",
              "      background-color: #3B4455;\n",
              "      fill: #D2E3FC;\n",
              "    }\n",
              "\n",
              "    [theme=dark] .colab-df-convert:hover {\n",
              "      background-color: #434B5C;\n",
              "      box-shadow: 0px 1px 3px 1px rgba(0, 0, 0, 0.15);\n",
              "      filter: drop-shadow(0px 1px 2px rgba(0, 0, 0, 0.3));\n",
              "      fill: #FFFFFF;\n",
              "    }\n",
              "  </style>\n",
              "\n",
              "      <script>\n",
              "        const buttonEl =\n",
              "          document.querySelector('#df-1858551d-fd62-47a9-b0db-f90260f49854 button.colab-df-convert');\n",
              "        buttonEl.style.display =\n",
              "          google.colab.kernel.accessAllowed ? 'block' : 'none';\n",
              "\n",
              "        async function convertToInteractive(key) {\n",
              "          const element = document.querySelector('#df-1858551d-fd62-47a9-b0db-f90260f49854');\n",
              "          const dataTable =\n",
              "            await google.colab.kernel.invokeFunction('convertToInteractive',\n",
              "                                                     [key], {});\n",
              "          if (!dataTable) return;\n",
              "\n",
              "          const docLinkHtml = 'Like what you see? Visit the ' +\n",
              "            '<a target=\"_blank\" href=https://colab.research.google.com/notebooks/data_table.ipynb>data table notebook</a>'\n",
              "            + ' to learn more about interactive tables.';\n",
              "          element.innerHTML = '';\n",
              "          dataTable['output_type'] = 'display_data';\n",
              "          await google.colab.output.renderOutput(dataTable, element);\n",
              "          const docLink = document.createElement('div');\n",
              "          docLink.innerHTML = docLinkHtml;\n",
              "          element.appendChild(docLink);\n",
              "        }\n",
              "      </script>\n",
              "    </div>\n",
              "  </div>\n",
              "  "
            ]
          },
          "metadata": {},
          "execution_count": 148
        }
      ]
    },
    {
      "cell_type": "code",
      "execution_count": 150,
      "metadata": {
        "id": "u4Y2S5XNo6sC"
      },
      "outputs": [],
      "source": [
        "#X_04.to_csv(\"Prediccion04.csv\")\n",
        "X_04.to_csv(\"/content/drive/My Drive/DataScience/Banco/Prediccion04.csv\")"
      ],
      "id": "u4Y2S5XNo6sC"
    }
  ],
  "metadata": {
    "colab": {
      "collapsed_sections": [
        "0f6274bd",
        "38eed708",
        "001d6473",
        "7c085167",
        "1bd5581c"
      ],
      "provenance": []
    },
    "kernelspec": {
      "display_name": "Python 3 (ipykernel)",
      "language": "python",
      "name": "python3"
    },
    "language_info": {
      "codemirror_mode": {
        "name": "ipython",
        "version": 3
      },
      "file_extension": ".py",
      "mimetype": "text/x-python",
      "name": "python",
      "nbconvert_exporter": "python",
      "pygments_lexer": "ipython3",
      "version": "3.8.8"
    }
  },
  "nbformat": 4,
  "nbformat_minor": 5
}