{
  "cells": [
    {
      "cell_type": "markdown",
      "id": "aef9f3aa",
      "metadata": {
        "id": "aef9f3aa"
      },
      "source": [
        "# Exámen Diplomatura Ciencia de Datos 3º Bimestre\n",
        "\n",
        "Este segundo notebook contiene el código para fraccionar el dataset en la franja a predecir."
      ]
    },
    {
      "cell_type": "markdown",
      "id": "00a5072d",
      "metadata": {
        "id": "00a5072d"
      },
      "source": [
        "## Datos del Grupo\n",
        "\n",
        "Nombre y Apellido | LU\n",
        "------------------|---\n",
        "CROMBERG JAVIER EUGENIO | 1153099\n",
        "CRUZ PINEDA FABIAN | 1099002\n",
        "GARCIA CAROLINA | 1157796\n",
        "GIULIANO AUGUSTO | 1157378\n",
        "INZA ROBERTO | 1151488\n",
        "URRACO EZEQUIEL| 1159531\n",
        "\n",
        "---\n",
        "\n"
      ]
    },
    {
      "cell_type": "markdown",
      "id": "07f0c685",
      "metadata": {
        "id": "07f0c685"
      },
      "source": [
        "# TP Predicción de abandono de clientes"
      ]
    },
    {
      "cell_type": "markdown",
      "id": "deec8a40",
      "metadata": {
        "id": "deec8a40"
      },
      "source": [
        "# 3. Preparación de los Datos para su uso\n",
        "\n",
        "\n",
        "## 3.1 Librerias"
      ]
    },
    {
      "cell_type": "code",
      "execution_count": null,
      "id": "dde6160c",
      "metadata": {
        "id": "dde6160c"
      },
      "outputs": [],
      "source": [
        "from datetime import datetime\n",
        "inicial_date = datetime.now()\n",
        "\n",
        "# Librerias básicas\n",
        "import pandas as pd\n",
        "import numpy as np\n",
        "from scipy.stats import iqr\n",
        "from collections import Counter\n",
        "\n",
        "# Libreria de visiaulización\n",
        "import matplotlib.pyplot as plt\n",
        "import seaborn as sns\n",
        "import plotly.express as px\n",
        "import seaborn as sns\n",
        "from matplotlib.colors import ListedColormap\n",
        "\n",
        "# Asociadas con la creacion del modelo\n",
        "from sklearn import preprocessing\n",
        "from sklearn.preprocessing import MinMaxScaler,StandardScaler, LabelEncoder, OneHotEncoder\n",
        "from sklearn.model_selection import cross_val_predict, cross_val_score, train_test_split, KFold,GridSearchCV\n",
        "import sklearn.metrics #import precision_recall_curve, accuracy_score,roc_auc_score, auc, roc_curve, confusion_matrix, ConfusionMatrixDisplay, classification_report,precision_score,recall_score,RocCurveDisplay,get_scorer_names, log_loss\n",
        "from sklearn.model_selection import RepeatedStratifiedKFold\n",
        "from sklearn.feature_selection import SelectKBest, SelectPercentile, RFE, chi2, f_classif, f_regression\n",
        "#import category_encoders as ce\n",
        "\n",
        "# Modelos / Algoritmos\n",
        "from sklearn.linear_model import LogisticRegression\n",
        "from sklearn.neighbors import KNeighborsClassifier\n",
        "from sklearn.ensemble import RandomForestClassifier,AdaBoostClassifier,StackingClassifier,VotingClassifier,BaggingClassifier\n",
        "from sklearn.naive_bayes import GaussianNB\n",
        "#from xgboost import XGBClassifier\n",
        "from sklearn.tree import DecisionTreeClassifier\n",
        "from sklearn.svm import SVC\n",
        "\n",
        "# Librerías para Análisis Estadístico\n",
        "from scipy import stats\n",
        "import statsmodels.stats as sm\n",
        "import statsmodels.api as sma\n",
        "from statsmodels.graphics.gofplots import qqplot\n",
        "from scipy.stats import fisher_exact, chi2_contingency\n"
      ]
    },
    {
      "cell_type": "markdown",
      "id": "d3ffea1b",
      "metadata": {
        "id": "d3ffea1b"
      },
      "source": [
        "## 3.2 Carga de Datos"
      ]
    },
    {
      "cell_type": "code",
      "execution_count": null,
      "id": "bda07411",
      "metadata": {
        "id": "bda07411"
      },
      "outputs": [],
      "source": [
        "# Permite la visualización de todas las columnas\n",
        "pd.options.display.max_columns = None"
      ]
    },
    {
      "cell_type": "code",
      "execution_count": null,
      "id": "df9c9848",
      "metadata": {
        "id": "df9c9848",
        "colab": {
          "base_uri": "https://localhost:8080/"
        },
        "outputId": "1d8952cf-8700-4142-e2f2-2c1b27ad0212"
      },
      "outputs": [
        {
          "output_type": "stream",
          "name": "stdout",
          "text": [
            "Mounted at /content/drive\n"
          ]
        }
      ],
      "source": [
        "# Para ingresar a traves de colab\n",
        "\n",
        "from google.colab import drive\n",
        "drive.mount('/content/drive')\n",
        "\n",
        "url = \"/content/drive/My Drive/DataScience/Banco/MESES_201402_201404.csv\"\n",
        "df = pd.read_csv(url, low_memory = False)\n"
      ]
    },
    {
      "cell_type": "code",
      "execution_count": null,
      "id": "151d5440",
      "metadata": {
        "scrolled": true,
        "id": "151d5440"
      },
      "outputs": [],
      "source": [
        "# Levanto el csv como un df de Pandas\n",
        "# df contiene todos los datos 01-2013 a 04-2014\n",
        "\n",
        "# df = pd.read_csv('MESES_hasta_201404.csv')#, low_memory = False)"
      ]
    },
    {
      "cell_type": "markdown",
      "id": "4b5e2242",
      "metadata": {
        "id": "4b5e2242"
      },
      "source": [
        "## 3.3 Limpieza y Correción de Datos"
      ]
    },
    {
      "cell_type": "markdown",
      "id": "87a41769",
      "metadata": {
        "id": "87a41769"
      },
      "source": [
        "### a. Creación de la variable Target"
      ]
    },
    {
      "cell_type": "code",
      "execution_count": null,
      "id": "d1c25544",
      "metadata": {
        "id": "d1c25544"
      },
      "outputs": [],
      "source": [
        "# Drop de filas con numero_de_cliente = 3333 con datos erroneos\n",
        "df_idx=df[df[\"numero_de_cliente\"]==3333].index\n",
        "df=df.drop(df_idx)"
      ]
    },
    {
      "cell_type": "code",
      "execution_count": null,
      "id": "0921ce80",
      "metadata": {
        "scrolled": true,
        "id": "0921ce80",
        "outputId": "15668898-2c3f-4f10-bb34-1e995d878a7b",
        "colab": {
          "base_uri": "https://localhost:8080/",
          "height": 288
        }
      },
      "outputs": [
        {
          "output_type": "execute_result",
          "data": {
            "text/plain": [
              "    Unnamed: 0  numero_de_cliente  foto_mes marketing_activo_ultimos90dias  \\\n",
              "6           24            5609788    201404                              1   \n",
              "9           40            5609981    201404                              1   \n",
              "12          56            5610023    201404                              1   \n",
              "15          72            5610089    201404                              0   \n",
              "18          88            5610101    201404                              1   \n",
              "\n",
              "    cliente_vip  cliente_sucursal  cliente_edad  cliente_antiguedad  \\\n",
              "6             0               224            62                 239   \n",
              "9             0               227            65                 198   \n",
              "12            0               536            41                  93   \n",
              "15            0               545             0                 239   \n",
              "18            0              1217            49                  47   \n",
              "\n",
              "    mrentabilidad  mrentabilidad_annual  mcomisiones  mactivos_margen  \\\n",
              "6          -83.11               8931.04       395.03          -482.88   \n",
              "9          379.81               4411.55       144.07           172.59   \n",
              "12         491.06               6913.57       843.05          -513.40   \n",
              "15         498.52                  0.00       578.10          -242.99   \n",
              "18        3333.87              57336.04      1075.12            72.65   \n",
              "\n",
              "    mpasivos_margen  marketing_coss_selling tpaquete_premium tpaquete2  \\\n",
              "6             74.20                       9                S         N   \n",
              "9             28.90                       9                S         N   \n",
              "12           212.55                       9                S         N   \n",
              "15           174.97                      12                S         N   \n",
              "18          1857.91                      10                S         N   \n",
              "\n",
              "   tpaquete3 tpaquete4 tpaquete5 tpaquete6 tpaquete7 tpaquete8 tpaquete9  \\\n",
              "6          N         N         N         N         N         N         N   \n",
              "9          N         N         N         N         N         N         N   \n",
              "12         N         N         N         N         N         N         N   \n",
              "15         N         N         N         N         N         N         N   \n",
              "18         N         N         N         N         N         N         N   \n",
              "\n",
              "   tcuentas tcuenta_corriente  mcuenta_corriente_Nopaquete  \\\n",
              "6         S                 S                          0.0   \n",
              "9         S                 S                          0.0   \n",
              "12        S                 S                          0.0   \n",
              "15        S                 S                          0.0   \n",
              "18        S                 S                          0.0   \n",
              "\n",
              "    mcuenta_corriente_Paquete  mcuenta_corriente_dolares tcaja_ahorro  \\\n",
              "6                        0.00                        0.0            S   \n",
              "9                        0.00                        0.0            S   \n",
              "12                       0.00                        0.0            S   \n",
              "15                     -43.32                        0.0            S   \n",
              "18                   20295.83                        0.0            S   \n",
              "\n",
              "    mcaja_ahorro_Paquete  mcaja_ahorro_Nopaquete  mcaja_ahorro_dolares  \\\n",
              "6                4425.95                     0.0                  0.00   \n",
              "9                 388.27                     0.0                  0.00   \n",
              "12               4652.83                     0.0                  0.00   \n",
              "15               2431.88                     0.0                  0.00   \n",
              "18             137618.25                     0.0                116.55   \n",
              "\n",
              "    mdescubierto_preacordado  mcuentas_saldo ttarjeta_debito  \\\n",
              "6                       1.17          800.80               S   \n",
              "9                       1.17          286.27               S   \n",
              "12                      1.17         2275.61               S   \n",
              "15                      1.17         1372.90               S   \n",
              "18                      1.17       149834.76               S   \n",
              "\n",
              "    ctarjeta_debito_transacciones  mautoservicio ttarjeta_visa  \\\n",
              "6                               0           0.00             S   \n",
              "9                               0           0.00             S   \n",
              "12                              2         655.20             S   \n",
              "15                              0           0.00             S   \n",
              "18                             12        2587.82             S   \n",
              "\n",
              "    ctarjeta_visa_transacciones  mtarjeta_visa_consumo ttarjeta_master  \\\n",
              "6                            13                6764.47               S   \n",
              "9                             3                 776.88               S   \n",
              "12                            8                6734.98               S   \n",
              "15                            0                   0.00               S   \n",
              "18                           35               11577.44               S   \n",
              "\n",
              "    ctarjeta_master_transacciones  mtarjeta_master_consumo  \\\n",
              "6                               5                  5844.66   \n",
              "9                               0                     0.00   \n",
              "12                              3                   205.33   \n",
              "15                              0                     0.00   \n",
              "18                              2                  4939.03   \n",
              "\n",
              "    cprestamos_personales  mprestamos_personales  cprestamos_prendarios  \\\n",
              "6                       0                   0.00                      0   \n",
              "9                       0                   0.00                      0   \n",
              "12                      0                   0.00                      0   \n",
              "15                      0                   0.00                      0   \n",
              "18                      3              204794.65                      0   \n",
              "\n",
              "    mprestamos_prendarios  cprestamos_hipotecarios mprestamos_hipotecarios  \\\n",
              "6                     0.0                        0                     0.0   \n",
              "9                     0.0                        0                     0.0   \n",
              "12                    0.0                        0                     0.0   \n",
              "15                    0.0                        0                     0.0   \n",
              "18                    0.0                        0                     0.0   \n",
              "\n",
              "   tplazo_fijo  mplazo_fijo_dolares  mplazo_fijo_pesos  \\\n",
              "6            N                  0.0                0.0   \n",
              "9            N                  0.0                0.0   \n",
              "12           N                  0.0                0.0   \n",
              "15           N                  0.0                0.0   \n",
              "18           N                  0.0                0.0   \n",
              "\n",
              "   tfondos_comunes_inversion  mfondos_comunes_inversion_pesos  \\\n",
              "6                          N                              0.0   \n",
              "9                          N                              0.0   \n",
              "12                         N                              0.0   \n",
              "15                         N                              0.0   \n",
              "18                         N                              0.0   \n",
              "\n",
              "    mfondos_comunes_inversion_dolare ttitulos  mtitulos  \\\n",
              "6                                0.0        N       0.0   \n",
              "9                                0.0        N       0.0   \n",
              "12                               0.0        N       0.0   \n",
              "15                               0.0        N       0.0   \n",
              "18                               0.0        N       0.0   \n",
              "\n",
              "   tseguro_vida_mercado_abierto tseguro_auto tseguro_vivienda  \\\n",
              "6                             N            N                N   \n",
              "9                             N            N                N   \n",
              "12                            N            N                N   \n",
              "15                            N            N                S   \n",
              "18                            N            N                S   \n",
              "\n",
              "   tseguro_accidentes_personales tcaja_seguridad  mbonos_gobierno  \\\n",
              "6                              N               N                0   \n",
              "9                              N               N                0   \n",
              "12                             N               S                0   \n",
              "15                             N               S                0   \n",
              "18                             N               N                0   \n",
              "\n",
              "    mmonedas_extranjeras  minversiones_otras tplan_sueldo  mplan_sueldo  \\\n",
              "6                      0                   0            N          0.00   \n",
              "9                      0                   0            N          0.00   \n",
              "12                     0                   0            S        585.00   \n",
              "15                     0                   0            N          0.00   \n",
              "18                     0                   0            S     212661.54   \n",
              "\n",
              "    mplan_sueldo_manual  cplan_sueldo_transaccion tcuenta_debitos_automaticos  \\\n",
              "6                   0.0                         0                           N   \n",
              "9                   0.0                         0                           S   \n",
              "12                  0.0                         0                           N   \n",
              "15                  0.0                         0                           N   \n",
              "18                  0.0                         0                           S   \n",
              "\n",
              "   mcuenta_debitos_automaticos ttarjeta_visa_debitos_automatico  \\\n",
              "6                            0                                S   \n",
              "9                        11.68                                S   \n",
              "12                           0                                S   \n",
              "15                           0                                S   \n",
              "18                      463.32                                S   \n",
              "\n",
              "   mttarjeta_visa_debitos_automatic ttarjeta_master_debitos_automati  \\\n",
              "6                            225.14                                N   \n",
              "9                            776.88                                N   \n",
              "12                            708.2                                N   \n",
              "15                          4113.02                                S   \n",
              "18                           447.27                                S   \n",
              "\n",
              "   mttarjeta_master_debitos_automat tpagodeservicios mpagodeservicios  \\\n",
              "6                                 0                N                0   \n",
              "9                                 0                N                0   \n",
              "12                                0                N                0   \n",
              "15                          7787.98                N                0   \n",
              "18                            58.38                N                0   \n",
              "\n",
              "   tpagomiscuentas mpagomiscuentas  ccajeros_propios_descuentos  \\\n",
              "6                N               0                            0   \n",
              "9                N               0                            0   \n",
              "12               N               0                            1   \n",
              "15               N               0                            0   \n",
              "18               N               0                            3   \n",
              "\n",
              "    mcajeros_propios_descuentos  ctarjeta_visa_descuentos  \\\n",
              "6                          0.00                         1   \n",
              "9                          0.00                         1   \n",
              "12                         0.00                         0   \n",
              "15                         0.00                         3   \n",
              "18                        89.32                         2   \n",
              "\n",
              "    mtarjeta_visa_descuentos  ctarjeta_master_descuentos  \\\n",
              "6                       0.00                           0   \n",
              "9                       0.00                           0   \n",
              "12                      0.00                           0   \n",
              "15                      0.00                           7   \n",
              "18                    343.98                           0   \n",
              "\n",
              "    mtarjeta_master_descuentos  ccuenta_descuentos  mcuenta_descuentos  \\\n",
              "6                          0.0                   0                   0   \n",
              "9                          0.0                   0                   0   \n",
              "12                         0.0                   0                   0   \n",
              "15                         0.0                   0                   0   \n",
              "18                         0.0                   0                   0   \n",
              "\n",
              "    ccomisiones_mantenimiento  mcomisiones_mantenimiento  ccomisiones_otras  \\\n",
              "6                           1                     338.38                  5   \n",
              "9                           1                     115.87                  5   \n",
              "12                          1                      64.35                  7   \n",
              "15                          1                     338.38                  7   \n",
              "18                          1                     307.75                 10   \n",
              "\n",
              "    mcomisiones_otras tcambio_monedas  ccambio_monedas_compra  \\\n",
              "6              453.18               N                       0   \n",
              "9              165.29               N                       0   \n",
              "12             967.15               N                       0   \n",
              "15             643.85               N                       0   \n",
              "18            1233.37               N                       0   \n",
              "\n",
              "    mcambio_monedas_compra  ccambio_monedas_venta  mcambio_monedas_venta  \\\n",
              "6                      0.0                      0                    0.0   \n",
              "9                      0.0                      0                    0.0   \n",
              "12                     0.0                      0                    0.0   \n",
              "15                     0.0                      0                    0.0   \n",
              "18                     0.0                      0                    0.0   \n",
              "\n",
              "    ctransferencias_recibidas  mtransferencias_recibidas  \\\n",
              "6                           0                        0.0   \n",
              "9                           0                        0.0   \n",
              "12                          0                        0.0   \n",
              "15                          0                        0.0   \n",
              "18                          0                        0.0   \n",
              "\n",
              "    ctransferencias_emitidas  mtransferencias_emitidas  \\\n",
              "6                          0                       0.0   \n",
              "9                          0                       0.0   \n",
              "12                         0                       0.0   \n",
              "15                         0                       0.0   \n",
              "18                         5                   15210.0   \n",
              "\n",
              "    cextraccion_autoservicio  mextraccion_autoservicio  ccheques_depositados  \\\n",
              "6                          0                       0.0                     0   \n",
              "9                          0                       0.0                     0   \n",
              "12                         0                       0.0                     0   \n",
              "15                         0                       0.0                     0   \n",
              "18                         2                    1755.0                     0   \n",
              "\n",
              "    mcheques_depositados  ccheques_emitidos  mcheques_emitidos  \\\n",
              "6                    0.0                  0                0.0   \n",
              "9                    0.0                  0                0.0   \n",
              "12                   0.0                  0                0.0   \n",
              "15                   0.0                  0                0.0   \n",
              "18                   0.0                  0                0.0   \n",
              "\n",
              "    ccheques_depositados_rechazados  mcheques_depositados_rechazados  \\\n",
              "6                                 0                              0.0   \n",
              "9                                 0                              0.0   \n",
              "12                                0                              0.0   \n",
              "15                                0                              0.0   \n",
              "18                                0                              0.0   \n",
              "\n",
              "    ccheques_emitidos_rechazados  mcheques_emitidos_rechazados tcallcenter  \\\n",
              "6                              0                           0.0           N   \n",
              "9                              0                           0.0           S   \n",
              "12                             0                           0.0           N   \n",
              "15                             0                           0.0           N   \n",
              "18                             0                           0.0           S   \n",
              "\n",
              "    ccallcenter_transacciones thomebanking  chomebanking_transacciones  \\\n",
              "6                           0            S                          18   \n",
              "9                          11            S                           3   \n",
              "12                          0            S                          15   \n",
              "15                          0            S                           7   \n",
              "18                         10            S                          84   \n",
              "\n",
              "   tautoservicio  cautoservicio_transacciones tcajas tcajas_consultas  \\\n",
              "6              N                            0      S                N   \n",
              "9              S                            2      S                N   \n",
              "12             N                            0      S                N   \n",
              "15             N                            0      N                N   \n",
              "18             S                            1      S                N   \n",
              "\n",
              "   tcajas_depositos tcajas_extracciones tcajas_otras  \\\n",
              "6                 S                   N            N   \n",
              "9                 N                   N            S   \n",
              "12                S                   N            N   \n",
              "15                N                   N            N   \n",
              "18                S                   S            S   \n",
              "\n",
              "    ccajeros_propio_transacciones  mcajeros_propio  \\\n",
              "6                               0              0.0   \n",
              "9                               0              0.0   \n",
              "12                              0              0.0   \n",
              "15                              0              0.0   \n",
              "18                              0              0.0   \n",
              "\n",
              "    ccajeros_ajenos_transacciones  mcajeros_ajenos tmovimientos_ultimos90dias  \\\n",
              "6                               0              0.0                          S   \n",
              "9                               0              0.0                          S   \n",
              "12                              0              0.0                          S   \n",
              "15                              0              0.0                          S   \n",
              "18                              2           1755.0                          S   \n",
              "\n",
              "   Master_marca_atraso Master_cuenta_estado Master_mfinanciacion_limite  \\\n",
              "6                    0                   10                    88865.58   \n",
              "9                    0                   10                        9477   \n",
              "12                   0                   10                    88871.12   \n",
              "15                   0                   10                    59230.08   \n",
              "18                   0                   10                   115851.71   \n",
              "\n",
              "   Master_Fvencimiento  Master_Finiciomora Master_msaldototal  \\\n",
              "6             20170331                 NaN            5908.69   \n",
              "9             20170331                 NaN                  0   \n",
              "12            20150831                 NaN             207.35   \n",
              "15            20180131                 NaN            7929.34   \n",
              "18            20160630                 NaN            5040.04   \n",
              "\n",
              "   Master_msaldopesos Master_msaldodolares Master_mconsumospesos  \\\n",
              "6             5908.69                    0                     0   \n",
              "9                   0                    0                     .   \n",
              "12             207.35                    0                     0   \n",
              "15            7929.34                    0               7787.98   \n",
              "18            5040.04                    0                 58.38   \n",
              "\n",
              "   Master_mconsumosdolares Master_mlimitecompra Master_madelantopesos  \\\n",
              "6                        0             98741.61                     0   \n",
              "9                        .                10530                     .   \n",
              "12                       0             98747.78                     0   \n",
              "15                       0             65819.52                     0   \n",
              "18                       0            128724.12                     0   \n",
              "\n",
              "   Master_madelantodolares Master_fultimo_cierre Master_mpagado  \\\n",
              "6                        0              20140416        5908.69   \n",
              "9                        .              20140430              0   \n",
              "12                       0              20140430              0   \n",
              "15                       0              20140410        7929.34   \n",
              "18                       0              20140430              0   \n",
              "\n",
              "   Master_mpagospesos Master_mpagosdolares Master_fechaalta  \\\n",
              "6            -5919.28                    0         20010227   \n",
              "9                   .                    .         20010309   \n",
              "12           -3106.77                    0         20060802   \n",
              "15           -6870.88                    0         20100112   \n",
              "18           -5052.34                    0         20130626   \n",
              "\n",
              "   Master_mconsumototal Master_tconsumos Master_tadelantosefectivo  \\\n",
              "6                     0                N                         N   \n",
              "9                     .                S                         S   \n",
              "12                    0                N                         N   \n",
              "15              7787.98                S                         N   \n",
              "18                58.38                S                         N   \n",
              "\n",
              "   Master_mpagominimo Visa_marca_atraso Visa_cuenta_estado  \\\n",
              "6              2983.5                 0                 10   \n",
              "9                   0                 0                 10   \n",
              "12              198.9                 0                 10   \n",
              "15              444.6                 0                 10   \n",
              "18             2538.9                 0                 10   \n",
              "\n",
              "   Visa_mfinanciacion_limite Visa_Fvencimiento  Visa_Finiciomora  \\\n",
              "6                   88871.12          20220331               NaN   \n",
              "9                      15795          20170331               NaN   \n",
              "12                  88871.12          20150831               NaN   \n",
              "15                  88871.12          20180131               NaN   \n",
              "18                 144807.62          20210831               NaN   \n",
              "\n",
              "   Visa_msaldototal Visa_msaldopesos Visa_msaldodolares Visa_mconsumospesos  \\\n",
              "6           5885.45          6843.95              42.02               266.8   \n",
              "9             38.14            44.62                  0              776.88   \n",
              "12          5848.25          6842.45                  0               708.2   \n",
              "15          7400.02          6253.18            2404.84             6517.87   \n",
              "18          9416.16          11016.9                  0             7202.85   \n",
              "\n",
              "   Visa_mconsumosdolares Visa_mlimitecompra Visa_madelantopesos  \\\n",
              "6                    5.2           98747.78                   0   \n",
              "9                      0              17550                   0   \n",
              "12                     0           98747.78                   0   \n",
              "15                300.54           98747.78                   0   \n",
              "18                     0          160905.16                   0   \n",
              "\n",
              "   Visa_madelantodolares Visa_fultimo_cierre Visa_mpagado Visa_mpagospesos  \\\n",
              "6                      0            20140430            0         -5412.65   \n",
              "9                      0            20140430            0         -8795.27   \n",
              "12                     0            20140430            0         -6901.64   \n",
              "15                     0            20140430            0         -3693.47   \n",
              "18                     0            20140430            0         -3278.05   \n",
              "\n",
              "   Visa_mpagosdolares Visa_fechaalta Visa_mconsumototal Visa_tconsumos  \\\n",
              "6                   0       19970317              266.8              S   \n",
              "9                   0       20010308             776.88              S   \n",
              "12                  0       20060802              708.2              S   \n",
              "15                  0       20100120            6517.87              S   \n",
              "18                  0       20100809            7202.85              S   \n",
              "\n",
              "   Visa_tadelantosefectivo Visa_mpagominimo  target  target_bin  \n",
              "6                        N           3954.6  Baja+1           0  \n",
              "9                        N                0  Baja+1           0  \n",
              "12                       N           3077.1  Baja+1           0  \n",
              "15                       N             1755  Baja+1           0  \n",
              "18                       N           1181.7  Baja+1           0  "
            ],
            "text/html": [
              "\n",
              "  <div id=\"df-9120892f-8cf6-428b-9e8f-33c5378849ca\">\n",
              "    <div class=\"colab-df-container\">\n",
              "      <div>\n",
              "<style scoped>\n",
              "    .dataframe tbody tr th:only-of-type {\n",
              "        vertical-align: middle;\n",
              "    }\n",
              "\n",
              "    .dataframe tbody tr th {\n",
              "        vertical-align: top;\n",
              "    }\n",
              "\n",
              "    .dataframe thead th {\n",
              "        text-align: right;\n",
              "    }\n",
              "</style>\n",
              "<table border=\"1\" class=\"dataframe\">\n",
              "  <thead>\n",
              "    <tr style=\"text-align: right;\">\n",
              "      <th></th>\n",
              "      <th>Unnamed: 0</th>\n",
              "      <th>numero_de_cliente</th>\n",
              "      <th>foto_mes</th>\n",
              "      <th>marketing_activo_ultimos90dias</th>\n",
              "      <th>cliente_vip</th>\n",
              "      <th>cliente_sucursal</th>\n",
              "      <th>cliente_edad</th>\n",
              "      <th>cliente_antiguedad</th>\n",
              "      <th>mrentabilidad</th>\n",
              "      <th>mrentabilidad_annual</th>\n",
              "      <th>mcomisiones</th>\n",
              "      <th>mactivos_margen</th>\n",
              "      <th>mpasivos_margen</th>\n",
              "      <th>marketing_coss_selling</th>\n",
              "      <th>tpaquete_premium</th>\n",
              "      <th>tpaquete2</th>\n",
              "      <th>tpaquete3</th>\n",
              "      <th>tpaquete4</th>\n",
              "      <th>tpaquete5</th>\n",
              "      <th>tpaquete6</th>\n",
              "      <th>tpaquete7</th>\n",
              "      <th>tpaquete8</th>\n",
              "      <th>tpaquete9</th>\n",
              "      <th>tcuentas</th>\n",
              "      <th>tcuenta_corriente</th>\n",
              "      <th>mcuenta_corriente_Nopaquete</th>\n",
              "      <th>mcuenta_corriente_Paquete</th>\n",
              "      <th>mcuenta_corriente_dolares</th>\n",
              "      <th>tcaja_ahorro</th>\n",
              "      <th>mcaja_ahorro_Paquete</th>\n",
              "      <th>mcaja_ahorro_Nopaquete</th>\n",
              "      <th>mcaja_ahorro_dolares</th>\n",
              "      <th>mdescubierto_preacordado</th>\n",
              "      <th>mcuentas_saldo</th>\n",
              "      <th>ttarjeta_debito</th>\n",
              "      <th>ctarjeta_debito_transacciones</th>\n",
              "      <th>mautoservicio</th>\n",
              "      <th>ttarjeta_visa</th>\n",
              "      <th>ctarjeta_visa_transacciones</th>\n",
              "      <th>mtarjeta_visa_consumo</th>\n",
              "      <th>ttarjeta_master</th>\n",
              "      <th>ctarjeta_master_transacciones</th>\n",
              "      <th>mtarjeta_master_consumo</th>\n",
              "      <th>cprestamos_personales</th>\n",
              "      <th>mprestamos_personales</th>\n",
              "      <th>cprestamos_prendarios</th>\n",
              "      <th>mprestamos_prendarios</th>\n",
              "      <th>cprestamos_hipotecarios</th>\n",
              "      <th>mprestamos_hipotecarios</th>\n",
              "      <th>tplazo_fijo</th>\n",
              "      <th>mplazo_fijo_dolares</th>\n",
              "      <th>mplazo_fijo_pesos</th>\n",
              "      <th>tfondos_comunes_inversion</th>\n",
              "      <th>mfondos_comunes_inversion_pesos</th>\n",
              "      <th>mfondos_comunes_inversion_dolare</th>\n",
              "      <th>ttitulos</th>\n",
              "      <th>mtitulos</th>\n",
              "      <th>tseguro_vida_mercado_abierto</th>\n",
              "      <th>tseguro_auto</th>\n",
              "      <th>tseguro_vivienda</th>\n",
              "      <th>tseguro_accidentes_personales</th>\n",
              "      <th>tcaja_seguridad</th>\n",
              "      <th>mbonos_gobierno</th>\n",
              "      <th>mmonedas_extranjeras</th>\n",
              "      <th>minversiones_otras</th>\n",
              "      <th>tplan_sueldo</th>\n",
              "      <th>mplan_sueldo</th>\n",
              "      <th>mplan_sueldo_manual</th>\n",
              "      <th>cplan_sueldo_transaccion</th>\n",
              "      <th>tcuenta_debitos_automaticos</th>\n",
              "      <th>mcuenta_debitos_automaticos</th>\n",
              "      <th>ttarjeta_visa_debitos_automatico</th>\n",
              "      <th>mttarjeta_visa_debitos_automatic</th>\n",
              "      <th>ttarjeta_master_debitos_automati</th>\n",
              "      <th>mttarjeta_master_debitos_automat</th>\n",
              "      <th>tpagodeservicios</th>\n",
              "      <th>mpagodeservicios</th>\n",
              "      <th>tpagomiscuentas</th>\n",
              "      <th>mpagomiscuentas</th>\n",
              "      <th>ccajeros_propios_descuentos</th>\n",
              "      <th>mcajeros_propios_descuentos</th>\n",
              "      <th>ctarjeta_visa_descuentos</th>\n",
              "      <th>mtarjeta_visa_descuentos</th>\n",
              "      <th>ctarjeta_master_descuentos</th>\n",
              "      <th>mtarjeta_master_descuentos</th>\n",
              "      <th>ccuenta_descuentos</th>\n",
              "      <th>mcuenta_descuentos</th>\n",
              "      <th>ccomisiones_mantenimiento</th>\n",
              "      <th>mcomisiones_mantenimiento</th>\n",
              "      <th>ccomisiones_otras</th>\n",
              "      <th>mcomisiones_otras</th>\n",
              "      <th>tcambio_monedas</th>\n",
              "      <th>ccambio_monedas_compra</th>\n",
              "      <th>mcambio_monedas_compra</th>\n",
              "      <th>ccambio_monedas_venta</th>\n",
              "      <th>mcambio_monedas_venta</th>\n",
              "      <th>ctransferencias_recibidas</th>\n",
              "      <th>mtransferencias_recibidas</th>\n",
              "      <th>ctransferencias_emitidas</th>\n",
              "      <th>mtransferencias_emitidas</th>\n",
              "      <th>cextraccion_autoservicio</th>\n",
              "      <th>mextraccion_autoservicio</th>\n",
              "      <th>ccheques_depositados</th>\n",
              "      <th>mcheques_depositados</th>\n",
              "      <th>ccheques_emitidos</th>\n",
              "      <th>mcheques_emitidos</th>\n",
              "      <th>ccheques_depositados_rechazados</th>\n",
              "      <th>mcheques_depositados_rechazados</th>\n",
              "      <th>ccheques_emitidos_rechazados</th>\n",
              "      <th>mcheques_emitidos_rechazados</th>\n",
              "      <th>tcallcenter</th>\n",
              "      <th>ccallcenter_transacciones</th>\n",
              "      <th>thomebanking</th>\n",
              "      <th>chomebanking_transacciones</th>\n",
              "      <th>tautoservicio</th>\n",
              "      <th>cautoservicio_transacciones</th>\n",
              "      <th>tcajas</th>\n",
              "      <th>tcajas_consultas</th>\n",
              "      <th>tcajas_depositos</th>\n",
              "      <th>tcajas_extracciones</th>\n",
              "      <th>tcajas_otras</th>\n",
              "      <th>ccajeros_propio_transacciones</th>\n",
              "      <th>mcajeros_propio</th>\n",
              "      <th>ccajeros_ajenos_transacciones</th>\n",
              "      <th>mcajeros_ajenos</th>\n",
              "      <th>tmovimientos_ultimos90dias</th>\n",
              "      <th>Master_marca_atraso</th>\n",
              "      <th>Master_cuenta_estado</th>\n",
              "      <th>Master_mfinanciacion_limite</th>\n",
              "      <th>Master_Fvencimiento</th>\n",
              "      <th>Master_Finiciomora</th>\n",
              "      <th>Master_msaldototal</th>\n",
              "      <th>Master_msaldopesos</th>\n",
              "      <th>Master_msaldodolares</th>\n",
              "      <th>Master_mconsumospesos</th>\n",
              "      <th>Master_mconsumosdolares</th>\n",
              "      <th>Master_mlimitecompra</th>\n",
              "      <th>Master_madelantopesos</th>\n",
              "      <th>Master_madelantodolares</th>\n",
              "      <th>Master_fultimo_cierre</th>\n",
              "      <th>Master_mpagado</th>\n",
              "      <th>Master_mpagospesos</th>\n",
              "      <th>Master_mpagosdolares</th>\n",
              "      <th>Master_fechaalta</th>\n",
              "      <th>Master_mconsumototal</th>\n",
              "      <th>Master_tconsumos</th>\n",
              "      <th>Master_tadelantosefectivo</th>\n",
              "      <th>Master_mpagominimo</th>\n",
              "      <th>Visa_marca_atraso</th>\n",
              "      <th>Visa_cuenta_estado</th>\n",
              "      <th>Visa_mfinanciacion_limite</th>\n",
              "      <th>Visa_Fvencimiento</th>\n",
              "      <th>Visa_Finiciomora</th>\n",
              "      <th>Visa_msaldototal</th>\n",
              "      <th>Visa_msaldopesos</th>\n",
              "      <th>Visa_msaldodolares</th>\n",
              "      <th>Visa_mconsumospesos</th>\n",
              "      <th>Visa_mconsumosdolares</th>\n",
              "      <th>Visa_mlimitecompra</th>\n",
              "      <th>Visa_madelantopesos</th>\n",
              "      <th>Visa_madelantodolares</th>\n",
              "      <th>Visa_fultimo_cierre</th>\n",
              "      <th>Visa_mpagado</th>\n",
              "      <th>Visa_mpagospesos</th>\n",
              "      <th>Visa_mpagosdolares</th>\n",
              "      <th>Visa_fechaalta</th>\n",
              "      <th>Visa_mconsumototal</th>\n",
              "      <th>Visa_tconsumos</th>\n",
              "      <th>Visa_tadelantosefectivo</th>\n",
              "      <th>Visa_mpagominimo</th>\n",
              "      <th>target</th>\n",
              "      <th>target_bin</th>\n",
              "    </tr>\n",
              "  </thead>\n",
              "  <tbody>\n",
              "    <tr>\n",
              "      <th>6</th>\n",
              "      <td>24</td>\n",
              "      <td>5609788</td>\n",
              "      <td>201404</td>\n",
              "      <td>1</td>\n",
              "      <td>0</td>\n",
              "      <td>224</td>\n",
              "      <td>62</td>\n",
              "      <td>239</td>\n",
              "      <td>-83.11</td>\n",
              "      <td>8931.04</td>\n",
              "      <td>395.03</td>\n",
              "      <td>-482.88</td>\n",
              "      <td>74.20</td>\n",
              "      <td>9</td>\n",
              "      <td>S</td>\n",
              "      <td>N</td>\n",
              "      <td>N</td>\n",
              "      <td>N</td>\n",
              "      <td>N</td>\n",
              "      <td>N</td>\n",
              "      <td>N</td>\n",
              "      <td>N</td>\n",
              "      <td>N</td>\n",
              "      <td>S</td>\n",
              "      <td>S</td>\n",
              "      <td>0.0</td>\n",
              "      <td>0.00</td>\n",
              "      <td>0.0</td>\n",
              "      <td>S</td>\n",
              "      <td>4425.95</td>\n",
              "      <td>0.0</td>\n",
              "      <td>0.00</td>\n",
              "      <td>1.17</td>\n",
              "      <td>800.80</td>\n",
              "      <td>S</td>\n",
              "      <td>0</td>\n",
              "      <td>0.00</td>\n",
              "      <td>S</td>\n",
              "      <td>13</td>\n",
              "      <td>6764.47</td>\n",
              "      <td>S</td>\n",
              "      <td>5</td>\n",
              "      <td>5844.66</td>\n",
              "      <td>0</td>\n",
              "      <td>0.00</td>\n",
              "      <td>0</td>\n",
              "      <td>0.0</td>\n",
              "      <td>0</td>\n",
              "      <td>0.0</td>\n",
              "      <td>N</td>\n",
              "      <td>0.0</td>\n",
              "      <td>0.0</td>\n",
              "      <td>N</td>\n",
              "      <td>0.0</td>\n",
              "      <td>0.0</td>\n",
              "      <td>N</td>\n",
              "      <td>0.0</td>\n",
              "      <td>N</td>\n",
              "      <td>N</td>\n",
              "      <td>N</td>\n",
              "      <td>N</td>\n",
              "      <td>N</td>\n",
              "      <td>0</td>\n",
              "      <td>0</td>\n",
              "      <td>0</td>\n",
              "      <td>N</td>\n",
              "      <td>0.00</td>\n",
              "      <td>0.0</td>\n",
              "      <td>0</td>\n",
              "      <td>N</td>\n",
              "      <td>0</td>\n",
              "      <td>S</td>\n",
              "      <td>225.14</td>\n",
              "      <td>N</td>\n",
              "      <td>0</td>\n",
              "      <td>N</td>\n",
              "      <td>0</td>\n",
              "      <td>N</td>\n",
              "      <td>0</td>\n",
              "      <td>0</td>\n",
              "      <td>0.00</td>\n",
              "      <td>1</td>\n",
              "      <td>0.00</td>\n",
              "      <td>0</td>\n",
              "      <td>0.0</td>\n",
              "      <td>0</td>\n",
              "      <td>0</td>\n",
              "      <td>1</td>\n",
              "      <td>338.38</td>\n",
              "      <td>5</td>\n",
              "      <td>453.18</td>\n",
              "      <td>N</td>\n",
              "      <td>0</td>\n",
              "      <td>0.0</td>\n",
              "      <td>0</td>\n",
              "      <td>0.0</td>\n",
              "      <td>0</td>\n",
              "      <td>0.0</td>\n",
              "      <td>0</td>\n",
              "      <td>0.0</td>\n",
              "      <td>0</td>\n",
              "      <td>0.0</td>\n",
              "      <td>0</td>\n",
              "      <td>0.0</td>\n",
              "      <td>0</td>\n",
              "      <td>0.0</td>\n",
              "      <td>0</td>\n",
              "      <td>0.0</td>\n",
              "      <td>0</td>\n",
              "      <td>0.0</td>\n",
              "      <td>N</td>\n",
              "      <td>0</td>\n",
              "      <td>S</td>\n",
              "      <td>18</td>\n",
              "      <td>N</td>\n",
              "      <td>0</td>\n",
              "      <td>S</td>\n",
              "      <td>N</td>\n",
              "      <td>S</td>\n",
              "      <td>N</td>\n",
              "      <td>N</td>\n",
              "      <td>0</td>\n",
              "      <td>0.0</td>\n",
              "      <td>0</td>\n",
              "      <td>0.0</td>\n",
              "      <td>S</td>\n",
              "      <td>0</td>\n",
              "      <td>10</td>\n",
              "      <td>88865.58</td>\n",
              "      <td>20170331</td>\n",
              "      <td>NaN</td>\n",
              "      <td>5908.69</td>\n",
              "      <td>5908.69</td>\n",
              "      <td>0</td>\n",
              "      <td>0</td>\n",
              "      <td>0</td>\n",
              "      <td>98741.61</td>\n",
              "      <td>0</td>\n",
              "      <td>0</td>\n",
              "      <td>20140416</td>\n",
              "      <td>5908.69</td>\n",
              "      <td>-5919.28</td>\n",
              "      <td>0</td>\n",
              "      <td>20010227</td>\n",
              "      <td>0</td>\n",
              "      <td>N</td>\n",
              "      <td>N</td>\n",
              "      <td>2983.5</td>\n",
              "      <td>0</td>\n",
              "      <td>10</td>\n",
              "      <td>88871.12</td>\n",
              "      <td>20220331</td>\n",
              "      <td>NaN</td>\n",
              "      <td>5885.45</td>\n",
              "      <td>6843.95</td>\n",
              "      <td>42.02</td>\n",
              "      <td>266.8</td>\n",
              "      <td>5.2</td>\n",
              "      <td>98747.78</td>\n",
              "      <td>0</td>\n",
              "      <td>0</td>\n",
              "      <td>20140430</td>\n",
              "      <td>0</td>\n",
              "      <td>-5412.65</td>\n",
              "      <td>0</td>\n",
              "      <td>19970317</td>\n",
              "      <td>266.8</td>\n",
              "      <td>S</td>\n",
              "      <td>N</td>\n",
              "      <td>3954.6</td>\n",
              "      <td>Baja+1</td>\n",
              "      <td>0</td>\n",
              "    </tr>\n",
              "    <tr>\n",
              "      <th>9</th>\n",
              "      <td>40</td>\n",
              "      <td>5609981</td>\n",
              "      <td>201404</td>\n",
              "      <td>1</td>\n",
              "      <td>0</td>\n",
              "      <td>227</td>\n",
              "      <td>65</td>\n",
              "      <td>198</td>\n",
              "      <td>379.81</td>\n",
              "      <td>4411.55</td>\n",
              "      <td>144.07</td>\n",
              "      <td>172.59</td>\n",
              "      <td>28.90</td>\n",
              "      <td>9</td>\n",
              "      <td>S</td>\n",
              "      <td>N</td>\n",
              "      <td>N</td>\n",
              "      <td>N</td>\n",
              "      <td>N</td>\n",
              "      <td>N</td>\n",
              "      <td>N</td>\n",
              "      <td>N</td>\n",
              "      <td>N</td>\n",
              "      <td>S</td>\n",
              "      <td>S</td>\n",
              "      <td>0.0</td>\n",
              "      <td>0.00</td>\n",
              "      <td>0.0</td>\n",
              "      <td>S</td>\n",
              "      <td>388.27</td>\n",
              "      <td>0.0</td>\n",
              "      <td>0.00</td>\n",
              "      <td>1.17</td>\n",
              "      <td>286.27</td>\n",
              "      <td>S</td>\n",
              "      <td>0</td>\n",
              "      <td>0.00</td>\n",
              "      <td>S</td>\n",
              "      <td>3</td>\n",
              "      <td>776.88</td>\n",
              "      <td>S</td>\n",
              "      <td>0</td>\n",
              "      <td>0.00</td>\n",
              "      <td>0</td>\n",
              "      <td>0.00</td>\n",
              "      <td>0</td>\n",
              "      <td>0.0</td>\n",
              "      <td>0</td>\n",
              "      <td>0.0</td>\n",
              "      <td>N</td>\n",
              "      <td>0.0</td>\n",
              "      <td>0.0</td>\n",
              "      <td>N</td>\n",
              "      <td>0.0</td>\n",
              "      <td>0.0</td>\n",
              "      <td>N</td>\n",
              "      <td>0.0</td>\n",
              "      <td>N</td>\n",
              "      <td>N</td>\n",
              "      <td>N</td>\n",
              "      <td>N</td>\n",
              "      <td>N</td>\n",
              "      <td>0</td>\n",
              "      <td>0</td>\n",
              "      <td>0</td>\n",
              "      <td>N</td>\n",
              "      <td>0.00</td>\n",
              "      <td>0.0</td>\n",
              "      <td>0</td>\n",
              "      <td>S</td>\n",
              "      <td>11.68</td>\n",
              "      <td>S</td>\n",
              "      <td>776.88</td>\n",
              "      <td>N</td>\n",
              "      <td>0</td>\n",
              "      <td>N</td>\n",
              "      <td>0</td>\n",
              "      <td>N</td>\n",
              "      <td>0</td>\n",
              "      <td>0</td>\n",
              "      <td>0.00</td>\n",
              "      <td>1</td>\n",
              "      <td>0.00</td>\n",
              "      <td>0</td>\n",
              "      <td>0.0</td>\n",
              "      <td>0</td>\n",
              "      <td>0</td>\n",
              "      <td>1</td>\n",
              "      <td>115.87</td>\n",
              "      <td>5</td>\n",
              "      <td>165.29</td>\n",
              "      <td>N</td>\n",
              "      <td>0</td>\n",
              "      <td>0.0</td>\n",
              "      <td>0</td>\n",
              "      <td>0.0</td>\n",
              "      <td>0</td>\n",
              "      <td>0.0</td>\n",
              "      <td>0</td>\n",
              "      <td>0.0</td>\n",
              "      <td>0</td>\n",
              "      <td>0.0</td>\n",
              "      <td>0</td>\n",
              "      <td>0.0</td>\n",
              "      <td>0</td>\n",
              "      <td>0.0</td>\n",
              "      <td>0</td>\n",
              "      <td>0.0</td>\n",
              "      <td>0</td>\n",
              "      <td>0.0</td>\n",
              "      <td>S</td>\n",
              "      <td>11</td>\n",
              "      <td>S</td>\n",
              "      <td>3</td>\n",
              "      <td>S</td>\n",
              "      <td>2</td>\n",
              "      <td>S</td>\n",
              "      <td>N</td>\n",
              "      <td>N</td>\n",
              "      <td>N</td>\n",
              "      <td>S</td>\n",
              "      <td>0</td>\n",
              "      <td>0.0</td>\n",
              "      <td>0</td>\n",
              "      <td>0.0</td>\n",
              "      <td>S</td>\n",
              "      <td>0</td>\n",
              "      <td>10</td>\n",
              "      <td>9477</td>\n",
              "      <td>20170331</td>\n",
              "      <td>NaN</td>\n",
              "      <td>0</td>\n",
              "      <td>0</td>\n",
              "      <td>0</td>\n",
              "      <td>.</td>\n",
              "      <td>.</td>\n",
              "      <td>10530</td>\n",
              "      <td>.</td>\n",
              "      <td>.</td>\n",
              "      <td>20140430</td>\n",
              "      <td>0</td>\n",
              "      <td>.</td>\n",
              "      <td>.</td>\n",
              "      <td>20010309</td>\n",
              "      <td>.</td>\n",
              "      <td>S</td>\n",
              "      <td>S</td>\n",
              "      <td>0</td>\n",
              "      <td>0</td>\n",
              "      <td>10</td>\n",
              "      <td>15795</td>\n",
              "      <td>20170331</td>\n",
              "      <td>NaN</td>\n",
              "      <td>38.14</td>\n",
              "      <td>44.62</td>\n",
              "      <td>0</td>\n",
              "      <td>776.88</td>\n",
              "      <td>0</td>\n",
              "      <td>17550</td>\n",
              "      <td>0</td>\n",
              "      <td>0</td>\n",
              "      <td>20140430</td>\n",
              "      <td>0</td>\n",
              "      <td>-8795.27</td>\n",
              "      <td>0</td>\n",
              "      <td>20010308</td>\n",
              "      <td>776.88</td>\n",
              "      <td>S</td>\n",
              "      <td>N</td>\n",
              "      <td>0</td>\n",
              "      <td>Baja+1</td>\n",
              "      <td>0</td>\n",
              "    </tr>\n",
              "    <tr>\n",
              "      <th>12</th>\n",
              "      <td>56</td>\n",
              "      <td>5610023</td>\n",
              "      <td>201404</td>\n",
              "      <td>1</td>\n",
              "      <td>0</td>\n",
              "      <td>536</td>\n",
              "      <td>41</td>\n",
              "      <td>93</td>\n",
              "      <td>491.06</td>\n",
              "      <td>6913.57</td>\n",
              "      <td>843.05</td>\n",
              "      <td>-513.40</td>\n",
              "      <td>212.55</td>\n",
              "      <td>9</td>\n",
              "      <td>S</td>\n",
              "      <td>N</td>\n",
              "      <td>N</td>\n",
              "      <td>N</td>\n",
              "      <td>N</td>\n",
              "      <td>N</td>\n",
              "      <td>N</td>\n",
              "      <td>N</td>\n",
              "      <td>N</td>\n",
              "      <td>S</td>\n",
              "      <td>S</td>\n",
              "      <td>0.0</td>\n",
              "      <td>0.00</td>\n",
              "      <td>0.0</td>\n",
              "      <td>S</td>\n",
              "      <td>4652.83</td>\n",
              "      <td>0.0</td>\n",
              "      <td>0.00</td>\n",
              "      <td>1.17</td>\n",
              "      <td>2275.61</td>\n",
              "      <td>S</td>\n",
              "      <td>2</td>\n",
              "      <td>655.20</td>\n",
              "      <td>S</td>\n",
              "      <td>8</td>\n",
              "      <td>6734.98</td>\n",
              "      <td>S</td>\n",
              "      <td>3</td>\n",
              "      <td>205.33</td>\n",
              "      <td>0</td>\n",
              "      <td>0.00</td>\n",
              "      <td>0</td>\n",
              "      <td>0.0</td>\n",
              "      <td>0</td>\n",
              "      <td>0.0</td>\n",
              "      <td>N</td>\n",
              "      <td>0.0</td>\n",
              "      <td>0.0</td>\n",
              "      <td>N</td>\n",
              "      <td>0.0</td>\n",
              "      <td>0.0</td>\n",
              "      <td>N</td>\n",
              "      <td>0.0</td>\n",
              "      <td>N</td>\n",
              "      <td>N</td>\n",
              "      <td>N</td>\n",
              "      <td>N</td>\n",
              "      <td>S</td>\n",
              "      <td>0</td>\n",
              "      <td>0</td>\n",
              "      <td>0</td>\n",
              "      <td>S</td>\n",
              "      <td>585.00</td>\n",
              "      <td>0.0</td>\n",
              "      <td>0</td>\n",
              "      <td>N</td>\n",
              "      <td>0</td>\n",
              "      <td>S</td>\n",
              "      <td>708.2</td>\n",
              "      <td>N</td>\n",
              "      <td>0</td>\n",
              "      <td>N</td>\n",
              "      <td>0</td>\n",
              "      <td>N</td>\n",
              "      <td>0</td>\n",
              "      <td>1</td>\n",
              "      <td>0.00</td>\n",
              "      <td>0</td>\n",
              "      <td>0.00</td>\n",
              "      <td>0</td>\n",
              "      <td>0.0</td>\n",
              "      <td>0</td>\n",
              "      <td>0</td>\n",
              "      <td>1</td>\n",
              "      <td>64.35</td>\n",
              "      <td>7</td>\n",
              "      <td>967.15</td>\n",
              "      <td>N</td>\n",
              "      <td>0</td>\n",
              "      <td>0.0</td>\n",
              "      <td>0</td>\n",
              "      <td>0.0</td>\n",
              "      <td>0</td>\n",
              "      <td>0.0</td>\n",
              "      <td>0</td>\n",
              "      <td>0.0</td>\n",
              "      <td>0</td>\n",
              "      <td>0.0</td>\n",
              "      <td>0</td>\n",
              "      <td>0.0</td>\n",
              "      <td>0</td>\n",
              "      <td>0.0</td>\n",
              "      <td>0</td>\n",
              "      <td>0.0</td>\n",
              "      <td>0</td>\n",
              "      <td>0.0</td>\n",
              "      <td>N</td>\n",
              "      <td>0</td>\n",
              "      <td>S</td>\n",
              "      <td>15</td>\n",
              "      <td>N</td>\n",
              "      <td>0</td>\n",
              "      <td>S</td>\n",
              "      <td>N</td>\n",
              "      <td>S</td>\n",
              "      <td>N</td>\n",
              "      <td>N</td>\n",
              "      <td>0</td>\n",
              "      <td>0.0</td>\n",
              "      <td>0</td>\n",
              "      <td>0.0</td>\n",
              "      <td>S</td>\n",
              "      <td>0</td>\n",
              "      <td>10</td>\n",
              "      <td>88871.12</td>\n",
              "      <td>20150831</td>\n",
              "      <td>NaN</td>\n",
              "      <td>207.35</td>\n",
              "      <td>207.35</td>\n",
              "      <td>0</td>\n",
              "      <td>0</td>\n",
              "      <td>0</td>\n",
              "      <td>98747.78</td>\n",
              "      <td>0</td>\n",
              "      <td>0</td>\n",
              "      <td>20140430</td>\n",
              "      <td>0</td>\n",
              "      <td>-3106.77</td>\n",
              "      <td>0</td>\n",
              "      <td>20060802</td>\n",
              "      <td>0</td>\n",
              "      <td>N</td>\n",
              "      <td>N</td>\n",
              "      <td>198.9</td>\n",
              "      <td>0</td>\n",
              "      <td>10</td>\n",
              "      <td>88871.12</td>\n",
              "      <td>20150831</td>\n",
              "      <td>NaN</td>\n",
              "      <td>5848.25</td>\n",
              "      <td>6842.45</td>\n",
              "      <td>0</td>\n",
              "      <td>708.2</td>\n",
              "      <td>0</td>\n",
              "      <td>98747.78</td>\n",
              "      <td>0</td>\n",
              "      <td>0</td>\n",
              "      <td>20140430</td>\n",
              "      <td>0</td>\n",
              "      <td>-6901.64</td>\n",
              "      <td>0</td>\n",
              "      <td>20060802</td>\n",
              "      <td>708.2</td>\n",
              "      <td>S</td>\n",
              "      <td>N</td>\n",
              "      <td>3077.1</td>\n",
              "      <td>Baja+1</td>\n",
              "      <td>0</td>\n",
              "    </tr>\n",
              "    <tr>\n",
              "      <th>15</th>\n",
              "      <td>72</td>\n",
              "      <td>5610089</td>\n",
              "      <td>201404</td>\n",
              "      <td>0</td>\n",
              "      <td>0</td>\n",
              "      <td>545</td>\n",
              "      <td>0</td>\n",
              "      <td>239</td>\n",
              "      <td>498.52</td>\n",
              "      <td>0.00</td>\n",
              "      <td>578.10</td>\n",
              "      <td>-242.99</td>\n",
              "      <td>174.97</td>\n",
              "      <td>12</td>\n",
              "      <td>S</td>\n",
              "      <td>N</td>\n",
              "      <td>N</td>\n",
              "      <td>N</td>\n",
              "      <td>N</td>\n",
              "      <td>N</td>\n",
              "      <td>N</td>\n",
              "      <td>N</td>\n",
              "      <td>N</td>\n",
              "      <td>S</td>\n",
              "      <td>S</td>\n",
              "      <td>0.0</td>\n",
              "      <td>-43.32</td>\n",
              "      <td>0.0</td>\n",
              "      <td>S</td>\n",
              "      <td>2431.88</td>\n",
              "      <td>0.0</td>\n",
              "      <td>0.00</td>\n",
              "      <td>1.17</td>\n",
              "      <td>1372.90</td>\n",
              "      <td>S</td>\n",
              "      <td>0</td>\n",
              "      <td>0.00</td>\n",
              "      <td>S</td>\n",
              "      <td>0</td>\n",
              "      <td>0.00</td>\n",
              "      <td>S</td>\n",
              "      <td>0</td>\n",
              "      <td>0.00</td>\n",
              "      <td>0</td>\n",
              "      <td>0.00</td>\n",
              "      <td>0</td>\n",
              "      <td>0.0</td>\n",
              "      <td>0</td>\n",
              "      <td>0.0</td>\n",
              "      <td>N</td>\n",
              "      <td>0.0</td>\n",
              "      <td>0.0</td>\n",
              "      <td>N</td>\n",
              "      <td>0.0</td>\n",
              "      <td>0.0</td>\n",
              "      <td>N</td>\n",
              "      <td>0.0</td>\n",
              "      <td>N</td>\n",
              "      <td>N</td>\n",
              "      <td>S</td>\n",
              "      <td>N</td>\n",
              "      <td>S</td>\n",
              "      <td>0</td>\n",
              "      <td>0</td>\n",
              "      <td>0</td>\n",
              "      <td>N</td>\n",
              "      <td>0.00</td>\n",
              "      <td>0.0</td>\n",
              "      <td>0</td>\n",
              "      <td>N</td>\n",
              "      <td>0</td>\n",
              "      <td>S</td>\n",
              "      <td>4113.02</td>\n",
              "      <td>S</td>\n",
              "      <td>7787.98</td>\n",
              "      <td>N</td>\n",
              "      <td>0</td>\n",
              "      <td>N</td>\n",
              "      <td>0</td>\n",
              "      <td>0</td>\n",
              "      <td>0.00</td>\n",
              "      <td>3</td>\n",
              "      <td>0.00</td>\n",
              "      <td>7</td>\n",
              "      <td>0.0</td>\n",
              "      <td>0</td>\n",
              "      <td>0</td>\n",
              "      <td>1</td>\n",
              "      <td>338.38</td>\n",
              "      <td>7</td>\n",
              "      <td>643.85</td>\n",
              "      <td>N</td>\n",
              "      <td>0</td>\n",
              "      <td>0.0</td>\n",
              "      <td>0</td>\n",
              "      <td>0.0</td>\n",
              "      <td>0</td>\n",
              "      <td>0.0</td>\n",
              "      <td>0</td>\n",
              "      <td>0.0</td>\n",
              "      <td>0</td>\n",
              "      <td>0.0</td>\n",
              "      <td>0</td>\n",
              "      <td>0.0</td>\n",
              "      <td>0</td>\n",
              "      <td>0.0</td>\n",
              "      <td>0</td>\n",
              "      <td>0.0</td>\n",
              "      <td>0</td>\n",
              "      <td>0.0</td>\n",
              "      <td>N</td>\n",
              "      <td>0</td>\n",
              "      <td>S</td>\n",
              "      <td>7</td>\n",
              "      <td>N</td>\n",
              "      <td>0</td>\n",
              "      <td>N</td>\n",
              "      <td>N</td>\n",
              "      <td>N</td>\n",
              "      <td>N</td>\n",
              "      <td>N</td>\n",
              "      <td>0</td>\n",
              "      <td>0.0</td>\n",
              "      <td>0</td>\n",
              "      <td>0.0</td>\n",
              "      <td>S</td>\n",
              "      <td>0</td>\n",
              "      <td>10</td>\n",
              "      <td>59230.08</td>\n",
              "      <td>20180131</td>\n",
              "      <td>NaN</td>\n",
              "      <td>7929.34</td>\n",
              "      <td>7929.34</td>\n",
              "      <td>0</td>\n",
              "      <td>7787.98</td>\n",
              "      <td>0</td>\n",
              "      <td>65819.52</td>\n",
              "      <td>0</td>\n",
              "      <td>0</td>\n",
              "      <td>20140410</td>\n",
              "      <td>7929.34</td>\n",
              "      <td>-6870.88</td>\n",
              "      <td>0</td>\n",
              "      <td>20100112</td>\n",
              "      <td>7787.98</td>\n",
              "      <td>S</td>\n",
              "      <td>N</td>\n",
              "      <td>444.6</td>\n",
              "      <td>0</td>\n",
              "      <td>10</td>\n",
              "      <td>88871.12</td>\n",
              "      <td>20180131</td>\n",
              "      <td>NaN</td>\n",
              "      <td>7400.02</td>\n",
              "      <td>6253.18</td>\n",
              "      <td>2404.84</td>\n",
              "      <td>6517.87</td>\n",
              "      <td>300.54</td>\n",
              "      <td>98747.78</td>\n",
              "      <td>0</td>\n",
              "      <td>0</td>\n",
              "      <td>20140430</td>\n",
              "      <td>0</td>\n",
              "      <td>-3693.47</td>\n",
              "      <td>0</td>\n",
              "      <td>20100120</td>\n",
              "      <td>6517.87</td>\n",
              "      <td>S</td>\n",
              "      <td>N</td>\n",
              "      <td>1755</td>\n",
              "      <td>Baja+1</td>\n",
              "      <td>0</td>\n",
              "    </tr>\n",
              "    <tr>\n",
              "      <th>18</th>\n",
              "      <td>88</td>\n",
              "      <td>5610101</td>\n",
              "      <td>201404</td>\n",
              "      <td>1</td>\n",
              "      <td>0</td>\n",
              "      <td>1217</td>\n",
              "      <td>49</td>\n",
              "      <td>47</td>\n",
              "      <td>3333.87</td>\n",
              "      <td>57336.04</td>\n",
              "      <td>1075.12</td>\n",
              "      <td>72.65</td>\n",
              "      <td>1857.91</td>\n",
              "      <td>10</td>\n",
              "      <td>S</td>\n",
              "      <td>N</td>\n",
              "      <td>N</td>\n",
              "      <td>N</td>\n",
              "      <td>N</td>\n",
              "      <td>N</td>\n",
              "      <td>N</td>\n",
              "      <td>N</td>\n",
              "      <td>N</td>\n",
              "      <td>S</td>\n",
              "      <td>S</td>\n",
              "      <td>0.0</td>\n",
              "      <td>20295.83</td>\n",
              "      <td>0.0</td>\n",
              "      <td>S</td>\n",
              "      <td>137618.25</td>\n",
              "      <td>0.0</td>\n",
              "      <td>116.55</td>\n",
              "      <td>1.17</td>\n",
              "      <td>149834.76</td>\n",
              "      <td>S</td>\n",
              "      <td>12</td>\n",
              "      <td>2587.82</td>\n",
              "      <td>S</td>\n",
              "      <td>35</td>\n",
              "      <td>11577.44</td>\n",
              "      <td>S</td>\n",
              "      <td>2</td>\n",
              "      <td>4939.03</td>\n",
              "      <td>3</td>\n",
              "      <td>204794.65</td>\n",
              "      <td>0</td>\n",
              "      <td>0.0</td>\n",
              "      <td>0</td>\n",
              "      <td>0.0</td>\n",
              "      <td>N</td>\n",
              "      <td>0.0</td>\n",
              "      <td>0.0</td>\n",
              "      <td>N</td>\n",
              "      <td>0.0</td>\n",
              "      <td>0.0</td>\n",
              "      <td>N</td>\n",
              "      <td>0.0</td>\n",
              "      <td>N</td>\n",
              "      <td>N</td>\n",
              "      <td>S</td>\n",
              "      <td>N</td>\n",
              "      <td>N</td>\n",
              "      <td>0</td>\n",
              "      <td>0</td>\n",
              "      <td>0</td>\n",
              "      <td>S</td>\n",
              "      <td>212661.54</td>\n",
              "      <td>0.0</td>\n",
              "      <td>0</td>\n",
              "      <td>S</td>\n",
              "      <td>463.32</td>\n",
              "      <td>S</td>\n",
              "      <td>447.27</td>\n",
              "      <td>S</td>\n",
              "      <td>58.38</td>\n",
              "      <td>N</td>\n",
              "      <td>0</td>\n",
              "      <td>N</td>\n",
              "      <td>0</td>\n",
              "      <td>3</td>\n",
              "      <td>89.32</td>\n",
              "      <td>2</td>\n",
              "      <td>343.98</td>\n",
              "      <td>0</td>\n",
              "      <td>0.0</td>\n",
              "      <td>0</td>\n",
              "      <td>0</td>\n",
              "      <td>1</td>\n",
              "      <td>307.75</td>\n",
              "      <td>10</td>\n",
              "      <td>1233.37</td>\n",
              "      <td>N</td>\n",
              "      <td>0</td>\n",
              "      <td>0.0</td>\n",
              "      <td>0</td>\n",
              "      <td>0.0</td>\n",
              "      <td>0</td>\n",
              "      <td>0.0</td>\n",
              "      <td>5</td>\n",
              "      <td>15210.0</td>\n",
              "      <td>2</td>\n",
              "      <td>1755.0</td>\n",
              "      <td>0</td>\n",
              "      <td>0.0</td>\n",
              "      <td>0</td>\n",
              "      <td>0.0</td>\n",
              "      <td>0</td>\n",
              "      <td>0.0</td>\n",
              "      <td>0</td>\n",
              "      <td>0.0</td>\n",
              "      <td>S</td>\n",
              "      <td>10</td>\n",
              "      <td>S</td>\n",
              "      <td>84</td>\n",
              "      <td>S</td>\n",
              "      <td>1</td>\n",
              "      <td>S</td>\n",
              "      <td>N</td>\n",
              "      <td>S</td>\n",
              "      <td>S</td>\n",
              "      <td>S</td>\n",
              "      <td>0</td>\n",
              "      <td>0.0</td>\n",
              "      <td>2</td>\n",
              "      <td>1755.0</td>\n",
              "      <td>S</td>\n",
              "      <td>0</td>\n",
              "      <td>10</td>\n",
              "      <td>115851.71</td>\n",
              "      <td>20160630</td>\n",
              "      <td>NaN</td>\n",
              "      <td>5040.04</td>\n",
              "      <td>5040.04</td>\n",
              "      <td>0</td>\n",
              "      <td>58.38</td>\n",
              "      <td>0</td>\n",
              "      <td>128724.12</td>\n",
              "      <td>0</td>\n",
              "      <td>0</td>\n",
              "      <td>20140430</td>\n",
              "      <td>0</td>\n",
              "      <td>-5052.34</td>\n",
              "      <td>0</td>\n",
              "      <td>20130626</td>\n",
              "      <td>58.38</td>\n",
              "      <td>S</td>\n",
              "      <td>N</td>\n",
              "      <td>2538.9</td>\n",
              "      <td>0</td>\n",
              "      <td>10</td>\n",
              "      <td>144807.62</td>\n",
              "      <td>20210831</td>\n",
              "      <td>NaN</td>\n",
              "      <td>9416.16</td>\n",
              "      <td>11016.9</td>\n",
              "      <td>0</td>\n",
              "      <td>7202.85</td>\n",
              "      <td>0</td>\n",
              "      <td>160905.16</td>\n",
              "      <td>0</td>\n",
              "      <td>0</td>\n",
              "      <td>20140430</td>\n",
              "      <td>0</td>\n",
              "      <td>-3278.05</td>\n",
              "      <td>0</td>\n",
              "      <td>20100809</td>\n",
              "      <td>7202.85</td>\n",
              "      <td>S</td>\n",
              "      <td>N</td>\n",
              "      <td>1181.7</td>\n",
              "      <td>Baja+1</td>\n",
              "      <td>0</td>\n",
              "    </tr>\n",
              "  </tbody>\n",
              "</table>\n",
              "</div>\n",
              "      <button class=\"colab-df-convert\" onclick=\"convertToInteractive('df-9120892f-8cf6-428b-9e8f-33c5378849ca')\"\n",
              "              title=\"Convert this dataframe to an interactive table.\"\n",
              "              style=\"display:none;\">\n",
              "        \n",
              "  <svg xmlns=\"http://www.w3.org/2000/svg\" height=\"24px\"viewBox=\"0 0 24 24\"\n",
              "       width=\"24px\">\n",
              "    <path d=\"M0 0h24v24H0V0z\" fill=\"none\"/>\n",
              "    <path d=\"M18.56 5.44l.94 2.06.94-2.06 2.06-.94-2.06-.94-.94-2.06-.94 2.06-2.06.94zm-11 1L8.5 8.5l.94-2.06 2.06-.94-2.06-.94L8.5 2.5l-.94 2.06-2.06.94zm10 10l.94 2.06.94-2.06 2.06-.94-2.06-.94-.94-2.06-.94 2.06-2.06.94z\"/><path d=\"M17.41 7.96l-1.37-1.37c-.4-.4-.92-.59-1.43-.59-.52 0-1.04.2-1.43.59L10.3 9.45l-7.72 7.72c-.78.78-.78 2.05 0 2.83L4 21.41c.39.39.9.59 1.41.59.51 0 1.02-.2 1.41-.59l7.78-7.78 2.81-2.81c.8-.78.8-2.07 0-2.86zM5.41 20L4 18.59l7.72-7.72 1.47 1.35L5.41 20z\"/>\n",
              "  </svg>\n",
              "      </button>\n",
              "      \n",
              "  <style>\n",
              "    .colab-df-container {\n",
              "      display:flex;\n",
              "      flex-wrap:wrap;\n",
              "      gap: 12px;\n",
              "    }\n",
              "\n",
              "    .colab-df-convert {\n",
              "      background-color: #E8F0FE;\n",
              "      border: none;\n",
              "      border-radius: 50%;\n",
              "      cursor: pointer;\n",
              "      display: none;\n",
              "      fill: #1967D2;\n",
              "      height: 32px;\n",
              "      padding: 0 0 0 0;\n",
              "      width: 32px;\n",
              "    }\n",
              "\n",
              "    .colab-df-convert:hover {\n",
              "      background-color: #E2EBFA;\n",
              "      box-shadow: 0px 1px 2px rgba(60, 64, 67, 0.3), 0px 1px 3px 1px rgba(60, 64, 67, 0.15);\n",
              "      fill: #174EA6;\n",
              "    }\n",
              "\n",
              "    [theme=dark] .colab-df-convert {\n",
              "      background-color: #3B4455;\n",
              "      fill: #D2E3FC;\n",
              "    }\n",
              "\n",
              "    [theme=dark] .colab-df-convert:hover {\n",
              "      background-color: #434B5C;\n",
              "      box-shadow: 0px 1px 3px 1px rgba(0, 0, 0, 0.15);\n",
              "      filter: drop-shadow(0px 1px 2px rgba(0, 0, 0, 0.3));\n",
              "      fill: #FFFFFF;\n",
              "    }\n",
              "  </style>\n",
              "\n",
              "      <script>\n",
              "        const buttonEl =\n",
              "          document.querySelector('#df-9120892f-8cf6-428b-9e8f-33c5378849ca button.colab-df-convert');\n",
              "        buttonEl.style.display =\n",
              "          google.colab.kernel.accessAllowed ? 'block' : 'none';\n",
              "\n",
              "        async function convertToInteractive(key) {\n",
              "          const element = document.querySelector('#df-9120892f-8cf6-428b-9e8f-33c5378849ca');\n",
              "          const dataTable =\n",
              "            await google.colab.kernel.invokeFunction('convertToInteractive',\n",
              "                                                     [key], {});\n",
              "          if (!dataTable) return;\n",
              "\n",
              "          const docLinkHtml = 'Like what you see? Visit the ' +\n",
              "            '<a target=\"_blank\" href=https://colab.research.google.com/notebooks/data_table.ipynb>data table notebook</a>'\n",
              "            + ' to learn more about interactive tables.';\n",
              "          element.innerHTML = '';\n",
              "          dataTable['output_type'] = 'display_data';\n",
              "          await google.colab.output.renderOutput(dataTable, element);\n",
              "          const docLink = document.createElement('div');\n",
              "          docLink.innerHTML = docLinkHtml;\n",
              "          element.appendChild(docLink);\n",
              "        }\n",
              "      </script>\n",
              "    </div>\n",
              "  </div>\n",
              "  "
            ]
          },
          "metadata": {},
          "execution_count": 6
        }
      ],
      "source": [
        "# Filtro mes 2014\n",
        "df2=df[df.foto_mes == 201404]\n",
        "df2.head()"
      ]
    },
    {
      "cell_type": "markdown",
      "id": "b9c1bbda",
      "metadata": {
        "id": "b9c1bbda"
      },
      "source": [
        "#### Función para Visualización de valores únicos del df"
      ]
    },
    {
      "cell_type": "code",
      "execution_count": null,
      "id": "cf7b43ad",
      "metadata": {
        "id": "cf7b43ad"
      },
      "outputs": [],
      "source": [
        "def unique_values(dataframe):\n",
        "    for x in range(dataframe.shape[1]):\n",
        "        print(dataframe.columns[x], \"\\n\", np.sort(dataframe[dataframe.columns[x]].unique()), \"\\n\")"
      ]
    },
    {
      "cell_type": "markdown",
      "id": "290ec8b1",
      "metadata": {
        "id": "290ec8b1"
      },
      "source": [
        "### c. Corrección de Variables\n",
        "#### 1. Variables Categóricas"
      ]
    },
    {
      "cell_type": "code",
      "execution_count": null,
      "id": "cfcd87d7",
      "metadata": {
        "id": "cfcd87d7"
      },
      "outputs": [],
      "source": [
        "# Tres variables categóricas que serán utilizadas más adelante y no requieren procesamiento de datos\n",
        "\n",
        "tres_categoricas = [\"cliente_vip\", \"cliente_sucursal\", \"marketing_coss_selling\"]"
      ]
    },
    {
      "cell_type": "code",
      "execution_count": null,
      "id": "aa6c485e",
      "metadata": {
        "id": "aa6c485e",
        "outputId": "8f1adcb4-f95c-46ff-8eaf-822d7f8fd20c",
        "colab": {
          "base_uri": "https://localhost:8080/"
        }
      },
      "outputs": [
        {
          "output_type": "stream",
          "name": "stderr",
          "text": [
            "/usr/local/lib/python3.7/dist-packages/pandas/core/frame.py:3641: SettingWithCopyWarning: \n",
            "A value is trying to be set on a copy of a slice from a DataFrame.\n",
            "Try using .loc[row_indexer,col_indexer] = value instead\n",
            "\n",
            "See the caveats in the documentation: https://pandas.pydata.org/pandas-docs/stable/user_guide/indexing.html#returning-a-view-versus-a-copy\n",
            "  self[k1] = value[k2]\n"
          ]
        }
      ],
      "source": [
        "# Estas variables son categóricas que se pasan a int para luego usar get_dummies\n",
        "\n",
        "str_a_01 = [\"tpaquete2\", \"tpaquete4\", \"tpaquete6\", \"tpaquete7\", \"tpaquete9\",\n",
        "            \"tcuentas\", \"tcuenta_corriente\", \"tcaja_ahorro\", \"ttarjeta_debito\", \n",
        "            \"ttarjeta_visa\", \"ttarjeta_master\", \"tplazo_fijo\", \"tfondos_comunes_inversion\", \n",
        "            \"ttitulos\", \"tseguro_vida_mercado_abierto\", \"tseguro_auto\", \"tseguro_vivienda\", \n",
        "            \"tseguro_accidentes_personales\", \"tcaja_seguridad\", \"tplan_sueldo\", \"tcuenta_debitos_automaticos\", \n",
        "            \"ttarjeta_visa_debitos_automatico\", \"ttarjeta_master_debitos_automati\", \"tpagodeservicios\", \n",
        "            \"tpagomiscuentas\", \"tcambio_monedas\", \"tcallcenter\", \"thomebanking\", \"tautoservicio\",\n",
        "            \"tcajas\", \"tcajas_depositos\", \"tcajas_extracciones\", \"tcajas_otras\", \"tmovimientos_ultimos90dias\", \n",
        "            \"Master_tconsumos\", \"Master_tadelantosefectivo\", \"Visa_tconsumos\", \"Visa_tadelantosefectivo\"]\n",
        "df2[str_a_01] = df2[str_a_01].replace({\"N\": 0, \"S\": 1}).astype(\"int\")"
      ]
    },
    {
      "cell_type": "code",
      "execution_count": null,
      "id": "cccf4e07",
      "metadata": {
        "id": "cccf4e07",
        "outputId": "fc348de1-2a0d-447f-ba73-67d9e76a24a7",
        "colab": {
          "base_uri": "https://localhost:8080/"
        }
      },
      "outputs": [
        {
          "output_type": "execute_result",
          "data": {
            "text/plain": [
              "array([1.17, 0.  ])"
            ]
          },
          "metadata": {},
          "execution_count": 10
        }
      ],
      "source": [
        "# Modificamos mdescubierto_preacordado a 0_1\n",
        "df2['mdescubierto_preacordado'].unique()"
      ]
    },
    {
      "cell_type": "code",
      "execution_count": null,
      "id": "0ff9818d",
      "metadata": {
        "id": "0ff9818d",
        "outputId": "2a1f2c68-b83e-4799-edd0-8b18591de3b7",
        "colab": {
          "base_uri": "https://localhost:8080/"
        }
      },
      "outputs": [
        {
          "output_type": "stream",
          "name": "stderr",
          "text": [
            "/usr/local/lib/python3.7/dist-packages/ipykernel_launcher.py:1: SettingWithCopyWarning: \n",
            "A value is trying to be set on a copy of a slice from a DataFrame.\n",
            "Try using .loc[row_indexer,col_indexer] = value instead\n",
            "\n",
            "See the caveats in the documentation: https://pandas.pydata.org/pandas-docs/stable/user_guide/indexing.html#returning-a-view-versus-a-copy\n",
            "  \"\"\"Entry point for launching an IPython kernel.\n",
            "/usr/local/lib/python3.7/dist-packages/ipykernel_launcher.py:2: SettingWithCopyWarning: \n",
            "A value is trying to be set on a copy of a slice from a DataFrame.\n",
            "Try using .loc[row_indexer,col_indexer] = value instead\n",
            "\n",
            "See the caveats in the documentation: https://pandas.pydata.org/pandas-docs/stable/user_guide/indexing.html#returning-a-view-versus-a-copy\n",
            "  \n"
          ]
        }
      ],
      "source": [
        "df2['tdescubierto_preacordado'] = df2['mdescubierto_preacordado']\n",
        "df2['tdescubierto_preacordado'] = df2['tdescubierto_preacordado'].replace({\"N\": 0, \"S\": 1.17}).astype(\"int\")\n",
        "\n",
        "# Lo agregamos a la lista str_a_01\n",
        "str_a_01.append('tdescubierto_preacordado')"
      ]
    },
    {
      "cell_type": "code",
      "execution_count": null,
      "id": "e168fe28",
      "metadata": {
        "scrolled": true,
        "id": "e168fe28",
        "outputId": "87cc6f54-5b4a-409d-f032-e3df1a05e628",
        "colab": {
          "base_uri": "https://localhost:8080/"
        }
      },
      "outputs": [
        {
          "output_type": "stream",
          "name": "stdout",
          "text": [
            "tpaquete2 \n",
            " [0 1] \n",
            "\n",
            "tpaquete4 \n",
            " [0 1] \n",
            "\n",
            "tpaquete6 \n",
            " [0 1] \n",
            "\n",
            "tpaquete7 \n",
            " [0 1] \n",
            "\n",
            "tpaquete9 \n",
            " [0 1] \n",
            "\n",
            "tcuentas \n",
            " [0 1] \n",
            "\n",
            "tcuenta_corriente \n",
            " [0 1] \n",
            "\n",
            "tcaja_ahorro \n",
            " [0 1] \n",
            "\n",
            "ttarjeta_debito \n",
            " [0 1] \n",
            "\n",
            "ttarjeta_visa \n",
            " [0 1] \n",
            "\n",
            "ttarjeta_master \n",
            " [0 1] \n",
            "\n",
            "tplazo_fijo \n",
            " [0 1] \n",
            "\n",
            "tfondos_comunes_inversion \n",
            " [0 1] \n",
            "\n",
            "ttitulos \n",
            " [0 1] \n",
            "\n",
            "tseguro_vida_mercado_abierto \n",
            " [0 1] \n",
            "\n",
            "tseguro_auto \n",
            " [0 1] \n",
            "\n",
            "tseguro_vivienda \n",
            " [0 1] \n",
            "\n",
            "tseguro_accidentes_personales \n",
            " [0 1] \n",
            "\n",
            "tcaja_seguridad \n",
            " [0 1] \n",
            "\n",
            "tplan_sueldo \n",
            " [0 1] \n",
            "\n",
            "tcuenta_debitos_automaticos \n",
            " [0 1] \n",
            "\n",
            "ttarjeta_visa_debitos_automatico \n",
            " [0 1] \n",
            "\n",
            "ttarjeta_master_debitos_automati \n",
            " [0 1] \n",
            "\n",
            "tpagodeservicios \n",
            " [0 1] \n",
            "\n",
            "tpagomiscuentas \n",
            " [0 1] \n",
            "\n",
            "tcambio_monedas \n",
            " [0 1] \n",
            "\n",
            "tcallcenter \n",
            " [0 1] \n",
            "\n",
            "thomebanking \n",
            " [0 1] \n",
            "\n",
            "tautoservicio \n",
            " [0 1] \n",
            "\n",
            "tcajas \n",
            " [0 1] \n",
            "\n",
            "tcajas_depositos \n",
            " [0 1] \n",
            "\n",
            "tcajas_extracciones \n",
            " [0 1] \n",
            "\n",
            "tcajas_otras \n",
            " [0 1] \n",
            "\n",
            "tmovimientos_ultimos90dias \n",
            " [0 1] \n",
            "\n",
            "Master_tconsumos \n",
            " [0 1] \n",
            "\n",
            "Master_tadelantosefectivo \n",
            " [0 1] \n",
            "\n",
            "Visa_tconsumos \n",
            " [0 1] \n",
            "\n",
            "Visa_tadelantosefectivo \n",
            " [0 1] \n",
            "\n",
            "tdescubierto_preacordado \n",
            " [0 1] \n",
            "\n"
          ]
        }
      ],
      "source": [
        "# Utilizando esta función corroboro que no requiere ningún tratamiento de nulos.\n",
        "\n",
        "unique_values(df2[str_a_01])"
      ]
    },
    {
      "cell_type": "code",
      "execution_count": null,
      "id": "47518b52",
      "metadata": {
        "id": "47518b52"
      },
      "outputs": [],
      "source": [
        "# Tres variables son categóricas en las que se reemplazarán los \".\" por np.nan\n",
        "\n",
        "str_con_nulos1 = [\"marketing_activo_ultimos90dias\", \"Master_marca_atraso\", \"Visa_marca_atraso\", \"Visa_cuenta_estado\", \"Master_cuenta_estado\"]\n",
        "\n",
        "df2[str_con_nulos1] = df2[str_con_nulos1].replace({\".\": np.nan}).astype(\"float\")"
      ]
    },
    {
      "cell_type": "markdown",
      "id": "cc41fadf",
      "metadata": {
        "id": "cc41fadf"
      },
      "source": [
        "#### 2. Variables numéricas"
      ]
    },
    {
      "cell_type": "code",
      "execution_count": null,
      "id": "b1424b32",
      "metadata": {
        "id": "b1424b32"
      },
      "outputs": [],
      "source": [
        "# Variables son numéricas que se pasa de str a float aunque contenga \".\"\n",
        "\n",
        "num_con_nulos = [\"mprestamos_hipotecarios\", \"mcuenta_debitos_automaticos\", \"mttarjeta_visa_debitos_automatic\",\n",
        "              \"mttarjeta_master_debitos_automat\", \"mpagodeservicios\", \"mpagomiscuentas\", \"Master_mfinanciacion_limite\",\n",
        "                  \"Master_msaldototal\", \"Master_msaldopesos\", \"Master_msaldodolares\",\n",
        "                  \"Master_mconsumospesos\", \"Master_mconsumosdolares\", \"Master_mlimitecompra\",\n",
        "                  \"Master_madelantopesos\", \"Master_madelantodolares\", \"Master_mpagado\",\n",
        "                  \"Master_mpagospesos\", \"Master_mpagosdolares\", \"Master_mconsumototal\", \n",
        "                  \"Master_mpagominimo\", \"Visa_mfinanciacion_limite\", \"Visa_msaldototal\",\n",
        "                  \"Visa_msaldopesos\", \"Visa_msaldodolares\", \"Visa_mconsumospesos\",\n",
        "                  \"Visa_mconsumosdolares\", \"Visa_mlimitecompra\", \"Visa_madelantopesos\",\n",
        "                  \"Visa_madelantodolares\", \"Visa_mpagado\", \"Visa_mpagospesos\", \"Visa_mpagosdolares\",\n",
        "                  \"Visa_mconsumototal\", \"Visa_mpagominimo\"]\n",
        "\n",
        "df2[num_con_nulos] = df2[num_con_nulos].replace({\".\": np.nan}).astype(\"float\")"
      ]
    },
    {
      "cell_type": "code",
      "execution_count": null,
      "id": "ef3d1669",
      "metadata": {
        "id": "ef3d1669"
      },
      "outputs": [],
      "source": [
        "# Variables son numéricas que no contienen nulos\n",
        "\n",
        "num_sin_nulos = [\"cliente_edad\", \"cliente_antiguedad\", \"mrentabilidad\", \"mrentabilidad_annual\", \"mcomisiones\",\n",
        "                 \"mactivos_margen\", \"mpasivos_margen\", \"mcuenta_corriente_Nopaquete\", \"mcuenta_corriente_Paquete\",\n",
        "                 \"mcaja_ahorro_Paquete\", \"mcaja_ahorro_Nopaquete\", \"mcaja_ahorro_dolares\", \"mcuentas_saldo\",\n",
        "                 \"ctarjeta_debito_transacciones\", \"mautoservicio\", \"ctarjeta_visa_transacciones\", \"mtarjeta_visa_consumo\",\n",
        "                 \"ctarjeta_master_transacciones\", \"mtarjeta_master_consumo\", \"cprestamos_personales\", \"mprestamos_personales\",\n",
        "                 \"cprestamos_prendarios\", \"mprestamos_prendarios\", \"cprestamos_hipotecarios\", \"mplazo_fijo_dolares\",\n",
        "                 \"mplazo_fijo_pesos\", \"mfondos_comunes_inversion_pesos\", \"mfondos_comunes_inversion_dolare\",\n",
        "                 \"mtitulos\", \"mplan_sueldo\", \"mplan_sueldo_manual\", \"cplan_sueldo_transaccion\", \"ccajeros_propios_descuentos\",\n",
        "                \"mcajeros_propios_descuentos\", \"ctarjeta_visa_descuentos\", \"mtarjeta_visa_descuentos\", \"ctarjeta_master_descuentos\",\n",
        "                 \"mtarjeta_master_descuentos\", \"ccomisiones_mantenimiento\", \"mcomisiones_mantenimiento\", \"ccomisiones_otras\",\n",
        "                 \"mcomisiones_otras\", \"ccambio_monedas_compra\", \"mcambio_monedas_compra\", \"ccambio_monedas_venta\",\n",
        "                 \"mcambio_monedas_venta\", \"ctransferencias_recibidas\", \"mtransferencias_recibidas\", \"ctransferencias_emitidas\",\n",
        "                 \"mtransferencias_emitidas\", \"cextraccion_autoservicio\", \"mextraccion_autoservicio\", \"ccheques_depositados\",\n",
        "                 \"mcheques_depositados\", \"ccheques_emitidos\", \"mcheques_emitidos\", \"ccheques_depositados_rechazados\",\n",
        "                 \"mcheques_depositados_rechazados\", \"ccheques_emitidos_rechazados\", \"mcheques_emitidos_rechazados\",\n",
        "                 \"ccallcenter_transacciones\", \"chomebanking_transacciones\", \"cautoservicio_transacciones\", \"ccajeros_propio_transacciones\",\n",
        "                 \"mcajeros_propio\", \"ccajeros_ajenos_transacciones\", \"mcajeros_ajenos\"] "
      ]
    },
    {
      "cell_type": "code",
      "execution_count": null,
      "id": "a5995de7",
      "metadata": {
        "id": "a5995de7",
        "outputId": "dcb676b0-7eb4-4345-b428-7ae4ca295557",
        "colab": {
          "base_uri": "https://localhost:8080/"
        }
      },
      "outputs": [
        {
          "output_type": "execute_result",
          "data": {
            "text/plain": [
              "0"
            ]
          },
          "metadata": {},
          "execution_count": 16
        }
      ],
      "source": [
        "df2[num_sin_nulos].isna().sum().sum()"
      ]
    },
    {
      "cell_type": "markdown",
      "id": "91f706b0",
      "metadata": {
        "id": "91f706b0"
      },
      "source": [
        "#### 3. Variables datetime"
      ]
    },
    {
      "cell_type": "code",
      "execution_count": null,
      "id": "6b71ebee",
      "metadata": {
        "id": "6b71ebee"
      },
      "outputs": [],
      "source": [
        "# Variables de tipo datetime a las que se les quita \".\" y se pasan a datetime\n",
        "\n",
        "srt_a_fecha_pto = [\"Master_Fvencimiento\", \"Master_fultimo_cierre\", \"Master_fechaalta\",\n",
        "                  \"Visa_Fvencimiento\", \"Visa_fultimo_cierre\", \"Visa_fechaalta\"]\n",
        "\n",
        "df2[srt_a_fecha_pto] = df2[srt_a_fecha_pto].replace({\".\": np.nan})"
      ]
    },
    {
      "cell_type": "code",
      "execution_count": null,
      "id": "ff03ce45",
      "metadata": {
        "id": "ff03ce45"
      },
      "outputs": [],
      "source": [
        "df2[srt_a_fecha_pto] = df2[srt_a_fecha_pto].apply(lambda x: pd.to_datetime(x,errors = 'coerce', format = '%Y-%m-%d'))"
      ]
    },
    {
      "cell_type": "code",
      "execution_count": null,
      "id": "48020742",
      "metadata": {
        "id": "48020742",
        "outputId": "7025ff89-44a1-4314-ddfd-6b3b8674fc50",
        "colab": {
          "base_uri": "https://localhost:8080/"
        }
      },
      "outputs": [
        {
          "output_type": "execute_result",
          "data": {
            "text/plain": [
              "Master_Fvencimiento      datetime64[ns]\n",
              "Master_fultimo_cierre    datetime64[ns]\n",
              "Master_fechaalta         datetime64[ns]\n",
              "Visa_Fvencimiento        datetime64[ns]\n",
              "Visa_fultimo_cierre      datetime64[ns]\n",
              "Visa_fechaalta           datetime64[ns]\n",
              "dtype: object"
            ]
          },
          "metadata": {},
          "execution_count": 19
        }
      ],
      "source": [
        "df2[srt_a_fecha_pto].dtypes"
      ]
    },
    {
      "cell_type": "markdown",
      "id": "f1960cbc",
      "metadata": {
        "id": "f1960cbc"
      },
      "source": [
        "### d. Drop de columnas"
      ]
    },
    {
      "cell_type": "code",
      "execution_count": null,
      "id": "68a842a6",
      "metadata": {
        "id": "68a842a6"
      },
      "outputs": [],
      "source": [
        "borrar = [\"foto_mes\", \"tpaquete_premium\", \"tpaquete3\", \"tpaquete5\", \"tpaquete8\", \"tcajas_consultas\", \n",
        "          \"ccuenta_descuentos\", \"mcuenta_descuentos\", \"mcuenta_corriente_dolares\", \"mbonos_gobierno\", \"mmonedas_extranjeras\", \n",
        "          \"minversiones_otras\", \"Master_Finiciomora\", \"Visa_Finiciomora\"]\n",
        "\n",
        "df2 = df2.drop(borrar, axis = 1)\n",
        "\n",
        "# Por ahora borro también las variables de datos tipo datetime\n",
        "\n",
        "df2 = df2.drop(srt_a_fecha_pto, axis = 1)\n"
      ]
    },
    {
      "cell_type": "markdown",
      "id": "18b88f9f",
      "metadata": {
        "id": "18b88f9f"
      },
      "source": [
        "### 3.3.2 Tratamiento de nulos"
      ]
    },
    {
      "cell_type": "markdown",
      "id": "e671fca2",
      "metadata": {
        "id": "e671fca2"
      },
      "source": [
        "#### a. Eliminación según % de nulos en cada columna"
      ]
    },
    {
      "cell_type": "code",
      "execution_count": null,
      "id": "e40099c3",
      "metadata": {
        "id": "e40099c3",
        "outputId": "07e6d38e-c508-4597-f455-1cac929daadb",
        "colab": {
          "base_uri": "https://localhost:8080/"
        }
      },
      "outputs": [
        {
          "output_type": "execute_result",
          "data": {
            "text/plain": [
              "Master_mpagospesos             47.372100\n",
              "Master_mconsumospesos          47.372100\n",
              "Master_mconsumosdolares        47.372100\n",
              "Master_madelantopesos          47.372100\n",
              "Master_madelantodolares        47.372100\n",
              "Master_mpagosdolares           47.372100\n",
              "Master_mconsumototal           47.372100\n",
              "Master_mpagominimo             13.957483\n",
              "Master_marca_atraso            13.957483\n",
              "Master_mfinanciacion_limite    13.957483\n",
              "dtype: float64"
            ]
          },
          "metadata": {},
          "execution_count": 21
        }
      ],
      "source": [
        "pct_nulos = (df2.isna().sum().sort_values(ascending = False) / df2.shape[0] * 100).head(10)\n",
        "pct_nulos"
      ]
    },
    {
      "cell_type": "code",
      "execution_count": null,
      "id": "80854046",
      "metadata": {
        "id": "80854046",
        "outputId": "c1fe8338-46d3-4821-c633-72225fb5a83f",
        "colab": {
          "base_uri": "https://localhost:8080/"
        }
      },
      "outputs": [
        {
          "output_type": "execute_result",
          "data": {
            "text/plain": [
              "['Master_mpagospesos',\n",
              " 'Master_mconsumospesos',\n",
              " 'Master_mconsumosdolares',\n",
              " 'Master_madelantopesos',\n",
              " 'Master_madelantodolares',\n",
              " 'Master_mpagosdolares',\n",
              " 'Master_mconsumototal']"
            ]
          },
          "metadata": {},
          "execution_count": 22
        }
      ],
      "source": [
        "# Se proceden a eliminar aquellas columnas con más del %15 de los datos nulos\n",
        "columnas_nulas = []\n",
        "\n",
        "for i in range(len(pct_nulos)):\n",
        "    if pct_nulos.iloc[i] > 15:\n",
        "        columnas_nulas.append(pct_nulos.index[i])\n",
        "\n",
        "columnas_nulas"
      ]
    },
    {
      "cell_type": "code",
      "execution_count": null,
      "id": "9d20faf2",
      "metadata": {
        "id": "9d20faf2"
      },
      "outputs": [],
      "source": [
        "df2 = df2.drop(columnas_nulas, axis = 1)"
      ]
    },
    {
      "cell_type": "markdown",
      "id": "3879770c",
      "metadata": {
        "id": "3879770c"
      },
      "source": [
        "#### b. Eliminación cuando una fila tiene más de la mitad de su valores nulos"
      ]
    },
    {
      "cell_type": "code",
      "execution_count": null,
      "id": "5bd5168b",
      "metadata": {
        "id": "5bd5168b",
        "outputId": "63fc87e1-b207-41fb-8c1c-3237a9c0a1d5",
        "colab": {
          "base_uri": "https://localhost:8080/"
        }
      },
      "outputs": [
        {
          "output_type": "execute_result",
          "data": {
            "text/plain": [
              "(184539, 146)"
            ]
          },
          "metadata": {},
          "execution_count": 24
        }
      ],
      "source": [
        "df2.shape"
      ]
    },
    {
      "cell_type": "code",
      "execution_count": null,
      "id": "c3bf044b",
      "metadata": {
        "id": "c3bf044b",
        "outputId": "33ba31c0-080a-4f0c-ba55-242785cfcd2f",
        "colab": {
          "base_uri": "https://localhost:8080/"
        }
      },
      "outputs": [
        {
          "output_type": "execute_result",
          "data": {
            "text/plain": [
              "Master_msaldopesos              25757\n",
              "Master_msaldodolares            25757\n",
              "Master_mlimitecompra            25757\n",
              "Master_mpagado                  25757\n",
              "Master_mfinanciacion_limite     25757\n",
              "                                ...  \n",
              "mtitulos                            0\n",
              "tseguro_vida_mercado_abierto        0\n",
              "tseguro_auto                        0\n",
              "tseguro_vivienda                    0\n",
              "tdescubierto_preacordado            0\n",
              "Length: 146, dtype: int64"
            ]
          },
          "metadata": {},
          "execution_count": 25
        }
      ],
      "source": [
        "df2.isna().sum().sort_values(ascending = False)"
      ]
    },
    {
      "cell_type": "code",
      "execution_count": null,
      "id": "52a45b1a",
      "metadata": {
        "id": "52a45b1a"
      },
      "outputs": [],
      "source": [
        "df2 = df2.dropna(axis = 0, thresh = 77)"
      ]
    },
    {
      "cell_type": "code",
      "execution_count": null,
      "id": "de615a2f",
      "metadata": {
        "id": "de615a2f",
        "outputId": "2233d761-18c7-4f31-b5eb-215442fbf6b6",
        "colab": {
          "base_uri": "https://localhost:8080/"
        }
      },
      "outputs": [
        {
          "output_type": "execute_result",
          "data": {
            "text/plain": [
              "Master_msaldopesos              25757\n",
              "Master_msaldodolares            25757\n",
              "Master_mlimitecompra            25757\n",
              "Master_mpagado                  25757\n",
              "Master_mfinanciacion_limite     25757\n",
              "                                ...  \n",
              "mtitulos                            0\n",
              "tseguro_vida_mercado_abierto        0\n",
              "tseguro_auto                        0\n",
              "tseguro_vivienda                    0\n",
              "tdescubierto_preacordado            0\n",
              "Length: 146, dtype: int64"
            ]
          },
          "metadata": {},
          "execution_count": 27
        }
      ],
      "source": [
        "df2.isna().sum().sort_values(ascending = False)"
      ]
    },
    {
      "cell_type": "markdown",
      "id": "6e43f422",
      "metadata": {
        "id": "6e43f422"
      },
      "source": [
        "`Aclaración` si bien no hubieron registros con más del 50% de los valores nulos, nos pareció importante que conste esta comprobación"
      ]
    },
    {
      "cell_type": "markdown",
      "id": "6dc991b7",
      "metadata": {
        "id": "6dc991b7"
      },
      "source": [
        "#### c. Columnas object: reemplazo por la moda"
      ]
    },
    {
      "cell_type": "code",
      "execution_count": null,
      "id": "311709a4",
      "metadata": {
        "id": "311709a4"
      },
      "outputs": [],
      "source": [
        "# Tomamos todas las listas con los nombres de las columnas con datos categóricos\n",
        "col_categoricas = tres_categoricas + str_a_01 + str_con_nulos1"
      ]
    },
    {
      "cell_type": "code",
      "execution_count": null,
      "id": "b5a80105",
      "metadata": {
        "id": "b5a80105",
        "outputId": "93a89f41-f961-4fca-ad72-bfcc72f0c585",
        "colab": {
          "base_uri": "https://localhost:8080/"
        }
      },
      "outputs": [
        {
          "output_type": "stream",
          "name": "stdout",
          "text": [
            "cliente_vip \n",
            " [0 1] \n",
            "\n",
            "cliente_sucursal \n",
            " [   2   17   20   29   32   41   44   47   50   59   62   68   71   74\n",
            "   77   80   89   95   98  101  104  107  110  113  116  119  125  128\n",
            "  131  134  137  143  146  149  152  155  158  161  164  167  170  173\n",
            "  176  179  182  185  194  200  203  206  209  215  218  221  224  227\n",
            "  230  233  236  239  245  248  254  257  260  263  266  269  272  275\n",
            "  281  284  287  293  299  302  305  308  314  323  326  329  332  338\n",
            "  344  347  350  353  356  359  362  365  371  374  377  380  383  392\n",
            "  395  398  401  407  422  425  434  440  443  446  449  452  455  458\n",
            "  461  464  467  470  473  476  479  488  491  494  497  500  503  506\n",
            "  509  512  518  521  524  527  530  536  539  542  545  548  557  560\n",
            "  563  566  572  575  578  581  584  587  590  593  599  605  611  614\n",
            "  617  620  623  626  629  632  638  650  653  656  665  668  677  680\n",
            "  689  692  701  713  728  737  740  743  752  755  758  761  764  767\n",
            "  770  782  785  788  794  797  800  803  806  812  818  821  833  842\n",
            "  845  848  857  860  878  887  890  893  938  941  944  965  980  983\n",
            "  998 1004 1076 1079 1082 1085 1088 1091 1094 1097 1100 1103 1106 1109\n",
            " 1112 1115 1118 1121 1124 1127 1130 1133 1136 1139 1142 1145 1148 1151\n",
            " 1154 1157 1160 1163 1166 1169 1172 1175 1178 1181 1184 1187 1190 1193\n",
            " 1196 1199 1202 1205 1208 1211 1214 1217 1220 1223 1226 1232 1235 1238\n",
            " 1241 1244 1247 1250 1253 1256 1259 1262 1265 1268 1271 1274 1277 1280\n",
            " 1283 1286 1289 1292 1295 1298 1301 1304 1307 1310 1313 1316 1319 1322\n",
            " 1325 1328 1331 1334 1337 1340 1343 1346 1349 1352 1355 1358 1361 1364\n",
            " 1367 1370 1373 1376 1379 1382 1385 1388 1391 1394 1397 1400 1403 1409\n",
            " 1412 1415 1418 1421 1424 1427 1430 1433 1436 1439 1442 1445 1448 1451\n",
            " 1454 1457 1460 1466 1472 1475 1478 1490] \n",
            "\n",
            "marketing_coss_selling \n",
            " [ 1  2  3  4  5  6  7  8  9 10 11 12 13 14 15 16 17 18 19 20] \n",
            "\n",
            "tpaquete2 \n",
            " [0 1] \n",
            "\n",
            "tpaquete4 \n",
            " [0 1] \n",
            "\n",
            "tpaquete6 \n",
            " [0 1] \n",
            "\n",
            "tpaquete7 \n",
            " [0 1] \n",
            "\n",
            "tpaquete9 \n",
            " [0 1] \n",
            "\n",
            "tcuentas \n",
            " [0 1] \n",
            "\n",
            "tcuenta_corriente \n",
            " [0 1] \n",
            "\n",
            "tcaja_ahorro \n",
            " [0 1] \n",
            "\n",
            "ttarjeta_debito \n",
            " [0 1] \n",
            "\n",
            "ttarjeta_visa \n",
            " [0 1] \n",
            "\n",
            "ttarjeta_master \n",
            " [0 1] \n",
            "\n",
            "tplazo_fijo \n",
            " [0 1] \n",
            "\n",
            "tfondos_comunes_inversion \n",
            " [0 1] \n",
            "\n",
            "ttitulos \n",
            " [0 1] \n",
            "\n",
            "tseguro_vida_mercado_abierto \n",
            " [0 1] \n",
            "\n",
            "tseguro_auto \n",
            " [0 1] \n",
            "\n",
            "tseguro_vivienda \n",
            " [0 1] \n",
            "\n",
            "tseguro_accidentes_personales \n",
            " [0 1] \n",
            "\n",
            "tcaja_seguridad \n",
            " [0 1] \n",
            "\n",
            "tplan_sueldo \n",
            " [0 1] \n",
            "\n",
            "tcuenta_debitos_automaticos \n",
            " [0 1] \n",
            "\n",
            "ttarjeta_visa_debitos_automatico \n",
            " [0 1] \n",
            "\n",
            "ttarjeta_master_debitos_automati \n",
            " [0 1] \n",
            "\n",
            "tpagodeservicios \n",
            " [0 1] \n",
            "\n",
            "tpagomiscuentas \n",
            " [0 1] \n",
            "\n",
            "tcambio_monedas \n",
            " [0 1] \n",
            "\n",
            "tcallcenter \n",
            " [0 1] \n",
            "\n",
            "thomebanking \n",
            " [0 1] \n",
            "\n",
            "tautoservicio \n",
            " [0 1] \n",
            "\n",
            "tcajas \n",
            " [0 1] \n",
            "\n",
            "tcajas_depositos \n",
            " [0 1] \n",
            "\n",
            "tcajas_extracciones \n",
            " [0 1] \n",
            "\n",
            "tcajas_otras \n",
            " [0 1] \n",
            "\n",
            "tmovimientos_ultimos90dias \n",
            " [0 1] \n",
            "\n",
            "Master_tconsumos \n",
            " [0 1] \n",
            "\n",
            "Master_tadelantosefectivo \n",
            " [0 1] \n",
            "\n",
            "Visa_tconsumos \n",
            " [0 1] \n",
            "\n",
            "Visa_tadelantosefectivo \n",
            " [0 1] \n",
            "\n",
            "tdescubierto_preacordado \n",
            " [0 1] \n",
            "\n",
            "marketing_activo_ultimos90dias \n",
            " [0. 1.] \n",
            "\n",
            "Master_marca_atraso \n",
            " [ 0.  1. nan] \n",
            "\n",
            "Visa_marca_atraso \n",
            " [ 0.  1. nan] \n",
            "\n",
            "Visa_cuenta_estado \n",
            " [10. 11. 12. 19. nan] \n",
            "\n",
            "Master_cuenta_estado \n",
            " [10. 11. 12. 19. nan] \n",
            "\n"
          ]
        }
      ],
      "source": [
        "unique_values(df2[col_categoricas])"
      ]
    },
    {
      "cell_type": "code",
      "execution_count": null,
      "id": "f7d2c298",
      "metadata": {
        "id": "f7d2c298",
        "outputId": "9b1d141f-69d6-4411-8110-137ebbba5dd8",
        "colab": {
          "base_uri": "https://localhost:8080/"
        }
      },
      "outputs": [
        {
          "output_type": "execute_result",
          "data": {
            "text/plain": [
              "Master_cuenta_estado    25757\n",
              "Master_marca_atraso     25757\n",
              "Visa_cuenta_estado      10798\n",
              "Visa_marca_atraso       10798\n",
              "tcajas_extracciones         0\n",
              "dtype: int64"
            ]
          },
          "metadata": {},
          "execution_count": 30
        }
      ],
      "source": [
        "# Visualizamos las columnas con valores nulos\n",
        "df2[col_categoricas].isna().sum().sort_values(ascending = False).head(5)"
      ]
    },
    {
      "cell_type": "code",
      "execution_count": null,
      "id": "cacab6bf",
      "metadata": {
        "id": "cacab6bf"
      },
      "outputs": [],
      "source": [
        "# Eliminamos los valores nulos por la moda\n",
        "for i in col_categoricas:\n",
        "    df2[i] = df2[i].replace({np.nan: df2[i].mode()[0]})"
      ]
    },
    {
      "cell_type": "code",
      "execution_count": null,
      "id": "b10dfa4c",
      "metadata": {
        "id": "b10dfa4c",
        "outputId": "a3b54fb8-4f45-4b32-d84b-9f6f69b57a9c",
        "colab": {
          "base_uri": "https://localhost:8080/"
        }
      },
      "outputs": [
        {
          "output_type": "execute_result",
          "data": {
            "text/plain": [
              "cliente_vip         0\n",
              "tcajas_otras        0\n",
              "tpagodeservicios    0\n",
              "tpagomiscuentas     0\n",
              "tcambio_monedas     0\n",
              "dtype: int64"
            ]
          },
          "metadata": {},
          "execution_count": 32
        }
      ],
      "source": [
        "# Comprobamos que no quedan valores nulos\n",
        "df2[col_categoricas].isna().sum().sort_values(ascending = False).head(5)"
      ]
    },
    {
      "cell_type": "markdown",
      "id": "25abbaf5",
      "metadata": {
        "id": "25abbaf5"
      },
      "source": [
        "#### d. Columnas num: reemplazo por la media/mediana"
      ]
    },
    {
      "cell_type": "code",
      "execution_count": null,
      "id": "4eccf43a",
      "metadata": {
        "id": "4eccf43a"
      },
      "outputs": [],
      "source": [
        "# Generamos una lista con las listas de nombres de columnas con valores numéricos hechas previamente\n",
        "col_numericas = num_con_nulos + num_sin_nulos"
      ]
    },
    {
      "cell_type": "code",
      "execution_count": null,
      "id": "830051b2",
      "metadata": {
        "id": "830051b2"
      },
      "outputs": [],
      "source": [
        "# Eliminamos los nombres de columnas nulas agrupadas en una lista previa de la lista col_numéricas \n",
        "for i in columnas_nulas:\n",
        "    col_numericas.remove(i)"
      ]
    },
    {
      "cell_type": "code",
      "execution_count": null,
      "id": "aba5d969",
      "metadata": {
        "id": "aba5d969",
        "outputId": "3299fa44-ba7b-452f-b24b-712b0258e5f2",
        "colab": {
          "base_uri": "https://localhost:8080/"
        }
      },
      "outputs": [
        {
          "output_type": "execute_result",
          "data": {
            "text/plain": [
              "Master_mlimitecompra           25757\n",
              "Master_mpagominimo             25757\n",
              "Master_msaldodolares           25757\n",
              "Master_msaldopesos             25757\n",
              "Master_mfinanciacion_limite    25757\n",
              "Master_msaldototal             25757\n",
              "Master_mpagado                 25757\n",
              "Visa_madelantodolares          21255\n",
              "Visa_mconsumospesos            21255\n",
              "Visa_mconsumosdolares          21255\n",
              "Visa_madelantopesos            21255\n",
              "Visa_mpagospesos               21255\n",
              "Visa_mpagosdolares             21255\n",
              "Visa_mconsumototal             21255\n",
              "Visa_mpagado                   10798\n",
              "Visa_mlimitecompra             10798\n",
              "Visa_msaldodolares             10798\n",
              "Visa_msaldototal               10798\n",
              "Visa_mfinanciacion_limite      10798\n",
              "Visa_mpagominimo               10798\n",
              "Visa_msaldopesos               10798\n",
              "mprestamos_hipotecarios          390\n",
              "mextraccion_autoservicio           0\n",
              "cextraccion_autoservicio           0\n",
              "Unnamed: 0                         0\n",
              "ccheques_depositados               0\n",
              "mcheques_depositados               0\n",
              "ccheques_emitidos                  0\n",
              "dtype: int64"
            ]
          },
          "metadata": {},
          "execution_count": 35
        }
      ],
      "source": [
        "# Visualizamos las columnas con valores nulos\n",
        "df2.isna().sum().sort_values(ascending = False).head(28)"
      ]
    },
    {
      "cell_type": "code",
      "execution_count": null,
      "id": "aac1550a",
      "metadata": {
        "id": "aac1550a"
      },
      "outputs": [],
      "source": [
        "# Eliminamos los valores nulos por la mediana\n",
        "for i in col_numericas:\n",
        "    df2[i] = df2[i].replace({np.nan: df2[i].median()})"
      ]
    },
    {
      "cell_type": "code",
      "execution_count": null,
      "id": "c4fd9ed9",
      "metadata": {
        "id": "c4fd9ed9",
        "outputId": "2084b684-ca84-45a7-d743-b3a547ff5bdb",
        "colab": {
          "base_uri": "https://localhost:8080/"
        }
      },
      "outputs": [
        {
          "output_type": "execute_result",
          "data": {
            "text/plain": [
              "count    184539.000000\n",
              "mean         42.748915\n",
              "std          18.045953\n",
              "min           0.000000\n",
              "25%          35.000000\n",
              "50%          44.000000\n",
              "75%          55.000000\n",
              "max         108.000000\n",
              "Name: cliente_edad, dtype: float64"
            ]
          },
          "metadata": {},
          "execution_count": 37
        }
      ],
      "source": [
        "df2['cliente_edad'].describe()"
      ]
    },
    {
      "cell_type": "code",
      "execution_count": null,
      "id": "aaaecc87",
      "metadata": {
        "id": "aaaecc87"
      },
      "outputs": [],
      "source": [
        "df2['cliente_edad'] = df2['cliente_edad'].replace({0: df2['cliente_edad'].median()})"
      ]
    },
    {
      "cell_type": "code",
      "execution_count": null,
      "id": "6b5614fa",
      "metadata": {
        "id": "6b5614fa",
        "outputId": "bfd610b8-0ca4-4e78-d64d-58c3543f6c2f",
        "colab": {
          "base_uri": "https://localhost:8080/"
        }
      },
      "outputs": [
        {
          "output_type": "execute_result",
          "data": {
            "text/plain": [
              "count    184539.000000\n",
              "mean         46.855429\n",
              "std          11.763526\n",
              "min          18.000000\n",
              "25%          38.000000\n",
              "50%          44.000000\n",
              "75%          55.000000\n",
              "max         108.000000\n",
              "Name: cliente_edad, dtype: float64"
            ]
          },
          "metadata": {},
          "execution_count": 39
        }
      ],
      "source": [
        "df2['cliente_edad'].describe()"
      ]
    },
    {
      "cell_type": "code",
      "execution_count": null,
      "id": "9f587dc1",
      "metadata": {
        "id": "9f587dc1",
        "outputId": "273a195f-b3e3-4462-d74d-7baecfa4adda",
        "colab": {
          "base_uri": "https://localhost:8080/"
        }
      },
      "outputs": [
        {
          "output_type": "execute_result",
          "data": {
            "text/plain": [
              "Unnamed: 0                         0\n",
              "ccajeros_propio_transacciones      0\n",
              "ccheques_emitidos                  0\n",
              "mcheques_emitidos                  0\n",
              "ccheques_depositados_rechazados    0\n",
              "dtype: int64"
            ]
          },
          "metadata": {},
          "execution_count": 40
        }
      ],
      "source": [
        "# Comprobamos que no quedan valores nulos\n",
        "df2.isna().sum().sort_values(ascending = False).head(5)"
      ]
    },
    {
      "cell_type": "code",
      "execution_count": null,
      "id": "fac6ccb0",
      "metadata": {
        "id": "fac6ccb0",
        "outputId": "02fd2889-abc7-4d9d-dd19-68b50b2336dc",
        "colab": {
          "base_uri": "https://localhost:8080/"
        }
      },
      "outputs": [
        {
          "output_type": "execute_result",
          "data": {
            "text/plain": [
              "0"
            ]
          },
          "metadata": {},
          "execution_count": 41
        }
      ],
      "source": [
        "# Comprobación final\n",
        "df2.isna().sum().sum()"
      ]
    },
    {
      "cell_type": "markdown",
      "id": "1ffa78a2",
      "metadata": {
        "id": "1ffa78a2"
      },
      "source": [
        "## 3.4 Creamos Variables"
      ]
    },
    {
      "cell_type": "code",
      "execution_count": null,
      "id": "fc585379",
      "metadata": {
        "id": "fc585379"
      },
      "outputs": [],
      "source": [
        "df3 = df2.copy()"
      ]
    },
    {
      "cell_type": "code",
      "execution_count": null,
      "id": "b3c1f401",
      "metadata": {
        "id": "b3c1f401",
        "outputId": "86022b00-6003-48fc-89a2-6ca35c0a5221",
        "colab": {
          "base_uri": "https://localhost:8080/"
        }
      },
      "outputs": [
        {
          "output_type": "execute_result",
          "data": {
            "text/plain": [
              "Index(['Unnamed: 0', 'numero_de_cliente', 'marketing_activo_ultimos90dias',\n",
              "       'cliente_vip', 'cliente_sucursal', 'cliente_edad', 'cliente_antiguedad',\n",
              "       'mrentabilidad', 'mrentabilidad_annual', 'mcomisiones',\n",
              "       ...\n",
              "       'Visa_mpagado', 'Visa_mpagospesos', 'Visa_mpagosdolares',\n",
              "       'Visa_mconsumototal', 'Visa_tconsumos', 'Visa_tadelantosefectivo',\n",
              "       'Visa_mpagominimo', 'target', 'target_bin', 'tdescubierto_preacordado'],\n",
              "      dtype='object', length=146)"
            ]
          },
          "metadata": {},
          "execution_count": 43
        }
      ],
      "source": [
        "df3.columns"
      ]
    },
    {
      "cell_type": "code",
      "execution_count": null,
      "id": "284b9807",
      "metadata": {
        "id": "284b9807",
        "outputId": "68e7f018-3d26-4a15-ed14-adb1e4ddd4dd",
        "colab": {
          "base_uri": "https://localhost:8080/"
        }
      },
      "outputs": [
        {
          "output_type": "execute_result",
          "data": {
            "text/plain": [
              "146"
            ]
          },
          "metadata": {},
          "execution_count": 44
        }
      ],
      "source": [
        "len(df3.columns)"
      ]
    },
    {
      "cell_type": "markdown",
      "id": "37b9a0b8",
      "metadata": {
        "id": "37b9a0b8"
      },
      "source": [
        "Analizamos todas las variables con el objetivo de UNIFICAR/CREAR variables"
      ]
    },
    {
      "cell_type": "code",
      "execution_count": null,
      "id": "1701d1a7",
      "metadata": {
        "scrolled": false,
        "id": "1701d1a7",
        "outputId": "d15e8953-38f8-4fc7-92f6-105308d4b58c",
        "colab": {
          "base_uri": "https://localhost:8080/"
        }
      },
      "outputs": [
        {
          "output_type": "execute_result",
          "data": {
            "text/plain": [
              "['Unnamed: 0',\n",
              " 'numero_de_cliente',\n",
              " 'marketing_activo_ultimos90dias',\n",
              " 'cliente_vip',\n",
              " 'cliente_sucursal',\n",
              " 'cliente_edad',\n",
              " 'cliente_antiguedad',\n",
              " 'mrentabilidad',\n",
              " 'mrentabilidad_annual',\n",
              " 'mcomisiones',\n",
              " 'mactivos_margen',\n",
              " 'mpasivos_margen',\n",
              " 'marketing_coss_selling',\n",
              " 'tpaquete2',\n",
              " 'tpaquete4',\n",
              " 'tpaquete6',\n",
              " 'tpaquete7',\n",
              " 'tpaquete9',\n",
              " 'tcuentas',\n",
              " 'tcuenta_corriente',\n",
              " 'mcuenta_corriente_Nopaquete',\n",
              " 'mcuenta_corriente_Paquete',\n",
              " 'tcaja_ahorro',\n",
              " 'mcaja_ahorro_Paquete',\n",
              " 'mcaja_ahorro_Nopaquete',\n",
              " 'mcaja_ahorro_dolares',\n",
              " 'mdescubierto_preacordado',\n",
              " 'mcuentas_saldo',\n",
              " 'ttarjeta_debito',\n",
              " 'ctarjeta_debito_transacciones',\n",
              " 'mautoservicio',\n",
              " 'ttarjeta_visa',\n",
              " 'ctarjeta_visa_transacciones',\n",
              " 'mtarjeta_visa_consumo',\n",
              " 'ttarjeta_master',\n",
              " 'ctarjeta_master_transacciones',\n",
              " 'mtarjeta_master_consumo',\n",
              " 'cprestamos_personales',\n",
              " 'mprestamos_personales',\n",
              " 'cprestamos_prendarios',\n",
              " 'mprestamos_prendarios',\n",
              " 'cprestamos_hipotecarios',\n",
              " 'mprestamos_hipotecarios',\n",
              " 'tplazo_fijo',\n",
              " 'mplazo_fijo_dolares',\n",
              " 'mplazo_fijo_pesos',\n",
              " 'tfondos_comunes_inversion',\n",
              " 'mfondos_comunes_inversion_pesos',\n",
              " 'mfondos_comunes_inversion_dolare',\n",
              " 'ttitulos',\n",
              " 'mtitulos',\n",
              " 'tseguro_vida_mercado_abierto',\n",
              " 'tseguro_auto',\n",
              " 'tseguro_vivienda',\n",
              " 'tseguro_accidentes_personales',\n",
              " 'tcaja_seguridad',\n",
              " 'tplan_sueldo',\n",
              " 'mplan_sueldo',\n",
              " 'mplan_sueldo_manual',\n",
              " 'cplan_sueldo_transaccion',\n",
              " 'tcuenta_debitos_automaticos',\n",
              " 'mcuenta_debitos_automaticos',\n",
              " 'ttarjeta_visa_debitos_automatico',\n",
              " 'mttarjeta_visa_debitos_automatic',\n",
              " 'ttarjeta_master_debitos_automati',\n",
              " 'mttarjeta_master_debitos_automat',\n",
              " 'tpagodeservicios',\n",
              " 'mpagodeservicios',\n",
              " 'tpagomiscuentas',\n",
              " 'mpagomiscuentas',\n",
              " 'ccajeros_propios_descuentos',\n",
              " 'mcajeros_propios_descuentos',\n",
              " 'ctarjeta_visa_descuentos',\n",
              " 'mtarjeta_visa_descuentos',\n",
              " 'ctarjeta_master_descuentos',\n",
              " 'mtarjeta_master_descuentos',\n",
              " 'ccomisiones_mantenimiento',\n",
              " 'mcomisiones_mantenimiento',\n",
              " 'ccomisiones_otras',\n",
              " 'mcomisiones_otras',\n",
              " 'tcambio_monedas',\n",
              " 'ccambio_monedas_compra',\n",
              " 'mcambio_monedas_compra',\n",
              " 'ccambio_monedas_venta',\n",
              " 'mcambio_monedas_venta',\n",
              " 'ctransferencias_recibidas',\n",
              " 'mtransferencias_recibidas',\n",
              " 'ctransferencias_emitidas',\n",
              " 'mtransferencias_emitidas',\n",
              " 'cextraccion_autoservicio',\n",
              " 'mextraccion_autoservicio',\n",
              " 'ccheques_depositados',\n",
              " 'mcheques_depositados',\n",
              " 'ccheques_emitidos',\n",
              " 'mcheques_emitidos',\n",
              " 'ccheques_depositados_rechazados',\n",
              " 'mcheques_depositados_rechazados',\n",
              " 'ccheques_emitidos_rechazados',\n",
              " 'mcheques_emitidos_rechazados',\n",
              " 'tcallcenter',\n",
              " 'ccallcenter_transacciones',\n",
              " 'thomebanking',\n",
              " 'chomebanking_transacciones',\n",
              " 'tautoservicio',\n",
              " 'cautoservicio_transacciones',\n",
              " 'tcajas',\n",
              " 'tcajas_depositos',\n",
              " 'tcajas_extracciones',\n",
              " 'tcajas_otras',\n",
              " 'ccajeros_propio_transacciones',\n",
              " 'mcajeros_propio',\n",
              " 'ccajeros_ajenos_transacciones',\n",
              " 'mcajeros_ajenos',\n",
              " 'tmovimientos_ultimos90dias',\n",
              " 'Master_marca_atraso',\n",
              " 'Master_cuenta_estado',\n",
              " 'Master_mfinanciacion_limite',\n",
              " 'Master_msaldototal',\n",
              " 'Master_msaldopesos',\n",
              " 'Master_msaldodolares',\n",
              " 'Master_mlimitecompra',\n",
              " 'Master_mpagado',\n",
              " 'Master_tconsumos',\n",
              " 'Master_tadelantosefectivo',\n",
              " 'Master_mpagominimo',\n",
              " 'Visa_marca_atraso',\n",
              " 'Visa_cuenta_estado',\n",
              " 'Visa_mfinanciacion_limite',\n",
              " 'Visa_msaldototal',\n",
              " 'Visa_msaldopesos',\n",
              " 'Visa_msaldodolares',\n",
              " 'Visa_mconsumospesos',\n",
              " 'Visa_mconsumosdolares',\n",
              " 'Visa_mlimitecompra',\n",
              " 'Visa_madelantopesos',\n",
              " 'Visa_madelantodolares',\n",
              " 'Visa_mpagado',\n",
              " 'Visa_mpagospesos',\n",
              " 'Visa_mpagosdolares',\n",
              " 'Visa_mconsumototal',\n",
              " 'Visa_tconsumos',\n",
              " 'Visa_tadelantosefectivo',\n",
              " 'Visa_mpagominimo',\n",
              " 'target',\n",
              " 'target_bin',\n",
              " 'tdescubierto_preacordado']"
            ]
          },
          "metadata": {},
          "execution_count": 45
        }
      ],
      "source": [
        "list(df3.columns)"
      ]
    },
    {
      "cell_type": "code",
      "execution_count": null,
      "id": "c4c927dd",
      "metadata": {
        "id": "c4c927dd"
      },
      "outputs": [],
      "source": [
        "# Unificamos Campos de Caja de Ahorro y Cuenta corriente a sus totales \n",
        "\n",
        "df3[\"mcuenta_corriente_all\"] = df3[\"mcuenta_corriente_Paquete\"] + df3[\"mcuenta_corriente_Nopaquete\"]\n",
        "df3[\"mcaja_ahorro_all\"] = df3[\"mcaja_ahorro_Paquete\"] + df3[\"mcaja_ahorro_Nopaquete\"]\n",
        "df3[\"mcaja_ahorro_CC\"] = df3[\"mcaja_ahorro_all\"] + df3[\"mcuenta_corriente_all\"]"
      ]
    },
    {
      "cell_type": "code",
      "execution_count": null,
      "id": "5753b903",
      "metadata": {
        "id": "5753b903"
      },
      "outputs": [],
      "source": [
        "# Genero el drop\n",
        "\n",
        "drop_1 = [\"mcuenta_corriente_Paquete\", \"mcuenta_corriente_Nopaquete\", \"mcaja_ahorro_Paquete\", \"mcaja_ahorro_Nopaquete\", \"mcaja_ahorro_all\", \"mcuenta_corriente_all\"]\n",
        "df3 = df3.drop(drop_1, axis = 1)"
      ]
    },
    {
      "cell_type": "code",
      "execution_count": null,
      "id": "84059a0c",
      "metadata": {
        "id": "84059a0c"
      },
      "outputs": [],
      "source": [
        "# Unificamos Campos de Consumo y Transacciones a sus totales \n",
        "\n",
        "df3[\"mtarjeta_all_consumo\"] = df3[\"mtarjeta_visa_consumo\"] + df3[\"mtarjeta_master_consumo\"]\n",
        "df3[\"ctarjeta_all_transacciones\"] = df3[\"ctarjeta_visa_transacciones\"] + df3[\"ctarjeta_master_transacciones\"] + df3[\"ctarjeta_debito_transacciones\"]"
      ]
    },
    {
      "cell_type": "code",
      "execution_count": null,
      "id": "4cfe81b5",
      "metadata": {
        "id": "4cfe81b5"
      },
      "outputs": [],
      "source": [
        "# Genero el drop\n",
        "\n",
        "drop_2 = [\"mtarjeta_visa_consumo\", \"mtarjeta_master_consumo\", \"ctarjeta_visa_transacciones\", \"ctarjeta_master_transacciones\"]\n",
        "df3 = df3.drop(drop_2, axis = 1) "
      ]
    },
    {
      "cell_type": "code",
      "execution_count": null,
      "id": "1de948c6",
      "metadata": {
        "id": "1de948c6"
      },
      "outputs": [],
      "source": [
        "# Unificamos Campos de Prestamos a sus totales \n",
        "\n",
        "df3[\"cprestamos_all\"] = df3[\"cprestamos_personales\"] + df3[\"cprestamos_prendarios\"] + df3[\"cprestamos_hipotecarios\"]\n",
        "df3[\"mprestamos_all\"] = df3[\"mprestamos_personales\"] + df3[\"mprestamos_prendarios\"] + df3[\"mprestamos_hipotecarios\"]"
      ]
    },
    {
      "cell_type": "code",
      "execution_count": null,
      "id": "5c80b9dd",
      "metadata": {
        "id": "5c80b9dd"
      },
      "outputs": [],
      "source": [
        "# Genero el drop\n",
        "\n",
        "drop_3 = [\"cprestamos_personales\", \"cprestamos_prendarios\", \"cprestamos_hipotecarios\", \"mprestamos_personales\", \"mprestamos_prendarios\", \"mprestamos_hipotecarios\"]\n",
        "df3 = df3.drop(drop_3, axis = 1) "
      ]
    },
    {
      "cell_type": "code",
      "execution_count": null,
      "id": "3bf8ca52",
      "metadata": {
        "id": "3bf8ca52"
      },
      "outputs": [],
      "source": [
        "# Poner algún título\n",
        "\n",
        "df3[\"renta_dolar\"] = df3[\"mplazo_fijo_dolares\"] + df3[\"mfondos_comunes_inversion_dolare\"]\n",
        "df3[\"renta_pesos\"] = df3[\"mplazo_fijo_pesos\"] + df3[\"mfondos_comunes_inversion_pesos\"] + df3[\"mtitulos\"]"
      ]
    },
    {
      "cell_type": "code",
      "execution_count": null,
      "id": "ced59653",
      "metadata": {
        "id": "ced59653"
      },
      "outputs": [],
      "source": [
        "# Genero el drop\n",
        "\n",
        "drop_4 = [\"mplazo_fijo_dolares\", \"mfondos_comunes_inversion_dolare\", \"mplazo_fijo_pesos\", \"mfondos_comunes_inversion_pesos\", \"mtitulos\"]\n",
        "df3 = df3.drop(drop_4, axis = 1) "
      ]
    },
    {
      "cell_type": "code",
      "execution_count": null,
      "id": "fde45248",
      "metadata": {
        "id": "fde45248"
      },
      "outputs": [],
      "source": [
        "# Se unifica como \"tpaquete\"\n",
        "# Si tiene algún paquete se pone un \"1\". Sino tiene ningún paquete se pone un 0\n",
        "\n",
        "df3[\"tpaquete\"] = np.where(df3[[\"tpaquete2\", \"tpaquete4\", \"tpaquete6\", \"tpaquete7\", \"tpaquete9\"]].sum(axis = 1) != 0, 1, 0)"
      ]
    },
    {
      "cell_type": "code",
      "execution_count": null,
      "id": "ae0bafd1",
      "metadata": {
        "id": "ae0bafd1"
      },
      "outputs": [],
      "source": [
        "# Genero el drop\n",
        "\n",
        "drop_5 = [\"tpaquete2\", \"tpaquete4\", \"tpaquete6\", \"tpaquete7\", \"tpaquete9\"]\n",
        "df3 = df3.drop(drop_5, axis = 1) "
      ]
    },
    {
      "cell_type": "code",
      "execution_count": null,
      "id": "3742c67f",
      "metadata": {
        "id": "3742c67f"
      },
      "outputs": [],
      "source": [
        "# Se unifica como \"tcuenta\"\n",
        "# Al igual que con la variable \"tpaquete generada arriba\"\n",
        "\n",
        "df3[\"tcuenta\"] = np.where(df3[[\"tcuentas\", \"tcuenta_corriente\", \"tcaja_ahorro\"]].sum(axis = 1) != 0, 1, 0)"
      ]
    },
    {
      "cell_type": "code",
      "execution_count": null,
      "id": "4b53ade0",
      "metadata": {
        "id": "4b53ade0"
      },
      "outputs": [],
      "source": [
        "# Genero el drop\n",
        "\n",
        "drop_6 = [\"tcuentas\", \"tcuenta_corriente\", \"tcaja_ahorro\"]\n",
        "df3 = df3.drop(drop_6, axis = 1) "
      ]
    },
    {
      "cell_type": "code",
      "execution_count": null,
      "id": "61596ba7",
      "metadata": {
        "id": "61596ba7"
      },
      "outputs": [],
      "source": [
        "# Se unifica como \"trenta\"\n",
        "# Al igual que con la variable \"tcuenta\" generada arriba\n",
        "\n",
        "df3[\"trenta\"] = np.where(df3[[\"tplazo_fijo\", \"tfondos_comunes_inversion\", \"ttitulos\"]].sum(axis = 1) != 0, 1, 0)"
      ]
    },
    {
      "cell_type": "code",
      "execution_count": null,
      "id": "b8accd7c",
      "metadata": {
        "id": "b8accd7c"
      },
      "outputs": [],
      "source": [
        "# Genero el drop\n",
        "\n",
        "drop_7 = [\"tplazo_fijo\", \"tfondos_comunes_inversion\", \"ttitulos\"]\n",
        "df3 = df3.drop(drop_7, axis = 1) "
      ]
    },
    {
      "cell_type": "code",
      "execution_count": null,
      "id": "5763aaae",
      "metadata": {
        "id": "5763aaae"
      },
      "outputs": [],
      "source": [
        "# Se unifica como \"tseguro\"\n",
        "# Al igual que con la variable \"trenta\" generada arriba\n",
        "\n",
        "df3[\"tseguro\"] = np.where(df3[[\"tseguro_vida_mercado_abierto\", \"tseguro_auto\", \"tseguro_vivienda\", \"tseguro_accidentes_personales\"]].sum(axis = 1) != 0, 1, 0)"
      ]
    },
    {
      "cell_type": "code",
      "execution_count": null,
      "id": "d880d0fe",
      "metadata": {
        "id": "d880d0fe"
      },
      "outputs": [],
      "source": [
        "# Genero el drop\n",
        "\n",
        "drop_8 = [\"tseguro_vida_mercado_abierto\", \"tseguro_auto\", \"tseguro_vivienda\", \"tseguro_accidentes_personales\"]\n",
        "df3 = df3.drop(drop_8, axis = 1) "
      ]
    },
    {
      "cell_type": "code",
      "execution_count": null,
      "id": "86cd2107",
      "metadata": {
        "id": "86cd2107",
        "outputId": "87733358-0da5-49e4-ef3b-1c9f5c8a9831",
        "colab": {
          "base_uri": "https://localhost:8080/"
        }
      },
      "outputs": [
        {
          "output_type": "execute_result",
          "data": {
            "text/plain": [
              " 0.00         184504\n",
              " 3603.60           2\n",
              " 747.63            1\n",
              " 755974.44         1\n",
              " 4954.95           1\n",
              " 1675.44           1\n",
              " 2783.43           1\n",
              " 596.70            1\n",
              " 87890.40          1\n",
              " 23301.72          1\n",
              " 511494.75         1\n",
              " 1849.77           1\n",
              " 39948.48          1\n",
              " 1371.24           1\n",
              " 14807.52          1\n",
              " 3237.39           1\n",
              " 11502.27          1\n",
              " 1184.04           1\n",
              " 4864.86           1\n",
              "-20418.84          1\n",
              " 47779.29          1\n",
              "-6691.23           1\n",
              "-21547.89          1\n",
              " 1423.89           1\n",
              "-10803.78          1\n",
              "-5232.24           1\n",
              " 26236.08          1\n",
              " 37940.76          1\n",
              " 23023.26          1\n",
              " 17248.14          1\n",
              " 3222.18           1\n",
              " 41147.73          1\n",
              "-8223.93           1\n",
              "-7839.00           1\n",
              "-5506.02           1\n",
              "Name: mplan_sueldo_manual, dtype: int64"
            ]
          },
          "metadata": {},
          "execution_count": 62
        }
      ],
      "source": [
        "# Decidimos eliminar esta columna porque tiene baja varianza, ya que de 549.859 clientes hay 549.753 \n",
        "# que tienen un valor de 0\n",
        "\n",
        "df3[\"mplan_sueldo_manual\"].value_counts().sort_values(ascending = False)"
      ]
    },
    {
      "cell_type": "code",
      "execution_count": null,
      "id": "15ca4472",
      "metadata": {
        "id": "15ca4472"
      },
      "outputs": [],
      "source": [
        "df3 = df3.drop(\"mplan_sueldo_manual\", axis = 1)"
      ]
    },
    {
      "cell_type": "code",
      "execution_count": null,
      "id": "10511543",
      "metadata": {
        "id": "10511543"
      },
      "outputs": [],
      "source": [
        "tdebitos_automaticos = [\"tcuenta_debitos_automaticos\", \"ttarjeta_visa_debitos_automatico\", \"ttarjeta_master_debitos_automati\", \"tpagodeservicios\", \"tpagomiscuentas\"]\n",
        "df3[\"tdebitos_automaticos\"] = np.where(df3[tdebitos_automaticos].sum(axis = 1) != 0, 1, 0)"
      ]
    },
    {
      "cell_type": "code",
      "execution_count": null,
      "id": "f0062f2a",
      "metadata": {
        "id": "f0062f2a"
      },
      "outputs": [],
      "source": [
        "# Genero el drop\n",
        "\n",
        "drop_9 = [\"tcuenta_debitos_automaticos\", \"ttarjeta_visa_debitos_automatico\", \"ttarjeta_master_debitos_automati\", \"tpagodeservicios\", \"tpagomiscuentas\"]\n",
        "df3 = df3.drop(drop_9, axis = 1)"
      ]
    },
    {
      "cell_type": "code",
      "execution_count": null,
      "id": "ba533cf2",
      "metadata": {
        "id": "ba533cf2"
      },
      "outputs": [],
      "source": [
        "df3[\"mdebitos_automaticos\"] = df3[\"mcuenta_debitos_automaticos\"] + df3[\"mttarjeta_visa_debitos_automatic\"] + df3[\"mttarjeta_master_debitos_automat\"] + df3[\"mpagodeservicios\"] + df3[\"mpagomiscuentas\"] "
      ]
    },
    {
      "cell_type": "code",
      "execution_count": null,
      "id": "452ef42a",
      "metadata": {
        "id": "452ef42a"
      },
      "outputs": [],
      "source": [
        "# Genero el drop\n",
        "\n",
        "drop_10 = [\"mcuenta_debitos_automaticos\", \"mttarjeta_visa_debitos_automatic\", \"mttarjeta_master_debitos_automat\", \"mpagodeservicios\", \"mpagomiscuentas\"]\n",
        "df3 = df3.drop(drop_10, axis = 1)"
      ]
    },
    {
      "cell_type": "code",
      "execution_count": null,
      "id": "2fc5aad6",
      "metadata": {
        "id": "2fc5aad6"
      },
      "outputs": [],
      "source": [
        "# VARIABLES RELACIONADAS CON TARJETA VISA\n",
        "# LA INTENCION ES GENERAR UN HEATMAP Y ELIMINAR CORRELACIONES\n",
        "# SOLO CON VARIABLES NUMERICAS\n",
        "\n",
        "variables_visa = ['Visa_marca_atraso', 'Visa_cuenta_estado', 'Visa_mfinanciacion_limite', 'Visa_msaldototal', 'Visa_msaldopesos',\n",
        "                   'Visa_msaldodolares', 'Visa_mconsumospesos', 'Visa_mconsumosdolares', 'Visa_mlimitecompra', 'Visa_madelantopesos',\n",
        "                   'Visa_madelantodolares', 'Visa_mpagado', 'Visa_mpagospesos', 'Visa_mpagosdolares', 'Visa_mconsumototal', 'Visa_tconsumos',\n",
        "                   'Visa_tadelantosefectivo', 'Visa_mpagominimo']"
      ]
    },
    {
      "cell_type": "code",
      "execution_count": null,
      "id": "a0d3b69f",
      "metadata": {
        "id": "a0d3b69f",
        "outputId": "5f6c62ba-39ea-4fcb-8b20-81119d7f3332",
        "colab": {
          "base_uri": "https://localhost:8080/"
        }
      },
      "outputs": [
        {
          "output_type": "stream",
          "name": "stdout",
          "text": [
            "Visa_marca_atraso \n",
            " [0. 1.] \n",
            "\n",
            "Visa_cuenta_estado \n",
            " [10. 11. 12. 19.] \n",
            "\n",
            "Visa_mfinanciacion_limite \n",
            " [0.00000000e+00 3.35790000e+02 4.20030000e+02 5.04270000e+02\n",
            " 6.04890000e+02 6.14250000e+02 6.87960000e+02 7.05510000e+02\n",
            " 7.37100000e+02 7.55820000e+02 8.23680000e+02 8.84520000e+02\n",
            " 9.07920000e+02 1.05300000e+03 1.05885000e+03 1.22850000e+03\n",
            " 1.31625000e+03 1.53504000e+03 1.57950000e+03 1.84275000e+03\n",
            " 1.97379000e+03 2.10600000e+03 2.14929000e+03 2.36925000e+03\n",
            " 2.45700000e+03 2.58804000e+03 2.63250000e+03 2.76354000e+03\n",
            " 3.07125000e+03 3.15900000e+03 3.51000000e+03 3.62349000e+03\n",
            " 3.68550000e+03 3.94875000e+03 4.21200000e+03 4.29975000e+03\n",
            " 4.54896000e+03 4.73850000e+03 5.26500000e+03 5.30712000e+03\n",
            " 5.52825000e+03 6.14250000e+03 6.31800000e+03 6.63390000e+03\n",
            " 7.02000000e+03 7.18614000e+03 7.37100000e+03 7.89750000e+03\n",
            " 8.21340000e+03 8.42400000e+03 8.77500000e+03 9.47700000e+03\n",
            " 9.82800000e+03 1.02667500e+04 1.05300000e+04 1.10565000e+04\n",
            " 1.22850000e+04 1.23201000e+04 1.26360000e+04 1.40400000e+04\n",
            " 1.43734500e+04 1.47420000e+04 1.51632000e+04 1.57950000e+04\n",
            " 1.64268000e+04 1.68480000e+04 1.71990000e+04 1.75500000e+04\n",
            " 1.89540000e+04 1.96560000e+04 2.00070000e+04 2.05335000e+04\n",
            " 2.10600000e+04 2.21130000e+04 2.45700000e+04 2.46402000e+04\n",
            " 2.52720000e+04 2.68515000e+04 2.80800000e+04 2.84310000e+04\n",
            " 2.87469000e+04 2.94840000e+04 3.15900000e+04 3.26430000e+04\n",
            " 3.28536000e+04 3.36960000e+04 3.43980000e+04 3.51000000e+04\n",
            " 3.79080000e+04 3.89659800e+04 3.93120000e+04 3.94875000e+04\n",
            " 4.09617000e+04 4.10670000e+04 4.21200000e+04 4.42260000e+04\n",
            " 4.42315200e+04 4.42342800e+04 4.84380000e+04 4.91400000e+04\n",
            " 4.92804000e+04 5.05440000e+04 5.08025400e+04 5.61600000e+04\n",
            " 5.74938000e+04 5.74963000e+04 5.89680000e+04 5.92300800e+04\n",
            " 5.92374700e+04 5.92411800e+04 6.31800000e+04 6.52860000e+04\n",
            " 6.87960000e+04 7.02000000e+04 7.40469600e+04 7.40562100e+04\n",
            " 7.40608300e+04 7.58160000e+04 7.58302100e+04 7.66584000e+04\n",
            " 7.66727600e+04 7.69348900e+04 7.69953600e+04 7.70049700e+04\n",
            " 7.70097800e+04 7.86240000e+04 8.42400000e+04 8.84520000e+04\n",
            " 8.88544800e+04 8.88655800e+04 8.88711200e+04 9.60516000e+04\n",
            " 9.79290000e+04 9.82800000e+04 1.01088000e+05 1.03662000e+05\n",
            " 1.03674950e+05 1.03681430e+05 1.12320000e+05 1.14566400e+05\n",
            " 1.15009150e+05 1.15430430e+05 1.15524050e+05 1.15830000e+05\n",
            " 1.15844470e+05 1.15851710e+05 1.17936000e+05 1.26360000e+05\n",
            " 1.30588320e+05 1.37592000e+05 1.40400000e+05 1.44780480e+05\n",
            " 1.44798560e+05 1.44807620e+05 1.46016000e+05 1.48702170e+05\n",
            " 1.51632000e+05 1.68480000e+05 1.73740320e+05 1.73762030e+05\n",
            " 1.73772890e+05 1.76904000e+05 1.96560000e+05 2.02176000e+05\n",
            " 2.02700160e+05 2.02725490e+05 2.02738160e+05 2.14306560e+05\n",
            " 2.14333340e+05 2.14346730e+05 2.24640000e+05 2.52720000e+05\n",
            " 2.67883200e+05 2.67916680e+05 2.67933420e+05 2.80800000e+05\n",
            " 3.21459840e+05 3.21500010e+05 3.21520100e+05 3.36960000e+05\n",
            " 3.56007600e+05 3.56052090e+05 3.56074340e+05 3.75036480e+05\n",
            " 3.75106790e+05 3.93120000e+05 4.04427810e+05 4.49280000e+05\n",
            " 4.76943950e+05 5.61600000e+05 5.96072880e+05 6.73920000e+05\n",
            " 7.15371230e+05 7.86240000e+05 8.86579200e+05 9.32424480e+05\n",
            " 1.10822400e+06 1.16564351e+06 1.32986880e+06 2.30630400e+06\n",
            " 4.68000000e+06] \n",
            "\n",
            "Visa_msaldototal \n",
            " [ -38180.12  -27573.08  -24712.28 ...  357756.57  360771.05 1201700.69] \n",
            "\n",
            "Visa_msaldopesos \n",
            " [ -44773.85  -44670.74  -32260.5  ...  418575.18  422102.12 1405989.8 ] \n",
            "\n",
            "Visa_msaldodolares \n",
            " [-33035.55 -29620.02 -27130.82 ... 124394.86 130552.84 148424.35] \n",
            "\n",
            "Visa_mconsumospesos \n",
            " [-10962.06  -6132.26  -6000.93 ... 299646.12 327600.   393120.  ] \n",
            "\n",
            "Visa_mconsumosdolares \n",
            " [0.000000e+00 1.000000e-02 2.000000e-02 ... 1.636828e+04 1.700908e+04\n",
            " 1.954604e+04] \n",
            "\n",
            "Visa_mlimitecompra \n",
            " [6.7275000e+02 8.4093000e+02 9.8280000e+02 1.0091200e+03 1.1773100e+03\n",
            " 1.2285000e+03 1.4742000e+03 1.7550000e+03 2.1937500e+03 2.6325000e+03\n",
            " 3.0712500e+03 3.5100000e+03 4.3875000e+03 5.2650000e+03 6.1425000e+03\n",
            " 7.0200000e+03 7.5816000e+03 7.9852500e+03 8.7750000e+03 9.1260000e+03\n",
            " 9.4770000e+03 1.0530000e+04 1.1407500e+04 1.2285000e+04 1.3689000e+04\n",
            " 1.4040000e+04 1.5970500e+04 1.6848000e+04 1.7550000e+04 1.8252000e+04\n",
            " 2.1060000e+04 2.2230000e+04 2.2815000e+04 2.4570000e+04 2.6910000e+04\n",
            " 2.7378000e+04 2.8080000e+04 2.9835000e+04 3.1590000e+04 3.1941000e+04\n",
            " 3.5100000e+04 3.6153000e+04 3.6270000e+04 3.6504000e+04 4.2120000e+04\n",
            " 4.3301000e+04 4.3875000e+04 4.5513000e+04 4.5630000e+04 4.6800000e+04\n",
            " 4.9140000e+04 4.9146140e+04 4.9149200e+04 5.3820000e+04 5.4756000e+04\n",
            " 5.6160000e+04 5.6448460e+04 6.3882000e+04 6.3889970e+04 6.3893960e+04\n",
            " 6.5819520e+04 6.5827740e+04 6.5831850e+04 7.0200000e+04 7.2540000e+04\n",
            " 8.2274400e+04 8.2284680e+04 8.2289820e+04 8.4240000e+04 8.4255790e+04\n",
            " 8.5176000e+04 8.5186640e+04 8.5191970e+04 8.5491530e+04 8.5566440e+04\n",
            " 8.5570450e+04 9.3611700e+04 9.8280000e+04 9.8729280e+04 9.8741610e+04\n",
            " 9.8747780e+04 1.0672400e+05 1.0881000e+05 1.1232000e+05 1.1518416e+05\n",
            " 1.1519855e+05 1.1520574e+05 1.2170281e+05 1.2682512e+05 1.2729600e+05\n",
            " 1.2825604e+05 1.2836036e+05 1.2836837e+05 1.2870000e+05 1.2871608e+05\n",
            " 1.2872412e+05 1.4040000e+05 1.4509813e+05 1.6087500e+05 1.6089510e+05\n",
            " 1.6090516e+05 1.6335241e+05 1.6848000e+05 1.9305000e+05 1.9307412e+05\n",
            " 1.9308618e+05 1.9656000e+05 2.2464000e+05 2.2522500e+05 2.2525315e+05\n",
            " 2.2526722e+05 2.3811840e+05 2.3814816e+05 2.3816304e+05 2.8080000e+05\n",
            " 2.9764800e+05 2.9768520e+05 2.9770380e+05 3.3696000e+05 3.5717760e+05\n",
            " 3.5722224e+05 3.5724457e+05 3.9312000e+05 4.1670720e+05 4.1678533e+05\n",
            " 4.4928000e+05 4.4936424e+05 5.6160000e+05 6.7392000e+05 7.8624000e+05\n",
            " 8.8657920e+05 1.1082240e+06 1.3298688e+06 2.3063040e+06 4.6800000e+06] \n",
            "\n",
            "Visa_madelantopesos \n",
            " [-1842.65     0.      33.8  ... 18915.84 19890.   21645.  ] \n",
            "\n",
            "Visa_madelantodolares \n",
            " [   0.      4.22   10.17   12.01   12.39   13.26   14.08   17.16   18.9\n",
            "   19.08   21.03   21.16   23.58   24.47   25.15   25.74   26.34   26.46\n",
            "   26.88   26.91   27.56   27.82   28.95   29.36   29.83   30.04   30.13\n",
            "   30.39   30.42   31.01   32.47   32.56   32.59   32.64   32.65   32.68\n",
            "   32.73   32.79   32.86   32.9    33.09   33.14   33.21   33.36   33.49\n",
            "   33.91   33.98   34.44   35.13   35.42   36.63   38.51   38.62   38.73\n",
            "   39.1    39.68   39.75   41.88   42.49   43.29   43.44   43.73   44.62\n",
            "   45.51   45.79   46.62   46.78   46.97   47.72   47.93   48.13   48.15\n",
            "   48.16   48.21   48.41   48.68   48.77   48.97   49.36   49.85   50.36\n",
            "   50.47   50.84   50.87   50.89   50.95   50.96   50.97   51.1    51.11\n",
            "   51.12   51.14   51.4    51.49   51.57   51.67   51.69   51.77   51.81\n",
            "   52.04   52.08   52.22   52.25   52.28   52.56   52.66   52.7    52.73\n",
            "   52.83   52.94   53.1    53.17   53.45   53.58   53.63   53.74   53.77\n",
            "   53.78   53.79   53.82   54.07   54.15   54.67   55.13   55.22   55.34\n",
            "   56.87   56.93   56.94   57.15   57.17   57.48   57.83   57.89   58.5\n",
            "   59.56   59.68   60.96   61.17   61.61   65.21   65.23   65.33   65.48\n",
            "   65.68   66.46   68.3    69.38   72.1    75.58   78.49   79.54   81.58\n",
            "   81.6    81.67   81.81   81.9    82.09   82.16   83.03   83.98   84.19\n",
            "   84.31   84.35   84.7    85.24   86.25   86.79   87.91   87.94   90.94\n",
            "   91.28   92.27   92.54   93.35   94.86   94.98   95.55   95.75   96.52\n",
            "   97.11   97.77   98.04   98.28   98.44   98.94   99.28   99.39   99.57\n",
            "  100.62  101.97  102.86  105.68  111.29  113.71  114.19  114.22  114.34\n",
            "  114.41  114.49  114.56  114.68  114.95  115.44  115.85  117.    118.75\n",
            "  119.05  119.34  119.81  120.26  120.28  120.51  121.36  122.83  123.11\n",
            "  125.85  126.32  126.33  128.7   130.4   130.51  130.92  131.37  131.44\n",
            "  133.85  136.15  138.31  139.04  140.4   141.92  142.23  142.74  142.98\n",
            "  143.89  143.91  144.49  144.61  146.88  146.91  147.22  149.53  156.66\n",
            "  157.    159.02  162.77  163.05  163.15  163.16  163.22  163.27  163.32\n",
            "  163.35  163.41  163.54  163.64  163.99  164.32  165.59  166.14  166.32\n",
            "  166.6   166.72  167.95  168.38  169.39  169.65  170.9   171.33  174.8\n",
            "  175.3   175.61  175.76  178.63  179.53  179.61  179.63  179.68  180.55\n",
            "  180.75  181.16  182.36  182.74  182.89  184.12  187.49  190.13  191.66\n",
            "  195.97  196.08  196.39  196.52  196.58  197.01  197.29  198.95  199.16\n",
            "  199.59  200.24  202.11  203.39  204.1   208.75  211.72  212.67  212.72\n",
            "  213.39  213.8   215.22  215.29  218.55  220.54  223.85  223.98  225.28\n",
            "  227.93  228.64  228.78  229.53  230.22  230.3   232.04  233.35  234.\n",
            "  236.04  236.16  236.34  236.92  237.21  237.38  237.51  237.93  238.09\n",
            "  238.38  238.68  239.85  240.43  240.96  242.19  244.14  244.56  244.65\n",
            "  244.69  244.74  244.98  245.    245.11  245.7   245.72  245.73  247.45\n",
            "  249.98  250.64  251.72  257.4   257.47  260.57  262.37  262.5   262.77\n",
            "  262.8   273.82  275.82  275.89  276.14  276.42  278.43  278.46  278.64\n",
            "  279.34  283.14  284.31  286.76  288.72  289.56  295.15  295.48  296.01\n",
            "  297.85  298.2   298.67  299.94  301.27  302.86  304.78  305.91  307.41\n",
            "  307.71  308.98  312.3   315.13  320.42  321.08  324.35  324.55  324.88\n",
            "  325.37  325.51  326.3   326.32  326.44  326.45  326.67  326.71  326.83\n",
            "  327.22  327.27  327.31  327.6   327.62  327.64  327.67  327.96  327.97\n",
            "  328.    328.43  328.64  328.74  330.81  332.95  332.98  335.43  336.65\n",
            "  339.61  340.47  341.42  342.63  342.64  344.05  344.08  345.07  345.61\n",
            "  347.67  348.9   349.12  350.87  351.    352.15  352.75  354.51  354.58\n",
            "  354.8   355.68  358.02  359.47  359.76  360.66  360.85  361.1   361.23\n",
            "  366.29  367.26  367.3   367.76  368.78  369.32  372.02  373.44  377.18\n",
            "  377.78  377.91  378.05  378.16  379.75  385.63  388.2   389.69  392.71\n",
            "  392.99  395.69  396.32  396.7   397.08  398.05  398.29  399.4   403.04\n",
            "  404.23  405.69  406.11  406.9   407.08  407.47  407.58  408.02  408.17\n",
            "  408.3   408.35  408.36  408.38  408.42  408.54  408.62  409.03  409.12\n",
            "  409.51  409.97  410.51  410.54  411.68  412.07  412.63  413.01  413.96\n",
            "  414.16  419.86  419.92  420.88  421.71  421.78  422.99  425.49  427.05\n",
            "  429.39  432.9   437.39  437.55  438.62  443.85  450.21  453.83  456.53\n",
            "  462.45  462.95  463.37  464.91  467.04  468.    468.94  469.27  470.34\n",
            "  471.51  471.68  472.5   472.68  473.85  475.02  476.19  477.3   477.33\n",
            "  479.7   481.46  482.04  484.36  486.83  487.32  487.5   488.28  488.86\n",
            "  489.14  489.28  489.45  489.49  489.63  489.66  489.82  489.96  490.03\n",
            "  490.06  490.24  490.34  490.62  490.97  491.09  491.41  491.44  491.93\n",
            "  491.97  492.86  492.96  493.44  494.1   494.91  496.09  496.92  497.91\n",
            "  508.49  522.73  528.29  530.36  530.72  544.7   546.43  547.82  548.32\n",
            "  551.76  552.24  552.54  557.7   558.3   558.32  559.28  561.6   563.94\n",
            "  565.11  566.81  568.16  570.09  571.07  571.61  571.67  571.79  572.52\n",
            "  572.94  573.32  575.64  576.58  580.29  585.    586.75  588.51  588.74\n",
            "  589.57  589.68  590.55  590.85  591.43  591.44  592.02  592.89  593.52\n",
            "  593.66  597.27  597.28  599.54  601.66  602.21  602.45  602.58  603.88\n",
            "  604.02  604.21  604.5   605.8   613.45  614.57  614.68  616.47  620.2\n",
            "  620.88  631.55  636.01  637.32  638.04  649.1   650.52  651.15  652.64\n",
            "  653.78  654.03  654.77  655.2   655.25  655.6   657.28  657.76  663.\n",
            "  664.16  664.84  665.    666.18  668.92  669.46  670.71  677.38  681.39\n",
            "  683.01  683.52  686.07  686.42  687.03  687.42  687.66  688.73  690.8\n",
            "  697.09  702.    705.51  706.68  707.85  709.02  709.6   709.76  710.77\n",
            "  711.36  712.    712.53  714.28  715.86  716.01  720.68  721.46  724.82\n",
            "  726.82  730.25  731.44  731.7   735.5   737.7   738.39  739.33  754.36\n",
            "  767.08  767.52  774.14  782.35  786.2   786.97  787.53  791.84  792.94\n",
            "  795.1   795.99  803.64  806.32  808.03  811.38  811.39  813.16  813.25\n",
            "  813.8   813.81  813.92  814.92  815.23  815.31  815.36  815.75  815.81\n",
            "  816.35  816.71  816.76  817.05  817.35  817.63  818.29  818.69  819.\n",
            "  819.07  819.12  819.87  820.32  820.75  821.29  821.34  821.6   822.51\n",
            "  823.5   823.58  823.63  823.77  823.79  824.85  825.14  825.69  826.\n",
            "  826.02  826.6   827.64  827.88  828.36  829.53  830.7   831.87  833.04\n",
            "  834.23  836.14  840.24  842.7   843.57  844.27  848.28  848.43  848.84\n",
            "  850.56  852.6   859.99  861.    861.04  864.81  865.2   866.09  866.26\n",
            "  866.88  867.33  867.73  868.1   869.31  872.8   874.42  874.7   881.01\n",
            "  881.65  883.11  884.52  885.1   885.18  889.2   890.26  891.3   891.54\n",
            "  891.55  893.43  894.39  894.62  894.96  895.05  895.15  895.17  895.64\n",
            "  896.2   897.09  897.27  897.33  897.64  897.65  897.72  897.83  898.56\n",
            "  898.71  899.14  899.18  900.13  900.31  901.07  901.87  902.09  903.24\n",
            "  903.77  904.41  904.88  906.03  906.42  907.21  907.58  911.46  911.59\n",
            "  912.6   912.96  913.8   913.82  914.35  914.77  915.75  916.11  917.28\n",
            "  918.37  918.45  918.9   919.5   919.62  919.98  921.17  921.37  921.96\n",
            "  922.4   922.43  922.74  923.04  926.44  927.13  927.34  927.79  927.81\n",
            "  928.12  928.16  928.26  928.98  929.37  929.42  930.3   930.37  930.64\n",
            "  931.12  931.32  932.3   932.39  932.72  932.99  935.    936.    936.03\n",
            "  937.54  946.53  969.47  998.68 1008.   1062.17 1149.5  1209.32 1225.55\n",
            " 1294.02 1296.36 1306.94 1398.57 1608.75 1667.43 1734.85 1839.04 1855.5 ] \n",
            "\n",
            "Visa_mpagado \n",
            " [0.0000000e+00 3.0000000e-02 2.4000000e-01 ... 1.4183076e+05 1.6263239e+05\n",
            " 1.9368850e+05] \n",
            "\n",
            "Visa_mpagospesos \n",
            " [-314641.26 -273293.13 -220392.9  ...   10403.4    12792.99   14554.99] \n",
            "\n",
            "Visa_mpagosdolares \n",
            " [0.000000e+00 1.000000e-02 2.000000e-02 ... 1.860769e+04 2.210023e+04\n",
            " 2.579193e+04] \n",
            "\n",
            "Visa_mconsumototal \n",
            " [-10962.06  -6132.26  -6000.93 ... 299646.12 327600.   393120.  ] \n",
            "\n",
            "Visa_tconsumos \n",
            " [0 1] \n",
            "\n",
            "Visa_tadelantosefectivo \n",
            " [0 1] \n",
            "\n",
            "Visa_mpagominimo \n",
            " [0.000000e+00 1.000000e-02 2.000000e-02 ... 1.991808e+05 2.006199e+05\n",
            " 2.953431e+05] \n",
            "\n"
          ]
        }
      ],
      "source": [
        "# CORRO LA FUNCION PARA FIJARME QUÉ VARIABLES SON NUMÉRICAS\n",
        "    # \"Visa_marca_atraso\", \"Visa_cuenta_estado\", \"Visa_tconsumos\", \"Visa_tadelantosefectivo\"\n",
        "        # Estas variable son categóricas, por lo que no entran en el HEATMAP\n",
        "unique_values(df3[variables_visa])"
      ]
    },
    {
      "cell_type": "code",
      "execution_count": null,
      "id": "c99842a4",
      "metadata": {
        "id": "c99842a4"
      },
      "outputs": [],
      "source": [
        "visa = ['Visa_mfinanciacion_limite', 'Visa_msaldototal', 'Visa_msaldopesos', 'Visa_msaldodolares', \n",
        "        'Visa_mconsumospesos', 'Visa_mconsumosdolares', 'Visa_mlimitecompra', 'Visa_madelantopesos', \n",
        "        'Visa_madelantodolares', 'Visa_mpagado', 'Visa_mpagospesos', 'Visa_mpagosdolares', 'Visa_mconsumototal', 'Visa_mpagominimo']"
      ]
    },
    {
      "cell_type": "code",
      "execution_count": null,
      "id": "dd83889b",
      "metadata": {
        "id": "dd83889b"
      },
      "outputs": [],
      "source": [
        "corr_visa = df3[visa].dropna().corr(method = 'pearson')"
      ]
    },
    {
      "cell_type": "code",
      "execution_count": null,
      "id": "90327298",
      "metadata": {
        "id": "90327298",
        "outputId": "107ea2bc-fe5f-4cce-d76f-882a4140f8d3",
        "colab": {
          "base_uri": "https://localhost:8080/",
          "height": 865
        }
      },
      "outputs": [
        {
          "output_type": "display_data",
          "data": {
            "text/plain": [
              "<Figure size 1008x1008 with 2 Axes>"
            ],
            "image/png": "[encoded data removed]"
          },
          "metadata": {}
        }
      ],
      "source": [
        "plt.style.use(\"seaborn-white\")\n",
        "\n",
        "fig, ax = plt.subplots(figsize = (14, 14))\n",
        "\n",
        "cmap = sns.diverging_palette(240, 10, n = 9, center = 'light')\n",
        "\n",
        "sns.heatmap(corr_visa, linewidths =.2, cmap = cmap, cbar_kws = {\"shrink\": .8}, square = True, xticklabels = True, yticklabels = True, annot = True, annot_kws = {'size': 14}, fmt = '.2f');\n",
        "\n",
        "plt.title(\"Correlación entre variables tarjeta Visa\", fontsize = 20)\n",
        "plt.yticks(fontsize =  16, rotation = 0) \n",
        "plt.xticks(fontsize = 16, rotation = 90)\n",
        "\n",
        "plt.show()"
      ]
    },
    {
      "cell_type": "code",
      "execution_count": null,
      "id": "124f938f",
      "metadata": {
        "id": "124f938f",
        "outputId": "1bdf1b45-5221-4662-ede6-edd82db0f98f",
        "colab": {
          "base_uri": "https://localhost:8080/"
        }
      },
      "outputs": [
        {
          "output_type": "stream",
          "name": "stdout",
          "text": [
            "Visa_mfinanciacion_limite - Visa_mlimitecompra: 0.99\n",
            "Visa_msaldototal - Visa_msaldopesos: 0.98\n",
            "Visa_msaldototal - Visa_mpagominimo: 0.71\n",
            "Visa_msaldopesos - Visa_msaldototal: 0.98\n",
            "Visa_msaldodolares - Visa_mconsumosdolares: 0.96\n",
            "Visa_mconsumosdolares - Visa_msaldodolares: 0.96\n",
            "Visa_mlimitecompra - Visa_mfinanciacion_limite: 0.99\n",
            "Visa_mpagominimo - Visa_msaldototal: 0.71\n"
          ]
        }
      ],
      "source": [
        "# SELECCIONAMOS AQUELLAS VARIABLES CON UNA CORRELACION MAYOR A 0.7 O MENOR A -0.7\n",
        "\n",
        "for i in visa:\n",
        "    for j in visa:\n",
        "        if corr_visa[i] [j] !=1 and (corr_visa[i] [j] > 0.7 or corr_visa[i] [j] < -0.7):\n",
        "            print(f'{i} - {j}: {round(corr_visa[i] [j], 2)}')"
      ]
    },
    {
      "cell_type": "code",
      "execution_count": null,
      "id": "9a546144",
      "metadata": {
        "id": "9a546144"
      },
      "outputs": [],
      "source": [
        "# Se eliminan:\n",
        "    # \"Visa_mlimitecompra\", \"Visa_msaldopesos\", \"Visa_mpagominimo\", \"Visa_mconsumosdolares\", \"Visa_mconsumospesos\", \"Visa_mpagospesos\"\n",
        "\n",
        "visa_final = ['Visa_mfinanciacion_limite', 'Visa_msaldopesos', 'Visa_msaldodolares', 'Visa_madelantopesos', \n",
        "        'Visa_madelantodolares', 'Visa_mpagado', 'Visa_mpagosdolares', 'Visa_mconsumototal']"
      ]
    },
    {
      "cell_type": "code",
      "execution_count": null,
      "id": "70b8f955",
      "metadata": {
        "id": "70b8f955"
      },
      "outputs": [],
      "source": [
        "# SE CORRE LA MATRIZ NUEVAMENTE PARA VERIFICAR QUE NO EXISTAN CORRELACIONES FUERTES\n",
        "\n",
        "corr_visa_final = df3[visa_final].dropna().corr(method = 'pearson')"
      ]
    },
    {
      "cell_type": "code",
      "execution_count": null,
      "id": "ae10a574",
      "metadata": {
        "id": "ae10a574",
        "outputId": "b809c13d-841d-498c-8943-ac6b36d6b001",
        "colab": {
          "base_uri": "https://localhost:8080/",
          "height": 865
        }
      },
      "outputs": [
        {
          "output_type": "display_data",
          "data": {
            "text/plain": [
              "<Figure size 1008x1008 with 2 Axes>"
            ],
            "image/png": "[encoded data removed]"
          },
          "metadata": {}
        }
      ],
      "source": [
        "plt.style.use(\"seaborn-white\")\n",
        "\n",
        "fig, ax = plt.subplots(figsize = (14, 14))\n",
        "\n",
        "cmap = sns.diverging_palette(240, 10, n = 9, center = 'light')\n",
        "\n",
        "sns.heatmap(corr_visa_final, linewidths =.2, cmap = cmap, cbar_kws = {\"shrink\": .8}, square = True, xticklabels = True, yticklabels = True, annot = True, annot_kws = {'size': 14}, fmt = '.2f');\n",
        "\n",
        "plt.title(\"Correlación entre variables tarjeta Visa\", fontsize = 20)\n",
        "plt.yticks(fontsize =  16, rotation = 0) \n",
        "plt.xticks(fontsize = 16, rotation = 90)\n",
        "\n",
        "plt.show()"
      ]
    },
    {
      "cell_type": "code",
      "execution_count": null,
      "id": "32ac241d",
      "metadata": {
        "id": "32ac241d"
      },
      "outputs": [],
      "source": [
        "# Genero el drop\n",
        "\n",
        "drop_11 = [\"Visa_mlimitecompra\", \"Visa_msaldopesos\", \"Visa_mpagominimo\", \"Visa_mconsumosdolares\", \"Visa_mconsumospesos\", \"Visa_mpagospesos\"]\n",
        "df3 = df3.drop(drop_11, axis = 1)"
      ]
    },
    {
      "cell_type": "code",
      "execution_count": null,
      "id": "eb53ca0f",
      "metadata": {
        "id": "eb53ca0f"
      },
      "outputs": [],
      "source": [
        "# VARIABLES RELACIONADAS CON TARJETA MASTER\n",
        "# LA INTENCION ES GENERAR UN HEATMAP Y ELIMINAR CORRELACIONES\n",
        "# SOLO CON VARIABLES NUMERICAS\n",
        "\n",
        "variables_master = ['Master_marca_atraso', 'Master_cuenta_estado', 'Master_mfinanciacion_limite', 'Master_msaldototal',\n",
        "                    'Master_msaldopesos', 'Master_msaldodolares', 'Master_mlimitecompra', 'Master_mpagado',\n",
        "                    'Master_tconsumos', 'Master_tadelantosefectivo', 'Master_mpagominimo']"
      ]
    },
    {
      "cell_type": "code",
      "execution_count": null,
      "id": "54dd9dfc",
      "metadata": {
        "id": "54dd9dfc",
        "outputId": "6a527efb-debc-4980-dfaf-74af3d0fc200",
        "colab": {
          "base_uri": "https://localhost:8080/"
        }
      },
      "outputs": [
        {
          "output_type": "stream",
          "name": "stdout",
          "text": [
            "Master_marca_atraso \n",
            " [0. 1.] \n",
            "\n",
            "Master_cuenta_estado \n",
            " [10. 11. 12. 19.] \n",
            "\n",
            "Master_mfinanciacion_limite \n",
            " [0.00000000e+00 5.89680000e+02 7.37100000e+02 8.84520000e+02\n",
            " 1.03194000e+03 1.10565000e+03 1.17936000e+03 1.32678000e+03\n",
            " 1.47420000e+03 1.54791000e+03 1.76904000e+03 2.06388000e+03\n",
            " 2.21130000e+03 2.27448000e+03 2.65356000e+03 2.84310000e+03\n",
            " 3.09582000e+03 3.41172000e+03 3.98034000e+03 4.21200000e+03\n",
            " 4.26465000e+03 5.11758000e+03 5.26500000e+03 5.54346000e+03\n",
            " 5.97051000e+03 6.31800000e+03 6.65262000e+03 7.37100000e+03\n",
            " 7.89750000e+03 8.21340000e+03 8.42400000e+03 9.47700000e+03\n",
            " 1.02667500e+04 1.05300000e+04 1.10565000e+04 1.15830000e+04\n",
            " 1.23201000e+04 1.26360000e+04 1.42155000e+04 1.43734500e+04\n",
            " 1.47420000e+04 1.57950000e+04 1.64268000e+04 1.89540000e+04\n",
            " 2.00070000e+04 2.04282000e+04 2.05335000e+04 2.13232500e+04\n",
            " 2.21130000e+04 2.42190000e+04 2.46402000e+04 2.52720000e+04\n",
            " 2.71602800e+04 2.74366900e+04 2.84310000e+04 2.86599400e+04\n",
            " 2.87469000e+04 2.97631100e+04 2.99259900e+04 3.05108800e+04\n",
            " 3.15900000e+04 3.19753900e+04 3.21026900e+04 3.26430000e+04\n",
            " 3.79080000e+04 3.94947600e+04 4.06147400e+04 4.10670000e+04\n",
            " 4.28233400e+04 4.33193900e+04 4.42260000e+04 4.42315200e+04\n",
            " 4.42342800e+04 4.53935300e+04 4.84923200e+04 5.02360900e+04\n",
            " 5.05440000e+04 5.66780400e+04 5.72832000e+04 5.72903600e+04\n",
            " 5.74891200e+04 5.74938000e+04 5.74963000e+04 5.74998900e+04\n",
            " 5.92300800e+04 5.92374700e+04 5.92411800e+04 6.31800000e+04\n",
            " 6.49859400e+04 6.57072000e+04 7.40469600e+04 7.40562100e+04\n",
            " 7.40608300e+04 7.58160000e+04 7.58254700e+04 7.66584000e+04\n",
            " 7.66679800e+04 7.66727600e+04 7.70097800e+04 8.84520000e+04\n",
            " 8.88544800e+04 8.88655800e+04 8.88711200e+04 9.60516000e+04\n",
            " 1.01088000e+05 1.03662000e+05 1.03674950e+05 1.03681430e+05\n",
            " 1.15524050e+05 1.15830000e+05 1.15844470e+05 1.15851710e+05\n",
            " 1.26360000e+05 1.44780480e+05 1.44798560e+05 1.44807620e+05\n",
            " 1.51632000e+05 1.73740320e+05 1.73762030e+05 1.73772890e+05\n",
            " 2.02725490e+05 2.02738160e+05 2.14306560e+05 2.14333340e+05\n",
            " 2.14346730e+05 2.37386010e+05 2.67916680e+05 2.67933420e+05\n",
            " 3.21459840e+05 3.21500010e+05 3.21520100e+05 3.56052090e+05\n",
            " 3.56074340e+05 4.04427810e+05 4.76914150e+05 6.06603810e+05\n",
            " 9.32541020e+05 1.16564351e+06] \n",
            "\n",
            "Master_msaldototal \n",
            " [-75066.46 -68193.9  -54121.57 ... 168916.37 170944.99 171675.42] \n",
            "\n",
            "Master_msaldopesos \n",
            " [-88494.76 -75066.46 -53860.1  ... 162641.94 170944.99 171675.42] \n",
            "\n",
            "Master_msaldodolares \n",
            " [-51353.78 -30811.58 -29835.   ...  87661.54 106576.82 114124.64] \n",
            "\n",
            "Master_mlimitecompra \n",
            " [   982.8    1228.5    1474.2    1719.9    1965.6    2457.     2948.4\n",
            "   3439.8    3790.8    4738.5    5686.2    6633.9    7020.     8775.\n",
            "  10530.    12285.    14040.    17550.    21060.    24570.    28080.\n",
            "  30178.1   30485.22  31848.41  33074.3   33255.3   33905.27  35100.\n",
            "  35528.22  35674.17  42120.    45127.5   47587.5   48138.74  49140.\n",
            "  49146.14  49149.2   50438.31  53881.49  55819.06  56160.    62976.93\n",
            "  65819.52  65827.74  65831.85  70200.    72208.11  82274.4   82284.68\n",
            "  82289.82  84240.    98280.    98729.28  98741.61  98747.78 112320.\n",
            " 115184.16 115198.55 115205.74 128700.   128716.08 128724.12 140400.\n",
            " 160875.   160895.1  160905.16 168480.   193050.   193074.12 193086.18\n",
            " 225253.15 225267.22 238118.4  238148.16 238163.04 297685.2  297703.8\n",
            " 357177.6  357222.24 357244.57 449364.24 674004.24] \n",
            "\n",
            "Master_mpagado \n",
            " [0.0000000e+00 1.5000000e-01 1.8000000e-01 ... 1.0530000e+05 1.2086100e+05\n",
            " 1.5318323e+05] \n",
            "\n",
            "Master_tconsumos \n",
            " [0 1] \n",
            "\n",
            "Master_tadelantosefectivo \n",
            " [0 1] \n",
            "\n",
            "Master_mpagominimo \n",
            " [0.000000e+00 1.000000e-02 9.000000e-02 ... 1.626417e+05 1.709370e+05\n",
            " 1.716741e+05] \n",
            "\n"
          ]
        }
      ],
      "source": [
        "# CORRO LA FUNCION PARA FIJARME QUÉ VARIABLES SON NUMÉRICAS\n",
        "    # \"Master_marca_atraso\", \"Master_cuenta_estado\", \"Master_tconsumos\", \"Master_tadelantosefectivo\"\n",
        "        # Estas variable son categóricas, por lo que no entran en el HEATMAP\n",
        "unique_values(df3[variables_master])"
      ]
    },
    {
      "cell_type": "code",
      "execution_count": null,
      "id": "5e9b8b6a",
      "metadata": {
        "id": "5e9b8b6a"
      },
      "outputs": [],
      "source": [
        "master = ['Master_mfinanciacion_limite', 'Master_msaldototal', 'Master_msaldopesos', \n",
        "          'Master_msaldodolares', 'Master_mlimitecompra', 'Master_mpagado', 'Master_mpagominimo']"
      ]
    },
    {
      "cell_type": "code",
      "execution_count": null,
      "id": "04d38917",
      "metadata": {
        "id": "04d38917"
      },
      "outputs": [],
      "source": [
        "corr_master = df3[master].dropna().corr(method = 'pearson')"
      ]
    },
    {
      "cell_type": "code",
      "execution_count": null,
      "id": "6a7d049b",
      "metadata": {
        "id": "6a7d049b",
        "outputId": "00b010ee-fc8a-4015-ffd2-d3a338437aee",
        "colab": {
          "base_uri": "https://localhost:8080/",
          "height": 883
        }
      },
      "outputs": [
        {
          "output_type": "display_data",
          "data": {
            "text/plain": [
              "<Figure size 1008x1008 with 2 Axes>"
            ],
            "image/png": "[encoded data removed]"
          },
          "metadata": {}
        }
      ],
      "source": [
        "plt.style.use(\"seaborn-white\")\n",
        "\n",
        "fig, ax = plt.subplots(figsize = (14, 14))\n",
        "\n",
        "cmap = sns.diverging_palette(240, 10, n = 9, center = 'light')\n",
        "\n",
        "sns.heatmap(corr_master, linewidths =.2, cmap = cmap, cbar_kws = {\"shrink\": .8}, square = True, xticklabels = True, yticklabels = True, annot = True, annot_kws = {'size': 14}, fmt = '.2f');\n",
        "\n",
        "plt.title(\"Correlación entre variables tarjeta Visa\", fontsize = 20)\n",
        "plt.yticks(fontsize =  16, rotation = 0) \n",
        "plt.xticks(fontsize = 16, rotation = 90)\n",
        "\n",
        "plt.show()"
      ]
    },
    {
      "cell_type": "code",
      "execution_count": null,
      "id": "4cb1255e",
      "metadata": {
        "id": "4cb1255e",
        "outputId": "9f37d614-e9bf-47c3-c573-e72c795e2816",
        "colab": {
          "base_uri": "https://localhost:8080/"
        }
      },
      "outputs": [
        {
          "output_type": "stream",
          "name": "stdout",
          "text": [
            "Master_mfinanciacion_limite - Master_mlimitecompra: 0.99\n",
            "Master_msaldototal - Master_msaldopesos: 0.97\n",
            "Master_msaldototal - Master_mpagominimo: 0.77\n",
            "Master_msaldopesos - Master_msaldototal: 0.97\n",
            "Master_msaldopesos - Master_mpagominimo: 0.71\n",
            "Master_mlimitecompra - Master_mfinanciacion_limite: 0.99\n",
            "Master_mpagominimo - Master_msaldototal: 0.77\n",
            "Master_mpagominimo - Master_msaldopesos: 0.71\n"
          ]
        }
      ],
      "source": [
        "# SELECCIONAMOS AQUELLAS VARIABLES CON UNA CORRELACION MAYOR A 0.7 O MENOR A -0.7\n",
        "\n",
        "for i in master:\n",
        "    for j in master:\n",
        "        if corr_master[i] [j] !=1 and (corr_master[i] [j] > 0.7 or corr_master[i] [j] < -0.7):\n",
        "            print(f'{i} - {j}: {round(corr_master[i] [j], 2)}')"
      ]
    },
    {
      "cell_type": "code",
      "execution_count": null,
      "id": "60ad8f5d",
      "metadata": {
        "id": "60ad8f5d"
      },
      "outputs": [],
      "source": [
        "# Se eliminan:\n",
        "    # \"Master_mlimitecompra\", \"Master_msaldopesos\", \"Master_mpagominimo\"\n",
        "\n",
        "master_final = ['Master_mfinanciacion_limite', 'Master_msaldototal', 'Master_msaldodolares', 'Master_mpagado']"
      ]
    },
    {
      "cell_type": "code",
      "execution_count": null,
      "id": "9eef06d5",
      "metadata": {
        "id": "9eef06d5"
      },
      "outputs": [],
      "source": [
        "# SE CORRE LA MATRIZ NUEVAMENTE PARA VERIFICAR QUE NO EXISTAN CORRELACIONES FUERTES\n",
        "\n",
        "corr_master_final = df3[master_final].dropna().corr(method = 'pearson')"
      ]
    },
    {
      "cell_type": "code",
      "execution_count": null,
      "id": "84a4864d",
      "metadata": {
        "id": "84a4864d",
        "outputId": "5d6370f1-5210-41d8-e8d3-64d60d64f53a",
        "colab": {
          "base_uri": "https://localhost:8080/",
          "height": 883
        }
      },
      "outputs": [
        {
          "output_type": "display_data",
          "data": {
            "text/plain": [
              "<Figure size 1008x1008 with 2 Axes>"
            ],
            "image/png": "[encoded data removed]"
          },
          "metadata": {}
        }
      ],
      "source": [
        "plt.style.use(\"seaborn-white\")\n",
        "\n",
        "fig, ax = plt.subplots(figsize = (14, 14))\n",
        "\n",
        "cmap = sns.diverging_palette(240, 10, n = 9, center = 'light')\n",
        "\n",
        "sns.heatmap(corr_master_final, linewidths =.2, cmap = cmap, cbar_kws = {\"shrink\": .8}, square = True, xticklabels = True, yticklabels = True, annot = True, annot_kws = {'size': 14}, fmt = '.2f');\n",
        "\n",
        "plt.title(\"Correlación entre variables tarjeta Visa\", fontsize = 20)\n",
        "plt.yticks(fontsize =  16, rotation = 0) \n",
        "plt.xticks(fontsize = 16, rotation = 90)\n",
        "\n",
        "plt.show()"
      ]
    },
    {
      "cell_type": "code",
      "execution_count": null,
      "id": "cfda5a71",
      "metadata": {
        "id": "cfda5a71"
      },
      "outputs": [],
      "source": [
        "# Genero el drop\n",
        "\n",
        "drop_12 = [\"Master_mlimitecompra\", \"Master_msaldopesos\", \"Master_mpagominimo\"]\n",
        "df3 = df3.drop(drop_12, axis = 1)"
      ]
    },
    {
      "cell_type": "code",
      "execution_count": null,
      "id": "7f153643",
      "metadata": {
        "id": "7f153643"
      },
      "outputs": [],
      "source": [
        "# Unificamos los descuentos como \"mdescuento\"\n",
        "\n",
        "df3[\"mdescuentos\"] = df3[\"mcajeros_propios_descuentos\"] + df3[\"mtarjeta_visa_descuentos\"] + df3[\"mtarjeta_master_descuentos\"] "
      ]
    },
    {
      "cell_type": "code",
      "execution_count": null,
      "id": "20eded4c",
      "metadata": {
        "id": "20eded4c"
      },
      "outputs": [],
      "source": [
        "# Genero el drop\n",
        "\n",
        "drop_13 = [\"mcajeros_propios_descuentos\", \"mtarjeta_visa_descuentos\", \"mtarjeta_master_descuentos\"]\n",
        "df3 = df3.drop(drop_13, axis = 1)"
      ]
    },
    {
      "cell_type": "code",
      "execution_count": null,
      "id": "bada6f06",
      "metadata": {
        "id": "bada6f06"
      },
      "outputs": [],
      "source": [
        "# Se unifica como \"tdescuento\"\n",
        "\n",
        "df3[\"tdescuento\"] = np.where(df3[[\"ccajeros_propios_descuentos\", \"ctarjeta_visa_descuentos\", \"ctarjeta_master_descuentos\"]].sum(axis = 1) != 0, 1, 0)"
      ]
    },
    {
      "cell_type": "code",
      "execution_count": null,
      "id": "13c0dedd",
      "metadata": {
        "id": "13c0dedd"
      },
      "outputs": [],
      "source": [
        "# Genero el drop\n",
        "\n",
        "drop_14 = [\"ccajeros_propios_descuentos\", \"ctarjeta_visa_descuentos\", \"ctarjeta_master_descuentos\"]\n",
        "df3 = df3.drop(drop_14, axis = 1)"
      ]
    },
    {
      "cell_type": "code",
      "execution_count": null,
      "id": "fbe71fa6",
      "metadata": {
        "id": "fbe71fa6"
      },
      "outputs": [],
      "source": [
        "# Unificamos los descuentos como \"mcomision\"\n",
        "\n",
        "df3[\"mcomision\"] = df3[\"mcomisiones_mantenimiento\"] + df3[\"mcomisiones_otras\"] "
      ]
    },
    {
      "cell_type": "code",
      "execution_count": null,
      "id": "3f5f2824",
      "metadata": {
        "id": "3f5f2824"
      },
      "outputs": [],
      "source": [
        "# Genero el drop\n",
        "\n",
        "drop_15 = [\"mcomisiones_mantenimiento\", \"mcomisiones_otras\"]\n",
        "df3 = df3.drop(drop_15, axis = 1)"
      ]
    },
    {
      "cell_type": "code",
      "execution_count": null,
      "id": "aeb2aaec",
      "metadata": {
        "id": "aeb2aaec"
      },
      "outputs": [],
      "source": [
        "# Se unifica como \"ccomision\"\n",
        "\n",
        "df3[\"ccomision\"] = df3[\"ccomisiones_mantenimiento\"] + df3[\"ccomisiones_otras\"]"
      ]
    },
    {
      "cell_type": "code",
      "execution_count": null,
      "id": "0b2326a8",
      "metadata": {
        "id": "0b2326a8"
      },
      "outputs": [],
      "source": [
        "# Genero el drop\n",
        "\n",
        "drop_16 = [\"ccomisiones_mantenimiento\", \"ccomisiones_otras\"]\n",
        "df3 = df3.drop(drop_16, axis = 1)"
      ]
    },
    {
      "cell_type": "code",
      "execution_count": null,
      "id": "42612096",
      "metadata": {
        "id": "42612096",
        "outputId": "2b478f12-fa17-4c60-b3a0-bc68a096ded7",
        "colab": {
          "base_uri": "https://localhost:8080/",
          "height": 131
        }
      },
      "outputs": [
        {
          "output_type": "execute_result",
          "data": {
            "text/plain": [
              "Empty DataFrame\n",
              "Columns: [Unnamed: 0, numero_de_cliente, marketing_activo_ultimos90dias, cliente_vip, cliente_sucursal, cliente_edad, cliente_antiguedad, mrentabilidad, mrentabilidad_annual, mcomisiones, mactivos_margen, mpasivos_margen, marketing_coss_selling, mcaja_ahorro_dolares, mdescubierto_preacordado, mcuentas_saldo, ttarjeta_debito, ctarjeta_debito_transacciones, mautoservicio, ttarjeta_visa, ttarjeta_master, tcaja_seguridad, tplan_sueldo, mplan_sueldo, cplan_sueldo_transaccion, tcambio_monedas, ccambio_monedas_compra, mcambio_monedas_compra, ccambio_monedas_venta, mcambio_monedas_venta, ctransferencias_recibidas, mtransferencias_recibidas, ctransferencias_emitidas, mtransferencias_emitidas, cextraccion_autoservicio, mextraccion_autoservicio, ccheques_depositados, mcheques_depositados, ccheques_emitidos, mcheques_emitidos, ccheques_depositados_rechazados, mcheques_depositados_rechazados, ccheques_emitidos_rechazados, mcheques_emitidos_rechazados, tcallcenter, ccallcenter_transacciones, thomebanking, chomebanking_transacciones, tautoservicio, cautoservicio_transacciones, tcajas, tcajas_depositos, tcajas_extracciones, tcajas_otras, ccajeros_propio_transacciones, mcajeros_propio, ccajeros_ajenos_transacciones, mcajeros_ajenos, tmovimientos_ultimos90dias, Master_marca_atraso, Master_cuenta_estado, Master_mfinanciacion_limite, Master_msaldototal, Master_msaldodolares, Master_mpagado, Master_tconsumos, Master_tadelantosefectivo, Visa_marca_atraso, Visa_cuenta_estado, Visa_mfinanciacion_limite, Visa_msaldototal, Visa_msaldodolares, Visa_madelantopesos, Visa_madelantodolares, Visa_mpagado, Visa_mpagosdolares, Visa_mconsumototal, Visa_tconsumos, Visa_tadelantosefectivo, target, target_bin, tdescubierto_preacordado, mcaja_ahorro_CC, mtarjeta_all_consumo, ctarjeta_all_transacciones, cprestamos_all, mprestamos_all, renta_dolar, renta_pesos, tpaquete, tcuenta, trenta, tseguro, tdebitos_automaticos, mdebitos_automaticos, mdescuentos, tdescuento, mcomision, ccomision]\n",
              "Index: []"
            ],
            "text/html": [
              "\n",
              "  <div id=\"df-53a5854a-79e6-4767-b13f-14c755c4e9ef\">\n",
              "    <div class=\"colab-df-container\">\n",
              "      <div>\n",
              "<style scoped>\n",
              "    .dataframe tbody tr th:only-of-type {\n",
              "        vertical-align: middle;\n",
              "    }\n",
              "\n",
              "    .dataframe tbody tr th {\n",
              "        vertical-align: top;\n",
              "    }\n",
              "\n",
              "    .dataframe thead th {\n",
              "        text-align: right;\n",
              "    }\n",
              "</style>\n",
              "<table border=\"1\" class=\"dataframe\">\n",
              "  <thead>\n",
              "    <tr style=\"text-align: right;\">\n",
              "      <th></th>\n",
              "      <th>Unnamed: 0</th>\n",
              "      <th>numero_de_cliente</th>\n",
              "      <th>marketing_activo_ultimos90dias</th>\n",
              "      <th>cliente_vip</th>\n",
              "      <th>cliente_sucursal</th>\n",
              "      <th>cliente_edad</th>\n",
              "      <th>cliente_antiguedad</th>\n",
              "      <th>mrentabilidad</th>\n",
              "      <th>mrentabilidad_annual</th>\n",
              "      <th>mcomisiones</th>\n",
              "      <th>mactivos_margen</th>\n",
              "      <th>mpasivos_margen</th>\n",
              "      <th>marketing_coss_selling</th>\n",
              "      <th>mcaja_ahorro_dolares</th>\n",
              "      <th>mdescubierto_preacordado</th>\n",
              "      <th>mcuentas_saldo</th>\n",
              "      <th>ttarjeta_debito</th>\n",
              "      <th>ctarjeta_debito_transacciones</th>\n",
              "      <th>mautoservicio</th>\n",
              "      <th>ttarjeta_visa</th>\n",
              "      <th>ttarjeta_master</th>\n",
              "      <th>tcaja_seguridad</th>\n",
              "      <th>tplan_sueldo</th>\n",
              "      <th>mplan_sueldo</th>\n",
              "      <th>cplan_sueldo_transaccion</th>\n",
              "      <th>tcambio_monedas</th>\n",
              "      <th>ccambio_monedas_compra</th>\n",
              "      <th>mcambio_monedas_compra</th>\n",
              "      <th>ccambio_monedas_venta</th>\n",
              "      <th>mcambio_monedas_venta</th>\n",
              "      <th>ctransferencias_recibidas</th>\n",
              "      <th>mtransferencias_recibidas</th>\n",
              "      <th>ctransferencias_emitidas</th>\n",
              "      <th>mtransferencias_emitidas</th>\n",
              "      <th>cextraccion_autoservicio</th>\n",
              "      <th>mextraccion_autoservicio</th>\n",
              "      <th>ccheques_depositados</th>\n",
              "      <th>mcheques_depositados</th>\n",
              "      <th>ccheques_emitidos</th>\n",
              "      <th>mcheques_emitidos</th>\n",
              "      <th>ccheques_depositados_rechazados</th>\n",
              "      <th>mcheques_depositados_rechazados</th>\n",
              "      <th>ccheques_emitidos_rechazados</th>\n",
              "      <th>mcheques_emitidos_rechazados</th>\n",
              "      <th>tcallcenter</th>\n",
              "      <th>ccallcenter_transacciones</th>\n",
              "      <th>thomebanking</th>\n",
              "      <th>chomebanking_transacciones</th>\n",
              "      <th>tautoservicio</th>\n",
              "      <th>cautoservicio_transacciones</th>\n",
              "      <th>tcajas</th>\n",
              "      <th>tcajas_depositos</th>\n",
              "      <th>tcajas_extracciones</th>\n",
              "      <th>tcajas_otras</th>\n",
              "      <th>ccajeros_propio_transacciones</th>\n",
              "      <th>mcajeros_propio</th>\n",
              "      <th>ccajeros_ajenos_transacciones</th>\n",
              "      <th>mcajeros_ajenos</th>\n",
              "      <th>tmovimientos_ultimos90dias</th>\n",
              "      <th>Master_marca_atraso</th>\n",
              "      <th>Master_cuenta_estado</th>\n",
              "      <th>Master_mfinanciacion_limite</th>\n",
              "      <th>Master_msaldototal</th>\n",
              "      <th>Master_msaldodolares</th>\n",
              "      <th>Master_mpagado</th>\n",
              "      <th>Master_tconsumos</th>\n",
              "      <th>Master_tadelantosefectivo</th>\n",
              "      <th>Visa_marca_atraso</th>\n",
              "      <th>Visa_cuenta_estado</th>\n",
              "      <th>Visa_mfinanciacion_limite</th>\n",
              "      <th>Visa_msaldototal</th>\n",
              "      <th>Visa_msaldodolares</th>\n",
              "      <th>Visa_madelantopesos</th>\n",
              "      <th>Visa_madelantodolares</th>\n",
              "      <th>Visa_mpagado</th>\n",
              "      <th>Visa_mpagosdolares</th>\n",
              "      <th>Visa_mconsumototal</th>\n",
              "      <th>Visa_tconsumos</th>\n",
              "      <th>Visa_tadelantosefectivo</th>\n",
              "      <th>target</th>\n",
              "      <th>target_bin</th>\n",
              "      <th>tdescubierto_preacordado</th>\n",
              "      <th>mcaja_ahorro_CC</th>\n",
              "      <th>mtarjeta_all_consumo</th>\n",
              "      <th>ctarjeta_all_transacciones</th>\n",
              "      <th>cprestamos_all</th>\n",
              "      <th>mprestamos_all</th>\n",
              "      <th>renta_dolar</th>\n",
              "      <th>renta_pesos</th>\n",
              "      <th>tpaquete</th>\n",
              "      <th>tcuenta</th>\n",
              "      <th>trenta</th>\n",
              "      <th>tseguro</th>\n",
              "      <th>tdebitos_automaticos</th>\n",
              "      <th>mdebitos_automaticos</th>\n",
              "      <th>mdescuentos</th>\n",
              "      <th>tdescuento</th>\n",
              "      <th>mcomision</th>\n",
              "      <th>ccomision</th>\n",
              "    </tr>\n",
              "  </thead>\n",
              "  <tbody>\n",
              "  </tbody>\n",
              "</table>\n",
              "</div>\n",
              "      <button class=\"colab-df-convert\" onclick=\"convertToInteractive('df-53a5854a-79e6-4767-b13f-14c755c4e9ef')\"\n",
              "              title=\"Convert this dataframe to an interactive table.\"\n",
              "              style=\"display:none;\">\n",
              "        \n",
              "  <svg xmlns=\"http://www.w3.org/2000/svg\" height=\"24px\"viewBox=\"0 0 24 24\"\n",
              "       width=\"24px\">\n",
              "    <path d=\"M0 0h24v24H0V0z\" fill=\"none\"/>\n",
              "    <path d=\"M18.56 5.44l.94 2.06.94-2.06 2.06-.94-2.06-.94-.94-2.06-.94 2.06-2.06.94zm-11 1L8.5 8.5l.94-2.06 2.06-.94-2.06-.94L8.5 2.5l-.94 2.06-2.06.94zm10 10l.94 2.06.94-2.06 2.06-.94-2.06-.94-.94-2.06-.94 2.06-2.06.94z\"/><path d=\"M17.41 7.96l-1.37-1.37c-.4-.4-.92-.59-1.43-.59-.52 0-1.04.2-1.43.59L10.3 9.45l-7.72 7.72c-.78.78-.78 2.05 0 2.83L4 21.41c.39.39.9.59 1.41.59.51 0 1.02-.2 1.41-.59l7.78-7.78 2.81-2.81c.8-.78.8-2.07 0-2.86zM5.41 20L4 18.59l7.72-7.72 1.47 1.35L5.41 20z\"/>\n",
              "  </svg>\n",
              "      </button>\n",
              "      \n",
              "  <style>\n",
              "    .colab-df-container {\n",
              "      display:flex;\n",
              "      flex-wrap:wrap;\n",
              "      gap: 12px;\n",
              "    }\n",
              "\n",
              "    .colab-df-convert {\n",
              "      background-color: #E8F0FE;\n",
              "      border: none;\n",
              "      border-radius: 50%;\n",
              "      cursor: pointer;\n",
              "      display: none;\n",
              "      fill: #1967D2;\n",
              "      height: 32px;\n",
              "      padding: 0 0 0 0;\n",
              "      width: 32px;\n",
              "    }\n",
              "\n",
              "    .colab-df-convert:hover {\n",
              "      background-color: #E2EBFA;\n",
              "      box-shadow: 0px 1px 2px rgba(60, 64, 67, 0.3), 0px 1px 3px 1px rgba(60, 64, 67, 0.15);\n",
              "      fill: #174EA6;\n",
              "    }\n",
              "\n",
              "    [theme=dark] .colab-df-convert {\n",
              "      background-color: #3B4455;\n",
              "      fill: #D2E3FC;\n",
              "    }\n",
              "\n",
              "    [theme=dark] .colab-df-convert:hover {\n",
              "      background-color: #434B5C;\n",
              "      box-shadow: 0px 1px 3px 1px rgba(0, 0, 0, 0.15);\n",
              "      filter: drop-shadow(0px 1px 2px rgba(0, 0, 0, 0.3));\n",
              "      fill: #FFFFFF;\n",
              "    }\n",
              "  </style>\n",
              "\n",
              "      <script>\n",
              "        const buttonEl =\n",
              "          document.querySelector('#df-53a5854a-79e6-4767-b13f-14c755c4e9ef button.colab-df-convert');\n",
              "        buttonEl.style.display =\n",
              "          google.colab.kernel.accessAllowed ? 'block' : 'none';\n",
              "\n",
              "        async function convertToInteractive(key) {\n",
              "          const element = document.querySelector('#df-53a5854a-79e6-4767-b13f-14c755c4e9ef');\n",
              "          const dataTable =\n",
              "            await google.colab.kernel.invokeFunction('convertToInteractive',\n",
              "                                                     [key], {});\n",
              "          if (!dataTable) return;\n",
              "\n",
              "          const docLinkHtml = 'Like what you see? Visit the ' +\n",
              "            '<a target=\"_blank\" href=https://colab.research.google.com/notebooks/data_table.ipynb>data table notebook</a>'\n",
              "            + ' to learn more about interactive tables.';\n",
              "          element.innerHTML = '';\n",
              "          dataTable['output_type'] = 'display_data';\n",
              "          await google.colab.output.renderOutput(dataTable, element);\n",
              "          const docLink = document.createElement('div');\n",
              "          docLink.innerHTML = docLinkHtml;\n",
              "          element.appendChild(docLink);\n",
              "        }\n",
              "      </script>\n",
              "    </div>\n",
              "  </div>\n",
              "  "
            ]
          },
          "metadata": {},
          "execution_count": 96
        }
      ],
      "source": [
        "# Con esto corroboro que puedo dropear la columna \"tcambio_monedas\" \n",
        "\n",
        "mask_tcambio = df3[\"tcambio_monedas\"] == 1\n",
        "mask_ccambio = (df3[\"ccambio_monedas_compra\"] == 0) & (df3[\"ccambio_monedas_venta\"] == 0)\n",
        "\n",
        "\n",
        "df3[mask_tcambio & mask_ccambio]"
      ]
    },
    {
      "cell_type": "code",
      "execution_count": null,
      "id": "29e992ff",
      "metadata": {
        "id": "29e992ff"
      },
      "outputs": [],
      "source": [
        "df3 = df3.drop(\"tcambio_monedas\", axis = 1)"
      ]
    },
    {
      "cell_type": "code",
      "execution_count": null,
      "id": "3237e76e",
      "metadata": {
        "id": "3237e76e"
      },
      "outputs": [],
      "source": [
        "# Creamos \"ccambio_venta_compra\"\n",
        "\n",
        "df3[\"ccambio_venta_compra\"] = df3[\"ccambio_monedas_venta\"] - df3[\"ccambio_monedas_compra\"]"
      ]
    },
    {
      "cell_type": "code",
      "execution_count": null,
      "id": "5cb979b1",
      "metadata": {
        "id": "5cb979b1"
      },
      "outputs": [],
      "source": [
        "# Genero el drop\n",
        "\n",
        "drop_17 = [\"ccambio_monedas_venta\", \"ccambio_monedas_compra\"]\n",
        "df3 = df3.drop(drop_17, axis = 1)"
      ]
    },
    {
      "cell_type": "code",
      "execution_count": null,
      "id": "7d4197bb",
      "metadata": {
        "id": "7d4197bb"
      },
      "outputs": [],
      "source": [
        "# Creamos \"mcambio_venta_compra\"\n",
        "\n",
        "df3[\"mcambio_venta_compra\"] = df3[\"mcambio_monedas_venta\"] - df3[\"mcambio_monedas_compra\"]"
      ]
    },
    {
      "cell_type": "code",
      "execution_count": null,
      "id": "86da2022",
      "metadata": {
        "id": "86da2022"
      },
      "outputs": [],
      "source": [
        "drop_18 = [\"mcambio_monedas_venta\", \"mcambio_monedas_compra\"]\n",
        "df3 = df3.drop(drop_18, axis = 1)"
      ]
    },
    {
      "cell_type": "code",
      "execution_count": null,
      "id": "af30eaf9",
      "metadata": {
        "id": "af30eaf9"
      },
      "outputs": [],
      "source": [
        "# Creamos \"ctransferencia_emitida_recibida\"\n",
        "\n",
        "df3[\"ctransferencia_emitida_recibida\"] = df3[\"ctransferencias_emitidas\"] - df3[\"ctransferencias_recibidas\"]"
      ]
    },
    {
      "cell_type": "code",
      "execution_count": null,
      "id": "2e54eec4",
      "metadata": {
        "id": "2e54eec4"
      },
      "outputs": [],
      "source": [
        "# Genero el drop\n",
        "\n",
        "drop_19 = [\"ctransferencias_emitidas\", \"ctransferencias_recibidas\"]\n",
        "df3 = df3.drop(drop_19, axis = 1)"
      ]
    },
    {
      "cell_type": "code",
      "execution_count": null,
      "id": "de070aac",
      "metadata": {
        "id": "de070aac"
      },
      "outputs": [],
      "source": [
        "# Creamos \"mtransferencia_emitida_recibida\"\n",
        "\n",
        "df3[\"mtransferencia_emitida_recibida\"] = df3[\"mtransferencias_emitidas\"] - df3[\"mtransferencias_recibidas\"]"
      ]
    },
    {
      "cell_type": "code",
      "execution_count": null,
      "id": "b2f20080",
      "metadata": {
        "id": "b2f20080"
      },
      "outputs": [],
      "source": [
        "# Genero el drop\n",
        "\n",
        "drop_20 = [\"mtransferencias_emitidas\", \"mtransferencias_recibidas\"]\n",
        "df3 = df3.drop(drop_20, axis = 1)"
      ]
    },
    {
      "cell_type": "code",
      "execution_count": null,
      "id": "8e0ac9f7",
      "metadata": {
        "id": "8e0ac9f7"
      },
      "outputs": [],
      "source": [
        "# Creamos \"ccheques_emitido_depositado\"\n",
        "\n",
        "df3[\"ccheques_emitido_depositado\"] = df3[\"ccheques_emitidos\"] - df3[\"ccheques_depositados\"]"
      ]
    },
    {
      "cell_type": "code",
      "execution_count": null,
      "id": "0bac38e0",
      "metadata": {
        "id": "0bac38e0"
      },
      "outputs": [],
      "source": [
        "# Genero el drop\n",
        "\n",
        "drop_21 = [\"ccheques_emitidos\", \"ccheques_depositados\"]\n",
        "df3 = df3.drop(drop_21, axis = 1)"
      ]
    },
    {
      "cell_type": "code",
      "execution_count": null,
      "id": "e3bd7719",
      "metadata": {
        "id": "e3bd7719"
      },
      "outputs": [],
      "source": [
        "# Creamos \"mcheques_emitido_depositado\"\n",
        "\n",
        "df3[\"mcheques_emitido_depositado\"] = df3[\"mcheques_emitidos\"] - df3[\"mcheques_depositados\"]"
      ]
    },
    {
      "cell_type": "code",
      "execution_count": null,
      "id": "b21dc9e8",
      "metadata": {
        "id": "b21dc9e8"
      },
      "outputs": [],
      "source": [
        "# Genero el drop\n",
        "\n",
        "drop_22 = [\"mcheques_emitidos\", \"mcheques_depositados\"]\n",
        "df3 = df3.drop(drop_22, axis = 1)"
      ]
    },
    {
      "cell_type": "code",
      "execution_count": null,
      "id": "3316450f",
      "metadata": {
        "id": "3316450f"
      },
      "outputs": [],
      "source": [
        "# Creamos \"ccheques_emitido_depositado_r\"\n",
        "\n",
        "df3[\"ccheques_emitido_depositado_r\"] = df3[\"ccheques_emitidos_rechazados\"] - df3[\"ccheques_depositados_rechazados\"]"
      ]
    },
    {
      "cell_type": "code",
      "execution_count": null,
      "id": "43b1eada",
      "metadata": {
        "id": "43b1eada"
      },
      "outputs": [],
      "source": [
        "# Genero el drop\n",
        "\n",
        "drop_23 = [\"ccheques_emitidos_rechazados\", \"ccheques_depositados_rechazados\"]\n",
        "df3 = df3.drop(drop_23, axis = 1)"
      ]
    },
    {
      "cell_type": "code",
      "execution_count": null,
      "id": "46254aac",
      "metadata": {
        "id": "46254aac"
      },
      "outputs": [],
      "source": [
        "# Creamos \"mcheques_emitido_depositado_r\"\n",
        "\n",
        "df3[\"mcheques_emitido_depositado_r\"] = df3[\"mcheques_emitidos_rechazados\"] - df3[\"mcheques_depositados_rechazados\"]"
      ]
    },
    {
      "cell_type": "code",
      "execution_count": null,
      "id": "8810ce54",
      "metadata": {
        "id": "8810ce54"
      },
      "outputs": [],
      "source": [
        "# Genero el drop\n",
        "\n",
        "drop_24 = [\"mcheques_emitidos_rechazados\", \"mcheques_depositados_rechazados\"]\n",
        "df3 = df3.drop(drop_24, axis = 1)"
      ]
    },
    {
      "cell_type": "code",
      "execution_count": null,
      "id": "3ed21f4c",
      "metadata": {
        "id": "3ed21f4c"
      },
      "outputs": [],
      "source": [
        "# Creamos \"ttransacciones\"\n",
        "\n",
        "df3[\"ttransacciones\"] = np.where(df3[[\"tcallcenter\", \"thomebanking\", \"tautoservicio\"]].sum(axis = 1) != 0, 1, 0)"
      ]
    },
    {
      "cell_type": "code",
      "execution_count": null,
      "id": "dfd2eded",
      "metadata": {
        "id": "dfd2eded"
      },
      "outputs": [],
      "source": [
        "# Genero el drop\n",
        "\n",
        "drop_25 = [\"tcallcenter\", \"thomebanking\", \"tautoservicio\"]\n",
        "df3 = df3.drop(drop_25, axis = 1)"
      ]
    },
    {
      "cell_type": "code",
      "execution_count": null,
      "id": "f0ccd4df",
      "metadata": {
        "id": "f0ccd4df"
      },
      "outputs": [],
      "source": [
        "# Creamos \"ctransacciones\"\n",
        "\n",
        "df3[\"ctransacciones\"] = df3[\"ccallcenter_transacciones\"] + df3[\"chomebanking_transacciones\"] + df3[\"cautoservicio_transacciones\"]"
      ]
    },
    {
      "cell_type": "code",
      "execution_count": null,
      "id": "9b357175",
      "metadata": {
        "id": "9b357175"
      },
      "outputs": [],
      "source": [
        "# Genero el drop\n",
        "\n",
        "drop_26 = [\"ccallcenter_transacciones\", \"chomebanking_transacciones\", \"cautoservicio_transacciones\"]\n",
        "df3 = df3.drop(drop_26, axis = 1)"
      ]
    },
    {
      "cell_type": "code",
      "execution_count": null,
      "id": "0ca26050",
      "metadata": {
        "id": "0ca26050"
      },
      "outputs": [],
      "source": [
        "# Creamos \"tcajas_total\"\n",
        "\n",
        "df3[\"tcajas_total\"] = np.where(df3[[\"tcajas\", \"tcajas_depositos\", \"tcajas_extracciones\", \"tcajas_otras\"]].sum(axis = 1) != 0, 1, 0)"
      ]
    },
    {
      "cell_type": "code",
      "execution_count": null,
      "id": "8c7be889",
      "metadata": {
        "id": "8c7be889"
      },
      "outputs": [],
      "source": [
        "# Genero el drop\n",
        "\n",
        "drop_27 = [\"tcajas\", \"tcajas_depositos\", \"tcajas_extracciones\", \"tcajas_otras\"]\n",
        "df3 = df3.drop(drop_27, axis = 1)"
      ]
    },
    {
      "cell_type": "code",
      "execution_count": null,
      "id": "f5a5de16",
      "metadata": {
        "id": "f5a5de16"
      },
      "outputs": [],
      "source": [
        "# Creamos \"tcajero_transaccion\"\n",
        "\n",
        "df3[\"tcajero_transaccion\"] = np.where(df3[[\"ccajeros_propio_transacciones\", \"ccajeros_ajenos_transacciones\"]].sum(axis = 1) != 0, 1, 0)"
      ]
    },
    {
      "cell_type": "code",
      "execution_count": null,
      "id": "073721c7",
      "metadata": {
        "id": "073721c7"
      },
      "outputs": [],
      "source": [
        "# Genero el drop\n",
        "\n",
        "drop_28 = [\"ccajeros_propio_transacciones\", \"ccajeros_ajenos_transacciones\"]\n",
        "df3 = df3.drop(drop_28, axis = 1)"
      ]
    },
    {
      "cell_type": "code",
      "execution_count": null,
      "id": "992cafa2",
      "metadata": {
        "id": "992cafa2"
      },
      "outputs": [],
      "source": [
        "# Creamos \"mcajero_transaccion\"\n",
        "\n",
        "df3[\"mcajero_transaccion\"] = df3[\"mcajeros_propio\"] + df3[\"mcajeros_ajenos\"]"
      ]
    },
    {
      "cell_type": "code",
      "execution_count": null,
      "id": "bab20fc0",
      "metadata": {
        "id": "bab20fc0"
      },
      "outputs": [],
      "source": [
        "# Genero el drop\n",
        "\n",
        "drop_29 = [\"mcajeros_propio\", \"mcajeros_ajenos\"]\n",
        "df3 = df3.drop(drop_29, axis = 1)"
      ]
    },
    {
      "cell_type": "code",
      "execution_count": null,
      "id": "ddba15b5",
      "metadata": {
        "id": "ddba15b5"
      },
      "outputs": [],
      "source": [
        "# Creamos \"ttarjeta_visa_master\"\n",
        "\n",
        "df3[\"ttarjeta_visa_master\"] = np.where(df3[[\"ttarjeta_visa\", \"ttarjeta_master\"]].sum(axis = 1) != 0, 1, 0)"
      ]
    },
    {
      "cell_type": "code",
      "execution_count": null,
      "id": "480651e3",
      "metadata": {
        "id": "480651e3"
      },
      "outputs": [],
      "source": [
        "# Genero el drop\n",
        "\n",
        "drop_30 = [\"ttarjeta_visa\", \"ttarjeta_master\"]\n",
        "df3 = df3.drop(drop_30, axis = 1)"
      ]
    },
    {
      "cell_type": "code",
      "execution_count": null,
      "id": "29918d74",
      "metadata": {
        "id": "29918d74",
        "outputId": "7917d369-9987-4424-84ef-437cc00d7f4f",
        "colab": {
          "base_uri": "https://localhost:8080/"
        }
      },
      "outputs": [
        {
          "output_type": "execute_result",
          "data": {
            "text/plain": [
              "6         1.17\n",
              "9         1.17\n",
              "12        1.17\n",
              "15        1.17\n",
              "18        1.17\n",
              "          ... \n",
              "549858    0.00\n",
              "549859    1.17\n",
              "549860    1.17\n",
              "549861    1.17\n",
              "549862    1.17\n",
              "Name: mdescubierto_preacordado, Length: 184539, dtype: float64"
            ]
          },
          "metadata": {},
          "execution_count": 126
        }
      ],
      "source": [
        "df3[\"mdescubierto_preacordado\"]"
      ]
    },
    {
      "cell_type": "code",
      "execution_count": null,
      "id": "6c9d8f7f",
      "metadata": {
        "id": "6c9d8f7f"
      },
      "outputs": [],
      "source": [
        "df3[\"mdescubierto_preacordado\"] = df3[\"mdescubierto_preacordado\"].replace({1.17: 1})"
      ]
    },
    {
      "cell_type": "code",
      "execution_count": null,
      "id": "f17d95a7",
      "metadata": {
        "id": "f17d95a7"
      },
      "outputs": [],
      "source": [
        "df4 = df3.copy()"
      ]
    },
    {
      "cell_type": "code",
      "execution_count": null,
      "id": "116fec22",
      "metadata": {
        "id": "116fec22"
      },
      "outputs": [],
      "source": [
        "# Creamos una lista con todas las variables numéricas\n",
        "\n",
        "numericas = [\"cliente_edad\", \"cliente_antiguedad\", \"mrentabilidad\", \"mrentabilidad_annual\", \"mcomisiones\",\n",
        "             \"mactivos_margen\", \"mpasivos_margen\", \"mcaja_ahorro_dolares\", \"mcuentas_saldo\", \n",
        "             \"ctarjeta_debito_transacciones\", \"mautoservicio\", \"mplan_sueldo\", \"cplan_sueldo_transaccion\",\n",
        "            \"cextraccion_autoservicio\", \"mextraccion_autoservicio\", \"Master_mfinanciacion_limite\",\n",
        "            \"Master_msaldototal\", \"Master_msaldodolares\", \"Master_mpagado\", \"Visa_mfinanciacion_limite\",\n",
        "            \"Visa_msaldototal\", \"Visa_msaldodolares\", \"Visa_madelantopesos\", \"Visa_madelantodolares\",\n",
        "            \"Visa_mpagado\", \"Visa_mpagosdolares\", \"Visa_mconsumototal\", \"mcaja_ahorro_CC\", \"mtarjeta_all_consumo\",\n",
        "            \"cprestamos_all\", \"mprestamos_all\", \"renta_dolar\", \"renta_pesos\", \"mdebitos_automaticos\",\n",
        "            \"mdescuentos\", \"mcomision\", \"ccomision\", \"ccambio_venta_compra\", \"mcambio_venta_compra\", \n",
        "            \"ctransferencia_emitida_recibida\", \"mtransferencia_emitida_recibida\", \"ccheques_emitido_depositado\",\n",
        "            \"mcheques_emitido_depositado\", \"ccheques_emitido_depositado_r\", \"mcheques_emitido_depositado_r\",\n",
        "            \"ctransacciones\", \"mcajero_transaccion\", \"ctarjeta_all_transacciones\"]"
      ]
    },
    {
      "cell_type": "code",
      "execution_count": null,
      "id": "89a9820f",
      "metadata": {
        "id": "89a9820f"
      },
      "outputs": [],
      "source": [
        "categoricas = [\"marketing_activo_ultimos90dias\", \"cliente_vip\", \"cliente_sucursal\", \"marketing_coss_selling\",\n",
        "               \"mdescubierto_preacordado\", \"ttarjeta_debito\", \"tcaja_seguridad\", \"tplan_sueldo\",\n",
        "               \"tmovimientos_ultimos90dias\", \"Master_marca_atraso\", \"Master_cuenta_estado\", \"Master_tconsumos\",\n",
        "               \"Master_tadelantosefectivo\", \"Visa_marca_atraso\", \"Visa_cuenta_estado\", \"Visa_tconsumos\",\n",
        "               \"Visa_tadelantosefectivo\", \"tdescubierto_preacordado\", \"tpaquete\",\n",
        "               \"tcuenta\", \"trenta\", \"tseguro\", \"tdebitos_automaticos\", \"tdescuento\", \"ttransacciones\", \"tcajas_total\",\n",
        "               \"tcajero_transaccion\", \"ttarjeta_visa_master\"]"
      ]
    },
    {
      "cell_type": "markdown",
      "id": "dd883b12",
      "metadata": {
        "id": "dd883b12"
      },
      "source": [
        "## 3. Dummies"
      ]
    },
    {
      "cell_type": "markdown",
      "id": "2ffa1af1",
      "metadata": {
        "id": "2ffa1af1"
      },
      "source": [
        "### A. marketing_coss_selling"
      ]
    },
    {
      "cell_type": "code",
      "execution_count": null,
      "id": "6cdae476",
      "metadata": {
        "id": "6cdae476"
      },
      "outputs": [],
      "source": [
        "df4[\"marketing_coss_selling\"] = df4[\"marketing_coss_selling\"].astype(\"str\")"
      ]
    },
    {
      "cell_type": "code",
      "execution_count": null,
      "id": "83bd1087",
      "metadata": {
        "id": "83bd1087"
      },
      "outputs": [],
      "source": [
        "list_marketing_coss_selling = [\"7\", \"6\", \"8\", \"5\", \"9\"]"
      ]
    },
    {
      "cell_type": "code",
      "execution_count": null,
      "id": "9905d195",
      "metadata": {
        "id": "9905d195"
      },
      "outputs": [],
      "source": [
        "mask_marketing_coss_selling = df4[\"marketing_coss_selling\"].isin(list_marketing_coss_selling) == False"
      ]
    },
    {
      "cell_type": "code",
      "execution_count": null,
      "id": "e51ea20c",
      "metadata": {
        "id": "e51ea20c",
        "outputId": "897d32f2-49c5-45c1-ada5-3532afe155b4",
        "colab": {
          "base_uri": "https://localhost:8080/"
        }
      },
      "outputs": [
        {
          "output_type": "stream",
          "name": "stderr",
          "text": [
            "/usr/local/lib/python3.7/dist-packages/ipykernel_launcher.py:1: SettingWithCopyWarning: \n",
            "A value is trying to be set on a copy of a slice from a DataFrame\n",
            "\n",
            "See the caveats in the documentation: https://pandas.pydata.org/pandas-docs/stable/user_guide/indexing.html#returning-a-view-versus-a-copy\n",
            "  \"\"\"Entry point for launching an IPython kernel.\n"
          ]
        }
      ],
      "source": [
        "df4[\"marketing_coss_selling\"][mask_marketing_coss_selling] = \"otros\""
      ]
    },
    {
      "cell_type": "code",
      "execution_count": null,
      "id": "750d1fb1",
      "metadata": {
        "id": "750d1fb1",
        "outputId": "d801bbcc-7c89-4681-b98d-d171ef486346",
        "colab": {
          "base_uri": "https://localhost:8080/"
        }
      },
      "outputs": [
        {
          "output_type": "execute_result",
          "data": {
            "text/plain": [
              "array(['9', 'otros', '6', '8', '7', '5'], dtype=object)"
            ]
          },
          "metadata": {},
          "execution_count": 135
        }
      ],
      "source": [
        "df4[\"marketing_coss_selling\"].unique()"
      ]
    },
    {
      "cell_type": "markdown",
      "id": "dc4bacf5",
      "metadata": {
        "id": "dc4bacf5"
      },
      "source": [
        "### B. cliente_sucursal"
      ]
    },
    {
      "cell_type": "code",
      "execution_count": null,
      "id": "4af17125",
      "metadata": {
        "id": "4af17125"
      },
      "outputs": [],
      "source": [
        "df4[\"cliente_sucursal\"] = df4[\"cliente_sucursal\"].astype(\"str\")"
      ]
    },
    {
      "cell_type": "code",
      "execution_count": null,
      "id": "ae39301a",
      "metadata": {
        "id": "ae39301a"
      },
      "outputs": [],
      "source": [
        "list_cliente_sucursal = [\"2\", \"209\", \"422\", \"545\", \"50\", \"941\", \"548\", \"128\", \"227\", \"1436\"]"
      ]
    },
    {
      "cell_type": "code",
      "execution_count": null,
      "id": "40d9a67d",
      "metadata": {
        "id": "40d9a67d"
      },
      "outputs": [],
      "source": [
        "mask_cliente_sucursal = df4[\"cliente_sucursal\"].isin(list_cliente_sucursal) == False"
      ]
    },
    {
      "cell_type": "code",
      "execution_count": null,
      "id": "cb04e93f",
      "metadata": {
        "id": "cb04e93f",
        "outputId": "13e2a29e-cd89-4270-8e85-54ddc297ef79",
        "colab": {
          "base_uri": "https://localhost:8080/"
        }
      },
      "outputs": [
        {
          "output_type": "stream",
          "name": "stderr",
          "text": [
            "/usr/local/lib/python3.7/dist-packages/ipykernel_launcher.py:1: SettingWithCopyWarning: \n",
            "A value is trying to be set on a copy of a slice from a DataFrame\n",
            "\n",
            "See the caveats in the documentation: https://pandas.pydata.org/pandas-docs/stable/user_guide/indexing.html#returning-a-view-versus-a-copy\n",
            "  \"\"\"Entry point for launching an IPython kernel.\n"
          ]
        }
      ],
      "source": [
        "df4[\"cliente_sucursal\"][mask_cliente_sucursal] = \"otros\""
      ]
    },
    {
      "cell_type": "code",
      "execution_count": null,
      "id": "07928de8",
      "metadata": {
        "id": "07928de8",
        "outputId": "3bfc351f-9522-417f-fc8e-6f82f8c534ca",
        "colab": {
          "base_uri": "https://localhost:8080/"
        }
      },
      "outputs": [
        {
          "output_type": "execute_result",
          "data": {
            "text/plain": [
              "array(['otros', '227', '545', '50', '2', '941', '1436', '128', '209',\n",
              "       '548', '422'], dtype=object)"
            ]
          },
          "metadata": {},
          "execution_count": 140
        }
      ],
      "source": [
        "df4[\"cliente_sucursal\"].unique()"
      ]
    },
    {
      "cell_type": "markdown",
      "id": "1743b9d7",
      "metadata": {
        "id": "1743b9d7"
      },
      "source": [
        "### C. cliente_edad"
      ]
    },
    {
      "cell_type": "code",
      "execution_count": null,
      "id": "a7dd3df1",
      "metadata": {
        "id": "a7dd3df1"
      },
      "outputs": [],
      "source": [
        "bins_edad = [0,20,40,60,80,110]\n",
        "labels_edad = ['<20','21-40','41-60','61-80','>80']\n",
        "df4['edad_bin'] = pd.cut(df4['cliente_edad'], bins = bins_edad, labels = labels_edad, right=False)"
      ]
    },
    {
      "cell_type": "code",
      "execution_count": null,
      "id": "f76dcb37",
      "metadata": {
        "id": "f76dcb37",
        "outputId": "9e98919a-e081-443b-b461-d58017740e2f",
        "colab": {
          "base_uri": "https://localhost:8080/"
        }
      },
      "outputs": [
        {
          "output_type": "execute_result",
          "data": {
            "text/plain": [
              "['61-80', '41-60', '21-40', '>80', '<20']\n",
              "Categories (5, object): ['<20' < '21-40' < '41-60' < '61-80' < '>80']"
            ]
          },
          "metadata": {},
          "execution_count": 142
        }
      ],
      "source": [
        "df4['edad_bin'].unique()"
      ]
    },
    {
      "cell_type": "code",
      "execution_count": null,
      "id": "e3491ce6",
      "metadata": {
        "id": "e3491ce6"
      },
      "outputs": [],
      "source": [
        "df4['edad_bin'] = df4['edad_bin'].astype(\"str\")"
      ]
    },
    {
      "cell_type": "markdown",
      "id": "65fb5988",
      "metadata": {
        "id": "65fb5988"
      },
      "source": [
        "### D. cliente_antiguedad"
      ]
    },
    {
      "cell_type": "code",
      "execution_count": null,
      "id": "67e5a811",
      "metadata": {
        "id": "67e5a811"
      },
      "outputs": [],
      "source": [
        "bins_antiguedad = [0,20,40,60,80,110]\n",
        "labels_antiguedad = ['<20','21-40','41-60','61-80','>80']\n",
        "df4['antiq_bin'] = pd.cut(df4['cliente_antiguedad'], bins = bins_antiguedad, labels = labels_antiguedad, right = False)"
      ]
    },
    {
      "cell_type": "code",
      "execution_count": null,
      "id": "71f4fb0d",
      "metadata": {
        "id": "71f4fb0d",
        "outputId": "1845ecf6-fee5-42cd-91b1-aca0b7d1a810",
        "colab": {
          "base_uri": "https://localhost:8080/"
        }
      },
      "outputs": [
        {
          "output_type": "execute_result",
          "data": {
            "text/plain": [
              "[NaN, '>80', '41-60', '<20', '61-80', '21-40']\n",
              "Categories (5, object): ['<20' < '21-40' < '41-60' < '61-80' < '>80']"
            ]
          },
          "metadata": {},
          "execution_count": 145
        }
      ],
      "source": [
        "df4['antiq_bin'].unique()"
      ]
    },
    {
      "cell_type": "code",
      "execution_count": null,
      "id": "dcba8e71",
      "metadata": {
        "id": "dcba8e71"
      },
      "outputs": [],
      "source": [
        "df4['antiq_bin'] = df4['antiq_bin'].astype(\"str\")"
      ]
    },
    {
      "cell_type": "markdown",
      "id": "deee34d8",
      "metadata": {
        "id": "deee34d8"
      },
      "source": [
        "### E. Creo las dummies"
      ]
    },
    {
      "cell_type": "code",
      "execution_count": null,
      "id": "f8c06649",
      "metadata": {
        "id": "f8c06649"
      },
      "outputs": [],
      "source": [
        "df4[[\"Master_cuenta_estado\", \"Visa_cuenta_estado\"]] =  df4[[\"Master_cuenta_estado\", \"Visa_cuenta_estado\"]].astype(\"str\")"
      ]
    },
    {
      "cell_type": "code",
      "execution_count": null,
      "id": "89cdde7f",
      "metadata": {
        "id": "89cdde7f"
      },
      "outputs": [],
      "source": [
        "para_encoder = [\"edad_bin\", \"antiq_bin\", \"cliente_sucursal\", \"marketing_coss_selling\", \"Master_cuenta_estado\", \"Visa_cuenta_estado\"]"
      ]
    },
    {
      "cell_type": "code",
      "execution_count": null,
      "id": "f221f6cf",
      "metadata": {
        "id": "f221f6cf",
        "outputId": "7b2976b7-121e-4f50-f322-0e714f899b7a",
        "colab": {
          "base_uri": "https://localhost:8080/"
        }
      },
      "outputs": [
        {
          "output_type": "execute_result",
          "data": {
            "text/plain": [
              "edad_bin                  object\n",
              "antiq_bin                 object\n",
              "cliente_sucursal          object\n",
              "marketing_coss_selling    object\n",
              "Master_cuenta_estado      object\n",
              "Visa_cuenta_estado        object\n",
              "dtype: object"
            ]
          },
          "metadata": {},
          "execution_count": 149
        }
      ],
      "source": [
        "df4[para_encoder].dtypes"
      ]
    },
    {
      "cell_type": "code",
      "execution_count": null,
      "id": "66718990",
      "metadata": {
        "id": "66718990",
        "outputId": "f5434f08-4610-46b3-8cef-83f4721d1eab",
        "colab": {
          "base_uri": "https://localhost:8080/"
        }
      },
      "outputs": [
        {
          "output_type": "execute_result",
          "data": {
            "text/plain": [
              "[array(['21-40', '41-60', '61-80', '<20', '>80'], dtype=object),\n",
              " array(['21-40', '41-60', '61-80', '<20', '>80', 'nan'], dtype=object),\n",
              " array(['128', '1436', '2', '209', '227', '422', '50', '545', '548', '941',\n",
              "        'otros'], dtype=object),\n",
              " array(['5', '6', '7', '8', '9', 'otros'], dtype=object),\n",
              " array(['10.0', '11.0', '12.0', '19.0'], dtype=object),\n",
              " array(['10.0', '11.0', '12.0', '19.0'], dtype=object)]"
            ]
          },
          "metadata": {},
          "execution_count": 150
        }
      ],
      "source": [
        "enc = OneHotEncoder(drop = \"first\")\n",
        "X = df4[para_encoder]\n",
        "enc.fit(X)\n",
        "enc.categories_"
      ]
    },
    {
      "cell_type": "code",
      "execution_count": null,
      "id": "920a9938",
      "metadata": {
        "id": "920a9938"
      },
      "outputs": [],
      "source": [
        "dummies = enc.transform(X).toarray()"
      ]
    },
    {
      "cell_type": "code",
      "execution_count": null,
      "id": "b59f628a",
      "metadata": {
        "id": "b59f628a",
        "outputId": "a47e752a-79f9-4a27-d626-f890edc55cd7",
        "colab": {
          "base_uri": "https://localhost:8080/",
          "height": 206
        }
      },
      "outputs": [
        {
          "output_type": "execute_result",
          "data": {
            "text/plain": [
              "    0    1    2    3    4    5    6    7    8    9    10   11   12   13   14  \\\n",
              "0  0.0  1.0  0.0  0.0  0.0  0.0  0.0  0.0  1.0  0.0  0.0  0.0  0.0  0.0  0.0   \n",
              "1  0.0  1.0  0.0  0.0  0.0  0.0  0.0  0.0  1.0  0.0  0.0  0.0  1.0  0.0  0.0   \n",
              "2  1.0  0.0  0.0  0.0  0.0  0.0  0.0  1.0  0.0  0.0  0.0  0.0  0.0  0.0  0.0   \n",
              "3  1.0  0.0  0.0  0.0  0.0  0.0  0.0  0.0  1.0  0.0  0.0  0.0  0.0  0.0  0.0   \n",
              "4  1.0  0.0  0.0  0.0  1.0  0.0  0.0  0.0  0.0  0.0  0.0  0.0  0.0  0.0  0.0   \n",
              "\n",
              "    15   16   17   18   19   20   21   22   23   24   25   26   27   28   29  \n",
              "0  0.0  0.0  0.0  1.0  0.0  0.0  0.0  1.0  0.0  0.0  0.0  0.0  0.0  0.0  0.0  \n",
              "1  0.0  0.0  0.0  0.0  0.0  0.0  0.0  1.0  0.0  0.0  0.0  0.0  0.0  0.0  0.0  \n",
              "2  0.0  0.0  0.0  1.0  0.0  0.0  0.0  1.0  0.0  0.0  0.0  0.0  0.0  0.0  0.0  \n",
              "3  1.0  0.0  0.0  0.0  0.0  0.0  0.0  0.0  1.0  0.0  0.0  0.0  0.0  0.0  0.0  \n",
              "4  0.0  0.0  0.0  1.0  0.0  0.0  0.0  0.0  1.0  0.0  0.0  0.0  0.0  0.0  0.0  "
            ],
            "text/html": [
              "\n",
              "  <div id=\"df-f8c25544-db66-47d6-b50c-e2c0cfbaae5c\">\n",
              "    <div class=\"colab-df-container\">\n",
              "      <div>\n",
              "<style scoped>\n",
              "    .dataframe tbody tr th:only-of-type {\n",
              "        vertical-align: middle;\n",
              "    }\n",
              "\n",
              "    .dataframe tbody tr th {\n",
              "        vertical-align: top;\n",
              "    }\n",
              "\n",
              "    .dataframe thead th {\n",
              "        text-align: right;\n",
              "    }\n",
              "</style>\n",
              "<table border=\"1\" class=\"dataframe\">\n",
              "  <thead>\n",
              "    <tr style=\"text-align: right;\">\n",
              "      <th></th>\n",
              "      <th>0</th>\n",
              "      <th>1</th>\n",
              "      <th>2</th>\n",
              "      <th>3</th>\n",
              "      <th>4</th>\n",
              "      <th>5</th>\n",
              "      <th>6</th>\n",
              "      <th>7</th>\n",
              "      <th>8</th>\n",
              "      <th>9</th>\n",
              "      <th>10</th>\n",
              "      <th>11</th>\n",
              "      <th>12</th>\n",
              "      <th>13</th>\n",
              "      <th>14</th>\n",
              "      <th>15</th>\n",
              "      <th>16</th>\n",
              "      <th>17</th>\n",
              "      <th>18</th>\n",
              "      <th>19</th>\n",
              "      <th>20</th>\n",
              "      <th>21</th>\n",
              "      <th>22</th>\n",
              "      <th>23</th>\n",
              "      <th>24</th>\n",
              "      <th>25</th>\n",
              "      <th>26</th>\n",
              "      <th>27</th>\n",
              "      <th>28</th>\n",
              "      <th>29</th>\n",
              "    </tr>\n",
              "  </thead>\n",
              "  <tbody>\n",
              "    <tr>\n",
              "      <th>0</th>\n",
              "      <td>0.0</td>\n",
              "      <td>1.0</td>\n",
              "      <td>0.0</td>\n",
              "      <td>0.0</td>\n",
              "      <td>0.0</td>\n",
              "      <td>0.0</td>\n",
              "      <td>0.0</td>\n",
              "      <td>0.0</td>\n",
              "      <td>1.0</td>\n",
              "      <td>0.0</td>\n",
              "      <td>0.0</td>\n",
              "      <td>0.0</td>\n",
              "      <td>0.0</td>\n",
              "      <td>0.0</td>\n",
              "      <td>0.0</td>\n",
              "      <td>0.0</td>\n",
              "      <td>0.0</td>\n",
              "      <td>0.0</td>\n",
              "      <td>1.0</td>\n",
              "      <td>0.0</td>\n",
              "      <td>0.0</td>\n",
              "      <td>0.0</td>\n",
              "      <td>1.0</td>\n",
              "      <td>0.0</td>\n",
              "      <td>0.0</td>\n",
              "      <td>0.0</td>\n",
              "      <td>0.0</td>\n",
              "      <td>0.0</td>\n",
              "      <td>0.0</td>\n",
              "      <td>0.0</td>\n",
              "    </tr>\n",
              "    <tr>\n",
              "      <th>1</th>\n",
              "      <td>0.0</td>\n",
              "      <td>1.0</td>\n",
              "      <td>0.0</td>\n",
              "      <td>0.0</td>\n",
              "      <td>0.0</td>\n",
              "      <td>0.0</td>\n",
              "      <td>0.0</td>\n",
              "      <td>0.0</td>\n",
              "      <td>1.0</td>\n",
              "      <td>0.0</td>\n",
              "      <td>0.0</td>\n",
              "      <td>0.0</td>\n",
              "      <td>1.0</td>\n",
              "      <td>0.0</td>\n",
              "      <td>0.0</td>\n",
              "      <td>0.0</td>\n",
              "      <td>0.0</td>\n",
              "      <td>0.0</td>\n",
              "      <td>0.0</td>\n",
              "      <td>0.0</td>\n",
              "      <td>0.0</td>\n",
              "      <td>0.0</td>\n",
              "      <td>1.0</td>\n",
              "      <td>0.0</td>\n",
              "      <td>0.0</td>\n",
              "      <td>0.0</td>\n",
              "      <td>0.0</td>\n",
              "      <td>0.0</td>\n",
              "      <td>0.0</td>\n",
              "      <td>0.0</td>\n",
              "    </tr>\n",
              "    <tr>\n",
              "      <th>2</th>\n",
              "      <td>1.0</td>\n",
              "      <td>0.0</td>\n",
              "      <td>0.0</td>\n",
              "      <td>0.0</td>\n",
              "      <td>0.0</td>\n",
              "      <td>0.0</td>\n",
              "      <td>0.0</td>\n",
              "      <td>1.0</td>\n",
              "      <td>0.0</td>\n",
              "      <td>0.0</td>\n",
              "      <td>0.0</td>\n",
              "      <td>0.0</td>\n",
              "      <td>0.0</td>\n",
              "      <td>0.0</td>\n",
              "      <td>0.0</td>\n",
              "      <td>0.0</td>\n",
              "      <td>0.0</td>\n",
              "      <td>0.0</td>\n",
              "      <td>1.0</td>\n",
              "      <td>0.0</td>\n",
              "      <td>0.0</td>\n",
              "      <td>0.0</td>\n",
              "      <td>1.0</td>\n",
              "      <td>0.0</td>\n",
              "      <td>0.0</td>\n",
              "      <td>0.0</td>\n",
              "      <td>0.0</td>\n",
              "      <td>0.0</td>\n",
              "      <td>0.0</td>\n",
              "      <td>0.0</td>\n",
              "    </tr>\n",
              "    <tr>\n",
              "      <th>3</th>\n",
              "      <td>1.0</td>\n",
              "      <td>0.0</td>\n",
              "      <td>0.0</td>\n",
              "      <td>0.0</td>\n",
              "      <td>0.0</td>\n",
              "      <td>0.0</td>\n",
              "      <td>0.0</td>\n",
              "      <td>0.0</td>\n",
              "      <td>1.0</td>\n",
              "      <td>0.0</td>\n",
              "      <td>0.0</td>\n",
              "      <td>0.0</td>\n",
              "      <td>0.0</td>\n",
              "      <td>0.0</td>\n",
              "      <td>0.0</td>\n",
              "      <td>1.0</td>\n",
              "      <td>0.0</td>\n",
              "      <td>0.0</td>\n",
              "      <td>0.0</td>\n",
              "      <td>0.0</td>\n",
              "      <td>0.0</td>\n",
              "      <td>0.0</td>\n",
              "      <td>0.0</td>\n",
              "      <td>1.0</td>\n",
              "      <td>0.0</td>\n",
              "      <td>0.0</td>\n",
              "      <td>0.0</td>\n",
              "      <td>0.0</td>\n",
              "      <td>0.0</td>\n",
              "      <td>0.0</td>\n",
              "    </tr>\n",
              "    <tr>\n",
              "      <th>4</th>\n",
              "      <td>1.0</td>\n",
              "      <td>0.0</td>\n",
              "      <td>0.0</td>\n",
              "      <td>0.0</td>\n",
              "      <td>1.0</td>\n",
              "      <td>0.0</td>\n",
              "      <td>0.0</td>\n",
              "      <td>0.0</td>\n",
              "      <td>0.0</td>\n",
              "      <td>0.0</td>\n",
              "      <td>0.0</td>\n",
              "      <td>0.0</td>\n",
              "      <td>0.0</td>\n",
              "      <td>0.0</td>\n",
              "      <td>0.0</td>\n",
              "      <td>0.0</td>\n",
              "      <td>0.0</td>\n",
              "      <td>0.0</td>\n",
              "      <td>1.0</td>\n",
              "      <td>0.0</td>\n",
              "      <td>0.0</td>\n",
              "      <td>0.0</td>\n",
              "      <td>0.0</td>\n",
              "      <td>1.0</td>\n",
              "      <td>0.0</td>\n",
              "      <td>0.0</td>\n",
              "      <td>0.0</td>\n",
              "      <td>0.0</td>\n",
              "      <td>0.0</td>\n",
              "      <td>0.0</td>\n",
              "    </tr>\n",
              "  </tbody>\n",
              "</table>\n",
              "</div>\n",
              "      <button class=\"colab-df-convert\" onclick=\"convertToInteractive('df-f8c25544-db66-47d6-b50c-e2c0cfbaae5c')\"\n",
              "              title=\"Convert this dataframe to an interactive table.\"\n",
              "              style=\"display:none;\">\n",
              "        \n",
              "  <svg xmlns=\"http://www.w3.org/2000/svg\" height=\"24px\"viewBox=\"0 0 24 24\"\n",
              "       width=\"24px\">\n",
              "    <path d=\"M0 0h24v24H0V0z\" fill=\"none\"/>\n",
              "    <path d=\"M18.56 5.44l.94 2.06.94-2.06 2.06-.94-2.06-.94-.94-2.06-.94 2.06-2.06.94zm-11 1L8.5 8.5l.94-2.06 2.06-.94-2.06-.94L8.5 2.5l-.94 2.06-2.06.94zm10 10l.94 2.06.94-2.06 2.06-.94-2.06-.94-.94-2.06-.94 2.06-2.06.94z\"/><path d=\"M17.41 7.96l-1.37-1.37c-.4-.4-.92-.59-1.43-.59-.52 0-1.04.2-1.43.59L10.3 9.45l-7.72 7.72c-.78.78-.78 2.05 0 2.83L4 21.41c.39.39.9.59 1.41.59.51 0 1.02-.2 1.41-.59l7.78-7.78 2.81-2.81c.8-.78.8-2.07 0-2.86zM5.41 20L4 18.59l7.72-7.72 1.47 1.35L5.41 20z\"/>\n",
              "  </svg>\n",
              "      </button>\n",
              "      \n",
              "  <style>\n",
              "    .colab-df-container {\n",
              "      display:flex;\n",
              "      flex-wrap:wrap;\n",
              "      gap: 12px;\n",
              "    }\n",
              "\n",
              "    .colab-df-convert {\n",
              "      background-color: #E8F0FE;\n",
              "      border: none;\n",
              "      border-radius: 50%;\n",
              "      cursor: pointer;\n",
              "      display: none;\n",
              "      fill: #1967D2;\n",
              "      height: 32px;\n",
              "      padding: 0 0 0 0;\n",
              "      width: 32px;\n",
              "    }\n",
              "\n",
              "    .colab-df-convert:hover {\n",
              "      background-color: #E2EBFA;\n",
              "      box-shadow: 0px 1px 2px rgba(60, 64, 67, 0.3), 0px 1px 3px 1px rgba(60, 64, 67, 0.15);\n",
              "      fill: #174EA6;\n",
              "    }\n",
              "\n",
              "    [theme=dark] .colab-df-convert {\n",
              "      background-color: #3B4455;\n",
              "      fill: #D2E3FC;\n",
              "    }\n",
              "\n",
              "    [theme=dark] .colab-df-convert:hover {\n",
              "      background-color: #434B5C;\n",
              "      box-shadow: 0px 1px 3px 1px rgba(0, 0, 0, 0.15);\n",
              "      filter: drop-shadow(0px 1px 2px rgba(0, 0, 0, 0.3));\n",
              "      fill: #FFFFFF;\n",
              "    }\n",
              "  </style>\n",
              "\n",
              "      <script>\n",
              "        const buttonEl =\n",
              "          document.querySelector('#df-f8c25544-db66-47d6-b50c-e2c0cfbaae5c button.colab-df-convert');\n",
              "        buttonEl.style.display =\n",
              "          google.colab.kernel.accessAllowed ? 'block' : 'none';\n",
              "\n",
              "        async function convertToInteractive(key) {\n",
              "          const element = document.querySelector('#df-f8c25544-db66-47d6-b50c-e2c0cfbaae5c');\n",
              "          const dataTable =\n",
              "            await google.colab.kernel.invokeFunction('convertToInteractive',\n",
              "                                                     [key], {});\n",
              "          if (!dataTable) return;\n",
              "\n",
              "          const docLinkHtml = 'Like what you see? Visit the ' +\n",
              "            '<a target=\"_blank\" href=https://colab.research.google.com/notebooks/data_table.ipynb>data table notebook</a>'\n",
              "            + ' to learn more about interactive tables.';\n",
              "          element.innerHTML = '';\n",
              "          dataTable['output_type'] = 'display_data';\n",
              "          await google.colab.output.renderOutput(dataTable, element);\n",
              "          const docLink = document.createElement('div');\n",
              "          docLink.innerHTML = docLinkHtml;\n",
              "          element.appendChild(docLink);\n",
              "        }\n",
              "      </script>\n",
              "    </div>\n",
              "  </div>\n",
              "  "
            ]
          },
          "metadata": {},
          "execution_count": 152
        }
      ],
      "source": [
        "dummies_df = pd.DataFrame(dummies)\n",
        "dummies_df.head()"
      ]
    },
    {
      "cell_type": "code",
      "execution_count": null,
      "id": "fa1bb023",
      "metadata": {
        "id": "fa1bb023",
        "outputId": "4685748c-ce65-46c7-cb68-3301f129cfc3",
        "colab": {
          "base_uri": "https://localhost:8080/"
        }
      },
      "outputs": [
        {
          "output_type": "execute_result",
          "data": {
            "text/plain": [
              "[array(['edad_bin_21-40', 'edad_bin_41-60', 'edad_bin_61-80',\n",
              "        'edad_bin_<20', 'edad_bin_>80'], dtype=object),\n",
              " array(['antiq_bin_21-40', 'antiq_bin_41-60', 'antiq_bin_61-80',\n",
              "        'antiq_bin_<20', 'antiq_bin_>80', 'antiq_bin_nan'], dtype=object),\n",
              " array(['cliente_sucursal_128', 'cliente_sucursal_1436',\n",
              "        'cliente_sucursal_2', 'cliente_sucursal_209',\n",
              "        'cliente_sucursal_227', 'cliente_sucursal_422',\n",
              "        'cliente_sucursal_50', 'cliente_sucursal_545',\n",
              "        'cliente_sucursal_548', 'cliente_sucursal_941',\n",
              "        'cliente_sucursal_otros'], dtype=object),\n",
              " array(['marketing_coss_selling_5', 'marketing_coss_selling_6',\n",
              "        'marketing_coss_selling_7', 'marketing_coss_selling_8',\n",
              "        'marketing_coss_selling_9', 'marketing_coss_selling_otros'],\n",
              "       dtype=object),\n",
              " array(['Master_cuenta_estado_10.0', 'Master_cuenta_estado_11.0',\n",
              "        'Master_cuenta_estado_12.0', 'Master_cuenta_estado_19.0'],\n",
              "       dtype=object),\n",
              " array(['Visa_cuenta_estado_10.0', 'Visa_cuenta_estado_11.0',\n",
              "        'Visa_cuenta_estado_12.0', 'Visa_cuenta_estado_19.0'], dtype=object)]"
            ]
          },
          "metadata": {},
          "execution_count": 153
        }
      ],
      "source": [
        "col_names = [para_encoder[i] + '_' + enc.categories_[i] for i in range(len(para_encoder))] \n",
        "col_names"
      ]
    },
    {
      "cell_type": "code",
      "execution_count": null,
      "id": "9c734f6c",
      "metadata": {
        "id": "9c734f6c",
        "outputId": "d3253199-fe6f-4f11-d5e5-7b0372a4aa05",
        "colab": {
          "base_uri": "https://localhost:8080/"
        }
      },
      "outputs": [
        {
          "output_type": "execute_result",
          "data": {
            "text/plain": [
              "['edad_bin_41-60',\n",
              " 'edad_bin_61-80',\n",
              " 'edad_bin_<20',\n",
              " 'edad_bin_>80',\n",
              " 'antiq_bin_41-60',\n",
              " 'antiq_bin_61-80',\n",
              " 'antiq_bin_<20',\n",
              " 'antiq_bin_>80',\n",
              " 'antiq_bin_nan',\n",
              " 'cliente_sucursal_1436',\n",
              " 'cliente_sucursal_2',\n",
              " 'cliente_sucursal_209',\n",
              " 'cliente_sucursal_227',\n",
              " 'cliente_sucursal_422',\n",
              " 'cliente_sucursal_50',\n",
              " 'cliente_sucursal_545',\n",
              " 'cliente_sucursal_548',\n",
              " 'cliente_sucursal_941',\n",
              " 'cliente_sucursal_otros',\n",
              " 'marketing_coss_selling_6',\n",
              " 'marketing_coss_selling_7',\n",
              " 'marketing_coss_selling_8',\n",
              " 'marketing_coss_selling_9',\n",
              " 'marketing_coss_selling_otros',\n",
              " 'Master_cuenta_estado_11.0',\n",
              " 'Master_cuenta_estado_12.0',\n",
              " 'Master_cuenta_estado_19.0',\n",
              " 'Visa_cuenta_estado_11.0',\n",
              " 'Visa_cuenta_estado_12.0',\n",
              " 'Visa_cuenta_estado_19.0']"
            ]
          },
          "metadata": {},
          "execution_count": 154
        }
      ],
      "source": [
        "col_names_drop_first = [sublist[i] for sublist in col_names for i in range(len(sublist)) if i != 0]\n",
        "col_names_drop_first"
      ]
    },
    {
      "cell_type": "code",
      "execution_count": null,
      "id": "fd2a11ac",
      "metadata": {
        "scrolled": true,
        "id": "fd2a11ac",
        "outputId": "b33a1557-090a-43c2-e34c-60066a898736",
        "colab": {
          "base_uri": "https://localhost:8080/",
          "height": 270
        }
      },
      "outputs": [
        {
          "output_type": "execute_result",
          "data": {
            "text/plain": [
              "   edad_bin_41-60  edad_bin_61-80  edad_bin_<20  edad_bin_>80  \\\n",
              "0             0.0             1.0           0.0           0.0   \n",
              "1             0.0             1.0           0.0           0.0   \n",
              "2             1.0             0.0           0.0           0.0   \n",
              "3             1.0             0.0           0.0           0.0   \n",
              "4             1.0             0.0           0.0           0.0   \n",
              "\n",
              "   antiq_bin_41-60  antiq_bin_61-80  antiq_bin_<20  antiq_bin_>80  \\\n",
              "0              0.0              0.0            0.0            0.0   \n",
              "1              0.0              0.0            0.0            0.0   \n",
              "2              0.0              0.0            0.0            1.0   \n",
              "3              0.0              0.0            0.0            0.0   \n",
              "4              1.0              0.0            0.0            0.0   \n",
              "\n",
              "   antiq_bin_nan  cliente_sucursal_1436  cliente_sucursal_2  \\\n",
              "0            1.0                    0.0                 0.0   \n",
              "1            1.0                    0.0                 0.0   \n",
              "2            0.0                    0.0                 0.0   \n",
              "3            1.0                    0.0                 0.0   \n",
              "4            0.0                    0.0                 0.0   \n",
              "\n",
              "   cliente_sucursal_209  cliente_sucursal_227  cliente_sucursal_422  \\\n",
              "0                   0.0                   0.0                   0.0   \n",
              "1                   0.0                   1.0                   0.0   \n",
              "2                   0.0                   0.0                   0.0   \n",
              "3                   0.0                   0.0                   0.0   \n",
              "4                   0.0                   0.0                   0.0   \n",
              "\n",
              "   cliente_sucursal_50  cliente_sucursal_545  cliente_sucursal_548  \\\n",
              "0                  0.0                   0.0                   0.0   \n",
              "1                  0.0                   0.0                   0.0   \n",
              "2                  0.0                   0.0                   0.0   \n",
              "3                  0.0                   1.0                   0.0   \n",
              "4                  0.0                   0.0                   0.0   \n",
              "\n",
              "   cliente_sucursal_941  cliente_sucursal_otros  marketing_coss_selling_6  \\\n",
              "0                   0.0                     1.0                       0.0   \n",
              "1                   0.0                     0.0                       0.0   \n",
              "2                   0.0                     1.0                       0.0   \n",
              "3                   0.0                     0.0                       0.0   \n",
              "4                   0.0                     1.0                       0.0   \n",
              "\n",
              "   marketing_coss_selling_7  marketing_coss_selling_8  \\\n",
              "0                       0.0                       0.0   \n",
              "1                       0.0                       0.0   \n",
              "2                       0.0                       0.0   \n",
              "3                       0.0                       0.0   \n",
              "4                       0.0                       0.0   \n",
              "\n",
              "   marketing_coss_selling_9  marketing_coss_selling_otros  \\\n",
              "0                       1.0                           0.0   \n",
              "1                       1.0                           0.0   \n",
              "2                       1.0                           0.0   \n",
              "3                       0.0                           1.0   \n",
              "4                       0.0                           1.0   \n",
              "\n",
              "   Master_cuenta_estado_11.0  Master_cuenta_estado_12.0  \\\n",
              "0                        0.0                        0.0   \n",
              "1                        0.0                        0.0   \n",
              "2                        0.0                        0.0   \n",
              "3                        0.0                        0.0   \n",
              "4                        0.0                        0.0   \n",
              "\n",
              "   Master_cuenta_estado_19.0  Visa_cuenta_estado_11.0  \\\n",
              "0                        0.0                      0.0   \n",
              "1                        0.0                      0.0   \n",
              "2                        0.0                      0.0   \n",
              "3                        0.0                      0.0   \n",
              "4                        0.0                      0.0   \n",
              "\n",
              "   Visa_cuenta_estado_12.0  Visa_cuenta_estado_19.0  \n",
              "0                      0.0                      0.0  \n",
              "1                      0.0                      0.0  \n",
              "2                      0.0                      0.0  \n",
              "3                      0.0                      0.0  \n",
              "4                      0.0                      0.0  "
            ],
            "text/html": [
              "\n",
              "  <div id=\"df-cb09cb63-c502-40f6-95e2-0d24e89b42da\">\n",
              "    <div class=\"colab-df-container\">\n",
              "      <div>\n",
              "<style scoped>\n",
              "    .dataframe tbody tr th:only-of-type {\n",
              "        vertical-align: middle;\n",
              "    }\n",
              "\n",
              "    .dataframe tbody tr th {\n",
              "        vertical-align: top;\n",
              "    }\n",
              "\n",
              "    .dataframe thead th {\n",
              "        text-align: right;\n",
              "    }\n",
              "</style>\n",
              "<table border=\"1\" class=\"dataframe\">\n",
              "  <thead>\n",
              "    <tr style=\"text-align: right;\">\n",
              "      <th></th>\n",
              "      <th>edad_bin_41-60</th>\n",
              "      <th>edad_bin_61-80</th>\n",
              "      <th>edad_bin_&lt;20</th>\n",
              "      <th>edad_bin_&gt;80</th>\n",
              "      <th>antiq_bin_41-60</th>\n",
              "      <th>antiq_bin_61-80</th>\n",
              "      <th>antiq_bin_&lt;20</th>\n",
              "      <th>antiq_bin_&gt;80</th>\n",
              "      <th>antiq_bin_nan</th>\n",
              "      <th>cliente_sucursal_1436</th>\n",
              "      <th>cliente_sucursal_2</th>\n",
              "      <th>cliente_sucursal_209</th>\n",
              "      <th>cliente_sucursal_227</th>\n",
              "      <th>cliente_sucursal_422</th>\n",
              "      <th>cliente_sucursal_50</th>\n",
              "      <th>cliente_sucursal_545</th>\n",
              "      <th>cliente_sucursal_548</th>\n",
              "      <th>cliente_sucursal_941</th>\n",
              "      <th>cliente_sucursal_otros</th>\n",
              "      <th>marketing_coss_selling_6</th>\n",
              "      <th>marketing_coss_selling_7</th>\n",
              "      <th>marketing_coss_selling_8</th>\n",
              "      <th>marketing_coss_selling_9</th>\n",
              "      <th>marketing_coss_selling_otros</th>\n",
              "      <th>Master_cuenta_estado_11.0</th>\n",
              "      <th>Master_cuenta_estado_12.0</th>\n",
              "      <th>Master_cuenta_estado_19.0</th>\n",
              "      <th>Visa_cuenta_estado_11.0</th>\n",
              "      <th>Visa_cuenta_estado_12.0</th>\n",
              "      <th>Visa_cuenta_estado_19.0</th>\n",
              "    </tr>\n",
              "  </thead>\n",
              "  <tbody>\n",
              "    <tr>\n",
              "      <th>0</th>\n",
              "      <td>0.0</td>\n",
              "      <td>1.0</td>\n",
              "      <td>0.0</td>\n",
              "      <td>0.0</td>\n",
              "      <td>0.0</td>\n",
              "      <td>0.0</td>\n",
              "      <td>0.0</td>\n",
              "      <td>0.0</td>\n",
              "      <td>1.0</td>\n",
              "      <td>0.0</td>\n",
              "      <td>0.0</td>\n",
              "      <td>0.0</td>\n",
              "      <td>0.0</td>\n",
              "      <td>0.0</td>\n",
              "      <td>0.0</td>\n",
              "      <td>0.0</td>\n",
              "      <td>0.0</td>\n",
              "      <td>0.0</td>\n",
              "      <td>1.0</td>\n",
              "      <td>0.0</td>\n",
              "      <td>0.0</td>\n",
              "      <td>0.0</td>\n",
              "      <td>1.0</td>\n",
              "      <td>0.0</td>\n",
              "      <td>0.0</td>\n",
              "      <td>0.0</td>\n",
              "      <td>0.0</td>\n",
              "      <td>0.0</td>\n",
              "      <td>0.0</td>\n",
              "      <td>0.0</td>\n",
              "    </tr>\n",
              "    <tr>\n",
              "      <th>1</th>\n",
              "      <td>0.0</td>\n",
              "      <td>1.0</td>\n",
              "      <td>0.0</td>\n",
              "      <td>0.0</td>\n",
              "      <td>0.0</td>\n",
              "      <td>0.0</td>\n",
              "      <td>0.0</td>\n",
              "      <td>0.0</td>\n",
              "      <td>1.0</td>\n",
              "      <td>0.0</td>\n",
              "      <td>0.0</td>\n",
              "      <td>0.0</td>\n",
              "      <td>1.0</td>\n",
              "      <td>0.0</td>\n",
              "      <td>0.0</td>\n",
              "      <td>0.0</td>\n",
              "      <td>0.0</td>\n",
              "      <td>0.0</td>\n",
              "      <td>0.0</td>\n",
              "      <td>0.0</td>\n",
              "      <td>0.0</td>\n",
              "      <td>0.0</td>\n",
              "      <td>1.0</td>\n",
              "      <td>0.0</td>\n",
              "      <td>0.0</td>\n",
              "      <td>0.0</td>\n",
              "      <td>0.0</td>\n",
              "      <td>0.0</td>\n",
              "      <td>0.0</td>\n",
              "      <td>0.0</td>\n",
              "    </tr>\n",
              "    <tr>\n",
              "      <th>2</th>\n",
              "      <td>1.0</td>\n",
              "      <td>0.0</td>\n",
              "      <td>0.0</td>\n",
              "      <td>0.0</td>\n",
              "      <td>0.0</td>\n",
              "      <td>0.0</td>\n",
              "      <td>0.0</td>\n",
              "      <td>1.0</td>\n",
              "      <td>0.0</td>\n",
              "      <td>0.0</td>\n",
              "      <td>0.0</td>\n",
              "      <td>0.0</td>\n",
              "      <td>0.0</td>\n",
              "      <td>0.0</td>\n",
              "      <td>0.0</td>\n",
              "      <td>0.0</td>\n",
              "      <td>0.0</td>\n",
              "      <td>0.0</td>\n",
              "      <td>1.0</td>\n",
              "      <td>0.0</td>\n",
              "      <td>0.0</td>\n",
              "      <td>0.0</td>\n",
              "      <td>1.0</td>\n",
              "      <td>0.0</td>\n",
              "      <td>0.0</td>\n",
              "      <td>0.0</td>\n",
              "      <td>0.0</td>\n",
              "      <td>0.0</td>\n",
              "      <td>0.0</td>\n",
              "      <td>0.0</td>\n",
              "    </tr>\n",
              "    <tr>\n",
              "      <th>3</th>\n",
              "      <td>1.0</td>\n",
              "      <td>0.0</td>\n",
              "      <td>0.0</td>\n",
              "      <td>0.0</td>\n",
              "      <td>0.0</td>\n",
              "      <td>0.0</td>\n",
              "      <td>0.0</td>\n",
              "      <td>0.0</td>\n",
              "      <td>1.0</td>\n",
              "      <td>0.0</td>\n",
              "      <td>0.0</td>\n",
              "      <td>0.0</td>\n",
              "      <td>0.0</td>\n",
              "      <td>0.0</td>\n",
              "      <td>0.0</td>\n",
              "      <td>1.0</td>\n",
              "      <td>0.0</td>\n",
              "      <td>0.0</td>\n",
              "      <td>0.0</td>\n",
              "      <td>0.0</td>\n",
              "      <td>0.0</td>\n",
              "      <td>0.0</td>\n",
              "      <td>0.0</td>\n",
              "      <td>1.0</td>\n",
              "      <td>0.0</td>\n",
              "      <td>0.0</td>\n",
              "      <td>0.0</td>\n",
              "      <td>0.0</td>\n",
              "      <td>0.0</td>\n",
              "      <td>0.0</td>\n",
              "    </tr>\n",
              "    <tr>\n",
              "      <th>4</th>\n",
              "      <td>1.0</td>\n",
              "      <td>0.0</td>\n",
              "      <td>0.0</td>\n",
              "      <td>0.0</td>\n",
              "      <td>1.0</td>\n",
              "      <td>0.0</td>\n",
              "      <td>0.0</td>\n",
              "      <td>0.0</td>\n",
              "      <td>0.0</td>\n",
              "      <td>0.0</td>\n",
              "      <td>0.0</td>\n",
              "      <td>0.0</td>\n",
              "      <td>0.0</td>\n",
              "      <td>0.0</td>\n",
              "      <td>0.0</td>\n",
              "      <td>0.0</td>\n",
              "      <td>0.0</td>\n",
              "      <td>0.0</td>\n",
              "      <td>1.0</td>\n",
              "      <td>0.0</td>\n",
              "      <td>0.0</td>\n",
              "      <td>0.0</td>\n",
              "      <td>0.0</td>\n",
              "      <td>1.0</td>\n",
              "      <td>0.0</td>\n",
              "      <td>0.0</td>\n",
              "      <td>0.0</td>\n",
              "      <td>0.0</td>\n",
              "      <td>0.0</td>\n",
              "      <td>0.0</td>\n",
              "    </tr>\n",
              "  </tbody>\n",
              "</table>\n",
              "</div>\n",
              "      <button class=\"colab-df-convert\" onclick=\"convertToInteractive('df-cb09cb63-c502-40f6-95e2-0d24e89b42da')\"\n",
              "              title=\"Convert this dataframe to an interactive table.\"\n",
              "              style=\"display:none;\">\n",
              "        \n",
              "  <svg xmlns=\"http://www.w3.org/2000/svg\" height=\"24px\"viewBox=\"0 0 24 24\"\n",
              "       width=\"24px\">\n",
              "    <path d=\"M0 0h24v24H0V0z\" fill=\"none\"/>\n",
              "    <path d=\"M18.56 5.44l.94 2.06.94-2.06 2.06-.94-2.06-.94-.94-2.06-.94 2.06-2.06.94zm-11 1L8.5 8.5l.94-2.06 2.06-.94-2.06-.94L8.5 2.5l-.94 2.06-2.06.94zm10 10l.94 2.06.94-2.06 2.06-.94-2.06-.94-.94-2.06-.94 2.06-2.06.94z\"/><path d=\"M17.41 7.96l-1.37-1.37c-.4-.4-.92-.59-1.43-.59-.52 0-1.04.2-1.43.59L10.3 9.45l-7.72 7.72c-.78.78-.78 2.05 0 2.83L4 21.41c.39.39.9.59 1.41.59.51 0 1.02-.2 1.41-.59l7.78-7.78 2.81-2.81c.8-.78.8-2.07 0-2.86zM5.41 20L4 18.59l7.72-7.72 1.47 1.35L5.41 20z\"/>\n",
              "  </svg>\n",
              "      </button>\n",
              "      \n",
              "  <style>\n",
              "    .colab-df-container {\n",
              "      display:flex;\n",
              "      flex-wrap:wrap;\n",
              "      gap: 12px;\n",
              "    }\n",
              "\n",
              "    .colab-df-convert {\n",
              "      background-color: #E8F0FE;\n",
              "      border: none;\n",
              "      border-radius: 50%;\n",
              "      cursor: pointer;\n",
              "      display: none;\n",
              "      fill: #1967D2;\n",
              "      height: 32px;\n",
              "      padding: 0 0 0 0;\n",
              "      width: 32px;\n",
              "    }\n",
              "\n",
              "    .colab-df-convert:hover {\n",
              "      background-color: #E2EBFA;\n",
              "      box-shadow: 0px 1px 2px rgba(60, 64, 67, 0.3), 0px 1px 3px 1px rgba(60, 64, 67, 0.15);\n",
              "      fill: #174EA6;\n",
              "    }\n",
              "\n",
              "    [theme=dark] .colab-df-convert {\n",
              "      background-color: #3B4455;\n",
              "      fill: #D2E3FC;\n",
              "    }\n",
              "\n",
              "    [theme=dark] .colab-df-convert:hover {\n",
              "      background-color: #434B5C;\n",
              "      box-shadow: 0px 1px 3px 1px rgba(0, 0, 0, 0.15);\n",
              "      filter: drop-shadow(0px 1px 2px rgba(0, 0, 0, 0.3));\n",
              "      fill: #FFFFFF;\n",
              "    }\n",
              "  </style>\n",
              "\n",
              "      <script>\n",
              "        const buttonEl =\n",
              "          document.querySelector('#df-cb09cb63-c502-40f6-95e2-0d24e89b42da button.colab-df-convert');\n",
              "        buttonEl.style.display =\n",
              "          google.colab.kernel.accessAllowed ? 'block' : 'none';\n",
              "\n",
              "        async function convertToInteractive(key) {\n",
              "          const element = document.querySelector('#df-cb09cb63-c502-40f6-95e2-0d24e89b42da');\n",
              "          const dataTable =\n",
              "            await google.colab.kernel.invokeFunction('convertToInteractive',\n",
              "                                                     [key], {});\n",
              "          if (!dataTable) return;\n",
              "\n",
              "          const docLinkHtml = 'Like what you see? Visit the ' +\n",
              "            '<a target=\"_blank\" href=https://colab.research.google.com/notebooks/data_table.ipynb>data table notebook</a>'\n",
              "            + ' to learn more about interactive tables.';\n",
              "          element.innerHTML = '';\n",
              "          dataTable['output_type'] = 'display_data';\n",
              "          await google.colab.output.renderOutput(dataTable, element);\n",
              "          const docLink = document.createElement('div');\n",
              "          docLink.innerHTML = docLinkHtml;\n",
              "          element.appendChild(docLink);\n",
              "        }\n",
              "      </script>\n",
              "    </div>\n",
              "  </div>\n",
              "  "
            ]
          },
          "metadata": {},
          "execution_count": 155
        }
      ],
      "source": [
        "dummies_df.columns = col_names_drop_first\n",
        "dummies_df.head()"
      ]
    },
    {
      "cell_type": "code",
      "execution_count": null,
      "id": "12f5a62d",
      "metadata": {
        "id": "12f5a62d"
      },
      "outputs": [],
      "source": [
        "# Arreglar porque agrega filas!!\n",
        "df4 = pd.concat([df4[\"numero_de_cliente\"].reset_index(drop=True), df4[numericas].reset_index(drop=True), df4[categoricas].reset_index(drop=True), dummies_df.reset_index(drop=True)], axis = 1)"
      ]
    },
    {
      "cell_type": "code",
      "execution_count": null,
      "id": "6244a610",
      "metadata": {
        "id": "6244a610"
      },
      "outputs": [],
      "source": [
        "df4 = df4.drop([\"marketing_coss_selling\", \"cliente_sucursal\", \"Master_cuenta_estado\", \"Visa_cuenta_estado\"], axis = 1)"
      ]
    },
    {
      "cell_type": "code",
      "execution_count": null,
      "id": "95b538ba",
      "metadata": {
        "id": "95b538ba",
        "outputId": "090432e5-7cbf-4f41-e1fa-312a7eee73c5",
        "colab": {
          "base_uri": "https://localhost:8080/"
        }
      },
      "outputs": [
        {
          "output_type": "execute_result",
          "data": {
            "text/plain": [
              "(184539, 103)"
            ]
          },
          "metadata": {},
          "execution_count": 158
        }
      ],
      "source": [
        "df4.shape"
      ]
    },
    {
      "cell_type": "code",
      "execution_count": null,
      "id": "846c4525",
      "metadata": {
        "id": "846c4525"
      },
      "outputs": [],
      "source": [
        "lista_df_final = ['mrentabilidad', 'mrentabilidad_annual', 'mcomisiones',\n",
        "       'mactivos_margen', 'mpasivos_margen', 'mcaja_ahorro_dolares',\n",
        "       'mcuentas_saldo', 'mautoservicio', 'mplan_sueldo',\n",
        "       'mextraccion_autoservicio', 'Master_mfinanciacion_limite',\n",
        "       'Master_msaldodolares', 'Master_mpagado', 'Visa_mfinanciacion_limite',\n",
        "       'Visa_msaldototal', 'Visa_msaldodolares', 'Visa_madelantopesos',\n",
        "       'Visa_madelantodolares', 'Visa_mpagado', 'Visa_mpagosdolares',\n",
        "       'Visa_mconsumototal', 'mcaja_ahorro_CC', 'mtarjeta_all_consumo',\n",
        "       'mprestamos_all', 'renta_dolar', 'mdebitos_automaticos', 'mdescuentos',\n",
        "       'mcomision', 'mcambio_venta_compra', 'mtransferencia_emitida_recibida',\n",
        "       'mcheques_emitido_depositado', 'mcheques_emitido_depositado_r',\n",
        "       'mcajero_transaccion', 'marketing_activo_ultimos90dias',\n",
        "       'mdescubierto_preacordado', 'Master_marca_atraso', 'Visa_marca_atraso',\n",
        "       'edad_bin_>80', 'antiq_bin_<20', 'antiq_bin_nan',\n",
        "       'cliente_sucursal_1436', 'cliente_sucursal_209', 'cliente_sucursal_422',\n",
        "       'cliente_sucursal_545', 'cliente_sucursal_941',\n",
        "       'cliente_sucursal_otros', 'marketing_coss_selling_6',\n",
        "       'marketing_coss_selling_7', 'marketing_coss_selling_8',\n",
        "       'marketing_coss_selling_9', 'marketing_coss_selling_otros',\n",
        "       'Master_cuenta_estado_11.0', 'Master_cuenta_estado_12.0',\n",
        "       'Master_cuenta_estado_19.0', 'Visa_cuenta_estado_11.0',\n",
        "       'Visa_cuenta_estado_12.0', 'Visa_cuenta_estado_19.0',\n",
        "       'numero_de_cliente', 'cliente_antiguedad',\n",
        "       'ctarjeta_debito_transacciones', 'cextraccion_autoservicio',\n",
        "       'cprestamos_all', 'ccomision', 'ccambio_venta_compra',\n",
        "       'ctransferencia_emitida_recibida', 'ccheques_emitido_depositado',\n",
        "       'ccheques_emitido_depositado_r', 'ctransacciones',\n",
        "       'ctarjeta_all_transacciones', 'ttarjeta_debito', 'tcaja_seguridad',\n",
        "       'tplan_sueldo', 'tmovimientos_ultimos90dias',\n",
        "       'Master_tadelantosefectivo', 'Visa_tconsumos',\n",
        "       'Visa_tadelantosefectivo', 'tdescubierto_preacordado', 'tpaquete',\n",
        "       'tcuenta', 'trenta', 'tseguro', 'tdebitos_automaticos', 'tdescuento',\n",
        "       'ttransacciones', 'tcajas_total', 'tcajero_transaccion',\n",
        "       'ttarjeta_visa_master']\n"
      ]
    },
    {
      "cell_type": "code",
      "source": [
        "df4.columns"
      ],
      "metadata": {
        "colab": {
          "base_uri": "https://localhost:8080/"
        },
        "id": "_Jhgv0IE8puQ",
        "outputId": "7a0ad7cd-bab4-475d-b375-e47cf86c1008"
      },
      "id": "_Jhgv0IE8puQ",
      "execution_count": null,
      "outputs": [
        {
          "output_type": "execute_result",
          "data": {
            "text/plain": [
              "Index(['numero_de_cliente', 'cliente_edad', 'cliente_antiguedad',\n",
              "       'mrentabilidad', 'mrentabilidad_annual', 'mcomisiones',\n",
              "       'mactivos_margen', 'mpasivos_margen', 'mcaja_ahorro_dolares',\n",
              "       'mcuentas_saldo',\n",
              "       ...\n",
              "       'marketing_coss_selling_7', 'marketing_coss_selling_8',\n",
              "       'marketing_coss_selling_9', 'marketing_coss_selling_otros',\n",
              "       'Master_cuenta_estado_11.0', 'Master_cuenta_estado_12.0',\n",
              "       'Master_cuenta_estado_19.0', 'Visa_cuenta_estado_11.0',\n",
              "       'Visa_cuenta_estado_12.0', 'Visa_cuenta_estado_19.0'],\n",
              "      dtype='object', length=103)"
            ]
          },
          "metadata": {},
          "execution_count": 160
        }
      ]
    },
    {
      "cell_type": "code",
      "execution_count": null,
      "id": "e5a6c6b2",
      "metadata": {
        "id": "e5a6c6b2"
      },
      "outputs": [],
      "source": [
        "lista_df4 = list(df4.columns)"
      ]
    },
    {
      "cell_type": "code",
      "source": [
        "lista_df4"
      ],
      "metadata": {
        "colab": {
          "base_uri": "https://localhost:8080/"
        },
        "id": "1caRT0qA9T-o",
        "outputId": "cb438638-6f38-46d8-8bc9-387710b56948"
      },
      "id": "1caRT0qA9T-o",
      "execution_count": null,
      "outputs": [
        {
          "output_type": "execute_result",
          "data": {
            "text/plain": [
              "['numero_de_cliente',\n",
              " 'cliente_edad',\n",
              " 'cliente_antiguedad',\n",
              " 'mrentabilidad',\n",
              " 'mrentabilidad_annual',\n",
              " 'mcomisiones',\n",
              " 'mactivos_margen',\n",
              " 'mpasivos_margen',\n",
              " 'mcaja_ahorro_dolares',\n",
              " 'mcuentas_saldo',\n",
              " 'ctarjeta_debito_transacciones',\n",
              " 'mautoservicio',\n",
              " 'mplan_sueldo',\n",
              " 'cplan_sueldo_transaccion',\n",
              " 'cextraccion_autoservicio',\n",
              " 'mextraccion_autoservicio',\n",
              " 'Master_mfinanciacion_limite',\n",
              " 'Master_msaldototal',\n",
              " 'Master_msaldodolares',\n",
              " 'Master_mpagado',\n",
              " 'Visa_mfinanciacion_limite',\n",
              " 'Visa_msaldototal',\n",
              " 'Visa_msaldodolares',\n",
              " 'Visa_madelantopesos',\n",
              " 'Visa_madelantodolares',\n",
              " 'Visa_mpagado',\n",
              " 'Visa_mpagosdolares',\n",
              " 'Visa_mconsumototal',\n",
              " 'mcaja_ahorro_CC',\n",
              " 'mtarjeta_all_consumo',\n",
              " 'cprestamos_all',\n",
              " 'mprestamos_all',\n",
              " 'renta_dolar',\n",
              " 'renta_pesos',\n",
              " 'mdebitos_automaticos',\n",
              " 'mdescuentos',\n",
              " 'mcomision',\n",
              " 'ccomision',\n",
              " 'ccambio_venta_compra',\n",
              " 'mcambio_venta_compra',\n",
              " 'ctransferencia_emitida_recibida',\n",
              " 'mtransferencia_emitida_recibida',\n",
              " 'ccheques_emitido_depositado',\n",
              " 'mcheques_emitido_depositado',\n",
              " 'ccheques_emitido_depositado_r',\n",
              " 'mcheques_emitido_depositado_r',\n",
              " 'ctransacciones',\n",
              " 'mcajero_transaccion',\n",
              " 'ctarjeta_all_transacciones',\n",
              " 'marketing_activo_ultimos90dias',\n",
              " 'cliente_vip',\n",
              " 'mdescubierto_preacordado',\n",
              " 'ttarjeta_debito',\n",
              " 'tcaja_seguridad',\n",
              " 'tplan_sueldo',\n",
              " 'tmovimientos_ultimos90dias',\n",
              " 'Master_marca_atraso',\n",
              " 'Master_tconsumos',\n",
              " 'Master_tadelantosefectivo',\n",
              " 'Visa_marca_atraso',\n",
              " 'Visa_tconsumos',\n",
              " 'Visa_tadelantosefectivo',\n",
              " 'tdescubierto_preacordado',\n",
              " 'tpaquete',\n",
              " 'tcuenta',\n",
              " 'trenta',\n",
              " 'tseguro',\n",
              " 'tdebitos_automaticos',\n",
              " 'tdescuento',\n",
              " 'ttransacciones',\n",
              " 'tcajas_total',\n",
              " 'tcajero_transaccion',\n",
              " 'ttarjeta_visa_master',\n",
              " 'edad_bin_41-60',\n",
              " 'edad_bin_61-80',\n",
              " 'edad_bin_<20',\n",
              " 'edad_bin_>80',\n",
              " 'antiq_bin_41-60',\n",
              " 'antiq_bin_61-80',\n",
              " 'antiq_bin_<20',\n",
              " 'antiq_bin_>80',\n",
              " 'antiq_bin_nan',\n",
              " 'cliente_sucursal_1436',\n",
              " 'cliente_sucursal_2',\n",
              " 'cliente_sucursal_209',\n",
              " 'cliente_sucursal_227',\n",
              " 'cliente_sucursal_422',\n",
              " 'cliente_sucursal_50',\n",
              " 'cliente_sucursal_545',\n",
              " 'cliente_sucursal_548',\n",
              " 'cliente_sucursal_941',\n",
              " 'cliente_sucursal_otros',\n",
              " 'marketing_coss_selling_6',\n",
              " 'marketing_coss_selling_7',\n",
              " 'marketing_coss_selling_8',\n",
              " 'marketing_coss_selling_9',\n",
              " 'marketing_coss_selling_otros',\n",
              " 'Master_cuenta_estado_11.0',\n",
              " 'Master_cuenta_estado_12.0',\n",
              " 'Master_cuenta_estado_19.0',\n",
              " 'Visa_cuenta_estado_11.0',\n",
              " 'Visa_cuenta_estado_12.0',\n",
              " 'Visa_cuenta_estado_19.0']"
            ]
          },
          "metadata": {},
          "execution_count": 163
        }
      ]
    },
    {
      "cell_type": "code",
      "execution_count": null,
      "id": "8e7248a0",
      "metadata": {
        "id": "8e7248a0",
        "outputId": "19238046-a830-4172-a167-6116da2365d7",
        "colab": {
          "base_uri": "https://localhost:8080/"
        }
      },
      "outputs": [
        {
          "output_type": "execute_result",
          "data": {
            "text/plain": [
              "(87, 103)"
            ]
          },
          "metadata": {},
          "execution_count": 164
        }
      ],
      "source": [
        "len(lista_df_final), len(lista_df4)"
      ]
    },
    {
      "cell_type": "code",
      "execution_count": null,
      "id": "77cf001d",
      "metadata": {
        "scrolled": true,
        "id": "77cf001d",
        "outputId": "05916ea7-2bcd-4928-901b-6ef41ac474cb",
        "colab": {
          "base_uri": "https://localhost:8080/"
        }
      },
      "outputs": [
        {
          "output_type": "execute_result",
          "data": {
            "text/plain": [
              "87"
            ]
          },
          "metadata": {},
          "execution_count": 165
        }
      ],
      "source": [
        "lista_drop = []\n",
        "for i in lista_df4:\n",
        "    if i in lista_df_final:\n",
        "        lista_drop.append(i)\n",
        "len(lista_drop)"
      ]
    },
    {
      "cell_type": "code",
      "execution_count": null,
      "id": "2a8481e4",
      "metadata": {
        "id": "2a8481e4",
        "outputId": "23b7dec0-09cf-49f7-cc5a-79e65962eb90",
        "colab": {
          "base_uri": "https://localhost:8080/"
        }
      },
      "outputs": [
        {
          "output_type": "execute_result",
          "data": {
            "text/plain": [
              "0         62.0\n",
              "1         65.0\n",
              "2         41.0\n",
              "3         44.0\n",
              "4         49.0\n",
              "          ... \n",
              "184534    41.0\n",
              "184535    59.0\n",
              "184536    61.0\n",
              "184537    22.0\n",
              "184538    39.0\n",
              "Name: cliente_edad, Length: 184539, dtype: float64"
            ]
          },
          "metadata": {},
          "execution_count": 166
        }
      ],
      "source": [
        "df4['cliente_edad']"
      ]
    },
    {
      "cell_type": "code",
      "execution_count": null,
      "id": "46eadd8b",
      "metadata": {
        "id": "46eadd8b"
      },
      "outputs": [],
      "source": [
        "df4 = df4[lista_drop]"
      ]
    },
    {
      "cell_type": "code",
      "execution_count": null,
      "id": "823266f6",
      "metadata": {
        "id": "823266f6",
        "outputId": "d3c99164-8773-44af-8073-98c1da32cdb4",
        "colab": {
          "base_uri": "https://localhost:8080/"
        }
      },
      "outputs": [
        {
          "output_type": "execute_result",
          "data": {
            "text/plain": [
              "(184539, 87)"
            ]
          },
          "metadata": {},
          "execution_count": 168
        }
      ],
      "source": [
        "df4.shape"
      ]
    },
    {
      "cell_type": "code",
      "execution_count": null,
      "id": "83fcb98c",
      "metadata": {
        "id": "83fcb98c"
      },
      "outputs": [],
      "source": [
        "df4.to_csv(\"/content/drive/My Drive/DataScience/Banco/banco_to_model_201404.csv\")"
      ]
    }
  ],
  "metadata": {
    "kernelspec": {
      "display_name": "Python 3 (ipykernel)",
      "language": "python",
      "name": "python3"
    },
    "language_info": {
      "codemirror_mode": {
        "name": "ipython",
        "version": 3
      },
      "file_extension": ".py",
      "mimetype": "text/x-python",
      "name": "python",
      "nbconvert_exporter": "python",
      "pygments_lexer": "ipython3",
      "version": "3.8.8"
    },
    "colab": {
      "provenance": [],
      "collapsed_sections": []
    }
  },
  "nbformat": 4,
  "nbformat_minor": 5
}