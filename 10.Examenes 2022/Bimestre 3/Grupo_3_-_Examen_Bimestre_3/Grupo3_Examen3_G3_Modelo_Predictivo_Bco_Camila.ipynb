{
  "cells": [
    {
      "cell_type": "markdown",
      "source": [
        "------"
      ],
      "metadata": {
        "id": "ES1k_CXGhwT7"
      }
    },
    {
      "cell_type": "markdown",
      "metadata": {
        "id": "7FwQEv9zF5Vb"
      },
      "source": [
        "#*Grupo3 SRL*\n",
        "\n",
        "![logo.gif](data:image/gif;base64,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)\n",
        "\n",
        "\n"
      ]
    },
    {
      "cell_type": "markdown",
      "source": [
        "#*Representantes comerciales*\n",
        "\n",
        "Nombre y Apellido | Legajo\n",
        "------------------|---\n",
        "Fernandez, Guillermo German | 1157416\n",
        "Piñero, Nicolas | 1158808\n",
        "Szczur, Diego | 1160772\n",
        "Gamarra, Zaira | 1155371"
      ],
      "metadata": {
        "id": "TTyU8szhOJD_"
      }
    },
    {
      "cell_type": "markdown",
      "source": [
        "------"
      ],
      "metadata": {
        "id": "J_sa1ErohvBo"
      }
    },
    {
      "cell_type": "markdown",
      "metadata": {
        "id": "moggpNbzRzuu"
      },
      "source": [
        "#*Modelo predictivo para Retención de Clientes - Banco Camila*\n",
        "\n",
        "![image.png](data:image/png;base64,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)"
      ]
    },
    {
      "cell_type": "markdown",
      "metadata": {
        "id": "UJDQ7irX1gnt"
      },
      "source": [
        "El Departamento de Marketing y Retención de Clientes de Banco Camila nos solicitó el desarrollo de un modelo predictivo para estimar aquellos clientes que tengan potencial de abandonar el Banco.\n",
        "\n",
        "Si bien es posible identificar a aquellos clientes que podrán solicitar la baja de productos para el próximo mes respecto del momento del análisis, respetando la regla de negocio de Banco Camila, nos enfocaremos a identificar clientes con potencial de solicitar la baja dentro de dos meses. De esta forma se contará con tiempo suficiente para poder enviar un paquete de beneficios adicionales al cliente identificado y así evitar su futura baja.\n",
        "\n",
        "Los datos analizados para el entrenamiento de este modelo corresponden al año 2014, y en particular a los meses de Febrero, Marzo y Abril, ya que son los datos más actuales dentro del dataset que nos brindó el cliente. \n",
        "\n",
        "Conociendo a los clientes que estuvieron activos en Febrero y Marzo de 2014, pero que luego se dieron de baja en el mes de Abril 2014, estudiaremos su comportamiento con diferentes variables crediticias para clasificarlos en dos clases:\n",
        "\n",
        "- Clase 0: cliente que continua activo.\n",
        "- Clase 1: cliente con potencial de baja.\n",
        "\n",
        "De esta forma procedemos a realizar dicha clasificación con diferntes modelos predictivos de aprendizaje supervisado para lograr la mayor cantidad de clientes retenidos y la mayor ganancia posible por parte del banco."
      ]
    },
    {
      "cell_type": "markdown",
      "source": [
        "------"
      ],
      "metadata": {
        "id": "k5Mmypn8htJQ"
      }
    },
    {
      "cell_type": "markdown",
      "metadata": {
        "id": "-p_R3Kgw1-Uv"
      },
      "source": [
        "#Herramientas a utilizar\n",
        "\n",
        "A continuación se detallan las herramientas utilizadas, lo cual incluye diferentes librerías para la carga, limpieza y tranformación de los datos proporcionados, así como librerías específicas para generar los diferentes modelos predictivos."
      ]
    },
    {
      "cell_type": "code",
      "execution_count": 1,
      "metadata": {
        "id": "3Jxp8zFsUZLP"
      },
      "outputs": [],
      "source": [
        "import pandas as pd\n",
        "import numpy as np\n",
        "import matplotlib.pyplot as plt\n",
        "from google.colab import drive\n",
        "\n",
        "from sklearn.model_selection import train_test_split \n",
        "from sklearn.model_selection import StratifiedKFold, KFold, GridSearchCV\n",
        "from sklearn.model_selection import cross_val_score, cross_val_predict\n",
        "\n",
        "from sklearn.preprocessing import StandardScaler\n",
        "\n",
        "from sklearn.feature_selection import SelectPercentile, RFECV, f_regression\n",
        "\n",
        "from sklearn.tree import DecisionTreeClassifier\n",
        "\n",
        "from sklearn.linear_model import LogisticRegression, LogisticRegressionCV\n",
        "\n",
        "from sklearn.metrics import precision_score, recall_score, accuracy_score\n",
        "from sklearn.metrics import confusion_matrix, classification_report\n",
        "from sklearn.metrics import roc_curve, roc_auc_score\n",
        "\n",
        "from sklearn.ensemble import RandomForestClassifier\n",
        "from sklearn.ensemble import GradientBoostingClassifier, GradientBoostingRegressor\n",
        "\n",
        "from imblearn.over_sampling import SMOTE\n",
        "\n",
        "import warnings\n",
        "warnings.filterwarnings('ignore')"
      ]
    },
    {
      "cell_type": "code",
      "execution_count": 2,
      "metadata": {
        "colab": {
          "base_uri": "https://localhost:8080/"
        },
        "id": "2GIrUAE-FLFE",
        "outputId": "609adb6b-792b-4434-f117-969ad3d8c812"
      },
      "outputs": [
        {
          "output_type": "stream",
          "name": "stdout",
          "text": [
            "Mounted at /content/drive\n"
          ]
        }
      ],
      "source": [
        "drive.mount('/content/drive')"
      ]
    },
    {
      "cell_type": "markdown",
      "source": [
        "------\n"
      ],
      "metadata": {
        "id": "-4RhEVn5hrvn"
      }
    },
    {
      "cell_type": "markdown",
      "metadata": {
        "id": "-5RhO-MrvDNR"
      },
      "source": [
        "#Funciones auxiliares\n",
        "\n"
      ]
    },
    {
      "cell_type": "markdown",
      "source": [
        "Definimos funciones auxiliares que usaremos en distintas partes del análisis.\n",
        "\n",
        "*printmetricas()*: calcula las métricas sobre las predicciónes obtenidas en determinado modelo. Retorna un diccionario con dichas métricas."
      ],
      "metadata": {
        "id": "7r9BRaL_Rpqi"
      }
    },
    {
      "cell_type": "code",
      "execution_count": 3,
      "metadata": {
        "id": "9t4JGztovFQI"
      },
      "outputs": [],
      "source": [
        "#Evaluación de métricas.\n",
        "def printmetricas(Ytest, YPred, DfPred, Algoritmo):\n",
        "  print('---------- Test: Accuracy ----------')\n",
        "  print(accuracy_score(Ytest, YPred))\n",
        "  print('---------- Test: Recall ----------')\n",
        "  print(recall_score(Ytest, YPred))\n",
        "  print('---------- Test: Precision ----------')\n",
        "  print(precision_score(Ytest, YPred))\n",
        "  print('--------- Confusion Matrix ---------')\n",
        "  print(confusion_matrix(Ytest, YPred))\n",
        "  print('-------------------------------')\n",
        "  print('Máximo posible de Ganancia: ', DfPred.cum_profit.max())\n",
        "  print('Total de Ganancia Real: ', DfPred.profit.sum())\n",
        "\n",
        "  valor = DfPred.cum_profit.max()\n",
        "  probabilidad = DfPred[DfPred['cum_profit'] == valor]\n",
        "  \n",
        "  return {\n",
        "      'Algoritmo': str(Algoritmo),\n",
        "      'Accuracy': accuracy_score(Ytest, YPred),\n",
        "      'Recall': recall_score(Ytest, YPred),\n",
        "      'Precision': precision_score(Ytest, YPred),\n",
        "      'True Positive': confusion_matrix(Ytest, YPred)[0,0],\n",
        "      'False Positive': confusion_matrix(Ytest, YPred)[0,1],\n",
        "      'False Negative': confusion_matrix(Ytest, YPred)[1,0],\n",
        "      'True Negative': confusion_matrix(Ytest, YPred)[1,1],\n",
        "      'Predict Max': DfPred.cum_profit.max(),\n",
        "      'Predict Sum': DfPred.profit.sum(),\n",
        "      'Proba de Corte': round(probabilidad.prob_a.max(), 3)\n",
        "  }"
      ]
    },
    {
      "cell_type": "markdown",
      "source": [
        "*plotCurvaRoc()*: calcula y grafica la curva ROC sobre las predicciones obtenidas en determinado modelo. Retorna un diccionario al que se le adiciona la métrica calculada."
      ],
      "metadata": {
        "id": "EyMZKW0lSOpu"
      }
    },
    {
      "cell_type": "code",
      "execution_count": 4,
      "metadata": {
        "id": "iLYC9lumxcSf"
      },
      "outputs": [],
      "source": [
        "#Evaluación de la curva ROC.\n",
        "def plotCurvaRoc(Ytest, Yprobability,Algoritmo, dictMetricas):\n",
        "  print('--------- Curva ROC Score ---------')\n",
        "  print(roc_auc_score(Ytest, Yprobability))\n",
        "  false_positive_rate, true_positive_rate, threshold = roc_curve(Ytest, Yprobability)\n",
        "  #Curva ROC.\n",
        "  plt.subplots(1, figsize=(10,10))\n",
        "  plt.title('Receiver Operating Characteristic - '+ str(Algoritmo))\n",
        "  plt.plot(false_positive_rate, true_positive_rate)\n",
        "  plt.plot([0, 1], ls=\"--\")\n",
        "  plt.plot([0, 0], [1, 0] , c=\".7\"),\n",
        "  plt.plot([1, 1] , c=\".7\")\n",
        "  plt.ylabel('True Positive Rate')\n",
        "  plt.xlabel('False Positive Rate')\n",
        "  plt.show()\n",
        "\n",
        "  dictMetricas['ROC'] = roc_auc_score(Ytest, Yprobability)\n",
        "  return dictMetricas"
      ]
    },
    {
      "cell_type": "markdown",
      "source": [
        "*GuardarMetricasCSV()*: almacena en formato CSV los resultados de un modelo predictivo, donde se le calcula el costo de acción por cliente y la sumatoria total del mismo."
      ],
      "metadata": {
        "id": "Ic_IUj0FSqPQ"
      }
    },
    {
      "cell_type": "code",
      "execution_count": 5,
      "metadata": {
        "id": "4jMXapze1OTV"
      },
      "outputs": [],
      "source": [
        "def GuardarMetricasCSV(df_param, Algoritmo):\n",
        "  df_param['profit'] = df_param['y_pred'] * (-100) + df_param['y_pred'] * df_param['y_test'] * 5000\n",
        "  df_param = df_param.sort_values(by = ['prob_a'], ascending = False)\n",
        "  df_param['cum_profit'] = df_param.profit.cumsum()\n",
        "  df_param.to_csv(r''+ Algoritmo + '.csv')\n",
        "  return df_param"
      ]
    },
    {
      "cell_type": "markdown",
      "source": [
        "-------"
      ],
      "metadata": {
        "id": "7TPLgh8Zhprf"
      }
    },
    {
      "cell_type": "markdown",
      "metadata": {
        "id": "qhYu7Oh5Rsps"
      },
      "source": [
        "#Carga de datos\n",
        "\n",
        "El dataset proporcionado por el cliente se encuentra almacenado en un archivo comprimido (MESES_hasta_201404.zip). El mismo es cargado en un dataset, pero para no consumir demasiada memoria en la ejecución del notebook, almacenamos los datos en formato Parquet. Para hacerlo fue necesario convertir el tipo de dato de algunas columnas.\n",
        "\n",
        "Los siguientes bloques de código se encuentran comentados ya que fueron ejecutados solo una vez, y luego de eso siempre se utilizará el nuevo archivo generado.\n"
      ]
    },
    {
      "cell_type": "code",
      "execution_count": 6,
      "metadata": {
        "id": "XlSHO9I3BkwZ"
      },
      "outputs": [],
      "source": [
        "#Levantamos el archivo zip para generar un dataframe con la data cruda.\n",
        "\n",
        "#path_file = \"/content/drive/MyDrive/Colab Notebooks/Bimestre3/MESES_hasta_201404.zip\"\n",
        "#data_cruda = pd.read_csv(path_file)\n",
        "#data_cruda"
      ]
    },
    {
      "cell_type": "code",
      "execution_count": 7,
      "metadata": {
        "id": "U5_CPcxlU4Ve"
      },
      "outputs": [],
      "source": [
        "##Mixed data types issues, por lo tanto hacemos conversiones.\n",
        "\n",
        "#data_cruda['marketing_activo_ultimos90dias'] = data_cruda['marketing_activo_ultimos90dias'].astype(str)\n",
        "#data_cruda['mprestamos_hipotecarios'] = data_cruda['mprestamos_hipotecarios'].astype(str)\n",
        "#data_cruda['mtarjeta_visa_descuentos'] = data_cruda['mtarjeta_visa_descuentos'].astype(str)\n",
        "#data_cruda['mtarjeta_master_descuentos'] = data_cruda['mtarjeta_master_descuentos'].astype(str)\n",
        "\n",
        "#Guardamos en formato Parquet.\n",
        "#data_cruda.to_parquet('/content/drive/MyDrive/Colab Notebooks/Bimestre3/MESES_hasta_201404.parquet')"
      ]
    },
    {
      "cell_type": "markdown",
      "metadata": {
        "id": "kmnOM7Tq62CV"
      },
      "source": [
        "Una vez hecha la conversión de formato del archivo de entrada, lo importamos y generamos el dataframe que utilizaremos en adelante. El mismo cuenta con un total de:\n",
        "- 2694630 registros\n",
        "- 169 variables"
      ]
    },
    {
      "cell_type": "code",
      "execution_count": 6,
      "metadata": {
        "colab": {
          "base_uri": "https://localhost:8080/"
        },
        "id": "sSQ6VQ7MES_E",
        "outputId": "4d7eaee7-4565-4a63-c7f9-c1b3d7b54114"
      },
      "outputs": [
        {
          "output_type": "stream",
          "name": "stdout",
          "text": [
            "<class 'pandas.core.frame.DataFrame'>\n",
            "RangeIndex: 2694630 entries, 0 to 2694629\n",
            "Columns: 169 entries, numero_de_cliente to Visa_mpagominimo\n",
            "dtypes: float64(41), int64(38), object(90)\n",
            "memory usage: 3.4+ GB\n"
          ]
        }
      ],
      "source": [
        "#Cargamos el nuevo archivo.\n",
        "data_cruda = pd.read_parquet('/content/drive/MyDrive/Colab Notebooks/Bimestre3/MESES_hasta_201404.parquet')\n",
        "data_cruda.info()"
      ]
    },
    {
      "cell_type": "markdown",
      "source": [
        "-------"
      ],
      "metadata": {
        "id": "Vy-qMCNthnhe"
      }
    },
    {
      "cell_type": "markdown",
      "metadata": {
        "id": "saqj_Cb09OI5"
      },
      "source": [
        "#Limpieza y transformación de datos"
      ]
    },
    {
      "cell_type": "markdown",
      "metadata": {
        "id": "YYNdpZ8uRwCP"
      },
      "source": [
        "###Limpieza inicial\n",
        "\n",
        "El primer filtrado que haremos de los datos consiste en capturar los regitros cuyo valor de *foto_mes* es mayor a Enero de 2014 (201401). Como resultado obtendremos unicamente valores para los meses de interés:\n",
        "*   Febrero 2014 (201402)\n",
        "*   Marzo 2014 (201403)\n",
        "*   Abril 2014 (201404)\n",
        "\n",
        "De esta forma redujimos la cantidad de registros a 549863."
      ]
    },
    {
      "cell_type": "code",
      "execution_count": 7,
      "metadata": {
        "colab": {
          "base_uri": "https://localhost:8080/"
        },
        "id": "zlI1PJeWee5h",
        "outputId": "f18fe3d3-e60c-4e69-d229-b2f25644a29e"
      },
      "outputs": [
        {
          "output_type": "stream",
          "name": "stdout",
          "text": [
            "<class 'pandas.core.frame.DataFrame'>\n",
            "Int64Index: 549863 entries, 5 to 2694629\n",
            "Columns: 169 entries, numero_de_cliente to Visa_mpagominimo\n",
            "dtypes: float64(41), int64(38), object(90)\n",
            "memory usage: 713.2+ MB\n"
          ]
        }
      ],
      "source": [
        "#Filtrado de fecha.\n",
        "data_filtro_fecha = data_cruda[data_cruda.foto_mes > 201401]\n",
        "data_filtro_fecha.info()"
      ]
    },
    {
      "cell_type": "markdown",
      "source": [
        "Dado que la data de meses anteriores ya no es revelante, eliminamos la información para liberar memoria y favorecer la ejecución del notebook."
      ],
      "metadata": {
        "id": "5VotwYgsUFNK"
      }
    },
    {
      "cell_type": "code",
      "execution_count": 8,
      "metadata": {
        "id": "8fTTxEQ4rxuT"
      },
      "outputs": [],
      "source": [
        "data_cruda = 0"
      ]
    },
    {
      "cell_type": "code",
      "execution_count": 9,
      "metadata": {
        "id": "Xoy6sWXmf8Ya",
        "colab": {
          "base_uri": "https://localhost:8080/",
          "height": 174
        },
        "outputId": "6c8ad77c-cdde-493b-8914-9ce337c3132c"
      },
      "outputs": [
        {
          "output_type": "execute_result",
          "data": {
            "text/plain": [
              "   numero_de_cliente  foto_mes marketing_activo_ultimos90dias  cliente_vip  \\\n",
              "5               3333    201403                              .            0   \n",
              "\n",
              "   cliente_sucursal  cliente_edad  cliente_antiguedad  mrentabilidad  \\\n",
              "5               455             0                   0    16109631.53   \n",
              "\n",
              "   mrentabilidad_annual  mcomisiones  ...  Visa_madelantodolares  \\\n",
              "5          -125363120.5   2362829.57  ...                      .   \n",
              "\n",
              "   Visa_fultimo_cierre  Visa_mpagado Visa_mpagospesos Visa_mpagosdolares  \\\n",
              "5                    .             .                .                  .   \n",
              "\n",
              "  Visa_fechaalta Visa_mconsumototal Visa_tconsumos Visa_tadelantosefectivo  \\\n",
              "5              .                  .              S                       S   \n",
              "\n",
              "  Visa_mpagominimo  \n",
              "5                .  \n",
              "\n",
              "[1 rows x 169 columns]"
            ],
            "text/html": [
              "\n",
              "  <div id=\"df-70b23d39-46fc-41df-9fed-ccf6eb44e38a\">\n",
              "    <div class=\"colab-df-container\">\n",
              "      <div>\n",
              "<style scoped>\n",
              "    .dataframe tbody tr th:only-of-type {\n",
              "        vertical-align: middle;\n",
              "    }\n",
              "\n",
              "    .dataframe tbody tr th {\n",
              "        vertical-align: top;\n",
              "    }\n",
              "\n",
              "    .dataframe thead th {\n",
              "        text-align: right;\n",
              "    }\n",
              "</style>\n",
              "<table border=\"1\" class=\"dataframe\">\n",
              "  <thead>\n",
              "    <tr style=\"text-align: right;\">\n",
              "      <th></th>\n",
              "      <th>numero_de_cliente</th>\n",
              "      <th>foto_mes</th>\n",
              "      <th>marketing_activo_ultimos90dias</th>\n",
              "      <th>cliente_vip</th>\n",
              "      <th>cliente_sucursal</th>\n",
              "      <th>cliente_edad</th>\n",
              "      <th>cliente_antiguedad</th>\n",
              "      <th>mrentabilidad</th>\n",
              "      <th>mrentabilidad_annual</th>\n",
              "      <th>mcomisiones</th>\n",
              "      <th>...</th>\n",
              "      <th>Visa_madelantodolares</th>\n",
              "      <th>Visa_fultimo_cierre</th>\n",
              "      <th>Visa_mpagado</th>\n",
              "      <th>Visa_mpagospesos</th>\n",
              "      <th>Visa_mpagosdolares</th>\n",
              "      <th>Visa_fechaalta</th>\n",
              "      <th>Visa_mconsumototal</th>\n",
              "      <th>Visa_tconsumos</th>\n",
              "      <th>Visa_tadelantosefectivo</th>\n",
              "      <th>Visa_mpagominimo</th>\n",
              "    </tr>\n",
              "  </thead>\n",
              "  <tbody>\n",
              "    <tr>\n",
              "      <th>5</th>\n",
              "      <td>3333</td>\n",
              "      <td>201403</td>\n",
              "      <td>.</td>\n",
              "      <td>0</td>\n",
              "      <td>455</td>\n",
              "      <td>0</td>\n",
              "      <td>0</td>\n",
              "      <td>16109631.53</td>\n",
              "      <td>-125363120.5</td>\n",
              "      <td>2362829.57</td>\n",
              "      <td>...</td>\n",
              "      <td>.</td>\n",
              "      <td>.</td>\n",
              "      <td>.</td>\n",
              "      <td>.</td>\n",
              "      <td>.</td>\n",
              "      <td>.</td>\n",
              "      <td>.</td>\n",
              "      <td>S</td>\n",
              "      <td>S</td>\n",
              "      <td>.</td>\n",
              "    </tr>\n",
              "  </tbody>\n",
              "</table>\n",
              "<p>1 rows × 169 columns</p>\n",
              "</div>\n",
              "      <button class=\"colab-df-convert\" onclick=\"convertToInteractive('df-70b23d39-46fc-41df-9fed-ccf6eb44e38a')\"\n",
              "              title=\"Convert this dataframe to an interactive table.\"\n",
              "              style=\"display:none;\">\n",
              "        \n",
              "  <svg xmlns=\"http://www.w3.org/2000/svg\" height=\"24px\"viewBox=\"0 0 24 24\"\n",
              "       width=\"24px\">\n",
              "    <path d=\"M0 0h24v24H0V0z\" fill=\"none\"/>\n",
              "    <path d=\"M18.56 5.44l.94 2.06.94-2.06 2.06-.94-2.06-.94-.94-2.06-.94 2.06-2.06.94zm-11 1L8.5 8.5l.94-2.06 2.06-.94-2.06-.94L8.5 2.5l-.94 2.06-2.06.94zm10 10l.94 2.06.94-2.06 2.06-.94-2.06-.94-.94-2.06-.94 2.06-2.06.94z\"/><path d=\"M17.41 7.96l-1.37-1.37c-.4-.4-.92-.59-1.43-.59-.52 0-1.04.2-1.43.59L10.3 9.45l-7.72 7.72c-.78.78-.78 2.05 0 2.83L4 21.41c.39.39.9.59 1.41.59.51 0 1.02-.2 1.41-.59l7.78-7.78 2.81-2.81c.8-.78.8-2.07 0-2.86zM5.41 20L4 18.59l7.72-7.72 1.47 1.35L5.41 20z\"/>\n",
              "  </svg>\n",
              "      </button>\n",
              "      \n",
              "  <style>\n",
              "    .colab-df-container {\n",
              "      display:flex;\n",
              "      flex-wrap:wrap;\n",
              "      gap: 12px;\n",
              "    }\n",
              "\n",
              "    .colab-df-convert {\n",
              "      background-color: #E8F0FE;\n",
              "      border: none;\n",
              "      border-radius: 50%;\n",
              "      cursor: pointer;\n",
              "      display: none;\n",
              "      fill: #1967D2;\n",
              "      height: 32px;\n",
              "      padding: 0 0 0 0;\n",
              "      width: 32px;\n",
              "    }\n",
              "\n",
              "    .colab-df-convert:hover {\n",
              "      background-color: #E2EBFA;\n",
              "      box-shadow: 0px 1px 2px rgba(60, 64, 67, 0.3), 0px 1px 3px 1px rgba(60, 64, 67, 0.15);\n",
              "      fill: #174EA6;\n",
              "    }\n",
              "\n",
              "    [theme=dark] .colab-df-convert {\n",
              "      background-color: #3B4455;\n",
              "      fill: #D2E3FC;\n",
              "    }\n",
              "\n",
              "    [theme=dark] .colab-df-convert:hover {\n",
              "      background-color: #434B5C;\n",
              "      box-shadow: 0px 1px 3px 1px rgba(0, 0, 0, 0.15);\n",
              "      filter: drop-shadow(0px 1px 2px rgba(0, 0, 0, 0.3));\n",
              "      fill: #FFFFFF;\n",
              "    }\n",
              "  </style>\n",
              "\n",
              "      <script>\n",
              "        const buttonEl =\n",
              "          document.querySelector('#df-70b23d39-46fc-41df-9fed-ccf6eb44e38a button.colab-df-convert');\n",
              "        buttonEl.style.display =\n",
              "          google.colab.kernel.accessAllowed ? 'block' : 'none';\n",
              "\n",
              "        async function convertToInteractive(key) {\n",
              "          const element = document.querySelector('#df-70b23d39-46fc-41df-9fed-ccf6eb44e38a');\n",
              "          const dataTable =\n",
              "            await google.colab.kernel.invokeFunction('convertToInteractive',\n",
              "                                                     [key], {});\n",
              "          if (!dataTable) return;\n",
              "\n",
              "          const docLinkHtml = 'Like what you see? Visit the ' +\n",
              "            '<a target=\"_blank\" href=https://colab.research.google.com/notebooks/data_table.ipynb>data table notebook</a>'\n",
              "            + ' to learn more about interactive tables.';\n",
              "          element.innerHTML = '';\n",
              "          dataTable['output_type'] = 'display_data';\n",
              "          await google.colab.output.renderOutput(dataTable, element);\n",
              "          const docLink = document.createElement('div');\n",
              "          docLink.innerHTML = docLinkHtml;\n",
              "          element.appendChild(docLink);\n",
              "        }\n",
              "      </script>\n",
              "    </div>\n",
              "  </div>\n",
              "  "
            ]
          },
          "metadata": {},
          "execution_count": 9
        }
      ],
      "source": [
        "data_filtro_fecha.head(1)"
      ]
    },
    {
      "cell_type": "markdown",
      "metadata": {
        "id": "_slt09nx8bze"
      },
      "source": [
        "Continuamos con la exploración de registros duplicados, y su eventual eliminación del dataset."
      ]
    },
    {
      "cell_type": "code",
      "execution_count": 10,
      "metadata": {
        "colab": {
          "base_uri": "https://localhost:8080/",
          "height": 112
        },
        "id": "556c2CjRfCJp",
        "outputId": "8b1d54e6-6797-4504-b4aa-f3d7d5fd48f3"
      },
      "outputs": [
        {
          "output_type": "execute_result",
          "data": {
            "text/plain": [
              "   numero_de_cliente  foto_mes  count\n",
              "0               3333    201403      2\n",
              "1               3333    201404      2"
            ],
            "text/html": [
              "\n",
              "  <div id=\"df-2c942f9a-a48a-4533-be2f-c520d90f3a1a\">\n",
              "    <div class=\"colab-df-container\">\n",
              "      <div>\n",
              "<style scoped>\n",
              "    .dataframe tbody tr th:only-of-type {\n",
              "        vertical-align: middle;\n",
              "    }\n",
              "\n",
              "    .dataframe tbody tr th {\n",
              "        vertical-align: top;\n",
              "    }\n",
              "\n",
              "    .dataframe thead th {\n",
              "        text-align: right;\n",
              "    }\n",
              "</style>\n",
              "<table border=\"1\" class=\"dataframe\">\n",
              "  <thead>\n",
              "    <tr style=\"text-align: right;\">\n",
              "      <th></th>\n",
              "      <th>numero_de_cliente</th>\n",
              "      <th>foto_mes</th>\n",
              "      <th>count</th>\n",
              "    </tr>\n",
              "  </thead>\n",
              "  <tbody>\n",
              "    <tr>\n",
              "      <th>0</th>\n",
              "      <td>3333</td>\n",
              "      <td>201403</td>\n",
              "      <td>2</td>\n",
              "    </tr>\n",
              "    <tr>\n",
              "      <th>1</th>\n",
              "      <td>3333</td>\n",
              "      <td>201404</td>\n",
              "      <td>2</td>\n",
              "    </tr>\n",
              "  </tbody>\n",
              "</table>\n",
              "</div>\n",
              "      <button class=\"colab-df-convert\" onclick=\"convertToInteractive('df-2c942f9a-a48a-4533-be2f-c520d90f3a1a')\"\n",
              "              title=\"Convert this dataframe to an interactive table.\"\n",
              "              style=\"display:none;\">\n",
              "        \n",
              "  <svg xmlns=\"http://www.w3.org/2000/svg\" height=\"24px\"viewBox=\"0 0 24 24\"\n",
              "       width=\"24px\">\n",
              "    <path d=\"M0 0h24v24H0V0z\" fill=\"none\"/>\n",
              "    <path d=\"M18.56 5.44l.94 2.06.94-2.06 2.06-.94-2.06-.94-.94-2.06-.94 2.06-2.06.94zm-11 1L8.5 8.5l.94-2.06 2.06-.94-2.06-.94L8.5 2.5l-.94 2.06-2.06.94zm10 10l.94 2.06.94-2.06 2.06-.94-2.06-.94-.94-2.06-.94 2.06-2.06.94z\"/><path d=\"M17.41 7.96l-1.37-1.37c-.4-.4-.92-.59-1.43-.59-.52 0-1.04.2-1.43.59L10.3 9.45l-7.72 7.72c-.78.78-.78 2.05 0 2.83L4 21.41c.39.39.9.59 1.41.59.51 0 1.02-.2 1.41-.59l7.78-7.78 2.81-2.81c.8-.78.8-2.07 0-2.86zM5.41 20L4 18.59l7.72-7.72 1.47 1.35L5.41 20z\"/>\n",
              "  </svg>\n",
              "      </button>\n",
              "      \n",
              "  <style>\n",
              "    .colab-df-container {\n",
              "      display:flex;\n",
              "      flex-wrap:wrap;\n",
              "      gap: 12px;\n",
              "    }\n",
              "\n",
              "    .colab-df-convert {\n",
              "      background-color: #E8F0FE;\n",
              "      border: none;\n",
              "      border-radius: 50%;\n",
              "      cursor: pointer;\n",
              "      display: none;\n",
              "      fill: #1967D2;\n",
              "      height: 32px;\n",
              "      padding: 0 0 0 0;\n",
              "      width: 32px;\n",
              "    }\n",
              "\n",
              "    .colab-df-convert:hover {\n",
              "      background-color: #E2EBFA;\n",
              "      box-shadow: 0px 1px 2px rgba(60, 64, 67, 0.3), 0px 1px 3px 1px rgba(60, 64, 67, 0.15);\n",
              "      fill: #174EA6;\n",
              "    }\n",
              "\n",
              "    [theme=dark] .colab-df-convert {\n",
              "      background-color: #3B4455;\n",
              "      fill: #D2E3FC;\n",
              "    }\n",
              "\n",
              "    [theme=dark] .colab-df-convert:hover {\n",
              "      background-color: #434B5C;\n",
              "      box-shadow: 0px 1px 3px 1px rgba(0, 0, 0, 0.15);\n",
              "      filter: drop-shadow(0px 1px 2px rgba(0, 0, 0, 0.3));\n",
              "      fill: #FFFFFF;\n",
              "    }\n",
              "  </style>\n",
              "\n",
              "      <script>\n",
              "        const buttonEl =\n",
              "          document.querySelector('#df-2c942f9a-a48a-4533-be2f-c520d90f3a1a button.colab-df-convert');\n",
              "        buttonEl.style.display =\n",
              "          google.colab.kernel.accessAllowed ? 'block' : 'none';\n",
              "\n",
              "        async function convertToInteractive(key) {\n",
              "          const element = document.querySelector('#df-2c942f9a-a48a-4533-be2f-c520d90f3a1a');\n",
              "          const dataTable =\n",
              "            await google.colab.kernel.invokeFunction('convertToInteractive',\n",
              "                                                     [key], {});\n",
              "          if (!dataTable) return;\n",
              "\n",
              "          const docLinkHtml = 'Like what you see? Visit the ' +\n",
              "            '<a target=\"_blank\" href=https://colab.research.google.com/notebooks/data_table.ipynb>data table notebook</a>'\n",
              "            + ' to learn more about interactive tables.';\n",
              "          element.innerHTML = '';\n",
              "          dataTable['output_type'] = 'display_data';\n",
              "          await google.colab.output.renderOutput(dataTable, element);\n",
              "          const docLink = document.createElement('div');\n",
              "          docLink.innerHTML = docLinkHtml;\n",
              "          element.appendChild(docLink);\n",
              "        }\n",
              "      </script>\n",
              "    </div>\n",
              "  </div>\n",
              "  "
            ]
          },
          "metadata": {},
          "execution_count": 10
        }
      ],
      "source": [
        "#Análisis de duplicados.\n",
        "data_filtro_fecha_T = data_filtro_fecha.groupby(['numero_de_cliente','foto_mes'])['numero_de_cliente'].count().reset_index(name='count')  \n",
        "data_filtro_fecha_T[data_filtro_fecha_T['count']>1]"
      ]
    },
    {
      "cell_type": "code",
      "execution_count": 11,
      "metadata": {
        "id": "UR3NPWsv0SaT"
      },
      "outputs": [],
      "source": [
        "#Eliminación de duplicados.\n",
        "data_filtro_fecha = data_filtro_fecha[data_filtro_fecha['numero_de_cliente'] != 3333]"
      ]
    },
    {
      "cell_type": "markdown",
      "metadata": {
        "id": "xGrJpYHwB_H0"
      },
      "source": [
        "###Generación de la variable objetivo\n",
        "\n",
        "El próximo paso consiste en la construcción de la variable objetivo \"target_bin\" que indica con 0 y 1, según las clases definidas anteriormente, si el cliente tiene potencial de solicitar la baja. Para esto generamos una serie de columnas auxiliares y temporales que nos ayudan a calcular dicha variable.\n",
        "\n",
        "Identificamos a los clientes de la siguiente forma:\n",
        "- \"Continúa\" es un cliente activo en los tres meses de análisis (201402, 201403 y 201404)\n",
        "- \"Baja+1\" es un cliente que solo esta activo en el primer mes (201402), y ya no lo está en el segundo ni tercer mes (201403 y 201404 respectivamente).\n",
        "- \"Baja+2\" es un cliente que está activo en los dos primeros meses (201402 y 201403) y no lo está en el tercer mes (201404).\n",
        "\n",
        "Con estas clases provisorias, la variables \"tarjet_bin\" se construye de la siguiente manera:\n",
        "- \"Continúa\" y \"Baja+1\" catalogan para la clase 0.\n",
        "- \"Baja+2\" cataloga para la clase 1.\n",
        "\n",
        "Una vez generada esta variable objetivo, filtramos nuevamente los datos para capturar aquellos donde *foto_mes* tenga el valor del mes con el cual entrenaremos los modelos predictivos: en este caso, 201402.\n",
        "\n",
        "Identificamos con este filtro 181981 registros, de los cuales 773 se clasifican como 1, y 181208 se clasifican como 0."
      ]
    },
    {
      "cell_type": "code",
      "execution_count": 12,
      "metadata": {
        "id": "rZL5k6TxB-Ng",
        "colab": {
          "base_uri": "https://localhost:8080/"
        },
        "outputId": "e026c9d8-62f0-4da9-fd96-66d88c43892b"
      },
      "outputs": [
        {
          "output_type": "stream",
          "name": "stdout",
          "text": [
            "<class 'pandas.core.frame.DataFrame'>\n",
            "Int64Index: 181981 entries, 22 to 2694499\n",
            "Columns: 171 entries, numero_de_cliente to Mes_2\n",
            "dtypes: float64(43), int64(38), object(90)\n",
            "memory usage: 238.8+ MB\n"
          ]
        }
      ],
      "source": [
        "#Generacion de columnas con informacion de mes+1 y mes+2.\n",
        "data_filtro_fecha['Mes_1'] = data_filtro_fecha.groupby(['numero_de_cliente'])['foto_mes'].shift(-1)\n",
        "data_filtro_fecha['Mes_2'] = data_filtro_fecha.groupby(['numero_de_cliente'])['foto_mes'].shift(-2)\n",
        "\n",
        "#Eliminacion de los registros con fecha > a 201402.\n",
        "data_filtro_fecha = data_filtro_fecha[data_filtro_fecha.foto_mes == 201402]\n",
        "\n",
        "data_filtro_fecha.info()"
      ]
    },
    {
      "cell_type": "code",
      "execution_count": 13,
      "metadata": {
        "colab": {
          "base_uri": "https://localhost:8080/"
        },
        "id": "Ql2_3ioLC2pv",
        "outputId": "6880f1ae-0a09-4808-a469-dd3a30b07a93"
      },
      "outputs": [
        {
          "output_type": "execute_result",
          "data": {
            "text/plain": [
              "0    181208\n",
              "1       773\n",
              "Name: target_bin, dtype: int64"
            ]
          },
          "metadata": {},
          "execution_count": 13
        }
      ],
      "source": [
        "#Generacion de columnas target como clase y binaria.\n",
        "data_filtro_fecha['target'] = \"Baja+1\"\n",
        "data_filtro_fecha.loc[(data_filtro_fecha['Mes_1']==201403), 'target'] = \"Baja+2\"\n",
        "data_filtro_fecha.loc[(data_filtro_fecha['Mes_2']==201404), 'target'] = \"Continua\"\n",
        "data_filtro_fecha['target_bin'] = np.where(data_filtro_fecha['target']=='Baja+2', 1, 0)\n",
        "\n",
        "data_filtro_fecha['target_bin'].value_counts()"
      ]
    },
    {
      "cell_type": "code",
      "execution_count": 14,
      "metadata": {
        "id": "cnd469MgDJrc"
      },
      "outputs": [],
      "source": [
        "#Eliminacion de las columnas auxiliares temporales.\n",
        "data_filtro_fecha = data_filtro_fecha.drop(['Mes_1' , 'Mes_2', 'target'] , axis = 'columns')"
      ]
    },
    {
      "cell_type": "markdown",
      "metadata": {
        "id": "LGM-T_S4_lZb"
      },
      "source": [
        "### Limpieza de variables irrelevantes\n",
        "A continuación eliminamos todas aquellas variables del dataset que poseen el mismo valor para todos los registros. Esto se debe a que no agregarán valor al análisis predictivo dado que no presentan varianza."
      ]
    },
    {
      "cell_type": "code",
      "execution_count": 15,
      "metadata": {
        "id": "tfWxi3jXqXHx",
        "colab": {
          "base_uri": "https://localhost:8080/"
        },
        "outputId": "cf8f8b02-2905-4dfb-e849-cad24cf78c87"
      },
      "outputs": [
        {
          "output_type": "stream",
          "name": "stdout",
          "text": [
            "<class 'pandas.core.frame.DataFrame'>\n",
            "Int64Index: 181981 entries, 22 to 2694499\n",
            "Data columns (total 146 columns):\n",
            " #    Column                            Dtype  \n",
            "---   ------                            -----  \n",
            " 0    numero_de_cliente                 int64  \n",
            " 1    cliente_vip                       int64  \n",
            " 2    cliente_sucursal                  int64  \n",
            " 3    cliente_edad                      int64  \n",
            " 4    cliente_antiguedad                int64  \n",
            " 5    mrentabilidad                     float64\n",
            " 6    mrentabilidad_annual              float64\n",
            " 7    marketing_coss_selling            int64  \n",
            " 8    tpaquete2                         object \n",
            " 9    tpaquete4                         object \n",
            " 10   tpaquete6                         object \n",
            " 11   tpaquete7                         object \n",
            " 12   tpaquete9                         object \n",
            " 13   tcuentas                          object \n",
            " 14   tcuenta_corriente                 object \n",
            " 15   mcuenta_corriente_Nopaquete       float64\n",
            " 16   mcuenta_corriente_Paquete         float64\n",
            " 17   tcaja_ahorro                      object \n",
            " 18   mcaja_ahorro_Paquete              float64\n",
            " 19   mcaja_ahorro_Nopaquete            float64\n",
            " 20   mcaja_ahorro_dolares              float64\n",
            " 21   mdescubierto_preacordado          float64\n",
            " 22   mcuentas_saldo                    float64\n",
            " 23   ttarjeta_debito                   object \n",
            " 24   ctarjeta_debito_transacciones     int64  \n",
            " 25   mautoservicio                     float64\n",
            " 26   ttarjeta_visa                     object \n",
            " 27   ctarjeta_visa_transacciones       int64  \n",
            " 28   mtarjeta_visa_consumo             float64\n",
            " 29   ttarjeta_master                   object \n",
            " 30   ctarjeta_master_transacciones     int64  \n",
            " 31   mtarjeta_master_consumo           float64\n",
            " 32   cprestamos_personales             int64  \n",
            " 33   mprestamos_personales             float64\n",
            " 34   cprestamos_prendarios             int64  \n",
            " 35   mprestamos_prendarios             float64\n",
            " 36   cprestamos_hipotecarios           int64  \n",
            " 37   mprestamos_hipotecarios           object \n",
            " 38   tplazo_fijo                       object \n",
            " 39   mplazo_fijo_dolares               float64\n",
            " 40   mplazo_fijo_pesos                 float64\n",
            " 41   tfondos_comunes_inversion         object \n",
            " 42   mfondos_comunes_inversion_pesos   float64\n",
            " 43   mfondos_comunes_inversion_dolare  float64\n",
            " 44   ttitulos                          object \n",
            " 45   mtitulos                          float64\n",
            " 46   tseguro_vida_mercado_abierto      object \n",
            " 47   tseguro_auto                      object \n",
            " 48   tseguro_vivienda                  object \n",
            " 49   tseguro_accidentes_personales     object \n",
            " 50   tcaja_seguridad                   object \n",
            " 51   mplan_sueldo_manual               float64\n",
            " 52   cplan_sueldo_transaccion          int64  \n",
            " 53   tcuenta_debitos_automaticos       object \n",
            " 54   mcuenta_debitos_automaticos       object \n",
            " 55   ttarjeta_visa_debitos_automatico  object \n",
            " 56   mttarjeta_visa_debitos_automatic  object \n",
            " 57   ttarjeta_master_debitos_automati  object \n",
            " 58   mttarjeta_master_debitos_automat  object \n",
            " 59   tpagodeservicios                  object \n",
            " 60   mpagodeservicios                  object \n",
            " 61   tpagomiscuentas                   object \n",
            " 62   mpagomiscuentas                   object \n",
            " 63   ccajeros_propios_descuentos       int64  \n",
            " 64   mcajeros_propios_descuentos       float64\n",
            " 65   ctarjeta_visa_descuentos          int64  \n",
            " 66   mtarjeta_visa_descuentos          object \n",
            " 67   ctarjeta_master_descuentos        int64  \n",
            " 68   mtarjeta_master_descuentos        object \n",
            " 69   ccomisiones_mantenimiento         int64  \n",
            " 70   mcomisiones_mantenimiento         float64\n",
            " 71   ccomisiones_otras                 int64  \n",
            " 72   mcomisiones_otras                 float64\n",
            " 73   tcambio_monedas                   object \n",
            " 74   ccambio_monedas_compra            int64  \n",
            " 75   mcambio_monedas_compra            float64\n",
            " 76   ccambio_monedas_venta             int64  \n",
            " 77   mcambio_monedas_venta             float64\n",
            " 78   ctransferencias_recibidas         int64  \n",
            " 79   mtransferencias_recibidas         float64\n",
            " 80   ctransferencias_emitidas          int64  \n",
            " 81   mtransferencias_emitidas          float64\n",
            " 82   cextraccion_autoservicio          int64  \n",
            " 83   mextraccion_autoservicio          float64\n",
            " 84   ccheques_depositados              int64  \n",
            " 85   mcheques_depositados              float64\n",
            " 86   ccheques_emitidos                 int64  \n",
            " 87   mcheques_emitidos                 float64\n",
            " 88   ccheques_depositados_rechazados   int64  \n",
            " 89   mcheques_depositados_rechazados   float64\n",
            " 90   ccheques_emitidos_rechazados      int64  \n",
            " 91   mcheques_emitidos_rechazados      float64\n",
            " 92   tcallcenter                       object \n",
            " 93   ccallcenter_transacciones         int64  \n",
            " 94   tcajas                            object \n",
            " 95   tcajas_depositos                  object \n",
            " 96   tcajas_extracciones               object \n",
            " 97   tcajas_otras                      object \n",
            " 98   ccajeros_propio_transacciones     int64  \n",
            " 99   mcajeros_propio                   float64\n",
            " 100  ccajeros_ajenos_transacciones     int64  \n",
            " 101  mcajeros_ajenos                   float64\n",
            " 102  tmovimientos_ultimos90dias        object \n",
            " 103  Master_marca_atraso               object \n",
            " 104  Master_cuenta_estado              object \n",
            " 105  Master_mfinanciacion_limite       object \n",
            " 106  Master_Fvencimiento               object \n",
            " 107  Master_msaldototal                object \n",
            " 108  Master_msaldopesos                object \n",
            " 109  Master_msaldodolares              object \n",
            " 110  Master_mconsumospesos             object \n",
            " 111  Master_mconsumosdolares           object \n",
            " 112  Master_mlimitecompra              object \n",
            " 113  Master_madelantopesos             object \n",
            " 114  Master_madelantodolares           object \n",
            " 115  Master_fultimo_cierre             object \n",
            " 116  Master_mpagado                    object \n",
            " 117  Master_mpagospesos                object \n",
            " 118  Master_mpagosdolares              object \n",
            " 119  Master_fechaalta                  object \n",
            " 120  Master_mconsumototal              object \n",
            " 121  Master_tconsumos                  object \n",
            " 122  Master_tadelantosefectivo         object \n",
            " 123  Master_mpagominimo                object \n",
            " 124  Visa_marca_atraso                 object \n",
            " 125  Visa_cuenta_estado                object \n",
            " 126  Visa_mfinanciacion_limite         object \n",
            " 127  Visa_Fvencimiento                 object \n",
            " 128  Visa_msaldototal                  object \n",
            " 129  Visa_msaldopesos                  object \n",
            " 130  Visa_msaldodolares                object \n",
            " 131  Visa_mconsumospesos               object \n",
            " 132  Visa_mconsumosdolares             object \n",
            " 133  Visa_mlimitecompra                object \n",
            " 134  Visa_madelantopesos               object \n",
            " 135  Visa_madelantodolares             object \n",
            " 136  Visa_fultimo_cierre               object \n",
            " 137  Visa_mpagado                      object \n",
            " 138  Visa_mpagospesos                  object \n",
            " 139  Visa_mpagosdolares                object \n",
            " 140  Visa_fechaalta                    object \n",
            " 141  Visa_mconsumototal                object \n",
            " 142  Visa_tconsumos                    object \n",
            " 143  Visa_tadelantosefectivo           object \n",
            " 144  Visa_mpagominimo                  object \n",
            " 145  target_bin                        int64  \n",
            "dtypes: float64(34), int64(31), object(81)\n",
            "memory usage: 204.1+ MB\n"
          ]
        }
      ],
      "source": [
        "Dict={}\n",
        "\n",
        "#Recorremos el dataset y generamos un diccionario con la cantidad de valores posibles por columna.\n",
        "for column in data_filtro_fecha.columns:\n",
        "     case = data_filtro_fecha[column].nunique() \n",
        "     Dict[column]=case\n",
        "\n",
        "#Eliminamos columnas que poseen un unico valor posible.\n",
        "filtered_dict_1 = {k:v for k,v in Dict.items() if v<=1 }\n",
        "\n",
        "for k,y in filtered_dict_1.items():\n",
        "  del data_filtro_fecha[k]\n",
        "\n",
        "data_filtro_fecha.info(verbose = True)"
      ]
    },
    {
      "cell_type": "markdown",
      "source": [
        "Guardamos el listado de variables para que, una vez definido el modelo predictivo final, podamos filtrar futuros datasets. "
      ],
      "metadata": {
        "id": "5PKcXR1qXuig"
      }
    },
    {
      "cell_type": "code",
      "source": [
        "variables_mandatorias = list(data_filtro_fecha.columns)\n",
        "variables_mandatorias.remove('target_bin')\n",
        "variables_mandatorias.append('foto_mes')"
      ],
      "metadata": {
        "id": "fduIjUnrctoX"
      },
      "execution_count": 16,
      "outputs": []
    },
    {
      "cell_type": "markdown",
      "metadata": {
        "id": "aTWUGgKqIQAz"
      },
      "source": [
        "Procedemos con la eliminación de columnas que consideramos de poco valor para el análisis. \n",
        "- Columnas con información de fecha\n",
        "- Número de cliente"
      ]
    },
    {
      "cell_type": "code",
      "execution_count": 17,
      "metadata": {
        "id": "CtgkSRc8FkMA",
        "colab": {
          "base_uri": "https://localhost:8080/"
        },
        "outputId": "418d5d05-fcc8-45fd-fd16-e32bb9587ad1"
      },
      "outputs": [
        {
          "output_type": "stream",
          "name": "stdout",
          "text": [
            "<class 'pandas.core.frame.DataFrame'>\n",
            "Int64Index: 181981 entries, 22 to 2694499\n",
            "Data columns (total 139 columns):\n",
            " #    Column                            Dtype  \n",
            "---   ------                            -----  \n",
            " 0    cliente_vip                       int64  \n",
            " 1    cliente_sucursal                  int64  \n",
            " 2    cliente_edad                      int64  \n",
            " 3    cliente_antiguedad                int64  \n",
            " 4    mrentabilidad                     float64\n",
            " 5    mrentabilidad_annual              float64\n",
            " 6    marketing_coss_selling            int64  \n",
            " 7    tpaquete2                         object \n",
            " 8    tpaquete4                         object \n",
            " 9    tpaquete6                         object \n",
            " 10   tpaquete7                         object \n",
            " 11   tpaquete9                         object \n",
            " 12   tcuentas                          object \n",
            " 13   tcuenta_corriente                 object \n",
            " 14   mcuenta_corriente_Nopaquete       float64\n",
            " 15   mcuenta_corriente_Paquete         float64\n",
            " 16   tcaja_ahorro                      object \n",
            " 17   mcaja_ahorro_Paquete              float64\n",
            " 18   mcaja_ahorro_Nopaquete            float64\n",
            " 19   mcaja_ahorro_dolares              float64\n",
            " 20   mdescubierto_preacordado          float64\n",
            " 21   mcuentas_saldo                    float64\n",
            " 22   ttarjeta_debito                   object \n",
            " 23   ctarjeta_debito_transacciones     int64  \n",
            " 24   mautoservicio                     float64\n",
            " 25   ttarjeta_visa                     object \n",
            " 26   ctarjeta_visa_transacciones       int64  \n",
            " 27   mtarjeta_visa_consumo             float64\n",
            " 28   ttarjeta_master                   object \n",
            " 29   ctarjeta_master_transacciones     int64  \n",
            " 30   mtarjeta_master_consumo           float64\n",
            " 31   cprestamos_personales             int64  \n",
            " 32   mprestamos_personales             float64\n",
            " 33   cprestamos_prendarios             int64  \n",
            " 34   mprestamos_prendarios             float64\n",
            " 35   cprestamos_hipotecarios           int64  \n",
            " 36   mprestamos_hipotecarios           object \n",
            " 37   tplazo_fijo                       object \n",
            " 38   mplazo_fijo_dolares               float64\n",
            " 39   mplazo_fijo_pesos                 float64\n",
            " 40   tfondos_comunes_inversion         object \n",
            " 41   mfondos_comunes_inversion_pesos   float64\n",
            " 42   mfondos_comunes_inversion_dolare  float64\n",
            " 43   ttitulos                          object \n",
            " 44   mtitulos                          float64\n",
            " 45   tseguro_vida_mercado_abierto      object \n",
            " 46   tseguro_auto                      object \n",
            " 47   tseguro_vivienda                  object \n",
            " 48   tseguro_accidentes_personales     object \n",
            " 49   tcaja_seguridad                   object \n",
            " 50   mplan_sueldo_manual               float64\n",
            " 51   cplan_sueldo_transaccion          int64  \n",
            " 52   tcuenta_debitos_automaticos       object \n",
            " 53   mcuenta_debitos_automaticos       object \n",
            " 54   ttarjeta_visa_debitos_automatico  object \n",
            " 55   mttarjeta_visa_debitos_automatic  object \n",
            " 56   ttarjeta_master_debitos_automati  object \n",
            " 57   mttarjeta_master_debitos_automat  object \n",
            " 58   tpagodeservicios                  object \n",
            " 59   mpagodeservicios                  object \n",
            " 60   tpagomiscuentas                   object \n",
            " 61   mpagomiscuentas                   object \n",
            " 62   ccajeros_propios_descuentos       int64  \n",
            " 63   mcajeros_propios_descuentos       float64\n",
            " 64   ctarjeta_visa_descuentos          int64  \n",
            " 65   mtarjeta_visa_descuentos          object \n",
            " 66   ctarjeta_master_descuentos        int64  \n",
            " 67   mtarjeta_master_descuentos        object \n",
            " 68   ccomisiones_mantenimiento         int64  \n",
            " 69   mcomisiones_mantenimiento         float64\n",
            " 70   ccomisiones_otras                 int64  \n",
            " 71   mcomisiones_otras                 float64\n",
            " 72   tcambio_monedas                   object \n",
            " 73   ccambio_monedas_compra            int64  \n",
            " 74   mcambio_monedas_compra            float64\n",
            " 75   ccambio_monedas_venta             int64  \n",
            " 76   mcambio_monedas_venta             float64\n",
            " 77   ctransferencias_recibidas         int64  \n",
            " 78   mtransferencias_recibidas         float64\n",
            " 79   ctransferencias_emitidas          int64  \n",
            " 80   mtransferencias_emitidas          float64\n",
            " 81   cextraccion_autoservicio          int64  \n",
            " 82   mextraccion_autoservicio          float64\n",
            " 83   ccheques_depositados              int64  \n",
            " 84   mcheques_depositados              float64\n",
            " 85   ccheques_emitidos                 int64  \n",
            " 86   mcheques_emitidos                 float64\n",
            " 87   ccheques_depositados_rechazados   int64  \n",
            " 88   mcheques_depositados_rechazados   float64\n",
            " 89   ccheques_emitidos_rechazados      int64  \n",
            " 90   mcheques_emitidos_rechazados      float64\n",
            " 91   tcallcenter                       object \n",
            " 92   ccallcenter_transacciones         int64  \n",
            " 93   tcajas                            object \n",
            " 94   tcajas_depositos                  object \n",
            " 95   tcajas_extracciones               object \n",
            " 96   tcajas_otras                      object \n",
            " 97   ccajeros_propio_transacciones     int64  \n",
            " 98   mcajeros_propio                   float64\n",
            " 99   ccajeros_ajenos_transacciones     int64  \n",
            " 100  mcajeros_ajenos                   float64\n",
            " 101  tmovimientos_ultimos90dias        object \n",
            " 102  Master_marca_atraso               object \n",
            " 103  Master_cuenta_estado              object \n",
            " 104  Master_mfinanciacion_limite       object \n",
            " 105  Master_msaldototal                object \n",
            " 106  Master_msaldopesos                object \n",
            " 107  Master_msaldodolares              object \n",
            " 108  Master_mconsumospesos             object \n",
            " 109  Master_mconsumosdolares           object \n",
            " 110  Master_mlimitecompra              object \n",
            " 111  Master_madelantopesos             object \n",
            " 112  Master_madelantodolares           object \n",
            " 113  Master_mpagado                    object \n",
            " 114  Master_mpagospesos                object \n",
            " 115  Master_mpagosdolares              object \n",
            " 116  Master_mconsumototal              object \n",
            " 117  Master_tconsumos                  object \n",
            " 118  Master_tadelantosefectivo         object \n",
            " 119  Master_mpagominimo                object \n",
            " 120  Visa_marca_atraso                 object \n",
            " 121  Visa_cuenta_estado                object \n",
            " 122  Visa_mfinanciacion_limite         object \n",
            " 123  Visa_msaldototal                  object \n",
            " 124  Visa_msaldopesos                  object \n",
            " 125  Visa_msaldodolares                object \n",
            " 126  Visa_mconsumospesos               object \n",
            " 127  Visa_mconsumosdolares             object \n",
            " 128  Visa_mlimitecompra                object \n",
            " 129  Visa_madelantopesos               object \n",
            " 130  Visa_madelantodolares             object \n",
            " 131  Visa_mpagado                      object \n",
            " 132  Visa_mpagospesos                  object \n",
            " 133  Visa_mpagosdolares                object \n",
            " 134  Visa_mconsumototal                object \n",
            " 135  Visa_tconsumos                    object \n",
            " 136  Visa_tadelantosefectivo           object \n",
            " 137  Visa_mpagominimo                  object \n",
            " 138  target_bin                        int64  \n",
            "dtypes: float64(34), int64(30), object(75)\n",
            "memory usage: 194.4+ MB\n"
          ]
        }
      ],
      "source": [
        "columnas_del = ['numero_de_cliente', 'Master_Fvencimiento', 'Master_fultimo_cierre', 'Master_fechaalta', 'Visa_Fvencimiento', 'Visa_fultimo_cierre', 'Visa_fechaalta']\n",
        "data_filtro_fecha.drop(columns = columnas_del, axis = 1, inplace = True)\n",
        "data_filtro_fecha.info(verbose = True)"
      ]
    },
    {
      "cell_type": "markdown",
      "metadata": {
        "id": "bIw0oxSKTds5"
      },
      "source": [
        "###Transformación de valores y tipos\n",
        "Reemplazamos los valores incorrectos ('.') presentes en el dataset. El criterio utilizado es:\n",
        "- Variables de tipo object-booleano reemplamos por -1 y transformamos a tipo INT\n",
        "- Variables de tipo object-numérico reemplamos por 0 y transformamos a tipo FLOAT."
      ]
    },
    {
      "cell_type": "code",
      "execution_count": 18,
      "metadata": {
        "id": "mixyHNTOTdS_"
      },
      "outputs": [],
      "source": [
        "# ' por -1, y tipo INT\n",
        "data_filtro_fecha['Visa_marca_atraso'] = data_filtro_fecha['Visa_marca_atraso'].replace('.', -1).astype(int)\n",
        "data_filtro_fecha['Master_marca_atraso'] = data_filtro_fecha['Master_marca_atraso'].replace('.', -1).astype(int)"
      ]
    },
    {
      "cell_type": "code",
      "execution_count": 19,
      "metadata": {
        "id": "MBkTfJTmTYHV"
      },
      "outputs": [],
      "source": [
        "# . por 0, y tipo FLOAT\n",
        "columnas_float = ['mprestamos_hipotecarios', 'mcuenta_debitos_automaticos', 'mttarjeta_visa_debitos_automatic', 'mttarjeta_master_debitos_automat', 'mpagodeservicios',\n",
        "'mpagomiscuentas', 'mtarjeta_visa_descuentos', 'mtarjeta_master_descuentos', 'Master_mfinanciacion_limite', 'Master_msaldototal', 'Master_msaldopesos', 'Master_msaldodolares',\n",
        "'Master_mconsumospesos', 'Master_mconsumosdolares', 'Master_mlimitecompra', 'Master_madelantopesos', 'Master_madelantodolares', 'Master_mpagado', 'Master_mpagospesos', 'Master_mpagosdolares',\n",
        "'Master_mconsumototal', 'Master_mpagominimo', 'Visa_mfinanciacion_limite', 'Visa_msaldototal', 'Visa_msaldopesos', 'Visa_msaldodolares', 'Visa_mconsumospesos', 'Visa_mconsumosdolares', \n",
        "'Visa_mlimitecompra', 'Visa_madelantopesos', 'Visa_madelantodolares', 'Visa_mpagado', 'Visa_mpagospesos', 'Visa_mpagosdolares', 'Visa_mconsumototal', 'Visa_mpagominimo']\n",
        "\n",
        "for col in columnas_float:\n",
        "  data_filtro_fecha[col] = data_filtro_fecha[col].replace('.', 0).astype(float)"
      ]
    },
    {
      "cell_type": "markdown",
      "metadata": {
        "id": "gUc-Oa7A-zgT"
      },
      "source": [
        "###Transformación de variables categóricas\n",
        "\n",
        "Procedemos con la transformación de aquellas variables con valores categóricos a valores numéricos con el método de *get_dummies()*.\n",
        "*   Para las variables con más de dos valores posibles, se quito la columa original y se adicionaron tantas columnas nuevas como valores existen.\n",
        "*   Para las variables con solo dos valores posibles, se quito la columna original y se adiciono unicamente la columa con el valor 'S'.\n"
      ]
    },
    {
      "cell_type": "code",
      "execution_count": 20,
      "metadata": {
        "id": "aud6I9CScToG"
      },
      "outputs": [],
      "source": [
        "#Variables con más de dos posibles valores.\n",
        "data_filtro_fecha = pd.get_dummies(data_filtro_fecha, columns = ['Master_cuenta_estado', 'Visa_cuenta_estado'])"
      ]
    },
    {
      "cell_type": "code",
      "execution_count": 21,
      "metadata": {
        "id": "YKdt4RpRdIsK",
        "colab": {
          "base_uri": "https://localhost:8080/"
        },
        "outputId": "abcfb614-0e34-4da3-b251-9825b9360e53"
      },
      "outputs": [
        {
          "output_type": "stream",
          "name": "stdout",
          "text": [
            "<class 'pandas.core.frame.DataFrame'>\n",
            "Int64Index: 181981 entries, 22 to 2694499\n",
            "Data columns (total 147 columns):\n",
            " #    Column                              Dtype  \n",
            "---   ------                              -----  \n",
            " 0    cliente_vip                         int64  \n",
            " 1    cliente_sucursal                    int64  \n",
            " 2    cliente_edad                        int64  \n",
            " 3    cliente_antiguedad                  int64  \n",
            " 4    mrentabilidad                       float64\n",
            " 5    mrentabilidad_annual                float64\n",
            " 6    marketing_coss_selling              int64  \n",
            " 7    mcuenta_corriente_Nopaquete         float64\n",
            " 8    mcuenta_corriente_Paquete           float64\n",
            " 9    mcaja_ahorro_Paquete                float64\n",
            " 10   mcaja_ahorro_Nopaquete              float64\n",
            " 11   mcaja_ahorro_dolares                float64\n",
            " 12   mdescubierto_preacordado            float64\n",
            " 13   mcuentas_saldo                      float64\n",
            " 14   ctarjeta_debito_transacciones       int64  \n",
            " 15   mautoservicio                       float64\n",
            " 16   ctarjeta_visa_transacciones         int64  \n",
            " 17   mtarjeta_visa_consumo               float64\n",
            " 18   ctarjeta_master_transacciones       int64  \n",
            " 19   mtarjeta_master_consumo             float64\n",
            " 20   cprestamos_personales               int64  \n",
            " 21   mprestamos_personales               float64\n",
            " 22   cprestamos_prendarios               int64  \n",
            " 23   mprestamos_prendarios               float64\n",
            " 24   cprestamos_hipotecarios             int64  \n",
            " 25   mprestamos_hipotecarios             float64\n",
            " 26   mplazo_fijo_dolares                 float64\n",
            " 27   mplazo_fijo_pesos                   float64\n",
            " 28   mfondos_comunes_inversion_pesos     float64\n",
            " 29   mfondos_comunes_inversion_dolare    float64\n",
            " 30   mtitulos                            float64\n",
            " 31   mplan_sueldo_manual                 float64\n",
            " 32   cplan_sueldo_transaccion            int64  \n",
            " 33   mcuenta_debitos_automaticos         float64\n",
            " 34   mttarjeta_visa_debitos_automatic    float64\n",
            " 35   mttarjeta_master_debitos_automat    float64\n",
            " 36   mpagodeservicios                    float64\n",
            " 37   mpagomiscuentas                     float64\n",
            " 38   ccajeros_propios_descuentos         int64  \n",
            " 39   mcajeros_propios_descuentos         float64\n",
            " 40   ctarjeta_visa_descuentos            int64  \n",
            " 41   mtarjeta_visa_descuentos            float64\n",
            " 42   ctarjeta_master_descuentos          int64  \n",
            " 43   mtarjeta_master_descuentos          float64\n",
            " 44   ccomisiones_mantenimiento           int64  \n",
            " 45   mcomisiones_mantenimiento           float64\n",
            " 46   ccomisiones_otras                   int64  \n",
            " 47   mcomisiones_otras                   float64\n",
            " 48   ccambio_monedas_compra              int64  \n",
            " 49   mcambio_monedas_compra              float64\n",
            " 50   ccambio_monedas_venta               int64  \n",
            " 51   mcambio_monedas_venta               float64\n",
            " 52   ctransferencias_recibidas           int64  \n",
            " 53   mtransferencias_recibidas           float64\n",
            " 54   ctransferencias_emitidas            int64  \n",
            " 55   mtransferencias_emitidas            float64\n",
            " 56   cextraccion_autoservicio            int64  \n",
            " 57   mextraccion_autoservicio            float64\n",
            " 58   ccheques_depositados                int64  \n",
            " 59   mcheques_depositados                float64\n",
            " 60   ccheques_emitidos                   int64  \n",
            " 61   mcheques_emitidos                   float64\n",
            " 62   ccheques_depositados_rechazados     int64  \n",
            " 63   mcheques_depositados_rechazados     float64\n",
            " 64   ccheques_emitidos_rechazados        int64  \n",
            " 65   mcheques_emitidos_rechazados        float64\n",
            " 66   ccallcenter_transacciones           int64  \n",
            " 67   ccajeros_propio_transacciones       int64  \n",
            " 68   mcajeros_propio                     float64\n",
            " 69   ccajeros_ajenos_transacciones       int64  \n",
            " 70   mcajeros_ajenos                     float64\n",
            " 71   Master_marca_atraso                 int64  \n",
            " 72   Master_mfinanciacion_limite         float64\n",
            " 73   Master_msaldototal                  float64\n",
            " 74   Master_msaldopesos                  float64\n",
            " 75   Master_msaldodolares                float64\n",
            " 76   Master_mconsumospesos               float64\n",
            " 77   Master_mconsumosdolares             float64\n",
            " 78   Master_mlimitecompra                float64\n",
            " 79   Master_madelantopesos               float64\n",
            " 80   Master_madelantodolares             float64\n",
            " 81   Master_mpagado                      float64\n",
            " 82   Master_mpagospesos                  float64\n",
            " 83   Master_mpagosdolares                float64\n",
            " 84   Master_mconsumototal                float64\n",
            " 85   Master_mpagominimo                  float64\n",
            " 86   Visa_marca_atraso                   int64  \n",
            " 87   Visa_mfinanciacion_limite           float64\n",
            " 88   Visa_msaldototal                    float64\n",
            " 89   Visa_msaldopesos                    float64\n",
            " 90   Visa_msaldodolares                  float64\n",
            " 91   Visa_mconsumospesos                 float64\n",
            " 92   Visa_mconsumosdolares               float64\n",
            " 93   Visa_mlimitecompra                  float64\n",
            " 94   Visa_madelantopesos                 float64\n",
            " 95   Visa_madelantodolares               float64\n",
            " 96   Visa_mpagado                        float64\n",
            " 97   Visa_mpagospesos                    float64\n",
            " 98   Visa_mpagosdolares                  float64\n",
            " 99   Visa_mconsumototal                  float64\n",
            " 100  Visa_mpagominimo                    float64\n",
            " 101  target_bin                          int64  \n",
            " 102  Master_cuenta_estado_.              uint8  \n",
            " 103  Master_cuenta_estado_10             uint8  \n",
            " 104  Master_cuenta_estado_11             uint8  \n",
            " 105  Master_cuenta_estado_12             uint8  \n",
            " 106  Master_cuenta_estado_19             uint8  \n",
            " 107  Visa_cuenta_estado_.                uint8  \n",
            " 108  Visa_cuenta_estado_10               uint8  \n",
            " 109  Visa_cuenta_estado_11               uint8  \n",
            " 110  Visa_cuenta_estado_12               uint8  \n",
            " 111  Visa_cuenta_estado_19               uint8  \n",
            " 112  tpaquete2_S                         uint8  \n",
            " 113  tpaquete4_S                         uint8  \n",
            " 114  tpaquete6_S                         uint8  \n",
            " 115  tpaquete7_S                         uint8  \n",
            " 116  tpaquete9_S                         uint8  \n",
            " 117  tcuentas_S                          uint8  \n",
            " 118  tcuenta_corriente_S                 uint8  \n",
            " 119  tcaja_ahorro_S                      uint8  \n",
            " 120  ttarjeta_debito_S                   uint8  \n",
            " 121  ttarjeta_visa_S                     uint8  \n",
            " 122  ttarjeta_master_S                   uint8  \n",
            " 123  tplazo_fijo_S                       uint8  \n",
            " 124  tfondos_comunes_inversion_S         uint8  \n",
            " 125  ttitulos_S                          uint8  \n",
            " 126  tseguro_vida_mercado_abierto_S      uint8  \n",
            " 127  tseguro_auto_S                      uint8  \n",
            " 128  tseguro_vivienda_S                  uint8  \n",
            " 129  tseguro_accidentes_personales_S     uint8  \n",
            " 130  tcaja_seguridad_S                   uint8  \n",
            " 131  tcuenta_debitos_automaticos_S       uint8  \n",
            " 132  ttarjeta_visa_debitos_automatico_S  uint8  \n",
            " 133  ttarjeta_master_debitos_automati_S  uint8  \n",
            " 134  tpagodeservicios_S                  uint8  \n",
            " 135  tpagomiscuentas_S                   uint8  \n",
            " 136  tcambio_monedas_S                   uint8  \n",
            " 137  tcallcenter_S                       uint8  \n",
            " 138  tcajas_S                            uint8  \n",
            " 139  tcajas_depositos_S                  uint8  \n",
            " 140  tcajas_extracciones_S               uint8  \n",
            " 141  tcajas_otras_S                      uint8  \n",
            " 142  tmovimientos_ultimos90dias_S        uint8  \n",
            " 143  Master_tconsumos_S                  uint8  \n",
            " 144  Master_tadelantosefectivo_S         uint8  \n",
            " 145  Visa_tconsumos_S                    uint8  \n",
            " 146  Visa_tadelantosefectivo_S           uint8  \n",
            "dtypes: float64(70), int64(32), uint8(45)\n",
            "memory usage: 150.8 MB\n"
          ]
        }
      ],
      "source": [
        "#Variables con solo dos valores posibles.\n",
        "columnas_dummies = ['tpaquete2', 'tpaquete4', 'tpaquete6', 'tpaquete7', 'tpaquete9', 'tcuentas', 'tcuenta_corriente', 'tcaja_ahorro', 'ttarjeta_debito', 'ttarjeta_visa', \n",
        "'ttarjeta_master', 'tplazo_fijo', 'tfondos_comunes_inversion', 'ttitulos', 'tseguro_vida_mercado_abierto', 'tseguro_auto', 'tseguro_vivienda', 'tseguro_accidentes_personales', \n",
        "'tcaja_seguridad',  'tcuenta_debitos_automaticos', 'ttarjeta_visa_debitos_automatico', 'ttarjeta_master_debitos_automati', 'tpagodeservicios','tpagomiscuentas', 'tcambio_monedas', \n",
        "'tcallcenter',  'tcajas', 'tcajas_depositos', 'tcajas_extracciones', 'tcajas_otras', 'tmovimientos_ultimos90dias', 'Master_tconsumos', 'Master_tadelantosefectivo', \n",
        "'Visa_tconsumos', 'Visa_tadelantosefectivo']\n",
        "\n",
        "data_filtro_fecha = pd.get_dummies(data_filtro_fecha, columns = columnas_dummies, drop_first = True)\n",
        "data_filtro_fecha.info(verbose = True)"
      ]
    },
    {
      "cell_type": "markdown",
      "metadata": {
        "id": "IxZY-KB-AisF"
      },
      "source": [
        "###Tratamiento de valores nulos\n",
        "\n",
        "Realizamos el reemplazo de valores nulos por 0 en caso que hayan quedado en el dataset."
      ]
    },
    {
      "cell_type": "code",
      "execution_count": 22,
      "metadata": {
        "id": "WgqE91jib_HN"
      },
      "outputs": [],
      "source": [
        "data_filtro_fecha = data_filtro_fecha.fillna(0)"
      ]
    },
    {
      "cell_type": "markdown",
      "metadata": {
        "id": "cUlgAEUpA0ib"
      },
      "source": [
        "###Variables calculadas\n"
      ]
    },
    {
      "cell_type": "markdown",
      "source": [
        "Continuamos con el cálculo de variables adicionales para enriquecer el dataset."
      ],
      "metadata": {
        "id": "LIbCcJU7cAEI"
      }
    },
    {
      "cell_type": "code",
      "execution_count": 23,
      "metadata": {
        "id": "3r1LbAH3HgZQ"
      },
      "outputs": [],
      "source": [
        "#Variables calculadas\n",
        "data_filtro_fecha['mcuenta_corriente_all'] = data_filtro_fecha['mcuenta_corriente_Paquete'] + data_filtro_fecha['mcuenta_corriente_Nopaquete']\n",
        "data_filtro_fecha['mcaja_ahorro_all'] = data_filtro_fecha['mcaja_ahorro_Paquete'] + data_filtro_fecha['mcaja_ahorro_Nopaquete']\n",
        "data_filtro_fecha['mcaja_ahorro_CC'] = data_filtro_fecha['mcaja_ahorro_all'] + data_filtro_fecha['mcuenta_corriente_all']\n",
        "data_filtro_fecha['mtarjeta_all_consumo'] = data_filtro_fecha['mtarjeta_visa_consumo'] + data_filtro_fecha['mtarjeta_master_consumo']\n",
        "data_filtro_fecha['ctarjeta_all_transacciones'] = data_filtro_fecha['ctarjeta_visa_transacciones'] + data_filtro_fecha['ctarjeta_master_transacciones']"
      ]
    },
    {
      "cell_type": "code",
      "execution_count": 24,
      "metadata": {
        "id": "6BbBTF20-xoy",
        "colab": {
          "base_uri": "https://localhost:8080/"
        },
        "outputId": "bddc5b02-f2cd-479d-ec8d-061d3821f8cd"
      },
      "outputs": [
        {
          "output_type": "stream",
          "name": "stdout",
          "text": [
            "<class 'pandas.core.frame.DataFrame'>\n",
            "Int64Index: 181981 entries, 22 to 2694499\n",
            "Data columns (total 152 columns):\n",
            " #    Column                              Dtype  \n",
            "---   ------                              -----  \n",
            " 0    cliente_vip                         int64  \n",
            " 1    cliente_sucursal                    int64  \n",
            " 2    cliente_edad                        int64  \n",
            " 3    cliente_antiguedad                  int64  \n",
            " 4    mrentabilidad                       float64\n",
            " 5    mrentabilidad_annual                float64\n",
            " 6    marketing_coss_selling              int64  \n",
            " 7    mcuenta_corriente_Nopaquete         float64\n",
            " 8    mcuenta_corriente_Paquete           float64\n",
            " 9    mcaja_ahorro_Paquete                float64\n",
            " 10   mcaja_ahorro_Nopaquete              float64\n",
            " 11   mcaja_ahorro_dolares                float64\n",
            " 12   mdescubierto_preacordado            float64\n",
            " 13   mcuentas_saldo                      float64\n",
            " 14   ctarjeta_debito_transacciones       int64  \n",
            " 15   mautoservicio                       float64\n",
            " 16   ctarjeta_visa_transacciones         int64  \n",
            " 17   mtarjeta_visa_consumo               float64\n",
            " 18   ctarjeta_master_transacciones       int64  \n",
            " 19   mtarjeta_master_consumo             float64\n",
            " 20   cprestamos_personales               int64  \n",
            " 21   mprestamos_personales               float64\n",
            " 22   cprestamos_prendarios               int64  \n",
            " 23   mprestamos_prendarios               float64\n",
            " 24   cprestamos_hipotecarios             int64  \n",
            " 25   mprestamos_hipotecarios             float64\n",
            " 26   mplazo_fijo_dolares                 float64\n",
            " 27   mplazo_fijo_pesos                   float64\n",
            " 28   mfondos_comunes_inversion_pesos     float64\n",
            " 29   mfondos_comunes_inversion_dolare    float64\n",
            " 30   mtitulos                            float64\n",
            " 31   mplan_sueldo_manual                 float64\n",
            " 32   cplan_sueldo_transaccion            int64  \n",
            " 33   mcuenta_debitos_automaticos         float64\n",
            " 34   mttarjeta_visa_debitos_automatic    float64\n",
            " 35   mttarjeta_master_debitos_automat    float64\n",
            " 36   mpagodeservicios                    float64\n",
            " 37   mpagomiscuentas                     float64\n",
            " 38   ccajeros_propios_descuentos         int64  \n",
            " 39   mcajeros_propios_descuentos         float64\n",
            " 40   ctarjeta_visa_descuentos            int64  \n",
            " 41   mtarjeta_visa_descuentos            float64\n",
            " 42   ctarjeta_master_descuentos          int64  \n",
            " 43   mtarjeta_master_descuentos          float64\n",
            " 44   ccomisiones_mantenimiento           int64  \n",
            " 45   mcomisiones_mantenimiento           float64\n",
            " 46   ccomisiones_otras                   int64  \n",
            " 47   mcomisiones_otras                   float64\n",
            " 48   ccambio_monedas_compra              int64  \n",
            " 49   mcambio_monedas_compra              float64\n",
            " 50   ccambio_monedas_venta               int64  \n",
            " 51   mcambio_monedas_venta               float64\n",
            " 52   ctransferencias_recibidas           int64  \n",
            " 53   mtransferencias_recibidas           float64\n",
            " 54   ctransferencias_emitidas            int64  \n",
            " 55   mtransferencias_emitidas            float64\n",
            " 56   cextraccion_autoservicio            int64  \n",
            " 57   mextraccion_autoservicio            float64\n",
            " 58   ccheques_depositados                int64  \n",
            " 59   mcheques_depositados                float64\n",
            " 60   ccheques_emitidos                   int64  \n",
            " 61   mcheques_emitidos                   float64\n",
            " 62   ccheques_depositados_rechazados     int64  \n",
            " 63   mcheques_depositados_rechazados     float64\n",
            " 64   ccheques_emitidos_rechazados        int64  \n",
            " 65   mcheques_emitidos_rechazados        float64\n",
            " 66   ccallcenter_transacciones           int64  \n",
            " 67   ccajeros_propio_transacciones       int64  \n",
            " 68   mcajeros_propio                     float64\n",
            " 69   ccajeros_ajenos_transacciones       int64  \n",
            " 70   mcajeros_ajenos                     float64\n",
            " 71   Master_marca_atraso                 int64  \n",
            " 72   Master_mfinanciacion_limite         float64\n",
            " 73   Master_msaldototal                  float64\n",
            " 74   Master_msaldopesos                  float64\n",
            " 75   Master_msaldodolares                float64\n",
            " 76   Master_mconsumospesos               float64\n",
            " 77   Master_mconsumosdolares             float64\n",
            " 78   Master_mlimitecompra                float64\n",
            " 79   Master_madelantopesos               float64\n",
            " 80   Master_madelantodolares             float64\n",
            " 81   Master_mpagado                      float64\n",
            " 82   Master_mpagospesos                  float64\n",
            " 83   Master_mpagosdolares                float64\n",
            " 84   Master_mconsumototal                float64\n",
            " 85   Master_mpagominimo                  float64\n",
            " 86   Visa_marca_atraso                   int64  \n",
            " 87   Visa_mfinanciacion_limite           float64\n",
            " 88   Visa_msaldototal                    float64\n",
            " 89   Visa_msaldopesos                    float64\n",
            " 90   Visa_msaldodolares                  float64\n",
            " 91   Visa_mconsumospesos                 float64\n",
            " 92   Visa_mconsumosdolares               float64\n",
            " 93   Visa_mlimitecompra                  float64\n",
            " 94   Visa_madelantopesos                 float64\n",
            " 95   Visa_madelantodolares               float64\n",
            " 96   Visa_mpagado                        float64\n",
            " 97   Visa_mpagospesos                    float64\n",
            " 98   Visa_mpagosdolares                  float64\n",
            " 99   Visa_mconsumototal                  float64\n",
            " 100  Visa_mpagominimo                    float64\n",
            " 101  target_bin                          int64  \n",
            " 102  Master_cuenta_estado_.              uint8  \n",
            " 103  Master_cuenta_estado_10             uint8  \n",
            " 104  Master_cuenta_estado_11             uint8  \n",
            " 105  Master_cuenta_estado_12             uint8  \n",
            " 106  Master_cuenta_estado_19             uint8  \n",
            " 107  Visa_cuenta_estado_.                uint8  \n",
            " 108  Visa_cuenta_estado_10               uint8  \n",
            " 109  Visa_cuenta_estado_11               uint8  \n",
            " 110  Visa_cuenta_estado_12               uint8  \n",
            " 111  Visa_cuenta_estado_19               uint8  \n",
            " 112  tpaquete2_S                         uint8  \n",
            " 113  tpaquete4_S                         uint8  \n",
            " 114  tpaquete6_S                         uint8  \n",
            " 115  tpaquete7_S                         uint8  \n",
            " 116  tpaquete9_S                         uint8  \n",
            " 117  tcuentas_S                          uint8  \n",
            " 118  tcuenta_corriente_S                 uint8  \n",
            " 119  tcaja_ahorro_S                      uint8  \n",
            " 120  ttarjeta_debito_S                   uint8  \n",
            " 121  ttarjeta_visa_S                     uint8  \n",
            " 122  ttarjeta_master_S                   uint8  \n",
            " 123  tplazo_fijo_S                       uint8  \n",
            " 124  tfondos_comunes_inversion_S         uint8  \n",
            " 125  ttitulos_S                          uint8  \n",
            " 126  tseguro_vida_mercado_abierto_S      uint8  \n",
            " 127  tseguro_auto_S                      uint8  \n",
            " 128  tseguro_vivienda_S                  uint8  \n",
            " 129  tseguro_accidentes_personales_S     uint8  \n",
            " 130  tcaja_seguridad_S                   uint8  \n",
            " 131  tcuenta_debitos_automaticos_S       uint8  \n",
            " 132  ttarjeta_visa_debitos_automatico_S  uint8  \n",
            " 133  ttarjeta_master_debitos_automati_S  uint8  \n",
            " 134  tpagodeservicios_S                  uint8  \n",
            " 135  tpagomiscuentas_S                   uint8  \n",
            " 136  tcambio_monedas_S                   uint8  \n",
            " 137  tcallcenter_S                       uint8  \n",
            " 138  tcajas_S                            uint8  \n",
            " 139  tcajas_depositos_S                  uint8  \n",
            " 140  tcajas_extracciones_S               uint8  \n",
            " 141  tcajas_otras_S                      uint8  \n",
            " 142  tmovimientos_ultimos90dias_S        uint8  \n",
            " 143  Master_tconsumos_S                  uint8  \n",
            " 144  Master_tadelantosefectivo_S         uint8  \n",
            " 145  Visa_tconsumos_S                    uint8  \n",
            " 146  Visa_tadelantosefectivo_S           uint8  \n",
            " 147  mcuenta_corriente_all               float64\n",
            " 148  mcaja_ahorro_all                    float64\n",
            " 149  mcaja_ahorro_CC                     float64\n",
            " 150  mtarjeta_all_consumo                float64\n",
            " 151  ctarjeta_all_transacciones          int64  \n",
            "dtypes: float64(74), int64(33), uint8(45)\n",
            "memory usage: 157.8 MB\n"
          ]
        }
      ],
      "source": [
        "data_filtro_fecha.info(verbose = True)"
      ]
    },
    {
      "cell_type": "markdown",
      "source": [
        "Una vez terminada la limpieza y transformación de variables, estamos en condiciones de pasar al entrenamieto de los modelos. \n"
      ],
      "metadata": {
        "id": "buOxofeicm0I"
      }
    },
    {
      "cell_type": "markdown",
      "source": [
        "---------"
      ],
      "metadata": {
        "id": "hl3roknNhk0_"
      }
    },
    {
      "cell_type": "markdown",
      "metadata": {
        "id": "dxfO8Egohk-l"
      },
      "source": [
        "#Separación en Train y Test\n",
        "\n",
        "Previo al entrenamiento de los modelos, realizamos la separación de los datos diferenciando entre las variables independientes (X_total) y la variable objetivo (y_total).\n",
        "\n",
        "A su vez graficamos la distribución de la variable objetivo para ver la frecuencia de las clases."
      ]
    },
    {
      "cell_type": "code",
      "execution_count": 25,
      "metadata": {
        "id": "mHsOvBskhrOJ",
        "colab": {
          "base_uri": "https://localhost:8080/",
          "height": 312
        },
        "outputId": "93a4cae8-5b10-4bf6-b94d-e7a6666a0560"
      },
      "outputs": [
        {
          "output_type": "execute_result",
          "data": {
            "text/plain": [
              "Text(0, 0.5, 'Cantidad de Observaciones')"
            ]
          },
          "metadata": {},
          "execution_count": 25
        },
        {
          "output_type": "display_data",
          "data": {
            "text/plain": [
              "<Figure size 432x288 with 1 Axes>"
            ],
            "image/png": "[encoded data removed]"
          },
          "metadata": {
            "needs_background": "light"
          }
        }
      ],
      "source": [
        "#Separación.\n",
        "X_total = data_filtro_fecha.drop(['target_bin'] , axis = 'columns')\n",
        "y_total = data_filtro_fecha.target_bin\n",
        "\n",
        "#Ploteo.\n",
        "count_classes = pd.value_counts(y_total, sort = True)\n",
        "count_classes.plot(kind = 'bar', rot=0)\n",
        "plt.title(\"Frecuencia observada de Clases\")\n",
        "plt.xlabel(\"Clase\")\n",
        "plt.ylabel(\"Cantidad de Observaciones\")"
      ]
    },
    {
      "cell_type": "markdown",
      "metadata": {
        "id": "2t7qlL1EDWmK"
      },
      "source": [
        "Realizamos la separación de los datos en los conjuntos TRAIN y TEST."
      ]
    },
    {
      "cell_type": "code",
      "execution_count": 26,
      "metadata": {
        "id": "gXzP6PNAiDiV",
        "colab": {
          "base_uri": "https://localhost:8080/"
        },
        "outputId": "2b2af35a-59db-4b4a-a855-b49a086debb2"
      },
      "outputs": [
        {
          "output_type": "stream",
          "name": "stdout",
          "text": [
            "---------- X_train ---------- \n",
            "(136485, 151)\n",
            "----------- X_test ---------- \n",
            "(45496, 151)\n",
            "---------- y_train ---------- \n",
            "(136485,)\n",
            "---------- y_test ---------- \n",
            "(45496,)\n"
          ]
        }
      ],
      "source": [
        "# Particion de datos externa: conjutos de TRAIN y TEST.\n",
        "X_train, X_test, y_train, y_test = train_test_split(X_total, y_total, test_size = 0.25, random_state = 42)\n",
        "\n",
        "print('---------- X_train ---------- ')\n",
        "print(np.shape(X_train))\n",
        "print('----------- X_test ---------- ')\n",
        "print(np.shape(X_test))\n",
        "print('---------- y_train ---------- ')\n",
        "print(np.shape(y_train))\n",
        "print('---------- y_test ---------- ')\n",
        "print(np.shape(y_test))"
      ]
    },
    {
      "cell_type": "markdown",
      "metadata": {
        "id": "yPISFY6ADhmm"
      },
      "source": [
        "Verificamos la distribución de clases tanto en el conjunto de train como en el de test. "
      ]
    },
    {
      "cell_type": "code",
      "execution_count": 27,
      "metadata": {
        "id": "5pZqgeSovpUc",
        "colab": {
          "base_uri": "https://localhost:8080/"
        },
        "outputId": "8e4686cf-5693-41c4-d1f3-c1cbbc5d8ec5"
      },
      "outputs": [
        {
          "output_type": "stream",
          "name": "stdout",
          "text": [
            "---------- y_train ---------- \n",
            "Cantidad de 0 : 135895\n",
            "Cantidad de 1 : 590\n",
            "---------- y_test ---------- \n",
            "Cantidad de 0 : 45313\n",
            "Cantidad de 1 : 183\n"
          ]
        }
      ],
      "source": [
        "print('---------- y_train ---------- ')\n",
        "print('Cantidad de 0 :', (y_train == 0).sum())\n",
        "print('Cantidad de 1 :', (y_train == 1).sum())\n",
        "print('---------- y_test ---------- ')\n",
        "print('Cantidad de 0 :', (y_test == 0).sum())\n",
        "print('Cantidad de 1 :', (y_test == 1).sum())"
      ]
    },
    {
      "cell_type": "markdown",
      "metadata": {
        "id": "J0gf41jZEZP5"
      },
      "source": [
        "Podemos observar que el dataset se encuentra muy desbalanceado en cuanto a la cantidad de clase 0 y clase 1. Por lo tanto, analizaremos modelos balanceados como no balanceados para ver su influencia en las predicciones."
      ]
    },
    {
      "cell_type": "markdown",
      "source": [
        "-------"
      ],
      "metadata": {
        "id": "ctLGCowuhjPe"
      }
    },
    {
      "cell_type": "markdown",
      "metadata": {
        "id": "u5GARfggF80N"
      },
      "source": [
        "#Modelo 1: Regresión Logística\n",
        "\n",
        "\n"
      ]
    },
    {
      "cell_type": "markdown",
      "metadata": {
        "id": "ICS-2Av3CXPe"
      },
      "source": [
        "## Entrenamiento\n"
      ]
    },
    {
      "cell_type": "markdown",
      "metadata": {
        "id": "Nvih2ahJCZWX"
      },
      "source": [
        "###Estandarización\n",
        "\n",
        "Escogimos el método de *StandarScaler()* para hacer la estandarización de los datos del conjunto TRAIN."
      ]
    },
    {
      "cell_type": "code",
      "execution_count": 28,
      "metadata": {
        "id": "N_6oczabj-Ur",
        "colab": {
          "base_uri": "https://localhost:8080/"
        },
        "outputId": "aed6f4fd-c81b-422c-8baf-815b6b49fbd2"
      },
      "outputs": [
        {
          "output_type": "stream",
          "name": "stdout",
          "text": [
            "---------- X_train_std ---------- \n",
            "(136485, 151)\n"
          ]
        }
      ],
      "source": [
        "#Estandarizacion de las caracteristicas.\n",
        "std = StandardScaler()\n",
        "X_train_std = std.fit_transform(X_train)\n",
        "\n",
        "print('---------- X_train_std ---------- ')\n",
        "print(np.shape(X_train_std))"
      ]
    },
    {
      "cell_type": "markdown",
      "metadata": {
        "id": "x3bQEWDkGQ62"
      },
      "source": [
        "###Selección de Variables\n",
        "\n",
        "Para hacer la selección de características procedimos a utilizar el método *SelectPercentile()* con un percentil de 90 sobre los datos estandarizados del conjunto TRAIN y obtuvimos un total de 135 variables independientes.\n"
      ]
    },
    {
      "cell_type": "code",
      "execution_count": 29,
      "metadata": {
        "id": "DQXvwkiPKpiH",
        "colab": {
          "base_uri": "https://localhost:8080/"
        },
        "outputId": "59b69a08-2ffb-45e1-af45-223e358e6bac"
      },
      "outputs": [
        {
          "output_type": "stream",
          "name": "stdout",
          "text": [
            "---------- X_train_nf ---------- \n",
            "(136485, 135)\n"
          ]
        }
      ],
      "source": [
        "# Seleccion de caracteristicas.\n",
        "sel = SelectPercentile(f_regression, percentile = 90)\n",
        "X_train_nf = sel.fit_transform(X_train_std, y_train)\n",
        "\n",
        "print('---------- X_train_nf ---------- ')\n",
        "print(np.shape(X_train_nf))"
      ]
    },
    {
      "cell_type": "markdown",
      "metadata": {
        "id": "mYAR26B7JVie"
      },
      "source": [
        "###Modelado\n",
        "\n",
        "Realizamos una validación cruzada de los datos de TRAIN para luego entrenar la regresión logística."
      ]
    },
    {
      "cell_type": "code",
      "execution_count": 30,
      "metadata": {
        "colab": {
          "base_uri": "https://localhost:8080/"
        },
        "id": "eXyG-s-EkZ0W",
        "outputId": "5039b73f-f46c-4f1b-bd45-3ad195093c4c"
      },
      "outputs": [
        {
          "output_type": "stream",
          "name": "stdout",
          "text": [
            "Accuracy:  0.9956 +/- 0.0002\n"
          ]
        }
      ],
      "source": [
        "#Entrenamiento con validacion cruzada.\n",
        "lreg = LogisticRegression(penalty = 'l1', max_iter = 500, solver = 'saga', random_state = 42, multi_class = 'ovr')\n",
        "\n",
        "resultados = cross_val_score(lreg, X_train_nf , y_train, cv = KFold(n_splits = 5, shuffle = True, random_state = 42))\n",
        "print('Accuracy:  %0.4f +/- %0.4f' % (resultados.mean(), resultados.std()))\n",
        "\n",
        "RL_modelo_basico = lreg.fit(X_train_nf, y_train)"
      ]
    },
    {
      "cell_type": "markdown",
      "metadata": {
        "id": "5nwQfX-cQEu7"
      },
      "source": [
        "## Predicción"
      ]
    },
    {
      "cell_type": "markdown",
      "metadata": {
        "id": "12XsI-BrKxpA"
      },
      "source": [
        "###Estandarización\n",
        "\n",
        "Volvemos a utilizar *StandarScaler()* para hacer ahora la estandarización de los datos del conjunto TEST."
      ]
    },
    {
      "cell_type": "code",
      "execution_count": 31,
      "metadata": {
        "id": "Ksa8htRmmJlY",
        "colab": {
          "base_uri": "https://localhost:8080/"
        },
        "outputId": "0f08269b-bc3e-4aa2-ebbd-f13bb8e6e700"
      },
      "outputs": [
        {
          "output_type": "stream",
          "name": "stdout",
          "text": [
            "---------- X_test_std ---------- \n",
            "(45496, 151)\n"
          ]
        }
      ],
      "source": [
        "#Estandarizacion de las caracteristicas de test.\n",
        "X_test_std = std.transform(X_test)\n",
        "\n",
        "print('---------- X_test_std ---------- ')\n",
        "print(np.shape(X_test_std))"
      ]
    },
    {
      "cell_type": "markdown",
      "metadata": {
        "id": "jK8GOj57LapV"
      },
      "source": [
        "###Selección de Variables\n",
        "\n",
        "Volvemos a utilizar *SelectPercentile()* para hacer la selección de características sobre los datos estandarizados del conjunto TEST."
      ]
    },
    {
      "cell_type": "code",
      "execution_count": 32,
      "metadata": {
        "id": "8tCFV4EOmNSS",
        "colab": {
          "base_uri": "https://localhost:8080/"
        },
        "outputId": "38f59bf9-1601-4729-c202-6aee353e64b1"
      },
      "outputs": [
        {
          "output_type": "stream",
          "name": "stdout",
          "text": [
            "---------- X_test_nf ---------- \n",
            "(45496, 135)\n"
          ]
        }
      ],
      "source": [
        "#Selección de las caracteristicas relevantes del test.\n",
        "X_test_nf = sel.transform(X_test_std)\n",
        "\n",
        "print('---------- X_test_nf ---------- ')\n",
        "print(np.shape(X_test_nf))"
      ]
    },
    {
      "cell_type": "markdown",
      "metadata": {
        "id": "s2i0FW8nL_53"
      },
      "source": [
        "###Predicción del conjunto test\n",
        "\n",
        "Realizamos la predicción de clases sobre los datos del conjunto TEST."
      ]
    },
    {
      "cell_type": "code",
      "execution_count": 33,
      "metadata": {
        "colab": {
          "base_uri": "https://localhost:8080/"
        },
        "id": "qfWB_GWjmO0k",
        "outputId": "8a56f190-1dc4-4d17-dc8d-aa540985bea7"
      },
      "outputs": [
        {
          "output_type": "stream",
          "name": "stdout",
          "text": [
            "---------- y_pred ---------- \n",
            "[0 0 0 ... 0 0 0]\n",
            "Cantidad de 0:  45480\n",
            "Cantidad de 1:  16\n"
          ]
        }
      ],
      "source": [
        "# Prediccion del conjunto test\n",
        "y_pred = RL_modelo_basico.predict(X_test_nf)\n",
        "\n",
        "print('---------- y_pred ---------- ')\n",
        "print(y_pred)\n",
        "print('Cantidad de 0: ', (y_pred == 0).sum())\n",
        "print('Cantidad de 1: ', (y_pred == 1).sum())"
      ]
    },
    {
      "cell_type": "markdown",
      "metadata": {
        "id": "HOl2Nk5CMMxw"
      },
      "source": [
        "###Descarga de datos\n",
        "\n",
        "Descargamos los datos en un archivo CSV para utilizar luego en la comparación de modelos."
      ]
    },
    {
      "cell_type": "code",
      "execution_count": 34,
      "metadata": {
        "id": "NAZ-nPS7mTPw"
      },
      "outputs": [],
      "source": [
        "# Clase Real, Clase Predicha y Probabilidad Asociada\n",
        "y_probability = RL_modelo_basico.predict_proba(X_test_nf)[:, 1]\n",
        "\n",
        "df_pred = pd.DataFrame({\"y_test\": y_test, \"y_pred\": y_pred,\"prob_a\": y_probability})\n",
        "df_pred = GuardarMetricasCSV(df_pred,'/content/drive/MyDrive/Colab Notebooks/Bimestre3/RegresionLogistica')"
      ]
    },
    {
      "cell_type": "markdown",
      "metadata": {
        "id": "p2rmNfOg0zYp"
      },
      "source": [
        "###Evaluación del modelo\n",
        "\n",
        "Procedemos a calcular diferentes métricas sobre las predicciones del modelo."
      ]
    },
    {
      "cell_type": "code",
      "execution_count": 35,
      "metadata": {
        "id": "cSGOYaGj0W0D",
        "colab": {
          "base_uri": "https://localhost:8080/"
        },
        "outputId": "5e432b34-dc6e-4ab1-ca90-155e924e8b61"
      },
      "outputs": [
        {
          "output_type": "stream",
          "name": "stdout",
          "text": [
            "---------- Test: Accuracy ----------\n",
            "0.9959337084578864\n",
            "---------- Test: Recall ----------\n",
            "0.03825136612021858\n",
            "---------- Test: Precision ----------\n",
            "0.4375\n",
            "--------- Confusion Matrix ---------\n",
            "[[45304     9]\n",
            " [  176     7]]\n",
            "-------------------------------\n",
            "Máximo posible de Ganancia:  33400\n",
            "Total de Ganancia Real:  33400\n"
          ]
        }
      ],
      "source": [
        "#Evaluación de métricas.\n",
        "metricas_regresionlog = printmetricas(y_test, y_pred, df_pred, 'Regresion Logistica')"
      ]
    },
    {
      "cell_type": "code",
      "execution_count": 36,
      "metadata": {
        "id": "Me4gbQgHDM1l",
        "colab": {
          "base_uri": "https://localhost:8080/",
          "height": 656
        },
        "outputId": "d9534f1f-e3f7-4356-f3f5-41d4888c7957"
      },
      "outputs": [
        {
          "output_type": "stream",
          "name": "stdout",
          "text": [
            "--------- Curva ROC Score ---------\n",
            "0.914160510035902\n"
          ]
        },
        {
          "output_type": "display_data",
          "data": {
            "text/plain": [
              "<Figure size 720x720 with 1 Axes>"
            ],
            "image/png": "[encoded data removed]"
          },
          "metadata": {
            "needs_background": "light"
          }
        }
      ],
      "source": [
        "#Evaluación de la curva ROC.\n",
        "metricas_regresionlog = plotCurvaRoc(y_test, y_probability, 'Regresión Logística', metricas_regresionlog)"
      ]
    },
    {
      "cell_type": "code",
      "source": [
        "metricas_regresionlog"
      ],
      "metadata": {
        "id": "kGJ3G8JmGp5O",
        "colab": {
          "base_uri": "https://localhost:8080/"
        },
        "outputId": "88c8f577-815a-47ef-8706-0e9491acffb0"
      },
      "execution_count": 37,
      "outputs": [
        {
          "output_type": "execute_result",
          "data": {
            "text/plain": [
              "{'Algoritmo': 'Regresion Logistica',\n",
              " 'Accuracy': 0.9959337084578864,\n",
              " 'Recall': 0.03825136612021858,\n",
              " 'Precision': 0.4375,\n",
              " 'True Positive': 45304,\n",
              " 'False Positive': 9,\n",
              " 'False Negative': 176,\n",
              " 'True Negative': 7,\n",
              " 'Predict Max': 33400,\n",
              " 'Predict Sum': 33400,\n",
              " 'Proba de Corte': 0.502,\n",
              " 'ROC': 0.914160510035902}"
            ]
          },
          "metadata": {},
          "execution_count": 37
        }
      ]
    },
    {
      "cell_type": "markdown",
      "metadata": {
        "id": "9k4RgYWhlbfn"
      },
      "source": [
        "--------------"
      ]
    },
    {
      "cell_type": "markdown",
      "metadata": {
        "id": "DMLe3_4xNTIo"
      },
      "source": [
        "#Modelo 2: Regresión Logística - balanceada"
      ]
    },
    {
      "cell_type": "markdown",
      "metadata": {
        "id": "GtgiMl5tPAxu"
      },
      "source": [
        "## Entrenamiento"
      ]
    },
    {
      "cell_type": "markdown",
      "metadata": {
        "id": "oodEA3uCOQza"
      },
      "source": [
        "###Estandarización\n",
        "\n",
        "Utilizamos la misma estandarización que para el MODELO 1 - Regresión Logística.\n",
        "\n",
        "El código utilizado es el siguiente:\n",
        "```\n",
        "X_train_std = std.fit_transform(X_train)\n",
        "```"
      ]
    },
    {
      "cell_type": "markdown",
      "metadata": {
        "id": "liXdFtqTQEno"
      },
      "source": [
        "###Selección de Variables\n",
        "\n",
        "Utilizamos la misma selección de variables que para el MODELO 1 - Regresión Logística.\n",
        "\n",
        "El código utilizado es el siguiente:\n",
        "\n",
        "```\n",
        "X_train_nf = sel.fit_transform(X_train_std, y_train))\n",
        "```"
      ]
    },
    {
      "cell_type": "markdown",
      "metadata": {
        "id": "gR77j6VcQdY1"
      },
      "source": [
        "###Modelado\n",
        "\n",
        "Realizamos una validación cruzada de los datos de TRAIN para luego entrenar la regresión logística balanceada."
      ]
    },
    {
      "cell_type": "code",
      "execution_count": 38,
      "metadata": {
        "id": "4lSJc38bKhBd",
        "colab": {
          "base_uri": "https://localhost:8080/"
        },
        "outputId": "297f435f-ddd2-46fe-cf9e-09c5c283cde6"
      },
      "outputs": [
        {
          "output_type": "stream",
          "name": "stdout",
          "text": [
            "Accuracy:  0.8707 +/- 0.0027\n"
          ]
        }
      ],
      "source": [
        "#Entrenamiento y validación cruzada.\n",
        "lreg_balanced = LogisticRegression(penalty = 'l1', max_iter = 500, solver = 'saga', random_state = 42, multi_class = 'ovr', class_weight = 'balanced')\n",
        "\n",
        "resultados = cross_val_score(lreg_balanced, X_train_nf , y_train, cv = KFold(n_splits = 5, shuffle = True, random_state = 42))\n",
        "print('Accuracy:  %0.4f +/- %0.4f' % (resultados.mean(), resultados.std()))\n",
        "\n",
        "RL_modelo_balanceado = lreg_balanced.fit(X_train_nf, y_train)"
      ]
    },
    {
      "cell_type": "markdown",
      "metadata": {
        "id": "gncEuxKoQz-n"
      },
      "source": [
        "## Predicción"
      ]
    },
    {
      "cell_type": "markdown",
      "metadata": {
        "id": "wvprI-LYQ1GZ"
      },
      "source": [
        "###Estandarización\n",
        "\n",
        "Utilizamos la misma estandarización que para el MODELO 1 - Regresión Logística.\n",
        "\n",
        "El código utilizado es el siguiente:\n",
        "```\n",
        "X_test_std = std.transform(X_test)\n",
        "```"
      ]
    },
    {
      "cell_type": "markdown",
      "metadata": {
        "id": "NydrUMr6ROlS"
      },
      "source": [
        "###Selección de Variables\n",
        "\n",
        "Utilizamos la misma selección de variables que para el MODELO 1 - Regresión Logística.\n",
        "\n",
        "El código utilizado es el siguiente:\n",
        "```\n",
        "X_test_nf = sel.transform(X_test_std)\n",
        "```"
      ]
    },
    {
      "cell_type": "markdown",
      "metadata": {
        "id": "O4NIY8NVRdR5"
      },
      "source": [
        "###Predicción del conjunto test\n",
        "\n",
        "Realizamos la predicción de clases sobre los datos del conjunto TEST."
      ]
    },
    {
      "cell_type": "code",
      "execution_count": 39,
      "metadata": {
        "id": "xrMvq3Q5QxUd",
        "colab": {
          "base_uri": "https://localhost:8080/"
        },
        "outputId": "5c260887-e23b-4c22-bcc4-91d43c069556"
      },
      "outputs": [
        {
          "output_type": "stream",
          "name": "stdout",
          "text": [
            "---------- y_pred ---------- \n",
            "[0 1 1 ... 0 0 1]\n",
            "Cantidad de 0:  39506\n",
            "Cantidad de 1:  5990\n"
          ]
        }
      ],
      "source": [
        "# Prediccion del conjunto test\n",
        "y_pred = RL_modelo_balanceado.predict(X_test_nf)\n",
        "\n",
        "print('---------- y_pred ---------- ')\n",
        "print(y_pred)\n",
        "print('Cantidad de 0: ', (y_pred == 0).sum())\n",
        "print('Cantidad de 1: ', (y_pred == 1).sum())"
      ]
    },
    {
      "cell_type": "markdown",
      "metadata": {
        "id": "rJk50xw7Ruh3"
      },
      "source": [
        "###Descarga de datos\n",
        "\n",
        "Descargamos los datos en un archivo CSV para utilizar luego en la comparación de modelos."
      ]
    },
    {
      "cell_type": "code",
      "execution_count": 40,
      "metadata": {
        "id": "RCh5LywCRvYf"
      },
      "outputs": [],
      "source": [
        "#Clase Real, Clase Predicha y Probabilidad Asociada\n",
        "y_probability = RL_modelo_balanceado.predict_proba(X_test_nf)[:, 1]\n",
        "\n",
        "df_pred = pd.DataFrame({\"y_test\": y_test, \"y_pred\": y_pred,\"prob_a\": y_probability})\n",
        "df_pred = GuardarMetricasCSV(df_pred,'/content/drive/MyDrive/Colab Notebooks/Bimestre3/RegresionLogistica-balanceada')"
      ]
    },
    {
      "cell_type": "markdown",
      "metadata": {
        "id": "nVNOEafg4VcD"
      },
      "source": [
        "###Evalución del modelo\n",
        "\n",
        "Procedemos a calcular diferentes métricas sobre las predicciones del modelo."
      ]
    },
    {
      "cell_type": "code",
      "execution_count": 41,
      "metadata": {
        "id": "vlDw4gX7LnZg",
        "colab": {
          "base_uri": "https://localhost:8080/"
        },
        "outputId": "96731be8-92d2-40c6-a21d-d7b6febd10f1"
      },
      "outputs": [
        {
          "output_type": "stream",
          "name": "stdout",
          "text": [
            "---------- Test: Accuracy ----------\n",
            "0.8706479690522244\n",
            "---------- Test: Recall ----------\n",
            "0.7868852459016393\n",
            "---------- Test: Precision ----------\n",
            "0.024040066777963272\n",
            "--------- Confusion Matrix ---------\n",
            "[[39467  5846]\n",
            " [   39   144]]\n",
            "-------------------------------\n",
            "Máximo posible de Ganancia:  367600\n",
            "Total de Ganancia Real:  121000\n"
          ]
        }
      ],
      "source": [
        "#Evaluación de métricas.\n",
        "metricas_regresionlogBAL = printmetricas(y_test, y_pred, df_pred, 'Regresion Logistica Balanceada')"
      ]
    },
    {
      "cell_type": "code",
      "execution_count": 42,
      "metadata": {
        "id": "C_63Ny2zR0Wq",
        "colab": {
          "base_uri": "https://localhost:8080/",
          "height": 656
        },
        "outputId": "e0495994-8d46-47d6-e241-cfd861f028eb"
      },
      "outputs": [
        {
          "output_type": "stream",
          "name": "stdout",
          "text": [
            "--------- Curva ROC Score ---------\n",
            "0.905625100168482\n"
          ]
        },
        {
          "output_type": "display_data",
          "data": {
            "text/plain": [
              "<Figure size 720x720 with 1 Axes>"
            ],
            "image/png": "[encoded data removed]"
          },
          "metadata": {
            "needs_background": "light"
          }
        }
      ],
      "source": [
        "#Evaluación de la curva ROC.\n",
        "metricas_regresionlogBAL = plotCurvaRoc(y_test, y_probability, 'Regresión Logística (balanceada)', metricas_regresionlogBAL)"
      ]
    },
    {
      "cell_type": "code",
      "source": [
        "metricas_regresionlogBAL"
      ],
      "metadata": {
        "id": "vrz14ihzLKDV",
        "colab": {
          "base_uri": "https://localhost:8080/"
        },
        "outputId": "fbdabab9-c530-4f68-9097-b15a87532840"
      },
      "execution_count": 43,
      "outputs": [
        {
          "output_type": "execute_result",
          "data": {
            "text/plain": [
              "{'Algoritmo': 'Regresion Logistica Balanceada',\n",
              " 'Accuracy': 0.8706479690522244,\n",
              " 'Recall': 0.7868852459016393,\n",
              " 'Precision': 0.024040066777963272,\n",
              " 'True Positive': 39467,\n",
              " 'False Positive': 5846,\n",
              " 'False Negative': 39,\n",
              " 'True Negative': 144,\n",
              " 'Predict Max': 367600,\n",
              " 'Predict Sum': 121000,\n",
              " 'Proba de Corte': 0.871,\n",
              " 'ROC': 0.905625100168482}"
            ]
          },
          "metadata": {},
          "execution_count": 43
        }
      ]
    },
    {
      "cell_type": "markdown",
      "source": [
        "------"
      ],
      "metadata": {
        "id": "kTJCqWy9hfRt"
      }
    },
    {
      "cell_type": "markdown",
      "metadata": {
        "id": "sKVAD0sbIt0P"
      },
      "source": [
        "#Modelo 3: Regresión Logística CV\n"
      ]
    },
    {
      "cell_type": "markdown",
      "metadata": {
        "id": "62lFphg44pJ2"
      },
      "source": [
        "##Entrenamiento"
      ]
    },
    {
      "cell_type": "markdown",
      "metadata": {
        "id": "ufX4bz9J4q2b"
      },
      "source": [
        "###Estandarización\n",
        "\n",
        "Utilizamos la misma estandarización que para el MODELO 1 - Regresión Logística.\n",
        "\n",
        "El código utilizado es el siguiente:\n",
        "```\n",
        "X_train_std = std.fit_transform(X_train)\n",
        "```"
      ]
    },
    {
      "cell_type": "markdown",
      "metadata": {
        "id": "_IGZhnSt42un"
      },
      "source": [
        "###Selección de Variables\n",
        "\n",
        "Utilizamos la misma selección de variables que para el MODELO 1 - Regresión Logística.\n",
        "\n",
        "El código utilizado es el siguiente:\n",
        "\n",
        "```\n",
        "X_train_nf = sel.fit_transform(X_train_std, y_train))\n",
        "```"
      ]
    },
    {
      "cell_type": "markdown",
      "metadata": {
        "id": "oLf9QB_o49HG"
      },
      "source": [
        "###Modelado\n",
        "\n",
        "\n",
        "Realizamos una validación cruzada de los datos de TRAIN para luego entrenar la regresión logística CV."
      ]
    },
    {
      "cell_type": "code",
      "execution_count": 44,
      "metadata": {
        "id": "wIR4R37mIyxH",
        "colab": {
          "base_uri": "https://localhost:8080/"
        },
        "outputId": "0d9121fb-a17c-486e-c2e3-53e457b6df0d"
      },
      "outputs": [
        {
          "output_type": "execute_result",
          "data": {
            "text/plain": [
              "LogisticRegressionCV(class_weight='balanced', cv=5, random_state=0)"
            ]
          },
          "metadata": {},
          "execution_count": 44
        }
      ],
      "source": [
        "#Entrenamiento y validación cruzada.\n",
        "RLCV_modelo_balanceado = LogisticRegressionCV(cv = 5, random_state = 0, class_weight = 'balanced')\n",
        "RLCV_modelo_balanceado.fit(X_train_nf, y_train)"
      ]
    },
    {
      "cell_type": "markdown",
      "metadata": {
        "id": "mdl7apyI5fHb"
      },
      "source": [
        "##Predicción"
      ]
    },
    {
      "cell_type": "markdown",
      "metadata": {
        "id": "3wM_0NR_5h1_"
      },
      "source": [
        "###Estandarización\n",
        "\n",
        "Utilizamos la misma estandarización que para el MODELO 1 - Regresión Logística.\n",
        "\n",
        "El código utilizado es el siguiente:\n",
        "```\n",
        "X_test_std = std.transform(X_test)\n",
        "```"
      ]
    },
    {
      "cell_type": "markdown",
      "metadata": {
        "id": "fC3q9K9X5sw6"
      },
      "source": [
        "###Selección de Variables\n",
        "\n",
        "Utilizamos la misma selección de variables que para el MODELO 1 - Regresión Logística.\n",
        "\n",
        "El código utilizado es el siguiente:\n",
        "```\n",
        "X_test_nf = sel.transform(X_test_std)\n",
        "```"
      ]
    },
    {
      "cell_type": "markdown",
      "metadata": {
        "id": "2hy125eT55Z5"
      },
      "source": [
        "###Predicción del conjunto test\n",
        "\n",
        "Realizamos la predicción de clases sobre los datos del conjunto TEST."
      ]
    },
    {
      "cell_type": "code",
      "execution_count": 45,
      "metadata": {
        "id": "ALLvtHU3JO9V",
        "colab": {
          "base_uri": "https://localhost:8080/"
        },
        "outputId": "5fa1d2f2-d807-43e9-f2aa-51bbbc3594bb"
      },
      "outputs": [
        {
          "output_type": "stream",
          "name": "stdout",
          "text": [
            "---------- y_pred ---------- \n",
            "[0 1 1 ... 0 0 1]\n",
            "Cantidad de 0:  39527\n",
            "Cantidad de 1:  5969\n"
          ]
        }
      ],
      "source": [
        "# Prediccion del conjunto test\n",
        "y_pred = RLCV_modelo_balanceado.predict(X_test_nf)\n",
        "\n",
        "print('---------- y_pred ---------- ')\n",
        "print(y_pred)\n",
        "print('Cantidad de 0: ', (y_pred == 0).sum())\n",
        "print('Cantidad de 1: ', (y_pred == 1).sum())"
      ]
    },
    {
      "cell_type": "markdown",
      "metadata": {
        "id": "w4d6F2tR6Y4P"
      },
      "source": [
        "###Descarga de datos\n",
        "\n",
        "Descargamos los datos en un archivo CSV para utilizar luego en la comparación de modelos."
      ]
    },
    {
      "cell_type": "code",
      "execution_count": 46,
      "metadata": {
        "id": "ckh9bOv26Z5G"
      },
      "outputs": [],
      "source": [
        "#Clase Real, Clase Predicha y Probabilidad Asociada\n",
        "y_probability = RLCV_modelo_balanceado.predict_proba(X_test_nf)[:, 1]\n",
        "\n",
        "df_pred = pd.DataFrame({\"y_test\": y_test, \"y_pred\": y_pred,\"prob_a\": y_probability})\n",
        "df_pred = GuardarMetricasCSV(df_pred,'/content/drive/MyDrive/Colab Notebooks/Bimestre3/RegresionLogisticaCV')"
      ]
    },
    {
      "cell_type": "markdown",
      "metadata": {
        "id": "XHbA5kTP6JZL"
      },
      "source": [
        "###Evaluación del modelo\n",
        "\n",
        "Procedemos a calcular diferentes métricas sobre las predicciones del modelo."
      ]
    },
    {
      "cell_type": "code",
      "execution_count": 47,
      "metadata": {
        "id": "UA68UA_ZJ6vs",
        "colab": {
          "base_uri": "https://localhost:8080/"
        },
        "outputId": "8bd623d0-8ea2-4144-e1b3-d9c3d9a9144a"
      },
      "outputs": [
        {
          "output_type": "stream",
          "name": "stdout",
          "text": [
            "---------- Test: Accuracy ----------\n",
            "0.8711974679092668\n",
            "---------- Test: Recall ----------\n",
            "0.7978142076502732\n",
            "---------- Test: Precision ----------\n",
            "0.024459708493885072\n",
            "--------- Confusion Matrix ---------\n",
            "[[39490  5823]\n",
            " [   37   146]]\n",
            "-------------------------------\n",
            "Máximo posible de Ganancia:  379200\n",
            "Total de Ganancia Real:  133100\n"
          ]
        }
      ],
      "source": [
        "#Evaluación de métricas.\n",
        "metricas_regresionlogCV = printmetricas(y_test, y_pred, df_pred, 'Regresion Logistica CV')"
      ]
    },
    {
      "cell_type": "code",
      "execution_count": 48,
      "metadata": {
        "id": "y0sbURcYKNwf",
        "colab": {
          "base_uri": "https://localhost:8080/",
          "height": 656
        },
        "outputId": "c5729c7a-449f-490d-8981-d122d67e2dbe"
      },
      "outputs": [
        {
          "output_type": "stream",
          "name": "stdout",
          "text": [
            "--------- Curva ROC Score ---------\n",
            "0.9087812891968542\n"
          ]
        },
        {
          "output_type": "display_data",
          "data": {
            "text/plain": [
              "<Figure size 720x720 with 1 Axes>"
            ],
            "image/png": "[encoded data removed]"
          },
          "metadata": {
            "needs_background": "light"
          }
        }
      ],
      "source": [
        "#Evaluación de la curva ROC.\n",
        "metricas_regresionlogCV = plotCurvaRoc(y_test, y_probability, 'Regresión Logística con CV', metricas_regresionlogCV)"
      ]
    },
    {
      "cell_type": "code",
      "source": [
        "metricas_regresionlogCV"
      ],
      "metadata": {
        "id": "zeWDz3s6NG4U",
        "colab": {
          "base_uri": "https://localhost:8080/"
        },
        "outputId": "aab49ad2-9d7a-473f-93ab-d4a109de90b5"
      },
      "execution_count": 49,
      "outputs": [
        {
          "output_type": "execute_result",
          "data": {
            "text/plain": [
              "{'Algoritmo': 'Regresion Logistica CV',\n",
              " 'Accuracy': 0.8711974679092668,\n",
              " 'Recall': 0.7978142076502732,\n",
              " 'Precision': 0.024459708493885072,\n",
              " 'True Positive': 39490,\n",
              " 'False Positive': 5823,\n",
              " 'False Negative': 37,\n",
              " 'True Negative': 146,\n",
              " 'Predict Max': 379200,\n",
              " 'Predict Sum': 133100,\n",
              " 'Proba de Corte': 0.794,\n",
              " 'ROC': 0.9087812891968542}"
            ]
          },
          "metadata": {},
          "execution_count": 49
        }
      ]
    },
    {
      "cell_type": "markdown",
      "source": [
        "------"
      ],
      "metadata": {
        "id": "E4i_E9yQiV3g"
      }
    },
    {
      "cell_type": "markdown",
      "metadata": {
        "id": "l80C7L8DB3mP"
      },
      "source": [
        "#Modelo 4: Árbol de Decisión"
      ]
    },
    {
      "cell_type": "markdown",
      "metadata": {
        "id": "880NZXkOXM3t"
      },
      "source": [
        "##Entrenamiento\n",
        "\n"
      ]
    },
    {
      "cell_type": "markdown",
      "metadata": {
        "id": "6B3QTK6KTYdM"
      },
      "source": [
        "###Estandarización\n",
        "\n",
        "Utilizamos la misma estandarización que para el MODELO 1 - Regresión Logística.\n",
        "\n",
        "El código utilizado es el siguiente:\n",
        "```\n",
        "X_train_std = std.fit_transform(X_train)\n",
        "```"
      ]
    },
    {
      "cell_type": "markdown",
      "metadata": {
        "id": "nbGXDEB1TvID"
      },
      "source": [
        "###Selección de Variables\n",
        "\n",
        "Utilizamos la misma selección de variables que para el MODELO 1 - Regresión Logística.\n",
        "\n",
        "El código utilizado es el siguiente:\n",
        "\n",
        "```\n",
        "X_train_nf = sel.fit_transform(X_train_std, y_train))\n",
        "```"
      ]
    },
    {
      "cell_type": "markdown",
      "metadata": {
        "id": "TV-1btMmT2fE"
      },
      "source": [
        "###Modelado\n",
        "\n",
        "Realizamos una validación cruzada de los datos de TRAIN para luego entrenar el árbol de decisión."
      ]
    },
    {
      "cell_type": "code",
      "execution_count": 50,
      "metadata": {
        "id": "lt5DF5p-Suvq",
        "colab": {
          "base_uri": "https://localhost:8080/"
        },
        "outputId": "5e638c3a-71d5-4761-e912-8704a4b9440b"
      },
      "outputs": [
        {
          "output_type": "stream",
          "name": "stdout",
          "text": [
            "Accuracy:  0.9955 +/- 0.0002\n"
          ]
        }
      ],
      "source": [
        "#Entrenamiento con validacion cruzada.\n",
        "dtc = DecisionTreeClassifier(max_depth = 5)\n",
        "\n",
        "resultados = cross_val_score(dtc, X_train_nf , y_train, cv = KFold(n_splits = 5, shuffle = True, random_state = 42))\n",
        "print('Accuracy:  %0.4f +/- %0.4f' % (resultados.mean(), resultados.std()))\n",
        "\n",
        "DTC_modelo = dtc.fit(X_train_nf, y_train)"
      ]
    },
    {
      "cell_type": "markdown",
      "metadata": {
        "id": "DqxoFOJJT9yG"
      },
      "source": [
        "##Predicción"
      ]
    },
    {
      "cell_type": "markdown",
      "metadata": {
        "id": "qrTd2087UJQk"
      },
      "source": [
        "###Estandarización\n",
        "\n",
        "Utilizamos la misma estandarización que para el MODELO 1 - Regresión Logística.\n",
        "\n",
        "El código utilizado es el siguiente:\n",
        "```\n",
        "X_test_std = std.transform(X_test)\n",
        "```"
      ]
    },
    {
      "cell_type": "markdown",
      "metadata": {
        "id": "gg456_f6UKJ_"
      },
      "source": [
        "###Selección de Variables\n",
        "\n",
        "Utilizamos la misma selección de variables que para el MODELO 1 - Regresión Logística.\n",
        "\n",
        "El código utilizado es el siguiente:\n",
        "```\n",
        "X_test_nf = sel.transform(X_test_std)\n",
        "```"
      ]
    },
    {
      "cell_type": "markdown",
      "metadata": {
        "id": "kCLJjGPYUQ7j"
      },
      "source": [
        "###Predicción del conjunto test\n",
        "\n",
        "Realizamos la predicción de clases sobre los datos del conjunto TEST."
      ]
    },
    {
      "cell_type": "code",
      "execution_count": 51,
      "metadata": {
        "id": "bJ-BRmETcPVJ",
        "colab": {
          "base_uri": "https://localhost:8080/"
        },
        "outputId": "1074a5ce-8ff8-46a8-8036-dfe3e91afb34"
      },
      "outputs": [
        {
          "output_type": "stream",
          "name": "stdout",
          "text": [
            "---------- y_pred ---------- \n",
            "[0 0 0 ... 0 0 0]\n",
            "Cantidad de 0:  45444\n",
            "Cantidad de 1:  52\n"
          ]
        }
      ],
      "source": [
        "# Prediccion del conjunto test\n",
        "y_pred = DTC_modelo.predict(X_test_nf)\n",
        "\n",
        "print('---------- y_pred ---------- ')\n",
        "print(y_pred)\n",
        "print('Cantidad de 0: ', (y_pred == 0).sum())\n",
        "print('Cantidad de 1: ', (y_pred == 1).sum())"
      ]
    },
    {
      "cell_type": "markdown",
      "metadata": {
        "id": "GCQ4GQ47UaWr"
      },
      "source": [
        "###Descarga de datos\n",
        "\n",
        "Descargamos los datos en un archivo CSV para utilizar luego en la comparación de modelos."
      ]
    },
    {
      "cell_type": "code",
      "execution_count": 52,
      "metadata": {
        "id": "WGJdKyKJU8KY"
      },
      "outputs": [],
      "source": [
        "#Clase Real, Clase Predicha y Probabilidad Asociada\n",
        "y_probability = DTC_modelo.predict_proba(X_test_nf)[:, 1]\n",
        "\n",
        "df_pred = pd.DataFrame({\"y_test\": y_test, \"y_pred\": y_pred,\"prob_a\": y_probability})\n",
        "df_pred = GuardarMetricasCSV(df_pred,'/content/drive/MyDrive/Colab Notebooks/Bimestre3/ArbolDecision')"
      ]
    },
    {
      "cell_type": "markdown",
      "metadata": {
        "id": "naA-PUWGUhPU"
      },
      "source": [
        "###Evaluación del modelo\n",
        "\n",
        "Procedemos a calcular diferentes métricas sobre las predicciones del modelo."
      ]
    },
    {
      "cell_type": "code",
      "execution_count": 53,
      "metadata": {
        "id": "x2VjHrJCVJOC",
        "colab": {
          "base_uri": "https://localhost:8080/"
        },
        "outputId": "ba053759-47c6-45ea-d980-e75acfec9b40"
      },
      "outputs": [
        {
          "output_type": "stream",
          "name": "stdout",
          "text": [
            "---------- Test: Accuracy ----------\n",
            "0.9954061895551257\n",
            "---------- Test: Recall ----------\n",
            "0.07103825136612021\n",
            "---------- Test: Precision ----------\n",
            "0.25\n",
            "--------- Confusion Matrix ---------\n",
            "[[45274    39]\n",
            " [  170    13]]\n",
            "-------------------------------\n",
            "Máximo posible de Ganancia:  59800\n",
            "Total de Ganancia Real:  59800\n"
          ]
        }
      ],
      "source": [
        "#Evaluación de métricas.\n",
        "metricas_arboldecision = printmetricas(y_test, y_pred, df_pred, 'Arbol Decision')"
      ]
    },
    {
      "cell_type": "code",
      "execution_count": 54,
      "metadata": {
        "id": "4UYmnWXIVQqo",
        "colab": {
          "base_uri": "https://localhost:8080/",
          "height": 658
        },
        "outputId": "46c8b485-ddcb-4801-f324-b901eebb0268"
      },
      "outputs": [
        {
          "output_type": "stream",
          "name": "stdout",
          "text": [
            "--------- Curva ROC Score ---------\n",
            "0.832454322870709\n"
          ]
        },
        {
          "output_type": "display_data",
          "data": {
            "text/plain": [
              "<Figure size 720x720 with 1 Axes>"
            ],
            "image/png": "[encoded data removed]"
          },
          "metadata": {
            "needs_background": "light"
          }
        }
      ],
      "source": [
        "#Evaluación de la curva ROC.\n",
        "metricas_arboldecision = plotCurvaRoc(y_test, y_probability, 'Árbol de Decisión', metricas_arboldecision)"
      ]
    },
    {
      "cell_type": "code",
      "execution_count": 55,
      "metadata": {
        "id": "RChrkg6C3ElL",
        "colab": {
          "base_uri": "https://localhost:8080/"
        },
        "outputId": "39e8ab84-0fc6-4bc5-b7b1-f1b82e1598b8"
      },
      "outputs": [
        {
          "output_type": "execute_result",
          "data": {
            "text/plain": [
              "{'Algoritmo': 'Arbol Decision',\n",
              " 'Accuracy': 0.9954061895551257,\n",
              " 'Recall': 0.07103825136612021,\n",
              " 'Precision': 0.25,\n",
              " 'True Positive': 45274,\n",
              " 'False Positive': 39,\n",
              " 'False Negative': 170,\n",
              " 'True Negative': 13,\n",
              " 'Predict Max': 59800,\n",
              " 'Predict Sum': 59800,\n",
              " 'Proba de Corte': 0.517,\n",
              " 'ROC': 0.832454322870709}"
            ]
          },
          "metadata": {},
          "execution_count": 55
        }
      ],
      "source": [
        "metricas_arboldecision"
      ]
    },
    {
      "cell_type": "markdown",
      "source": [
        "------"
      ],
      "metadata": {
        "id": "WMoeOijCjgHp"
      }
    },
    {
      "cell_type": "markdown",
      "metadata": {
        "id": "pDpiiSr4B8Xi"
      },
      "source": [
        "#Modelo 5: Árbol de Decisión - balanceado"
      ]
    },
    {
      "cell_type": "markdown",
      "metadata": {
        "id": "32QDkqMyVAMr"
      },
      "source": [
        "##Entrenamiento"
      ]
    },
    {
      "cell_type": "markdown",
      "metadata": {
        "id": "2ucx0BnWVDFc"
      },
      "source": [
        "###Estandarización\n",
        "\n",
        "Utilizamos la misma estandarización que para el MODELO 1 - Regresión Logística.\n",
        "\n",
        "El código utilizado es el siguiente:\n",
        "```\n",
        "X_train_std = std.fit_transform(X_train)\n",
        "```"
      ]
    },
    {
      "cell_type": "markdown",
      "metadata": {
        "id": "oH5QUjWmVG7g"
      },
      "source": [
        "###Selección de Variables\n",
        "\n",
        "Utilizamos la misma selección de variables que para el MODELO 1 - Regresión Logística.\n",
        "\n",
        "El código utilizado es el siguiente:\n",
        "\n",
        "```\n",
        "X_train_nf = sel.fit_transform(X_train_std, y_train))\n",
        "```"
      ]
    },
    {
      "cell_type": "markdown",
      "metadata": {
        "id": "KuoZySiDVT-G"
      },
      "source": [
        "###Modelado\n",
        "\n",
        "Realizamos una validación cruzada de los datos de TRAIN para luego entrenar el árbol de decisión balanceado."
      ]
    },
    {
      "cell_type": "code",
      "execution_count": 56,
      "metadata": {
        "id": "DhqfEUxCVfY-",
        "colab": {
          "base_uri": "https://localhost:8080/"
        },
        "outputId": "5543e197-3599-4b7c-bb13-9ea5c38baa64"
      },
      "outputs": [
        {
          "output_type": "stream",
          "name": "stdout",
          "text": [
            "Accuracy:  0.8685 +/- 0.0201\n"
          ]
        }
      ],
      "source": [
        "#Entrenamiento con validacion cruzada.\n",
        "dtc = DecisionTreeClassifier(max_depth = 5, class_weight = 'balanced')\n",
        "\n",
        "resultados = cross_val_score(dtc, X_train_nf , y_train, cv = KFold(n_splits = 5, shuffle = True, random_state = 42))\n",
        "print('Accuracy:  %0.4f +/- %0.4f' % (resultados.mean(), resultados.std()))\n",
        "\n",
        "DTC_modelo_balanceado = dtc.fit(X_train_nf, y_train)"
      ]
    },
    {
      "cell_type": "markdown",
      "metadata": {
        "id": "-W_aehaCVbiT"
      },
      "source": [
        "##Predicción"
      ]
    },
    {
      "cell_type": "markdown",
      "metadata": {
        "id": "xDIGNEOXVdf4"
      },
      "source": [
        "###Estandarización\n",
        "\n",
        "Utilizamos la misma estandarización que para el MODELO 1 - Regresión Logística.\n",
        "\n",
        "El código utilizado es el siguiente:\n",
        "```\n",
        "X_test_std = std.transform(X_test)\n",
        "```"
      ]
    },
    {
      "cell_type": "markdown",
      "metadata": {
        "id": "Df3BeFNKVhqo"
      },
      "source": [
        "###Selección de Variables\n",
        "\n",
        "Utilizamos la misma selección de variables que para el MODELO 1 - Regresión Logística.\n",
        "\n",
        "El código utilizado es el siguiente:\n",
        "```\n",
        "X_test_nf = sel.transform(X_test_std)\n",
        "```"
      ]
    },
    {
      "cell_type": "markdown",
      "metadata": {
        "id": "8d34xVU0VsTe"
      },
      "source": [
        "###Predicción del conjunto test\n",
        "\n",
        "Realizamos la predicción de clases sobre los datos del conjunto TEST."
      ]
    },
    {
      "cell_type": "code",
      "execution_count": 57,
      "metadata": {
        "id": "anN63PVEcukS",
        "colab": {
          "base_uri": "https://localhost:8080/"
        },
        "outputId": "45c30128-1f0b-48a7-ba30-c4867568d5d1"
      },
      "outputs": [
        {
          "output_type": "stream",
          "name": "stdout",
          "text": [
            "---------- y_pred ---------- \n",
            "[0 1 0 ... 0 0 0]\n",
            "Cantidad de 0:  39861\n",
            "Cantidad de 1:  5635\n"
          ]
        }
      ],
      "source": [
        "# Prediccion del conjunto test\n",
        "y_pred = DTC_modelo_balanceado.predict(X_test_nf)\n",
        "\n",
        "print('---------- y_pred ---------- ')\n",
        "print(y_pred)\n",
        "print('Cantidad de 0: ', (y_pred == 0).sum())\n",
        "print('Cantidad de 1: ', (y_pred == 1).sum())"
      ]
    },
    {
      "cell_type": "markdown",
      "metadata": {
        "id": "H1qgGhNNVyMR"
      },
      "source": [
        "###Descarga de datos\n",
        "\n",
        "Descargamos los datos en un archivo CSV para utilizar luego en la comparación de modelos."
      ]
    },
    {
      "cell_type": "code",
      "execution_count": 58,
      "metadata": {
        "id": "NQa9XlnxVz_K"
      },
      "outputs": [],
      "source": [
        "#Clase Real, Clase Predicha y Probabilidad Asociada\n",
        "y_probability = DTC_modelo_balanceado.predict_proba(X_test_nf)[:, 1]\n",
        "\n",
        "df_pred = pd.DataFrame({\"y_test\": y_test, \"y_pred\": y_pred,\"prob_a\": y_probability})\n",
        "df_pred = GuardarMetricasCSV(df_pred,'/content/drive/MyDrive/Colab Notebooks/Bimestre3/ArbolDecision-balanceado')"
      ]
    },
    {
      "cell_type": "markdown",
      "metadata": {
        "id": "Br79AkZfV0DT"
      },
      "source": [
        "###Evaluación del modelo\n",
        "\n",
        "Procedemos a calcular diferentes métricas sobre las predicciones del modelo."
      ]
    },
    {
      "cell_type": "code",
      "execution_count": 59,
      "metadata": {
        "id": "YFgYuVJBV6hf",
        "colab": {
          "base_uri": "https://localhost:8080/"
        },
        "outputId": "3b8ca537-6b1a-426a-9a09-e573d256fd89"
      },
      "outputs": [
        {
          "output_type": "stream",
          "name": "stdout",
          "text": [
            "---------- Test: Accuracy ----------\n",
            "0.878318973096536\n",
            "---------- Test: Recall ----------\n",
            "0.7704918032786885\n",
            "---------- Test: Precision ----------\n",
            "0.02502218278615794\n",
            "--------- Confusion Matrix ---------\n",
            "[[39819  5494]\n",
            " [   42   141]]\n",
            "-------------------------------\n",
            "Máximo posible de Ganancia:  298400\n",
            "Total de Ganancia Real:  141500\n"
          ]
        }
      ],
      "source": [
        "#Evaluación de métricas.\n",
        "metricas_arboldecisionBAL = printmetricas(y_test, y_pred, df_pred, 'Arbol Decision Balanceado')"
      ]
    },
    {
      "cell_type": "code",
      "execution_count": 60,
      "metadata": {
        "id": "AJQAJt12WCqK",
        "colab": {
          "base_uri": "https://localhost:8080/",
          "height": 658
        },
        "outputId": "41070738-295f-4549-a5ed-23a4438a90c3"
      },
      "outputs": [
        {
          "output_type": "stream",
          "name": "stdout",
          "text": [
            "--------- Curva ROC Score ---------\n",
            "0.8499788779417576\n"
          ]
        },
        {
          "output_type": "display_data",
          "data": {
            "text/plain": [
              "<Figure size 720x720 with 1 Axes>"
            ],
            "image/png": "[encoded data removed]"
          },
          "metadata": {
            "needs_background": "light"
          }
        }
      ],
      "source": [
        "#Evaluación de la curva ROC.\n",
        "metricas_arboldecisionBAL = plotCurvaRoc(y_test, y_probability, 'Árbol de Decisión (balanceado)', metricas_arboldecisionBAL)"
      ]
    },
    {
      "cell_type": "code",
      "source": [
        "metricas_arboldecisionBAL"
      ],
      "metadata": {
        "id": "ibw58ee_Op5u",
        "colab": {
          "base_uri": "https://localhost:8080/"
        },
        "outputId": "af134adb-c8ba-4936-818a-bcc5b90f9e51"
      },
      "execution_count": 61,
      "outputs": [
        {
          "output_type": "execute_result",
          "data": {
            "text/plain": [
              "{'Algoritmo': 'Arbol Decision Balanceado',\n",
              " 'Accuracy': 0.878318973096536,\n",
              " 'Recall': 0.7704918032786885,\n",
              " 'Precision': 0.02502218278615794,\n",
              " 'True Positive': 39819,\n",
              " 'False Positive': 5494,\n",
              " 'False Negative': 42,\n",
              " 'True Negative': 141,\n",
              " 'Predict Max': 298400,\n",
              " 'Predict Sum': 141500,\n",
              " 'Proba de Corte': 0.807,\n",
              " 'ROC': 0.8499788779417576}"
            ]
          },
          "metadata": {},
          "execution_count": 61
        }
      ]
    },
    {
      "cell_type": "markdown",
      "source": [
        "---------"
      ],
      "metadata": {
        "id": "84VnB-fblA3Z"
      }
    },
    {
      "cell_type": "markdown",
      "metadata": {
        "id": "C6kXjiBUmWy0"
      },
      "source": [
        "#Modelo 6: Random Forest - balanceado"
      ]
    },
    {
      "cell_type": "markdown",
      "metadata": {
        "id": "hvGeD3tVm-qp"
      },
      "source": [
        "## Entrenamiento"
      ]
    },
    {
      "cell_type": "markdown",
      "metadata": {
        "id": "jCPIoPTXnGrT"
      },
      "source": [
        "###Estandarización\n",
        "\n",
        "Utilizamos la misma estandarización que para el MODELO 1 - Regresión Logística.\n",
        "\n",
        "El código utilizado es el siguiente:\n",
        "```\n",
        "X_train_std = std.fit_transform(X_train)\n",
        "```"
      ]
    },
    {
      "cell_type": "markdown",
      "metadata": {
        "id": "40pHt4mTnNJ-"
      },
      "source": [
        "###Sobremuestro de datos\n",
        "\n",
        "En este caso realizaremos un sobremuestreo de la clase minoritaria utilizando el método *smote()*."
      ]
    },
    {
      "cell_type": "code",
      "execution_count": 62,
      "metadata": {
        "id": "VKV3aNOsncwz",
        "colab": {
          "base_uri": "https://localhost:8080/"
        },
        "outputId": "f7e4a619-1b9b-4dc2-c2c7-687a38ab1d37"
      },
      "outputs": [
        {
          "output_type": "stream",
          "name": "stdout",
          "text": [
            "---------- y_train ---------- \n",
            "Cantidad de 0:  135895\n",
            "Cantidad de 1:  590\n",
            "---------- y_train_resampled ---------- \n",
            "Cantidad de 0:  135895\n",
            "Cantidad de 1:  135895\n"
          ]
        }
      ],
      "source": [
        "#Sobremuestreo.\n",
        "sobremuestreo = SMOTE()\n",
        "X_train_resampled, y_train_resampled = sobremuestreo.fit_resample(X_train_std, y_train)\n",
        "\n",
        "print('---------- y_train ---------- ')\n",
        "print('Cantidad de 0: ', (y_train == 0).sum())\n",
        "print('Cantidad de 1: ', (y_train == 1).sum())\n",
        "print('---------- y_train_resampled ---------- ')\n",
        "print('Cantidad de 0: ', (y_train_resampled == 0).sum())\n",
        "print('Cantidad de 1: ', (y_train_resampled == 1).sum())"
      ]
    },
    {
      "cell_type": "markdown",
      "metadata": {
        "id": "-I1TxxQipAwg"
      },
      "source": [
        "###Selección de Variables y Modelado"
      ]
    },
    {
      "cell_type": "markdown",
      "metadata": {
        "id": "yf08kvkaqh4a"
      },
      "source": [
        "Realizamos de manera conjunta la validación cruzada de datos de TRAIN, la selección de características y el entrenamiento del random forest balanceado."
      ]
    },
    {
      "cell_type": "code",
      "execution_count": 63,
      "metadata": {
        "id": "Kz-psqpdpKfu",
        "colab": {
          "base_uri": "https://localhost:8080/"
        },
        "outputId": "8594da5d-21d7-47ab-e950-5d27e251c602"
      },
      "outputs": [
        {
          "output_type": "stream",
          "name": "stdout",
          "text": [
            "Fitting estimator with 151 features.\n",
            "Fitting estimator with 144 features.\n",
            "Fitting estimator with 137 features.\n",
            "Fitting estimator with 130 features.\n",
            "Fitting estimator with 123 features.\n",
            "Fitting estimator with 116 features.\n",
            "Fitting estimator with 109 features.\n",
            "Fitting estimator with 102 features.\n",
            "Fitting estimator with 95 features.\n",
            "Fitting estimator with 88 features.\n",
            "Fitting estimator with 81 features.\n",
            "Fitting estimator with 74 features.\n",
            "Fitting estimator with 151 features.\n",
            "Fitting estimator with 144 features.\n",
            "Fitting estimator with 137 features.\n",
            "Fitting estimator with 130 features.\n",
            "Fitting estimator with 123 features.\n",
            "Fitting estimator with 116 features.\n",
            "Fitting estimator with 109 features.\n",
            "Fitting estimator with 102 features.\n",
            "Fitting estimator with 95 features.\n",
            "Fitting estimator with 88 features.\n",
            "Fitting estimator with 81 features.\n",
            "Fitting estimator with 74 features.\n",
            "Fitting estimator with 151 features.\n",
            "Fitting estimator with 144 features.\n",
            "Fitting estimator with 137 features.\n",
            "Fitting estimator with 130 features.\n",
            "Fitting estimator with 123 features.\n",
            "Fitting estimator with 116 features.\n",
            "Fitting estimator with 109 features.\n",
            "Fitting estimator with 102 features.\n",
            "Fitting estimator with 95 features.\n",
            "Fitting estimator with 88 features.\n",
            "Fitting estimator with 81 features.\n",
            "Fitting estimator with 74 features.\n",
            "Fitting estimator with 151 features.\n",
            "Fitting estimator with 144 features.\n",
            "Fitting estimator with 137 features.\n",
            "Fitting estimator with 130 features.\n",
            "Fitting estimator with 123 features.\n",
            "Fitting estimator with 116 features.\n",
            "Fitting estimator with 109 features.\n",
            "Fitting estimator with 102 features.\n",
            "Fitting estimator with 95 features.\n",
            "Fitting estimator with 88 features.\n",
            "Fitting estimator with 81 features.\n",
            "Fitting estimator with 74 features.\n",
            "Fitting estimator with 151 features.\n",
            "Fitting estimator with 144 features.\n",
            "Fitting estimator with 137 features.\n",
            "Fitting estimator with 130 features.\n",
            "Fitting estimator with 123 features.\n",
            "Fitting estimator with 116 features.\n",
            "Fitting estimator with 109 features.\n",
            "Fitting estimator with 102 features.\n",
            "Fitting estimator with 95 features.\n",
            "Fitting estimator with 88 features.\n",
            "Fitting estimator with 81 features.\n",
            "Fitting estimator with 74 features.\n",
            "Fitting estimator with 151 features.\n",
            "Fitting estimator with 144 features.\n",
            "Fitting estimator with 137 features.\n",
            "Fitting estimator with 130 features.\n",
            "Fitting estimator with 123 features.\n",
            "Fitting estimator with 116 features.\n",
            "Fitting estimator with 109 features.\n",
            "Fitting estimator with 102 features.\n",
            "Fitting estimator with 95 features.\n",
            "Fitting estimator with 88 features.\n"
          ]
        },
        {
          "output_type": "execute_result",
          "data": {
            "text/plain": [
              "RFECV(cv=StratifiedKFold(n_splits=5, random_state=None, shuffle=False),\n",
              "      estimator=RandomForestClassifier(max_depth=7, n_estimators=5),\n",
              "      min_features_to_select=70, scoring='roc_auc', step=7, verbose=1)"
            ]
          },
          "metadata": {},
          "execution_count": 63
        }
      ],
      "source": [
        "#Modelado con selección de variables y validacion cruzada.\n",
        "rf = RandomForestClassifier(n_estimators = 5, max_depth = 7)\n",
        "\n",
        "rfecv = RFECV(estimator = rf, step = 7, min_features_to_select = 70, cv = StratifiedKFold(5), scoring = 'roc_auc', verbose = 1)\n",
        "\n",
        "rfecv.fit(X_train_resampled, y_train_resampled)"
      ]
    },
    {
      "cell_type": "markdown",
      "metadata": {
        "id": "txcms94Eqv8I"
      },
      "source": [
        "##Predicción"
      ]
    },
    {
      "cell_type": "markdown",
      "metadata": {
        "id": "e-nCBXsVq0aQ"
      },
      "source": [
        "###Estandarización\n",
        "\n",
        "Utilizamos la misma estandarización que para el MODELO 1 - Regresión Logística.\n",
        "\n",
        "El código utilizado es el siguiente:\n",
        "```\n",
        "X_test_std = std.transform(X_test)\n",
        "```"
      ]
    },
    {
      "cell_type": "markdown",
      "metadata": {
        "id": "5z7mX_nVslNd"
      },
      "source": [
        "###Selección de Variables\n",
        "\n",
        "No realizamos la selección de variables ya que el modelo se encarga de hacerlo."
      ]
    },
    {
      "cell_type": "markdown",
      "metadata": {
        "id": "neoPfXrvs6Cs"
      },
      "source": [
        "###Predicción del conjunto test\n",
        "\n",
        "Realizamos la predicción de clases sobre los datos del conjunto TEST."
      ]
    },
    {
      "cell_type": "code",
      "execution_count": 64,
      "metadata": {
        "id": "ApgpWNHos63B",
        "colab": {
          "base_uri": "https://localhost:8080/"
        },
        "outputId": "3b3edd5e-7ec3-4ae5-cc2d-b5ef64fc3dcc"
      },
      "outputs": [
        {
          "output_type": "stream",
          "name": "stdout",
          "text": [
            "---------- y_pred ---------- \n",
            "[0 1 1 ... 0 0 0]\n",
            "Cantidad de 0:  41519\n",
            "Cantidad de 1:  3977\n"
          ]
        }
      ],
      "source": [
        "# Prediccion del conjunto test\n",
        "y_pred = rfecv.predict(X_test_std)\n",
        "\n",
        "print('---------- y_pred ---------- ')\n",
        "print(y_pred)\n",
        "print('Cantidad de 0: ', (y_pred == 0).sum())\n",
        "print('Cantidad de 1: ', (y_pred == 1).sum())"
      ]
    },
    {
      "cell_type": "markdown",
      "source": [
        "###Descarga de datos\n",
        "\n",
        "Descargamos los datos en un archivo CSV para utilizar luego en la comparación de modelos."
      ],
      "metadata": {
        "id": "xdhQpmfbnrE_"
      }
    },
    {
      "cell_type": "code",
      "execution_count": 65,
      "metadata": {
        "id": "t3bZzXJSZHKz"
      },
      "outputs": [],
      "source": [
        "#Clase Real, Clase Predicha y Probabilidad Asociada\n",
        "y_probability = rfecv.predict_proba(X_test_std)[:, 1]\n",
        "\n",
        "df_pred = pd.DataFrame({\"y_test\": y_test, \"y_pred\": y_pred,\"prob_a\": y_probability})\n",
        "df_pred = GuardarMetricasCSV(df_pred,'/content/drive/MyDrive/Colab Notebooks/Bimestre3/RandomForest-balanceado')"
      ]
    },
    {
      "cell_type": "markdown",
      "metadata": {
        "id": "irwHONittJQo"
      },
      "source": [
        "###Evaluación del modelo\n",
        "\n",
        "Procedemos a calcular diferentes métricas sobre las predicciones del modelo."
      ]
    },
    {
      "cell_type": "code",
      "execution_count": 66,
      "metadata": {
        "id": "cgyb9B5EtKQJ",
        "colab": {
          "base_uri": "https://localhost:8080/"
        },
        "outputId": "b2d246f8-bc79-4596-a0d5-834831007267"
      },
      "outputs": [
        {
          "output_type": "stream",
          "name": "stdout",
          "text": [
            "---------- Test: Accuracy ----------\n",
            "0.9142781783013891\n",
            "---------- Test: Recall ----------\n",
            "0.7103825136612022\n",
            "---------- Test: Precision ----------\n",
            "0.03268795574553684\n",
            "--------- Confusion Matrix ---------\n",
            "[[41466  3847]\n",
            " [   53   130]]\n",
            "-------------------------------\n",
            "Máximo posible de Ganancia:  341000\n",
            "Total de Ganancia Real:  252300\n"
          ]
        }
      ],
      "source": [
        "#Evaluación de métricas.\n",
        "metricas_randomforestBAL = printmetricas(y_test, y_pred, df_pred, 'Random Forest Balanceado')"
      ]
    },
    {
      "cell_type": "code",
      "execution_count": 67,
      "metadata": {
        "id": "mirQfRZ9tNm5",
        "colab": {
          "base_uri": "https://localhost:8080/",
          "height": 656
        },
        "outputId": "3f179873-ea42-461c-af90-86aced4a2c78"
      },
      "outputs": [
        {
          "output_type": "stream",
          "name": "stdout",
          "text": [
            "--------- Curva ROC Score ---------\n",
            "0.9073706396034191\n"
          ]
        },
        {
          "output_type": "display_data",
          "data": {
            "text/plain": [
              "<Figure size 720x720 with 1 Axes>"
            ],
            "image/png": "[encoded data removed]"
          },
          "metadata": {
            "needs_background": "light"
          }
        }
      ],
      "source": [
        "#Evaluación de la curva ROC.\n",
        "metricas_randomforestBAL = plotCurvaRoc(y_test, y_probability, 'Random Forest (balanceado)', metricas_randomforestBAL)"
      ]
    },
    {
      "cell_type": "code",
      "source": [
        "metricas_randomforestBAL"
      ],
      "metadata": {
        "id": "lVbIcSDYQGfS",
        "colab": {
          "base_uri": "https://localhost:8080/"
        },
        "outputId": "e69eb26b-3efb-4a2f-e0d9-53608c87533c"
      },
      "execution_count": 68,
      "outputs": [
        {
          "output_type": "execute_result",
          "data": {
            "text/plain": [
              "{'Algoritmo': 'Random Forest Balanceado',\n",
              " 'Accuracy': 0.9142781783013891,\n",
              " 'Recall': 0.7103825136612022,\n",
              " 'Precision': 0.03268795574553684,\n",
              " 'True Positive': 41466,\n",
              " 'False Positive': 3847,\n",
              " 'False Negative': 53,\n",
              " 'True Negative': 130,\n",
              " 'Predict Max': 341000,\n",
              " 'Predict Sum': 252300,\n",
              " 'Proba de Corte': 0.776,\n",
              " 'ROC': 0.9073706396034191}"
            ]
          },
          "metadata": {},
          "execution_count": 68
        }
      ]
    },
    {
      "cell_type": "markdown",
      "source": [
        "-----"
      ],
      "metadata": {
        "id": "K4nrMWPJn6pZ"
      }
    },
    {
      "cell_type": "markdown",
      "metadata": {
        "id": "VDl-VQwaSfrG"
      },
      "source": [
        "#Modelo 7: Random Forest - Grid Search "
      ]
    },
    {
      "cell_type": "markdown",
      "metadata": {
        "id": "JHWHPJ3HYTCU"
      },
      "source": [
        "##Entrenamiento\n",
        "\n",
        "En este modelo tomaremos la estandarización y el sobremuestro de datos del conjunto TRAIN utilizados en modelo anterior."
      ]
    },
    {
      "cell_type": "markdown",
      "metadata": {
        "id": "eIOMJnc3-9va"
      },
      "source": [
        "### Optimización de hiperparámetros y modelado\n",
        "\n",
        "Realizamos en conjunto la optimización de hiperparámetros para un random forest con el método *GridSearchCV()* y el modelado del mismo.\n"
      ]
    },
    {
      "cell_type": "code",
      "execution_count": 69,
      "metadata": {
        "id": "WYCf9L0htpix",
        "colab": {
          "base_uri": "https://localhost:8080/"
        },
        "outputId": "a4be26e2-0d2b-45a4-f715-e7794be5cf26"
      },
      "outputs": [
        {
          "output_type": "execute_result",
          "data": {
            "text/plain": [
              "GridSearchCV(estimator=RandomForestClassifier(n_estimators=5), n_jobs=-1,\n",
              "             param_grid={'max_depth': [5, 7],\n",
              "                         'max_features': ['auto', 'sqrt', 'log2']})"
            ]
          },
          "metadata": {},
          "execution_count": 69
        }
      ],
      "source": [
        "#GridSerch para optimizar hiperparámetros\n",
        "rf_gs = RandomForestClassifier(n_estimators = 5)\n",
        "\n",
        "parameters = { \n",
        "    'max_depth': [5, 7],\n",
        "    'max_features': ['auto', 'sqrt', 'log2']\n",
        "}\n",
        "\n",
        "clf_grid = GridSearchCV(rf_gs, parameters, n_jobs = -1)\n",
        "clf_grid.fit(X_train_resampled, y_train_resampled)"
      ]
    },
    {
      "cell_type": "code",
      "execution_count": 70,
      "metadata": {
        "id": "Tkc91qnCv2CQ",
        "colab": {
          "base_uri": "https://localhost:8080/"
        },
        "outputId": "33607027-e45e-4cd7-d70e-4ec794776539"
      },
      "outputs": [
        {
          "output_type": "execute_result",
          "data": {
            "text/plain": [
              "0.9223922881636558"
            ]
          },
          "metadata": {},
          "execution_count": 70
        }
      ],
      "source": [
        "clf_grid.score(X_train_resampled, y_train_resampled)"
      ]
    },
    {
      "cell_type": "code",
      "execution_count": 71,
      "metadata": {
        "id": "z38xe05owVKW",
        "colab": {
          "base_uri": "https://localhost:8080/"
        },
        "outputId": "61b9b602-ac70-4f17-f6ad-8ff8cec54aac"
      },
      "outputs": [
        {
          "output_type": "execute_result",
          "data": {
            "text/plain": [
              "{'max_depth': 7, 'max_features': 'auto'}"
            ]
          },
          "metadata": {},
          "execution_count": 71
        }
      ],
      "source": [
        "clf_grid.best_params_"
      ]
    },
    {
      "cell_type": "markdown",
      "metadata": {
        "id": "X0dGi7iMZAJG"
      },
      "source": [
        "##Predicción"
      ]
    },
    {
      "cell_type": "markdown",
      "metadata": {
        "id": "dbhYXeGEZT5t"
      },
      "source": [
        "###Predicción del conjunto test\n",
        "\n",
        "Realizamos la predicción de clases sobre los datos del conjunto TEST"
      ]
    },
    {
      "cell_type": "code",
      "execution_count": 72,
      "metadata": {
        "id": "gCR4Ooy-wXsl",
        "colab": {
          "base_uri": "https://localhost:8080/"
        },
        "outputId": "b24ffda1-cf1e-46ab-acb5-5012c6a6cf4c"
      },
      "outputs": [
        {
          "output_type": "stream",
          "name": "stdout",
          "text": [
            "---------- y_pred ---------- \n",
            "[0 1 1 ... 0 0 0]\n",
            "Cantidad de 0:  40919\n",
            "Cantidad de 1:  4577\n"
          ]
        }
      ],
      "source": [
        "y_pred = clf_grid.predict(X_test_std)\n",
        "\n",
        "print('---------- y_pred ---------- ')\n",
        "print(y_pred)\n",
        "print('Cantidad de 0: ', (y_pred == 0).sum())\n",
        "print('Cantidad de 1: ', (y_pred == 1).sum())"
      ]
    },
    {
      "cell_type": "markdown",
      "metadata": {
        "id": "4XiMvnbhAXYR"
      },
      "source": [
        "###Descarga de datos\n",
        "Descargamos los datos en un archivo CSV para utilizar luego en la comparación de modelos."
      ]
    },
    {
      "cell_type": "code",
      "execution_count": 73,
      "metadata": {
        "id": "xfgFqOqWecas"
      },
      "outputs": [],
      "source": [
        "#Clase Real, Clase Predicha y Probabilidad Asociada\n",
        "y_probability = clf_grid.predict_proba(X_test_std)[:, 1]\n",
        "\n",
        "df_pred = pd.DataFrame({\"y_test\": y_test, \"y_pred\": y_pred,\"prob_a\": y_probability})\n",
        "df_pred = GuardarMetricasCSV(df_pred,'/content/drive/MyDrive/Colab Notebooks/Bimestre3/RandomForestGridSearch')"
      ]
    },
    {
      "cell_type": "markdown",
      "metadata": {
        "id": "mCkyV_CgZPpb"
      },
      "source": [
        "###Evaluación del modelo\n",
        "\n",
        "Procedemos a calcular diferentes métricas sobre las predicciones del modelo."
      ]
    },
    {
      "cell_type": "code",
      "execution_count": 74,
      "metadata": {
        "id": "Zcc0h2iiyUA2",
        "colab": {
          "base_uri": "https://localhost:8080/"
        },
        "outputId": "32da95f9-c3df-450c-d248-cd160dd58291"
      },
      "outputs": [
        {
          "output_type": "stream",
          "name": "stdout",
          "text": [
            "---------- Test: Accuracy ----------\n",
            "0.9014418850008792\n",
            "---------- Test: Recall ----------\n",
            "0.7540983606557377\n",
            "---------- Test: Precision ----------\n",
            "0.03015075376884422\n",
            "--------- Confusion Matrix ---------\n",
            "[[40874  4439]\n",
            " [   45   138]]\n",
            "-------------------------------\n",
            "Máximo posible de Ganancia:  360500\n",
            "Total de Ganancia Real:  232300\n"
          ]
        }
      ],
      "source": [
        "#Evaluación de métricas.\n",
        "metricas_randomforestGS = printmetricas(y_test, y_pred, df_pred, 'Random Forest Grid Search')"
      ]
    },
    {
      "cell_type": "code",
      "execution_count": 75,
      "metadata": {
        "id": "COWngsL7ywhS",
        "colab": {
          "base_uri": "https://localhost:8080/",
          "height": 656
        },
        "outputId": "3452eab5-5b22-4277-c0ca-b228e404f8bc"
      },
      "outputs": [
        {
          "output_type": "stream",
          "name": "stdout",
          "text": [
            "--------- Curva ROC Score ---------\n",
            "0.900448718621262\n"
          ]
        },
        {
          "output_type": "display_data",
          "data": {
            "text/plain": [
              "<Figure size 720x720 with 1 Axes>"
            ],
            "image/png": "[encoded data removed]"
          },
          "metadata": {
            "needs_background": "light"
          }
        }
      ],
      "source": [
        "#Evaluación de la curva ROC.\n",
        "metricas_randomforestGS = plotCurvaRoc(y_test, y_probability, 'Random Forest Grid Search', metricas_randomforestGS)"
      ]
    },
    {
      "cell_type": "code",
      "source": [
        "metricas_randomforestGS"
      ],
      "metadata": {
        "id": "xJXYbKNvQyfr",
        "colab": {
          "base_uri": "https://localhost:8080/"
        },
        "outputId": "b29f298a-4bb6-4a90-c941-a6000ce0d3a4"
      },
      "execution_count": 76,
      "outputs": [
        {
          "output_type": "execute_result",
          "data": {
            "text/plain": [
              "{'Algoritmo': 'Random Forest Grid Search',\n",
              " 'Accuracy': 0.9014418850008792,\n",
              " 'Recall': 0.7540983606557377,\n",
              " 'Precision': 0.03015075376884422,\n",
              " 'True Positive': 40874,\n",
              " 'False Positive': 4439,\n",
              " 'False Negative': 45,\n",
              " 'True Negative': 138,\n",
              " 'Predict Max': 360500,\n",
              " 'Predict Sum': 232300,\n",
              " 'Proba de Corte': 0.661,\n",
              " 'ROC': 0.900448718621262}"
            ]
          },
          "metadata": {},
          "execution_count": 76
        }
      ]
    },
    {
      "cell_type": "markdown",
      "source": [
        "-----"
      ],
      "metadata": {
        "id": "8HD2rgVLpTdN"
      }
    },
    {
      "cell_type": "markdown",
      "metadata": {
        "id": "WTQiuFh_d5TQ"
      },
      "source": [
        "#Modelo 8: Gradient Boosting"
      ]
    },
    {
      "cell_type": "markdown",
      "metadata": {
        "id": "lCwodUdLbTvo"
      },
      "source": [
        "##Entrenamiento"
      ]
    },
    {
      "cell_type": "markdown",
      "metadata": {
        "id": "-vJHiQzmZj6H"
      },
      "source": [
        "###Estandarización\n",
        "\n",
        "Utilizamos la misma estandarización que para el MODELO 1 - Regresión Logística.\n",
        "\n",
        "El código utilizado es el siguiente:\n",
        "```\n",
        "X_train_std = std.fit_transform(X_train)\n",
        "```"
      ]
    },
    {
      "cell_type": "markdown",
      "metadata": {
        "id": "xjuCCBfSacM8"
      },
      "source": [
        "###Selección de Variables\n",
        "\n",
        "Utilizamos la misma selección de variables que para el MODELO 1 - Regresión Logística.\n",
        "\n",
        "El código utilizado es el siguiente:\n",
        "\n",
        "```\n",
        "X_train_nf = sel.fit_transform(X_train_std, y_train))\n",
        "```"
      ]
    },
    {
      "cell_type": "markdown",
      "metadata": {
        "id": "Y7PY44ZqaYQ4"
      },
      "source": [
        "###Modelado\n",
        "\n",
        "Realizamos el entrenamiento del gradient boosting classifier con los datos de TRAIN."
      ]
    },
    {
      "cell_type": "code",
      "execution_count": 77,
      "metadata": {
        "id": "tZEPtQ-qeHy3"
      },
      "outputs": [],
      "source": [
        "#Entrenamiento\n",
        "gbc = GradientBoostingClassifier(n_estimators = 50)\n",
        "GBC_modelo = gbc.fit(X_train_nf, y_train)"
      ]
    },
    {
      "cell_type": "markdown",
      "metadata": {
        "id": "xH516o0ZbE_H"
      },
      "source": [
        "##Predicción"
      ]
    },
    {
      "cell_type": "markdown",
      "source": [
        "###Estandarización\n",
        "\n",
        "Utilizamos la misma estandarización que para el MODELO 1 - Regresión Logística.\n",
        "\n",
        "El código utilizado es el siguiente:\n",
        "```\n",
        "X_test_std = std.transform(X_test)\n",
        "```"
      ],
      "metadata": {
        "id": "ZnYbgDtCppZp"
      }
    },
    {
      "cell_type": "markdown",
      "source": [
        "###Selección de Variables\n",
        "\n",
        "Utilizamos la misma selección de variables que para el MODELO 1 - Regresión Logística.\n",
        "\n",
        "El código utilizado es el siguiente:\n",
        "```\n",
        "X_test_nf = sel.transform(X_test_std)\n",
        "```"
      ],
      "metadata": {
        "id": "xBxKtJZcp0zz"
      }
    },
    {
      "cell_type": "markdown",
      "metadata": {
        "id": "Sfd5Af3ibHlF"
      },
      "source": [
        "###Predicción del conjunto test\n",
        "\n",
        "Realizamos la predicción de clases sobre los datos del conjunto TEST."
      ]
    },
    {
      "cell_type": "code",
      "execution_count": 78,
      "metadata": {
        "id": "vLKjYjtpfSZE",
        "colab": {
          "base_uri": "https://localhost:8080/"
        },
        "outputId": "135f2f79-3da9-440f-c097-8007f9a173d7"
      },
      "outputs": [
        {
          "output_type": "stream",
          "name": "stdout",
          "text": [
            "---------- y_pred ---------- \n",
            "[0 0 0 ... 0 0 0]\n",
            "Cantidad de 0:  45450\n",
            "Cantidad de 1:  46\n"
          ]
        }
      ],
      "source": [
        "y_pred = GBC_modelo.predict(X_test_nf)\n",
        "\n",
        "print('---------- y_pred ---------- ')\n",
        "print(y_pred)\n",
        "print('Cantidad de 0: ', (y_pred == 0).sum())\n",
        "print('Cantidad de 1: ', (y_pred == 1).sum())"
      ]
    },
    {
      "cell_type": "markdown",
      "metadata": {
        "id": "KH51-RuqbN46"
      },
      "source": [
        "###Descarga de datos\n",
        "\n",
        "Descargamos los datos en un archivo CSV para utilizar luego en la comparación de modelos."
      ]
    },
    {
      "cell_type": "code",
      "execution_count": 79,
      "metadata": {
        "id": "0qkjZVa9f7dn"
      },
      "outputs": [],
      "source": [
        "#Clase Real, Clase Predicha y Probabilidad Asociada\n",
        "y_probability = GBC_modelo.predict_proba(X_test_nf)[:, 1]\n",
        "\n",
        "df_pred = pd.DataFrame({\"y_test\": y_test, \"y_pred\": y_pred,\"prob_a\": y_probability})\n",
        "df_pred = GuardarMetricasCSV(df_pred,'/content/drive/MyDrive/Colab Notebooks/Bimestre3/GradientBoosting')"
      ]
    },
    {
      "cell_type": "markdown",
      "metadata": {
        "id": "aKfQGsy3bfXD"
      },
      "source": [
        "###Evaluación del modelo\n",
        "\n",
        "Procedemos a calcular diferentes métricas sobre las predicciones del modelo."
      ]
    },
    {
      "cell_type": "code",
      "execution_count": 80,
      "metadata": {
        "id": "CUR8BiS5gICz",
        "colab": {
          "base_uri": "https://localhost:8080/"
        },
        "outputId": "96873de3-ce23-456d-859d-9d9b6875a54f"
      },
      "outputs": [
        {
          "output_type": "stream",
          "name": "stdout",
          "text": [
            "---------- Test: Accuracy ----------\n",
            "0.9954941093722525\n",
            "---------- Test: Recall ----------\n",
            "0.06557377049180328\n",
            "---------- Test: Precision ----------\n",
            "0.2608695652173913\n",
            "--------- Confusion Matrix ---------\n",
            "[[45279    34]\n",
            " [  171    12]]\n",
            "-------------------------------\n",
            "Máximo posible de Ganancia:  55400\n",
            "Total de Ganancia Real:  55400\n"
          ]
        }
      ],
      "source": [
        "#Evaluación de métricas.\n",
        "metricas_gradientboosting = printmetricas(y_test, y_pred, df_pred, 'Gradient Boosting')"
      ]
    },
    {
      "cell_type": "code",
      "execution_count": 81,
      "metadata": {
        "id": "vocXU9zWgJw7",
        "colab": {
          "base_uri": "https://localhost:8080/",
          "height": 656
        },
        "outputId": "002d478a-a64b-4cd2-b0bb-af4fcf2006ad"
      },
      "outputs": [
        {
          "output_type": "stream",
          "name": "stdout",
          "text": [
            "--------- Curva ROC Score ---------\n",
            "0.89932001805535\n"
          ]
        },
        {
          "output_type": "display_data",
          "data": {
            "text/plain": [
              "<Figure size 720x720 with 1 Axes>"
            ],
            "image/png": "[encoded data removed]"
          },
          "metadata": {
            "needs_background": "light"
          }
        }
      ],
      "source": [
        "#Evaluación de la curva ROC.\n",
        "metricas_gradientboosting = plotCurvaRoc(y_test, y_probability, 'Gradient Boosting', metricas_gradientboosting)"
      ]
    },
    {
      "cell_type": "code",
      "source": [
        "metricas_gradientboosting"
      ],
      "metadata": {
        "id": "vHhCe99ySJbM",
        "colab": {
          "base_uri": "https://localhost:8080/"
        },
        "outputId": "f4340774-2e1c-4aaa-fb01-69900a83e87f"
      },
      "execution_count": 82,
      "outputs": [
        {
          "output_type": "execute_result",
          "data": {
            "text/plain": [
              "{'Algoritmo': 'Gradient Boosting',\n",
              " 'Accuracy': 0.9954941093722525,\n",
              " 'Recall': 0.06557377049180328,\n",
              " 'Precision': 0.2608695652173913,\n",
              " 'True Positive': 45279,\n",
              " 'False Positive': 34,\n",
              " 'False Negative': 171,\n",
              " 'True Negative': 12,\n",
              " 'Predict Max': 55400,\n",
              " 'Predict Sum': 55400,\n",
              " 'Proba de Corte': 0.501,\n",
              " 'ROC': 0.89932001805535}"
            ]
          },
          "metadata": {},
          "execution_count": 82
        }
      ]
    },
    {
      "cell_type": "markdown",
      "source": [
        "------"
      ],
      "metadata": {
        "id": "unKXriVVqB_N"
      }
    },
    {
      "cell_type": "markdown",
      "metadata": {
        "id": "-A-BsM6kzJOA"
      },
      "source": [
        "#Comparación de modelos"
      ]
    },
    {
      "cell_type": "markdown",
      "source": [
        "Una vez entrenados todos los modelos predictivos propuestos para la problemática planteada, procedemos a comprar las métricas obtenidas para cada uno de ellos.\n",
        "\n",
        "Dado que para Banco Camila el costo de envío del paquete de beneficios tiene un valor de USD 100, y que el monto ganado por retener a un cliente con potencial de baja es de USD 5000, calculamos:\n",
        "\n",
        "- La predicción máxima de ingresos (*predict max*): indica el monto máximo de ganancia que puede obtener el banco tras la detección de clientes con potencial de baja.\n",
        "- La predicción acumulada (*predict sum*): indica el monto acumulado del banco en caso de accionar con todos los cliente que se predijeron como potenciales bajas.\n",
        "\n",
        "Haciendo foco en la máximización de las ganancias por parte de nuestro cliente, se identificó la probabilidad de corte (*proba de corte*) para cada modelo donde la ganancia sea la mayor posible. De esta forma, los clientes predichos como potenciales bajas con probabilidad igual o mayor a dicho corte serán quienes deben recibir el paquete de beneficios.\n"
      ],
      "metadata": {
        "id": "ux2Kv-lwVK8E"
      }
    },
    {
      "cell_type": "code",
      "source": [
        "comparaciones = [metricas_regresionlog, metricas_regresionlogBAL, metricas_regresionlogCV,\n",
        "                 metricas_arboldecision, metricas_arboldecisionBAL,\n",
        "                 metricas_randomforestBAL, metricas_randomforestGS,\n",
        "                 metricas_gradientboosting]\n",
        "                 \n",
        "df_comparacion = pd.DataFrame(comparaciones)\n",
        "df_comparacion.sort_values(by = ['Predict Max'], ascending = False)"
      ],
      "metadata": {
        "colab": {
          "base_uri": "https://localhost:8080/",
          "height": 448
        },
        "id": "8ziKk6VbSubf",
        "outputId": "2a6ce8ec-84b7-4539-bc7f-3a79614c22a8"
      },
      "execution_count": 83,
      "outputs": [
        {
          "output_type": "execute_result",
          "data": {
            "text/plain": [
              "                        Algoritmo  Accuracy    Recall  Precision  \\\n",
              "2          Regresion Logistica CV  0.871197  0.797814   0.024460   \n",
              "1  Regresion Logistica Balanceada  0.870648  0.786885   0.024040   \n",
              "6       Random Forest Grid Search  0.901442  0.754098   0.030151   \n",
              "5        Random Forest Balanceado  0.914278  0.710383   0.032688   \n",
              "4       Arbol Decision Balanceado  0.878319  0.770492   0.025022   \n",
              "3                  Arbol Decision  0.995406  0.071038   0.250000   \n",
              "7               Gradient Boosting  0.995494  0.065574   0.260870   \n",
              "0             Regresion Logistica  0.995934  0.038251   0.437500   \n",
              "\n",
              "   True Positive  False Positive  False Negative  True Negative  Predict Max  \\\n",
              "2          39490            5823              37            146       379200   \n",
              "1          39467            5846              39            144       367600   \n",
              "6          40874            4439              45            138       360500   \n",
              "5          41466            3847              53            130       341000   \n",
              "4          39819            5494              42            141       298400   \n",
              "3          45274              39             170             13        59800   \n",
              "7          45279              34             171             12        55400   \n",
              "0          45304               9             176              7        33400   \n",
              "\n",
              "   Predict Sum  Proba de Corte       ROC  \n",
              "2       133100           0.794  0.908781  \n",
              "1       121000           0.871  0.905625  \n",
              "6       232300           0.661  0.900449  \n",
              "5       252300           0.776  0.907371  \n",
              "4       141500           0.807  0.849979  \n",
              "3        59800           0.517  0.832454  \n",
              "7        55400           0.501  0.899320  \n",
              "0        33400           0.502  0.914161  "
            ],
            "text/html": [
              "\n",
              "  <div id=\"df-717df027-1877-4ac5-af3a-d2354a0470ae\">\n",
              "    <div class=\"colab-df-container\">\n",
              "      <div>\n",
              "<style scoped>\n",
              "    .dataframe tbody tr th:only-of-type {\n",
              "        vertical-align: middle;\n",
              "    }\n",
              "\n",
              "    .dataframe tbody tr th {\n",
              "        vertical-align: top;\n",
              "    }\n",
              "\n",
              "    .dataframe thead th {\n",
              "        text-align: right;\n",
              "    }\n",
              "</style>\n",
              "<table border=\"1\" class=\"dataframe\">\n",
              "  <thead>\n",
              "    <tr style=\"text-align: right;\">\n",
              "      <th></th>\n",
              "      <th>Algoritmo</th>\n",
              "      <th>Accuracy</th>\n",
              "      <th>Recall</th>\n",
              "      <th>Precision</th>\n",
              "      <th>True Positive</th>\n",
              "      <th>False Positive</th>\n",
              "      <th>False Negative</th>\n",
              "      <th>True Negative</th>\n",
              "      <th>Predict Max</th>\n",
              "      <th>Predict Sum</th>\n",
              "      <th>Proba de Corte</th>\n",
              "      <th>ROC</th>\n",
              "    </tr>\n",
              "  </thead>\n",
              "  <tbody>\n",
              "    <tr>\n",
              "      <th>2</th>\n",
              "      <td>Regresion Logistica CV</td>\n",
              "      <td>0.871197</td>\n",
              "      <td>0.797814</td>\n",
              "      <td>0.024460</td>\n",
              "      <td>39490</td>\n",
              "      <td>5823</td>\n",
              "      <td>37</td>\n",
              "      <td>146</td>\n",
              "      <td>379200</td>\n",
              "      <td>133100</td>\n",
              "      <td>0.794</td>\n",
              "      <td>0.908781</td>\n",
              "    </tr>\n",
              "    <tr>\n",
              "      <th>1</th>\n",
              "      <td>Regresion Logistica Balanceada</td>\n",
              "      <td>0.870648</td>\n",
              "      <td>0.786885</td>\n",
              "      <td>0.024040</td>\n",
              "      <td>39467</td>\n",
              "      <td>5846</td>\n",
              "      <td>39</td>\n",
              "      <td>144</td>\n",
              "      <td>367600</td>\n",
              "      <td>121000</td>\n",
              "      <td>0.871</td>\n",
              "      <td>0.905625</td>\n",
              "    </tr>\n",
              "    <tr>\n",
              "      <th>6</th>\n",
              "      <td>Random Forest Grid Search</td>\n",
              "      <td>0.901442</td>\n",
              "      <td>0.754098</td>\n",
              "      <td>0.030151</td>\n",
              "      <td>40874</td>\n",
              "      <td>4439</td>\n",
              "      <td>45</td>\n",
              "      <td>138</td>\n",
              "      <td>360500</td>\n",
              "      <td>232300</td>\n",
              "      <td>0.661</td>\n",
              "      <td>0.900449</td>\n",
              "    </tr>\n",
              "    <tr>\n",
              "      <th>5</th>\n",
              "      <td>Random Forest Balanceado</td>\n",
              "      <td>0.914278</td>\n",
              "      <td>0.710383</td>\n",
              "      <td>0.032688</td>\n",
              "      <td>41466</td>\n",
              "      <td>3847</td>\n",
              "      <td>53</td>\n",
              "      <td>130</td>\n",
              "      <td>341000</td>\n",
              "      <td>252300</td>\n",
              "      <td>0.776</td>\n",
              "      <td>0.907371</td>\n",
              "    </tr>\n",
              "    <tr>\n",
              "      <th>4</th>\n",
              "      <td>Arbol Decision Balanceado</td>\n",
              "      <td>0.878319</td>\n",
              "      <td>0.770492</td>\n",
              "      <td>0.025022</td>\n",
              "      <td>39819</td>\n",
              "      <td>5494</td>\n",
              "      <td>42</td>\n",
              "      <td>141</td>\n",
              "      <td>298400</td>\n",
              "      <td>141500</td>\n",
              "      <td>0.807</td>\n",
              "      <td>0.849979</td>\n",
              "    </tr>\n",
              "    <tr>\n",
              "      <th>3</th>\n",
              "      <td>Arbol Decision</td>\n",
              "      <td>0.995406</td>\n",
              "      <td>0.071038</td>\n",
              "      <td>0.250000</td>\n",
              "      <td>45274</td>\n",
              "      <td>39</td>\n",
              "      <td>170</td>\n",
              "      <td>13</td>\n",
              "      <td>59800</td>\n",
              "      <td>59800</td>\n",
              "      <td>0.517</td>\n",
              "      <td>0.832454</td>\n",
              "    </tr>\n",
              "    <tr>\n",
              "      <th>7</th>\n",
              "      <td>Gradient Boosting</td>\n",
              "      <td>0.995494</td>\n",
              "      <td>0.065574</td>\n",
              "      <td>0.260870</td>\n",
              "      <td>45279</td>\n",
              "      <td>34</td>\n",
              "      <td>171</td>\n",
              "      <td>12</td>\n",
              "      <td>55400</td>\n",
              "      <td>55400</td>\n",
              "      <td>0.501</td>\n",
              "      <td>0.899320</td>\n",
              "    </tr>\n",
              "    <tr>\n",
              "      <th>0</th>\n",
              "      <td>Regresion Logistica</td>\n",
              "      <td>0.995934</td>\n",
              "      <td>0.038251</td>\n",
              "      <td>0.437500</td>\n",
              "      <td>45304</td>\n",
              "      <td>9</td>\n",
              "      <td>176</td>\n",
              "      <td>7</td>\n",
              "      <td>33400</td>\n",
              "      <td>33400</td>\n",
              "      <td>0.502</td>\n",
              "      <td>0.914161</td>\n",
              "    </tr>\n",
              "  </tbody>\n",
              "</table>\n",
              "</div>\n",
              "      <button class=\"colab-df-convert\" onclick=\"convertToInteractive('df-717df027-1877-4ac5-af3a-d2354a0470ae')\"\n",
              "              title=\"Convert this dataframe to an interactive table.\"\n",
              "              style=\"display:none;\">\n",
              "        \n",
              "  <svg xmlns=\"http://www.w3.org/2000/svg\" height=\"24px\"viewBox=\"0 0 24 24\"\n",
              "       width=\"24px\">\n",
              "    <path d=\"M0 0h24v24H0V0z\" fill=\"none\"/>\n",
              "    <path d=\"M18.56 5.44l.94 2.06.94-2.06 2.06-.94-2.06-.94-.94-2.06-.94 2.06-2.06.94zm-11 1L8.5 8.5l.94-2.06 2.06-.94-2.06-.94L8.5 2.5l-.94 2.06-2.06.94zm10 10l.94 2.06.94-2.06 2.06-.94-2.06-.94-.94-2.06-.94 2.06-2.06.94z\"/><path d=\"M17.41 7.96l-1.37-1.37c-.4-.4-.92-.59-1.43-.59-.52 0-1.04.2-1.43.59L10.3 9.45l-7.72 7.72c-.78.78-.78 2.05 0 2.83L4 21.41c.39.39.9.59 1.41.59.51 0 1.02-.2 1.41-.59l7.78-7.78 2.81-2.81c.8-.78.8-2.07 0-2.86zM5.41 20L4 18.59l7.72-7.72 1.47 1.35L5.41 20z\"/>\n",
              "  </svg>\n",
              "      </button>\n",
              "      \n",
              "  <style>\n",
              "    .colab-df-container {\n",
              "      display:flex;\n",
              "      flex-wrap:wrap;\n",
              "      gap: 12px;\n",
              "    }\n",
              "\n",
              "    .colab-df-convert {\n",
              "      background-color: #E8F0FE;\n",
              "      border: none;\n",
              "      border-radius: 50%;\n",
              "      cursor: pointer;\n",
              "      display: none;\n",
              "      fill: #1967D2;\n",
              "      height: 32px;\n",
              "      padding: 0 0 0 0;\n",
              "      width: 32px;\n",
              "    }\n",
              "\n",
              "    .colab-df-convert:hover {\n",
              "      background-color: #E2EBFA;\n",
              "      box-shadow: 0px 1px 2px rgba(60, 64, 67, 0.3), 0px 1px 3px 1px rgba(60, 64, 67, 0.15);\n",
              "      fill: #174EA6;\n",
              "    }\n",
              "\n",
              "    [theme=dark] .colab-df-convert {\n",
              "      background-color: #3B4455;\n",
              "      fill: #D2E3FC;\n",
              "    }\n",
              "\n",
              "    [theme=dark] .colab-df-convert:hover {\n",
              "      background-color: #434B5C;\n",
              "      box-shadow: 0px 1px 3px 1px rgba(0, 0, 0, 0.15);\n",
              "      filter: drop-shadow(0px 1px 2px rgba(0, 0, 0, 0.3));\n",
              "      fill: #FFFFFF;\n",
              "    }\n",
              "  </style>\n",
              "\n",
              "      <script>\n",
              "        const buttonEl =\n",
              "          document.querySelector('#df-717df027-1877-4ac5-af3a-d2354a0470ae button.colab-df-convert');\n",
              "        buttonEl.style.display =\n",
              "          google.colab.kernel.accessAllowed ? 'block' : 'none';\n",
              "\n",
              "        async function convertToInteractive(key) {\n",
              "          const element = document.querySelector('#df-717df027-1877-4ac5-af3a-d2354a0470ae');\n",
              "          const dataTable =\n",
              "            await google.colab.kernel.invokeFunction('convertToInteractive',\n",
              "                                                     [key], {});\n",
              "          if (!dataTable) return;\n",
              "\n",
              "          const docLinkHtml = 'Like what you see? Visit the ' +\n",
              "            '<a target=\"_blank\" href=https://colab.research.google.com/notebooks/data_table.ipynb>data table notebook</a>'\n",
              "            + ' to learn more about interactive tables.';\n",
              "          element.innerHTML = '';\n",
              "          dataTable['output_type'] = 'display_data';\n",
              "          await google.colab.output.renderOutput(dataTable, element);\n",
              "          const docLink = document.createElement('div');\n",
              "          docLink.innerHTML = docLinkHtml;\n",
              "          element.appendChild(docLink);\n",
              "        }\n",
              "      </script>\n",
              "    </div>\n",
              "  </div>\n",
              "  "
            ]
          },
          "metadata": {},
          "execution_count": 83
        }
      ]
    },
    {
      "cell_type": "markdown",
      "source": [
        "------"
      ],
      "metadata": {
        "id": "-NIRfI8IqiWh"
      }
    },
    {
      "cell_type": "markdown",
      "metadata": {
        "id": "9wJ400g0zM2S"
      },
      "source": [
        "#Modelo predictivo seleccionado"
      ]
    },
    {
      "cell_type": "markdown",
      "source": [
        "Tomando en consideración la comparación anterior centrada en la maximización de ganancias, el modelo que mejor se ajusta a esta regla de negocio es la **Regresión Logistica CV**.\n",
        "\n",
        "Este modelo estima una ganancia de USD 379200 para el dataset utilizado durante el entrenamiento del mismo, lo cual es considerablemente mayor en relación a los otros modelos analizados, con una probabilidad de corte de 0.794."
      ],
      "metadata": {
        "id": "xc5WaujwYuRs"
      }
    },
    {
      "cell_type": "markdown",
      "source": [
        "------"
      ],
      "metadata": {
        "id": "72HYIiPHrA0J"
      }
    },
    {
      "cell_type": "markdown",
      "source": [
        "#Validación con nuevo dataset\n",
        "\n",
        "Una vez seleccionado el modelo predictivo para la identificación de clientes con potencial de baja, procedemos a validarlo con otros datos provenientes del dataset original. \n",
        "\n",
        "Para la validación se analizarán los meses de Mayo, Junio y Julio de 2013 (201305, 201306 y 201307) dado que contamos con la información completa de clientes que se dieron de baja en Julio de 2013.\n",
        "\n",
        "Los pasos siguientes corresponden nuevamente a la limpieza y transformación de datos, generación de la variable objetivo y predicción de la misma utilizando exclusivamente el modelo escogido.\n",
        "\n",
        "Buscamos con esto encontrar un valor similar para la probabilidad de corte optimizando la ganancia del cliente. "
      ],
      "metadata": {
        "id": "krFgd5BcaKbK"
      }
    },
    {
      "cell_type": "markdown",
      "source": [
        "##Carga de datos"
      ],
      "metadata": {
        "id": "hcVgcQkXsDIv"
      }
    },
    {
      "cell_type": "code",
      "source": [
        "df_validacion = pd.read_parquet('/content/drive/MyDrive/Colab Notebooks/Bimestre3/MESES_201305_201307.parquet')\n"
      ],
      "metadata": {
        "id": "7X7htsN0ar_n"
      },
      "execution_count": 84,
      "outputs": []
    },
    {
      "cell_type": "markdown",
      "source": [
        "##Limpieza y trasformación"
      ],
      "metadata": {
        "id": "FzrB846ysHIA"
      }
    },
    {
      "cell_type": "code",
      "source": [
        "df_validacion = df_validacion[variables_mandatorias]\n",
        "df_validacion"
      ],
      "metadata": {
        "id": "1MQsP0ghbjvZ",
        "colab": {
          "base_uri": "https://localhost:8080/",
          "height": 488
        },
        "outputId": "fc757fc3-5cfd-4b53-cd38-7520cff8e054"
      },
      "execution_count": 85,
      "outputs": [
        {
          "output_type": "execute_result",
          "data": {
            "text/plain": [
              "         numero_de_cliente  cliente_vip  cliente_sucursal  cliente_edad  \\\n",
              "13                 5609788            0               224            61   \n",
              "14                 5609788            0               224            61   \n",
              "15                 5609788            0               224            61   \n",
              "29                 5609981            0               227            64   \n",
              "30                 5609981            0               227            64   \n",
              "...                    ...          ...               ...           ...   \n",
              "2688565           46912175            0              1457            44   \n",
              "2688575           46913533            0               155            35   \n",
              "2688585           46914182            0               677            24   \n",
              "2688590           46916366            0              1184            44   \n",
              "2688600           46923385            0               125            69   \n",
              "\n",
              "         cliente_antiguedad  mrentabilidad  mrentabilidad_annual  \\\n",
              "13                      228        1512.28               6908.34   \n",
              "14                      229        1184.84               7835.38   \n",
              "15                      230         992.46               8558.35   \n",
              "29                      187         497.75               5385.53   \n",
              "30                      188         702.10               5834.27   \n",
              "...                     ...            ...                   ...   \n",
              "2688565                   1         643.85                643.85   \n",
              "2688575                   1         128.17                128.17   \n",
              "2688585                   1        2471.23               2471.23   \n",
              "2688590                   1          39.39                 39.39   \n",
              "2688600                   1          95.69                 95.69   \n",
              "\n",
              "         marketing_coss_selling tpaquete2 tpaquete4  ... Visa_fultimo_cierre  \\\n",
              "13                            8         N         N  ...            20130502   \n",
              "14                            8         N         N  ...            20130627   \n",
              "15                            8         N         N  ...            20130801   \n",
              "29                           10         N         N  ...            20130502   \n",
              "30                            9         N         N  ...            20130627   \n",
              "...                         ...       ...       ...  ...                 ...   \n",
              "2688565                       7         N         N  ...            20130801   \n",
              "2688575                       6         N         N  ...            20130801   \n",
              "2688585                       7         N         N  ...            20130725   \n",
              "2688590                       6         N         N  ...            20130725   \n",
              "2688600                       7         N         N  ...            20130801   \n",
              "\n",
              "        Visa_mpagado Visa_mpagospesos Visa_mpagosdolares Visa_fechaalta  \\\n",
              "13          37601.63        -43860.62             5530.8       19970317   \n",
              "14                 0        -37639.85            4960.76       19970317   \n",
              "15                 0        -23813.71            2563.99       19970317   \n",
              "29            1427.4          -1310.4                  0       20010308   \n",
              "30                 0        -16078.14                  0       20010308   \n",
              "...              ...              ...                ...            ...   \n",
              "2688565            0                .                  .       20130724   \n",
              "2688575            0                .                  .       20130715   \n",
              "2688585            0                0                  0       20130704   \n",
              "2688590            0                .                  .       20130723   \n",
              "2688600            0                0                  0       20130718   \n",
              "\n",
              "         Visa_mconsumototal  Visa_tconsumos Visa_tadelantosefectivo  \\\n",
              "13                 15436.06               S                       S   \n",
              "14                  10622.9               S                       S   \n",
              "15                  2484.99               S                       N   \n",
              "29                   970.11               S                       N   \n",
              "30                   899.71               S                       N   \n",
              "...                     ...             ...                     ...   \n",
              "2688565                   .               S                       S   \n",
              "2688575                   .               S                       S   \n",
              "2688585                   0               N                       N   \n",
              "2688590                   .               S                       S   \n",
              "2688600            11138.16               S                       N   \n",
              "\n",
              "         Visa_mpagominimo  foto_mes  \n",
              "13                20556.9    201305  \n",
              "14                10670.4    201306  \n",
              "15                 1485.9    201307  \n",
              "29                 1427.4    201305  \n",
              "30                      0    201306  \n",
              "...                   ...       ...  \n",
              "2688565                 0    201307  \n",
              "2688575                 0    201307  \n",
              "2688585             386.1    201307  \n",
              "2688590                 0    201307  \n",
              "2688600             526.5    201307  \n",
              "\n",
              "[489959 rows x 146 columns]"
            ],
            "text/html": [
              "\n",
              "  <div id=\"df-3f987c4e-dbcf-4269-9d89-8f2941728bc7\">\n",
              "    <div class=\"colab-df-container\">\n",
              "      <div>\n",
              "<style scoped>\n",
              "    .dataframe tbody tr th:only-of-type {\n",
              "        vertical-align: middle;\n",
              "    }\n",
              "\n",
              "    .dataframe tbody tr th {\n",
              "        vertical-align: top;\n",
              "    }\n",
              "\n",
              "    .dataframe thead th {\n",
              "        text-align: right;\n",
              "    }\n",
              "</style>\n",
              "<table border=\"1\" class=\"dataframe\">\n",
              "  <thead>\n",
              "    <tr style=\"text-align: right;\">\n",
              "      <th></th>\n",
              "      <th>numero_de_cliente</th>\n",
              "      <th>cliente_vip</th>\n",
              "      <th>cliente_sucursal</th>\n",
              "      <th>cliente_edad</th>\n",
              "      <th>cliente_antiguedad</th>\n",
              "      <th>mrentabilidad</th>\n",
              "      <th>mrentabilidad_annual</th>\n",
              "      <th>marketing_coss_selling</th>\n",
              "      <th>tpaquete2</th>\n",
              "      <th>tpaquete4</th>\n",
              "      <th>...</th>\n",
              "      <th>Visa_fultimo_cierre</th>\n",
              "      <th>Visa_mpagado</th>\n",
              "      <th>Visa_mpagospesos</th>\n",
              "      <th>Visa_mpagosdolares</th>\n",
              "      <th>Visa_fechaalta</th>\n",
              "      <th>Visa_mconsumototal</th>\n",
              "      <th>Visa_tconsumos</th>\n",
              "      <th>Visa_tadelantosefectivo</th>\n",
              "      <th>Visa_mpagominimo</th>\n",
              "      <th>foto_mes</th>\n",
              "    </tr>\n",
              "  </thead>\n",
              "  <tbody>\n",
              "    <tr>\n",
              "      <th>13</th>\n",
              "      <td>5609788</td>\n",
              "      <td>0</td>\n",
              "      <td>224</td>\n",
              "      <td>61</td>\n",
              "      <td>228</td>\n",
              "      <td>1512.28</td>\n",
              "      <td>6908.34</td>\n",
              "      <td>8</td>\n",
              "      <td>N</td>\n",
              "      <td>N</td>\n",
              "      <td>...</td>\n",
              "      <td>20130502</td>\n",
              "      <td>37601.63</td>\n",
              "      <td>-43860.62</td>\n",
              "      <td>5530.8</td>\n",
              "      <td>19970317</td>\n",
              "      <td>15436.06</td>\n",
              "      <td>S</td>\n",
              "      <td>S</td>\n",
              "      <td>20556.9</td>\n",
              "      <td>201305</td>\n",
              "    </tr>\n",
              "    <tr>\n",
              "      <th>14</th>\n",
              "      <td>5609788</td>\n",
              "      <td>0</td>\n",
              "      <td>224</td>\n",
              "      <td>61</td>\n",
              "      <td>229</td>\n",
              "      <td>1184.84</td>\n",
              "      <td>7835.38</td>\n",
              "      <td>8</td>\n",
              "      <td>N</td>\n",
              "      <td>N</td>\n",
              "      <td>...</td>\n",
              "      <td>20130627</td>\n",
              "      <td>0</td>\n",
              "      <td>-37639.85</td>\n",
              "      <td>4960.76</td>\n",
              "      <td>19970317</td>\n",
              "      <td>10622.9</td>\n",
              "      <td>S</td>\n",
              "      <td>S</td>\n",
              "      <td>10670.4</td>\n",
              "      <td>201306</td>\n",
              "    </tr>\n",
              "    <tr>\n",
              "      <th>15</th>\n",
              "      <td>5609788</td>\n",
              "      <td>0</td>\n",
              "      <td>224</td>\n",
              "      <td>61</td>\n",
              "      <td>230</td>\n",
              "      <td>992.46</td>\n",
              "      <td>8558.35</td>\n",
              "      <td>8</td>\n",
              "      <td>N</td>\n",
              "      <td>N</td>\n",
              "      <td>...</td>\n",
              "      <td>20130801</td>\n",
              "      <td>0</td>\n",
              "      <td>-23813.71</td>\n",
              "      <td>2563.99</td>\n",
              "      <td>19970317</td>\n",
              "      <td>2484.99</td>\n",
              "      <td>S</td>\n",
              "      <td>N</td>\n",
              "      <td>1485.9</td>\n",
              "      <td>201307</td>\n",
              "    </tr>\n",
              "    <tr>\n",
              "      <th>29</th>\n",
              "      <td>5609981</td>\n",
              "      <td>0</td>\n",
              "      <td>227</td>\n",
              "      <td>64</td>\n",
              "      <td>187</td>\n",
              "      <td>497.75</td>\n",
              "      <td>5385.53</td>\n",
              "      <td>10</td>\n",
              "      <td>N</td>\n",
              "      <td>N</td>\n",
              "      <td>...</td>\n",
              "      <td>20130502</td>\n",
              "      <td>1427.4</td>\n",
              "      <td>-1310.4</td>\n",
              "      <td>0</td>\n",
              "      <td>20010308</td>\n",
              "      <td>970.11</td>\n",
              "      <td>S</td>\n",
              "      <td>N</td>\n",
              "      <td>1427.4</td>\n",
              "      <td>201305</td>\n",
              "    </tr>\n",
              "    <tr>\n",
              "      <th>30</th>\n",
              "      <td>5609981</td>\n",
              "      <td>0</td>\n",
              "      <td>227</td>\n",
              "      <td>64</td>\n",
              "      <td>188</td>\n",
              "      <td>702.10</td>\n",
              "      <td>5834.27</td>\n",
              "      <td>9</td>\n",
              "      <td>N</td>\n",
              "      <td>N</td>\n",
              "      <td>...</td>\n",
              "      <td>20130627</td>\n",
              "      <td>0</td>\n",
              "      <td>-16078.14</td>\n",
              "      <td>0</td>\n",
              "      <td>20010308</td>\n",
              "      <td>899.71</td>\n",
              "      <td>S</td>\n",
              "      <td>N</td>\n",
              "      <td>0</td>\n",
              "      <td>201306</td>\n",
              "    </tr>\n",
              "    <tr>\n",
              "      <th>...</th>\n",
              "      <td>...</td>\n",
              "      <td>...</td>\n",
              "      <td>...</td>\n",
              "      <td>...</td>\n",
              "      <td>...</td>\n",
              "      <td>...</td>\n",
              "      <td>...</td>\n",
              "      <td>...</td>\n",
              "      <td>...</td>\n",
              "      <td>...</td>\n",
              "      <td>...</td>\n",
              "      <td>...</td>\n",
              "      <td>...</td>\n",
              "      <td>...</td>\n",
              "      <td>...</td>\n",
              "      <td>...</td>\n",
              "      <td>...</td>\n",
              "      <td>...</td>\n",
              "      <td>...</td>\n",
              "      <td>...</td>\n",
              "      <td>...</td>\n",
              "    </tr>\n",
              "    <tr>\n",
              "      <th>2688565</th>\n",
              "      <td>46912175</td>\n",
              "      <td>0</td>\n",
              "      <td>1457</td>\n",
              "      <td>44</td>\n",
              "      <td>1</td>\n",
              "      <td>643.85</td>\n",
              "      <td>643.85</td>\n",
              "      <td>7</td>\n",
              "      <td>N</td>\n",
              "      <td>N</td>\n",
              "      <td>...</td>\n",
              "      <td>20130801</td>\n",
              "      <td>0</td>\n",
              "      <td>.</td>\n",
              "      <td>.</td>\n",
              "      <td>20130724</td>\n",
              "      <td>.</td>\n",
              "      <td>S</td>\n",
              "      <td>S</td>\n",
              "      <td>0</td>\n",
              "      <td>201307</td>\n",
              "    </tr>\n",
              "    <tr>\n",
              "      <th>2688575</th>\n",
              "      <td>46913533</td>\n",
              "      <td>0</td>\n",
              "      <td>155</td>\n",
              "      <td>35</td>\n",
              "      <td>1</td>\n",
              "      <td>128.17</td>\n",
              "      <td>128.17</td>\n",
              "      <td>6</td>\n",
              "      <td>N</td>\n",
              "      <td>N</td>\n",
              "      <td>...</td>\n",
              "      <td>20130801</td>\n",
              "      <td>0</td>\n",
              "      <td>.</td>\n",
              "      <td>.</td>\n",
              "      <td>20130715</td>\n",
              "      <td>.</td>\n",
              "      <td>S</td>\n",
              "      <td>S</td>\n",
              "      <td>0</td>\n",
              "      <td>201307</td>\n",
              "    </tr>\n",
              "    <tr>\n",
              "      <th>2688585</th>\n",
              "      <td>46914182</td>\n",
              "      <td>0</td>\n",
              "      <td>677</td>\n",
              "      <td>24</td>\n",
              "      <td>1</td>\n",
              "      <td>2471.23</td>\n",
              "      <td>2471.23</td>\n",
              "      <td>7</td>\n",
              "      <td>N</td>\n",
              "      <td>N</td>\n",
              "      <td>...</td>\n",
              "      <td>20130725</td>\n",
              "      <td>0</td>\n",
              "      <td>0</td>\n",
              "      <td>0</td>\n",
              "      <td>20130704</td>\n",
              "      <td>0</td>\n",
              "      <td>N</td>\n",
              "      <td>N</td>\n",
              "      <td>386.1</td>\n",
              "      <td>201307</td>\n",
              "    </tr>\n",
              "    <tr>\n",
              "      <th>2688590</th>\n",
              "      <td>46916366</td>\n",
              "      <td>0</td>\n",
              "      <td>1184</td>\n",
              "      <td>44</td>\n",
              "      <td>1</td>\n",
              "      <td>39.39</td>\n",
              "      <td>39.39</td>\n",
              "      <td>6</td>\n",
              "      <td>N</td>\n",
              "      <td>N</td>\n",
              "      <td>...</td>\n",
              "      <td>20130725</td>\n",
              "      <td>0</td>\n",
              "      <td>.</td>\n",
              "      <td>.</td>\n",
              "      <td>20130723</td>\n",
              "      <td>.</td>\n",
              "      <td>S</td>\n",
              "      <td>S</td>\n",
              "      <td>0</td>\n",
              "      <td>201307</td>\n",
              "    </tr>\n",
              "    <tr>\n",
              "      <th>2688600</th>\n",
              "      <td>46923385</td>\n",
              "      <td>0</td>\n",
              "      <td>125</td>\n",
              "      <td>69</td>\n",
              "      <td>1</td>\n",
              "      <td>95.69</td>\n",
              "      <td>95.69</td>\n",
              "      <td>7</td>\n",
              "      <td>N</td>\n",
              "      <td>N</td>\n",
              "      <td>...</td>\n",
              "      <td>20130801</td>\n",
              "      <td>0</td>\n",
              "      <td>0</td>\n",
              "      <td>0</td>\n",
              "      <td>20130718</td>\n",
              "      <td>11138.16</td>\n",
              "      <td>S</td>\n",
              "      <td>N</td>\n",
              "      <td>526.5</td>\n",
              "      <td>201307</td>\n",
              "    </tr>\n",
              "  </tbody>\n",
              "</table>\n",
              "<p>489959 rows × 146 columns</p>\n",
              "</div>\n",
              "      <button class=\"colab-df-convert\" onclick=\"convertToInteractive('df-3f987c4e-dbcf-4269-9d89-8f2941728bc7')\"\n",
              "              title=\"Convert this dataframe to an interactive table.\"\n",
              "              style=\"display:none;\">\n",
              "        \n",
              "  <svg xmlns=\"http://www.w3.org/2000/svg\" height=\"24px\"viewBox=\"0 0 24 24\"\n",
              "       width=\"24px\">\n",
              "    <path d=\"M0 0h24v24H0V0z\" fill=\"none\"/>\n",
              "    <path d=\"M18.56 5.44l.94 2.06.94-2.06 2.06-.94-2.06-.94-.94-2.06-.94 2.06-2.06.94zm-11 1L8.5 8.5l.94-2.06 2.06-.94-2.06-.94L8.5 2.5l-.94 2.06-2.06.94zm10 10l.94 2.06.94-2.06 2.06-.94-2.06-.94-.94-2.06-.94 2.06-2.06.94z\"/><path d=\"M17.41 7.96l-1.37-1.37c-.4-.4-.92-.59-1.43-.59-.52 0-1.04.2-1.43.59L10.3 9.45l-7.72 7.72c-.78.78-.78 2.05 0 2.83L4 21.41c.39.39.9.59 1.41.59.51 0 1.02-.2 1.41-.59l7.78-7.78 2.81-2.81c.8-.78.8-2.07 0-2.86zM5.41 20L4 18.59l7.72-7.72 1.47 1.35L5.41 20z\"/>\n",
              "  </svg>\n",
              "      </button>\n",
              "      \n",
              "  <style>\n",
              "    .colab-df-container {\n",
              "      display:flex;\n",
              "      flex-wrap:wrap;\n",
              "      gap: 12px;\n",
              "    }\n",
              "\n",
              "    .colab-df-convert {\n",
              "      background-color: #E8F0FE;\n",
              "      border: none;\n",
              "      border-radius: 50%;\n",
              "      cursor: pointer;\n",
              "      display: none;\n",
              "      fill: #1967D2;\n",
              "      height: 32px;\n",
              "      padding: 0 0 0 0;\n",
              "      width: 32px;\n",
              "    }\n",
              "\n",
              "    .colab-df-convert:hover {\n",
              "      background-color: #E2EBFA;\n",
              "      box-shadow: 0px 1px 2px rgba(60, 64, 67, 0.3), 0px 1px 3px 1px rgba(60, 64, 67, 0.15);\n",
              "      fill: #174EA6;\n",
              "    }\n",
              "\n",
              "    [theme=dark] .colab-df-convert {\n",
              "      background-color: #3B4455;\n",
              "      fill: #D2E3FC;\n",
              "    }\n",
              "\n",
              "    [theme=dark] .colab-df-convert:hover {\n",
              "      background-color: #434B5C;\n",
              "      box-shadow: 0px 1px 3px 1px rgba(0, 0, 0, 0.15);\n",
              "      filter: drop-shadow(0px 1px 2px rgba(0, 0, 0, 0.3));\n",
              "      fill: #FFFFFF;\n",
              "    }\n",
              "  </style>\n",
              "\n",
              "      <script>\n",
              "        const buttonEl =\n",
              "          document.querySelector('#df-3f987c4e-dbcf-4269-9d89-8f2941728bc7 button.colab-df-convert');\n",
              "        buttonEl.style.display =\n",
              "          google.colab.kernel.accessAllowed ? 'block' : 'none';\n",
              "\n",
              "        async function convertToInteractive(key) {\n",
              "          const element = document.querySelector('#df-3f987c4e-dbcf-4269-9d89-8f2941728bc7');\n",
              "          const dataTable =\n",
              "            await google.colab.kernel.invokeFunction('convertToInteractive',\n",
              "                                                     [key], {});\n",
              "          if (!dataTable) return;\n",
              "\n",
              "          const docLinkHtml = 'Like what you see? Visit the ' +\n",
              "            '<a target=\"_blank\" href=https://colab.research.google.com/notebooks/data_table.ipynb>data table notebook</a>'\n",
              "            + ' to learn more about interactive tables.';\n",
              "          element.innerHTML = '';\n",
              "          dataTable['output_type'] = 'display_data';\n",
              "          await google.colab.output.renderOutput(dataTable, element);\n",
              "          const docLink = document.createElement('div');\n",
              "          docLink.innerHTML = docLinkHtml;\n",
              "          element.appendChild(docLink);\n",
              "        }\n",
              "      </script>\n",
              "    </div>\n",
              "  </div>\n",
              "  "
            ]
          },
          "metadata": {},
          "execution_count": 85
        }
      ]
    },
    {
      "cell_type": "code",
      "source": [
        "#Análisis de duplicados.\n",
        "df_validacion_T = df_validacion.groupby(['numero_de_cliente','foto_mes'])['numero_de_cliente'].count().reset_index(name='count')  \n",
        "df_validacion_T[df_validacion_T['count']>1]"
      ],
      "metadata": {
        "colab": {
          "base_uri": "https://localhost:8080/",
          "height": 49
        },
        "id": "2KCAkYtWgnsU",
        "outputId": "5fccb177-5a57-4e24-b711-c3ac3b6826ec"
      },
      "execution_count": 86,
      "outputs": [
        {
          "output_type": "execute_result",
          "data": {
            "text/plain": [
              "Empty DataFrame\n",
              "Columns: [numero_de_cliente, foto_mes, count]\n",
              "Index: []"
            ],
            "text/html": [
              "\n",
              "  <div id=\"df-b90b9f16-d38f-485e-b8f8-85812682966b\">\n",
              "    <div class=\"colab-df-container\">\n",
              "      <div>\n",
              "<style scoped>\n",
              "    .dataframe tbody tr th:only-of-type {\n",
              "        vertical-align: middle;\n",
              "    }\n",
              "\n",
              "    .dataframe tbody tr th {\n",
              "        vertical-align: top;\n",
              "    }\n",
              "\n",
              "    .dataframe thead th {\n",
              "        text-align: right;\n",
              "    }\n",
              "</style>\n",
              "<table border=\"1\" class=\"dataframe\">\n",
              "  <thead>\n",
              "    <tr style=\"text-align: right;\">\n",
              "      <th></th>\n",
              "      <th>numero_de_cliente</th>\n",
              "      <th>foto_mes</th>\n",
              "      <th>count</th>\n",
              "    </tr>\n",
              "  </thead>\n",
              "  <tbody>\n",
              "  </tbody>\n",
              "</table>\n",
              "</div>\n",
              "      <button class=\"colab-df-convert\" onclick=\"convertToInteractive('df-b90b9f16-d38f-485e-b8f8-85812682966b')\"\n",
              "              title=\"Convert this dataframe to an interactive table.\"\n",
              "              style=\"display:none;\">\n",
              "        \n",
              "  <svg xmlns=\"http://www.w3.org/2000/svg\" height=\"24px\"viewBox=\"0 0 24 24\"\n",
              "       width=\"24px\">\n",
              "    <path d=\"M0 0h24v24H0V0z\" fill=\"none\"/>\n",
              "    <path d=\"M18.56 5.44l.94 2.06.94-2.06 2.06-.94-2.06-.94-.94-2.06-.94 2.06-2.06.94zm-11 1L8.5 8.5l.94-2.06 2.06-.94-2.06-.94L8.5 2.5l-.94 2.06-2.06.94zm10 10l.94 2.06.94-2.06 2.06-.94-2.06-.94-.94-2.06-.94 2.06-2.06.94z\"/><path d=\"M17.41 7.96l-1.37-1.37c-.4-.4-.92-.59-1.43-.59-.52 0-1.04.2-1.43.59L10.3 9.45l-7.72 7.72c-.78.78-.78 2.05 0 2.83L4 21.41c.39.39.9.59 1.41.59.51 0 1.02-.2 1.41-.59l7.78-7.78 2.81-2.81c.8-.78.8-2.07 0-2.86zM5.41 20L4 18.59l7.72-7.72 1.47 1.35L5.41 20z\"/>\n",
              "  </svg>\n",
              "      </button>\n",
              "      \n",
              "  <style>\n",
              "    .colab-df-container {\n",
              "      display:flex;\n",
              "      flex-wrap:wrap;\n",
              "      gap: 12px;\n",
              "    }\n",
              "\n",
              "    .colab-df-convert {\n",
              "      background-color: #E8F0FE;\n",
              "      border: none;\n",
              "      border-radius: 50%;\n",
              "      cursor: pointer;\n",
              "      display: none;\n",
              "      fill: #1967D2;\n",
              "      height: 32px;\n",
              "      padding: 0 0 0 0;\n",
              "      width: 32px;\n",
              "    }\n",
              "\n",
              "    .colab-df-convert:hover {\n",
              "      background-color: #E2EBFA;\n",
              "      box-shadow: 0px 1px 2px rgba(60, 64, 67, 0.3), 0px 1px 3px 1px rgba(60, 64, 67, 0.15);\n",
              "      fill: #174EA6;\n",
              "    }\n",
              "\n",
              "    [theme=dark] .colab-df-convert {\n",
              "      background-color: #3B4455;\n",
              "      fill: #D2E3FC;\n",
              "    }\n",
              "\n",
              "    [theme=dark] .colab-df-convert:hover {\n",
              "      background-color: #434B5C;\n",
              "      box-shadow: 0px 1px 3px 1px rgba(0, 0, 0, 0.15);\n",
              "      filter: drop-shadow(0px 1px 2px rgba(0, 0, 0, 0.3));\n",
              "      fill: #FFFFFF;\n",
              "    }\n",
              "  </style>\n",
              "\n",
              "      <script>\n",
              "        const buttonEl =\n",
              "          document.querySelector('#df-b90b9f16-d38f-485e-b8f8-85812682966b button.colab-df-convert');\n",
              "        buttonEl.style.display =\n",
              "          google.colab.kernel.accessAllowed ? 'block' : 'none';\n",
              "\n",
              "        async function convertToInteractive(key) {\n",
              "          const element = document.querySelector('#df-b90b9f16-d38f-485e-b8f8-85812682966b');\n",
              "          const dataTable =\n",
              "            await google.colab.kernel.invokeFunction('convertToInteractive',\n",
              "                                                     [key], {});\n",
              "          if (!dataTable) return;\n",
              "\n",
              "          const docLinkHtml = 'Like what you see? Visit the ' +\n",
              "            '<a target=\"_blank\" href=https://colab.research.google.com/notebooks/data_table.ipynb>data table notebook</a>'\n",
              "            + ' to learn more about interactive tables.';\n",
              "          element.innerHTML = '';\n",
              "          dataTable['output_type'] = 'display_data';\n",
              "          await google.colab.output.renderOutput(dataTable, element);\n",
              "          const docLink = document.createElement('div');\n",
              "          docLink.innerHTML = docLinkHtml;\n",
              "          element.appendChild(docLink);\n",
              "        }\n",
              "      </script>\n",
              "    </div>\n",
              "  </div>\n",
              "  "
            ]
          },
          "metadata": {},
          "execution_count": 86
        }
      ]
    },
    {
      "cell_type": "code",
      "source": [
        "#Generacion de columnas con informacion de mes+1 y mes+2.\n",
        "df_validacion['Mes_1'] = df_validacion.groupby(['numero_de_cliente'])['foto_mes'].shift(-1)\n",
        "df_validacion['Mes_2'] = df_validacion.groupby(['numero_de_cliente'])['foto_mes'].shift(-2)\n",
        "\n",
        "#Eliminacion de los registros con fecha > a 201402.\n",
        "\n",
        "df_validacion = df_validacion[df_validacion.foto_mes == 201305]\n"
      ],
      "metadata": {
        "id": "pZg9SCTThDgc"
      },
      "execution_count": 87,
      "outputs": []
    },
    {
      "cell_type": "code",
      "source": [
        "#Generacion de columnas target como clase y binaria.\n",
        "df_validacion['target'] = \"Baja+1\"\n",
        "\n",
        "df_validacion.loc[(df_validacion['Mes_1'] ==201306), 'target'] = \"Baja+2\"\n",
        "df_validacion.loc[(df_validacion['Mes_2'] ==201307), 'target'] = \"Continua\"\n",
        "\n",
        "df_validacion['target_bin'] = np.where(df_validacion['target']=='Baja+2', 1, 0)\n",
        "\n",
        "df_validacion['target_bin'].value_counts()"
      ],
      "metadata": {
        "id": "C8t-O045hPqi",
        "colab": {
          "base_uri": "https://localhost:8080/"
        },
        "outputId": "f337148a-057e-4b83-e8b6-4fcfe7575d04"
      },
      "execution_count": 88,
      "outputs": [
        {
          "output_type": "execute_result",
          "data": {
            "text/plain": [
              "0    161153\n",
              "1       567\n",
              "Name: target_bin, dtype: int64"
            ]
          },
          "metadata": {},
          "execution_count": 88
        }
      ]
    },
    {
      "cell_type": "code",
      "source": [
        "#Eliminacion de las columnas auxiliares temporales.\n",
        "df_validacion = df_validacion.drop(['Mes_1' , 'Mes_2', 'target'] , axis = 'columns')"
      ],
      "metadata": {
        "id": "pcTf6xm8huC8"
      },
      "execution_count": 89,
      "outputs": []
    },
    {
      "cell_type": "code",
      "source": [
        "#Eliminación de columnas sin valor comercial.\n",
        "columnas_del = ['numero_de_cliente', 'Master_Fvencimiento', 'Master_fultimo_cierre', 'Master_fechaalta', 'Visa_Fvencimiento', 'Visa_fultimo_cierre', 'Visa_fechaalta', 'foto_mes']\n",
        "df_validacion.drop(columns = columnas_del, axis = 1, inplace = True)\n",
        "df_validacion.info(verbose = True)"
      ],
      "metadata": {
        "id": "bi7fNC2nezpb",
        "colab": {
          "base_uri": "https://localhost:8080/"
        },
        "outputId": "879f7b9e-0a08-443c-efcb-5ca06fbe3a48"
      },
      "execution_count": 90,
      "outputs": [
        {
          "output_type": "stream",
          "name": "stdout",
          "text": [
            "<class 'pandas.core.frame.DataFrame'>\n",
            "Int64Index: 161720 entries, 13 to 2686169\n",
            "Data columns (total 139 columns):\n",
            " #    Column                            Dtype  \n",
            "---   ------                            -----  \n",
            " 0    cliente_vip                       int64  \n",
            " 1    cliente_sucursal                  int64  \n",
            " 2    cliente_edad                      int64  \n",
            " 3    cliente_antiguedad                int64  \n",
            " 4    mrentabilidad                     float64\n",
            " 5    mrentabilidad_annual              float64\n",
            " 6    marketing_coss_selling            int64  \n",
            " 7    tpaquete2                         object \n",
            " 8    tpaquete4                         object \n",
            " 9    tpaquete6                         object \n",
            " 10   tpaquete7                         object \n",
            " 11   tpaquete9                         object \n",
            " 12   tcuentas                          object \n",
            " 13   tcuenta_corriente                 object \n",
            " 14   mcuenta_corriente_Nopaquete       float64\n",
            " 15   mcuenta_corriente_Paquete         float64\n",
            " 16   tcaja_ahorro                      object \n",
            " 17   mcaja_ahorro_Paquete              float64\n",
            " 18   mcaja_ahorro_Nopaquete            float64\n",
            " 19   mcaja_ahorro_dolares              float64\n",
            " 20   mdescubierto_preacordado          float64\n",
            " 21   mcuentas_saldo                    float64\n",
            " 22   ttarjeta_debito                   object \n",
            " 23   ctarjeta_debito_transacciones     int64  \n",
            " 24   mautoservicio                     float64\n",
            " 25   ttarjeta_visa                     object \n",
            " 26   ctarjeta_visa_transacciones       int64  \n",
            " 27   mtarjeta_visa_consumo             float64\n",
            " 28   ttarjeta_master                   object \n",
            " 29   ctarjeta_master_transacciones     int64  \n",
            " 30   mtarjeta_master_consumo           float64\n",
            " 31   cprestamos_personales             int64  \n",
            " 32   mprestamos_personales             float64\n",
            " 33   cprestamos_prendarios             int64  \n",
            " 34   mprestamos_prendarios             float64\n",
            " 35   cprestamos_hipotecarios           int64  \n",
            " 36   mprestamos_hipotecarios           object \n",
            " 37   tplazo_fijo                       object \n",
            " 38   mplazo_fijo_dolares               float64\n",
            " 39   mplazo_fijo_pesos                 float64\n",
            " 40   tfondos_comunes_inversion         object \n",
            " 41   mfondos_comunes_inversion_pesos   float64\n",
            " 42   mfondos_comunes_inversion_dolare  float64\n",
            " 43   ttitulos                          object \n",
            " 44   mtitulos                          float64\n",
            " 45   tseguro_vida_mercado_abierto      object \n",
            " 46   tseguro_auto                      object \n",
            " 47   tseguro_vivienda                  object \n",
            " 48   tseguro_accidentes_personales     object \n",
            " 49   tcaja_seguridad                   object \n",
            " 50   mplan_sueldo_manual               float64\n",
            " 51   cplan_sueldo_transaccion          int64  \n",
            " 52   tcuenta_debitos_automaticos       object \n",
            " 53   mcuenta_debitos_automaticos       object \n",
            " 54   ttarjeta_visa_debitos_automatico  object \n",
            " 55   mttarjeta_visa_debitos_automatic  object \n",
            " 56   ttarjeta_master_debitos_automati  object \n",
            " 57   mttarjeta_master_debitos_automat  object \n",
            " 58   tpagodeservicios                  object \n",
            " 59   mpagodeservicios                  object \n",
            " 60   tpagomiscuentas                   object \n",
            " 61   mpagomiscuentas                   object \n",
            " 62   ccajeros_propios_descuentos       int64  \n",
            " 63   mcajeros_propios_descuentos       float64\n",
            " 64   ctarjeta_visa_descuentos          int64  \n",
            " 65   mtarjeta_visa_descuentos          object \n",
            " 66   ctarjeta_master_descuentos        int64  \n",
            " 67   mtarjeta_master_descuentos        object \n",
            " 68   ccomisiones_mantenimiento         int64  \n",
            " 69   mcomisiones_mantenimiento         float64\n",
            " 70   ccomisiones_otras                 int64  \n",
            " 71   mcomisiones_otras                 float64\n",
            " 72   tcambio_monedas                   object \n",
            " 73   ccambio_monedas_compra            int64  \n",
            " 74   mcambio_monedas_compra            float64\n",
            " 75   ccambio_monedas_venta             int64  \n",
            " 76   mcambio_monedas_venta             float64\n",
            " 77   ctransferencias_recibidas         int64  \n",
            " 78   mtransferencias_recibidas         float64\n",
            " 79   ctransferencias_emitidas          int64  \n",
            " 80   mtransferencias_emitidas          float64\n",
            " 81   cextraccion_autoservicio          int64  \n",
            " 82   mextraccion_autoservicio          float64\n",
            " 83   ccheques_depositados              int64  \n",
            " 84   mcheques_depositados              float64\n",
            " 85   ccheques_emitidos                 int64  \n",
            " 86   mcheques_emitidos                 float64\n",
            " 87   ccheques_depositados_rechazados   int64  \n",
            " 88   mcheques_depositados_rechazados   float64\n",
            " 89   ccheques_emitidos_rechazados      int64  \n",
            " 90   mcheques_emitidos_rechazados      float64\n",
            " 91   tcallcenter                       object \n",
            " 92   ccallcenter_transacciones         int64  \n",
            " 93   tcajas                            object \n",
            " 94   tcajas_depositos                  object \n",
            " 95   tcajas_extracciones               object \n",
            " 96   tcajas_otras                      object \n",
            " 97   ccajeros_propio_transacciones     int64  \n",
            " 98   mcajeros_propio                   float64\n",
            " 99   ccajeros_ajenos_transacciones     int64  \n",
            " 100  mcajeros_ajenos                   float64\n",
            " 101  tmovimientos_ultimos90dias        object \n",
            " 102  Master_marca_atraso               object \n",
            " 103  Master_cuenta_estado              object \n",
            " 104  Master_mfinanciacion_limite       object \n",
            " 105  Master_msaldototal                object \n",
            " 106  Master_msaldopesos                object \n",
            " 107  Master_msaldodolares              object \n",
            " 108  Master_mconsumospesos             object \n",
            " 109  Master_mconsumosdolares           object \n",
            " 110  Master_mlimitecompra              object \n",
            " 111  Master_madelantopesos             object \n",
            " 112  Master_madelantodolares           object \n",
            " 113  Master_mpagado                    object \n",
            " 114  Master_mpagospesos                object \n",
            " 115  Master_mpagosdolares              object \n",
            " 116  Master_mconsumototal              object \n",
            " 117  Master_tconsumos                  object \n",
            " 118  Master_tadelantosefectivo         object \n",
            " 119  Master_mpagominimo                object \n",
            " 120  Visa_marca_atraso                 object \n",
            " 121  Visa_cuenta_estado                object \n",
            " 122  Visa_mfinanciacion_limite         object \n",
            " 123  Visa_msaldototal                  object \n",
            " 124  Visa_msaldopesos                  object \n",
            " 125  Visa_msaldodolares                object \n",
            " 126  Visa_mconsumospesos               object \n",
            " 127  Visa_mconsumosdolares             object \n",
            " 128  Visa_mlimitecompra                object \n",
            " 129  Visa_madelantopesos               object \n",
            " 130  Visa_madelantodolares             object \n",
            " 131  Visa_mpagado                      object \n",
            " 132  Visa_mpagospesos                  object \n",
            " 133  Visa_mpagosdolares                object \n",
            " 134  Visa_mconsumototal                object \n",
            " 135  Visa_tconsumos                    object \n",
            " 136  Visa_tadelantosefectivo           object \n",
            " 137  Visa_mpagominimo                  object \n",
            " 138  target_bin                        int64  \n",
            "dtypes: float64(34), int64(30), object(75)\n",
            "memory usage: 172.7+ MB\n"
          ]
        }
      ]
    },
    {
      "cell_type": "code",
      "source": [
        "#Reemplazo de '.' por -1, y trasformación a tipo INT\n",
        "df_validacion['Visa_marca_atraso'] = df_validacion['Visa_marca_atraso'].replace('.', -1).astype(int)\n",
        "df_validacion['Master_marca_atraso'] = df_validacion['Master_marca_atraso'].replace('.', -1).astype(int)"
      ],
      "metadata": {
        "id": "pwW_NGWtfIs3"
      },
      "execution_count": 91,
      "outputs": []
    },
    {
      "cell_type": "code",
      "source": [
        "#Reemplazo de '.' por 0, y transformación a tipo FLOAT\n",
        "columnas_float = ['mprestamos_hipotecarios', 'mcuenta_debitos_automaticos', 'mttarjeta_visa_debitos_automatic', 'mttarjeta_master_debitos_automat', 'mpagodeservicios',\n",
        "'mpagomiscuentas', 'mtarjeta_visa_descuentos', 'mtarjeta_master_descuentos', 'Master_mfinanciacion_limite', 'Master_msaldototal', 'Master_msaldopesos', 'Master_msaldodolares',\n",
        "'Master_mconsumospesos', 'Master_mconsumosdolares', 'Master_mlimitecompra', 'Master_madelantopesos', 'Master_madelantodolares', 'Master_mpagado', 'Master_mpagospesos', 'Master_mpagosdolares',\n",
        "'Master_mconsumototal', 'Master_mpagominimo', 'Visa_mfinanciacion_limite', 'Visa_msaldototal', 'Visa_msaldopesos', 'Visa_msaldodolares', 'Visa_mconsumospesos', 'Visa_mconsumosdolares', \n",
        "'Visa_mlimitecompra', 'Visa_madelantopesos', 'Visa_madelantodolares', 'Visa_mpagado', 'Visa_mpagospesos', 'Visa_mpagosdolares', 'Visa_mconsumototal', 'Visa_mpagominimo']\n",
        "\n",
        "for col in columnas_float:\n",
        "  df_validacion[col] = df_validacion[col].replace('.', 0).astype(float)"
      ],
      "metadata": {
        "id": "r5O2fIwnfPy-"
      },
      "execution_count": 92,
      "outputs": []
    },
    {
      "cell_type": "code",
      "source": [
        "#Variables con más de dos posibles valores.\n",
        "df_validacion = pd.get_dummies(df_validacion, columns = ['Master_cuenta_estado', 'Visa_cuenta_estado'])"
      ],
      "metadata": {
        "id": "SL0-p5odfbKS"
      },
      "execution_count": 93,
      "outputs": []
    },
    {
      "cell_type": "code",
      "source": [
        "#Variables con solo dos valores posibles.\n",
        "columnas_dummies = ['tpaquete2', 'tpaquete4', 'tpaquete6', 'tpaquete7', 'tpaquete9', 'tcuentas', 'tcuenta_corriente', 'tcaja_ahorro', 'ttarjeta_debito', 'ttarjeta_visa', \n",
        "'ttarjeta_master', 'tplazo_fijo', 'tfondos_comunes_inversion', 'ttitulos', 'tseguro_vida_mercado_abierto', 'tseguro_auto', 'tseguro_vivienda', 'tseguro_accidentes_personales', \n",
        "'tcaja_seguridad',  'tcuenta_debitos_automaticos', 'ttarjeta_visa_debitos_automatico', 'ttarjeta_master_debitos_automati', 'tpagodeservicios','tpagomiscuentas', 'tcambio_monedas', \n",
        "'tcallcenter',  'tcajas', 'tcajas_depositos', 'tcajas_extracciones', 'tcajas_otras', 'tmovimientos_ultimos90dias', 'Master_tconsumos', 'Master_tadelantosefectivo', \n",
        "'Visa_tconsumos', 'Visa_tadelantosefectivo']\n",
        "\n",
        "df_validacion = pd.get_dummies(df_validacion, columns = columnas_dummies, drop_first = True)\n",
        "df_validacion.info(verbose = True)"
      ],
      "metadata": {
        "id": "tzo4GFFXfpBl",
        "colab": {
          "base_uri": "https://localhost:8080/"
        },
        "outputId": "6468cf77-0834-4b16-e1a2-d659a2136ba0"
      },
      "execution_count": 94,
      "outputs": [
        {
          "output_type": "stream",
          "name": "stdout",
          "text": [
            "<class 'pandas.core.frame.DataFrame'>\n",
            "Int64Index: 161720 entries, 13 to 2686169\n",
            "Data columns (total 147 columns):\n",
            " #    Column                              Dtype  \n",
            "---   ------                              -----  \n",
            " 0    cliente_vip                         int64  \n",
            " 1    cliente_sucursal                    int64  \n",
            " 2    cliente_edad                        int64  \n",
            " 3    cliente_antiguedad                  int64  \n",
            " 4    mrentabilidad                       float64\n",
            " 5    mrentabilidad_annual                float64\n",
            " 6    marketing_coss_selling              int64  \n",
            " 7    mcuenta_corriente_Nopaquete         float64\n",
            " 8    mcuenta_corriente_Paquete           float64\n",
            " 9    mcaja_ahorro_Paquete                float64\n",
            " 10   mcaja_ahorro_Nopaquete              float64\n",
            " 11   mcaja_ahorro_dolares                float64\n",
            " 12   mdescubierto_preacordado            float64\n",
            " 13   mcuentas_saldo                      float64\n",
            " 14   ctarjeta_debito_transacciones       int64  \n",
            " 15   mautoservicio                       float64\n",
            " 16   ctarjeta_visa_transacciones         int64  \n",
            " 17   mtarjeta_visa_consumo               float64\n",
            " 18   ctarjeta_master_transacciones       int64  \n",
            " 19   mtarjeta_master_consumo             float64\n",
            " 20   cprestamos_personales               int64  \n",
            " 21   mprestamos_personales               float64\n",
            " 22   cprestamos_prendarios               int64  \n",
            " 23   mprestamos_prendarios               float64\n",
            " 24   cprestamos_hipotecarios             int64  \n",
            " 25   mprestamos_hipotecarios             float64\n",
            " 26   mplazo_fijo_dolares                 float64\n",
            " 27   mplazo_fijo_pesos                   float64\n",
            " 28   mfondos_comunes_inversion_pesos     float64\n",
            " 29   mfondos_comunes_inversion_dolare    float64\n",
            " 30   mtitulos                            float64\n",
            " 31   mplan_sueldo_manual                 float64\n",
            " 32   cplan_sueldo_transaccion            int64  \n",
            " 33   mcuenta_debitos_automaticos         float64\n",
            " 34   mttarjeta_visa_debitos_automatic    float64\n",
            " 35   mttarjeta_master_debitos_automat    float64\n",
            " 36   mpagodeservicios                    float64\n",
            " 37   mpagomiscuentas                     float64\n",
            " 38   ccajeros_propios_descuentos         int64  \n",
            " 39   mcajeros_propios_descuentos         float64\n",
            " 40   ctarjeta_visa_descuentos            int64  \n",
            " 41   mtarjeta_visa_descuentos            float64\n",
            " 42   ctarjeta_master_descuentos          int64  \n",
            " 43   mtarjeta_master_descuentos          float64\n",
            " 44   ccomisiones_mantenimiento           int64  \n",
            " 45   mcomisiones_mantenimiento           float64\n",
            " 46   ccomisiones_otras                   int64  \n",
            " 47   mcomisiones_otras                   float64\n",
            " 48   ccambio_monedas_compra              int64  \n",
            " 49   mcambio_monedas_compra              float64\n",
            " 50   ccambio_monedas_venta               int64  \n",
            " 51   mcambio_monedas_venta               float64\n",
            " 52   ctransferencias_recibidas           int64  \n",
            " 53   mtransferencias_recibidas           float64\n",
            " 54   ctransferencias_emitidas            int64  \n",
            " 55   mtransferencias_emitidas            float64\n",
            " 56   cextraccion_autoservicio            int64  \n",
            " 57   mextraccion_autoservicio            float64\n",
            " 58   ccheques_depositados                int64  \n",
            " 59   mcheques_depositados                float64\n",
            " 60   ccheques_emitidos                   int64  \n",
            " 61   mcheques_emitidos                   float64\n",
            " 62   ccheques_depositados_rechazados     int64  \n",
            " 63   mcheques_depositados_rechazados     float64\n",
            " 64   ccheques_emitidos_rechazados        int64  \n",
            " 65   mcheques_emitidos_rechazados        float64\n",
            " 66   ccallcenter_transacciones           int64  \n",
            " 67   ccajeros_propio_transacciones       int64  \n",
            " 68   mcajeros_propio                     float64\n",
            " 69   ccajeros_ajenos_transacciones       int64  \n",
            " 70   mcajeros_ajenos                     float64\n",
            " 71   Master_marca_atraso                 int64  \n",
            " 72   Master_mfinanciacion_limite         float64\n",
            " 73   Master_msaldototal                  float64\n",
            " 74   Master_msaldopesos                  float64\n",
            " 75   Master_msaldodolares                float64\n",
            " 76   Master_mconsumospesos               float64\n",
            " 77   Master_mconsumosdolares             float64\n",
            " 78   Master_mlimitecompra                float64\n",
            " 79   Master_madelantopesos               float64\n",
            " 80   Master_madelantodolares             float64\n",
            " 81   Master_mpagado                      float64\n",
            " 82   Master_mpagospesos                  float64\n",
            " 83   Master_mpagosdolares                float64\n",
            " 84   Master_mconsumototal                float64\n",
            " 85   Master_mpagominimo                  float64\n",
            " 86   Visa_marca_atraso                   int64  \n",
            " 87   Visa_mfinanciacion_limite           float64\n",
            " 88   Visa_msaldototal                    float64\n",
            " 89   Visa_msaldopesos                    float64\n",
            " 90   Visa_msaldodolares                  float64\n",
            " 91   Visa_mconsumospesos                 float64\n",
            " 92   Visa_mconsumosdolares               float64\n",
            " 93   Visa_mlimitecompra                  float64\n",
            " 94   Visa_madelantopesos                 float64\n",
            " 95   Visa_madelantodolares               float64\n",
            " 96   Visa_mpagado                        float64\n",
            " 97   Visa_mpagospesos                    float64\n",
            " 98   Visa_mpagosdolares                  float64\n",
            " 99   Visa_mconsumototal                  float64\n",
            " 100  Visa_mpagominimo                    float64\n",
            " 101  target_bin                          int64  \n",
            " 102  Master_cuenta_estado_.              uint8  \n",
            " 103  Master_cuenta_estado_10             uint8  \n",
            " 104  Master_cuenta_estado_11             uint8  \n",
            " 105  Master_cuenta_estado_12             uint8  \n",
            " 106  Master_cuenta_estado_19             uint8  \n",
            " 107  Visa_cuenta_estado_.                uint8  \n",
            " 108  Visa_cuenta_estado_10               uint8  \n",
            " 109  Visa_cuenta_estado_11               uint8  \n",
            " 110  Visa_cuenta_estado_12               uint8  \n",
            " 111  Visa_cuenta_estado_19               uint8  \n",
            " 112  tpaquete2_S                         uint8  \n",
            " 113  tpaquete4_S                         uint8  \n",
            " 114  tpaquete6_S                         uint8  \n",
            " 115  tpaquete7_S                         uint8  \n",
            " 116  tpaquete9_S                         uint8  \n",
            " 117  tcuentas_S                          uint8  \n",
            " 118  tcuenta_corriente_S                 uint8  \n",
            " 119  tcaja_ahorro_S                      uint8  \n",
            " 120  ttarjeta_debito_S                   uint8  \n",
            " 121  ttarjeta_visa_S                     uint8  \n",
            " 122  ttarjeta_master_S                   uint8  \n",
            " 123  tplazo_fijo_S                       uint8  \n",
            " 124  tfondos_comunes_inversion_S         uint8  \n",
            " 125  ttitulos_S                          uint8  \n",
            " 126  tseguro_vida_mercado_abierto_S      uint8  \n",
            " 127  tseguro_auto_S                      uint8  \n",
            " 128  tseguro_vivienda_S                  uint8  \n",
            " 129  tseguro_accidentes_personales_S     uint8  \n",
            " 130  tcaja_seguridad_S                   uint8  \n",
            " 131  tcuenta_debitos_automaticos_S       uint8  \n",
            " 132  ttarjeta_visa_debitos_automatico_S  uint8  \n",
            " 133  ttarjeta_master_debitos_automati_S  uint8  \n",
            " 134  tpagodeservicios_S                  uint8  \n",
            " 135  tpagomiscuentas_S                   uint8  \n",
            " 136  tcambio_monedas_S                   uint8  \n",
            " 137  tcallcenter_S                       uint8  \n",
            " 138  tcajas_S                            uint8  \n",
            " 139  tcajas_depositos_S                  uint8  \n",
            " 140  tcajas_extracciones_S               uint8  \n",
            " 141  tcajas_otras_S                      uint8  \n",
            " 142  tmovimientos_ultimos90dias_S        uint8  \n",
            " 143  Master_tconsumos_S                  uint8  \n",
            " 144  Master_tadelantosefectivo_S         uint8  \n",
            " 145  Visa_tconsumos_S                    uint8  \n",
            " 146  Visa_tadelantosefectivo_S           uint8  \n",
            "dtypes: float64(70), int64(32), uint8(45)\n",
            "memory usage: 134.0 MB\n"
          ]
        }
      ]
    },
    {
      "cell_type": "code",
      "source": [
        "#Tratamiento de nulos\n",
        "df_validacion = df_validacion.fillna(0)"
      ],
      "metadata": {
        "id": "lLXUMLa9f71J"
      },
      "execution_count": 95,
      "outputs": []
    },
    {
      "cell_type": "code",
      "source": [
        "#Variables calculadas\n",
        "df_validacion['mcuenta_corriente_all'] = df_validacion['mcuenta_corriente_Paquete'] + df_validacion['mcuenta_corriente_Nopaquete']\n",
        "df_validacion['mcaja_ahorro_all'] = df_validacion['mcaja_ahorro_Paquete'] + df_validacion['mcaja_ahorro_Nopaquete']\n",
        "df_validacion['mcaja_ahorro_CC'] = df_validacion['mcaja_ahorro_all'] + df_validacion['mcuenta_corriente_all']\n",
        "df_validacion['mtarjeta_all_consumo'] = df_validacion['mtarjeta_visa_consumo'] + df_validacion['mtarjeta_master_consumo']\n",
        "df_validacion['ctarjeta_all_transacciones'] = df_validacion['ctarjeta_visa_transacciones'] + df_validacion['ctarjeta_master_transacciones']"
      ],
      "metadata": {
        "id": "I2L9LwvLgAWm"
      },
      "execution_count": 96,
      "outputs": []
    },
    {
      "cell_type": "code",
      "source": [
        "df_validacion.info(verbose = True)"
      ],
      "metadata": {
        "id": "u-2ZkjMcgZGU",
        "colab": {
          "base_uri": "https://localhost:8080/"
        },
        "outputId": "ae07f8f8-ff72-4510-ec8c-e330c5f4c733"
      },
      "execution_count": 97,
      "outputs": [
        {
          "output_type": "stream",
          "name": "stdout",
          "text": [
            "<class 'pandas.core.frame.DataFrame'>\n",
            "Int64Index: 161720 entries, 13 to 2686169\n",
            "Data columns (total 152 columns):\n",
            " #    Column                              Dtype  \n",
            "---   ------                              -----  \n",
            " 0    cliente_vip                         int64  \n",
            " 1    cliente_sucursal                    int64  \n",
            " 2    cliente_edad                        int64  \n",
            " 3    cliente_antiguedad                  int64  \n",
            " 4    mrentabilidad                       float64\n",
            " 5    mrentabilidad_annual                float64\n",
            " 6    marketing_coss_selling              int64  \n",
            " 7    mcuenta_corriente_Nopaquete         float64\n",
            " 8    mcuenta_corriente_Paquete           float64\n",
            " 9    mcaja_ahorro_Paquete                float64\n",
            " 10   mcaja_ahorro_Nopaquete              float64\n",
            " 11   mcaja_ahorro_dolares                float64\n",
            " 12   mdescubierto_preacordado            float64\n",
            " 13   mcuentas_saldo                      float64\n",
            " 14   ctarjeta_debito_transacciones       int64  \n",
            " 15   mautoservicio                       float64\n",
            " 16   ctarjeta_visa_transacciones         int64  \n",
            " 17   mtarjeta_visa_consumo               float64\n",
            " 18   ctarjeta_master_transacciones       int64  \n",
            " 19   mtarjeta_master_consumo             float64\n",
            " 20   cprestamos_personales               int64  \n",
            " 21   mprestamos_personales               float64\n",
            " 22   cprestamos_prendarios               int64  \n",
            " 23   mprestamos_prendarios               float64\n",
            " 24   cprestamos_hipotecarios             int64  \n",
            " 25   mprestamos_hipotecarios             float64\n",
            " 26   mplazo_fijo_dolares                 float64\n",
            " 27   mplazo_fijo_pesos                   float64\n",
            " 28   mfondos_comunes_inversion_pesos     float64\n",
            " 29   mfondos_comunes_inversion_dolare    float64\n",
            " 30   mtitulos                            float64\n",
            " 31   mplan_sueldo_manual                 float64\n",
            " 32   cplan_sueldo_transaccion            int64  \n",
            " 33   mcuenta_debitos_automaticos         float64\n",
            " 34   mttarjeta_visa_debitos_automatic    float64\n",
            " 35   mttarjeta_master_debitos_automat    float64\n",
            " 36   mpagodeservicios                    float64\n",
            " 37   mpagomiscuentas                     float64\n",
            " 38   ccajeros_propios_descuentos         int64  \n",
            " 39   mcajeros_propios_descuentos         float64\n",
            " 40   ctarjeta_visa_descuentos            int64  \n",
            " 41   mtarjeta_visa_descuentos            float64\n",
            " 42   ctarjeta_master_descuentos          int64  \n",
            " 43   mtarjeta_master_descuentos          float64\n",
            " 44   ccomisiones_mantenimiento           int64  \n",
            " 45   mcomisiones_mantenimiento           float64\n",
            " 46   ccomisiones_otras                   int64  \n",
            " 47   mcomisiones_otras                   float64\n",
            " 48   ccambio_monedas_compra              int64  \n",
            " 49   mcambio_monedas_compra              float64\n",
            " 50   ccambio_monedas_venta               int64  \n",
            " 51   mcambio_monedas_venta               float64\n",
            " 52   ctransferencias_recibidas           int64  \n",
            " 53   mtransferencias_recibidas           float64\n",
            " 54   ctransferencias_emitidas            int64  \n",
            " 55   mtransferencias_emitidas            float64\n",
            " 56   cextraccion_autoservicio            int64  \n",
            " 57   mextraccion_autoservicio            float64\n",
            " 58   ccheques_depositados                int64  \n",
            " 59   mcheques_depositados                float64\n",
            " 60   ccheques_emitidos                   int64  \n",
            " 61   mcheques_emitidos                   float64\n",
            " 62   ccheques_depositados_rechazados     int64  \n",
            " 63   mcheques_depositados_rechazados     float64\n",
            " 64   ccheques_emitidos_rechazados        int64  \n",
            " 65   mcheques_emitidos_rechazados        float64\n",
            " 66   ccallcenter_transacciones           int64  \n",
            " 67   ccajeros_propio_transacciones       int64  \n",
            " 68   mcajeros_propio                     float64\n",
            " 69   ccajeros_ajenos_transacciones       int64  \n",
            " 70   mcajeros_ajenos                     float64\n",
            " 71   Master_marca_atraso                 int64  \n",
            " 72   Master_mfinanciacion_limite         float64\n",
            " 73   Master_msaldototal                  float64\n",
            " 74   Master_msaldopesos                  float64\n",
            " 75   Master_msaldodolares                float64\n",
            " 76   Master_mconsumospesos               float64\n",
            " 77   Master_mconsumosdolares             float64\n",
            " 78   Master_mlimitecompra                float64\n",
            " 79   Master_madelantopesos               float64\n",
            " 80   Master_madelantodolares             float64\n",
            " 81   Master_mpagado                      float64\n",
            " 82   Master_mpagospesos                  float64\n",
            " 83   Master_mpagosdolares                float64\n",
            " 84   Master_mconsumototal                float64\n",
            " 85   Master_mpagominimo                  float64\n",
            " 86   Visa_marca_atraso                   int64  \n",
            " 87   Visa_mfinanciacion_limite           float64\n",
            " 88   Visa_msaldototal                    float64\n",
            " 89   Visa_msaldopesos                    float64\n",
            " 90   Visa_msaldodolares                  float64\n",
            " 91   Visa_mconsumospesos                 float64\n",
            " 92   Visa_mconsumosdolares               float64\n",
            " 93   Visa_mlimitecompra                  float64\n",
            " 94   Visa_madelantopesos                 float64\n",
            " 95   Visa_madelantodolares               float64\n",
            " 96   Visa_mpagado                        float64\n",
            " 97   Visa_mpagospesos                    float64\n",
            " 98   Visa_mpagosdolares                  float64\n",
            " 99   Visa_mconsumototal                  float64\n",
            " 100  Visa_mpagominimo                    float64\n",
            " 101  target_bin                          int64  \n",
            " 102  Master_cuenta_estado_.              uint8  \n",
            " 103  Master_cuenta_estado_10             uint8  \n",
            " 104  Master_cuenta_estado_11             uint8  \n",
            " 105  Master_cuenta_estado_12             uint8  \n",
            " 106  Master_cuenta_estado_19             uint8  \n",
            " 107  Visa_cuenta_estado_.                uint8  \n",
            " 108  Visa_cuenta_estado_10               uint8  \n",
            " 109  Visa_cuenta_estado_11               uint8  \n",
            " 110  Visa_cuenta_estado_12               uint8  \n",
            " 111  Visa_cuenta_estado_19               uint8  \n",
            " 112  tpaquete2_S                         uint8  \n",
            " 113  tpaquete4_S                         uint8  \n",
            " 114  tpaquete6_S                         uint8  \n",
            " 115  tpaquete7_S                         uint8  \n",
            " 116  tpaquete9_S                         uint8  \n",
            " 117  tcuentas_S                          uint8  \n",
            " 118  tcuenta_corriente_S                 uint8  \n",
            " 119  tcaja_ahorro_S                      uint8  \n",
            " 120  ttarjeta_debito_S                   uint8  \n",
            " 121  ttarjeta_visa_S                     uint8  \n",
            " 122  ttarjeta_master_S                   uint8  \n",
            " 123  tplazo_fijo_S                       uint8  \n",
            " 124  tfondos_comunes_inversion_S         uint8  \n",
            " 125  ttitulos_S                          uint8  \n",
            " 126  tseguro_vida_mercado_abierto_S      uint8  \n",
            " 127  tseguro_auto_S                      uint8  \n",
            " 128  tseguro_vivienda_S                  uint8  \n",
            " 129  tseguro_accidentes_personales_S     uint8  \n",
            " 130  tcaja_seguridad_S                   uint8  \n",
            " 131  tcuenta_debitos_automaticos_S       uint8  \n",
            " 132  ttarjeta_visa_debitos_automatico_S  uint8  \n",
            " 133  ttarjeta_master_debitos_automati_S  uint8  \n",
            " 134  tpagodeservicios_S                  uint8  \n",
            " 135  tpagomiscuentas_S                   uint8  \n",
            " 136  tcambio_monedas_S                   uint8  \n",
            " 137  tcallcenter_S                       uint8  \n",
            " 138  tcajas_S                            uint8  \n",
            " 139  tcajas_depositos_S                  uint8  \n",
            " 140  tcajas_extracciones_S               uint8  \n",
            " 141  tcajas_otras_S                      uint8  \n",
            " 142  tmovimientos_ultimos90dias_S        uint8  \n",
            " 143  Master_tconsumos_S                  uint8  \n",
            " 144  Master_tadelantosefectivo_S         uint8  \n",
            " 145  Visa_tconsumos_S                    uint8  \n",
            " 146  Visa_tadelantosefectivo_S           uint8  \n",
            " 147  mcuenta_corriente_all               float64\n",
            " 148  mcaja_ahorro_all                    float64\n",
            " 149  mcaja_ahorro_CC                     float64\n",
            " 150  mtarjeta_all_consumo                float64\n",
            " 151  ctarjeta_all_transacciones          int64  \n",
            "dtypes: float64(74), int64(33), uint8(45)\n",
            "memory usage: 140.2 MB\n"
          ]
        }
      ]
    },
    {
      "cell_type": "markdown",
      "source": [
        "##Separación de los datos"
      ],
      "metadata": {
        "id": "34486gLIse7p"
      }
    },
    {
      "cell_type": "code",
      "source": [
        "#Separación.\n",
        "X_validacion = df_validacion.drop(['target_bin'] , axis = 'columns')\n",
        "Y_validacion = df_validacion.target_bin"
      ],
      "metadata": {
        "id": "QJph4v6kmAJn"
      },
      "execution_count": 98,
      "outputs": []
    },
    {
      "cell_type": "markdown",
      "source": [
        "##Estandarización"
      ],
      "metadata": {
        "id": "8l88Nd9zsiv6"
      }
    },
    {
      "cell_type": "code",
      "source": [
        "X_validacion_std = std.transform(X_validacion)"
      ],
      "metadata": {
        "id": "T1gYsDzHmdp0"
      },
      "execution_count": 99,
      "outputs": []
    },
    {
      "cell_type": "markdown",
      "source": [
        "##Selección de Variables"
      ],
      "metadata": {
        "id": "oKzATCYQsk2r"
      }
    },
    {
      "cell_type": "code",
      "source": [
        "X_validacion_nf = sel.transform(X_validacion_std)"
      ],
      "metadata": {
        "id": "QKmhVE5npFJT"
      },
      "execution_count": 100,
      "outputs": []
    },
    {
      "cell_type": "markdown",
      "source": [
        "##Predicción"
      ],
      "metadata": {
        "id": "7oRPMtGzssqT"
      }
    },
    {
      "cell_type": "code",
      "source": [
        "y_pred_validacion = RLCV_modelo_balanceado.predict(X_validacion_nf)\n",
        "\n",
        "print('---------- y_pred ---------- ')\n",
        "print(y_pred_validacion)\n",
        "print('Cantidad de 0: ', (y_pred_validacion == 0).sum())\n",
        "print('Cantidad de 1: ', (y_pred_validacion == 1).sum())"
      ],
      "metadata": {
        "id": "SZ6JXG2io6qu",
        "colab": {
          "base_uri": "https://localhost:8080/"
        },
        "outputId": "fe614d82-d3dd-45a5-e0d0-68cb232cfb9e"
      },
      "execution_count": 101,
      "outputs": [
        {
          "output_type": "stream",
          "name": "stdout",
          "text": [
            "---------- y_pred ---------- \n",
            "[0 0 0 ... 1 1 0]\n",
            "Cantidad de 0:  141910\n",
            "Cantidad de 1:  19810\n"
          ]
        }
      ]
    },
    {
      "cell_type": "markdown",
      "source": [
        "##Descarga de datos"
      ],
      "metadata": {
        "id": "ij4NtmLHsw1j"
      }
    },
    {
      "cell_type": "code",
      "source": [
        "# Clase Real, Clase Predicha y Probabilidad Asociada\n",
        "y_probability_validacion = RLCV_modelo_balanceado.predict_proba(X_validacion_nf)[:, 1]\n",
        "\n",
        "df_pred = pd.DataFrame({\"y_test\": Y_validacion, \"y_pred\": y_pred_validacion,\"prob_a\": y_probability_validacion})\n",
        "df_pred = GuardarMetricasCSV(df_pred,'/content/drive/MyDrive/Colab Notebooks/Bimestre3/Validacion')"
      ],
      "metadata": {
        "id": "56FK2Ql5ptFV"
      },
      "execution_count": 102,
      "outputs": []
    },
    {
      "cell_type": "markdown",
      "source": [
        "##Evaluación del modelo"
      ],
      "metadata": {
        "id": "2kced6c9szbr"
      }
    },
    {
      "cell_type": "code",
      "source": [
        "#Evaluación de métricas.\n",
        "metricas_validacion = printmetricas(Y_validacion, y_pred_validacion, df_pred, 'Validacion')"
      ],
      "metadata": {
        "id": "bwKJe4T4qJOx",
        "colab": {
          "base_uri": "https://localhost:8080/"
        },
        "outputId": "db4d18d0-7527-425f-a81a-9b97275acc14"
      },
      "execution_count": 103,
      "outputs": [
        {
          "output_type": "stream",
          "name": "stdout",
          "text": [
            "---------- Test: Accuracy ----------\n",
            "0.8796500123670542\n",
            "---------- Test: Recall ----------\n",
            "0.8059964726631393\n",
            "---------- Test: Precision ----------\n",
            "0.023069156991418475\n",
            "--------- Confusion Matrix ---------\n",
            "[[141800  19353]\n",
            " [   110    457]]\n",
            "-------------------------------\n",
            "Máximo posible de Ganancia:  1218300\n",
            "Total de Ganancia Real:  304000\n"
          ]
        }
      ]
    },
    {
      "cell_type": "code",
      "source": [
        "#Evaluación de la curva ROC.\n",
        "metricas_validacion = plotCurvaRoc(Y_validacion, y_probability_validacion, 'Regresion Logistica CV 201305', metricas_validacion)"
      ],
      "metadata": {
        "id": "Mq59JT2SqaIA",
        "colab": {
          "base_uri": "https://localhost:8080/",
          "height": 656
        },
        "outputId": "5eb028aa-f989-4833-fd26-55aa37f98111"
      },
      "execution_count": 104,
      "outputs": [
        {
          "output_type": "stream",
          "name": "stdout",
          "text": [
            "--------- Curva ROC Score ---------\n",
            "0.9110500782659124\n"
          ]
        },
        {
          "output_type": "display_data",
          "data": {
            "text/plain": [
              "<Figure size 720x720 with 1 Axes>"
            ],
            "image/png": "[encoded data removed]"
          },
          "metadata": {
            "needs_background": "light"
          }
        }
      ]
    },
    {
      "cell_type": "code",
      "source": [
        "metricas_validacion"
      ],
      "metadata": {
        "colab": {
          "base_uri": "https://localhost:8080/"
        },
        "id": "WionAVgIqrOK",
        "outputId": "667c02f8-d37c-4ea9-fb76-51ff14a2d5ce"
      },
      "execution_count": 105,
      "outputs": [
        {
          "output_type": "execute_result",
          "data": {
            "text/plain": [
              "{'Algoritmo': 'Validacion',\n",
              " 'Accuracy': 0.8796500123670542,\n",
              " 'Recall': 0.8059964726631393,\n",
              " 'Precision': 0.023069156991418475,\n",
              " 'True Positive': 141800,\n",
              " 'False Positive': 19353,\n",
              " 'False Negative': 110,\n",
              " 'True Negative': 457,\n",
              " 'Predict Max': 1218300,\n",
              " 'Predict Sum': 304000,\n",
              " 'Proba de Corte': 0.848,\n",
              " 'ROC': 0.9110500782659124}"
            ]
          },
          "metadata": {},
          "execution_count": 105
        }
      ]
    },
    {
      "cell_type": "code",
      "source": [
        "df_conclusion = pd.DataFrame([metricas_regresionlogCV, metricas_validacion])\n",
        "df_conclusion.sort_values(by = ['Predict Max'], ascending = False)"
      ],
      "metadata": {
        "colab": {
          "base_uri": "https://localhost:8080/",
          "height": 191
        },
        "id": "1SHs4L9qsbIV",
        "outputId": "0398853b-a8b0-4490-e12f-e2f3b160fda0"
      },
      "execution_count": 106,
      "outputs": [
        {
          "output_type": "execute_result",
          "data": {
            "text/plain": [
              "                Algoritmo  Accuracy    Recall  Precision  True Positive  \\\n",
              "1              Validacion  0.879650  0.805996   0.023069         141800   \n",
              "0  Regresion Logistica CV  0.871197  0.797814   0.024460          39490   \n",
              "\n",
              "   False Positive  False Negative  True Negative  Predict Max  Predict Sum  \\\n",
              "1           19353             110            457      1218300       304000   \n",
              "0            5823              37            146       379200       133100   \n",
              "\n",
              "   Proba de Corte       ROC  \n",
              "1           0.848  0.911050  \n",
              "0           0.794  0.908781  "
            ],
            "text/html": [
              "\n",
              "  <div id=\"df-78870dcb-10eb-42ba-acd4-6f91cbcecfb9\">\n",
              "    <div class=\"colab-df-container\">\n",
              "      <div>\n",
              "<style scoped>\n",
              "    .dataframe tbody tr th:only-of-type {\n",
              "        vertical-align: middle;\n",
              "    }\n",
              "\n",
              "    .dataframe tbody tr th {\n",
              "        vertical-align: top;\n",
              "    }\n",
              "\n",
              "    .dataframe thead th {\n",
              "        text-align: right;\n",
              "    }\n",
              "</style>\n",
              "<table border=\"1\" class=\"dataframe\">\n",
              "  <thead>\n",
              "    <tr style=\"text-align: right;\">\n",
              "      <th></th>\n",
              "      <th>Algoritmo</th>\n",
              "      <th>Accuracy</th>\n",
              "      <th>Recall</th>\n",
              "      <th>Precision</th>\n",
              "      <th>True Positive</th>\n",
              "      <th>False Positive</th>\n",
              "      <th>False Negative</th>\n",
              "      <th>True Negative</th>\n",
              "      <th>Predict Max</th>\n",
              "      <th>Predict Sum</th>\n",
              "      <th>Proba de Corte</th>\n",
              "      <th>ROC</th>\n",
              "    </tr>\n",
              "  </thead>\n",
              "  <tbody>\n",
              "    <tr>\n",
              "      <th>1</th>\n",
              "      <td>Validacion</td>\n",
              "      <td>0.879650</td>\n",
              "      <td>0.805996</td>\n",
              "      <td>0.023069</td>\n",
              "      <td>141800</td>\n",
              "      <td>19353</td>\n",
              "      <td>110</td>\n",
              "      <td>457</td>\n",
              "      <td>1218300</td>\n",
              "      <td>304000</td>\n",
              "      <td>0.848</td>\n",
              "      <td>0.911050</td>\n",
              "    </tr>\n",
              "    <tr>\n",
              "      <th>0</th>\n",
              "      <td>Regresion Logistica CV</td>\n",
              "      <td>0.871197</td>\n",
              "      <td>0.797814</td>\n",
              "      <td>0.024460</td>\n",
              "      <td>39490</td>\n",
              "      <td>5823</td>\n",
              "      <td>37</td>\n",
              "      <td>146</td>\n",
              "      <td>379200</td>\n",
              "      <td>133100</td>\n",
              "      <td>0.794</td>\n",
              "      <td>0.908781</td>\n",
              "    </tr>\n",
              "  </tbody>\n",
              "</table>\n",
              "</div>\n",
              "      <button class=\"colab-df-convert\" onclick=\"convertToInteractive('df-78870dcb-10eb-42ba-acd4-6f91cbcecfb9')\"\n",
              "              title=\"Convert this dataframe to an interactive table.\"\n",
              "              style=\"display:none;\">\n",
              "        \n",
              "  <svg xmlns=\"http://www.w3.org/2000/svg\" height=\"24px\"viewBox=\"0 0 24 24\"\n",
              "       width=\"24px\">\n",
              "    <path d=\"M0 0h24v24H0V0z\" fill=\"none\"/>\n",
              "    <path d=\"M18.56 5.44l.94 2.06.94-2.06 2.06-.94-2.06-.94-.94-2.06-.94 2.06-2.06.94zm-11 1L8.5 8.5l.94-2.06 2.06-.94-2.06-.94L8.5 2.5l-.94 2.06-2.06.94zm10 10l.94 2.06.94-2.06 2.06-.94-2.06-.94-.94-2.06-.94 2.06-2.06.94z\"/><path d=\"M17.41 7.96l-1.37-1.37c-.4-.4-.92-.59-1.43-.59-.52 0-1.04.2-1.43.59L10.3 9.45l-7.72 7.72c-.78.78-.78 2.05 0 2.83L4 21.41c.39.39.9.59 1.41.59.51 0 1.02-.2 1.41-.59l7.78-7.78 2.81-2.81c.8-.78.8-2.07 0-2.86zM5.41 20L4 18.59l7.72-7.72 1.47 1.35L5.41 20z\"/>\n",
              "  </svg>\n",
              "      </button>\n",
              "      \n",
              "  <style>\n",
              "    .colab-df-container {\n",
              "      display:flex;\n",
              "      flex-wrap:wrap;\n",
              "      gap: 12px;\n",
              "    }\n",
              "\n",
              "    .colab-df-convert {\n",
              "      background-color: #E8F0FE;\n",
              "      border: none;\n",
              "      border-radius: 50%;\n",
              "      cursor: pointer;\n",
              "      display: none;\n",
              "      fill: #1967D2;\n",
              "      height: 32px;\n",
              "      padding: 0 0 0 0;\n",
              "      width: 32px;\n",
              "    }\n",
              "\n",
              "    .colab-df-convert:hover {\n",
              "      background-color: #E2EBFA;\n",
              "      box-shadow: 0px 1px 2px rgba(60, 64, 67, 0.3), 0px 1px 3px 1px rgba(60, 64, 67, 0.15);\n",
              "      fill: #174EA6;\n",
              "    }\n",
              "\n",
              "    [theme=dark] .colab-df-convert {\n",
              "      background-color: #3B4455;\n",
              "      fill: #D2E3FC;\n",
              "    }\n",
              "\n",
              "    [theme=dark] .colab-df-convert:hover {\n",
              "      background-color: #434B5C;\n",
              "      box-shadow: 0px 1px 3px 1px rgba(0, 0, 0, 0.15);\n",
              "      filter: drop-shadow(0px 1px 2px rgba(0, 0, 0, 0.3));\n",
              "      fill: #FFFFFF;\n",
              "    }\n",
              "  </style>\n",
              "\n",
              "      <script>\n",
              "        const buttonEl =\n",
              "          document.querySelector('#df-78870dcb-10eb-42ba-acd4-6f91cbcecfb9 button.colab-df-convert');\n",
              "        buttonEl.style.display =\n",
              "          google.colab.kernel.accessAllowed ? 'block' : 'none';\n",
              "\n",
              "        async function convertToInteractive(key) {\n",
              "          const element = document.querySelector('#df-78870dcb-10eb-42ba-acd4-6f91cbcecfb9');\n",
              "          const dataTable =\n",
              "            await google.colab.kernel.invokeFunction('convertToInteractive',\n",
              "                                                     [key], {});\n",
              "          if (!dataTable) return;\n",
              "\n",
              "          const docLinkHtml = 'Like what you see? Visit the ' +\n",
              "            '<a target=\"_blank\" href=https://colab.research.google.com/notebooks/data_table.ipynb>data table notebook</a>'\n",
              "            + ' to learn more about interactive tables.';\n",
              "          element.innerHTML = '';\n",
              "          dataTable['output_type'] = 'display_data';\n",
              "          await google.colab.output.renderOutput(dataTable, element);\n",
              "          const docLink = document.createElement('div');\n",
              "          docLink.innerHTML = docLinkHtml;\n",
              "          element.appendChild(docLink);\n",
              "        }\n",
              "      </script>\n",
              "    </div>\n",
              "  </div>\n",
              "  "
            ]
          },
          "metadata": {},
          "execution_count": 106
        }
      ]
    },
    {
      "cell_type": "markdown",
      "source": [
        "-----"
      ],
      "metadata": {
        "id": "MTDARNjVs5jE"
      }
    },
    {
      "cell_type": "markdown",
      "metadata": {
        "id": "4LscEZdzzQQi"
      },
      "source": [
        "#Conclusiones\n",
        "\n",
        "Recibimos una solicitud de Banco Camila para desarrollar un modelo predictivo que estime, en base a diferentes variables financieras y crediticias, la probabilidad de que un cliente solicite la baja dentro de los próximos dos meses respecto del momento del análisis.\n",
        "\n",
        "Para resolver esta problemática, entrenamos ocho modelos predictivos de clasificación diferentes con los datos proporcionados por el banco, para identificar aquellos clientes que deberían recibir el paquete de beneficios en el corto plazo.\n",
        "\n",
        "El modelo que maximiza la ganancia respetando la predicción de potencial baja para un cliente fue la **Regresión Logística CV**. Con este modelo todos aquellos clientes que presenten una probabilidad mayor o igual a 0.794 de ser clase 1 (potencial baja) serán foco de esta acción de retención. \n",
        "\n",
        "La validación de este modelo determinó una probabilidad de corte de 0.848, lo cual representa sólo una diferencia del 0.054 de probabilidad. Por lo tanto, nos encontramos en condiciones de optar definitivamente por la Regresión Logística CV.\n",
        "\n"
      ]
    },
    {
      "cell_type": "markdown",
      "source": [
        "---------"
      ],
      "metadata": {
        "id": "qsNdyHzNs7Z6"
      }
    },
    {
      "cell_type": "markdown",
      "metadata": {
        "id": "9dqx6fHQbojX"
      },
      "source": [
        "#Predicción del mes de interés\n",
        "\n",
        "Finalmente, procederemos a utilizar el modelo escogido para evaluar a los clientes activos en Abril de 2014 (201404) y estimar su potencial de baja para el mes de Junio de 2014."
      ]
    },
    {
      "cell_type": "markdown",
      "source": [
        "##Carga de datos"
      ],
      "metadata": {
        "id": "vhJ-yBMsxMIb"
      }
    },
    {
      "cell_type": "code",
      "source": [
        "df_prediccion = pd.read_parquet('/content/drive/MyDrive/Colab Notebooks/Bimestre3/MES_201404.parquet')\n"
      ],
      "metadata": {
        "id": "ZDOaFqNEaurU"
      },
      "execution_count": 107,
      "outputs": []
    },
    {
      "cell_type": "markdown",
      "source": [
        "##Limpieza y transformación"
      ],
      "metadata": {
        "id": "xiBY2XyHxV3F"
      }
    },
    {
      "cell_type": "code",
      "source": [
        "df_prediccion = df_prediccion[variables_mandatorias]\n",
        "df_prediccion"
      ],
      "metadata": {
        "colab": {
          "base_uri": "https://localhost:8080/",
          "height": 488
        },
        "id": "Xx0zM2MvazT2",
        "outputId": "375b4b4c-775e-43e5-d67f-4775601b9755"
      },
      "execution_count": 108,
      "outputs": [
        {
          "output_type": "execute_result",
          "data": {
            "text/plain": [
              "         numero_de_cliente  cliente_vip  cliente_sucursal  cliente_edad  \\\n",
              "7                     3333            0               455             0   \n",
              "8                     3333            0               455             0   \n",
              "24                 5609788            0               224            62   \n",
              "40                 5609981            0               227            65   \n",
              "56                 5610023            0               536            41   \n",
              "...                    ...          ...               ...           ...   \n",
              "2694625           48914938            0               161            41   \n",
              "2694626           48915521            0              1457            59   \n",
              "2694627           48922297            0                 2            61   \n",
              "2694628           48926901            0               497            22   \n",
              "2694629           48928344            0               479            39   \n",
              "\n",
              "         cliente_antiguedad  mrentabilidad  mrentabilidad_annual  \\\n",
              "7                         0    -1351755.68         -1.069960e+07   \n",
              "8                         0     2451895.62         -1.524554e+08   \n",
              "24                      239         -83.11          8.931040e+03   \n",
              "40                      198         379.81          4.411550e+03   \n",
              "56                       93         491.06          6.913570e+03   \n",
              "...                     ...            ...                   ...   \n",
              "2694625                   1           0.00          0.000000e+00   \n",
              "2694626                   1          33.71          3.371000e+01   \n",
              "2694627                   1          15.97          1.597000e+01   \n",
              "2694628                   1           0.00          0.000000e+00   \n",
              "2694629                   1           0.00          0.000000e+00   \n",
              "\n",
              "         marketing_coss_selling tpaquete2 tpaquete4  ... Visa_fultimo_cierre  \\\n",
              "7                             0         N         N  ...                   .   \n",
              "8                             0         N         N  ...                   .   \n",
              "24                            9         N         N  ...            20140430   \n",
              "40                            9         N         N  ...            20140430   \n",
              "56                            9         N         N  ...            20140430   \n",
              "...                         ...       ...       ...  ...                 ...   \n",
              "2694625                       1         N         N  ...                   .   \n",
              "2694626                       6         N         N  ...            20140430   \n",
              "2694627                       7         N         N  ...            20140424   \n",
              "2694628                       4         N         N  ...                   .   \n",
              "2694629                       4         N         N  ...                   .   \n",
              "\n",
              "        Visa_mpagado Visa_mpagospesos Visa_mpagosdolares Visa_fechaalta  \\\n",
              "7                  .                .                  .              .   \n",
              "8                  .                .                  .              .   \n",
              "24                 0         -5412.65                  0       19970317   \n",
              "40                 0         -8795.27                  0       20010308   \n",
              "56                 0         -6901.64                  0       20060802   \n",
              "...              ...              ...                ...            ...   \n",
              "2694625            .                .                  .              .   \n",
              "2694626            0                .                  .       20140424   \n",
              "2694627            0                .                  .       20140421   \n",
              "2694628            .                .                  .              .   \n",
              "2694629            .                .                  .              .   \n",
              "\n",
              "         Visa_mconsumototal  Visa_tconsumos Visa_tadelantosefectivo  \\\n",
              "7                         .               S                       S   \n",
              "8                         .               S                       S   \n",
              "24                    266.8               S                       N   \n",
              "40                   776.88               S                       N   \n",
              "56                    708.2               S                       N   \n",
              "...                     ...             ...                     ...   \n",
              "2694625                   .               S                       S   \n",
              "2694626                   .               S                       S   \n",
              "2694627                   .               S                       S   \n",
              "2694628                   .               S                       S   \n",
              "2694629                   .               S                       S   \n",
              "\n",
              "         Visa_mpagominimo  foto_mes  \n",
              "7                       .    201404  \n",
              "8                       .    201404  \n",
              "24                 3954.6    201404  \n",
              "40                      0    201404  \n",
              "56                 3077.1    201404  \n",
              "...                   ...       ...  \n",
              "2694625                 .    201404  \n",
              "2694626                 0    201404  \n",
              "2694627                 0    201404  \n",
              "2694628                 .    201404  \n",
              "2694629                 .    201404  \n",
              "\n",
              "[184541 rows x 146 columns]"
            ],
            "text/html": [
              "\n",
              "  <div id=\"df-81cb6a9a-2077-43f4-94b2-0ee9cadecdc7\">\n",
              "    <div class=\"colab-df-container\">\n",
              "      <div>\n",
              "<style scoped>\n",
              "    .dataframe tbody tr th:only-of-type {\n",
              "        vertical-align: middle;\n",
              "    }\n",
              "\n",
              "    .dataframe tbody tr th {\n",
              "        vertical-align: top;\n",
              "    }\n",
              "\n",
              "    .dataframe thead th {\n",
              "        text-align: right;\n",
              "    }\n",
              "</style>\n",
              "<table border=\"1\" class=\"dataframe\">\n",
              "  <thead>\n",
              "    <tr style=\"text-align: right;\">\n",
              "      <th></th>\n",
              "      <th>numero_de_cliente</th>\n",
              "      <th>cliente_vip</th>\n",
              "      <th>cliente_sucursal</th>\n",
              "      <th>cliente_edad</th>\n",
              "      <th>cliente_antiguedad</th>\n",
              "      <th>mrentabilidad</th>\n",
              "      <th>mrentabilidad_annual</th>\n",
              "      <th>marketing_coss_selling</th>\n",
              "      <th>tpaquete2</th>\n",
              "      <th>tpaquete4</th>\n",
              "      <th>...</th>\n",
              "      <th>Visa_fultimo_cierre</th>\n",
              "      <th>Visa_mpagado</th>\n",
              "      <th>Visa_mpagospesos</th>\n",
              "      <th>Visa_mpagosdolares</th>\n",
              "      <th>Visa_fechaalta</th>\n",
              "      <th>Visa_mconsumototal</th>\n",
              "      <th>Visa_tconsumos</th>\n",
              "      <th>Visa_tadelantosefectivo</th>\n",
              "      <th>Visa_mpagominimo</th>\n",
              "      <th>foto_mes</th>\n",
              "    </tr>\n",
              "  </thead>\n",
              "  <tbody>\n",
              "    <tr>\n",
              "      <th>7</th>\n",
              "      <td>3333</td>\n",
              "      <td>0</td>\n",
              "      <td>455</td>\n",
              "      <td>0</td>\n",
              "      <td>0</td>\n",
              "      <td>-1351755.68</td>\n",
              "      <td>-1.069960e+07</td>\n",
              "      <td>0</td>\n",
              "      <td>N</td>\n",
              "      <td>N</td>\n",
              "      <td>...</td>\n",
              "      <td>.</td>\n",
              "      <td>.</td>\n",
              "      <td>.</td>\n",
              "      <td>.</td>\n",
              "      <td>.</td>\n",
              "      <td>.</td>\n",
              "      <td>S</td>\n",
              "      <td>S</td>\n",
              "      <td>.</td>\n",
              "      <td>201404</td>\n",
              "    </tr>\n",
              "    <tr>\n",
              "      <th>8</th>\n",
              "      <td>3333</td>\n",
              "      <td>0</td>\n",
              "      <td>455</td>\n",
              "      <td>0</td>\n",
              "      <td>0</td>\n",
              "      <td>2451895.62</td>\n",
              "      <td>-1.524554e+08</td>\n",
              "      <td>0</td>\n",
              "      <td>N</td>\n",
              "      <td>N</td>\n",
              "      <td>...</td>\n",
              "      <td>.</td>\n",
              "      <td>.</td>\n",
              "      <td>.</td>\n",
              "      <td>.</td>\n",
              "      <td>.</td>\n",
              "      <td>.</td>\n",
              "      <td>S</td>\n",
              "      <td>S</td>\n",
              "      <td>.</td>\n",
              "      <td>201404</td>\n",
              "    </tr>\n",
              "    <tr>\n",
              "      <th>24</th>\n",
              "      <td>5609788</td>\n",
              "      <td>0</td>\n",
              "      <td>224</td>\n",
              "      <td>62</td>\n",
              "      <td>239</td>\n",
              "      <td>-83.11</td>\n",
              "      <td>8.931040e+03</td>\n",
              "      <td>9</td>\n",
              "      <td>N</td>\n",
              "      <td>N</td>\n",
              "      <td>...</td>\n",
              "      <td>20140430</td>\n",
              "      <td>0</td>\n",
              "      <td>-5412.65</td>\n",
              "      <td>0</td>\n",
              "      <td>19970317</td>\n",
              "      <td>266.8</td>\n",
              "      <td>S</td>\n",
              "      <td>N</td>\n",
              "      <td>3954.6</td>\n",
              "      <td>201404</td>\n",
              "    </tr>\n",
              "    <tr>\n",
              "      <th>40</th>\n",
              "      <td>5609981</td>\n",
              "      <td>0</td>\n",
              "      <td>227</td>\n",
              "      <td>65</td>\n",
              "      <td>198</td>\n",
              "      <td>379.81</td>\n",
              "      <td>4.411550e+03</td>\n",
              "      <td>9</td>\n",
              "      <td>N</td>\n",
              "      <td>N</td>\n",
              "      <td>...</td>\n",
              "      <td>20140430</td>\n",
              "      <td>0</td>\n",
              "      <td>-8795.27</td>\n",
              "      <td>0</td>\n",
              "      <td>20010308</td>\n",
              "      <td>776.88</td>\n",
              "      <td>S</td>\n",
              "      <td>N</td>\n",
              "      <td>0</td>\n",
              "      <td>201404</td>\n",
              "    </tr>\n",
              "    <tr>\n",
              "      <th>56</th>\n",
              "      <td>5610023</td>\n",
              "      <td>0</td>\n",
              "      <td>536</td>\n",
              "      <td>41</td>\n",
              "      <td>93</td>\n",
              "      <td>491.06</td>\n",
              "      <td>6.913570e+03</td>\n",
              "      <td>9</td>\n",
              "      <td>N</td>\n",
              "      <td>N</td>\n",
              "      <td>...</td>\n",
              "      <td>20140430</td>\n",
              "      <td>0</td>\n",
              "      <td>-6901.64</td>\n",
              "      <td>0</td>\n",
              "      <td>20060802</td>\n",
              "      <td>708.2</td>\n",
              "      <td>S</td>\n",
              "      <td>N</td>\n",
              "      <td>3077.1</td>\n",
              "      <td>201404</td>\n",
              "    </tr>\n",
              "    <tr>\n",
              "      <th>...</th>\n",
              "      <td>...</td>\n",
              "      <td>...</td>\n",
              "      <td>...</td>\n",
              "      <td>...</td>\n",
              "      <td>...</td>\n",
              "      <td>...</td>\n",
              "      <td>...</td>\n",
              "      <td>...</td>\n",
              "      <td>...</td>\n",
              "      <td>...</td>\n",
              "      <td>...</td>\n",
              "      <td>...</td>\n",
              "      <td>...</td>\n",
              "      <td>...</td>\n",
              "      <td>...</td>\n",
              "      <td>...</td>\n",
              "      <td>...</td>\n",
              "      <td>...</td>\n",
              "      <td>...</td>\n",
              "      <td>...</td>\n",
              "      <td>...</td>\n",
              "    </tr>\n",
              "    <tr>\n",
              "      <th>2694625</th>\n",
              "      <td>48914938</td>\n",
              "      <td>0</td>\n",
              "      <td>161</td>\n",
              "      <td>41</td>\n",
              "      <td>1</td>\n",
              "      <td>0.00</td>\n",
              "      <td>0.000000e+00</td>\n",
              "      <td>1</td>\n",
              "      <td>N</td>\n",
              "      <td>N</td>\n",
              "      <td>...</td>\n",
              "      <td>.</td>\n",
              "      <td>.</td>\n",
              "      <td>.</td>\n",
              "      <td>.</td>\n",
              "      <td>.</td>\n",
              "      <td>.</td>\n",
              "      <td>S</td>\n",
              "      <td>S</td>\n",
              "      <td>.</td>\n",
              "      <td>201404</td>\n",
              "    </tr>\n",
              "    <tr>\n",
              "      <th>2694626</th>\n",
              "      <td>48915521</td>\n",
              "      <td>0</td>\n",
              "      <td>1457</td>\n",
              "      <td>59</td>\n",
              "      <td>1</td>\n",
              "      <td>33.71</td>\n",
              "      <td>3.371000e+01</td>\n",
              "      <td>6</td>\n",
              "      <td>N</td>\n",
              "      <td>N</td>\n",
              "      <td>...</td>\n",
              "      <td>20140430</td>\n",
              "      <td>0</td>\n",
              "      <td>.</td>\n",
              "      <td>.</td>\n",
              "      <td>20140424</td>\n",
              "      <td>.</td>\n",
              "      <td>S</td>\n",
              "      <td>S</td>\n",
              "      <td>0</td>\n",
              "      <td>201404</td>\n",
              "    </tr>\n",
              "    <tr>\n",
              "      <th>2694627</th>\n",
              "      <td>48922297</td>\n",
              "      <td>0</td>\n",
              "      <td>2</td>\n",
              "      <td>61</td>\n",
              "      <td>1</td>\n",
              "      <td>15.97</td>\n",
              "      <td>1.597000e+01</td>\n",
              "      <td>7</td>\n",
              "      <td>N</td>\n",
              "      <td>N</td>\n",
              "      <td>...</td>\n",
              "      <td>20140424</td>\n",
              "      <td>0</td>\n",
              "      <td>.</td>\n",
              "      <td>.</td>\n",
              "      <td>20140421</td>\n",
              "      <td>.</td>\n",
              "      <td>S</td>\n",
              "      <td>S</td>\n",
              "      <td>0</td>\n",
              "      <td>201404</td>\n",
              "    </tr>\n",
              "    <tr>\n",
              "      <th>2694628</th>\n",
              "      <td>48926901</td>\n",
              "      <td>0</td>\n",
              "      <td>497</td>\n",
              "      <td>22</td>\n",
              "      <td>1</td>\n",
              "      <td>0.00</td>\n",
              "      <td>0.000000e+00</td>\n",
              "      <td>4</td>\n",
              "      <td>N</td>\n",
              "      <td>N</td>\n",
              "      <td>...</td>\n",
              "      <td>.</td>\n",
              "      <td>.</td>\n",
              "      <td>.</td>\n",
              "      <td>.</td>\n",
              "      <td>.</td>\n",
              "      <td>.</td>\n",
              "      <td>S</td>\n",
              "      <td>S</td>\n",
              "      <td>.</td>\n",
              "      <td>201404</td>\n",
              "    </tr>\n",
              "    <tr>\n",
              "      <th>2694629</th>\n",
              "      <td>48928344</td>\n",
              "      <td>0</td>\n",
              "      <td>479</td>\n",
              "      <td>39</td>\n",
              "      <td>1</td>\n",
              "      <td>0.00</td>\n",
              "      <td>0.000000e+00</td>\n",
              "      <td>4</td>\n",
              "      <td>N</td>\n",
              "      <td>N</td>\n",
              "      <td>...</td>\n",
              "      <td>.</td>\n",
              "      <td>.</td>\n",
              "      <td>.</td>\n",
              "      <td>.</td>\n",
              "      <td>.</td>\n",
              "      <td>.</td>\n",
              "      <td>S</td>\n",
              "      <td>S</td>\n",
              "      <td>.</td>\n",
              "      <td>201404</td>\n",
              "    </tr>\n",
              "  </tbody>\n",
              "</table>\n",
              "<p>184541 rows × 146 columns</p>\n",
              "</div>\n",
              "      <button class=\"colab-df-convert\" onclick=\"convertToInteractive('df-81cb6a9a-2077-43f4-94b2-0ee9cadecdc7')\"\n",
              "              title=\"Convert this dataframe to an interactive table.\"\n",
              "              style=\"display:none;\">\n",
              "        \n",
              "  <svg xmlns=\"http://www.w3.org/2000/svg\" height=\"24px\"viewBox=\"0 0 24 24\"\n",
              "       width=\"24px\">\n",
              "    <path d=\"M0 0h24v24H0V0z\" fill=\"none\"/>\n",
              "    <path d=\"M18.56 5.44l.94 2.06.94-2.06 2.06-.94-2.06-.94-.94-2.06-.94 2.06-2.06.94zm-11 1L8.5 8.5l.94-2.06 2.06-.94-2.06-.94L8.5 2.5l-.94 2.06-2.06.94zm10 10l.94 2.06.94-2.06 2.06-.94-2.06-.94-.94-2.06-.94 2.06-2.06.94z\"/><path d=\"M17.41 7.96l-1.37-1.37c-.4-.4-.92-.59-1.43-.59-.52 0-1.04.2-1.43.59L10.3 9.45l-7.72 7.72c-.78.78-.78 2.05 0 2.83L4 21.41c.39.39.9.59 1.41.59.51 0 1.02-.2 1.41-.59l7.78-7.78 2.81-2.81c.8-.78.8-2.07 0-2.86zM5.41 20L4 18.59l7.72-7.72 1.47 1.35L5.41 20z\"/>\n",
              "  </svg>\n",
              "      </button>\n",
              "      \n",
              "  <style>\n",
              "    .colab-df-container {\n",
              "      display:flex;\n",
              "      flex-wrap:wrap;\n",
              "      gap: 12px;\n",
              "    }\n",
              "\n",
              "    .colab-df-convert {\n",
              "      background-color: #E8F0FE;\n",
              "      border: none;\n",
              "      border-radius: 50%;\n",
              "      cursor: pointer;\n",
              "      display: none;\n",
              "      fill: #1967D2;\n",
              "      height: 32px;\n",
              "      padding: 0 0 0 0;\n",
              "      width: 32px;\n",
              "    }\n",
              "\n",
              "    .colab-df-convert:hover {\n",
              "      background-color: #E2EBFA;\n",
              "      box-shadow: 0px 1px 2px rgba(60, 64, 67, 0.3), 0px 1px 3px 1px rgba(60, 64, 67, 0.15);\n",
              "      fill: #174EA6;\n",
              "    }\n",
              "\n",
              "    [theme=dark] .colab-df-convert {\n",
              "      background-color: #3B4455;\n",
              "      fill: #D2E3FC;\n",
              "    }\n",
              "\n",
              "    [theme=dark] .colab-df-convert:hover {\n",
              "      background-color: #434B5C;\n",
              "      box-shadow: 0px 1px 3px 1px rgba(0, 0, 0, 0.15);\n",
              "      filter: drop-shadow(0px 1px 2px rgba(0, 0, 0, 0.3));\n",
              "      fill: #FFFFFF;\n",
              "    }\n",
              "  </style>\n",
              "\n",
              "      <script>\n",
              "        const buttonEl =\n",
              "          document.querySelector('#df-81cb6a9a-2077-43f4-94b2-0ee9cadecdc7 button.colab-df-convert');\n",
              "        buttonEl.style.display =\n",
              "          google.colab.kernel.accessAllowed ? 'block' : 'none';\n",
              "\n",
              "        async function convertToInteractive(key) {\n",
              "          const element = document.querySelector('#df-81cb6a9a-2077-43f4-94b2-0ee9cadecdc7');\n",
              "          const dataTable =\n",
              "            await google.colab.kernel.invokeFunction('convertToInteractive',\n",
              "                                                     [key], {});\n",
              "          if (!dataTable) return;\n",
              "\n",
              "          const docLinkHtml = 'Like what you see? Visit the ' +\n",
              "            '<a target=\"_blank\" href=https://colab.research.google.com/notebooks/data_table.ipynb>data table notebook</a>'\n",
              "            + ' to learn more about interactive tables.';\n",
              "          element.innerHTML = '';\n",
              "          dataTable['output_type'] = 'display_data';\n",
              "          await google.colab.output.renderOutput(dataTable, element);\n",
              "          const docLink = document.createElement('div');\n",
              "          docLink.innerHTML = docLinkHtml;\n",
              "          element.appendChild(docLink);\n",
              "        }\n",
              "      </script>\n",
              "    </div>\n",
              "  </div>\n",
              "  "
            ]
          },
          "metadata": {},
          "execution_count": 108
        }
      ]
    },
    {
      "cell_type": "code",
      "source": [
        "#Análisis de duplicados.\n",
        "df_prediccion_T = df_prediccion.groupby(['numero_de_cliente','foto_mes'])['numero_de_cliente'].count().reset_index(name='count')  \n",
        "df_prediccion_T[df_prediccion_T['count']>1]"
      ],
      "metadata": {
        "colab": {
          "base_uri": "https://localhost:8080/",
          "height": 81
        },
        "id": "ovPHLmTFa5Nd",
        "outputId": "74fa1be4-dede-4f85-ea08-76d0fc991b6a"
      },
      "execution_count": 109,
      "outputs": [
        {
          "output_type": "execute_result",
          "data": {
            "text/plain": [
              "   numero_de_cliente  foto_mes  count\n",
              "0               3333    201404      2"
            ],
            "text/html": [
              "\n",
              "  <div id=\"df-0b45a738-43d9-4f7d-8ef3-cd8ec6d910ab\">\n",
              "    <div class=\"colab-df-container\">\n",
              "      <div>\n",
              "<style scoped>\n",
              "    .dataframe tbody tr th:only-of-type {\n",
              "        vertical-align: middle;\n",
              "    }\n",
              "\n",
              "    .dataframe tbody tr th {\n",
              "        vertical-align: top;\n",
              "    }\n",
              "\n",
              "    .dataframe thead th {\n",
              "        text-align: right;\n",
              "    }\n",
              "</style>\n",
              "<table border=\"1\" class=\"dataframe\">\n",
              "  <thead>\n",
              "    <tr style=\"text-align: right;\">\n",
              "      <th></th>\n",
              "      <th>numero_de_cliente</th>\n",
              "      <th>foto_mes</th>\n",
              "      <th>count</th>\n",
              "    </tr>\n",
              "  </thead>\n",
              "  <tbody>\n",
              "    <tr>\n",
              "      <th>0</th>\n",
              "      <td>3333</td>\n",
              "      <td>201404</td>\n",
              "      <td>2</td>\n",
              "    </tr>\n",
              "  </tbody>\n",
              "</table>\n",
              "</div>\n",
              "      <button class=\"colab-df-convert\" onclick=\"convertToInteractive('df-0b45a738-43d9-4f7d-8ef3-cd8ec6d910ab')\"\n",
              "              title=\"Convert this dataframe to an interactive table.\"\n",
              "              style=\"display:none;\">\n",
              "        \n",
              "  <svg xmlns=\"http://www.w3.org/2000/svg\" height=\"24px\"viewBox=\"0 0 24 24\"\n",
              "       width=\"24px\">\n",
              "    <path d=\"M0 0h24v24H0V0z\" fill=\"none\"/>\n",
              "    <path d=\"M18.56 5.44l.94 2.06.94-2.06 2.06-.94-2.06-.94-.94-2.06-.94 2.06-2.06.94zm-11 1L8.5 8.5l.94-2.06 2.06-.94-2.06-.94L8.5 2.5l-.94 2.06-2.06.94zm10 10l.94 2.06.94-2.06 2.06-.94-2.06-.94-.94-2.06-.94 2.06-2.06.94z\"/><path d=\"M17.41 7.96l-1.37-1.37c-.4-.4-.92-.59-1.43-.59-.52 0-1.04.2-1.43.59L10.3 9.45l-7.72 7.72c-.78.78-.78 2.05 0 2.83L4 21.41c.39.39.9.59 1.41.59.51 0 1.02-.2 1.41-.59l7.78-7.78 2.81-2.81c.8-.78.8-2.07 0-2.86zM5.41 20L4 18.59l7.72-7.72 1.47 1.35L5.41 20z\"/>\n",
              "  </svg>\n",
              "      </button>\n",
              "      \n",
              "  <style>\n",
              "    .colab-df-container {\n",
              "      display:flex;\n",
              "      flex-wrap:wrap;\n",
              "      gap: 12px;\n",
              "    }\n",
              "\n",
              "    .colab-df-convert {\n",
              "      background-color: #E8F0FE;\n",
              "      border: none;\n",
              "      border-radius: 50%;\n",
              "      cursor: pointer;\n",
              "      display: none;\n",
              "      fill: #1967D2;\n",
              "      height: 32px;\n",
              "      padding: 0 0 0 0;\n",
              "      width: 32px;\n",
              "    }\n",
              "\n",
              "    .colab-df-convert:hover {\n",
              "      background-color: #E2EBFA;\n",
              "      box-shadow: 0px 1px 2px rgba(60, 64, 67, 0.3), 0px 1px 3px 1px rgba(60, 64, 67, 0.15);\n",
              "      fill: #174EA6;\n",
              "    }\n",
              "\n",
              "    [theme=dark] .colab-df-convert {\n",
              "      background-color: #3B4455;\n",
              "      fill: #D2E3FC;\n",
              "    }\n",
              "\n",
              "    [theme=dark] .colab-df-convert:hover {\n",
              "      background-color: #434B5C;\n",
              "      box-shadow: 0px 1px 3px 1px rgba(0, 0, 0, 0.15);\n",
              "      filter: drop-shadow(0px 1px 2px rgba(0, 0, 0, 0.3));\n",
              "      fill: #FFFFFF;\n",
              "    }\n",
              "  </style>\n",
              "\n",
              "      <script>\n",
              "        const buttonEl =\n",
              "          document.querySelector('#df-0b45a738-43d9-4f7d-8ef3-cd8ec6d910ab button.colab-df-convert');\n",
              "        buttonEl.style.display =\n",
              "          google.colab.kernel.accessAllowed ? 'block' : 'none';\n",
              "\n",
              "        async function convertToInteractive(key) {\n",
              "          const element = document.querySelector('#df-0b45a738-43d9-4f7d-8ef3-cd8ec6d910ab');\n",
              "          const dataTable =\n",
              "            await google.colab.kernel.invokeFunction('convertToInteractive',\n",
              "                                                     [key], {});\n",
              "          if (!dataTable) return;\n",
              "\n",
              "          const docLinkHtml = 'Like what you see? Visit the ' +\n",
              "            '<a target=\"_blank\" href=https://colab.research.google.com/notebooks/data_table.ipynb>data table notebook</a>'\n",
              "            + ' to learn more about interactive tables.';\n",
              "          element.innerHTML = '';\n",
              "          dataTable['output_type'] = 'display_data';\n",
              "          await google.colab.output.renderOutput(dataTable, element);\n",
              "          const docLink = document.createElement('div');\n",
              "          docLink.innerHTML = docLinkHtml;\n",
              "          element.appendChild(docLink);\n",
              "        }\n",
              "      </script>\n",
              "    </div>\n",
              "  </div>\n",
              "  "
            ]
          },
          "metadata": {},
          "execution_count": 109
        }
      ]
    },
    {
      "cell_type": "code",
      "source": [
        "#Eliminación de duplicados.\n",
        "df_prediccion = df_prediccion[df_prediccion['numero_de_cliente'] != 3333]"
      ],
      "metadata": {
        "id": "s0n2-XPR0K7R"
      },
      "execution_count": 110,
      "outputs": []
    },
    {
      "cell_type": "code",
      "source": [
        "#Captura de ID de Cliente\n",
        "df_lista_clientes=pd.DataFrame(df_prediccion['numero_de_cliente'])"
      ],
      "metadata": {
        "id": "GOiFrMFFayu3"
      },
      "execution_count": 111,
      "outputs": []
    },
    {
      "cell_type": "code",
      "source": [
        "#Eliminación de columnas sin valor comercial.\n",
        "columnas_del = ['numero_de_cliente', 'Master_Fvencimiento', 'Master_fultimo_cierre', 'Master_fechaalta', 'Visa_Fvencimiento', 'Visa_fultimo_cierre', 'Visa_fechaalta', 'foto_mes']\n",
        "df_prediccion.drop(columns = columnas_del, axis = 1, inplace = True)\n",
        "df_prediccion.info(verbose = True)"
      ],
      "metadata": {
        "colab": {
          "base_uri": "https://localhost:8080/"
        },
        "id": "NWl88dUsbKxZ",
        "outputId": "3e890fb7-fc4b-41fb-92e6-d7a2be807a35"
      },
      "execution_count": 112,
      "outputs": [
        {
          "output_type": "stream",
          "name": "stdout",
          "text": [
            "<class 'pandas.core.frame.DataFrame'>\n",
            "Int64Index: 184539 entries, 24 to 2694629\n",
            "Data columns (total 138 columns):\n",
            " #    Column                            Dtype  \n",
            "---   ------                            -----  \n",
            " 0    cliente_vip                       int64  \n",
            " 1    cliente_sucursal                  int64  \n",
            " 2    cliente_edad                      int64  \n",
            " 3    cliente_antiguedad                int64  \n",
            " 4    mrentabilidad                     float64\n",
            " 5    mrentabilidad_annual              float64\n",
            " 6    marketing_coss_selling            int64  \n",
            " 7    tpaquete2                         object \n",
            " 8    tpaquete4                         object \n",
            " 9    tpaquete6                         object \n",
            " 10   tpaquete7                         object \n",
            " 11   tpaquete9                         object \n",
            " 12   tcuentas                          object \n",
            " 13   tcuenta_corriente                 object \n",
            " 14   mcuenta_corriente_Nopaquete       float64\n",
            " 15   mcuenta_corriente_Paquete         float64\n",
            " 16   tcaja_ahorro                      object \n",
            " 17   mcaja_ahorro_Paquete              float64\n",
            " 18   mcaja_ahorro_Nopaquete            float64\n",
            " 19   mcaja_ahorro_dolares              float64\n",
            " 20   mdescubierto_preacordado          float64\n",
            " 21   mcuentas_saldo                    float64\n",
            " 22   ttarjeta_debito                   object \n",
            " 23   ctarjeta_debito_transacciones     int64  \n",
            " 24   mautoservicio                     float64\n",
            " 25   ttarjeta_visa                     object \n",
            " 26   ctarjeta_visa_transacciones       int64  \n",
            " 27   mtarjeta_visa_consumo             float64\n",
            " 28   ttarjeta_master                   object \n",
            " 29   ctarjeta_master_transacciones     int64  \n",
            " 30   mtarjeta_master_consumo           float64\n",
            " 31   cprestamos_personales             int64  \n",
            " 32   mprestamos_personales             float64\n",
            " 33   cprestamos_prendarios             int64  \n",
            " 34   mprestamos_prendarios             float64\n",
            " 35   cprestamos_hipotecarios           int64  \n",
            " 36   mprestamos_hipotecarios           object \n",
            " 37   tplazo_fijo                       object \n",
            " 38   mplazo_fijo_dolares               float64\n",
            " 39   mplazo_fijo_pesos                 float64\n",
            " 40   tfondos_comunes_inversion         object \n",
            " 41   mfondos_comunes_inversion_pesos   float64\n",
            " 42   mfondos_comunes_inversion_dolare  float64\n",
            " 43   ttitulos                          object \n",
            " 44   mtitulos                          float64\n",
            " 45   tseguro_vida_mercado_abierto      object \n",
            " 46   tseguro_auto                      object \n",
            " 47   tseguro_vivienda                  object \n",
            " 48   tseguro_accidentes_personales     object \n",
            " 49   tcaja_seguridad                   object \n",
            " 50   mplan_sueldo_manual               float64\n",
            " 51   cplan_sueldo_transaccion          int64  \n",
            " 52   tcuenta_debitos_automaticos       object \n",
            " 53   mcuenta_debitos_automaticos       object \n",
            " 54   ttarjeta_visa_debitos_automatico  object \n",
            " 55   mttarjeta_visa_debitos_automatic  object \n",
            " 56   ttarjeta_master_debitos_automati  object \n",
            " 57   mttarjeta_master_debitos_automat  object \n",
            " 58   tpagodeservicios                  object \n",
            " 59   mpagodeservicios                  object \n",
            " 60   tpagomiscuentas                   object \n",
            " 61   mpagomiscuentas                   object \n",
            " 62   ccajeros_propios_descuentos       int64  \n",
            " 63   mcajeros_propios_descuentos       float64\n",
            " 64   ctarjeta_visa_descuentos          int64  \n",
            " 65   mtarjeta_visa_descuentos          object \n",
            " 66   ctarjeta_master_descuentos        int64  \n",
            " 67   mtarjeta_master_descuentos        object \n",
            " 68   ccomisiones_mantenimiento         int64  \n",
            " 69   mcomisiones_mantenimiento         float64\n",
            " 70   ccomisiones_otras                 int64  \n",
            " 71   mcomisiones_otras                 float64\n",
            " 72   tcambio_monedas                   object \n",
            " 73   ccambio_monedas_compra            int64  \n",
            " 74   mcambio_monedas_compra            float64\n",
            " 75   ccambio_monedas_venta             int64  \n",
            " 76   mcambio_monedas_venta             float64\n",
            " 77   ctransferencias_recibidas         int64  \n",
            " 78   mtransferencias_recibidas         float64\n",
            " 79   ctransferencias_emitidas          int64  \n",
            " 80   mtransferencias_emitidas          float64\n",
            " 81   cextraccion_autoservicio          int64  \n",
            " 82   mextraccion_autoservicio          float64\n",
            " 83   ccheques_depositados              int64  \n",
            " 84   mcheques_depositados              float64\n",
            " 85   ccheques_emitidos                 int64  \n",
            " 86   mcheques_emitidos                 float64\n",
            " 87   ccheques_depositados_rechazados   int64  \n",
            " 88   mcheques_depositados_rechazados   float64\n",
            " 89   ccheques_emitidos_rechazados      int64  \n",
            " 90   mcheques_emitidos_rechazados      float64\n",
            " 91   tcallcenter                       object \n",
            " 92   ccallcenter_transacciones         int64  \n",
            " 93   tcajas                            object \n",
            " 94   tcajas_depositos                  object \n",
            " 95   tcajas_extracciones               object \n",
            " 96   tcajas_otras                      object \n",
            " 97   ccajeros_propio_transacciones     int64  \n",
            " 98   mcajeros_propio                   float64\n",
            " 99   ccajeros_ajenos_transacciones     int64  \n",
            " 100  mcajeros_ajenos                   float64\n",
            " 101  tmovimientos_ultimos90dias        object \n",
            " 102  Master_marca_atraso               object \n",
            " 103  Master_cuenta_estado              object \n",
            " 104  Master_mfinanciacion_limite       object \n",
            " 105  Master_msaldototal                object \n",
            " 106  Master_msaldopesos                object \n",
            " 107  Master_msaldodolares              object \n",
            " 108  Master_mconsumospesos             object \n",
            " 109  Master_mconsumosdolares           object \n",
            " 110  Master_mlimitecompra              object \n",
            " 111  Master_madelantopesos             object \n",
            " 112  Master_madelantodolares           object \n",
            " 113  Master_mpagado                    object \n",
            " 114  Master_mpagospesos                object \n",
            " 115  Master_mpagosdolares              object \n",
            " 116  Master_mconsumototal              object \n",
            " 117  Master_tconsumos                  object \n",
            " 118  Master_tadelantosefectivo         object \n",
            " 119  Master_mpagominimo                object \n",
            " 120  Visa_marca_atraso                 object \n",
            " 121  Visa_cuenta_estado                object \n",
            " 122  Visa_mfinanciacion_limite         object \n",
            " 123  Visa_msaldototal                  object \n",
            " 124  Visa_msaldopesos                  object \n",
            " 125  Visa_msaldodolares                object \n",
            " 126  Visa_mconsumospesos               object \n",
            " 127  Visa_mconsumosdolares             object \n",
            " 128  Visa_mlimitecompra                object \n",
            " 129  Visa_madelantopesos               object \n",
            " 130  Visa_madelantodolares             object \n",
            " 131  Visa_mpagado                      object \n",
            " 132  Visa_mpagospesos                  object \n",
            " 133  Visa_mpagosdolares                object \n",
            " 134  Visa_mconsumototal                object \n",
            " 135  Visa_tconsumos                    object \n",
            " 136  Visa_tadelantosefectivo           object \n",
            " 137  Visa_mpagominimo                  object \n",
            "dtypes: float64(34), int64(29), object(75)\n",
            "memory usage: 195.7+ MB\n"
          ]
        }
      ]
    },
    {
      "cell_type": "code",
      "source": [
        "#Reemplazo de '.' por -1, y trasformación a tipo INT\n",
        "df_prediccion['Visa_marca_atraso'] = df_prediccion['Visa_marca_atraso'].replace('.', -1).astype(int)\n",
        "df_prediccion['Master_marca_atraso'] = df_prediccion['Master_marca_atraso'].replace('.', -1).astype(int)"
      ],
      "metadata": {
        "id": "kBl--0rWbR7P"
      },
      "execution_count": 113,
      "outputs": []
    },
    {
      "cell_type": "code",
      "source": [
        "#Reemplazo de '.' por 0, y transformación a tipo FLOAT\n",
        "columnas_float = ['mprestamos_hipotecarios', 'mcuenta_debitos_automaticos', 'mttarjeta_visa_debitos_automatic', 'mttarjeta_master_debitos_automat', 'mpagodeservicios',\n",
        "'mpagomiscuentas', 'mtarjeta_visa_descuentos', 'mtarjeta_master_descuentos', 'Master_mfinanciacion_limite', 'Master_msaldototal', 'Master_msaldopesos', 'Master_msaldodolares',\n",
        "'Master_mconsumospesos', 'Master_mconsumosdolares', 'Master_mlimitecompra', 'Master_madelantopesos', 'Master_madelantodolares', 'Master_mpagado', 'Master_mpagospesos', 'Master_mpagosdolares',\n",
        "'Master_mconsumototal', 'Master_mpagominimo', 'Visa_mfinanciacion_limite', 'Visa_msaldototal', 'Visa_msaldopesos', 'Visa_msaldodolares', 'Visa_mconsumospesos', 'Visa_mconsumosdolares', \n",
        "'Visa_mlimitecompra', 'Visa_madelantopesos', 'Visa_madelantodolares', 'Visa_mpagado', 'Visa_mpagospesos', 'Visa_mpagosdolares', 'Visa_mconsumototal', 'Visa_mpagominimo']\n",
        "\n",
        "for col in columnas_float:\n",
        "  df_prediccion[col] = df_prediccion[col].replace('.', 0).astype(float)"
      ],
      "metadata": {
        "id": "4Z2DocGybWXE"
      },
      "execution_count": 114,
      "outputs": []
    },
    {
      "cell_type": "code",
      "source": [
        "#Variables con más de dos posibles valores.\n",
        "df_prediccion = pd.get_dummies(df_prediccion, columns = ['Master_cuenta_estado', 'Visa_cuenta_estado'])"
      ],
      "metadata": {
        "id": "3bcD4m6bbaDD"
      },
      "execution_count": 115,
      "outputs": []
    },
    {
      "cell_type": "code",
      "source": [
        "#Variables con solo dos valores posibles.\n",
        "columnas_dummies = ['tpaquete2', 'tpaquete4', 'tpaquete6', 'tpaquete7', 'tpaquete9', 'tcuentas', 'tcuenta_corriente', 'tcaja_ahorro', 'ttarjeta_debito', 'ttarjeta_visa', \n",
        "'ttarjeta_master', 'tplazo_fijo', 'tfondos_comunes_inversion', 'ttitulos', 'tseguro_vida_mercado_abierto', 'tseguro_auto', 'tseguro_vivienda', 'tseguro_accidentes_personales', \n",
        "'tcaja_seguridad',  'tcuenta_debitos_automaticos', 'ttarjeta_visa_debitos_automatico', 'ttarjeta_master_debitos_automati', 'tpagodeservicios','tpagomiscuentas', 'tcambio_monedas', \n",
        "'tcallcenter',  'tcajas', 'tcajas_depositos', 'tcajas_extracciones', 'tcajas_otras', 'tmovimientos_ultimos90dias', 'Master_tconsumos', 'Master_tadelantosefectivo', \n",
        "'Visa_tconsumos', 'Visa_tadelantosefectivo']\n",
        "\n",
        "df_prediccion = pd.get_dummies(df_prediccion, columns = columnas_dummies, drop_first = True)\n",
        "df_prediccion.info(verbose = True)"
      ],
      "metadata": {
        "colab": {
          "base_uri": "https://localhost:8080/"
        },
        "id": "_lrEEXZ0bfPj",
        "outputId": "436b3d62-1e74-45f1-e1d5-b4cb135e37c6"
      },
      "execution_count": 116,
      "outputs": [
        {
          "output_type": "stream",
          "name": "stdout",
          "text": [
            "<class 'pandas.core.frame.DataFrame'>\n",
            "Int64Index: 184539 entries, 24 to 2694629\n",
            "Data columns (total 146 columns):\n",
            " #    Column                              Dtype  \n",
            "---   ------                              -----  \n",
            " 0    cliente_vip                         int64  \n",
            " 1    cliente_sucursal                    int64  \n",
            " 2    cliente_edad                        int64  \n",
            " 3    cliente_antiguedad                  int64  \n",
            " 4    mrentabilidad                       float64\n",
            " 5    mrentabilidad_annual                float64\n",
            " 6    marketing_coss_selling              int64  \n",
            " 7    mcuenta_corriente_Nopaquete         float64\n",
            " 8    mcuenta_corriente_Paquete           float64\n",
            " 9    mcaja_ahorro_Paquete                float64\n",
            " 10   mcaja_ahorro_Nopaquete              float64\n",
            " 11   mcaja_ahorro_dolares                float64\n",
            " 12   mdescubierto_preacordado            float64\n",
            " 13   mcuentas_saldo                      float64\n",
            " 14   ctarjeta_debito_transacciones       int64  \n",
            " 15   mautoservicio                       float64\n",
            " 16   ctarjeta_visa_transacciones         int64  \n",
            " 17   mtarjeta_visa_consumo               float64\n",
            " 18   ctarjeta_master_transacciones       int64  \n",
            " 19   mtarjeta_master_consumo             float64\n",
            " 20   cprestamos_personales               int64  \n",
            " 21   mprestamos_personales               float64\n",
            " 22   cprestamos_prendarios               int64  \n",
            " 23   mprestamos_prendarios               float64\n",
            " 24   cprestamos_hipotecarios             int64  \n",
            " 25   mprestamos_hipotecarios             float64\n",
            " 26   mplazo_fijo_dolares                 float64\n",
            " 27   mplazo_fijo_pesos                   float64\n",
            " 28   mfondos_comunes_inversion_pesos     float64\n",
            " 29   mfondos_comunes_inversion_dolare    float64\n",
            " 30   mtitulos                            float64\n",
            " 31   mplan_sueldo_manual                 float64\n",
            " 32   cplan_sueldo_transaccion            int64  \n",
            " 33   mcuenta_debitos_automaticos         float64\n",
            " 34   mttarjeta_visa_debitos_automatic    float64\n",
            " 35   mttarjeta_master_debitos_automat    float64\n",
            " 36   mpagodeservicios                    float64\n",
            " 37   mpagomiscuentas                     float64\n",
            " 38   ccajeros_propios_descuentos         int64  \n",
            " 39   mcajeros_propios_descuentos         float64\n",
            " 40   ctarjeta_visa_descuentos            int64  \n",
            " 41   mtarjeta_visa_descuentos            float64\n",
            " 42   ctarjeta_master_descuentos          int64  \n",
            " 43   mtarjeta_master_descuentos          float64\n",
            " 44   ccomisiones_mantenimiento           int64  \n",
            " 45   mcomisiones_mantenimiento           float64\n",
            " 46   ccomisiones_otras                   int64  \n",
            " 47   mcomisiones_otras                   float64\n",
            " 48   ccambio_monedas_compra              int64  \n",
            " 49   mcambio_monedas_compra              float64\n",
            " 50   ccambio_monedas_venta               int64  \n",
            " 51   mcambio_monedas_venta               float64\n",
            " 52   ctransferencias_recibidas           int64  \n",
            " 53   mtransferencias_recibidas           float64\n",
            " 54   ctransferencias_emitidas            int64  \n",
            " 55   mtransferencias_emitidas            float64\n",
            " 56   cextraccion_autoservicio            int64  \n",
            " 57   mextraccion_autoservicio            float64\n",
            " 58   ccheques_depositados                int64  \n",
            " 59   mcheques_depositados                float64\n",
            " 60   ccheques_emitidos                   int64  \n",
            " 61   mcheques_emitidos                   float64\n",
            " 62   ccheques_depositados_rechazados     int64  \n",
            " 63   mcheques_depositados_rechazados     float64\n",
            " 64   ccheques_emitidos_rechazados        int64  \n",
            " 65   mcheques_emitidos_rechazados        float64\n",
            " 66   ccallcenter_transacciones           int64  \n",
            " 67   ccajeros_propio_transacciones       int64  \n",
            " 68   mcajeros_propio                     float64\n",
            " 69   ccajeros_ajenos_transacciones       int64  \n",
            " 70   mcajeros_ajenos                     float64\n",
            " 71   Master_marca_atraso                 int64  \n",
            " 72   Master_mfinanciacion_limite         float64\n",
            " 73   Master_msaldototal                  float64\n",
            " 74   Master_msaldopesos                  float64\n",
            " 75   Master_msaldodolares                float64\n",
            " 76   Master_mconsumospesos               float64\n",
            " 77   Master_mconsumosdolares             float64\n",
            " 78   Master_mlimitecompra                float64\n",
            " 79   Master_madelantopesos               float64\n",
            " 80   Master_madelantodolares             float64\n",
            " 81   Master_mpagado                      float64\n",
            " 82   Master_mpagospesos                  float64\n",
            " 83   Master_mpagosdolares                float64\n",
            " 84   Master_mconsumototal                float64\n",
            " 85   Master_mpagominimo                  float64\n",
            " 86   Visa_marca_atraso                   int64  \n",
            " 87   Visa_mfinanciacion_limite           float64\n",
            " 88   Visa_msaldototal                    float64\n",
            " 89   Visa_msaldopesos                    float64\n",
            " 90   Visa_msaldodolares                  float64\n",
            " 91   Visa_mconsumospesos                 float64\n",
            " 92   Visa_mconsumosdolares               float64\n",
            " 93   Visa_mlimitecompra                  float64\n",
            " 94   Visa_madelantopesos                 float64\n",
            " 95   Visa_madelantodolares               float64\n",
            " 96   Visa_mpagado                        float64\n",
            " 97   Visa_mpagospesos                    float64\n",
            " 98   Visa_mpagosdolares                  float64\n",
            " 99   Visa_mconsumototal                  float64\n",
            " 100  Visa_mpagominimo                    float64\n",
            " 101  Master_cuenta_estado_.              uint8  \n",
            " 102  Master_cuenta_estado_10             uint8  \n",
            " 103  Master_cuenta_estado_11             uint8  \n",
            " 104  Master_cuenta_estado_12             uint8  \n",
            " 105  Master_cuenta_estado_19             uint8  \n",
            " 106  Visa_cuenta_estado_.                uint8  \n",
            " 107  Visa_cuenta_estado_10               uint8  \n",
            " 108  Visa_cuenta_estado_11               uint8  \n",
            " 109  Visa_cuenta_estado_12               uint8  \n",
            " 110  Visa_cuenta_estado_19               uint8  \n",
            " 111  tpaquete2_S                         uint8  \n",
            " 112  tpaquete4_S                         uint8  \n",
            " 113  tpaquete6_S                         uint8  \n",
            " 114  tpaquete7_S                         uint8  \n",
            " 115  tpaquete9_S                         uint8  \n",
            " 116  tcuentas_S                          uint8  \n",
            " 117  tcuenta_corriente_S                 uint8  \n",
            " 118  tcaja_ahorro_S                      uint8  \n",
            " 119  ttarjeta_debito_S                   uint8  \n",
            " 120  ttarjeta_visa_S                     uint8  \n",
            " 121  ttarjeta_master_S                   uint8  \n",
            " 122  tplazo_fijo_S                       uint8  \n",
            " 123  tfondos_comunes_inversion_S         uint8  \n",
            " 124  ttitulos_S                          uint8  \n",
            " 125  tseguro_vida_mercado_abierto_S      uint8  \n",
            " 126  tseguro_auto_S                      uint8  \n",
            " 127  tseguro_vivienda_S                  uint8  \n",
            " 128  tseguro_accidentes_personales_S     uint8  \n",
            " 129  tcaja_seguridad_S                   uint8  \n",
            " 130  tcuenta_debitos_automaticos_S       uint8  \n",
            " 131  ttarjeta_visa_debitos_automatico_S  uint8  \n",
            " 132  ttarjeta_master_debitos_automati_S  uint8  \n",
            " 133  tpagodeservicios_S                  uint8  \n",
            " 134  tpagomiscuentas_S                   uint8  \n",
            " 135  tcambio_monedas_S                   uint8  \n",
            " 136  tcallcenter_S                       uint8  \n",
            " 137  tcajas_S                            uint8  \n",
            " 138  tcajas_depositos_S                  uint8  \n",
            " 139  tcajas_extracciones_S               uint8  \n",
            " 140  tcajas_otras_S                      uint8  \n",
            " 141  tmovimientos_ultimos90dias_S        uint8  \n",
            " 142  Master_tconsumos_S                  uint8  \n",
            " 143  Master_tadelantosefectivo_S         uint8  \n",
            " 144  Visa_tconsumos_S                    uint8  \n",
            " 145  Visa_tadelantosefectivo_S           uint8  \n",
            "dtypes: float64(70), int64(31), uint8(45)\n",
            "memory usage: 151.5 MB\n"
          ]
        }
      ]
    },
    {
      "cell_type": "code",
      "source": [
        "#Tratamiento de nulos\n",
        "df_prediccion = df_prediccion.fillna(0)"
      ],
      "metadata": {
        "id": "oVktraDAbi2j"
      },
      "execution_count": 117,
      "outputs": []
    },
    {
      "cell_type": "code",
      "source": [
        "#Variables calculadas\n",
        "df_prediccion['mcuenta_corriente_all'] = df_prediccion['mcuenta_corriente_Paquete'] + df_prediccion['mcuenta_corriente_Nopaquete']\n",
        "df_prediccion['mcaja_ahorro_all'] = df_prediccion['mcaja_ahorro_Paquete'] + df_prediccion['mcaja_ahorro_Nopaquete']\n",
        "df_prediccion['mcaja_ahorro_CC'] = df_prediccion['mcaja_ahorro_all'] + df_prediccion['mcuenta_corriente_all']\n",
        "df_prediccion['mtarjeta_all_consumo'] = df_prediccion['mtarjeta_visa_consumo'] + df_prediccion['mtarjeta_master_consumo']\n",
        "df_prediccion['ctarjeta_all_transacciones'] = df_prediccion['ctarjeta_visa_transacciones'] + df_prediccion['ctarjeta_master_transacciones']"
      ],
      "metadata": {
        "id": "r5_DUglBbn-2"
      },
      "execution_count": 118,
      "outputs": []
    },
    {
      "cell_type": "code",
      "source": [
        "df_prediccion.info(verbose = True)"
      ],
      "metadata": {
        "colab": {
          "base_uri": "https://localhost:8080/"
        },
        "id": "1u6fdvhAbtNp",
        "outputId": "78697f2b-5492-40a0-d9bf-ecb5351763cf"
      },
      "execution_count": 119,
      "outputs": [
        {
          "output_type": "stream",
          "name": "stdout",
          "text": [
            "<class 'pandas.core.frame.DataFrame'>\n",
            "Int64Index: 184539 entries, 24 to 2694629\n",
            "Data columns (total 151 columns):\n",
            " #    Column                              Dtype  \n",
            "---   ------                              -----  \n",
            " 0    cliente_vip                         int64  \n",
            " 1    cliente_sucursal                    int64  \n",
            " 2    cliente_edad                        int64  \n",
            " 3    cliente_antiguedad                  int64  \n",
            " 4    mrentabilidad                       float64\n",
            " 5    mrentabilidad_annual                float64\n",
            " 6    marketing_coss_selling              int64  \n",
            " 7    mcuenta_corriente_Nopaquete         float64\n",
            " 8    mcuenta_corriente_Paquete           float64\n",
            " 9    mcaja_ahorro_Paquete                float64\n",
            " 10   mcaja_ahorro_Nopaquete              float64\n",
            " 11   mcaja_ahorro_dolares                float64\n",
            " 12   mdescubierto_preacordado            float64\n",
            " 13   mcuentas_saldo                      float64\n",
            " 14   ctarjeta_debito_transacciones       int64  \n",
            " 15   mautoservicio                       float64\n",
            " 16   ctarjeta_visa_transacciones         int64  \n",
            " 17   mtarjeta_visa_consumo               float64\n",
            " 18   ctarjeta_master_transacciones       int64  \n",
            " 19   mtarjeta_master_consumo             float64\n",
            " 20   cprestamos_personales               int64  \n",
            " 21   mprestamos_personales               float64\n",
            " 22   cprestamos_prendarios               int64  \n",
            " 23   mprestamos_prendarios               float64\n",
            " 24   cprestamos_hipotecarios             int64  \n",
            " 25   mprestamos_hipotecarios             float64\n",
            " 26   mplazo_fijo_dolares                 float64\n",
            " 27   mplazo_fijo_pesos                   float64\n",
            " 28   mfondos_comunes_inversion_pesos     float64\n",
            " 29   mfondos_comunes_inversion_dolare    float64\n",
            " 30   mtitulos                            float64\n",
            " 31   mplan_sueldo_manual                 float64\n",
            " 32   cplan_sueldo_transaccion            int64  \n",
            " 33   mcuenta_debitos_automaticos         float64\n",
            " 34   mttarjeta_visa_debitos_automatic    float64\n",
            " 35   mttarjeta_master_debitos_automat    float64\n",
            " 36   mpagodeservicios                    float64\n",
            " 37   mpagomiscuentas                     float64\n",
            " 38   ccajeros_propios_descuentos         int64  \n",
            " 39   mcajeros_propios_descuentos         float64\n",
            " 40   ctarjeta_visa_descuentos            int64  \n",
            " 41   mtarjeta_visa_descuentos            float64\n",
            " 42   ctarjeta_master_descuentos          int64  \n",
            " 43   mtarjeta_master_descuentos          float64\n",
            " 44   ccomisiones_mantenimiento           int64  \n",
            " 45   mcomisiones_mantenimiento           float64\n",
            " 46   ccomisiones_otras                   int64  \n",
            " 47   mcomisiones_otras                   float64\n",
            " 48   ccambio_monedas_compra              int64  \n",
            " 49   mcambio_monedas_compra              float64\n",
            " 50   ccambio_monedas_venta               int64  \n",
            " 51   mcambio_monedas_venta               float64\n",
            " 52   ctransferencias_recibidas           int64  \n",
            " 53   mtransferencias_recibidas           float64\n",
            " 54   ctransferencias_emitidas            int64  \n",
            " 55   mtransferencias_emitidas            float64\n",
            " 56   cextraccion_autoservicio            int64  \n",
            " 57   mextraccion_autoservicio            float64\n",
            " 58   ccheques_depositados                int64  \n",
            " 59   mcheques_depositados                float64\n",
            " 60   ccheques_emitidos                   int64  \n",
            " 61   mcheques_emitidos                   float64\n",
            " 62   ccheques_depositados_rechazados     int64  \n",
            " 63   mcheques_depositados_rechazados     float64\n",
            " 64   ccheques_emitidos_rechazados        int64  \n",
            " 65   mcheques_emitidos_rechazados        float64\n",
            " 66   ccallcenter_transacciones           int64  \n",
            " 67   ccajeros_propio_transacciones       int64  \n",
            " 68   mcajeros_propio                     float64\n",
            " 69   ccajeros_ajenos_transacciones       int64  \n",
            " 70   mcajeros_ajenos                     float64\n",
            " 71   Master_marca_atraso                 int64  \n",
            " 72   Master_mfinanciacion_limite         float64\n",
            " 73   Master_msaldototal                  float64\n",
            " 74   Master_msaldopesos                  float64\n",
            " 75   Master_msaldodolares                float64\n",
            " 76   Master_mconsumospesos               float64\n",
            " 77   Master_mconsumosdolares             float64\n",
            " 78   Master_mlimitecompra                float64\n",
            " 79   Master_madelantopesos               float64\n",
            " 80   Master_madelantodolares             float64\n",
            " 81   Master_mpagado                      float64\n",
            " 82   Master_mpagospesos                  float64\n",
            " 83   Master_mpagosdolares                float64\n",
            " 84   Master_mconsumototal                float64\n",
            " 85   Master_mpagominimo                  float64\n",
            " 86   Visa_marca_atraso                   int64  \n",
            " 87   Visa_mfinanciacion_limite           float64\n",
            " 88   Visa_msaldototal                    float64\n",
            " 89   Visa_msaldopesos                    float64\n",
            " 90   Visa_msaldodolares                  float64\n",
            " 91   Visa_mconsumospesos                 float64\n",
            " 92   Visa_mconsumosdolares               float64\n",
            " 93   Visa_mlimitecompra                  float64\n",
            " 94   Visa_madelantopesos                 float64\n",
            " 95   Visa_madelantodolares               float64\n",
            " 96   Visa_mpagado                        float64\n",
            " 97   Visa_mpagospesos                    float64\n",
            " 98   Visa_mpagosdolares                  float64\n",
            " 99   Visa_mconsumototal                  float64\n",
            " 100  Visa_mpagominimo                    float64\n",
            " 101  Master_cuenta_estado_.              uint8  \n",
            " 102  Master_cuenta_estado_10             uint8  \n",
            " 103  Master_cuenta_estado_11             uint8  \n",
            " 104  Master_cuenta_estado_12             uint8  \n",
            " 105  Master_cuenta_estado_19             uint8  \n",
            " 106  Visa_cuenta_estado_.                uint8  \n",
            " 107  Visa_cuenta_estado_10               uint8  \n",
            " 108  Visa_cuenta_estado_11               uint8  \n",
            " 109  Visa_cuenta_estado_12               uint8  \n",
            " 110  Visa_cuenta_estado_19               uint8  \n",
            " 111  tpaquete2_S                         uint8  \n",
            " 112  tpaquete4_S                         uint8  \n",
            " 113  tpaquete6_S                         uint8  \n",
            " 114  tpaquete7_S                         uint8  \n",
            " 115  tpaquete9_S                         uint8  \n",
            " 116  tcuentas_S                          uint8  \n",
            " 117  tcuenta_corriente_S                 uint8  \n",
            " 118  tcaja_ahorro_S                      uint8  \n",
            " 119  ttarjeta_debito_S                   uint8  \n",
            " 120  ttarjeta_visa_S                     uint8  \n",
            " 121  ttarjeta_master_S                   uint8  \n",
            " 122  tplazo_fijo_S                       uint8  \n",
            " 123  tfondos_comunes_inversion_S         uint8  \n",
            " 124  ttitulos_S                          uint8  \n",
            " 125  tseguro_vida_mercado_abierto_S      uint8  \n",
            " 126  tseguro_auto_S                      uint8  \n",
            " 127  tseguro_vivienda_S                  uint8  \n",
            " 128  tseguro_accidentes_personales_S     uint8  \n",
            " 129  tcaja_seguridad_S                   uint8  \n",
            " 130  tcuenta_debitos_automaticos_S       uint8  \n",
            " 131  ttarjeta_visa_debitos_automatico_S  uint8  \n",
            " 132  ttarjeta_master_debitos_automati_S  uint8  \n",
            " 133  tpagodeservicios_S                  uint8  \n",
            " 134  tpagomiscuentas_S                   uint8  \n",
            " 135  tcambio_monedas_S                   uint8  \n",
            " 136  tcallcenter_S                       uint8  \n",
            " 137  tcajas_S                            uint8  \n",
            " 138  tcajas_depositos_S                  uint8  \n",
            " 139  tcajas_extracciones_S               uint8  \n",
            " 140  tcajas_otras_S                      uint8  \n",
            " 141  tmovimientos_ultimos90dias_S        uint8  \n",
            " 142  Master_tconsumos_S                  uint8  \n",
            " 143  Master_tadelantosefectivo_S         uint8  \n",
            " 144  Visa_tconsumos_S                    uint8  \n",
            " 145  Visa_tadelantosefectivo_S           uint8  \n",
            " 146  mcuenta_corriente_all               float64\n",
            " 147  mcaja_ahorro_all                    float64\n",
            " 148  mcaja_ahorro_CC                     float64\n",
            " 149  mtarjeta_all_consumo                float64\n",
            " 150  ctarjeta_all_transacciones          int64  \n",
            "dtypes: float64(74), int64(32), uint8(45)\n",
            "memory usage: 158.6 MB\n"
          ]
        }
      ]
    },
    {
      "cell_type": "markdown",
      "source": [
        "##Predicción"
      ],
      "metadata": {
        "id": "s6xV2PQNxc3U"
      }
    },
    {
      "cell_type": "code",
      "source": [
        "#Estandarización de features\n",
        "X_prediccion_std = std.transform(df_prediccion)"
      ],
      "metadata": {
        "id": "3kyL8kRpcmka"
      },
      "execution_count": 120,
      "outputs": []
    },
    {
      "cell_type": "code",
      "source": [
        "#Selección de características\n",
        "X_prediccion_nf = sel.transform(X_prediccion_std)"
      ],
      "metadata": {
        "id": "vaxj0Ch7cnJp"
      },
      "execution_count": 121,
      "outputs": []
    },
    {
      "cell_type": "code",
      "source": [
        "#Prediccion utilizando Regresión Logistica CV\n",
        "y_pred_prediccion = RLCV_modelo_balanceado.predict(X_prediccion_nf)\n",
        "\n",
        "print('---------- y_pred ---------- ')\n",
        "print(y_pred_prediccion)\n",
        "print('Cantidad de 0: ', (y_pred_prediccion == 0).sum())\n",
        "print('Cantidad de 1: ', (y_pred_prediccion == 1).sum())"
      ],
      "metadata": {
        "colab": {
          "base_uri": "https://localhost:8080/"
        },
        "id": "DXmEwio2cqwP",
        "outputId": "883141d6-65fb-4b79-810b-7598fd7a79c6"
      },
      "execution_count": 122,
      "outputs": [
        {
          "output_type": "stream",
          "name": "stdout",
          "text": [
            "---------- y_pred ---------- \n",
            "[0 1 0 ... 1 1 1]\n",
            "Cantidad de 0:  158556\n",
            "Cantidad de 1:  25983\n"
          ]
        }
      ]
    },
    {
      "cell_type": "markdown",
      "source": [
        "##Filtrado por probabilidad"
      ],
      "metadata": {
        "id": "XbdCpECZxgVl"
      }
    },
    {
      "cell_type": "code",
      "source": [
        "#Unificacion de cliente y predicción\n",
        "df_lista_clientes['prediccion']=y_pred_prediccion\n",
        "df_lista_clientes"
      ],
      "metadata": {
        "colab": {
          "base_uri": "https://localhost:8080/",
          "height": 424
        },
        "id": "g8U4Cl03alOL",
        "outputId": "1c3f7205-039a-4d11-d830-d67b0609a539"
      },
      "execution_count": 123,
      "outputs": [
        {
          "output_type": "execute_result",
          "data": {
            "text/plain": [
              "         numero_de_cliente  prediccion\n",
              "24                 5609788           0\n",
              "40                 5609981           1\n",
              "56                 5610023           0\n",
              "72                 5610089           0\n",
              "88                 5610101           0\n",
              "...                    ...         ...\n",
              "2694625           48914938           1\n",
              "2694626           48915521           1\n",
              "2694627           48922297           1\n",
              "2694628           48926901           1\n",
              "2694629           48928344           1\n",
              "\n",
              "[184539 rows x 2 columns]"
            ],
            "text/html": [
              "\n",
              "  <div id=\"df-b718979a-63ce-4124-97f1-bbbc72d5329f\">\n",
              "    <div class=\"colab-df-container\">\n",
              "      <div>\n",
              "<style scoped>\n",
              "    .dataframe tbody tr th:only-of-type {\n",
              "        vertical-align: middle;\n",
              "    }\n",
              "\n",
              "    .dataframe tbody tr th {\n",
              "        vertical-align: top;\n",
              "    }\n",
              "\n",
              "    .dataframe thead th {\n",
              "        text-align: right;\n",
              "    }\n",
              "</style>\n",
              "<table border=\"1\" class=\"dataframe\">\n",
              "  <thead>\n",
              "    <tr style=\"text-align: right;\">\n",
              "      <th></th>\n",
              "      <th>numero_de_cliente</th>\n",
              "      <th>prediccion</th>\n",
              "    </tr>\n",
              "  </thead>\n",
              "  <tbody>\n",
              "    <tr>\n",
              "      <th>24</th>\n",
              "      <td>5609788</td>\n",
              "      <td>0</td>\n",
              "    </tr>\n",
              "    <tr>\n",
              "      <th>40</th>\n",
              "      <td>5609981</td>\n",
              "      <td>1</td>\n",
              "    </tr>\n",
              "    <tr>\n",
              "      <th>56</th>\n",
              "      <td>5610023</td>\n",
              "      <td>0</td>\n",
              "    </tr>\n",
              "    <tr>\n",
              "      <th>72</th>\n",
              "      <td>5610089</td>\n",
              "      <td>0</td>\n",
              "    </tr>\n",
              "    <tr>\n",
              "      <th>88</th>\n",
              "      <td>5610101</td>\n",
              "      <td>0</td>\n",
              "    </tr>\n",
              "    <tr>\n",
              "      <th>...</th>\n",
              "      <td>...</td>\n",
              "      <td>...</td>\n",
              "    </tr>\n",
              "    <tr>\n",
              "      <th>2694625</th>\n",
              "      <td>48914938</td>\n",
              "      <td>1</td>\n",
              "    </tr>\n",
              "    <tr>\n",
              "      <th>2694626</th>\n",
              "      <td>48915521</td>\n",
              "      <td>1</td>\n",
              "    </tr>\n",
              "    <tr>\n",
              "      <th>2694627</th>\n",
              "      <td>48922297</td>\n",
              "      <td>1</td>\n",
              "    </tr>\n",
              "    <tr>\n",
              "      <th>2694628</th>\n",
              "      <td>48926901</td>\n",
              "      <td>1</td>\n",
              "    </tr>\n",
              "    <tr>\n",
              "      <th>2694629</th>\n",
              "      <td>48928344</td>\n",
              "      <td>1</td>\n",
              "    </tr>\n",
              "  </tbody>\n",
              "</table>\n",
              "<p>184539 rows × 2 columns</p>\n",
              "</div>\n",
              "      <button class=\"colab-df-convert\" onclick=\"convertToInteractive('df-b718979a-63ce-4124-97f1-bbbc72d5329f')\"\n",
              "              title=\"Convert this dataframe to an interactive table.\"\n",
              "              style=\"display:none;\">\n",
              "        \n",
              "  <svg xmlns=\"http://www.w3.org/2000/svg\" height=\"24px\"viewBox=\"0 0 24 24\"\n",
              "       width=\"24px\">\n",
              "    <path d=\"M0 0h24v24H0V0z\" fill=\"none\"/>\n",
              "    <path d=\"M18.56 5.44l.94 2.06.94-2.06 2.06-.94-2.06-.94-.94-2.06-.94 2.06-2.06.94zm-11 1L8.5 8.5l.94-2.06 2.06-.94-2.06-.94L8.5 2.5l-.94 2.06-2.06.94zm10 10l.94 2.06.94-2.06 2.06-.94-2.06-.94-.94-2.06-.94 2.06-2.06.94z\"/><path d=\"M17.41 7.96l-1.37-1.37c-.4-.4-.92-.59-1.43-.59-.52 0-1.04.2-1.43.59L10.3 9.45l-7.72 7.72c-.78.78-.78 2.05 0 2.83L4 21.41c.39.39.9.59 1.41.59.51 0 1.02-.2 1.41-.59l7.78-7.78 2.81-2.81c.8-.78.8-2.07 0-2.86zM5.41 20L4 18.59l7.72-7.72 1.47 1.35L5.41 20z\"/>\n",
              "  </svg>\n",
              "      </button>\n",
              "      \n",
              "  <style>\n",
              "    .colab-df-container {\n",
              "      display:flex;\n",
              "      flex-wrap:wrap;\n",
              "      gap: 12px;\n",
              "    }\n",
              "\n",
              "    .colab-df-convert {\n",
              "      background-color: #E8F0FE;\n",
              "      border: none;\n",
              "      border-radius: 50%;\n",
              "      cursor: pointer;\n",
              "      display: none;\n",
              "      fill: #1967D2;\n",
              "      height: 32px;\n",
              "      padding: 0 0 0 0;\n",
              "      width: 32px;\n",
              "    }\n",
              "\n",
              "    .colab-df-convert:hover {\n",
              "      background-color: #E2EBFA;\n",
              "      box-shadow: 0px 1px 2px rgba(60, 64, 67, 0.3), 0px 1px 3px 1px rgba(60, 64, 67, 0.15);\n",
              "      fill: #174EA6;\n",
              "    }\n",
              "\n",
              "    [theme=dark] .colab-df-convert {\n",
              "      background-color: #3B4455;\n",
              "      fill: #D2E3FC;\n",
              "    }\n",
              "\n",
              "    [theme=dark] .colab-df-convert:hover {\n",
              "      background-color: #434B5C;\n",
              "      box-shadow: 0px 1px 3px 1px rgba(0, 0, 0, 0.15);\n",
              "      filter: drop-shadow(0px 1px 2px rgba(0, 0, 0, 0.3));\n",
              "      fill: #FFFFFF;\n",
              "    }\n",
              "  </style>\n",
              "\n",
              "      <script>\n",
              "        const buttonEl =\n",
              "          document.querySelector('#df-b718979a-63ce-4124-97f1-bbbc72d5329f button.colab-df-convert');\n",
              "        buttonEl.style.display =\n",
              "          google.colab.kernel.accessAllowed ? 'block' : 'none';\n",
              "\n",
              "        async function convertToInteractive(key) {\n",
              "          const element = document.querySelector('#df-b718979a-63ce-4124-97f1-bbbc72d5329f');\n",
              "          const dataTable =\n",
              "            await google.colab.kernel.invokeFunction('convertToInteractive',\n",
              "                                                     [key], {});\n",
              "          if (!dataTable) return;\n",
              "\n",
              "          const docLinkHtml = 'Like what you see? Visit the ' +\n",
              "            '<a target=\"_blank\" href=https://colab.research.google.com/notebooks/data_table.ipynb>data table notebook</a>'\n",
              "            + ' to learn more about interactive tables.';\n",
              "          element.innerHTML = '';\n",
              "          dataTable['output_type'] = 'display_data';\n",
              "          await google.colab.output.renderOutput(dataTable, element);\n",
              "          const docLink = document.createElement('div');\n",
              "          docLink.innerHTML = docLinkHtml;\n",
              "          element.appendChild(docLink);\n",
              "        }\n",
              "      </script>\n",
              "    </div>\n",
              "  </div>\n",
              "  "
            ]
          },
          "metadata": {},
          "execution_count": 123
        }
      ]
    },
    {
      "cell_type": "code",
      "source": [
        "#Calculo de probabilidad\n",
        "y_pred_prediccion_probability=RLCV_modelo_balanceado.predict_proba(X_prediccion_nf)[:,1]"
      ],
      "metadata": {
        "id": "qRsRkmMDcyGx"
      },
      "execution_count": 124,
      "outputs": []
    },
    {
      "cell_type": "code",
      "source": [
        "#Unificacion de probabilidad y ordenamiento ascendente\n",
        "df_lista_clientes['prob_a']=y_pred_prediccion_probability\n",
        "df_lista_clientes=df_lista_clientes.sort_values(by='prob_a',ascending=False)\n",
        "df_lista_clientes"
      ],
      "metadata": {
        "colab": {
          "base_uri": "https://localhost:8080/",
          "height": 424
        },
        "id": "6mjon-MddXF7",
        "outputId": "432664aa-7e49-4ed5-e4c5-ded1269c6ed0"
      },
      "execution_count": 125,
      "outputs": [
        {
          "output_type": "execute_result",
          "data": {
            "text/plain": [
              "         numero_de_cliente  prediccion         prob_a\n",
              "581672             9438634           1   1.000000e+00\n",
              "683815            10112531           1   1.000000e+00\n",
              "2153911           29880976           1   9.999999e-01\n",
              "2680769           46049827           1   9.999998e-01\n",
              "1924934           26387234           1   9.999998e-01\n",
              "...                    ...         ...            ...\n",
              "742362            10502410           0   7.019533e-40\n",
              "45257              5928997           0   3.331784e-41\n",
              "77932              6134577           0   1.091250e-43\n",
              "484769             8781620           0   3.135274e-44\n",
              "877411            15273573           0  2.560725e-125\n",
              "\n",
              "[184539 rows x 3 columns]"
            ],
            "text/html": [
              "\n",
              "  <div id=\"df-7e83f29d-f80a-4613-a0cb-a264451825be\">\n",
              "    <div class=\"colab-df-container\">\n",
              "      <div>\n",
              "<style scoped>\n",
              "    .dataframe tbody tr th:only-of-type {\n",
              "        vertical-align: middle;\n",
              "    }\n",
              "\n",
              "    .dataframe tbody tr th {\n",
              "        vertical-align: top;\n",
              "    }\n",
              "\n",
              "    .dataframe thead th {\n",
              "        text-align: right;\n",
              "    }\n",
              "</style>\n",
              "<table border=\"1\" class=\"dataframe\">\n",
              "  <thead>\n",
              "    <tr style=\"text-align: right;\">\n",
              "      <th></th>\n",
              "      <th>numero_de_cliente</th>\n",
              "      <th>prediccion</th>\n",
              "      <th>prob_a</th>\n",
              "    </tr>\n",
              "  </thead>\n",
              "  <tbody>\n",
              "    <tr>\n",
              "      <th>581672</th>\n",
              "      <td>9438634</td>\n",
              "      <td>1</td>\n",
              "      <td>1.000000e+00</td>\n",
              "    </tr>\n",
              "    <tr>\n",
              "      <th>683815</th>\n",
              "      <td>10112531</td>\n",
              "      <td>1</td>\n",
              "      <td>1.000000e+00</td>\n",
              "    </tr>\n",
              "    <tr>\n",
              "      <th>2153911</th>\n",
              "      <td>29880976</td>\n",
              "      <td>1</td>\n",
              "      <td>9.999999e-01</td>\n",
              "    </tr>\n",
              "    <tr>\n",
              "      <th>2680769</th>\n",
              "      <td>46049827</td>\n",
              "      <td>1</td>\n",
              "      <td>9.999998e-01</td>\n",
              "    </tr>\n",
              "    <tr>\n",
              "      <th>1924934</th>\n",
              "      <td>26387234</td>\n",
              "      <td>1</td>\n",
              "      <td>9.999998e-01</td>\n",
              "    </tr>\n",
              "    <tr>\n",
              "      <th>...</th>\n",
              "      <td>...</td>\n",
              "      <td>...</td>\n",
              "      <td>...</td>\n",
              "    </tr>\n",
              "    <tr>\n",
              "      <th>742362</th>\n",
              "      <td>10502410</td>\n",
              "      <td>0</td>\n",
              "      <td>7.019533e-40</td>\n",
              "    </tr>\n",
              "    <tr>\n",
              "      <th>45257</th>\n",
              "      <td>5928997</td>\n",
              "      <td>0</td>\n",
              "      <td>3.331784e-41</td>\n",
              "    </tr>\n",
              "    <tr>\n",
              "      <th>77932</th>\n",
              "      <td>6134577</td>\n",
              "      <td>0</td>\n",
              "      <td>1.091250e-43</td>\n",
              "    </tr>\n",
              "    <tr>\n",
              "      <th>484769</th>\n",
              "      <td>8781620</td>\n",
              "      <td>0</td>\n",
              "      <td>3.135274e-44</td>\n",
              "    </tr>\n",
              "    <tr>\n",
              "      <th>877411</th>\n",
              "      <td>15273573</td>\n",
              "      <td>0</td>\n",
              "      <td>2.560725e-125</td>\n",
              "    </tr>\n",
              "  </tbody>\n",
              "</table>\n",
              "<p>184539 rows × 3 columns</p>\n",
              "</div>\n",
              "      <button class=\"colab-df-convert\" onclick=\"convertToInteractive('df-7e83f29d-f80a-4613-a0cb-a264451825be')\"\n",
              "              title=\"Convert this dataframe to an interactive table.\"\n",
              "              style=\"display:none;\">\n",
              "        \n",
              "  <svg xmlns=\"http://www.w3.org/2000/svg\" height=\"24px\"viewBox=\"0 0 24 24\"\n",
              "       width=\"24px\">\n",
              "    <path d=\"M0 0h24v24H0V0z\" fill=\"none\"/>\n",
              "    <path d=\"M18.56 5.44l.94 2.06.94-2.06 2.06-.94-2.06-.94-.94-2.06-.94 2.06-2.06.94zm-11 1L8.5 8.5l.94-2.06 2.06-.94-2.06-.94L8.5 2.5l-.94 2.06-2.06.94zm10 10l.94 2.06.94-2.06 2.06-.94-2.06-.94-.94-2.06-.94 2.06-2.06.94z\"/><path d=\"M17.41 7.96l-1.37-1.37c-.4-.4-.92-.59-1.43-.59-.52 0-1.04.2-1.43.59L10.3 9.45l-7.72 7.72c-.78.78-.78 2.05 0 2.83L4 21.41c.39.39.9.59 1.41.59.51 0 1.02-.2 1.41-.59l7.78-7.78 2.81-2.81c.8-.78.8-2.07 0-2.86zM5.41 20L4 18.59l7.72-7.72 1.47 1.35L5.41 20z\"/>\n",
              "  </svg>\n",
              "      </button>\n",
              "      \n",
              "  <style>\n",
              "    .colab-df-container {\n",
              "      display:flex;\n",
              "      flex-wrap:wrap;\n",
              "      gap: 12px;\n",
              "    }\n",
              "\n",
              "    .colab-df-convert {\n",
              "      background-color: #E8F0FE;\n",
              "      border: none;\n",
              "      border-radius: 50%;\n",
              "      cursor: pointer;\n",
              "      display: none;\n",
              "      fill: #1967D2;\n",
              "      height: 32px;\n",
              "      padding: 0 0 0 0;\n",
              "      width: 32px;\n",
              "    }\n",
              "\n",
              "    .colab-df-convert:hover {\n",
              "      background-color: #E2EBFA;\n",
              "      box-shadow: 0px 1px 2px rgba(60, 64, 67, 0.3), 0px 1px 3px 1px rgba(60, 64, 67, 0.15);\n",
              "      fill: #174EA6;\n",
              "    }\n",
              "\n",
              "    [theme=dark] .colab-df-convert {\n",
              "      background-color: #3B4455;\n",
              "      fill: #D2E3FC;\n",
              "    }\n",
              "\n",
              "    [theme=dark] .colab-df-convert:hover {\n",
              "      background-color: #434B5C;\n",
              "      box-shadow: 0px 1px 3px 1px rgba(0, 0, 0, 0.15);\n",
              "      filter: drop-shadow(0px 1px 2px rgba(0, 0, 0, 0.3));\n",
              "      fill: #FFFFFF;\n",
              "    }\n",
              "  </style>\n",
              "\n",
              "      <script>\n",
              "        const buttonEl =\n",
              "          document.querySelector('#df-7e83f29d-f80a-4613-a0cb-a264451825be button.colab-df-convert');\n",
              "        buttonEl.style.display =\n",
              "          google.colab.kernel.accessAllowed ? 'block' : 'none';\n",
              "\n",
              "        async function convertToInteractive(key) {\n",
              "          const element = document.querySelector('#df-7e83f29d-f80a-4613-a0cb-a264451825be');\n",
              "          const dataTable =\n",
              "            await google.colab.kernel.invokeFunction('convertToInteractive',\n",
              "                                                     [key], {});\n",
              "          if (!dataTable) return;\n",
              "\n",
              "          const docLinkHtml = 'Like what you see? Visit the ' +\n",
              "            '<a target=\"_blank\" href=https://colab.research.google.com/notebooks/data_table.ipynb>data table notebook</a>'\n",
              "            + ' to learn more about interactive tables.';\n",
              "          element.innerHTML = '';\n",
              "          dataTable['output_type'] = 'display_data';\n",
              "          await google.colab.output.renderOutput(dataTable, element);\n",
              "          const docLink = document.createElement('div');\n",
              "          docLink.innerHTML = docLinkHtml;\n",
              "          element.appendChild(docLink);\n",
              "        }\n",
              "      </script>\n",
              "    </div>\n",
              "  </div>\n",
              "  "
            ]
          },
          "metadata": {},
          "execution_count": 125
        }
      ]
    },
    {
      "cell_type": "code",
      "source": [
        "#Filtrado por probabilidad de corte\n",
        "df_lista_clientes_filtrado=df_lista_clientes[df_lista_clientes.prob_a>0.794].reset_index(drop=True)\n",
        "df_lista_clientes_filtrado"
      ],
      "metadata": {
        "colab": {
          "base_uri": "https://localhost:8080/",
          "height": 424
        },
        "id": "_-1D4clXeWbG",
        "outputId": "a5af8d8f-b995-4fef-8c6b-4ba624ff611c"
      },
      "execution_count": 126,
      "outputs": [
        {
          "output_type": "execute_result",
          "data": {
            "text/plain": [
              "      numero_de_cliente  prediccion    prob_a\n",
              "0               9438634           1  1.000000\n",
              "1              10112531           1  1.000000\n",
              "2              29880976           1  1.000000\n",
              "3              46049827           1  1.000000\n",
              "4              26387234           1  1.000000\n",
              "...                 ...         ...       ...\n",
              "8507           28030119           1  0.794084\n",
              "8508           27649691           1  0.794031\n",
              "8509           21946347           1  0.794018\n",
              "8510           26808865           1  0.794007\n",
              "8511           10335805           1  0.794002\n",
              "\n",
              "[8512 rows x 3 columns]"
            ],
            "text/html": [
              "\n",
              "  <div id=\"df-c13e1f69-098c-4dcd-ab66-54747009db52\">\n",
              "    <div class=\"colab-df-container\">\n",
              "      <div>\n",
              "<style scoped>\n",
              "    .dataframe tbody tr th:only-of-type {\n",
              "        vertical-align: middle;\n",
              "    }\n",
              "\n",
              "    .dataframe tbody tr th {\n",
              "        vertical-align: top;\n",
              "    }\n",
              "\n",
              "    .dataframe thead th {\n",
              "        text-align: right;\n",
              "    }\n",
              "</style>\n",
              "<table border=\"1\" class=\"dataframe\">\n",
              "  <thead>\n",
              "    <tr style=\"text-align: right;\">\n",
              "      <th></th>\n",
              "      <th>numero_de_cliente</th>\n",
              "      <th>prediccion</th>\n",
              "      <th>prob_a</th>\n",
              "    </tr>\n",
              "  </thead>\n",
              "  <tbody>\n",
              "    <tr>\n",
              "      <th>0</th>\n",
              "      <td>9438634</td>\n",
              "      <td>1</td>\n",
              "      <td>1.000000</td>\n",
              "    </tr>\n",
              "    <tr>\n",
              "      <th>1</th>\n",
              "      <td>10112531</td>\n",
              "      <td>1</td>\n",
              "      <td>1.000000</td>\n",
              "    </tr>\n",
              "    <tr>\n",
              "      <th>2</th>\n",
              "      <td>29880976</td>\n",
              "      <td>1</td>\n",
              "      <td>1.000000</td>\n",
              "    </tr>\n",
              "    <tr>\n",
              "      <th>3</th>\n",
              "      <td>46049827</td>\n",
              "      <td>1</td>\n",
              "      <td>1.000000</td>\n",
              "    </tr>\n",
              "    <tr>\n",
              "      <th>4</th>\n",
              "      <td>26387234</td>\n",
              "      <td>1</td>\n",
              "      <td>1.000000</td>\n",
              "    </tr>\n",
              "    <tr>\n",
              "      <th>...</th>\n",
              "      <td>...</td>\n",
              "      <td>...</td>\n",
              "      <td>...</td>\n",
              "    </tr>\n",
              "    <tr>\n",
              "      <th>8507</th>\n",
              "      <td>28030119</td>\n",
              "      <td>1</td>\n",
              "      <td>0.794084</td>\n",
              "    </tr>\n",
              "    <tr>\n",
              "      <th>8508</th>\n",
              "      <td>27649691</td>\n",
              "      <td>1</td>\n",
              "      <td>0.794031</td>\n",
              "    </tr>\n",
              "    <tr>\n",
              "      <th>8509</th>\n",
              "      <td>21946347</td>\n",
              "      <td>1</td>\n",
              "      <td>0.794018</td>\n",
              "    </tr>\n",
              "    <tr>\n",
              "      <th>8510</th>\n",
              "      <td>26808865</td>\n",
              "      <td>1</td>\n",
              "      <td>0.794007</td>\n",
              "    </tr>\n",
              "    <tr>\n",
              "      <th>8511</th>\n",
              "      <td>10335805</td>\n",
              "      <td>1</td>\n",
              "      <td>0.794002</td>\n",
              "    </tr>\n",
              "  </tbody>\n",
              "</table>\n",
              "<p>8512 rows × 3 columns</p>\n",
              "</div>\n",
              "      <button class=\"colab-df-convert\" onclick=\"convertToInteractive('df-c13e1f69-098c-4dcd-ab66-54747009db52')\"\n",
              "              title=\"Convert this dataframe to an interactive table.\"\n",
              "              style=\"display:none;\">\n",
              "        \n",
              "  <svg xmlns=\"http://www.w3.org/2000/svg\" height=\"24px\"viewBox=\"0 0 24 24\"\n",
              "       width=\"24px\">\n",
              "    <path d=\"M0 0h24v24H0V0z\" fill=\"none\"/>\n",
              "    <path d=\"M18.56 5.44l.94 2.06.94-2.06 2.06-.94-2.06-.94-.94-2.06-.94 2.06-2.06.94zm-11 1L8.5 8.5l.94-2.06 2.06-.94-2.06-.94L8.5 2.5l-.94 2.06-2.06.94zm10 10l.94 2.06.94-2.06 2.06-.94-2.06-.94-.94-2.06-.94 2.06-2.06.94z\"/><path d=\"M17.41 7.96l-1.37-1.37c-.4-.4-.92-.59-1.43-.59-.52 0-1.04.2-1.43.59L10.3 9.45l-7.72 7.72c-.78.78-.78 2.05 0 2.83L4 21.41c.39.39.9.59 1.41.59.51 0 1.02-.2 1.41-.59l7.78-7.78 2.81-2.81c.8-.78.8-2.07 0-2.86zM5.41 20L4 18.59l7.72-7.72 1.47 1.35L5.41 20z\"/>\n",
              "  </svg>\n",
              "      </button>\n",
              "      \n",
              "  <style>\n",
              "    .colab-df-container {\n",
              "      display:flex;\n",
              "      flex-wrap:wrap;\n",
              "      gap: 12px;\n",
              "    }\n",
              "\n",
              "    .colab-df-convert {\n",
              "      background-color: #E8F0FE;\n",
              "      border: none;\n",
              "      border-radius: 50%;\n",
              "      cursor: pointer;\n",
              "      display: none;\n",
              "      fill: #1967D2;\n",
              "      height: 32px;\n",
              "      padding: 0 0 0 0;\n",
              "      width: 32px;\n",
              "    }\n",
              "\n",
              "    .colab-df-convert:hover {\n",
              "      background-color: #E2EBFA;\n",
              "      box-shadow: 0px 1px 2px rgba(60, 64, 67, 0.3), 0px 1px 3px 1px rgba(60, 64, 67, 0.15);\n",
              "      fill: #174EA6;\n",
              "    }\n",
              "\n",
              "    [theme=dark] .colab-df-convert {\n",
              "      background-color: #3B4455;\n",
              "      fill: #D2E3FC;\n",
              "    }\n",
              "\n",
              "    [theme=dark] .colab-df-convert:hover {\n",
              "      background-color: #434B5C;\n",
              "      box-shadow: 0px 1px 3px 1px rgba(0, 0, 0, 0.15);\n",
              "      filter: drop-shadow(0px 1px 2px rgba(0, 0, 0, 0.3));\n",
              "      fill: #FFFFFF;\n",
              "    }\n",
              "  </style>\n",
              "\n",
              "      <script>\n",
              "        const buttonEl =\n",
              "          document.querySelector('#df-c13e1f69-098c-4dcd-ab66-54747009db52 button.colab-df-convert');\n",
              "        buttonEl.style.display =\n",
              "          google.colab.kernel.accessAllowed ? 'block' : 'none';\n",
              "\n",
              "        async function convertToInteractive(key) {\n",
              "          const element = document.querySelector('#df-c13e1f69-098c-4dcd-ab66-54747009db52');\n",
              "          const dataTable =\n",
              "            await google.colab.kernel.invokeFunction('convertToInteractive',\n",
              "                                                     [key], {});\n",
              "          if (!dataTable) return;\n",
              "\n",
              "          const docLinkHtml = 'Like what you see? Visit the ' +\n",
              "            '<a target=\"_blank\" href=https://colab.research.google.com/notebooks/data_table.ipynb>data table notebook</a>'\n",
              "            + ' to learn more about interactive tables.';\n",
              "          element.innerHTML = '';\n",
              "          dataTable['output_type'] = 'display_data';\n",
              "          await google.colab.output.renderOutput(dataTable, element);\n",
              "          const docLink = document.createElement('div');\n",
              "          docLink.innerHTML = docLinkHtml;\n",
              "          element.appendChild(docLink);\n",
              "        }\n",
              "      </script>\n",
              "    </div>\n",
              "  </div>\n",
              "  "
            ]
          },
          "metadata": {},
          "execution_count": 126
        }
      ]
    },
    {
      "cell_type": "markdown",
      "source": [
        "##Entrega de predicciones\n",
        "Tal lo comprometido en el contrato original, entregamos a Banco Camila el archivo CSV con las predicciones de clientes con baja potencial en Junio 2014 al solo hecho que pueda ser utilizado para generar la campaña de beneficios que consideren oportuna. "
      ],
      "metadata": {
        "id": "EdurZ0n1xmP2"
      }
    },
    {
      "cell_type": "code",
      "source": [
        "#Guardado de clientes pósitivos en archivo CSV\n",
        "\n",
        "df_lista_clientes_filtrado.to_csv('/content/drive/MyDrive/Colab Notebooks/Bimestre3/Pred_Bco_Camila_201404.csv')"
      ],
      "metadata": {
        "id": "ldjEDP7hfc8C"
      },
      "execution_count": 127,
      "outputs": []
    }
  ],
  "metadata": {
    "colab": {
      "collapsed_sections": [],
      "toc_visible": true,
      "provenance": []
    },
    "kernelspec": {
      "display_name": "Python 3",
      "language": "python",
      "name": "python3"
    },
    "language_info": {
      "codemirror_mode": {
        "name": "ipython",
        "version": 3
      },
      "file_extension": ".py",
      "mimetype": "text/x-python",
      "name": "python",
      "nbconvert_exporter": "python",
      "pygments_lexer": "ipython3",
      "version": "3.7.1"
    }
  },
  "nbformat": 4,
  "nbformat_minor": 0
}