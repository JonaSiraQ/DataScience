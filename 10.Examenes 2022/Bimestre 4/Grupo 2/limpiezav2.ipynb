{
 "cells": [
  {
   "cell_type": "markdown",
   "metadata": {},
   "source": [
    "# Exámen Diplomatura Ciencia de Datos 4º Bimestre\n",
    "\n",
    "Este notebook contiene el analisis exploratorio y la limpieza de los datos a aplicar en el modelo predictivo para el problema de negocio planteado.\n",
    "\n",
    "## Datos del Grupo\n",
    "\n",
    "Nombre y Apellido | LU\n",
    "\n",
    "---"
   ]
  },
  {
   "cell_type": "code",
   "execution_count": 129,
   "metadata": {},
   "outputs": [],
   "source": [
    "import pandas as pd\n",
    "import numpy as np"
   ]
  },
  {
   "cell_type": "code",
   "execution_count": 130,
   "metadata": {},
   "outputs": [
    {
     "data": {
      "text/html": [
       "<div>\n",
       "<style scoped>\n",
       "    .dataframe tbody tr th:only-of-type {\n",
       "        vertical-align: middle;\n",
       "    }\n",
       "\n",
       "    .dataframe tbody tr th {\n",
       "        vertical-align: top;\n",
       "    }\n",
       "\n",
       "    .dataframe thead th {\n",
       "        text-align: right;\n",
       "    }\n",
       "</style>\n",
       "<table border=\"1\" class=\"dataframe\">\n",
       "  <thead>\n",
       "    <tr style=\"text-align: right;\">\n",
       "      <th></th>\n",
       "      <th>Carryover 2021</th>\n",
       "      <th>mes num</th>\n",
       "      <th>tipo imputacion</th>\n",
       "      <th>tipo de gasto</th>\n",
       "      <th>pais</th>\n",
       "      <th>area</th>\n",
       "      <th>budget disponible</th>\n",
       "      <th>year</th>\n",
       "      <th>Es Extrabudget</th>\n",
       "      <th>budget</th>\n",
       "      <th>budget int</th>\n",
       "      <th>saldo</th>\n",
       "      <th>saldo int</th>\n",
       "      <th>real</th>\n",
       "      <th>real int</th>\n",
       "    </tr>\n",
       "  </thead>\n",
       "  <tbody>\n",
       "    <tr>\n",
       "      <th>2215</th>\n",
       "      <td>NaN</td>\n",
       "      <td>10</td>\n",
       "      <td>Opex</td>\n",
       "      <td>GASTO21</td>\n",
       "      <td>Italia</td>\n",
       "      <td>CECO2</td>\n",
       "      <td>Con Budget</td>\n",
       "      <td>2021</td>\n",
       "      <td>No</td>\n",
       "      <td>3556.0</td>\n",
       "      <td>3556</td>\n",
       "      <td>0.0</td>\n",
       "      <td>0</td>\n",
       "      <td>0.00</td>\n",
       "      <td>0</td>\n",
       "    </tr>\n",
       "    <tr>\n",
       "      <th>1259</th>\n",
       "      <td>NaN</td>\n",
       "      <td>5</td>\n",
       "      <td>Opex</td>\n",
       "      <td>GASTO21</td>\n",
       "      <td>España</td>\n",
       "      <td>CECO2</td>\n",
       "      <td>Con Budget</td>\n",
       "      <td>2020</td>\n",
       "      <td>No</td>\n",
       "      <td>6632.0</td>\n",
       "      <td>6632</td>\n",
       "      <td>0.0</td>\n",
       "      <td>0</td>\n",
       "      <td>0.00</td>\n",
       "      <td>0</td>\n",
       "    </tr>\n",
       "    <tr>\n",
       "      <th>9141</th>\n",
       "      <td>NaN</td>\n",
       "      <td>10</td>\n",
       "      <td>Capex</td>\n",
       "      <td>GASTO12</td>\n",
       "      <td>Francia</td>\n",
       "      <td>CECO1</td>\n",
       "      <td>Sin Budget</td>\n",
       "      <td>2021</td>\n",
       "      <td>NaN</td>\n",
       "      <td>0.0</td>\n",
       "      <td>0</td>\n",
       "      <td>0.0</td>\n",
       "      <td>0</td>\n",
       "      <td>6598.44</td>\n",
       "      <td>6598</td>\n",
       "    </tr>\n",
       "    <tr>\n",
       "      <th>6686</th>\n",
       "      <td>NaN</td>\n",
       "      <td>9</td>\n",
       "      <td>Opex</td>\n",
       "      <td>GASTO13</td>\n",
       "      <td>United Kingdom</td>\n",
       "      <td>CECO1</td>\n",
       "      <td>Con Budget</td>\n",
       "      <td>2022</td>\n",
       "      <td>NO</td>\n",
       "      <td>7400.0</td>\n",
       "      <td>7400</td>\n",
       "      <td>0.0</td>\n",
       "      <td>0</td>\n",
       "      <td>0.00</td>\n",
       "      <td>0</td>\n",
       "    </tr>\n",
       "    <tr>\n",
       "      <th>8818</th>\n",
       "      <td>NaN</td>\n",
       "      <td>4</td>\n",
       "      <td>Opex</td>\n",
       "      <td>GASTO15</td>\n",
       "      <td>Francia</td>\n",
       "      <td>CECO2</td>\n",
       "      <td>Con Budget</td>\n",
       "      <td>2022</td>\n",
       "      <td>NaN</td>\n",
       "      <td>1017.0</td>\n",
       "      <td>1017</td>\n",
       "      <td>0.0</td>\n",
       "      <td>0</td>\n",
       "      <td>0.00</td>\n",
       "      <td>0</td>\n",
       "    </tr>\n",
       "  </tbody>\n",
       "</table>\n",
       "</div>"
      ],
      "text/plain": [
       "      Carryover 2021  mes num tipo imputacion tipo de gasto            pais  \\\n",
       "2215             NaN       10            Opex       GASTO21          Italia   \n",
       "1259             NaN        5            Opex       GASTO21          España   \n",
       "9141             NaN       10           Capex       GASTO12         Francia   \n",
       "6686             NaN        9            Opex       GASTO13  United Kingdom   \n",
       "8818             NaN        4            Opex       GASTO15         Francia   \n",
       "\n",
       "       area budget disponible  year Es Extrabudget  budget  budget int  saldo  \\\n",
       "2215  CECO2        Con Budget  2021             No  3556.0        3556    0.0   \n",
       "1259  CECO2        Con Budget  2020             No  6632.0        6632    0.0   \n",
       "9141  CECO1        Sin Budget  2021            NaN     0.0           0    0.0   \n",
       "6686  CECO1        Con Budget  2022             NO  7400.0        7400    0.0   \n",
       "8818  CECO2        Con Budget  2022            NaN  1017.0        1017    0.0   \n",
       "\n",
       "      saldo int     real  real int  \n",
       "2215          0     0.00         0  \n",
       "1259          0     0.00         0  \n",
       "9141          0  6598.44      6598  \n",
       "6686          0     0.00         0  \n",
       "8818          0     0.00         0  "
      ]
     },
     "execution_count": 130,
     "metadata": {},
     "output_type": "execute_result"
    }
   ],
   "source": [
    "df = pd.read_excel(\"./db/budget_raw.xlsx\")\n",
    "# df = pd.read_csv(\"./db/budget_raw.csv\",encoding='latin')\n",
    "df.sample(5)"
   ]
  },
  {
   "cell_type": "markdown",
   "metadata": {},
   "source": [
    "Quitamos un par de columnas vestigio que quedaron del ETL"
   ]
  },
  {
   "cell_type": "code",
   "execution_count": 131,
   "metadata": {},
   "outputs": [],
   "source": [
    "df = df.drop(['budget','real','saldo','Carryover 2021'],axis=1)"
   ]
  },
  {
   "cell_type": "markdown",
   "metadata": {},
   "source": [
    "Renombramos las coluimnas a algo mas útil "
   ]
  },
  {
   "cell_type": "code",
   "execution_count": 132,
   "metadata": {},
   "outputs": [
    {
     "data": {
      "text/html": [
       "<div>\n",
       "<style scoped>\n",
       "    .dataframe tbody tr th:only-of-type {\n",
       "        vertical-align: middle;\n",
       "    }\n",
       "\n",
       "    .dataframe tbody tr th {\n",
       "        vertical-align: top;\n",
       "    }\n",
       "\n",
       "    .dataframe thead th {\n",
       "        text-align: right;\n",
       "    }\n",
       "</style>\n",
       "<table border=\"1\" class=\"dataframe\">\n",
       "  <thead>\n",
       "    <tr style=\"text-align: right;\">\n",
       "      <th></th>\n",
       "      <th>mes num</th>\n",
       "      <th>tipo imputacion</th>\n",
       "      <th>tipo de gasto</th>\n",
       "      <th>pais</th>\n",
       "      <th>area</th>\n",
       "      <th>budget disponible</th>\n",
       "      <th>year</th>\n",
       "      <th>budget</th>\n",
       "      <th>real</th>\n",
       "      <th>saldo</th>\n",
       "      <th>es_extrabudget</th>\n",
       "    </tr>\n",
       "  </thead>\n",
       "  <tbody>\n",
       "    <tr>\n",
       "      <th>7307</th>\n",
       "      <td>8</td>\n",
       "      <td>Opex</td>\n",
       "      <td>GASTO2</td>\n",
       "      <td>Polonia</td>\n",
       "      <td>CECO2</td>\n",
       "      <td>Con Budget</td>\n",
       "      <td>2021</td>\n",
       "      <td>545</td>\n",
       "      <td>0</td>\n",
       "      <td>0</td>\n",
       "      <td>No</td>\n",
       "    </tr>\n",
       "  </tbody>\n",
       "</table>\n",
       "</div>"
      ],
      "text/plain": [
       "      mes num tipo imputacion tipo de gasto     pais   area budget disponible  \\\n",
       "7307        8            Opex        GASTO2  Polonia  CECO2        Con Budget   \n",
       "\n",
       "      year  budget  real  saldo es_extrabudget  \n",
       "7307  2021     545     0      0             No  "
      ]
     },
     "execution_count": 132,
     "metadata": {},
     "output_type": "execute_result"
    }
   ],
   "source": [
    "df['budget'] = df['budget int']\n",
    "df['real'] = df['real int']\n",
    "df['saldo'] = df['saldo int']\n",
    "df['es_extrabudget'] = df['Es Extrabudget']\n",
    "df = df.drop(['budget int','real int','saldo int','Es Extrabudget'],axis=1)\n",
    "df.sample()"
   ]
  },
  {
   "cell_type": "code",
   "execution_count": 133,
   "metadata": {},
   "outputs": [],
   "source": [
    "df[\"gasto\"] = df['tipo de gasto']\n",
    "df['budget_disponible'] = df['budget disponible']\n",
    "df['imputacion'] = df['tipo imputacion']\n",
    "df['mes'] = df['mes num']\n",
    "df = df.drop(['tipo de gasto','budget disponible','tipo imputacion','mes num'],axis=1)"
   ]
  },
  {
   "cell_type": "code",
   "execution_count": 134,
   "metadata": {},
   "outputs": [
    {
     "data": {
      "text/html": [
       "<div>\n",
       "<style scoped>\n",
       "    .dataframe tbody tr th:only-of-type {\n",
       "        vertical-align: middle;\n",
       "    }\n",
       "\n",
       "    .dataframe tbody tr th {\n",
       "        vertical-align: top;\n",
       "    }\n",
       "\n",
       "    .dataframe thead th {\n",
       "        text-align: right;\n",
       "    }\n",
       "</style>\n",
       "<table border=\"1\" class=\"dataframe\">\n",
       "  <thead>\n",
       "    <tr style=\"text-align: right;\">\n",
       "      <th></th>\n",
       "      <th>pais</th>\n",
       "      <th>area</th>\n",
       "      <th>year</th>\n",
       "      <th>budget</th>\n",
       "      <th>real</th>\n",
       "      <th>saldo</th>\n",
       "      <th>es_extrabudget</th>\n",
       "      <th>gasto</th>\n",
       "      <th>budget_disponible</th>\n",
       "      <th>imputacion</th>\n",
       "      <th>mes</th>\n",
       "    </tr>\n",
       "  </thead>\n",
       "  <tbody>\n",
       "    <tr>\n",
       "      <th>4444</th>\n",
       "      <td>Francia</td>\n",
       "      <td>CECO1</td>\n",
       "      <td>2022</td>\n",
       "      <td>2000</td>\n",
       "      <td>0</td>\n",
       "      <td>0</td>\n",
       "      <td>NaN</td>\n",
       "      <td>GASTO16</td>\n",
       "      <td>Con Budget</td>\n",
       "      <td>Opex</td>\n",
       "      <td>12</td>\n",
       "    </tr>\n",
       "    <tr>\n",
       "      <th>9765</th>\n",
       "      <td>United Kingdom</td>\n",
       "      <td>CECO2</td>\n",
       "      <td>2020</td>\n",
       "      <td>15300</td>\n",
       "      <td>0</td>\n",
       "      <td>0</td>\n",
       "      <td>No</td>\n",
       "      <td>GASTO3</td>\n",
       "      <td>Con Budget</td>\n",
       "      <td>Opex</td>\n",
       "      <td>2</td>\n",
       "    </tr>\n",
       "    <tr>\n",
       "      <th>639</th>\n",
       "      <td>Polonia</td>\n",
       "      <td>CECO2</td>\n",
       "      <td>2022</td>\n",
       "      <td>0</td>\n",
       "      <td>23829</td>\n",
       "      <td>0</td>\n",
       "      <td>NaN</td>\n",
       "      <td>GASTO17</td>\n",
       "      <td>Sin Budget</td>\n",
       "      <td>Capex</td>\n",
       "      <td>3</td>\n",
       "    </tr>\n",
       "    <tr>\n",
       "      <th>7001</th>\n",
       "      <td>Alemania</td>\n",
       "      <td>CECO2</td>\n",
       "      <td>2021</td>\n",
       "      <td>91500</td>\n",
       "      <td>0</td>\n",
       "      <td>0</td>\n",
       "      <td>No</td>\n",
       "      <td>GASTO13</td>\n",
       "      <td>Con Budget</td>\n",
       "      <td>Opex</td>\n",
       "      <td>5</td>\n",
       "    </tr>\n",
       "    <tr>\n",
       "      <th>2414</th>\n",
       "      <td>Italia</td>\n",
       "      <td>CECO1</td>\n",
       "      <td>2022</td>\n",
       "      <td>0</td>\n",
       "      <td>3052</td>\n",
       "      <td>0</td>\n",
       "      <td>NaN</td>\n",
       "      <td>GASTO10</td>\n",
       "      <td>Sin Budget</td>\n",
       "      <td>Capex</td>\n",
       "      <td>3</td>\n",
       "    </tr>\n",
       "  </tbody>\n",
       "</table>\n",
       "</div>"
      ],
      "text/plain": [
       "                pais   area  year  budget   real  saldo es_extrabudget  \\\n",
       "4444         Francia  CECO1  2022    2000      0      0            NaN   \n",
       "9765  United Kingdom  CECO2  2020   15300      0      0             No   \n",
       "639          Polonia  CECO2  2022       0  23829      0            NaN   \n",
       "7001        Alemania  CECO2  2021   91500      0      0             No   \n",
       "2414          Italia  CECO1  2022       0   3052      0            NaN   \n",
       "\n",
       "        gasto budget_disponible imputacion  mes  \n",
       "4444  GASTO16        Con Budget       Opex   12  \n",
       "9765   GASTO3        Con Budget       Opex    2  \n",
       "639   GASTO17        Sin Budget      Capex    3  \n",
       "7001  GASTO13        Con Budget       Opex    5  \n",
       "2414  GASTO10        Sin Budget      Capex    3  "
      ]
     },
     "execution_count": 134,
     "metadata": {},
     "output_type": "execute_result"
    }
   ],
   "source": [
    "df.sample(5)"
   ]
  },
  {
   "cell_type": "code",
   "execution_count": 135,
   "metadata": {},
   "outputs": [
    {
     "name": "stdout",
     "output_type": "stream",
     "text": [
      "<class 'pandas.core.frame.DataFrame'>\n",
      "RangeIndex: 10233 entries, 0 to 10232\n",
      "Data columns (total 11 columns):\n",
      " #   Column             Non-Null Count  Dtype \n",
      "---  ------             --------------  ----- \n",
      " 0   pais               10233 non-null  object\n",
      " 1   area               10233 non-null  object\n",
      " 2   year               10233 non-null  int64 \n",
      " 3   budget             10233 non-null  int64 \n",
      " 4   real               10233 non-null  int64 \n",
      " 5   saldo              10233 non-null  int64 \n",
      " 6   es_extrabudget     4770 non-null   object\n",
      " 7   gasto              10233 non-null  object\n",
      " 8   budget_disponible  10233 non-null  object\n",
      " 9   imputacion         10233 non-null  object\n",
      " 10  mes                10233 non-null  int64 \n",
      "dtypes: int64(5), object(6)\n",
      "memory usage: 879.5+ KB\n"
     ]
    }
   ],
   "source": [
    "df.info()"
   ]
  },
  {
   "cell_type": "code",
   "execution_count": 136,
   "metadata": {},
   "outputs": [
    {
     "data": {
      "text/plain": [
       "pais                    0\n",
       "area                    0\n",
       "year                    0\n",
       "budget                  0\n",
       "real                    0\n",
       "saldo                   0\n",
       "es_extrabudget       5463\n",
       "gasto                   0\n",
       "budget_disponible       0\n",
       "imputacion              0\n",
       "mes                     0\n",
       "dtype: int64"
      ]
     },
     "execution_count": 136,
     "metadata": {},
     "output_type": "execute_result"
    }
   ],
   "source": [
    "df.isna().sum()"
   ]
  },
  {
   "cell_type": "code",
   "execution_count": 137,
   "metadata": {},
   "outputs": [
    {
     "name": "stdout",
     "output_type": "stream",
     "text": [
      "pais:['España' 'Francia' 'United Kingdom' 'Italia' 'Republica Checa' 'Alemania'\n",
      " 'Polonia' 'Suiza' 'Austria' 'Eslovenia']\n",
      "\n",
      "area:['CECO1' 'CECO2' 'CECO3']\n",
      "\n",
      "year:[2022 2021 2020]\n",
      "\n",
      "budget:[      0    3550   13337 ... 2017774  119903    9400]\n",
      "\n",
      "real:[522187   1028      0 ... 115495   2923   3138]\n",
      "\n",
      "saldo:[      0   31949   19236   10614   58727  471039   16493    3953  293136\n",
      "     230    2470   69279     688     944   33348    7136   13052     555\n",
      "      30      23     565     537    1114    9955    2637   13159  150758\n",
      "   41560  585558  313447    1153    2237    7692     120 2573725    7727\n",
      "   47729    2203    5963    5485    6025  155709  382340     226   10146\n",
      "    6562   67686     800  614335    8383 1700076  128134    2230    7213\n",
      "  509409     380    5228   14490    4015     545   12849   19412     913\n",
      "    2208   14103    7830  165749    1779  513608     390   49338  531585\n",
      "   11847  434662   99380     143    2775     462    4840    4803    2968\n",
      "    4075  203048   44310     634  666901   60095   63647   99439   29411\n",
      "    2372   84541    2451    1260   40560     341    1786   24888  203259\n",
      "  131981      62   22092    3504    1551   29797    1488   12566   77119\n",
      "   26410   10360   15848   17569     570    9951  990080    7661      92\n",
      "   32690   64042    5659  187756  167435    1365     592  856088      60\n",
      "   15500    7077  612324    1523      20   27156    9263    6300   39268\n",
      "    3582  205207    4313     963   53671   21720    2527   15781   29062\n",
      "    6075    7561   44324   10294    8792   74258   32994   13129  161110\n",
      "   31859  238418   10679  100075    1079    6030 1302789   20851   44849\n",
      "    2739      94   13728    1968    8190   77145   27329      11    6716\n",
      "     218    3271   20932    4752  129755  156365    3036     207    3945\n",
      "    2151    1158    1363   35340     730     270   31404    1506   68715\n",
      "     646    3960    4625   33075   64474   53567   13357    4661    1137]\n",
      "\n",
      "es_extrabudget:[nan 'No' 'SÍ' 'SI' 'NO' 'Si' 'ESTA OK' '51406' 'AJUSTADO']\n",
      "\n",
      "gasto:['GASTO13' 'GASTO6' 'GASTO5' 'GASTO9' 'GASTO15' 'GASTO12' 'GASTO8'\n",
      " 'GASTO18' 'GASTO14' 'GASTO7' 'GASTO17' 'GASTO19' 'GASTO2' 'GASTO21'\n",
      " 'GASTO11' 'GASTO20' 'GASTO4' 'GASTO16' 'GASTO3' 'SIN CTA' 'GASTO1'\n",
      " 'GASTO10' 'GASTO0']\n",
      "\n",
      "budget_disponible:['Sin Budget' 'Con Budget']\n",
      "\n",
      "imputacion:['Capex' 'Opex']\n",
      "\n",
      "mes:[ 5  4 10  7 11  3  6  2  1  8 12  9]\n",
      "\n"
     ]
    }
   ],
   "source": [
    "# valores unicos en todas las columnas\n",
    "for i in df.columns:\n",
    "    print(f'{i}:{df[i].unique()}\\n')"
   ]
  },
  {
   "cell_type": "markdown",
   "metadata": {},
   "source": [
    "------"
   ]
  },
  {
   "cell_type": "markdown",
   "metadata": {},
   "source": [
    "## Transformar a \"Booleanos\""
   ]
  },
  {
   "cell_type": "markdown",
   "metadata": {},
   "source": [
    "Remplazamos los campos donde dice Sin Budget por 0s y el resto por 1s"
   ]
  },
  {
   "cell_type": "code",
   "execution_count": 138,
   "metadata": {},
   "outputs": [
    {
     "data": {
      "text/html": [
       "<div>\n",
       "<style scoped>\n",
       "    .dataframe tbody tr th:only-of-type {\n",
       "        vertical-align: middle;\n",
       "    }\n",
       "\n",
       "    .dataframe tbody tr th {\n",
       "        vertical-align: top;\n",
       "    }\n",
       "\n",
       "    .dataframe thead th {\n",
       "        text-align: right;\n",
       "    }\n",
       "</style>\n",
       "<table border=\"1\" class=\"dataframe\">\n",
       "  <thead>\n",
       "    <tr style=\"text-align: right;\">\n",
       "      <th></th>\n",
       "      <th>pais</th>\n",
       "      <th>area</th>\n",
       "      <th>year</th>\n",
       "      <th>budget</th>\n",
       "      <th>real</th>\n",
       "      <th>saldo</th>\n",
       "      <th>es_extrabudget</th>\n",
       "      <th>gasto</th>\n",
       "      <th>budget_disponible</th>\n",
       "      <th>imputacion</th>\n",
       "      <th>mes</th>\n",
       "    </tr>\n",
       "  </thead>\n",
       "  <tbody>\n",
       "    <tr>\n",
       "      <th>5043</th>\n",
       "      <td>United Kingdom</td>\n",
       "      <td>CECO2</td>\n",
       "      <td>2022</td>\n",
       "      <td>833</td>\n",
       "      <td>0</td>\n",
       "      <td>0</td>\n",
       "      <td>NO</td>\n",
       "      <td>GASTO12</td>\n",
       "      <td>1</td>\n",
       "      <td>Opex</td>\n",
       "      <td>1</td>\n",
       "    </tr>\n",
       "    <tr>\n",
       "      <th>8911</th>\n",
       "      <td>United Kingdom</td>\n",
       "      <td>CECO2</td>\n",
       "      <td>2020</td>\n",
       "      <td>10982</td>\n",
       "      <td>0</td>\n",
       "      <td>0</td>\n",
       "      <td>No</td>\n",
       "      <td>GASTO9</td>\n",
       "      <td>1</td>\n",
       "      <td>Opex</td>\n",
       "      <td>3</td>\n",
       "    </tr>\n",
       "    <tr>\n",
       "      <th>7557</th>\n",
       "      <td>Italia</td>\n",
       "      <td>CECO1</td>\n",
       "      <td>2020</td>\n",
       "      <td>0</td>\n",
       "      <td>-301</td>\n",
       "      <td>0</td>\n",
       "      <td>NaN</td>\n",
       "      <td>GASTO15</td>\n",
       "      <td>0</td>\n",
       "      <td>Opex</td>\n",
       "      <td>6</td>\n",
       "    </tr>\n",
       "    <tr>\n",
       "      <th>1069</th>\n",
       "      <td>España</td>\n",
       "      <td>CECO2</td>\n",
       "      <td>2020</td>\n",
       "      <td>0</td>\n",
       "      <td>0</td>\n",
       "      <td>0</td>\n",
       "      <td>No</td>\n",
       "      <td>GASTO6</td>\n",
       "      <td>1</td>\n",
       "      <td>Opex</td>\n",
       "      <td>1</td>\n",
       "    </tr>\n",
       "    <tr>\n",
       "      <th>1859</th>\n",
       "      <td>Republica Checa</td>\n",
       "      <td>CECO2</td>\n",
       "      <td>2020</td>\n",
       "      <td>166</td>\n",
       "      <td>0</td>\n",
       "      <td>0</td>\n",
       "      <td>No</td>\n",
       "      <td>GASTO20</td>\n",
       "      <td>1</td>\n",
       "      <td>Opex</td>\n",
       "      <td>1</td>\n",
       "    </tr>\n",
       "  </tbody>\n",
       "</table>\n",
       "</div>"
      ],
      "text/plain": [
       "                 pais   area  year  budget  real  saldo es_extrabudget  \\\n",
       "5043   United Kingdom  CECO2  2022     833     0      0             NO   \n",
       "8911   United Kingdom  CECO2  2020   10982     0      0             No   \n",
       "7557           Italia  CECO1  2020       0  -301      0            NaN   \n",
       "1069           España  CECO2  2020       0     0      0             No   \n",
       "1859  Republica Checa  CECO2  2020     166     0      0             No   \n",
       "\n",
       "        gasto  budget_disponible imputacion  mes  \n",
       "5043  GASTO12                  1       Opex    1  \n",
       "8911   GASTO9                  1       Opex    3  \n",
       "7557  GASTO15                  0       Opex    6  \n",
       "1069   GASTO6                  1       Opex    1  \n",
       "1859  GASTO20                  1       Opex    1  "
      ]
     },
     "execution_count": 138,
     "metadata": {},
     "output_type": "execute_result"
    }
   ],
   "source": [
    "dfBool = df.copy()\n",
    "mask = df['budget_disponible'] == \"Sin Budget\"\n",
    "dfBool.loc[mask,\"budget_disponible\"] = 0\n",
    "mask = df['budget_disponible'] == \"Con Budget\"\n",
    "dfBool.loc[mask,\"budget_disponible\"] = 1\n",
    "dfBool['budget_disponible'] = dfBool['budget_disponible'].astype(int)\n",
    "dfBool.sample(5)\n"
   ]
  },
  {
   "cell_type": "code",
   "execution_count": 139,
   "metadata": {},
   "outputs": [],
   "source": [
    "# dfBool['Carryover 2021'] = np.where(dfBool['Carryover 2021'] == 'Carryover 2021',1,0) # CORRER SOLO 1 VEZ\n"
   ]
  },
  {
   "cell_type": "code",
   "execution_count": 140,
   "metadata": {},
   "outputs": [],
   "source": [
    "# print(df['Carryover 2021'].value_counts(), \"\\n dfbool:  \",dfBool['Carryover 2021'].value_counts())\n",
    "\n"
   ]
  },
  {
   "cell_type": "code",
   "execution_count": 141,
   "metadata": {},
   "outputs": [],
   "source": [
    "# dfBool[dfBool['Carryover 2021'] == 1]"
   ]
  },
  {
   "cell_type": "markdown",
   "metadata": {},
   "source": [
    "Cambiamos los valores de la col es_extrabudget a boleanos"
   ]
  },
  {
   "cell_type": "code",
   "execution_count": null,
   "metadata": {},
   "outputs": [],
   "source": [
    "# [nan 'NO' 'SI' 51406 'AJUSTADO' 'ESTA OK' 'SÍ']\n",
    "# [nan 'No' 'SÍ' 'SI' 'NO' 'Si' 'ESTA OK' '51406' 'AJUSTADO']\n",
    "dfBool['es_extrabudget'] = dfBool['es_extrabudget'].replace(np.nan, 0)\n",
    "dfBool.loc[dfBool['es_extrabudget'] == 'NO',\"es_extrabudget\"] = 0\n",
    "dfBool.loc[dfBool['es_extrabudget'] == 'No',\"es_extrabudget\"] = 0\n",
    "dfBool.loc[dfBool['es_extrabudget'] == 'SI',\"es_extrabudget\"] = 1\n",
    "dfBool.loc[dfBool['es_extrabudget'] == 'SÍ',\"es_extrabudget\"] = 1 \n",
    "dfBool.loc[dfBool['es_extrabudget'] == 'Si',\"es_extrabudget\"] = 1 \n",
    "dfBool.loc[dfBool['es_extrabudget'] == 'AJUSTADO',\"es_extrabudget\"] = 1   \n",
    "dfBool.loc[dfBool['es_extrabudget'] == 'ESTA OK',\"es_extrabudget\"] = 1   \n",
    "dfBool.loc[dfBool['es_extrabudget'] == 51406,\"es_extrabudget\"] = 1   \n",
    "dfBool.loc[dfBool['es_extrabudget'] == '51406',\"es_extrabudget\"] = 1   \n",
    "\n"
   ]
  },
  {
   "cell_type": "code",
   "execution_count": 143,
   "metadata": {},
   "outputs": [
    {
     "data": {
      "text/plain": [
       "0    10020\n",
       "1      213\n",
       "Name: es_extrabudget, dtype: int64"
      ]
     },
     "execution_count": 143,
     "metadata": {},
     "output_type": "execute_result"
    }
   ],
   "source": [
    "dfBool['es_extrabudget'].value_counts()"
   ]
  },
  {
   "cell_type": "code",
   "execution_count": 144,
   "metadata": {},
   "outputs": [
    {
     "data": {
      "text/plain": [
       "pais                 object\n",
       "area                 object\n",
       "year                  int64\n",
       "budget                int64\n",
       "real                  int64\n",
       "saldo                 int64\n",
       "es_extrabudget        int32\n",
       "gasto                object\n",
       "budget_disponible     int32\n",
       "imputacion           object\n",
       "mes                   int64\n",
       "dtype: object"
      ]
     },
     "execution_count": 144,
     "metadata": {},
     "output_type": "execute_result"
    }
   ],
   "source": [
    "\"\"\"\n",
    "    Convertimos el tipo de datos de la columnas a Ints\n",
    "\"\"\"\n",
    "dfBool['es_extrabudget']=dfBool['es_extrabudget'].astype(int)\n",
    "dfBool.dtypes"
   ]
  },
  {
   "cell_type": "code",
   "execution_count": 145,
   "metadata": {},
   "outputs": [],
   "source": [
    "\"\"\"\n",
    "    Copiamos el dataframe \n",
    "\"\"\"\n",
    "dfOut = dfBool.copy()"
   ]
  },
  {
   "cell_type": "markdown",
   "metadata": {},
   "source": [
    "## Area y Cuenta"
   ]
  },
  {
   "cell_type": "markdown",
   "metadata": {},
   "source": [
    "### Area"
   ]
  },
  {
   "cell_type": "markdown",
   "metadata": {},
   "source": [
    "Convertimos la columna area a numeros"
   ]
  },
  {
   "cell_type": "code",
   "execution_count": 146,
   "metadata": {},
   "outputs": [],
   "source": [
    "dfOut.loc[dfOut.area == 'CECO1','area'] = 1\n",
    "dfOut.loc[dfOut.area == 'CECO2','area'] = 2\n",
    "dfOut.loc[dfOut.area == 'CECO3','area'] = 3"
   ]
  },
  {
   "cell_type": "code",
   "execution_count": 147,
   "metadata": {},
   "outputs": [
    {
     "data": {
      "text/plain": [
       "array([1, 2, 3], dtype=object)"
      ]
     },
     "execution_count": 147,
     "metadata": {},
     "output_type": "execute_result"
    }
   ],
   "source": [
    "dfOut.area.unique()"
   ]
  },
  {
   "cell_type": "code",
   "execution_count": 148,
   "metadata": {},
   "outputs": [
    {
     "data": {
      "text/plain": [
       "pais                 object\n",
       "area                  int32\n",
       "year                  int64\n",
       "budget                int64\n",
       "real                  int64\n",
       "saldo                 int64\n",
       "es_extrabudget        int32\n",
       "gasto                object\n",
       "budget_disponible     int32\n",
       "imputacion           object\n",
       "mes                   int64\n",
       "dtype: object"
      ]
     },
     "execution_count": 148,
     "metadata": {},
     "output_type": "execute_result"
    }
   ],
   "source": [
    "dfOut['area']=dfOut['area'].astype(int)\n",
    "dfOut.dtypes"
   ]
  },
  {
   "cell_type": "markdown",
   "metadata": {},
   "source": [
    "### Cuenta"
   ]
  },
  {
   "cell_type": "markdown",
   "metadata": {},
   "source": [
    "Truncamos los caracteres de la columna gasto y transformamos el tipo de datos a enteros"
   ]
  },
  {
   "cell_type": "code",
   "execution_count": 149,
   "metadata": {},
   "outputs": [
    {
     "data": {
      "text/html": [
       "<div>\n",
       "<style scoped>\n",
       "    .dataframe tbody tr th:only-of-type {\n",
       "        vertical-align: middle;\n",
       "    }\n",
       "\n",
       "    .dataframe tbody tr th {\n",
       "        vertical-align: top;\n",
       "    }\n",
       "\n",
       "    .dataframe thead th {\n",
       "        text-align: right;\n",
       "    }\n",
       "</style>\n",
       "<table border=\"1\" class=\"dataframe\">\n",
       "  <thead>\n",
       "    <tr style=\"text-align: right;\">\n",
       "      <th></th>\n",
       "      <th>pais</th>\n",
       "      <th>area</th>\n",
       "      <th>year</th>\n",
       "      <th>budget</th>\n",
       "      <th>real</th>\n",
       "      <th>saldo</th>\n",
       "      <th>es_extrabudget</th>\n",
       "      <th>gasto</th>\n",
       "      <th>budget_disponible</th>\n",
       "      <th>imputacion</th>\n",
       "      <th>mes</th>\n",
       "    </tr>\n",
       "  </thead>\n",
       "  <tbody>\n",
       "    <tr>\n",
       "      <th>8927</th>\n",
       "      <td>Polonia</td>\n",
       "      <td>2</td>\n",
       "      <td>2022</td>\n",
       "      <td>0</td>\n",
       "      <td>609</td>\n",
       "      <td>27329</td>\n",
       "      <td>0</td>\n",
       "      <td>GASTO3</td>\n",
       "      <td>0</td>\n",
       "      <td>Opex</td>\n",
       "      <td>11</td>\n",
       "    </tr>\n",
       "    <tr>\n",
       "      <th>6608</th>\n",
       "      <td>Francia</td>\n",
       "      <td>2</td>\n",
       "      <td>2020</td>\n",
       "      <td>0</td>\n",
       "      <td>244</td>\n",
       "      <td>0</td>\n",
       "      <td>0</td>\n",
       "      <td>GASTO16</td>\n",
       "      <td>0</td>\n",
       "      <td>Opex</td>\n",
       "      <td>1</td>\n",
       "    </tr>\n",
       "    <tr>\n",
       "      <th>7398</th>\n",
       "      <td>Francia</td>\n",
       "      <td>2</td>\n",
       "      <td>2022</td>\n",
       "      <td>0</td>\n",
       "      <td>1977</td>\n",
       "      <td>0</td>\n",
       "      <td>0</td>\n",
       "      <td>GASTO2</td>\n",
       "      <td>0</td>\n",
       "      <td>Opex</td>\n",
       "      <td>9</td>\n",
       "    </tr>\n",
       "    <tr>\n",
       "      <th>3891</th>\n",
       "      <td>Polonia</td>\n",
       "      <td>2</td>\n",
       "      <td>2020</td>\n",
       "      <td>101850</td>\n",
       "      <td>0</td>\n",
       "      <td>0</td>\n",
       "      <td>0</td>\n",
       "      <td>GASTO11</td>\n",
       "      <td>1</td>\n",
       "      <td>Capex</td>\n",
       "      <td>9</td>\n",
       "    </tr>\n",
       "    <tr>\n",
       "      <th>1560</th>\n",
       "      <td>Francia</td>\n",
       "      <td>2</td>\n",
       "      <td>2021</td>\n",
       "      <td>0</td>\n",
       "      <td>4534</td>\n",
       "      <td>0</td>\n",
       "      <td>0</td>\n",
       "      <td>GASTO19</td>\n",
       "      <td>0</td>\n",
       "      <td>Opex</td>\n",
       "      <td>11</td>\n",
       "    </tr>\n",
       "  </tbody>\n",
       "</table>\n",
       "</div>"
      ],
      "text/plain": [
       "         pais  area  year  budget  real  saldo  es_extrabudget    gasto  \\\n",
       "8927  Polonia     2  2022       0   609  27329               0   GASTO3   \n",
       "6608  Francia     2  2020       0   244      0               0  GASTO16   \n",
       "7398  Francia     2  2022       0  1977      0               0   GASTO2   \n",
       "3891  Polonia     2  2020  101850     0      0               0  GASTO11   \n",
       "1560  Francia     2  2021       0  4534      0               0  GASTO19   \n",
       "\n",
       "      budget_disponible imputacion  mes  \n",
       "8927                  0       Opex   11  \n",
       "6608                  0       Opex    1  \n",
       "7398                  0       Opex    9  \n",
       "3891                  1      Capex    9  \n",
       "1560                  0       Opex   11  "
      ]
     },
     "execution_count": 149,
     "metadata": {},
     "output_type": "execute_result"
    }
   ],
   "source": [
    "dfOut.sample(5)"
   ]
  },
  {
   "cell_type": "code",
   "execution_count": 150,
   "metadata": {},
   "outputs": [],
   "source": [
    "dfOut['gasto'] = dfOut.gasto.str.replace('GASTO','')\n",
    "dfOut['gasto'] = dfOut.gasto.str.replace('SIN CTA','0')\n"
   ]
  },
  {
   "cell_type": "code",
   "execution_count": 151,
   "metadata": {},
   "outputs": [
    {
     "data": {
      "text/plain": [
       "array(['13', '6', '5', '9', '15', '12', '8', '18', '14', '7', '17', '19',\n",
       "       '2', '21', '11', '20', '4', '16', '3', '0', '1', '10'],\n",
       "      dtype=object)"
      ]
     },
     "execution_count": 151,
     "metadata": {},
     "output_type": "execute_result"
    }
   ],
   "source": [
    "dfOut.gasto.unique()"
   ]
  },
  {
   "cell_type": "code",
   "execution_count": 152,
   "metadata": {},
   "outputs": [
    {
     "data": {
      "text/plain": [
       "pais                 object\n",
       "area                  int32\n",
       "year                  int64\n",
       "budget                int64\n",
       "real                  int64\n",
       "saldo                 int64\n",
       "es_extrabudget        int32\n",
       "gasto                 int32\n",
       "budget_disponible     int32\n",
       "imputacion           object\n",
       "mes                   int64\n",
       "dtype: object"
      ]
     },
     "execution_count": 152,
     "metadata": {},
     "output_type": "execute_result"
    }
   ],
   "source": [
    "dfOut.gasto=dfOut.gasto.astype(int)\n",
    "dfOut.dtypes"
   ]
  },
  {
   "cell_type": "code",
   "execution_count": 153,
   "metadata": {},
   "outputs": [
    {
     "data": {
      "text/html": [
       "<div>\n",
       "<style scoped>\n",
       "    .dataframe tbody tr th:only-of-type {\n",
       "        vertical-align: middle;\n",
       "    }\n",
       "\n",
       "    .dataframe tbody tr th {\n",
       "        vertical-align: top;\n",
       "    }\n",
       "\n",
       "    .dataframe thead th {\n",
       "        text-align: right;\n",
       "    }\n",
       "</style>\n",
       "<table border=\"1\" class=\"dataframe\">\n",
       "  <thead>\n",
       "    <tr style=\"text-align: right;\">\n",
       "      <th></th>\n",
       "      <th>pais</th>\n",
       "      <th>area</th>\n",
       "      <th>year</th>\n",
       "      <th>budget</th>\n",
       "      <th>real</th>\n",
       "      <th>saldo</th>\n",
       "      <th>es_extrabudget</th>\n",
       "      <th>gasto</th>\n",
       "      <th>budget_disponible</th>\n",
       "      <th>imputacion</th>\n",
       "      <th>mes</th>\n",
       "    </tr>\n",
       "  </thead>\n",
       "  <tbody>\n",
       "    <tr>\n",
       "      <th>5563</th>\n",
       "      <td>United Kingdom</td>\n",
       "      <td>3</td>\n",
       "      <td>2021</td>\n",
       "      <td>1750</td>\n",
       "      <td>0</td>\n",
       "      <td>0</td>\n",
       "      <td>0</td>\n",
       "      <td>2</td>\n",
       "      <td>1</td>\n",
       "      <td>Opex</td>\n",
       "      <td>8</td>\n",
       "    </tr>\n",
       "    <tr>\n",
       "      <th>2002</th>\n",
       "      <td>Polonia</td>\n",
       "      <td>2</td>\n",
       "      <td>2022</td>\n",
       "      <td>0</td>\n",
       "      <td>10552</td>\n",
       "      <td>0</td>\n",
       "      <td>0</td>\n",
       "      <td>19</td>\n",
       "      <td>0</td>\n",
       "      <td>Opex</td>\n",
       "      <td>10</td>\n",
       "    </tr>\n",
       "    <tr>\n",
       "      <th>8676</th>\n",
       "      <td>Francia</td>\n",
       "      <td>2</td>\n",
       "      <td>2021</td>\n",
       "      <td>0</td>\n",
       "      <td>0</td>\n",
       "      <td>0</td>\n",
       "      <td>0</td>\n",
       "      <td>7</td>\n",
       "      <td>1</td>\n",
       "      <td>Opex</td>\n",
       "      <td>8</td>\n",
       "    </tr>\n",
       "    <tr>\n",
       "      <th>4605</th>\n",
       "      <td>Alemania</td>\n",
       "      <td>2</td>\n",
       "      <td>2021</td>\n",
       "      <td>5000</td>\n",
       "      <td>0</td>\n",
       "      <td>0</td>\n",
       "      <td>0</td>\n",
       "      <td>4</td>\n",
       "      <td>1</td>\n",
       "      <td>Opex</td>\n",
       "      <td>8</td>\n",
       "    </tr>\n",
       "    <tr>\n",
       "      <th>8119</th>\n",
       "      <td>Alemania</td>\n",
       "      <td>1</td>\n",
       "      <td>2021</td>\n",
       "      <td>0</td>\n",
       "      <td>32200</td>\n",
       "      <td>0</td>\n",
       "      <td>0</td>\n",
       "      <td>20</td>\n",
       "      <td>0</td>\n",
       "      <td>Opex</td>\n",
       "      <td>9</td>\n",
       "    </tr>\n",
       "    <tr>\n",
       "      <th>9382</th>\n",
       "      <td>Alemania</td>\n",
       "      <td>1</td>\n",
       "      <td>2022</td>\n",
       "      <td>900</td>\n",
       "      <td>0</td>\n",
       "      <td>0</td>\n",
       "      <td>0</td>\n",
       "      <td>16</td>\n",
       "      <td>1</td>\n",
       "      <td>Opex</td>\n",
       "      <td>9</td>\n",
       "    </tr>\n",
       "    <tr>\n",
       "      <th>2066</th>\n",
       "      <td>Polonia</td>\n",
       "      <td>2</td>\n",
       "      <td>2022</td>\n",
       "      <td>2800</td>\n",
       "      <td>0</td>\n",
       "      <td>0</td>\n",
       "      <td>0</td>\n",
       "      <td>12</td>\n",
       "      <td>1</td>\n",
       "      <td>Capex</td>\n",
       "      <td>5</td>\n",
       "    </tr>\n",
       "    <tr>\n",
       "      <th>9062</th>\n",
       "      <td>España</td>\n",
       "      <td>2</td>\n",
       "      <td>2021</td>\n",
       "      <td>19311</td>\n",
       "      <td>0</td>\n",
       "      <td>0</td>\n",
       "      <td>0</td>\n",
       "      <td>9</td>\n",
       "      <td>1</td>\n",
       "      <td>Opex</td>\n",
       "      <td>8</td>\n",
       "    </tr>\n",
       "    <tr>\n",
       "      <th>5147</th>\n",
       "      <td>Alemania</td>\n",
       "      <td>1</td>\n",
       "      <td>2021</td>\n",
       "      <td>0</td>\n",
       "      <td>29371</td>\n",
       "      <td>0</td>\n",
       "      <td>0</td>\n",
       "      <td>13</td>\n",
       "      <td>0</td>\n",
       "      <td>Capex</td>\n",
       "      <td>10</td>\n",
       "    </tr>\n",
       "    <tr>\n",
       "      <th>9835</th>\n",
       "      <td>Italia</td>\n",
       "      <td>1</td>\n",
       "      <td>2021</td>\n",
       "      <td>0</td>\n",
       "      <td>4260</td>\n",
       "      <td>0</td>\n",
       "      <td>0</td>\n",
       "      <td>21</td>\n",
       "      <td>0</td>\n",
       "      <td>Opex</td>\n",
       "      <td>7</td>\n",
       "    </tr>\n",
       "  </tbody>\n",
       "</table>\n",
       "</div>"
      ],
      "text/plain": [
       "                pais  area  year  budget   real  saldo  es_extrabudget  gasto  \\\n",
       "5563  United Kingdom     3  2021    1750      0      0               0      2   \n",
       "2002         Polonia     2  2022       0  10552      0               0     19   \n",
       "8676         Francia     2  2021       0      0      0               0      7   \n",
       "4605        Alemania     2  2021    5000      0      0               0      4   \n",
       "8119        Alemania     1  2021       0  32200      0               0     20   \n",
       "9382        Alemania     1  2022     900      0      0               0     16   \n",
       "2066         Polonia     2  2022    2800      0      0               0     12   \n",
       "9062          España     2  2021   19311      0      0               0      9   \n",
       "5147        Alemania     1  2021       0  29371      0               0     13   \n",
       "9835          Italia     1  2021       0   4260      0               0     21   \n",
       "\n",
       "      budget_disponible imputacion  mes  \n",
       "5563                  1       Opex    8  \n",
       "2002                  0       Opex   10  \n",
       "8676                  1       Opex    8  \n",
       "4605                  1       Opex    8  \n",
       "8119                  0       Opex    9  \n",
       "9382                  1       Opex    9  \n",
       "2066                  1      Capex    5  \n",
       "9062                  1       Opex    8  \n",
       "5147                  0      Capex   10  \n",
       "9835                  0       Opex    7  "
      ]
     },
     "execution_count": 153,
     "metadata": {},
     "output_type": "execute_result"
    }
   ],
   "source": [
    "dfOut.sample(10)"
   ]
  },
  {
   "cell_type": "markdown",
   "metadata": {},
   "source": [
    "## Pais"
   ]
  },
  {
   "cell_type": "code",
   "execution_count": 154,
   "metadata": {},
   "outputs": [],
   "source": [
    "# dfOut.loc[dfOut.pais=='USA','pais'] = 'Estados Unidos'"
   ]
  },
  {
   "cell_type": "code",
   "execution_count": 155,
   "metadata": {},
   "outputs": [
    {
     "data": {
      "text/plain": [
       "array(['España', 'Francia', 'United Kingdom', 'Italia', 'Republica Checa',\n",
       "       'Alemania', 'Polonia', 'Suiza', 'Austria', 'Eslovenia'],\n",
       "      dtype=object)"
      ]
     },
     "execution_count": 155,
     "metadata": {},
     "output_type": "execute_result"
    }
   ],
   "source": [
    "dfOut.pais.unique()"
   ]
  },
  {
   "cell_type": "markdown",
   "metadata": {},
   "source": [
    "## Budget, real y Saldo"
   ]
  },
  {
   "cell_type": "markdown",
   "metadata": {},
   "source": [
    "Convertimos las columnas Budget, real y saldo a columnas numericas y llenamos los NAN con ceros"
   ]
  },
  {
   "cell_type": "code",
   "execution_count": 156,
   "metadata": {},
   "outputs": [
    {
     "data": {
      "text/plain": [
       "pais                 object\n",
       "area                  int32\n",
       "year                  int64\n",
       "budget                int64\n",
       "real                  int64\n",
       "saldo                 int64\n",
       "es_extrabudget        int32\n",
       "gasto                 int32\n",
       "budget_disponible     int32\n",
       "imputacion           object\n",
       "mes                   int64\n",
       "dtype: object"
      ]
     },
     "execution_count": 156,
     "metadata": {},
     "output_type": "execute_result"
    }
   ],
   "source": [
    "# errors Coerce Transforma los errores a nan\n",
    "dfOut['budget'] = pd.to_numeric(dfOut['budget'])\n",
    "dfOut['real'] = pd.to_numeric(dfOut['real'])\n",
    "dfOut['saldo'] = pd.to_numeric(dfOut['saldo'])\n",
    "dfOut.dtypes"
   ]
  },
  {
   "cell_type": "code",
   "execution_count": 157,
   "metadata": {},
   "outputs": [],
   "source": [
    "dfOut['budget'] = dfOut['budget'].fillna(0)\n",
    "dfOut['real']   = dfOut['real'].fillna(0)\n",
    "dfOut['saldo']  =dfOut['saldo'].fillna(0)"
   ]
  },
  {
   "cell_type": "code",
   "execution_count": 158,
   "metadata": {},
   "outputs": [
    {
     "data": {
      "text/plain": [
       "pais                 0\n",
       "area                 0\n",
       "year                 0\n",
       "budget               0\n",
       "real                 0\n",
       "saldo                0\n",
       "es_extrabudget       0\n",
       "gasto                0\n",
       "budget_disponible    0\n",
       "imputacion           0\n",
       "mes                  0\n",
       "dtype: int64"
      ]
     },
     "execution_count": 158,
     "metadata": {},
     "output_type": "execute_result"
    }
   ],
   "source": [
    "dfOut.isna().sum()"
   ]
  },
  {
   "cell_type": "markdown",
   "metadata": {},
   "source": [
    "Ordenamos por año y mes"
   ]
  },
  {
   "cell_type": "code",
   "execution_count": 159,
   "metadata": {},
   "outputs": [],
   "source": [
    "dfOut = dfOut.set_index(['year','mes'])\n",
    "dfOut = dfOut.sort_values(by=[\"year\",'mes'])\n",
    "dfOut = dfOut.reset_index()"
   ]
  },
  {
   "cell_type": "code",
   "execution_count": 162,
   "metadata": {},
   "outputs": [
    {
     "data": {
      "text/html": [
       "<div>\n",
       "<style scoped>\n",
       "    .dataframe tbody tr th:only-of-type {\n",
       "        vertical-align: middle;\n",
       "    }\n",
       "\n",
       "    .dataframe tbody tr th {\n",
       "        vertical-align: top;\n",
       "    }\n",
       "\n",
       "    .dataframe thead th {\n",
       "        text-align: right;\n",
       "    }\n",
       "</style>\n",
       "<table border=\"1\" class=\"dataframe\">\n",
       "  <thead>\n",
       "    <tr style=\"text-align: right;\">\n",
       "      <th></th>\n",
       "      <th>year</th>\n",
       "      <th>mes</th>\n",
       "      <th>pais</th>\n",
       "      <th>area</th>\n",
       "      <th>budget</th>\n",
       "      <th>real</th>\n",
       "      <th>saldo</th>\n",
       "      <th>es_extrabudget</th>\n",
       "      <th>gasto</th>\n",
       "      <th>budget_disponible</th>\n",
       "      <th>imputacion</th>\n",
       "    </tr>\n",
       "  </thead>\n",
       "  <tbody>\n",
       "    <tr>\n",
       "      <th>0</th>\n",
       "      <td>2020</td>\n",
       "      <td>1</td>\n",
       "      <td>Suiza</td>\n",
       "      <td>2</td>\n",
       "      <td>1125</td>\n",
       "      <td>0</td>\n",
       "      <td>0</td>\n",
       "      <td>0</td>\n",
       "      <td>16</td>\n",
       "      <td>1</td>\n",
       "      <td>Opex</td>\n",
       "    </tr>\n",
       "    <tr>\n",
       "      <th>1</th>\n",
       "      <td>2020</td>\n",
       "      <td>1</td>\n",
       "      <td>Francia</td>\n",
       "      <td>2</td>\n",
       "      <td>15000</td>\n",
       "      <td>0</td>\n",
       "      <td>0</td>\n",
       "      <td>0</td>\n",
       "      <td>11</td>\n",
       "      <td>1</td>\n",
       "      <td>Capex</td>\n",
       "    </tr>\n",
       "    <tr>\n",
       "      <th>2</th>\n",
       "      <td>2020</td>\n",
       "      <td>1</td>\n",
       "      <td>Polonia</td>\n",
       "      <td>2</td>\n",
       "      <td>0</td>\n",
       "      <td>1761</td>\n",
       "      <td>0</td>\n",
       "      <td>0</td>\n",
       "      <td>8</td>\n",
       "      <td>0</td>\n",
       "      <td>Capex</td>\n",
       "    </tr>\n",
       "    <tr>\n",
       "      <th>3</th>\n",
       "      <td>2020</td>\n",
       "      <td>1</td>\n",
       "      <td>United Kingdom</td>\n",
       "      <td>2</td>\n",
       "      <td>0</td>\n",
       "      <td>0</td>\n",
       "      <td>0</td>\n",
       "      <td>0</td>\n",
       "      <td>8</td>\n",
       "      <td>1</td>\n",
       "      <td>Capex</td>\n",
       "    </tr>\n",
       "    <tr>\n",
       "      <th>4</th>\n",
       "      <td>2020</td>\n",
       "      <td>1</td>\n",
       "      <td>Austria</td>\n",
       "      <td>3</td>\n",
       "      <td>107500</td>\n",
       "      <td>0</td>\n",
       "      <td>0</td>\n",
       "      <td>0</td>\n",
       "      <td>19</td>\n",
       "      <td>1</td>\n",
       "      <td>Opex</td>\n",
       "    </tr>\n",
       "    <tr>\n",
       "      <th>...</th>\n",
       "      <td>...</td>\n",
       "      <td>...</td>\n",
       "      <td>...</td>\n",
       "      <td>...</td>\n",
       "      <td>...</td>\n",
       "      <td>...</td>\n",
       "      <td>...</td>\n",
       "      <td>...</td>\n",
       "      <td>...</td>\n",
       "      <td>...</td>\n",
       "      <td>...</td>\n",
       "    </tr>\n",
       "    <tr>\n",
       "      <th>10228</th>\n",
       "      <td>2022</td>\n",
       "      <td>12</td>\n",
       "      <td>Republica Checa</td>\n",
       "      <td>2</td>\n",
       "      <td>200</td>\n",
       "      <td>0</td>\n",
       "      <td>0</td>\n",
       "      <td>0</td>\n",
       "      <td>16</td>\n",
       "      <td>1</td>\n",
       "      <td>Opex</td>\n",
       "    </tr>\n",
       "    <tr>\n",
       "      <th>10229</th>\n",
       "      <td>2022</td>\n",
       "      <td>12</td>\n",
       "      <td>Alemania</td>\n",
       "      <td>2</td>\n",
       "      <td>20672</td>\n",
       "      <td>0</td>\n",
       "      <td>0</td>\n",
       "      <td>0</td>\n",
       "      <td>13</td>\n",
       "      <td>1</td>\n",
       "      <td>Opex</td>\n",
       "    </tr>\n",
       "    <tr>\n",
       "      <th>10230</th>\n",
       "      <td>2022</td>\n",
       "      <td>12</td>\n",
       "      <td>United Kingdom</td>\n",
       "      <td>1</td>\n",
       "      <td>22000</td>\n",
       "      <td>0</td>\n",
       "      <td>0</td>\n",
       "      <td>1</td>\n",
       "      <td>13</td>\n",
       "      <td>1</td>\n",
       "      <td>Capex</td>\n",
       "    </tr>\n",
       "    <tr>\n",
       "      <th>10231</th>\n",
       "      <td>2022</td>\n",
       "      <td>12</td>\n",
       "      <td>España</td>\n",
       "      <td>1</td>\n",
       "      <td>1838610</td>\n",
       "      <td>0</td>\n",
       "      <td>0</td>\n",
       "      <td>0</td>\n",
       "      <td>13</td>\n",
       "      <td>1</td>\n",
       "      <td>Capex</td>\n",
       "    </tr>\n",
       "    <tr>\n",
       "      <th>10232</th>\n",
       "      <td>2022</td>\n",
       "      <td>12</td>\n",
       "      <td>Italia</td>\n",
       "      <td>2</td>\n",
       "      <td>14850</td>\n",
       "      <td>0</td>\n",
       "      <td>0</td>\n",
       "      <td>0</td>\n",
       "      <td>19</td>\n",
       "      <td>1</td>\n",
       "      <td>Opex</td>\n",
       "    </tr>\n",
       "  </tbody>\n",
       "</table>\n",
       "<p>10233 rows × 11 columns</p>\n",
       "</div>"
      ],
      "text/plain": [
       "       year  mes             pais  area   budget  real  saldo  es_extrabudget  \\\n",
       "0      2020    1            Suiza     2     1125     0      0               0   \n",
       "1      2020    1          Francia     2    15000     0      0               0   \n",
       "2      2020    1          Polonia     2        0  1761      0               0   \n",
       "3      2020    1   United Kingdom     2        0     0      0               0   \n",
       "4      2020    1          Austria     3   107500     0      0               0   \n",
       "...     ...  ...              ...   ...      ...   ...    ...             ...   \n",
       "10228  2022   12  Republica Checa     2      200     0      0               0   \n",
       "10229  2022   12         Alemania     2    20672     0      0               0   \n",
       "10230  2022   12   United Kingdom     1    22000     0      0               1   \n",
       "10231  2022   12           España     1  1838610     0      0               0   \n",
       "10232  2022   12           Italia     2    14850     0      0               0   \n",
       "\n",
       "       gasto  budget_disponible imputacion  \n",
       "0         16                  1       Opex  \n",
       "1         11                  1      Capex  \n",
       "2          8                  0      Capex  \n",
       "3          8                  1      Capex  \n",
       "4         19                  1       Opex  \n",
       "...      ...                ...        ...  \n",
       "10228     16                  1       Opex  \n",
       "10229     13                  1       Opex  \n",
       "10230     13                  1      Capex  \n",
       "10231     13                  1      Capex  \n",
       "10232     19                  1       Opex  \n",
       "\n",
       "[10233 rows x 11 columns]"
      ]
     },
     "execution_count": 162,
     "metadata": {},
     "output_type": "execute_result"
    }
   ],
   "source": [
    "dfOut"
   ]
  },
  {
   "cell_type": "code",
   "execution_count": 160,
   "metadata": {},
   "outputs": [],
   "source": [
    "dfOut.to_csv('db/budget_limpio.csv')"
   ]
  },
  {
   "cell_type": "markdown",
   "metadata": {},
   "source": [
    "-----"
   ]
  },
  {
   "cell_type": "code",
   "execution_count": 161,
   "metadata": {},
   "outputs": [
    {
     "name": "stdout",
     "output_type": "stream",
     "text": [
      "year: {<class 'int'>}\n",
      "mes: {<class 'int'>}\n",
      "pais: {<class 'str'>}\n",
      "area: {<class 'int'>}\n",
      "budget: {<class 'int'>}\n",
      "real: {<class 'int'>}\n",
      "saldo: {<class 'int'>}\n",
      "es_extrabudget: {<class 'int'>}\n",
      "gasto: {<class 'int'>}\n",
      "budget_disponible: {<class 'int'>}\n",
      "imputacion: {<class 'str'>}\n"
     ]
    }
   ],
   "source": [
    "# Tipos de archivos unicos en todas las columans\n",
    "\n",
    "def CollumnTypes(var):\n",
    "    arr = []\n",
    "    for i in var:\n",
    "        arr.append(type(i))\n",
    "    \n",
    "    return arr\n",
    "\n",
    "for i in dfOut.columns:\n",
    "    print(f\"{i}: {set(CollumnTypes(dfOut[i]))}\")\n"
   ]
  }
 ],
 "metadata": {
  "kernelspec": {
   "display_name": "Python 3",
   "language": "python",
   "name": "python3"
  },
  "language_info": {
   "codemirror_mode": {
    "name": "ipython",
    "version": 3
   },
   "file_extension": ".py",
   "mimetype": "text/x-python",
   "name": "python",
   "nbconvert_exporter": "python",
   "pygments_lexer": "ipython3",
   "version": "3.8.10"
  },
  "vscode": {
   "interpreter": {
    "hash": "739695a17810dcc2258e33d3d16464e848f17cd0f5fd97e0997980ee9916ddb2"
   }
  }
 },
 "nbformat": 4,
 "nbformat_minor": 4
}
